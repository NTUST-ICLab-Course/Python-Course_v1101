{
 "cells": [
  {
   "cell_type": "markdown",
   "metadata": {},
   "source": [
    "# Corey Schafer Python OOP Tutorials \n",
    "# - Working with Classes 系列：\n",
    "## 一共有6集\n",
    "https://www.youtube.com/playlist?list=PL-osiE80TeTsqhIuOqKhwlXsIBIdSeYtc \n",
    "## Prof. Sheng-Luen Chung"
   ]
  },
  {
   "cell_type": "code",
   "execution_count": 1,
   "metadata": {},
   "outputs": [
    {
     "data": {
      "text/html": [
       "<iframe width=\"560\" height=\"315\" src=\"https://www.youtube.com/embed/videoseries?list=PL-osiE80TeTsqhIuOqKhwlXsIBIdSeYtc\" frameborder=\"0\" allow=\"accelerometer; autoplay; clipboard-write; encrypted-media; gyroscope; picture-in-picture\" allowfullscreen></iframe>\n"
      ],
      "text/plain": [
       "<IPython.core.display.HTML object>"
      ]
     },
     "metadata": {},
     "output_type": "display_data"
    }
   ],
   "source": [
    "%%HTML\n",
    "<iframe width=\"560\" height=\"315\" src=\"https://www.youtube.com/embed/videoseries?list=PL-osiE80TeTsqhIuOqKhwlXsIBIdSeYtc\" frameborder=\"0\" allow=\"accelerometer; autoplay; clipboard-write; encrypted-media; gyroscope; picture-in-picture\" allowfullscreen></iframe>"
   ]
  },
  {
   "cell_type": "markdown",
   "metadata": {},
   "source": [
    "這裏面主要說明物件導向編程最重要的幾個概念：\n",
    "\n",
    "+ object 與 class 的差別\n",
    "+ instance method\n",
    "+ instance variable and class variable\n",
    "+ class method and static method\n",
    "+ inheritance\n",
    "+ override in special methods\n",
    "+ property for getter and setter"
   ]
  },
  {
   "cell_type": "markdown",
   "metadata": {},
   "source": [
    "----"
   ]
  },
  {
   "cell_type": "markdown",
   "metadata": {},
   "source": [
    "(0)\tCorey Schafer 系列：一共有6集\n",
    "Python OOP Tutorials - Working with Classes\n",
    "https://www.youtube.com/playlist?list=PL-osiE80TeTsqhIuOqKhwlXsIBIdSeYtc \n",
    "\n",
    "---\n",
    "(1)\tClass and Instance：data (attribute) and function (method)\n",
    "Python OOP Tutorial 1: Classes and Instances\n",
    "https://www.youtube.com/watch?v=ZDa-Z5JzLYM&list=PL-osiE80TeTsqhIuOqKhwlXsIBIdSeYtc \n",
    "\n",
    "(2)\tClass variables：竟然 object 也可以改 class variable\n",
    "Python OOP Tutorial 2: Class Variables\n",
    "\n",
    "https://www.youtube.com/watch?v=BJ-VvGyQxho&list=PL-osiE80TeTsqhIuOqKhwlXsIBIdSeYtc&index=2\n",
    "\n",
    "(3)\tClass method and instance methods：在 Java裏只有 static method\n",
    "Python OOP Tutorial 3: classmethods and staticmethods\n",
    "\n",
    "https://www.youtube.com/watch?v=rq8cL2XMM5M&list=PL-osiE80TeTsqhIuOqKhwlXsIBIdSeYtc&index=3\n",
    "\n",
    "(4)\tSubclass：Python可以繼承兩個含以上的superclasses\n",
    "Python OOP Tutorial 4: Inheritance - Creating Subclasses\n",
    "\n",
    "https://www.youtube.com/watch?v=RSl87lqOXDE&list=PL-osiE80TeTsqhIuOqKhwlXsIBIdSeYtc&index=4\n",
    "\n",
    "(5)\tMagic/Dunder 我覺得就是 override 啦 \n",
    "Python OOP Tutorial 5: Special (Magic/Dunder) Methods\n",
    "https://www.youtube.com/watch?v=3ohzBxoFHAY&list=PL-osiE80TeTsqhIuOqKhwlXsIBIdSeYtc&index=5\n",
    "\n",
    "(6)\tGetter, @property, getter, deleter\n",
    "Python OOP Tutorial 6: Property Decorators - Getters, Setters, and Deleters\n",
    "https://www.youtube.com/watch?v=jCzT9XFZ5bw&list=PL-osiE80TeTsqhIuOqKhwlXsIBIdSeYtc&index=6\n"
   ]
  },
  {
   "cell_type": "markdown",
   "metadata": {},
   "source": [
    "## CoreyMSchafer/code_snippets\n",
    "\n",
    "以下所有的 code 都可以在這裏可以看得到：\n",
    "https://github.com/CoreyMSchafer/code_snippets/tree/master/Object-Oriented"
   ]
  },
  {
   "cell_type": "markdown",
   "metadata": {},
   "source": [
    "----"
   ]
  },
  {
   "cell_type": "markdown",
   "metadata": {},
   "source": [
    "## *Corey Schafer Python OOP Tutorial 1: Classes and Instances*\n",
    "(1) Class and Instance：data (attribute) and function (method)  \n",
    "\n",
    "https://www.youtube.com/watch?v=ZDa-Z5JzLYM&list=PL-osiE80TeTsqhIuOqKhwlXsIBIdSeYtc"
   ]
  },
  {
   "cell_type": "code",
   "execution_count": 2,
   "metadata": {},
   "outputs": [
    {
     "data": {
      "text/html": [
       "<iframe width=\"560\" height=\"315\" src=\"https://www.youtube.com/embed/ZDa-Z5JzLYM\" frameborder=\"0\" allow=\"accelerometer; autoplay; clipboard-write; encrypted-media; gyroscope; picture-in-picture\" allowfullscreen></iframe>\n"
      ],
      "text/plain": [
       "<IPython.core.display.HTML object>"
      ]
     },
     "metadata": {},
     "output_type": "display_data"
    }
   ],
   "source": [
    "%%HTML \n",
    "<iframe width=\"560\" height=\"315\" src=\"https://www.youtube.com/embed/ZDa-Z5JzLYM\" frameborder=\"0\" allow=\"accelerometer; autoplay; clipboard-write; encrypted-media; gyroscope; picture-in-picture\" allowfullscreen></iframe>"
   ]
  },
  {
   "cell_type": "markdown",
   "metadata": {},
   "source": [
    "----"
   ]
  },
  {
   "cell_type": "code",
   "execution_count": 53,
   "metadata": {},
   "outputs": [],
   "source": [
    "class Employee:\n",
    "    pass # 先沒定義要作什麼，這樣就可滿足宣告"
   ]
  },
  {
   "cell_type": "code",
   "execution_count": 54,
   "metadata": {},
   "outputs": [
    {
     "name": "stdout",
     "output_type": "stream",
     "text": [
      "<__main__.Employee object at 0x000001A72425B9B0>\n",
      "<__main__.Employee object at 0x000001A72425B908>\n"
     ]
    }
   ],
   "source": [
    "emp_1 = Employee()\n",
    "emp_2 = Employee()\n",
    "\n",
    "print(emp_1)\n",
    "print(emp_2)"
   ]
  },
  {
   "cell_type": "code",
   "execution_count": 55,
   "metadata": {},
   "outputs": [],
   "source": [
    "emp_1.first = \"Corey\"\n",
    "emp_1.last = \"Shafer\"\n",
    "emp_1.email = \"Corey.Shafer@company.com\"\n",
    "emp_1.pay = 50000\n",
    "\n",
    "emp_2.first = \"Test\"\n",
    "emp_2.last = \"User\"\n",
    "emp_2.email = \"Test.User@company.com\"\n",
    "emp_2.pay = 60000"
   ]
  },
  {
   "cell_type": "code",
   "execution_count": 56,
   "metadata": {},
   "outputs": [
    {
     "name": "stdout",
     "output_type": "stream",
     "text": [
      "Corey.Shafer@company.com\n",
      "Test.User@company.com\n"
     ]
    }
   ],
   "source": [
    "print(emp_1.email)\n",
    "print(emp_2.email)"
   ]
  },
  {
   "cell_type": "code",
   "execution_count": 57,
   "metadata": {},
   "outputs": [
    {
     "name": "stdout",
     "output_type": "stream",
     "text": [
      "Help on class Employee in module __main__:\n",
      "\n",
      "class Employee(builtins.object)\n",
      " |  Data descriptors defined here:\n",
      " |  \n",
      " |  __dict__\n",
      " |      dictionary for instance variables (if defined)\n",
      " |  \n",
      " |  __weakref__\n",
      " |      list of weak references to the object (if defined)\n",
      "\n"
     ]
    }
   ],
   "source": [
    "help(Employee)"
   ]
  },
  {
   "cell_type": "code",
   "execution_count": 58,
   "metadata": {},
   "outputs": [
    {
     "data": {
      "text/plain": [
       "mappingproxy({'__module__': '__main__',\n",
       "              '__dict__': <attribute '__dict__' of 'Employee' objects>,\n",
       "              '__weakref__': <attribute '__weakref__' of 'Employee' objects>,\n",
       "              '__doc__': None})"
      ]
     },
     "execution_count": 58,
     "metadata": {},
     "output_type": "execute_result"
    }
   ],
   "source": [
    "Employee.__dict__"
   ]
  },
  {
   "cell_type": "code",
   "execution_count": 59,
   "metadata": {},
   "outputs": [],
   "source": [
    "# 加上機個 instance attributes\n",
    "class Employee:\n",
    "    def __init__(self, first, last, pay): # constructor\n",
    "        self.first = first\n",
    "        self.last = last\n",
    "        self.pay = pay\n",
    "        self.email = first + \".\" + last + '@company.com'\n"
   ]
  },
  {
   "cell_type": "code",
   "execution_count": 60,
   "metadata": {},
   "outputs": [
    {
     "name": "stdout",
     "output_type": "stream",
     "text": [
      "Corey.Shafer@company.com\n",
      "Test.User@company.com\n"
     ]
    }
   ],
   "source": [
    "# instantiate\n",
    "emp_1 = Employee(\"Corey\", \"Shafer\", 50000)\n",
    "emp_2 = Employee(\"Test\", \"User\", 60000)\n",
    "\n",
    "print(emp_1.email)\n",
    "print(emp_2.email)"
   ]
  },
  {
   "cell_type": "code",
   "execution_count": 61,
   "metadata": {},
   "outputs": [
    {
     "name": "stdout",
     "output_type": "stream",
     "text": [
      "Corey Shafer\n",
      "Test User\n"
     ]
    }
   ],
   "source": [
    "print(\"{} {}\".format(emp_1.first, emp_1.last))\n",
    "print(\"{} {}\".format(emp_2.first, emp_2.last))\n"
   ]
  },
  {
   "cell_type": "code",
   "execution_count": 62,
   "metadata": {},
   "outputs": [],
   "source": [
    "# 加上另一個 instance method\n",
    "class Employee:\n",
    "    def __init__(self, first, last, pay):\n",
    "        self.first = first\n",
    "        self.last = last\n",
    "        self.pay = pay\n",
    "        self.email = first + \".\" + last + '@company.com'\n",
    "    def fullname(self):\n",
    "        return \"{} {}\".format(self.first, self.last)"
   ]
  },
  {
   "cell_type": "code",
   "execution_count": 63,
   "metadata": {},
   "outputs": [
    {
     "name": "stdout",
     "output_type": "stream",
     "text": [
      "Corey.Shafer@company.com\n",
      "Test.User@company.com\n"
     ]
    }
   ],
   "source": [
    "emp_1 = Employee(\"Corey\", \"Shafer\", 50000)\n",
    "emp_2 = Employee(\"Test\", \"User\", 60000)\n",
    "\n",
    "print(emp_1.email)\n",
    "print(emp_2.email)"
   ]
  },
  {
   "cell_type": "code",
   "execution_count": 14,
   "metadata": {},
   "outputs": [
    {
     "data": {
      "text/plain": [
       "mappingproxy({'__module__': '__main__',\n",
       "              '__init__': <function __main__.Employee.__init__(self, first, last, pay)>,\n",
       "              'fullname': <function __main__.Employee.fullname(self)>,\n",
       "              '__dict__': <attribute '__dict__' of 'Employee' objects>,\n",
       "              '__weakref__': <attribute '__weakref__' of 'Employee' objects>,\n",
       "              '__doc__': None})"
      ]
     },
     "execution_count": 14,
     "metadata": {},
     "output_type": "execute_result"
    }
   ],
   "source": [
    "Employee.__dict__"
   ]
  },
  {
   "cell_type": "markdown",
   "metadata": {},
   "source": [
    "↑ 沒辦法看出 instance attributes"
   ]
  },
  {
   "cell_type": "code",
   "execution_count": 64,
   "metadata": {},
   "outputs": [
    {
     "data": {
      "text/plain": [
       "{'first': 'Corey',\n",
       " 'last': 'Shafer',\n",
       " 'pay': 50000,\n",
       " 'email': 'Corey.Shafer@company.com'}"
      ]
     },
     "execution_count": 64,
     "metadata": {},
     "output_type": "execute_result"
    }
   ],
   "source": [
    "emp_1.__dict__"
   ]
  },
  {
   "cell_type": "code",
   "execution_count": 65,
   "metadata": {},
   "outputs": [
    {
     "name": "stdout",
     "output_type": "stream",
     "text": [
      "Corey.Shafer@company.com\n",
      "Test.User@company.com\n",
      "Corey Shafer\n",
      "<bound method Employee.fullname of <__main__.Employee object at 0x000001A72425BF60>>\n"
     ]
    }
   ],
   "source": [
    "print(emp_1.email)\n",
    "print(emp_2.email)\n",
    "print(emp_1.fullname())\n",
    "print(emp_1.fullname)"
   ]
  },
  {
   "cell_type": "code",
   "execution_count": 66,
   "metadata": {},
   "outputs": [
    {
     "name": "stdout",
     "output_type": "stream",
     "text": [
      "Test User\n"
     ]
    }
   ],
   "source": [
    "print(emp_2.fullname())"
   ]
  },
  {
   "cell_type": "code",
   "execution_count": 67,
   "metadata": {},
   "outputs": [
    {
     "data": {
      "text/plain": [
       "'Corey Shafer'"
      ]
     },
     "execution_count": 67,
     "metadata": {},
     "output_type": "execute_result"
    }
   ],
   "source": [
    "# 解譯在 instance method 中帶入第一個參數 self\n",
    "emp_1.fullname()"
   ]
  },
  {
   "cell_type": "code",
   "execution_count": 68,
   "metadata": {},
   "outputs": [
    {
     "data": {
      "text/plain": [
       "'Corey Shafer'"
      ]
     },
     "execution_count": 68,
     "metadata": {},
     "output_type": "execute_result"
    }
   ],
   "source": [
    "Employee.fullname(emp_1) # 呼叫 instance 的另一種方法，其實是實際執行的步驟"
   ]
  },
  {
   "cell_type": "code",
   "execution_count": 69,
   "metadata": {},
   "outputs": [
    {
     "name": "stdout",
     "output_type": "stream",
     "text": [
      "Corey Shafer\n",
      "Corey Shafer\n"
     ]
    }
   ],
   "source": [
    "# 解譯在 instance method 中帶入第一個參數 self\n",
    "print(emp_1.fullname())\n",
    "print(Employee.fullname(emp_1)) # 呼叫 instance 的另一種方法，其實是實際執行的步驟"
   ]
  },
  {
   "cell_type": "markdown",
   "metadata": {},
   "source": [
    "-------------------\n"
   ]
  },
  {
   "cell_type": "markdown",
   "metadata": {},
   "source": [
    "## CoreyMSchafer/code_snippets\n",
    "所有的 code 在這裏可以看得到\n",
    "https://github.com/CoreyMSchafer/code_snippets/tree/master/Object-Oriented"
   ]
  },
  {
   "cell_type": "code",
   "execution_count": 20,
   "metadata": {},
   "outputs": [],
   "source": [
    "class Employee:\n",
    "\n",
    "    def __init__(self, first, last, pay):\n",
    "        self.first = first\n",
    "        self.last = last\n",
    "        self.email = first + '.' + last + '@email.com'\n",
    "        self.pay = pay\n",
    "\n",
    "    def fullname(self):\n",
    "        return '{} {}'.format(self.first, self.last)\n",
    "\n",
    "emp_1 = Employee('Corey', 'Schafer', 50000)\n",
    "emp_2 = Employee('Test', 'Employee', 60000)"
   ]
  },
  {
   "cell_type": "code",
   "execution_count": 21,
   "metadata": {},
   "outputs": [
    {
     "name": "stdout",
     "output_type": "stream",
     "text": [
      "{'__module__': '__main__', '__init__': <function Employee.__init__ at 0x000001A72418DBF8>, 'fullname': <function Employee.fullname at 0x000001A72418DB70>, '__dict__': <attribute '__dict__' of 'Employee' objects>, '__weakref__': <attribute '__weakref__' of 'Employee' objects>, '__doc__': None}\n"
     ]
    }
   ],
   "source": [
    "print(Employee.__dict__)"
   ]
  },
  {
   "cell_type": "markdown",
   "metadata": {},
   "source": [
    "---"
   ]
  },
  {
   "cell_type": "markdown",
   "metadata": {},
   "source": [
    "## *Corey Schafer Python OOP Tutorial 2: Class Variables*\n",
    "\n",
    "(2) Class variables：竟然 object 也可以改 class variable\n",
    "https://www.youtube.com/watch?v=BJ-VvGyQxho&list=PL-osiE80TeTsqhIuOqKhwlXsIBIdSeYtc&index=2"
   ]
  },
  {
   "cell_type": "code",
   "execution_count": 22,
   "metadata": {},
   "outputs": [
    {
     "data": {
      "text/html": [
       "<iframe width=\"560\" height=\"315\" src=\"https://www.youtube.com/embed/BJ-VvGyQxho\" frameborder=\"0\" allow=\"accelerometer; autoplay; clipboard-write; encrypted-media; gyroscope; picture-in-picture\" allowfullscreen></iframe>\n"
      ],
      "text/plain": [
       "<IPython.core.display.HTML object>"
      ]
     },
     "metadata": {},
     "output_type": "display_data"
    }
   ],
   "source": [
    "%%HTML\n",
    "<iframe width=\"560\" height=\"315\" src=\"https://www.youtube.com/embed/BJ-VvGyQxho\" frameborder=\"0\" allow=\"accelerometer; autoplay; clipboard-write; encrypted-media; gyroscope; picture-in-picture\" allowfullscreen></iframe>"
   ]
  },
  {
   "cell_type": "markdown",
   "metadata": {},
   "source": [
    "---"
   ]
  },
  {
   "cell_type": "code",
   "execution_count": 70,
   "metadata": {},
   "outputs": [],
   "source": [
    "class Employee:\n",
    "\n",
    "    def __init__(self, first, last, pay):\n",
    "        self.first = first\n",
    "        self.last = last\n",
    "        self.email = first + '.' + last + '@email.com'\n",
    "        self.pay = pay\n",
    "\n",
    "    def fullname(self):\n",
    "        return '{} {}'.format(self.first, self.last)\n",
    "\n",
    "emp_1 = Employee('Corey', 'Schafer', 50000)\n",
    "emp_2 = Employee('Test', 'User', 60000)"
   ]
  },
  {
   "cell_type": "code",
   "execution_count": 71,
   "metadata": {},
   "outputs": [
    {
     "name": "stdout",
     "output_type": "stream",
     "text": [
      "50000\n",
      "52000\n"
     ]
    }
   ],
   "source": [
    "class Employee:\n",
    "\n",
    "    def __init__(self, first, last, pay):\n",
    "        self.first = first\n",
    "        self.last = last\n",
    "        self.email = first + '.' + last + '@email.com'\n",
    "        self.pay = pay\n",
    "\n",
    "    def fullname(self):\n",
    "        return '{} {}'.format(self.first, self.last)\n",
    "    \n",
    "    def apply_raise(self):\n",
    "        self.pay = int(self.pay * 1.04)\n",
    "        \n",
    "emp_1 = Employee('Corey', 'Schafer', 50000)\n",
    "emp_2 = Employee('Test', 'User', 60000)\n",
    "\n",
    "print(emp_1.pay)\n",
    "emp_1.apply_raise()\n",
    "print(emp_1.pay)"
   ]
  },
  {
   "cell_type": "code",
   "execution_count": 72,
   "metadata": {},
   "outputs": [
    {
     "name": "stdout",
     "output_type": "stream",
     "text": [
      "50000\n"
     ]
    },
    {
     "ename": "NameError",
     "evalue": "name 'raise_amount' is not defined",
     "output_type": "error",
     "traceback": [
      "\u001b[1;31m---------------------------------------------------------------------------\u001b[0m",
      "\u001b[1;31mNameError\u001b[0m                                 Traceback (most recent call last)",
      "\u001b[1;32m<ipython-input-72-8b94430eb06f>\u001b[0m in \u001b[0;36m<module>\u001b[1;34m\u001b[0m\n\u001b[0;32m     19\u001b[0m \u001b[1;33m\u001b[0m\u001b[0m\n\u001b[0;32m     20\u001b[0m \u001b[0mprint\u001b[0m\u001b[1;33m(\u001b[0m\u001b[0memp_1\u001b[0m\u001b[1;33m.\u001b[0m\u001b[0mpay\u001b[0m\u001b[1;33m)\u001b[0m\u001b[1;33m\u001b[0m\u001b[1;33m\u001b[0m\u001b[0m\n\u001b[1;32m---> 21\u001b[1;33m \u001b[0memp_1\u001b[0m\u001b[1;33m.\u001b[0m\u001b[0mapply_raise\u001b[0m\u001b[1;33m(\u001b[0m\u001b[1;33m)\u001b[0m\u001b[1;33m\u001b[0m\u001b[1;33m\u001b[0m\u001b[0m\n\u001b[0m\u001b[0;32m     22\u001b[0m \u001b[0mprint\u001b[0m\u001b[1;33m(\u001b[0m\u001b[0memp_1\u001b[0m\u001b[1;33m.\u001b[0m\u001b[0mpay\u001b[0m\u001b[1;33m)\u001b[0m\u001b[1;33m\u001b[0m\u001b[1;33m\u001b[0m\u001b[0m\n",
      "\u001b[1;32m<ipython-input-72-8b94430eb06f>\u001b[0m in \u001b[0;36mapply_raise\u001b[1;34m(self)\u001b[0m\n\u001b[0;32m     13\u001b[0m \u001b[1;33m\u001b[0m\u001b[0m\n\u001b[0;32m     14\u001b[0m     \u001b[1;32mdef\u001b[0m \u001b[0mapply_raise\u001b[0m\u001b[1;33m(\u001b[0m\u001b[0mself\u001b[0m\u001b[1;33m)\u001b[0m\u001b[1;33m:\u001b[0m\u001b[1;33m\u001b[0m\u001b[1;33m\u001b[0m\u001b[0m\n\u001b[1;32m---> 15\u001b[1;33m         \u001b[0mself\u001b[0m\u001b[1;33m.\u001b[0m\u001b[0mpay\u001b[0m \u001b[1;33m=\u001b[0m \u001b[0mint\u001b[0m\u001b[1;33m(\u001b[0m\u001b[0mself\u001b[0m\u001b[1;33m.\u001b[0m\u001b[0mpay\u001b[0m \u001b[1;33m*\u001b[0m \u001b[0mraise_amount\u001b[0m\u001b[1;33m)\u001b[0m  \u001b[1;31m# 要加上 class 名稱 Employee\u001b[0m\u001b[1;33m\u001b[0m\u001b[1;33m\u001b[0m\u001b[0m\n\u001b[0m\u001b[0;32m     16\u001b[0m \u001b[1;33m\u001b[0m\u001b[0m\n\u001b[0;32m     17\u001b[0m \u001b[0memp_1\u001b[0m \u001b[1;33m=\u001b[0m \u001b[0mEmployee\u001b[0m\u001b[1;33m(\u001b[0m\u001b[1;34m'Corey'\u001b[0m\u001b[1;33m,\u001b[0m \u001b[1;34m'Schafer'\u001b[0m\u001b[1;33m,\u001b[0m \u001b[1;36m50000\u001b[0m\u001b[1;33m)\u001b[0m\u001b[1;33m\u001b[0m\u001b[1;33m\u001b[0m\u001b[0m\n",
      "\u001b[1;31mNameError\u001b[0m: name 'raise_amount' is not defined"
     ]
    }
   ],
   "source": [
    "# class attribute \n",
    "class Employee:\n",
    "    raise_amount = 1.04  # 這是給整個 class (所洐生出來的 object) 共用的\n",
    "    \n",
    "    def __init__(self, first, last, pay):\n",
    "        self.first = first\n",
    "        self.last = last\n",
    "        self.email = first + '.' + last + '@email.com'\n",
    "        self.pay = pay\n",
    "\n",
    "    def fullname(self):\n",
    "        return '{} {}'.format(self.first, self.last)\n",
    "    \n",
    "    def apply_raise(self):\n",
    "        self.pay = int(self.pay * raise_amount)  # 要加上 class 名稱 Employee\n",
    "        \n",
    "emp_1 = Employee('Corey', 'Schafer', 50000)\n",
    "emp_2 = Employee('Test', 'User', 60000)\n",
    "\n",
    "print(emp_1.pay)\n",
    "emp_1.apply_raise()\n",
    "print(emp_1.pay)"
   ]
  },
  {
   "cell_type": "code",
   "execution_count": 73,
   "metadata": {},
   "outputs": [
    {
     "name": "stdout",
     "output_type": "stream",
     "text": [
      "50000\n",
      "52000\n"
     ]
    }
   ],
   "source": [
    "class Employee:\n",
    "    raise_amount = 1.04\n",
    "    \n",
    "    def __init__(self, first, last, pay):\n",
    "        self.first = first\n",
    "        self.last = last\n",
    "        self.email = first + '.' + last + '@email.com'\n",
    "        self.pay = pay\n",
    "\n",
    "    def fullname(self):\n",
    "        return '{} {}'.format(self.first, self.last)\n",
    "    \n",
    "    def apply_raise(self):\n",
    "        self.pay = int(self.pay * Employee.raise_amount)  # 修改後\n",
    "        \n",
    "emp_1 = Employee('Corey', 'Schafer', 50000)\n",
    "emp_2 = Employee('Test', 'User', 60000)\n",
    "\n",
    "print(emp_1.pay)\n",
    "emp_1.apply_raise()\n",
    "print(emp_1.pay)"
   ]
  },
  {
   "cell_type": "code",
   "execution_count": 74,
   "metadata": {},
   "outputs": [
    {
     "data": {
      "text/plain": [
       "mappingproxy({'__module__': '__main__',\n",
       "              'raise_amount': 1.04,\n",
       "              '__init__': <function __main__.Employee.__init__(self, first, last, pay)>,\n",
       "              'fullname': <function __main__.Employee.fullname(self)>,\n",
       "              'apply_raise': <function __main__.Employee.apply_raise(self)>,\n",
       "              '__dict__': <attribute '__dict__' of 'Employee' objects>,\n",
       "              '__weakref__': <attribute '__weakref__' of 'Employee' objects>,\n",
       "              '__doc__': None})"
      ]
     },
     "execution_count": 74,
     "metadata": {},
     "output_type": "execute_result"
    }
   ],
   "source": [
    "Employee.__dict__"
   ]
  },
  {
   "cell_type": "code",
   "execution_count": 75,
   "metadata": {},
   "outputs": [
    {
     "data": {
      "text/plain": [
       "{'first': 'Corey',\n",
       " 'last': 'Schafer',\n",
       " 'email': 'Corey.Schafer@email.com',\n",
       " 'pay': 52000}"
      ]
     },
     "execution_count": 75,
     "metadata": {},
     "output_type": "execute_result"
    }
   ],
   "source": [
    "emp_1.__dict__"
   ]
  },
  {
   "cell_type": "code",
   "execution_count": 76,
   "metadata": {},
   "outputs": [
    {
     "name": "stdout",
     "output_type": "stream",
     "text": [
      "1.04\n",
      "1.04\n",
      "1.04\n"
     ]
    }
   ],
   "source": [
    "# Class variable 竟也可以經由 instance 讀出來，並且個別修改 (但不反應在其他的 instance)\n",
    "print(Employee.raise_amount)\n",
    "print(emp_1.raise_amount)\n",
    "print(emp_2.raise_amount)"
   ]
  },
  {
   "cell_type": "code",
   "execution_count": 77,
   "metadata": {},
   "outputs": [
    {
     "name": "stdout",
     "output_type": "stream",
     "text": [
      "{'first': 'Corey', 'last': 'Schafer', 'email': 'Corey.Schafer@email.com', 'pay': 52000}\n"
     ]
    }
   ],
   "source": [
    "print(emp_1.__dict__)"
   ]
  },
  {
   "cell_type": "code",
   "execution_count": 78,
   "metadata": {},
   "outputs": [
    {
     "name": "stdout",
     "output_type": "stream",
     "text": [
      "{'__module__': '__main__', 'raise_amount': 1.04, '__init__': <function Employee.__init__ at 0x000001A725EA29D8>, 'fullname': <function Employee.fullname at 0x000001A725EA2598>, 'apply_raise': <function Employee.apply_raise at 0x000001A725EA26A8>, '__dict__': <attribute '__dict__' of 'Employee' objects>, '__weakref__': <attribute '__weakref__' of 'Employee' objects>, '__doc__': None}\n"
     ]
    }
   ],
   "source": [
    "# 用 print() 與主接印出來，不一樣：用 print() 還會有貯存的地址\n",
    "print(Employee.__dict__)"
   ]
  },
  {
   "cell_type": "code",
   "execution_count": 79,
   "metadata": {},
   "outputs": [
    {
     "name": "stdout",
     "output_type": "stream",
     "text": [
      "1.05\n",
      "1.05\n",
      "1.05\n"
     ]
    }
   ],
   "source": [
    "# 可以透過指定 class attribute 全部更新所有已經宣告的 object\n",
    "Employee.raise_amount = 1.05\n",
    "print(Employee.raise_amount)\n",
    "print(emp_1.raise_amount)\n",
    "print(emp_2.raise_amount)\n",
    "# 但~"
   ]
  },
  {
   "cell_type": "code",
   "execution_count": 80,
   "metadata": {},
   "outputs": [
    {
     "name": "stdout",
     "output_type": "stream",
     "text": [
      "1.05\n",
      "1.04\n",
      "1.05\n"
     ]
    }
   ],
   "source": [
    "# 意然 emp_1 可以自行修改屬於他的 attribute\n",
    "emp_1.raise_amount = 1.04 \n",
    "print(Employee.raise_amount)\n",
    "print(emp_1.raise_amount)\n",
    "print(emp_2.raise_amount)"
   ]
  },
  {
   "cell_type": "code",
   "execution_count": 81,
   "metadata": {},
   "outputs": [
    {
     "data": {
      "text/plain": [
       "{'first': 'Corey',\n",
       " 'last': 'Schafer',\n",
       " 'email': 'Corey.Schafer@email.com',\n",
       " 'pay': 52000,\n",
       " 'raise_amount': 1.04}"
      ]
     },
     "execution_count": 81,
     "metadata": {},
     "output_type": "execute_result"
    }
   ],
   "source": [
    "emp_1.__dict__"
   ]
  },
  {
   "cell_type": "code",
   "execution_count": 82,
   "metadata": {},
   "outputs": [
    {
     "name": "stdout",
     "output_type": "stream",
     "text": [
      "1.06\n",
      "1.04\n",
      "1.06\n"
     ]
    }
   ],
   "source": [
    "# 這時再透過指定 class attribute，發現：\n",
    "Employee.raise_amount = 1.06\n",
    "print(Employee.raise_amount)\n",
    "print(emp_1.raise_amount)\n",
    "print(emp_2.raise_amount)\n",
    "# 除了剛剛自己「自立門戶」的 emp_1之外，其他的已經宣告的 object 仍全部跟著更新"
   ]
  },
  {
   "cell_type": "code",
   "execution_count": 83,
   "metadata": {},
   "outputs": [
    {
     "data": {
      "text/plain": [
       "{'first': 'Corey',\n",
       " 'last': 'Schafer',\n",
       " 'email': 'Corey.Schafer@email.com',\n",
       " 'pay': 52000,\n",
       " 'raise_amount': 1.04}"
      ]
     },
     "execution_count": 83,
     "metadata": {},
     "output_type": "execute_result"
    }
   ],
   "source": [
    "emp_1.__dict__"
   ]
  },
  {
   "cell_type": "code",
   "execution_count": 84,
   "metadata": {},
   "outputs": [
    {
     "data": {
      "text/plain": [
       "{'first': 'Test', 'last': 'User', 'email': 'Test.User@email.com', 'pay': 60000}"
      ]
     },
     "execution_count": 84,
     "metadata": {},
     "output_type": "execute_result"
    }
   ],
   "source": [
    "emp_2.__dict__"
   ]
  },
  {
   "cell_type": "code",
   "execution_count": 85,
   "metadata": {},
   "outputs": [
    {
     "name": "stdout",
     "output_type": "stream",
     "text": [
      "50000\n",
      "55000\n",
      "60000\n",
      "62400\n"
     ]
    }
   ],
   "source": [
    "'''\n",
    "雖然這個 class 有宣告 class attribute，\n",
    "但允許使用 instance attribute 的個別性。\n",
    "注意以下 emp_1.raise_amount 的新設定。\n",
    "'''\n",
    "class Employee:\n",
    "    raise_amount = 1.04\n",
    "    \n",
    "    def __init__(self, first, last, pay):\n",
    "        self.first = first\n",
    "        self.last = last\n",
    "        self.email = first + '.' + last + '@email.com'\n",
    "        self.pay = pay\n",
    "\n",
    "    def fullname(self):\n",
    "        return '{} {}'.format(self.first, self.last)\n",
    "    \n",
    "    def apply_raise(self):\n",
    "        self.pay = int(self.pay * self.raise_amount) # 雖然是 Class attribure，但這個用 self 較彈性\n",
    "        \n",
    "emp_1 = Employee('Corey', 'Schafer', 50000)\n",
    "emp_2 = Employee('Test', 'User', 60000)\n",
    "\n",
    "emp_1.raise_amount = 1.10 # 注意原本整個 class attribute 是 1.04\n",
    "print(emp_1.pay)\n",
    "emp_1.apply_raise()\n",
    "print(emp_1.pay)\n",
    "\n",
    "print(emp_2.pay)\n",
    "emp_2.apply_raise()\n",
    "print(emp_2.pay)"
   ]
  },
  {
   "cell_type": "code",
   "execution_count": 86,
   "metadata": {},
   "outputs": [
    {
     "name": "stdout",
     "output_type": "stream",
     "text": [
      "0\n",
      "2\n"
     ]
    }
   ],
   "source": [
    "'''\n",
    "另外加一個 class attribute: num_of_emps 用來記錄到員工編號。\n",
    "或是說一共新增了多少員工。\n",
    "這裏沒有 class attribute →  instance attribute 的問題，\n",
    "就是當作整個 class 的「共同記憶」。\n",
    "'''\n",
    "class Employee:\n",
    "    \n",
    "    num_of_emps = 0 # 就是這個員工數\n",
    "    raise_amount = 1.04\n",
    "    \n",
    "    def __init__(self, first, last, pay):\n",
    "        self.first = first\n",
    "        self.last = last\n",
    "        self.email = first + '.' + last + '@email.com'\n",
    "        self.pay = pay\n",
    "        \n",
    "        Employee.num_of_emps +=1 # 每次增加一名僱員就加1\n",
    "\n",
    "    def fullname(self):\n",
    "        return '{} {}'.format(self.first, self.last)\n",
    "    \n",
    "    def apply_raise(self):\n",
    "        self.pay = int(self.pay * self.raise_amount) # 雖然是 Class attribure，但這個用 self 較彈性\n",
    "    \n",
    "print(Employee.num_of_emps)\n",
    "\n",
    "emp_1 = Employee('Corey', 'Schafer', 50000)\n",
    "emp_2 = Employee('Test', 'User', 60000)\n",
    "\n",
    "print(Employee.num_of_emps)\n",
    "# print(emp_1.raise_amount)\n",
    "# print(emp_2.raise_amount)"
   ]
  },
  {
   "cell_type": "code",
   "execution_count": 40,
   "metadata": {},
   "outputs": [],
   "source": [
    "# 這是最開始的 snippets\n",
    "class Employee:\n",
    "\n",
    "    def __init__(self, first, last, pay):\n",
    "        self.first = first\n",
    "        self.last = last\n",
    "        self.email = first + '.' + last + '@email.com'\n",
    "        self.pay = pay\n",
    "\n",
    "    def fullname(self):\n",
    "        return '{} {}'.format(self.first, self.last)\n",
    "\n",
    "emp_1 = Employee('Corey', 'Schafer', 50000)\n",
    "emp_2 = Employee('Test', 'User', 60000)"
   ]
  },
  {
   "cell_type": "markdown",
   "metadata": {},
   "source": [
    "---"
   ]
  },
  {
   "cell_type": "markdown",
   "metadata": {},
   "source": [
    "## *Corey Schafer Python OOP Tutorial 3: class methods and static methods*\n",
    "(3)\tClass method and instance methods：在 Java裏只有 static method\n",
    "https://www.youtube.com/watch?v=rq8cL2XMM5M&list=PL-osiE80TeTsqhIuOqKhwlXsIBIdSeYtc&index=3"
   ]
  },
  {
   "cell_type": "code",
   "execution_count": 41,
   "metadata": {},
   "outputs": [
    {
     "data": {
      "text/html": [
       "<iframe width=\"560\" height=\"315\" src=\"https://www.youtube.com/embed/rq8cL2XMM5M\" frameborder=\"0\" allow=\"accelerometer; autoplay; clipboard-write; encrypted-media; gyroscope; picture-in-picture\" allowfullscreen></iframe>\n"
      ],
      "text/plain": [
       "<IPython.core.display.HTML object>"
      ]
     },
     "metadata": {},
     "output_type": "display_data"
    }
   ],
   "source": [
    "%%HTML\n",
    "<iframe width=\"560\" height=\"315\" src=\"https://www.youtube.com/embed/rq8cL2XMM5M\" frameborder=\"0\" allow=\"accelerometer; autoplay; clipboard-write; encrypted-media; gyroscope; picture-in-picture\" allowfullscreen></iframe>"
   ]
  },
  {
   "cell_type": "markdown",
   "metadata": {},
   "source": [
    "---"
   ]
  },
  {
   "cell_type": "code",
   "execution_count": 87,
   "metadata": {},
   "outputs": [
    {
     "name": "stdout",
     "output_type": "stream",
     "text": [
      "1.04\n",
      "1.04\n",
      "1.04\n"
     ]
    }
   ],
   "source": [
    "'''\n",
    "instance method，到目前為止，我們所看到的 method 是\n",
    "給按這 class instantiate 之後的各 object 用的。\n",
    "但，我們現在要定義一個給整個 class 用的，\n",
    "這在 Java 語言的概念中，就是所謂的 static method，\n",
    "它在調用是要用：Class.classMethod() 的方式來調動。\n",
    "\n",
    "但在 Python中，\n",
    "要在 method 的宣告前，加上：decorator @classmethod\n",
    "'''\n",
    "class Employee:\n",
    "    \n",
    "    num_of_emps = 0\n",
    "    raise_amount = 1.04\n",
    "    \n",
    "    def __init__(self, first, last, pay):\n",
    "        self.first = first\n",
    "        self.last = last\n",
    "        self.email = first + '.' + last + '@email.com'\n",
    "        self.pay = pay\n",
    "        \n",
    "        Employee.num_of_emps +=1 # 每次增加一名僱員就加1\n",
    "\n",
    "    def fullname(self):\n",
    "        return '{} {}'.format(self.first, self.last)\n",
    "    \n",
    "    def apply_raise(self):\n",
    "        self.pay = int(self.pay * self.raise_amount) # 雖然是 Class attribure，但這個用 self 較彈性\n",
    "\n",
    "    # 以下的定義是新的，注意有用到 cls 指的是 class\n",
    "    @classmethod\n",
    "    def set_raise_amt(cls, amount):\n",
    "        cls.raise_amount = amount\n",
    "    \n",
    "emp_1 = Employee('Corey', 'Schafer', 50000)\n",
    "emp_2 = Employee('Test', 'User', 60000)\n",
    "\n",
    "print(Employee.raise_amount)\n",
    "print(emp_1.raise_amount)\n",
    "print(emp_2.raise_amount)\n",
    "        "
   ]
  },
  {
   "cell_type": "code",
   "execution_count": 88,
   "metadata": {},
   "outputs": [
    {
     "name": "stdout",
     "output_type": "stream",
     "text": [
      "1.05\n",
      "1.05\n",
      "1.05\n"
     ]
    }
   ],
   "source": [
    "class Employee:\n",
    "    \n",
    "    num_of_emps = 0\n",
    "    raise_amount = 1.04\n",
    "    \n",
    "    def __init__(self, first, last, pay):\n",
    "        self.first = first\n",
    "        self.last = last\n",
    "        self.email = first + '.' + last + '@email.com'\n",
    "        self.pay = pay\n",
    "        \n",
    "        Employee.num_of_emps +=1 # 每次增加一名僱員就加1\n",
    "\n",
    "    def fullname(self):\n",
    "        return '{} {}'.format(self.first, self.last)\n",
    "    \n",
    "    def apply_raise(self):\n",
    "        self.pay = int(self.pay * self.raise_amount) # 雖然是 Class attribure，但這個用 self 較彈性\n",
    "    \n",
    "    @classmethod  # 這是新訂義的 class methods\n",
    "    def set_raise_amt(cls, amount):\n",
    "        cls.raise_amount = amount\n",
    "    \n",
    "emp_1 = Employee('Corey', 'Schafer', 50000)\n",
    "emp_2 = Employee('Test', 'User', 60000)\n",
    "\n",
    "Employee.set_raise_amt(1.05) # 整個 class 一致的數額\n",
    "\n",
    "print(Employee.raise_amount)\n",
    "print(emp_1.raise_amount)\n",
    "print(emp_2.raise_amount)"
   ]
  },
  {
   "cell_type": "code",
   "execution_count": 90,
   "metadata": {},
   "outputs": [
    {
     "data": {
      "text/plain": [
       "mappingproxy({'__module__': '__main__',\n",
       "              'num_of_emps': 2,\n",
       "              'raise_amount': 1.05,\n",
       "              '__init__': <function __main__.Employee.__init__(self, first, last, pay)>,\n",
       "              'fullname': <function __main__.Employee.fullname(self)>,\n",
       "              'apply_raise': <function __main__.Employee.apply_raise(self)>,\n",
       "              'set_raise_amt': <classmethod at 0x1a725f570b8>,\n",
       "              '__dict__': <attribute '__dict__' of 'Employee' objects>,\n",
       "              '__weakref__': <attribute '__weakref__' of 'Employee' objects>,\n",
       "              '__doc__': None})"
      ]
     },
     "execution_count": 90,
     "metadata": {},
     "output_type": "execute_result"
    }
   ],
   "source": [
    "# 注意看：'set_raise_amt': <classmethod at 0x24d7d0dddc8>\n",
    "Employee.__dict__"
   ]
  },
  {
   "cell_type": "code",
   "execution_count": null,
   "metadata": {},
   "outputs": [],
   "source": []
  },
  {
   "cell_type": "code",
   "execution_count": 92,
   "metadata": {},
   "outputs": [
    {
     "name": "stdout",
     "output_type": "stream",
     "text": [
      "1.04\n",
      "1.04\n",
      "1.04\n",
      "We have emp_1 calls the class method, and to see ...\n",
      "1.05\n",
      "1.05\n",
      "1.05\n"
     ]
    }
   ],
   "source": [
    "# instance 也可以執行 class method\n",
    "class Employee:\n",
    "    \n",
    "    num_of_emps = 0\n",
    "    raise_amount = 1.04\n",
    "    \n",
    "    def __init__(self, first, last, pay):\n",
    "        self.first = first\n",
    "        self.last = last\n",
    "        self.email = first + '.' + last + '@email.com'\n",
    "        self.pay = pay\n",
    "        \n",
    "        Employee.num_of_emps +=1 # 每次增加一名僱員就加1\n",
    "\n",
    "    def fullname(self):\n",
    "        return '{} {}'.format(self.first, self.last)\n",
    "    \n",
    "    def apply_raise(self):\n",
    "        self.pay = int(self.pay * self.raise_amount) # 雖然是 Class attribure，但這個用 self 較彈性\n",
    "    \n",
    "    @classmethod\n",
    "    def set_raise_amt(cls, amount):\n",
    "        cls.raise_amount = amount\n",
    "    \n",
    "emp_1 = Employee('Corey', 'Schafer', 50000)\n",
    "emp_2 = Employee('Test', 'User', 60000)\n",
    "\n",
    "print(Employee.raise_amount)\n",
    "print(emp_1.raise_amount)\n",
    "print(emp_2.raise_amount)\n",
    "\n",
    "emp_1.set_raise_amt(1.05) # 竟然，竟然一個 instance 改以幫整個 class 改？！\n",
    "print(\"We have emp_1 calls the class method, and to see ...\")\n",
    "\n",
    "print(Employee.raise_amount)\n",
    "print(emp_1.raise_amount)\n",
    "print(emp_2.raise_amount)\n"
   ]
  },
  {
   "cell_type": "code",
   "execution_count": null,
   "metadata": {},
   "outputs": [],
   "source": [
    "# 利用 class method 來替代 constructor\n",
    "class Employee:\n",
    "    \n",
    "    num_of_emps = 0\n",
    "    raise_amount = 1.04\n",
    "    \n",
    "    def __init__(self, first, last, pay):\n",
    "        self.first = first\n",
    "        self.last = last\n",
    "        self.email = first + '.' + last + '@email.com'\n",
    "        self.pay = pay\n",
    "        \n",
    "        Employee.num_of_emps +=1 # 每次增加一名僱員就加1\n",
    "\n",
    "    def fullname(self):\n",
    "        return '{} {}'.format(self.first, self.last)\n",
    "    \n",
    "    def apply_raise(self):\n",
    "        self.pay = int(self.pay * self.raise_amount) # 雖然是 Class attribure，但這個用 self 較彈性\n",
    "    \n",
    "    @classmethod\n",
    "    def set_raise_amt(cls, amount):\n",
    "        cls.raise_amount = amount\n",
    "    \n",
    "emp_1 = Employee('Corey', 'Schafer', 50000)\n",
    "emp_2 = Employee('Test', 'User', 60000)"
   ]
  },
  {
   "cell_type": "code",
   "execution_count": 93,
   "metadata": {},
   "outputs": [
    {
     "name": "stdout",
     "output_type": "stream",
     "text": [
      "John.Doe@email.com\n",
      "70000\n"
     ]
    }
   ],
   "source": [
    "emp_str_1 = 'John-Doe-70000'      # 將原本要 __init__(first, last, pay) 的三參數用 \"-\"}\" 蜶在一起\n",
    "emp_str_2 = 'Steve-Smith-30000'\n",
    "emp_str_3 = 'Jane-Doe-90000'\n",
    "\n",
    "first, last, pay = emp_str_1.split('-')  # 這是塞一個字串到物件的作法\n",
    "\n",
    "new_emp_1 = Employee(first, last, pay)  # 呼即 constructor\n",
    "\n",
    "print(new_emp_1.email)\n",
    "print(new_emp_1.pay)"
   ]
  },
  {
   "cell_type": "code",
   "execution_count": 94,
   "metadata": {},
   "outputs": [
    {
     "name": "stdout",
     "output_type": "stream",
     "text": [
      "John.Doe@email.com\n",
      "70000\n",
      "Steve.Smith@email.com\n",
      "30000\n"
     ]
    }
   ],
   "source": [
    "'''\n",
    "alternative constructor: use class method as an alternative to constructor\n",
    "從字串分割並呼到 constructor: from_string(cls, emp_str)\n",
    "'''\n",
    "class Employee:\n",
    "    \n",
    "    num_of_emps = 0\n",
    "    raise_amount = 1.04\n",
    "    \n",
    "    def __init__(self, first, last, pay):\n",
    "        self.first = first\n",
    "        self.last = last\n",
    "        self.email = first + '.' + last + '@email.com'\n",
    "        self.pay = pay\n",
    "        \n",
    "        Employee.num_of_emps +=1 # 每次增加一名僱員就加1\n",
    "\n",
    "    def fullname(self):\n",
    "        return '{} {}'.format(self.first, self.last)\n",
    "    \n",
    "    def apply_raise(self):\n",
    "        self.pay = int(self.pay * self.raise_amount) # 雖然是 Class attribure，但這個用 self 較彈性\n",
    "    \n",
    "    @classmethod\n",
    "    def set_raise_amt(cls, amount):\n",
    "        cls.raise_amount = amount\n",
    "    \n",
    "#     @classmethod # alternative constructor: use class method as an alternative to constructor\n",
    "#     def from_string(cls, emp_str):\n",
    "#         first, last, pay = emp_str.split('-')\n",
    "#         return cls(first, last, pay) # create a new object\n",
    "    @classmethod\n",
    "    def from_string(cls, emp_str):\n",
    "        first, last, pay = emp_str.split('-')  # 這是塞一個字串到物件的作法\n",
    "        return cls(first, last, pay)  # 呼即 constructor\n",
    "    \n",
    "emp_1 = Employee('Corey', 'Schafer', 50000)\n",
    "emp_2 = Employee('Test', 'User', 60000)\n",
    "\n",
    "emp_str_1 = 'John-Doe-70000'\n",
    "emp_str_2 = 'Steve-Smith-30000'\n",
    "emp_str_3 = 'Jane-Doe-90000'\n",
    "\n",
    "#first, last, pay = emp_str_1.split('-')  # 這是只塞一個字串到物件的作法\n",
    "#new_emp_1 = Employee.(first, last, pay)\n",
    "\n",
    "new_emp_1 = Employee.from_string(emp_str_1) #這是 class method 的方法\n",
    "\n",
    "print(new_emp_1.email)\n",
    "print(new_emp_1.pay)\n",
    "\n",
    "new_emp_2 = Employee.from_string(emp_str_2) #一定要將 class 的名稱放在前面\n",
    "\n",
    "print(new_emp_2.email)\n",
    "print(new_emp_2.pay)"
   ]
  },
  {
   "cell_type": "code",
   "execution_count": 96,
   "metadata": {},
   "outputs": [
    {
     "name": "stdout",
     "output_type": "stream",
     "text": [
      "False\n"
     ]
    }
   ],
   "source": [
    "'''\n",
    "static method，基本上與整個 class 無關，其實就是一般的 function() 的概念。\n",
    "之所以會讓學過 Java 的人有點小疑惑的原因是：\n",
    "在 Java 裏，static method 指的是，在調用時，要用 Class.classMethod() 的方式，\n",
    "然而，其用途：可以是當作整個 class 的共同記錄/設定，或是\n",
    "就像 Math package中的的 Math.sqrt() 這樣的函式。\n",
    "\n",
    "但，在 Python 把適用整個類別的用 @classmethod 宣告；而把\n",
    "類似函式的用 @staticmethod宣告。\n",
    "'''\n",
    "class Employee:\n",
    "    \n",
    "    num_of_emps = 0\n",
    "    raise_amount = 1.04\n",
    "    \n",
    "    def __init__(self, first, last, pay):\n",
    "        self.first = first\n",
    "        self.last = last\n",
    "        self.email = first + '.' + last + '@email.com'\n",
    "        self.pay = pay\n",
    "        \n",
    "        Employee.num_of_emps +=1 # 每次增加一名僱員就加1\n",
    "\n",
    "    def fullname(self):\n",
    "        return '{} {}'.format(self.first, self.last)\n",
    "    \n",
    "    def apply_raise(self):\n",
    "        self.pay = int(self.pay * self.raise_amount) # 雖然是 Class attribure，但這個用 self 較彈性\n",
    "    \n",
    "    @classmethod\n",
    "    def set_raise_amt(cls, amount):\n",
    "        cls.raise_amount = amount\n",
    "    \n",
    "    @classmethod # alternative constructor: use class method as an alternative to constructor\n",
    "    def from_string(cls, emp_str):\n",
    "        first, last, pay = emp_str.split('-')\n",
    "        return cls(first, last, pay) # create a new object\n",
    "    \n",
    "    @staticmethod\n",
    "    def is_workday(day):\n",
    "        if day.weekday() == 5 or day.weekday() == 6:\n",
    "            return False\n",
    "        return True\n",
    "\n",
    "emp_1 = Employee('Corey', 'Schafer', 50000)\n",
    "emp_2 = Employee('Test', 'User', 60000)\n",
    "\n",
    "import datetime # 先 import 用來處理日期的 module\n",
    "my_date = datetime.date(2020, 10, 10)\n",
    "\n",
    "print(Employee.is_workday(my_date))"
   ]
  },
  {
   "cell_type": "code",
   "execution_count": 97,
   "metadata": {},
   "outputs": [
    {
     "name": "stdout",
     "output_type": "stream",
     "text": [
      "Help on method_descriptor:\n",
      "\n",
      "weekday(...)\n",
      "    Return the day of the week represented by the date.\n",
      "    Monday == 0 ... Sunday == 6\n",
      "\n"
     ]
    }
   ],
   "source": [
    "help(datetime.date.weekday)"
   ]
  },
  {
   "cell_type": "code",
   "execution_count": 99,
   "metadata": {},
   "outputs": [
    {
     "name": "stdout",
     "output_type": "stream",
     "text": [
      "True\n"
     ]
    },
    {
     "data": {
      "text/plain": [
       "0"
      ]
     },
     "execution_count": 99,
     "metadata": {},
     "output_type": "execute_result"
    }
   ],
   "source": [
    "my_date = datetime.date(2016, 7, 11)\n",
    "\n",
    "print(Employee.is_workday(my_date))\n",
    "my_date.weekday()"
   ]
  },
  {
   "cell_type": "code",
   "execution_count": 100,
   "metadata": {},
   "outputs": [
    {
     "ename": "NameError",
     "evalue": "name 'is_workday' is not defined",
     "output_type": "error",
     "traceback": [
      "\u001b[1;31m---------------------------------------------------------------------------\u001b[0m",
      "\u001b[1;31mNameError\u001b[0m                                 Traceback (most recent call last)",
      "\u001b[1;32m<ipython-input-100-90ed16164347>\u001b[0m in \u001b[0;36m<module>\u001b[1;34m\u001b[0m\n\u001b[1;32m----> 1\u001b[1;33m \u001b[0mprint\u001b[0m\u001b[1;33m(\u001b[0m\u001b[0mis_workday\u001b[0m\u001b[1;33m(\u001b[0m\u001b[0mmy_date\u001b[0m\u001b[1;33m)\u001b[0m\u001b[1;33m)\u001b[0m\u001b[1;33m\u001b[0m\u001b[1;33m\u001b[0m\u001b[0m\n\u001b[0m",
      "\u001b[1;31mNameError\u001b[0m: name 'is_workday' is not defined"
     ]
    }
   ],
   "source": [
    "print(is_workday(my_date))"
   ]
  },
  {
   "cell_type": "markdown",
   "metadata": {},
   "source": [
    "-----\n"
   ]
  },
  {
   "cell_type": "code",
   "execution_count": 51,
   "metadata": {},
   "outputs": [
    {
     "name": "stdout",
     "output_type": "stream",
     "text": [
      "1.05\n",
      "1.05\n",
      "1.05\n",
      "John.Doe@email.com\n",
      "70000\n",
      "True\n"
     ]
    }
   ],
   "source": [
    "# 作者附三 snippets codes\n",
    "class Employee:\n",
    "\n",
    "    num_of_emps = 0\n",
    "    raise_amt = 1.04\n",
    "\n",
    "    def __init__(self, first, last, pay):\n",
    "        self.first = first\n",
    "        self.last = last\n",
    "        self.email = first + '.' + last + '@email.com'\n",
    "        self.pay = pay\n",
    "\n",
    "        Employee.num_of_emps += 1\n",
    "\n",
    "    def fullname(self):\n",
    "        return '{} {}'.format(self.first, self.last)\n",
    "\n",
    "    def apply_raise(self):\n",
    "        self.pay = int(self.pay * self.raise_amt)\n",
    "\n",
    "    @classmethod\n",
    "    def set_raise_amt(cls, amount):\n",
    "        cls.raise_amt = amount\n",
    "\n",
    "    @classmethod\n",
    "    def from_string(cls, emp_str):\n",
    "        first, last, pay = emp_str.split('-')\n",
    "        return cls(first, last, pay)\n",
    "\n",
    "    @staticmethod\n",
    "    def is_workday(day):\n",
    "        if day.weekday() == 5 or day.weekday() == 6:\n",
    "            return False\n",
    "        return True\n",
    "\n",
    "\n",
    "emp_1 = Employee('Corey', 'Schafer', 50000)\n",
    "emp_2 = Employee('Test', 'Employee', 60000)\n",
    "\n",
    "Employee.set_raise_amt(1.05)\n",
    "\n",
    "print(Employee.raise_amt)\n",
    "print(emp_1.raise_amt)\n",
    "print(emp_2.raise_amt)\n",
    "\n",
    "emp_str_1 = 'John-Doe-70000'\n",
    "emp_str_2 = 'Steve-Smith-30000'\n",
    "emp_str_3 = 'Jane-Doe-90000'\n",
    "\n",
    "first, last, pay = emp_str_1.split('-')\n",
    "\n",
    "#new_emp_1 = Employee(first, last, pay)\n",
    "new_emp_1 = Employee.from_string(emp_str_1)\n",
    "\n",
    "print(new_emp_1.email)\n",
    "print(new_emp_1.pay)\n",
    "\n",
    "import datetime\n",
    "my_date = datetime.date(2016, 7, 11)\n",
    "\n",
    "print(Employee.is_workday(my_date))\n"
   ]
  },
  {
   "cell_type": "markdown",
   "metadata": {},
   "source": [
    "----"
   ]
  },
  {
   "cell_type": "markdown",
   "metadata": {},
   "source": [
    "## *Corey Schafer Python OOP Tutorial 4: Inheritance - Creating Subclasses* \n",
    "(4) Subclass：Python可以繼承兩個含以上的superclasses \n",
    "\n",
    "https://www.youtube.com/watch?v=RSl87lqOXDE&list=PL-osiE80TeTsqhIuOqKhwlXsIBIdSeYtc&index=4"
   ]
  },
  {
   "cell_type": "code",
   "execution_count": 52,
   "metadata": {},
   "outputs": [
    {
     "data": {
      "text/html": [
       "<iframe width=\"560\" height=\"315\" src=\"https://www.youtube.com/embed/RSl87lqOXDE\" frameborder=\"0\" allow=\"accelerometer; autoplay; clipboard-write; encrypted-media; gyroscope; picture-in-picture\" allowfullscreen></iframe>\n"
      ],
      "text/plain": [
       "<IPython.core.display.HTML object>"
      ]
     },
     "metadata": {},
     "output_type": "display_data"
    }
   ],
   "source": [
    "%%HTML\n",
    "<iframe width=\"560\" height=\"315\" src=\"https://www.youtube.com/embed/RSl87lqOXDE\" frameborder=\"0\" allow=\"accelerometer; autoplay; clipboard-write; encrypted-media; gyroscope; picture-in-picture\" allowfullscreen></iframe>"
   ]
  },
  {
   "cell_type": "markdown",
   "metadata": {},
   "source": [
    "----"
   ]
  },
  {
   "cell_type": "code",
   "execution_count": 101,
   "metadata": {},
   "outputs": [
    {
     "name": "stdout",
     "output_type": "stream",
     "text": [
      "Corey.Schafer@email.com\n",
      "Test.Employee@email.com\n"
     ]
    }
   ],
   "source": [
    "'''\n",
    "Inheritance：從 Employee 開始往下 (sub) class 長\n",
    "這個例子中，加入：class Developer(Employee)\n",
    "'''\n",
    "class Employee:\n",
    "\n",
    "    raise_amt = 1.04\n",
    "\n",
    "    def __init__(self, first, last, pay):\n",
    "        self.first = first\n",
    "        self.last = last\n",
    "        self.email = first + '.' + last + '@email.com'\n",
    "        self.pay = pay\n",
    "\n",
    "    def fullname(self):\n",
    "        return '{} {}'.format(self.first, self.last)\n",
    "\n",
    "    def apply_raise(self):\n",
    "        self.pay = int(self.pay * self.raise_amt)\n",
    "\n",
    "class Developer(Employee): # so far, we do nothing，只是要試認「繼承」關係\n",
    "    pass\n",
    "\n",
    "dev_1 = Developer('Corey', 'Schafer', 50000)\n",
    "dev_2 = Developer('Test', 'Employee', 60000)\n",
    "\n",
    "print(dev_1.email)\n",
    "print(dev_2.email)\n"
   ]
  },
  {
   "cell_type": "code",
   "execution_count": 102,
   "metadata": {},
   "outputs": [
    {
     "data": {
      "text/plain": [
       "{'first': 'Corey',\n",
       " 'last': 'Schafer',\n",
       " 'email': 'Corey.Schafer@email.com',\n",
       " 'pay': 50000}"
      ]
     },
     "execution_count": 102,
     "metadata": {},
     "output_type": "execute_result"
    }
   ],
   "source": [
    "dev_1.__dict__"
   ]
  },
  {
   "cell_type": "code",
   "execution_count": 103,
   "metadata": {},
   "outputs": [
    {
     "data": {
      "text/plain": [
       "mappingproxy({'__module__': '__main__', '__doc__': None})"
      ]
     },
     "execution_count": 103,
     "metadata": {},
     "output_type": "execute_result"
    }
   ],
   "source": [
    "Developer.__dict__"
   ]
  },
  {
   "cell_type": "code",
   "execution_count": 104,
   "metadata": {},
   "outputs": [
    {
     "data": {
      "text/plain": [
       "__main__.Developer"
      ]
     },
     "execution_count": 104,
     "metadata": {},
     "output_type": "execute_result"
    }
   ],
   "source": [
    "Developer"
   ]
  },
  {
   "cell_type": "code",
   "execution_count": 105,
   "metadata": {},
   "outputs": [
    {
     "data": {
      "text/plain": [
       "<__main__.Developer at 0x1a725f5fef0>"
      ]
     },
     "execution_count": 105,
     "metadata": {},
     "output_type": "execute_result"
    }
   ],
   "source": [
    "dev_1"
   ]
  },
  {
   "cell_type": "code",
   "execution_count": 106,
   "metadata": {},
   "outputs": [
    {
     "data": {
      "text/plain": [
       "__main__.Developer"
      ]
     },
     "execution_count": 106,
     "metadata": {},
     "output_type": "execute_result"
    }
   ],
   "source": [
    "type(dev_1)"
   ]
  },
  {
   "cell_type": "code",
   "execution_count": 107,
   "metadata": {},
   "outputs": [
    {
     "name": "stdout",
     "output_type": "stream",
     "text": [
      "Help on class Developer in module __main__:\n",
      "\n",
      "class Developer(Employee)\n",
      " |  Developer(first, last, pay)\n",
      " |  \n",
      " |  Method resolution order:\n",
      " |      Developer\n",
      " |      Employee\n",
      " |      builtins.object\n",
      " |  \n",
      " |  Methods inherited from Employee:\n",
      " |  \n",
      " |  __init__(self, first, last, pay)\n",
      " |      Initialize self.  See help(type(self)) for accurate signature.\n",
      " |  \n",
      " |  apply_raise(self)\n",
      " |  \n",
      " |  fullname(self)\n",
      " |  \n",
      " |  ----------------------------------------------------------------------\n",
      " |  Data descriptors inherited from Employee:\n",
      " |  \n",
      " |  __dict__\n",
      " |      dictionary for instance variables (if defined)\n",
      " |  \n",
      " |  __weakref__\n",
      " |      list of weak references to the object (if defined)\n",
      " |  \n",
      " |  ----------------------------------------------------------------------\n",
      " |  Data and other attributes inherited from Employee:\n",
      " |  \n",
      " |  raise_amt = 1.04\n",
      "\n",
      "None\n"
     ]
    }
   ],
   "source": [
    "'''\n",
    "# chain of resolution \n",
    "這個非常重要，以下是最好的方法知道 python 類別祖宗八代的歷史\n",
    "'''\n",
    "print(help(Developer))"
   ]
  },
  {
   "cell_type": "code",
   "execution_count": 108,
   "metadata": {},
   "outputs": [
    {
     "name": "stdout",
     "output_type": "stream",
     "text": [
      "Corey.Schafer@email.com\n",
      "Test.Employee@email.com\n"
     ]
    }
   ],
   "source": [
    "# 加進來一種新類別：編程的人 Developer\n",
    "class Employee:\n",
    "\n",
    "    raise_amt = 1.04\n",
    "\n",
    "    def __init__(self, first, last, pay):\n",
    "        self.first = first\n",
    "        self.last = last\n",
    "        self.email = first + '.' + last + '@email.com'\n",
    "        self.pay = pay\n",
    "\n",
    "    def fullname(self):\n",
    "        return '{} {}'.format(self.first, self.last)\n",
    "\n",
    "    def apply_raise(self):\n",
    "        self.pay = int(self.pay * self.raise_amt)\n",
    "\n",
    "class Developer(Employee): # change of raise_amount\n",
    "    raise_amt = 1.10 #目前唯一不一樣就是加薪的輻度\n",
    "\n",
    "dev_1 = Developer('Corey', 'Schafer', 50000)\n",
    "dev_2 = Developer('Test', 'Employee', 60000)\n",
    "\n",
    "print(dev_1.email)\n",
    "print(dev_2.email)"
   ]
  },
  {
   "cell_type": "code",
   "execution_count": 109,
   "metadata": {},
   "outputs": [
    {
     "data": {
      "text/plain": [
       "{'first': 'Corey',\n",
       " 'last': 'Schafer',\n",
       " 'email': 'Corey.Schafer@email.com',\n",
       " 'pay': 50000}"
      ]
     },
     "execution_count": 109,
     "metadata": {},
     "output_type": "execute_result"
    }
   ],
   "source": [
    "dev_1.__dict__"
   ]
  },
  {
   "cell_type": "code",
   "execution_count": 110,
   "metadata": {},
   "outputs": [
    {
     "name": "stdout",
     "output_type": "stream",
     "text": [
      "50000\n",
      "55000\n"
     ]
    }
   ],
   "source": [
    "print(dev_1.pay)\n",
    "dev_1.apply_raise()\n",
    "print(dev_1.pay)"
   ]
  },
  {
   "cell_type": "code",
   "execution_count": 111,
   "metadata": {},
   "outputs": [
    {
     "name": "stdout",
     "output_type": "stream",
     "text": [
      "50000\n",
      "52000\n"
     ]
    }
   ],
   "source": [
    "emp_1 = Employee('Corey', 'Schafer', 50000)\n",
    "emp_2 = Employee('Test', 'Employee', 60000)\n",
    "\n",
    "print(emp_1.pay)\n",
    "emp_1.apply_raise()\n",
    "print(emp_1.pay)"
   ]
  },
  {
   "cell_type": "code",
   "execution_count": 112,
   "metadata": {},
   "outputs": [
    {
     "name": "stdout",
     "output_type": "stream",
     "text": [
      "Corey.Schafer@email.com\n",
      "Python\n"
     ]
    }
   ],
   "source": [
    "'''\n",
    "繼承的子類別可以多不一樣？\n",
    "加進來一種新類別：編程的人 Developer，\n",
    "除了一般員工需要有的基本資料外，另外在特別標註他的 編程語言 為何？\n",
    "'''\n",
    "class Employee:\n",
    "\n",
    "    raise_amt = 1.04\n",
    "\n",
    "    def __init__(self, first, last, pay):\n",
    "        self.first = first\n",
    "        self.last = last\n",
    "        self.email = first + '.' + last + '@email.com'\n",
    "        self.pay = pay\n",
    "\n",
    "    def fullname(self):\n",
    "        return '{} {}'.format(self.first, self.last)\n",
    "\n",
    "    def apply_raise(self):\n",
    "        self.pay = int(self.pay * self.raise_amt)\n",
    "\n",
    "class Developer(Employee): # change of raise_amount\n",
    "    raise_amt = 1.10\n",
    "    \n",
    "    def __init__(self, first, last, pay, prog_lan):\n",
    "        super().__init__(first, last, pay) # 注意最前面的 self 不用寫\n",
    "        #Employee.__init__(self, first, last, pay)\n",
    "        self.prog_lan = prog_lan  # 這是新的 attribute，與父輩類別不同處\n",
    "\n",
    "dev_1 = Developer('Corey', 'Schafer', 50000, \"Python\")\n",
    "dev_2 = Developer('Test', 'Employee', 60000, \"Java\")\n",
    "\n",
    "print(dev_1.email)\n",
    "print(dev_1.prog_lan)"
   ]
  },
  {
   "cell_type": "code",
   "execution_count": 113,
   "metadata": {},
   "outputs": [
    {
     "data": {
      "text/plain": [
       "{'first': 'Corey',\n",
       " 'last': 'Schafer',\n",
       " 'email': 'Corey.Schafer@email.com',\n",
       " 'pay': 50000,\n",
       " 'prog_lan': 'Python'}"
      ]
     },
     "execution_count": 113,
     "metadata": {},
     "output_type": "execute_result"
    }
   ],
   "source": [
    "dev_1.__dict__"
   ]
  },
  {
   "cell_type": "code",
   "execution_count": 114,
   "metadata": {},
   "outputs": [
    {
     "data": {
      "text/plain": [
       "mappingproxy({'__module__': '__main__',\n",
       "              'raise_amt': 1.1,\n",
       "              '__init__': <function __main__.Developer.__init__(self, first, last, pay, prog_lan)>,\n",
       "              '__doc__': None})"
      ]
     },
     "execution_count": 114,
     "metadata": {},
     "output_type": "execute_result"
    }
   ],
   "source": [
    "Developer.__dict__"
   ]
  },
  {
   "cell_type": "code",
   "execution_count": 115,
   "metadata": {},
   "outputs": [
    {
     "name": "stdout",
     "output_type": "stream",
     "text": [
      "Sue.Smith@email.com\n",
      "---> Corey Schafer\n",
      "---> Test Employee\n"
     ]
    }
   ],
   "source": [
    "'''\n",
    "另外再加入一個新類別 Manager：\n",
    "    加薪不太一樣，而且經理們要管人(們)\n",
    "def __init__(self, first, last, pay, employees=None):\n",
    "\n",
    "因為經理要管人，所以特別針對 Manager 另外定義：加人、刪人，以及列印的 methods()\n",
    "'''\n",
    "class Employee:\n",
    "\n",
    "    raise_amt = 1.04\n",
    "\n",
    "    def __init__(self, first, last, pay):\n",
    "        self.first = first\n",
    "        self.last = last\n",
    "        self.email = first + '.' + last + '@email.com'\n",
    "        self.pay = pay\n",
    "\n",
    "    def fullname(self):\n",
    "        return '{} {}'.format(self.first, self.last)\n",
    "\n",
    "    def apply_raise(self):\n",
    "        self.pay = int(self.pay * self.raise_amt)\n",
    "\n",
    "class Developer(Employee): # change of raise_amount\n",
    "    raise_amt = 1.10\n",
    "    \n",
    "    def __init__(self, first, last, pay, prog_lan):\n",
    "        super().__init__(first, last, pay) # 注意最前面的 self 不用寫\n",
    "        #Employee.__init__(self, first, last, pay)\n",
    "        self.prog_lan = prog_lan\n",
    "         \n",
    "class Manager(Employee): # 這是新類別\n",
    "    \n",
    "    def __init__(self, first, last, pay, employees=None):\n",
    "        super().__init__(first, last, pay) # 注意最前面的 self 不用寫\n",
    "        if employees is None:\n",
    "            self.employees = []\n",
    "        else:\n",
    "            self.employees = employees\n",
    "    \n",
    "    def add_emp(self, emp):\n",
    "        if emp not in self.employees:\n",
    "            self.employees.append(emp)\n",
    "    \n",
    "    def remove_emp(self, emp):\n",
    "        if emp in self.employees:\n",
    "            self.employees.remove(emp)\n",
    "    \n",
    "    def print_emps(self):\n",
    "        for emp in self.employees:\n",
    "            print(\"--->\", emp.fullname())\n",
    "\n",
    "dev_1 = Developer('Corey', 'Schafer', 50000, 'Python')\n",
    "dev_2 = Developer('Test', 'Employee', 60000, 'Java')\n",
    "\n",
    "mgr_1 = Manager('Sue', 'Smith', 90000, [dev_1, dev_2])\n",
    "\n",
    "print(mgr_1.email)\n",
    "mgr_1.print_emps()"
   ]
  },
  {
   "cell_type": "code",
   "execution_count": null,
   "metadata": {},
   "outputs": [],
   "source": []
  },
  {
   "cell_type": "code",
   "execution_count": 116,
   "metadata": {},
   "outputs": [
    {
     "name": "stdout",
     "output_type": "stream",
     "text": [
      "---> Corey Schafer\n",
      "---> Test Employee\n",
      "Now, we remove dev_2\n",
      "---> Corey Schafer\n"
     ]
    }
   ],
   "source": [
    "mgr_1.add_emp(dev_2)\n",
    "mgr_1.print_emps()\n",
    "\n",
    "mgr_1.remove_emp(dev_2)\n",
    "print(\"Now, we remove dev_2\")\n",
    "mgr_1.print_emps()"
   ]
  },
  {
   "cell_type": "code",
   "execution_count": 117,
   "metadata": {},
   "outputs": [
    {
     "data": {
      "text/plain": [
       "True"
      ]
     },
     "execution_count": 117,
     "metadata": {},
     "output_type": "execute_result"
    }
   ],
   "source": [
    "isinstance(mgr_1, Manager)"
   ]
  },
  {
   "cell_type": "code",
   "execution_count": 118,
   "metadata": {},
   "outputs": [
    {
     "data": {
      "text/plain": [
       "True"
      ]
     },
     "execution_count": 118,
     "metadata": {},
     "output_type": "execute_result"
    }
   ],
   "source": [
    "isinstance(mgr_1, Employee)"
   ]
  },
  {
   "cell_type": "code",
   "execution_count": 119,
   "metadata": {},
   "outputs": [
    {
     "data": {
      "text/plain": [
       "False"
      ]
     },
     "execution_count": 119,
     "metadata": {},
     "output_type": "execute_result"
    }
   ],
   "source": [
    "isinstance(mgr_1, Developer)"
   ]
  },
  {
   "cell_type": "code",
   "execution_count": 120,
   "metadata": {},
   "outputs": [
    {
     "name": "stdout",
     "output_type": "stream",
     "text": [
      "True\n"
     ]
    }
   ],
   "source": [
    "print(issubclass(Manager, Employee))"
   ]
  },
  {
   "cell_type": "code",
   "execution_count": 121,
   "metadata": {},
   "outputs": [
    {
     "name": "stdout",
     "output_type": "stream",
     "text": [
      "False\n"
     ]
    }
   ],
   "source": [
    "print(issubclass(Manager, Developer))"
   ]
  },
  {
   "cell_type": "markdown",
   "metadata": {},
   "source": [
    "-----------"
   ]
  },
  {
   "cell_type": "code",
   "execution_count": 75,
   "metadata": {},
   "outputs": [
    {
     "name": "stdout",
     "output_type": "stream",
     "text": [
      "Sue.Smith@email.com\n",
      "--> Corey Schafer\n"
     ]
    }
   ],
   "source": [
    "class Employee:\n",
    "\n",
    "    raise_amt = 1.04\n",
    "\n",
    "    def __init__(self, first, last, pay):\n",
    "        self.first = first\n",
    "        self.last = last\n",
    "        self.email = first + '.' + last + '@email.com'\n",
    "        self.pay = pay\n",
    "\n",
    "    def fullname(self):\n",
    "        return '{} {}'.format(self.first, self.last)\n",
    "\n",
    "    def apply_raise(self):\n",
    "        self.pay = int(self.pay * self.raise_amt)\n",
    "\n",
    "\n",
    "class Developer(Employee):\n",
    "    raise_amt = 1.10\n",
    "\n",
    "    def __init__(self, first, last, pay, prog_lang):\n",
    "        super().__init__(first, last, pay)\n",
    "        self.prog_lang = prog_lang\n",
    "\n",
    "\n",
    "class Manager(Employee):\n",
    "\n",
    "    def __init__(self, first, last, pay, employees=None):\n",
    "        super().__init__(first, last, pay)\n",
    "        if employees is None:\n",
    "            self.employees = []\n",
    "        else:\n",
    "            self.employees = employees\n",
    "\n",
    "    def add_emp(self, emp):\n",
    "        if emp not in self.employees:\n",
    "            self.employees.append(emp)\n",
    "\n",
    "    def remove_emp(self, emp):\n",
    "        if emp in self.employees:\n",
    "            self.employees.remove(emp)\n",
    "\n",
    "    def print_emps(self):\n",
    "        for emp in self.employees:\n",
    "            print('-->', emp.fullname())\n",
    "\n",
    "\n",
    "dev_1 = Developer('Corey', 'Schafer', 50000, 'Python')\n",
    "dev_2 = Developer('Test', 'Employee', 60000, 'Java')\n",
    "\n",
    "mgr_1 = Manager('Sue', 'Smith', 90000, [dev_1])\n",
    "\n",
    "print(mgr_1.email)\n",
    "\n",
    "mgr_1.add_emp(dev_2)\n",
    "mgr_1.remove_emp(dev_2)\n",
    "\n",
    "mgr_1.print_emps()"
   ]
  },
  {
   "cell_type": "code",
   "execution_count": null,
   "metadata": {},
   "outputs": [],
   "source": []
  },
  {
   "cell_type": "markdown",
   "metadata": {},
   "source": [
    "----"
   ]
  },
  {
   "cell_type": "markdown",
   "metadata": {},
   "source": [
    "## *Corey Schafer Python OOP Tutorial 5: Special (Magic/Dunder) Methods*\n",
    "(5) Magic/Duncer 我覺得就是 override 啦  \n",
    "https://www.youtube.com/watch?v=3ohzBxoFHAY&list=PL-osiE80TeTsqhIuOqKhwlXsIBIdSeYtc&index=5"
   ]
  },
  {
   "cell_type": "code",
   "execution_count": 76,
   "metadata": {},
   "outputs": [
    {
     "data": {
      "text/html": [
       "<iframe width=\"560\" height=\"315\" src=\"https://www.youtube.com/embed/3ohzBxoFHAY\" frameborder=\"0\" allow=\"accelerometer; autoplay; clipboard-write; encrypted-media; gyroscope; picture-in-picture\" allowfullscreen></iframe>\n"
      ],
      "text/plain": [
       "<IPython.core.display.HTML object>"
      ]
     },
     "metadata": {},
     "output_type": "display_data"
    }
   ],
   "source": [
    "%%HTML\n",
    "<iframe width=\"560\" height=\"315\" src=\"https://www.youtube.com/embed/3ohzBxoFHAY\" frameborder=\"0\" allow=\"accelerometer; autoplay; clipboard-write; encrypted-media; gyroscope; picture-in-picture\" allowfullscreen></iframe>"
   ]
  },
  {
   "cell_type": "markdown",
   "metadata": {},
   "source": [
    "----"
   ]
  },
  {
   "cell_type": "code",
   "execution_count": 77,
   "metadata": {},
   "outputs": [],
   "source": [
    "class Employee:\n",
    "\n",
    "    raise_amt = 1.04\n",
    "\n",
    "    def __init__(self, first, last, pay):\n",
    "        self.first = first\n",
    "        self.last = last\n",
    "        self.email = first + '.' + last + '@email.com'\n",
    "        self.pay = pay\n",
    "\n",
    "    def fullname(self):\n",
    "        return '{} {}'.format(self.first, self.last)\n",
    "\n",
    "    def apply_raise(self):\n",
    "        self.pay = int(self.pay * self.raise_amt)\n",
    "\n",
    "emp_1 = Employee('Corey', 'Schafer', 50000)\n",
    "emp_2 = Employee('Test', 'Employee', 60000)\n"
   ]
  },
  {
   "cell_type": "code",
   "execution_count": 78,
   "metadata": {},
   "outputs": [
    {
     "name": "stdout",
     "output_type": "stream",
     "text": [
      "<__main__.Employee object at 0x000001F371820488>\n"
     ]
    }
   ],
   "source": [
    "print(emp_1)"
   ]
  },
  {
   "cell_type": "code",
   "execution_count": null,
   "metadata": {},
   "outputs": [],
   "source": []
  },
  {
   "cell_type": "code",
   "execution_count": 79,
   "metadata": {},
   "outputs": [
    {
     "name": "stdout",
     "output_type": "stream",
     "text": [
      "3\n",
      "ab\n"
     ]
    }
   ],
   "source": [
    "'''\n",
    "大家會不會覺得很納悶，為什麼同樣的 \"+\"，當代入的運算元不一樣時，所代表的功能不一樣？\n",
    "'''\n",
    "print(1 + 2)\n",
    "print(\"a\" + \"b\")"
   ]
  },
  {
   "cell_type": "code",
   "execution_count": null,
   "metadata": {},
   "outputs": [],
   "source": []
  },
  {
   "cell_type": "code",
   "execution_count": 80,
   "metadata": {},
   "outputs": [
    {
     "name": "stdout",
     "output_type": "stream",
     "text": [
      "<__main__.Employee object at 0x000001F371820488>\n"
     ]
    }
   ],
   "source": [
    "print(emp_1) # 這印出來的東西指的是內容存放位置，是看不太懂的"
   ]
  },
  {
   "cell_type": "code",
   "execution_count": 81,
   "metadata": {},
   "outputs": [
    {
     "name": "stdout",
     "output_type": "stream",
     "text": [
      "Employee('Corey', 'Schafer', 50000)\n"
     ]
    }
   ],
   "source": [
    "'''\n",
    "修改為：\n",
    "定義 __repr__() 之後，再用 print() 的效果就不一樣\n",
    "'''\n",
    "class Employee:\n",
    "\n",
    "    raise_amt = 1.04\n",
    "\n",
    "    def __init__(self, first, last, pay):\n",
    "        self.first = first\n",
    "        self.last = last\n",
    "        self.email = first + '.' + last + '@email.com'\n",
    "        self.pay = pay\n",
    "\n",
    "    def fullname(self):\n",
    "        return '{} {}'.format(self.first, self.last)\n",
    "\n",
    "    def apply_raise(self):\n",
    "        self.pay = int(self.pay * self.raise_amt)\n",
    "\n",
    "    def __repr__(self): # double underscore = nunder\n",
    "        return \"Employee('{}', '{}', {})\".format(self.first, self.last, self.pay)\n",
    "\n",
    "\n",
    "emp_1 = Employee('Corey', 'Schafer', 50000)\n",
    "emp_2 = Employee('Test', 'Employee', 60000)\n",
    "\n",
    "print(emp_1) # it is more readable now with the __repr__"
   ]
  },
  {
   "cell_type": "code",
   "execution_count": 82,
   "metadata": {},
   "outputs": [
    {
     "name": "stdout",
     "output_type": "stream",
     "text": [
      "Employee('Corey', 'Schafer', 50000)\n"
     ]
    }
   ],
   "source": [
    "print(Employee.__repr__(emp_1))"
   ]
  },
  {
   "cell_type": "code",
   "execution_count": 83,
   "metadata": {},
   "outputs": [
    {
     "name": "stdout",
     "output_type": "stream",
     "text": [
      "Employee('Corey', 'Schafer', 50000)\n"
     ]
    }
   ],
   "source": [
    "print(repr(emp_1))"
   ]
  },
  {
   "cell_type": "code",
   "execution_count": null,
   "metadata": {},
   "outputs": [],
   "source": []
  },
  {
   "cell_type": "code",
   "execution_count": 84,
   "metadata": {},
   "outputs": [
    {
     "name": "stdout",
     "output_type": "stream",
     "text": [
      "Corey Schafer - Corey.Schafer@email.com\n",
      "Employee('Corey', 'Schafer', 50000)\n",
      "Corey Schafer - Corey.Schafer@email.com\n"
     ]
    }
   ],
   "source": [
    "class Employee:\n",
    "\n",
    "    raise_amt = 1.04\n",
    "\n",
    "    def __init__(self, first, last, pay):\n",
    "        self.first = first\n",
    "        self.last = last\n",
    "        self.email = first + '.' + last + '@email.com'\n",
    "        self.pay = pay\n",
    "\n",
    "    def fullname(self):\n",
    "        return '{} {}'.format(self.first, self.last)\n",
    "\n",
    "    def apply_raise(self):\n",
    "        self.pay = int(self.pay * self.raise_amt)\n",
    "\n",
    "    def __repr__(self):\n",
    "        return \"Employee('{}', '{}', {})\".format(self.first, self.last, self.pay)\n",
    "\n",
    "    def __str__(self):\n",
    "        return '{} - {}'.format(self.fullname(), self.email)\n",
    "\n",
    "\n",
    "emp_1 = Employee('Corey', 'Schafer', 50000)\n",
    "emp_2 = Employee('Test', 'Employee', 60000)\n",
    "\n",
    "print(emp_1)\n",
    "print(repr(emp_1))\n",
    "print(str(emp_1))"
   ]
  },
  {
   "cell_type": "code",
   "execution_count": 85,
   "metadata": {},
   "outputs": [
    {
     "name": "stdout",
     "output_type": "stream",
     "text": [
      "Corey Schafer - Corey.Schafer@email.com\n",
      "Employee('Corey', 'Schafer', 50000)\n",
      "Employee('Corey', 'Schafer', 50000)\n",
      "Corey Schafer - Corey.Schafer@email.com\n",
      "Corey Schafer - Corey.Schafer@email.com\n",
      "Corey Schafer - Corey.Schafer@email.com\n"
     ]
    }
   ],
   "source": [
    "print(emp_1)\n",
    "print(repr(emp_1))\n",
    "print(emp_1.__repr__())\n",
    "print(str(emp_1))\n",
    "print(emp_1.__str__())\n",
    "\n",
    "print(emp_1)"
   ]
  },
  {
   "cell_type": "code",
   "execution_count": 86,
   "metadata": {},
   "outputs": [
    {
     "name": "stdout",
     "output_type": "stream",
     "text": [
      "3\n",
      "3\n"
     ]
    }
   ],
   "source": [
    "print(1 + 2)\n",
    "print(int.__add__(1, 2))"
   ]
  },
  {
   "cell_type": "code",
   "execution_count": 87,
   "metadata": {},
   "outputs": [
    {
     "name": "stdout",
     "output_type": "stream",
     "text": [
      "ab\n",
      "ab\n"
     ]
    }
   ],
   "source": [
    "print(\"a\" + \"b\")\n",
    "print(str.__add__(\"a\", \"b\"))"
   ]
  },
  {
   "cell_type": "code",
   "execution_count": 88,
   "metadata": {},
   "outputs": [
    {
     "name": "stdout",
     "output_type": "stream",
     "text": [
      "110000\n"
     ]
    }
   ],
   "source": [
    "# 定義一個 add 指兩個 emp pay 之和\n",
    "class Employee:\n",
    "\n",
    "    raise_amt = 1.04\n",
    "\n",
    "    def __init__(self, first, last, pay):\n",
    "        self.first = first\n",
    "        self.last = last\n",
    "        self.email = first + '.' + last + '@email.com'\n",
    "        self.pay = pay\n",
    "\n",
    "    def fullname(self):\n",
    "        return '{} {}'.format(self.first, self.last)\n",
    "\n",
    "    def apply_raise(self):\n",
    "        self.pay = int(self.pay * self.raise_amt)\n",
    "\n",
    "    def __repr__(self):\n",
    "        return \"Employee('{}', '{}', {})\".format(self.first, self.last, self.pay)\n",
    "\n",
    "    def __str__(self):\n",
    "        return '{} - {}'.format(self.fullname(), self.email)\n",
    "\n",
    "    def __add__(self, other):\n",
    "        return self.pay + other.pay\n",
    "\n",
    "    \n",
    "emp_1 = Employee('Corey', 'Schafer', 50000)\n",
    "emp_2 = Employee('Test', 'Employee', 60000)\n",
    "print(emp_1 + emp_2)\n"
   ]
  },
  {
   "cell_type": "markdown",
   "metadata": {},
   "source": [
    "### https://docs.python.org/2.4/ref/numeric-types.html"
   ]
  },
  {
   "cell_type": "code",
   "execution_count": 89,
   "metadata": {},
   "outputs": [
    {
     "name": "stdout",
     "output_type": "stream",
     "text": [
      "13\n"
     ]
    }
   ],
   "source": [
    "class Employee:\n",
    "\n",
    "    raise_amt = 1.04\n",
    "\n",
    "    def __init__(self, first, last, pay):\n",
    "        self.first = first\n",
    "        self.last = last\n",
    "        self.email = first + '.' + last + '@email.com'\n",
    "        self.pay = pay\n",
    "\n",
    "    def fullname(self):\n",
    "        return '{} {}'.format(self.first, self.last)\n",
    "\n",
    "    def apply_raise(self):\n",
    "        self.pay = int(self.pay * self.raise_amt)\n",
    "\n",
    "    def __repr__(self):\n",
    "        return \"Employee('{}', '{}', {})\".format(self.first, self.last, self.pay)\n",
    "\n",
    "    def __str__(self):\n",
    "        return '{} - {}'.format(self.fullname(), self.email)\n",
    "\n",
    "    def __add__(self, other):\n",
    "        return self.pay + other.pay\n",
    "\n",
    "    def __len__(self): # 最後再新定義一個長度的概念\n",
    "        return len(self.fullname())\n",
    "\n",
    "emp_1 = Employee('Corey', 'Schafer', 50000)\n",
    "emp_2 = Employee('Test', 'Employee', 60000)\n",
    "\n",
    "print(len(emp_1))"
   ]
  },
  {
   "cell_type": "markdown",
   "metadata": {},
   "source": [
    "## datetime — Basic date and time types\n",
    "## special (magic) methods\n",
    "https://docs.python.org/3/library/datetime.html"
   ]
  },
  {
   "cell_type": "markdown",
   "metadata": {},
   "source": [
    "---------"
   ]
  },
  {
   "cell_type": "code",
   "execution_count": 90,
   "metadata": {},
   "outputs": [
    {
     "name": "stdout",
     "output_type": "stream",
     "text": [
      "13\n"
     ]
    }
   ],
   "source": [
    "class Employee:\n",
    "\n",
    "    raise_amt = 1.04\n",
    "\n",
    "    def __init__(self, first, last, pay):\n",
    "        self.first = first\n",
    "        self.last = last\n",
    "        self.email = first + '.' + last + '@email.com'\n",
    "        self.pay = pay\n",
    "\n",
    "    def fullname(self):\n",
    "        return '{} {}'.format(self.first, self.last)\n",
    "\n",
    "    def apply_raise(self):\n",
    "        self.pay = int(self.pay * self.raise_amt)\n",
    "\n",
    "    def __repr__(self):\n",
    "        return \"Employee('{}', '{}', {})\".format(self.first, self.last, self.pay)\n",
    "\n",
    "    def __str__(self):\n",
    "        return '{} - {}'.format(self.fullname(), self.email)\n",
    "\n",
    "    def __add__(self, other):\n",
    "        return self.pay + other.pay\n",
    "\n",
    "    def __len__(self):\n",
    "        return len(self.fullname())\n",
    "\n",
    "\n",
    "emp_1 = Employee('Corey', 'Schafer', 50000)\n",
    "emp_2 = Employee('Test', 'Employee', 60000)\n",
    "\n",
    "# print(emp_1 + emp_2)\n",
    "\n",
    "print(len(emp_1))"
   ]
  },
  {
   "cell_type": "code",
   "execution_count": null,
   "metadata": {},
   "outputs": [],
   "source": []
  },
  {
   "cell_type": "markdown",
   "metadata": {},
   "source": [
    "----"
   ]
  },
  {
   "cell_type": "markdown",
   "metadata": {},
   "source": [
    "## *Corey Schafer Python OOP Tutorial 6: Property Decorators - Getters, Setters, and Deleters*\n",
    "(6) Getter, @property, getter, deleter  \n",
    "\n",
    "https://www.youtube.com/watch?v=jCzT9XFZ5bw&list=PL-osiE80TeTsqhIuOqKhwlXsIBIdSeYtc&index=6"
   ]
  },
  {
   "cell_type": "code",
   "execution_count": 91,
   "metadata": {},
   "outputs": [
    {
     "data": {
      "text/html": [
       "<iframe width=\"560\" height=\"315\" src=\"https://www.youtube.com/embed/jCzT9XFZ5bw\" frameborder=\"0\" allow=\"accelerometer; autoplay; clipboard-write; encrypted-media; gyroscope; picture-in-picture\" allowfullscreen></iframe>\n"
      ],
      "text/plain": [
       "<IPython.core.display.HTML object>"
      ]
     },
     "metadata": {},
     "output_type": "display_data"
    }
   ],
   "source": [
    "%%HTML\n",
    "<iframe width=\"560\" height=\"315\" src=\"https://www.youtube.com/embed/jCzT9XFZ5bw\" frameborder=\"0\" allow=\"accelerometer; autoplay; clipboard-write; encrypted-media; gyroscope; picture-in-picture\" allowfullscreen></iframe>"
   ]
  },
  {
   "cell_type": "markdown",
   "metadata": {},
   "source": [
    "----"
   ]
  },
  {
   "cell_type": "code",
   "execution_count": 92,
   "metadata": {},
   "outputs": [
    {
     "name": "stdout",
     "output_type": "stream",
     "text": [
      "John\n",
      "John.Smith@email.com\n",
      "John Smith\n"
     ]
    }
   ],
   "source": [
    "'''\n",
    "為了要說明 @property decorator，我們將原先的 Employee化簡：\n",
    "將原先由 first + last 所組成的 email，給拿掉，反正資料是重複的。\n",
    "\n",
    "雖然，在 constructor 中，只有兩個輸入的 parameters, \n",
    "但是每個 object 的 instance attributes 的三項，\n",
    "其中：\n",
    "    self.email = first + '.' + last + '@email.com'\n",
    "'''\n",
    "class Employee: # 化簡的版本\n",
    "\n",
    "    def __init__(self, first, last): # 我們把原EMployee 定義得更簡單\n",
    "        self.first = first\n",
    "        self.last = last\n",
    "        self.email = first + '.' + last + '@email.com'\n",
    "    \n",
    "    def fullname(self):\n",
    "        return '{} {}'.format(self.first, self.last)\n",
    "\n",
    "emp_1 = Employee(\"John\", \"Smith\")\n",
    "\n",
    "print(emp_1.first)\n",
    "print(emp_1.email)\n",
    "print(emp_1.fullname())"
   ]
  },
  {
   "cell_type": "code",
   "execution_count": 93,
   "metadata": {},
   "outputs": [
    {
     "data": {
      "text/plain": [
       "{'first': 'John', 'last': 'Smith', 'email': 'John.Smith@email.com'}"
      ]
     },
     "execution_count": 93,
     "metadata": {},
     "output_type": "execute_result"
    }
   ],
   "source": [
    "emp_1.__dict__"
   ]
  },
  {
   "cell_type": "code",
   "execution_count": 94,
   "metadata": {},
   "outputs": [
    {
     "name": "stdout",
     "output_type": "stream",
     "text": [
      "{'first': 'John', 'last': 'Smith', 'email': 'John.Smith@email.com'}\n"
     ]
    }
   ],
   "source": [
    "print(emp_1.__dict__)"
   ]
  },
  {
   "cell_type": "code",
   "execution_count": null,
   "metadata": {},
   "outputs": [],
   "source": []
  },
  {
   "cell_type": "code",
   "execution_count": 95,
   "metadata": {},
   "outputs": [
    {
     "name": "stdout",
     "output_type": "stream",
     "text": [
      "Jim\n",
      "John.Smith@email.com\n",
      "Jim Smith\n"
     ]
    }
   ],
   "source": [
    "'''\n",
    "但問題是：由於資料彼此之間有關連，一旦有的被修改後，就沒辦法確保整體資料的一致性。\n",
    "像是：\n",
    "    self.email = first + '.' + last + '@email.com' # 這仰賴 first, last\n",
    "如果 instantiate之後，這個 attribute 也跟著建立，\n",
    "但要是之後 first / last 修改，這邊因為是獨立的，沒有更新，就會不一致！\n",
    "'''\n",
    "class Employee: # 化簡的版本\n",
    "\n",
    "    def __init__(self, first, last): # 我們把原 Employee 定義得更簡單\n",
    "        self.first = first\n",
    "        self.last = last\n",
    "        self.email = first + '.' + last + '@email.com' # 這仰賴 first, last\n",
    "    \n",
    "    def fullname(self):\n",
    "        return '{} {}'.format(self.first, self.last)\n",
    "\n",
    "emp_1 = Employee(\"John\", \"Smith\")\n",
    "\n",
    "emp_1.first = \"Jim\" # 這邊一改就不一致了\n",
    "print(emp_1.first)\n",
    "print(emp_1.email)\n",
    "print(emp_1.fullname())"
   ]
  },
  {
   "cell_type": "code",
   "execution_count": 96,
   "metadata": {},
   "outputs": [
    {
     "name": "stdout",
     "output_type": "stream",
     "text": [
      "Jim\n",
      "Jim.Smith@email.com\n",
      "Jim Smith\n"
     ]
    }
   ],
   "source": [
    "'''\n",
    "一個(不是最好的方法)是：另外建兩個 instance method，\n",
    "就讓每次要取 email 或是 fullname 的，改用 methods 取：\n",
    "    - def email(self):\n",
    "    - def fullname(self):\n",
    "而不是用 instance attribute！\n",
    "'''\n",
    "class Employee: # 化算的版本\n",
    "\n",
    "    def __init__(self, first, last): # 我們把原EMployee 定義得更簡單\n",
    "        self.first = first\n",
    "        self.last = last\n",
    "        #self.email = first + '.' + last + '@email.com' #這個要改\n",
    "    \n",
    "    def email(self):\n",
    "        return '{}.{}@email.com'.format(self.first, self.last)\n",
    "    \n",
    "    def fullname(self):\n",
    "        return '{} {}'.format(self.first, self.last)\n",
    "\n",
    "emp_1 = Employee(\"John\", \"Smith\")\n",
    "\n",
    "emp_1.first = \"Jim\" # 這邊一改就不一致了\n",
    "print(emp_1.first)\n",
    "print(emp_1.email()) #這個要改\n",
    "print(emp_1.fullname())"
   ]
  },
  {
   "cell_type": "code",
   "execution_count": 97,
   "metadata": {},
   "outputs": [
    {
     "data": {
      "text/plain": [
       "{'first': 'Jim', 'last': 'Smith'}"
      ]
     },
     "execution_count": 97,
     "metadata": {},
     "output_type": "execute_result"
    }
   ],
   "source": [
    "emp_1.__dict__"
   ]
  },
  {
   "cell_type": "code",
   "execution_count": 98,
   "metadata": {},
   "outputs": [
    {
     "data": {
      "text/plain": [
       "mappingproxy({'__module__': '__main__',\n",
       "              '__init__': <function __main__.Employee.__init__(self, first, last)>,\n",
       "              'email': <function __main__.Employee.email(self)>,\n",
       "              'fullname': <function __main__.Employee.fullname(self)>,\n",
       "              '__dict__': <attribute '__dict__' of 'Employee' objects>,\n",
       "              '__weakref__': <attribute '__weakref__' of 'Employee' objects>,\n",
       "              '__doc__': None})"
      ]
     },
     "execution_count": 98,
     "metadata": {},
     "output_type": "execute_result"
    }
   ],
   "source": [
    "Employee.__dict__"
   ]
  },
  {
   "cell_type": "code",
   "execution_count": 99,
   "metadata": {},
   "outputs": [
    {
     "data": {
      "text/plain": [
       "{'first': 'Jim', 'last': 'Smith'}"
      ]
     },
     "execution_count": 99,
     "metadata": {},
     "output_type": "execute_result"
    }
   ],
   "source": [
    "emp_1.__dict__"
   ]
  },
  {
   "cell_type": "code",
   "execution_count": 100,
   "metadata": {},
   "outputs": [
    {
     "data": {
      "text/plain": [
       "mappingproxy({'__module__': '__main__',\n",
       "              '__init__': <function __main__.Employee.__init__(self, first, last)>,\n",
       "              'email': <function __main__.Employee.email(self)>,\n",
       "              'fullname': <function __main__.Employee.fullname(self)>,\n",
       "              '__dict__': <attribute '__dict__' of 'Employee' objects>,\n",
       "              '__weakref__': <attribute '__weakref__' of 'Employee' objects>,\n",
       "              '__doc__': None})"
      ]
     },
     "execution_count": 100,
     "metadata": {},
     "output_type": "execute_result"
    }
   ],
   "source": [
    "Employee.__dict__"
   ]
  },
  {
   "cell_type": "code",
   "execution_count": null,
   "metadata": {},
   "outputs": [],
   "source": []
  },
  {
   "cell_type": "code",
   "execution_count": 101,
   "metadata": {},
   "outputs": [
    {
     "name": "stdout",
     "output_type": "stream",
     "text": [
      "Jim\n",
      "Jim.Smith@email.com\n",
      "Jim Smith\n"
     ]
    }
   ],
   "source": [
    "'''\n",
    "比較好的辦是將那兩個洐生的 methods 用 property 的 decorant 來代表，\n",
    "其效果可「視為」是一個 attibute，並可定義 getter() 和 setter()\n",
    "'''\n",
    "class Employee: # 化簡的版本\n",
    "\n",
    "    def __init__(self, first, last): # 我們把原EMployee 定義得更簡單\n",
    "        self.first = first\n",
    "        self.last = last\n",
    "        #self.email = first + '.' + last + '@email.com' #這個要改\n",
    "    \n",
    "    @property  #這作用就跟 getter 一樣，但在 script 中不不將其視為 fucntion，而是看成 attribute\n",
    "    def email(self):\n",
    "        return '{}.{}@email.com'.format(self.first, self.last)\n",
    "    \n",
    "    @property\n",
    "    def fullname(self):\n",
    "        return '{} {}'.format(self.first, self.last)\n",
    "\n",
    "emp_1 = Employee(\"John\", \"Smith\")\n",
    "\n",
    "emp_1.first = \"Jim\" # 這邊一改 email 上的資料就變成一致了\n",
    "print(emp_1.first)\n",
    "print(emp_1.email) #在 script 中不不將其視為 fucntion，而是看成 attribute，所以沒有 ()\n",
    "print(emp_1.fullname)"
   ]
  },
  {
   "cell_type": "code",
   "execution_count": null,
   "metadata": {},
   "outputs": [],
   "source": []
  },
  {
   "cell_type": "code",
   "execution_count": 102,
   "metadata": {},
   "outputs": [
    {
     "data": {
      "text/plain": [
       "{'first': 'Jim', 'last': 'Smith'}"
      ]
     },
     "execution_count": 102,
     "metadata": {},
     "output_type": "execute_result"
    }
   ],
   "source": [
    "emp_1.__dict__"
   ]
  },
  {
   "cell_type": "code",
   "execution_count": 103,
   "metadata": {},
   "outputs": [
    {
     "data": {
      "text/plain": [
       "mappingproxy({'__module__': '__main__',\n",
       "              '__init__': <function __main__.Employee.__init__(self, first, last)>,\n",
       "              'email': <property at 0x1f37182fe08>,\n",
       "              'fullname': <property at 0x1f37182fa48>,\n",
       "              '__dict__': <attribute '__dict__' of 'Employee' objects>,\n",
       "              '__weakref__': <attribute '__weakref__' of 'Employee' objects>,\n",
       "              '__doc__': None})"
      ]
     },
     "execution_count": 103,
     "metadata": {},
     "output_type": "execute_result"
    }
   ],
   "source": [
    "Employee.__dict__"
   ]
  },
  {
   "cell_type": "code",
   "execution_count": 104,
   "metadata": {},
   "outputs": [
    {
     "name": "stdout",
     "output_type": "stream",
     "text": [
      "Help on class Employee in module __main__:\n",
      "\n",
      "class Employee(builtins.object)\n",
      " |  Employee(first, last)\n",
      " |  \n",
      " |  Methods defined here:\n",
      " |  \n",
      " |  __init__(self, first, last)\n",
      " |      Initialize self.  See help(type(self)) for accurate signature.\n",
      " |  \n",
      " |  ----------------------------------------------------------------------\n",
      " |  Data descriptors defined here:\n",
      " |  \n",
      " |  __dict__\n",
      " |      dictionary for instance variables (if defined)\n",
      " |  \n",
      " |  __weakref__\n",
      " |      list of weak references to the object (if defined)\n",
      " |  \n",
      " |  email\n",
      " |  \n",
      " |  fullname\n",
      "\n"
     ]
    }
   ],
   "source": [
    "help(Employee)"
   ]
  },
  {
   "cell_type": "code",
   "execution_count": 105,
   "metadata": {},
   "outputs": [
    {
     "name": "stdout",
     "output_type": "stream",
     "text": [
      "Jim\n",
      "Jim.Smith@email.com\n",
      "Jim Smith\n"
     ]
    }
   ],
   "source": [
    "'''\n",
    "# getter() 是可以的，但是~\n",
    "如果要改寫的話呢？\n",
    "'''\n",
    "class Employee: # 修改後的版本\n",
    "\n",
    "    def __init__(self, first, last): # 我們把原EMployee 定義得更簡單\n",
    "        self.first = first\n",
    "        self.last = last\n",
    "        #self.email = first + '.' + last + '@email.com' #這個要改\n",
    "    \n",
    "    @property  #這作用就跟 getter 一樣，但在 script 中不不將其視為 fucntion，而是看成 attribute\n",
    "    def email(self):\n",
    "        return '{}.{}@email.com'.format(self.first, self.last)\n",
    "    \n",
    "    @property\n",
    "    def fullname(self):\n",
    "        return '{} {}'.format(self.first, self.last)\n",
    "\n",
    "emp_1 = Employee(\"John\", \"Smith\")\n",
    "emp_2 = \"Corey Shafer\" # 本來是想要也當 setter 使用的，但…\n",
    "\n",
    "emp_1.first = \"Jim\" # 這邊一改就不一致了\n",
    "print(emp_1.first)\n",
    "print(emp_1.email) #在 script 中不不將其視為 fucntion，而是看成 attribute，所以沒有 ()\n",
    "print(emp_1.fullname)"
   ]
  },
  {
   "cell_type": "code",
   "execution_count": 106,
   "metadata": {},
   "outputs": [
    {
     "ename": "AttributeError",
     "evalue": "can't set attribute",
     "output_type": "error",
     "traceback": [
      "\u001b[1;31m---------------------------------------------------------------------------\u001b[0m",
      "\u001b[1;31mAttributeError\u001b[0m                            Traceback (most recent call last)",
      "\u001b[1;32m<ipython-input-106-e0b5e1c815fe>\u001b[0m in \u001b[0;36m<module>\u001b[1;34m\u001b[0m\n\u001b[0;32m      2\u001b[0m \u001b[0m如果要讀\u001b[0m \u001b[0mgetter\u001b[0m\u001b[1;33m(\u001b[0m\u001b[1;33m)\u001b[0m\u001b[0;31m，\u001b[0m\u001b[0m可\u001b[0m\u001b[0;31m，\u001b[0m\u001b[0m但是要改寫\u001b[0m \u001b[0msetter\u001b[0m\u001b[1;33m(\u001b[0m\u001b[1;33m)\u001b[0m \u001b[0m不行\u001b[0m\u001b[0;31m！\u001b[0m\u001b[1;33m\u001b[0m\u001b[1;33m\u001b[0m\u001b[0m\n\u001b[0;32m      3\u001b[0m '''\n\u001b[1;32m----> 4\u001b[1;33m \u001b[0memp_1\u001b[0m\u001b[1;33m.\u001b[0m\u001b[0mfullname\u001b[0m \u001b[1;33m=\u001b[0m \u001b[1;34m\"Corey Shafer\"\u001b[0m\u001b[1;33m\u001b[0m\u001b[1;33m\u001b[0m\u001b[0m\n\u001b[0m\u001b[0;32m      5\u001b[0m \u001b[0mprint\u001b[0m\u001b[1;33m(\u001b[0m\u001b[0memp_1\u001b[0m\u001b[1;33m.\u001b[0m\u001b[0mfirst\u001b[0m\u001b[1;33m)\u001b[0m\u001b[1;33m\u001b[0m\u001b[1;33m\u001b[0m\u001b[0m\n",
      "\u001b[1;31mAttributeError\u001b[0m: can't set attribute"
     ]
    }
   ],
   "source": [
    "'''\n",
    "如果要讀 getter()，可，但是要改寫 setter() 不行！\n",
    "'''\n",
    "emp_1.fullname = \"Corey Shafer\"\n",
    "print(emp_1.first)"
   ]
  },
  {
   "cell_type": "code",
   "execution_count": null,
   "metadata": {},
   "outputs": [],
   "source": []
  },
  {
   "cell_type": "code",
   "execution_count": 107,
   "metadata": {
    "scrolled": true
   },
   "outputs": [
    {
     "name": "stdout",
     "output_type": "stream",
     "text": [
      "Jim\n",
      "Jim.Smith@email.com\n",
      "Jim Smith\n"
     ]
    }
   ],
   "source": [
    "'''\n",
    "setter()\n",
    "就用同名另外邁一個 setter()\n",
    "'''\n",
    "class Employee: # 化算的版本\n",
    "\n",
    "    def __init__(self, first, last): # 我們把原EMployee 定義得更簡單\n",
    "        self.first = first\n",
    "        self.last = last\n",
    "        #self.email = first + '.' + last + '@email.com' #這個要改\n",
    "    \n",
    "    @property  #這作用就跟 getter 一樣，但在 script 中不不將其視為 fucntion，而是看成 attribute\n",
    "    def email(self):\n",
    "        return '{}.{}@email.com'.format(self.first, self.last)\n",
    "    \n",
    "    @property\n",
    "    def fullname(self):\n",
    "        return '{} {}'.format(self.first, self.last)\n",
    "    \n",
    "    @fullname.setter          # 這個 decorant 和 getter 同名 + setter\n",
    "    def fullname(self, name): # 這個 method 和 getter 同名\n",
    "        first, last = name.split(\" \")\n",
    "        self.first = first\n",
    "        self.last = last\n",
    "        \n",
    "\n",
    "emp_1 = Employee(\"John\", \"Smith\")\n",
    "new_emp_1_str = \"Corey Shafer\" # 本來是想要也當 setter 使用的，但…\n",
    "\n",
    "emp_1.first = \"Jim\" # 這邊一改就不一致了\n",
    "print(emp_1.first)\n",
    "print(emp_1.email) #在 script 中不不將其視為 fucntion，而是看成 attribute，所以沒有 ()\n",
    "print(emp_1.fullname)"
   ]
  },
  {
   "cell_type": "code",
   "execution_count": 108,
   "metadata": {},
   "outputs": [
    {
     "name": "stdout",
     "output_type": "stream",
     "text": [
      "Corey\n",
      "Corey.Shafer@email.com\n",
      "Corey Shafer\n"
     ]
    }
   ],
   "source": [
    "'''\n",
    "注意看這個：emp_1.fullname = new_emp_1_str\n",
    "其是，感覺是讓 emp_1 的一個叫作 fullname 的 attribute，塞值為 new_emp_1_str\n",
    "但實際的作法，就是呼叫同名的 setter() 的 method，將右邊的值塞入！\n",
    "'''\n",
    "emp_1.fullname = new_emp_1_str\n",
    "print(emp_1.first)\n",
    "print(emp_1.email) #在 script 中不不將其視為 fucntion，而是看成 attribute，所以沒有 ()\n",
    "print(emp_1.fullname)"
   ]
  },
  {
   "cell_type": "code",
   "execution_count": 109,
   "metadata": {},
   "outputs": [
    {
     "name": "stdout",
     "output_type": "stream",
     "text": [
      "Jim\n",
      "Jim.Smith@email.com\n",
      "Jim Smith\n",
      "Delete Name!\n",
      "None\n"
     ]
    }
   ],
   "source": [
    "'''\n",
    "除了 setter() 之外，就可以同名建 deleter()\n",
    "使用時的指令是：\n",
    "    del emp_1.fullname\n",
    "'''\n",
    "class Employee: # 化算的版本\n",
    "\n",
    "    def __init__(self, first, last): # 我們把原EMployee 定義得更簡單\n",
    "        self.first = first\n",
    "        self.last = last\n",
    "        #self.email = first + '.' + last + '@email.com' #這個要改\n",
    "    \n",
    "    @property  #這作用就跟 getter 一樣，但在 script 中不不將其視為 fucntion，而是看成 attribute\n",
    "    def email(self):\n",
    "        return '{}.{}@email.com'.format(self.first, self.last)\n",
    "    \n",
    "    @property\n",
    "    def fullname(self):\n",
    "        return '{} {}'.format(self.first, self.last)\n",
    "    \n",
    "    @fullname.setter          # 這個 decorant 和 getter 同名 + setter\n",
    "    def fullname(self, name): # 這個 method 和 getter 同名\n",
    "        first, last = name.split(\" \")\n",
    "        self.first = first\n",
    "        self.last = last\n",
    "    \n",
    "    @fullname.deleter          # 這個 decorant 和 getter 同名 + setter\n",
    "    def fullname(self): # 這個 method 和 getter 同名；參數中不需要 name 了\n",
    "        print(\"Delete Name!\")\n",
    "        self.first = None\n",
    "        self.last = None\n",
    "        \n",
    "emp_1 = Employee(\"John\", \"Smith\")\n",
    "\n",
    "emp_1.first = \"Jim\" # 這邊一改就不一致了\n",
    "print(emp_1.first)\n",
    "print(emp_1.email) #在 script 中不不將其視為 fucntion，而是看成 attribute，所以沒有 ()\n",
    "print(emp_1.fullname)\n",
    "\n",
    "del emp_1.fullname\n",
    "\n",
    "print(emp_1.first)"
   ]
  },
  {
   "cell_type": "markdown",
   "metadata": {},
   "source": [
    "----\n"
   ]
  },
  {
   "cell_type": "code",
   "execution_count": 110,
   "metadata": {},
   "outputs": [
    {
     "name": "stdout",
     "output_type": "stream",
     "text": [
      "Corey\n",
      "Corey.Schafer@email.com\n",
      "Corey Schafer\n",
      "Delete Name!\n"
     ]
    }
   ],
   "source": [
    "\n",
    "class Employee:\n",
    "\n",
    "    def __init__(self, first, last):\n",
    "        self.first = first\n",
    "        self.last = last\n",
    "\n",
    "    @property\n",
    "    def email(self):\n",
    "        return '{}.{}@email.com'.format(self.first, self.last)\n",
    "\n",
    "    @property\n",
    "    def fullname(self):\n",
    "        return '{} {}'.format(self.first, self.last)\n",
    "    \n",
    "    @fullname.setter\n",
    "    def fullname(self, name):\n",
    "        first, last = name.split(' ')\n",
    "        self.first = first\n",
    "        self.last = last\n",
    "    \n",
    "    @fullname.deleter\n",
    "    def fullname(self):\n",
    "        print('Delete Name!')\n",
    "        self.first = None\n",
    "        self.last = None\n",
    "\n",
    "emp_1 = Employee('John', 'Smith')\n",
    "emp_1.fullname = \"Corey Schafer\"\n",
    "\n",
    "print(emp_1.first)\n",
    "print(emp_1.email)\n",
    "print(emp_1.fullname)\n",
    "\n",
    "del emp_1.fullname"
   ]
  },
  {
   "cell_type": "code",
   "execution_count": 111,
   "metadata": {},
   "outputs": [
    {
     "name": "stdout",
     "output_type": "stream",
     "text": [
      "Help on class Employee in module __main__:\n",
      "\n",
      "class Employee(builtins.object)\n",
      " |  Employee(first, last)\n",
      " |  \n",
      " |  Methods defined here:\n",
      " |  \n",
      " |  __init__(self, first, last)\n",
      " |      Initialize self.  See help(type(self)) for accurate signature.\n",
      " |  \n",
      " |  ----------------------------------------------------------------------\n",
      " |  Data descriptors defined here:\n",
      " |  \n",
      " |  __dict__\n",
      " |      dictionary for instance variables (if defined)\n",
      " |  \n",
      " |  __weakref__\n",
      " |      list of weak references to the object (if defined)\n",
      " |  \n",
      " |  email\n",
      " |  \n",
      " |  fullname\n",
      "\n"
     ]
    }
   ],
   "source": [
    "help(Employee)"
   ]
  },
  {
   "cell_type": "code",
   "execution_count": 112,
   "metadata": {},
   "outputs": [
    {
     "data": {
      "text/plain": [
       "mappingproxy({'__module__': '__main__',\n",
       "              '__init__': <function __main__.Employee.__init__(self, first, last)>,\n",
       "              'email': <property at 0x1f371852f98>,\n",
       "              'fullname': <property at 0x1f3718599f8>,\n",
       "              '__dict__': <attribute '__dict__' of 'Employee' objects>,\n",
       "              '__weakref__': <attribute '__weakref__' of 'Employee' objects>,\n",
       "              '__doc__': None})"
      ]
     },
     "execution_count": 112,
     "metadata": {},
     "output_type": "execute_result"
    }
   ],
   "source": [
    "Employee.__dict__"
   ]
  },
  {
   "cell_type": "code",
   "execution_count": null,
   "metadata": {},
   "outputs": [],
   "source": []
  }
 ],
 "metadata": {
  "kernelspec": {
   "display_name": "Python 3",
   "language": "python",
   "name": "python3"
  },
  "language_info": {
   "codemirror_mode": {
    "name": "ipython",
    "version": 3
   },
   "file_extension": ".py",
   "mimetype": "text/x-python",
   "name": "python",
   "nbconvert_exporter": "python",
   "pygments_lexer": "ipython3",
   "version": "3.7.1"
  }
 },
 "nbformat": 4,
 "nbformat_minor": 2
}
