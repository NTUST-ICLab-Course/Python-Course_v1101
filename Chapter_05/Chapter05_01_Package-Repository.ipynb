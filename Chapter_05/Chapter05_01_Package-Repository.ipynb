{
 "cells": [
  {
   "cell_type": "markdown",
   "metadata": {},
   "source": [
    "## Package Repository\n",
    "課本上是在 Raspberry Pi OS (previously called Raspbian) 上的作法，有三種安裝 package 的方式：\n",
    "1. 取得整個目錄 (package) 然後用在含有 setup.py 的那個目錄中： \\\n",
    "sudo python setup.py install\n",
    "    + 一種常用的方法是從 git clone 下來\n",
    "        - sudo apt-get install git\n",
    "        - git clone http://github.com/jiaaro/pydub.git pydub\n",
    "        - cd pydub\n",
    "        - sudo python setup.py install\n",
    "2. 從 ubuntu 支持的 repository 裝：sudo apt-get install <package name\\>\n",
    "    + 如果不確定名稱，就用 apt-get search <package name>\n",
    "3. 從 PyPI--Python Package Index (PyPI) 拿下來：sudo pip install <package name>\n",
    "    + 如果不確定名稱，就用 pip search <package name>"
   ]
  },
  {
   "cell_type": "markdown",
   "metadata": {},
   "source": [
    "Repository:\n",
    "1. Advanced Package Tool, or APT, is a free-software user interface that works with core libraries to handle the installation and removal of software on Debian, Ubuntu, and related Linux distributions.[4] https://en.wikipedia.org/wiki/APT_(software)\n",
    "2. The Python Package Index, abbreviated as PyPI and also known as the Cheese Shop (a reference to the Monty Python's Flying Circus sketch \"Cheese Shop\"),[3][4] is the official third-party software repository for Python.[5] It is analogous to CPAN, the repository for Perl.[6] Some package managers, including pip, use PyPI as the default source for packages and their dependencies.[7][8] Over 235,000 Python packages can be accessed through PyPI.[9]\n",
    "https://en.wikipedia.org/wiki/Python_Package_Index \\\n",
    "(pypi.python.org) \n",
    "3. Git (/ɡɪt/)[7] is a distributed version-control system for tracking changes in source code during software development.[8] It is designed for coordinating work among programmers, but it can be used to track changes in any set of files. \n",
    "https://en.wikipedia.org/wiki/Git#cite_note-:0-7 \\\n",
    "(git-scm.com) "
   ]
  },
  {
   "cell_type": "markdown",
   "metadata": {},
   "source": [
    "## 如何下載 Python package？\n",
    "\n",
    "### 要安裝 python 的套件必須考量到執行平台的作業系統。\n",
    "一般安裝都很單純，一旦 package 的 source 拿到之後，就是使用 install 的指令，但較複雜的是如何拿到？\n",
    "\n",
    "不同的作業系統 {Linux-based, Windows} 在取得 (安裝前的) package 的方法不一樣。\n",
    "\n",
    "一般取得 package 的 source 有三種途徑：\n",
    "1. github (套件不一定是 python 寫的)\n",
    "2. apt-get (只限於 Linux-based 的作業系統環境，但套件不一定是 python 寫的)\n",
    "3. pip (專門針對 python 撰寫的 module/package)"
   ]
  },
  {
   "cell_type": "markdown",
   "metadata": {},
   "source": [
    "原先課本的情境：是在 Raspberry Pi OS (previously called Raspbian) 的環境中，從 git 上面拿下pyDub 的 source，然後安裝。\n",
    "\n",
    "1. 因為 Raspberry Pi OS 也屬於 Linux/Debian 的作業系統，所以可以先用 apt-get 取得相關的軟體：\\\n",
    "https://medium.com/@sean22492249/常用的-apt-指令-安裝-更新-移除-cbb56f595568\n",
    "2. sudo apt-get install git (先裝好 git)\n",
    "3. git clone https://github.com/jiaaro/pydub.git pydub (先複製一份 pyhub)\n",
    "4. cd pydub \\\n",
    "   sudo python setup.py install (安裝 pyhub 的套件)\n",
    "5. from pydub.generators import Pulse (之後，就可以寫程式了)"
   ]
  },
  {
   "cell_type": "markdown",
   "metadata": {},
   "source": [
    "## 說明：\n",
    "\n",
    "1. 常用的 apt 指令 （安裝、更新、移除）\n",
    "https://medium.com/@sean22492249/常用的-apt-指令-安裝-更新-移除-cbb56f595568\n",
    "\n",
    "2. PyPi到底是什么？pypi有啥作用？PyPi和pip有何渊源？\n",
    "https://blog.csdn.net/weixin_42139375/article/details/82711201\n",
    "\n",
    "3. 如果是要從 github 先 clone source，然後再 pip 安裝\n",
    "可用一行指令解決： \\\n",
    "pip install from package from github, with github dependencies \n",
    "https://github.com/pypa/pip/issues/3610"
   ]
  },
  {
   "cell_type": "markdown",
   "metadata": {},
   "source": [
    "## pydub音频处理库使用详解\n",
    "https://xin053.github.io/2016/11/05/pydub音频处理库使用详解/"
   ]
  },
  {
   "cell_type": "code",
   "execution_count": 1,
   "metadata": {},
   "outputs": [
    {
     "name": "stdout",
     "output_type": "stream",
     "text": [
      "Requirement already satisfied: pydub in c:\\users\\public\\anaconda3\\lib\\site-packages (0.24.1)\n"
     ]
    }
   ],
   "source": [
    "!pip install pydub"
   ]
  },
  {
   "cell_type": "markdown",
   "metadata": {},
   "source": [
    "## 當在 Windows 上安裝 pyhub 時：\n",
    "\n",
    "1. 然而在 Windows 上的安裝有一點麻煩，細節可參考：\n",
    "### < python音訊庫：Windows下pydub安裝配置、過程出現的問題及常用API >\n",
    "https://www.itread01.com/content/1578157443.html\n",
    "2. 主要是使用以下這個指令安裝的 FFmpeg，其實是不能用的 \\\n",
    "#!pip install FFmpeg\n",
    "3. 我們先設已經裝好，先來看裝好的的用法"
   ]
  },
  {
   "cell_type": "code",
   "execution_count": 2,
   "metadata": {},
   "outputs": [
    {
     "data": {
      "text/plain": [
       "<_io.BufferedRandom name='test_audio.mp3'>"
      ]
     },
     "execution_count": 2,
     "metadata": {},
     "output_type": "execute_result"
    }
   ],
   "source": [
    "#!/usr/bin/env python\n",
    "\n",
    "from pydub.generators import Pulse\n",
    "\n",
    "# Create 10 seconds of audio\n",
    "audio = Pulse(440, duty_cycle=0.6).to_audio_segment() * 10\n",
    "\n",
    "# Fade it in and out\n",
    "faded = audio.fade_in(2500).fade_out(5000)\n",
    "\n",
    "# Save it\n",
    "faded.export(\"test_audio.mp3\", format=\"mp3\")"
   ]
  },
  {
   "cell_type": "code",
   "execution_count": 3,
   "metadata": {},
   "outputs": [],
   "source": [
    "from pydub import AudioSegment\n",
    "song = AudioSegment.from_mp3(\"Never Gonna Give You Up Original.mp3\")\n",
    "first_ten_seconds = song[:10000]"
   ]
  },
  {
   "cell_type": "code",
   "execution_count": 4,
   "metadata": {},
   "outputs": [],
   "source": [
    "# pydub does things in milliseconds\n",
    "ten_seconds = 10 * 1000\n",
    "first_10_seconds = song[:ten_seconds]\n",
    "last_5_seconds = song[-5000:]"
   ]
  },
  {
   "cell_type": "code",
   "execution_count": 5,
   "metadata": {},
   "outputs": [],
   "source": [
    "# boost volume by 6dB\n",
    "beginning = first_10_seconds + 6\n",
    "# reduce volume by 3dB\n",
    "end = last_5_seconds - 3"
   ]
  },
  {
   "cell_type": "code",
   "execution_count": 6,
   "metadata": {},
   "outputs": [],
   "source": [
    "without_the_middle = beginning + end"
   ]
  },
  {
   "cell_type": "code",
   "execution_count": 7,
   "metadata": {},
   "outputs": [],
   "source": [
    "# song is not modified\n",
    "backwards = song.reverse()"
   ]
  },
  {
   "cell_type": "code",
   "execution_count": 8,
   "metadata": {},
   "outputs": [
    {
     "data": {
      "text/plain": [
       "<_io.BufferedRandom name='never_gonna_new.mp3'>"
      ]
     },
     "execution_count": 8,
     "metadata": {},
     "output_type": "execute_result"
    }
   ],
   "source": [
    "song.export(\"never_gonna_new.mp3\", format=\"mp3\")"
   ]
  },
  {
   "cell_type": "code",
   "execution_count": 9,
   "metadata": {},
   "outputs": [
    {
     "data": {
      "text/plain": [
       "<_io.BufferedRandom name='never_gonna_without_the_middle.mp3'>"
      ]
     },
     "execution_count": 9,
     "metadata": {},
     "output_type": "execute_result"
    }
   ],
   "source": [
    "without_the_middle.export(\"never_gonna_without_the_middle.mp3\", format=\"mp3\")"
   ]
  },
  {
   "cell_type": "code",
   "execution_count": 10,
   "metadata": {},
   "outputs": [
    {
     "data": {
      "text/plain": [
       "<_io.BufferedRandom name='never_gonna_backwards.mp3'>"
      ]
     },
     "execution_count": 10,
     "metadata": {},
     "output_type": "execute_result"
    }
   ],
   "source": [
    "backwards.export(\"never_gonna_backwards.mp3\", format=\"mp3\")"
   ]
  },
  {
   "cell_type": "code",
   "execution_count": null,
   "metadata": {},
   "outputs": [],
   "source": []
  }
 ],
 "metadata": {
  "kernelspec": {
   "display_name": "Python 3",
   "language": "python",
   "name": "python3"
  },
  "language_info": {
   "codemirror_mode": {
    "name": "ipython",
    "version": 3
   },
   "file_extension": ".py",
   "mimetype": "text/x-python",
   "name": "python",
   "nbconvert_exporter": "python",
   "pygments_lexer": "ipython3",
   "version": "3.7.1"
  }
 },
 "nbformat": 4,
 "nbformat_minor": 2
}
