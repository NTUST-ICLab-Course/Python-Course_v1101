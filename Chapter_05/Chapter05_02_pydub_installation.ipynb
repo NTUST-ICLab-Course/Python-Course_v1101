{
 "cells": [
  {
   "cell_type": "markdown",
   "metadata": {},
   "source": [
    "## 在 Windows 環境中裝 pydub\n",
    "\n",
    "2020-11-01\n",
    "\n",
    "我們可以用 pydub 製造一些音檔。在不同作業系統上有不同相對應的安裝套件。\n",
    "\n",
    "課本上給的例子，是在 raspberry pi (即 Rasbien 作業系統上) 的例子。\n",
    "在樹莓派上跑，安裝 ffmpeg，都沒問的。\n",
    "(記憶中是用專門為 Debian作業系統系列作業系統所設置的 repository，\n",
    "然後是使用 apt-get 取得的樣子)。\n",
    "只是最後要額外接 speaker 才能能播音。"
   ]
  },
  {
   "cell_type": "code",
   "execution_count": 1,
   "metadata": {},
   "outputs": [],
   "source": [
    "# 如果是在 linux 的環境中就比較簡單\n",
    "#!pip install ffmpeg"
   ]
  },
  {
   "cell_type": "markdown",
   "metadata": {},
   "source": [
    "但同樣的例子在 Windows 上執行的時候，因為不同的作業系統，\n",
    "我面臨到即使我用 !pip intall pyhub，\n",
    "它會報錯說需要 ffmpeg。麻煩的是，要安裝的 ffmpeg 必需要先到一個網站下載，\n",
    "*下載後，要設定 PATH*，否則 pyhub 就沒辦法找得到。\n",
    "以下是整個流程："
   ]
  },
  {
   "cell_type": "markdown",
   "metadata": {},
   "source": [
    "## Windows 作業系統上的安裝步驟\n",
    "1. 先到 ffmpeq download 選 windows 的 \\\n",
    "(2) windows build by Btbn \\\n",
    "https://ffmpeg.org/download.html\n",
    "\n",
    "2. 在 https://github.com/BtbN/FFmpeg-Builds/releases \n",
    "選 ffmpeg-N-99744-g343c3149ab-win64-gpl.zip 下載到任意檔案夾，如「文件」，\n",
    "\n",
    "3. 之後，解壓縮後，記住 bin 的全路徑，\n",
    "\n",
    "4. 再到「進階系統設定」的「環境變數」，在系統的環境變數中的 PATH 中新增以上的路徑\n",
    "\n",
    "5. 開 cmd 執行 set PATH=C ，然後關掉 \n",
    "\n",
    "6. 重新開 cmd，然後鍵入 ffmpeq -version，如果成功的話，就不會報怨\n",
    "\n",
    "7. 接著馬上開 jupyter notebook，即可。"
   ]
  },
  {
   "cell_type": "code",
   "execution_count": 2,
   "metadata": {},
   "outputs": [
    {
     "name": "stdout",
     "output_type": "stream",
     "text": [
      "Requirement already satisfied: pydub in c:\\users\\public\\anaconda3\\lib\\site-packages (0.24.1)\n"
     ]
    }
   ],
   "source": [
    "!pip install pydub"
   ]
  },
  {
   "cell_type": "code",
   "execution_count": 3,
   "metadata": {},
   "outputs": [],
   "source": [
    "import pydub"
   ]
  },
  {
   "cell_type": "code",
   "execution_count": 4,
   "metadata": {},
   "outputs": [],
   "source": [
    "from pydub.generators import Pulse"
   ]
  },
  {
   "cell_type": "code",
   "execution_count": 5,
   "metadata": {},
   "outputs": [
    {
     "name": "stdout",
     "output_type": "stream",
     "text": [
      "Help on class Pulse in module pydub.generators:\n",
      "\n",
      "class Pulse(SignalGenerator)\n",
      " |  Pulse(freq, duty_cycle=0.5, **kwargs)\n",
      " |  \n",
      " |  Method resolution order:\n",
      " |      Pulse\n",
      " |      SignalGenerator\n",
      " |      builtins.object\n",
      " |  \n",
      " |  Methods defined here:\n",
      " |  \n",
      " |  __init__(self, freq, duty_cycle=0.5, **kwargs)\n",
      " |      Initialize self.  See help(type(self)) for accurate signature.\n",
      " |  \n",
      " |  generate(self)\n",
      " |  \n",
      " |  ----------------------------------------------------------------------\n",
      " |  Methods inherited from SignalGenerator:\n",
      " |  \n",
      " |  to_audio_segment(self, duration=1000.0, volume=0.0)\n",
      " |      Duration in milliseconds\n",
      " |          (default: 1 second)\n",
      " |      Volume in DB relative to maximum amplitude\n",
      " |          (default 0.0 dBFS, which is the maximum value)\n",
      " |  \n",
      " |  ----------------------------------------------------------------------\n",
      " |  Data descriptors inherited from SignalGenerator:\n",
      " |  \n",
      " |  __dict__\n",
      " |      dictionary for instance variables (if defined)\n",
      " |  \n",
      " |  __weakref__\n",
      " |      list of weak references to the object (if defined)\n",
      "\n"
     ]
    }
   ],
   "source": [
    "help(Pulse)"
   ]
  },
  {
   "cell_type": "markdown",
   "metadata": {},
   "source": [
    "## (很簡單的)樂理\n",
    "- 十二平均率 \\\n",
    "https://zh.wikipedia.org/wiki/十二平均律\n",
    "- A440 - tuning pitch (1-hour) \\\n",
    "https://www.youtube.com/watch?v=0LxtrLizkrU\n",
    "- 中央C \\\n",
    "https://zh.wikipedia.org/wiki/C_(音名) "
   ]
  },
  {
   "cell_type": "code",
   "execution_count": 5,
   "metadata": {},
   "outputs": [],
   "source": [
    "'''\n",
    "在鋼琴上，每一組的白鍵都按照C、D、E、F、G、A、B依次排列，因此每一組都有一個C。\n",
    "在包含中央C的那組白鍵中的 A 為440 Hz，一般可用來當調音用。\n",
    "以下為 10 秒的音檔。\n",
    "'''\n",
    "audio = Pulse(440, duty_cycle=0.6).to_audio_segment() * 10"
   ]
  },
  {
   "cell_type": "code",
   "execution_count": 7,
   "metadata": {},
   "outputs": [
    {
     "name": "stdout",
     "output_type": "stream",
     "text": [
      "Help on built-in function pow in module builtins:\n",
      "\n",
      "pow(x, y, z=None, /)\n",
      "    Equivalent to x**y (with two arguments) or x**y % z (with three arguments)\n",
      "    \n",
      "    Some types, such as ints, are able to use a more efficient algorithm when\n",
      "    invoked using the three argument form.\n",
      "\n"
     ]
    }
   ],
   "source": [
    "help(pow)"
   ]
  },
  {
   "cell_type": "code",
   "execution_count": 6,
   "metadata": {},
   "outputs": [],
   "source": [
    "faded = audio.fade_in(2500).fade_out(5000)"
   ]
  },
  {
   "cell_type": "code",
   "execution_count": 7,
   "metadata": {},
   "outputs": [
    {
     "data": {
      "text/plain": [
       "<_io.BufferedRandom name='tuning_pitch_440.mp3'>"
      ]
     },
     "execution_count": 7,
     "metadata": {},
     "output_type": "execute_result"
    }
   ],
   "source": [
    "faded.export(\"tuning_pitch_440.mp3\", format=\"mp3\")"
   ]
  },
  {
   "cell_type": "code",
   "execution_count": 8,
   "metadata": {},
   "outputs": [],
   "source": [
    "'''\n",
    "中央C -- 也就是一般唱名為 Do -- 的頻率約為261.6赫茲：\n",
    "詳見音高（pitch）。\n",
    "https://zh.wikipedia.org/wiki/C_(音名)\n",
    "'''\n",
    "# 10 秒\n",
    "c = 440 *pow(2, 3/12)\n",
    "audioC = Pulse(c, duty_cycle=0.6).to_audio_segment() * 10"
   ]
  },
  {
   "cell_type": "code",
   "execution_count": 9,
   "metadata": {},
   "outputs": [
    {
     "data": {
      "text/plain": [
       "<_io.BufferedRandom name='C.mp3'>"
      ]
     },
     "execution_count": 9,
     "metadata": {},
     "output_type": "execute_result"
    }
   ],
   "source": [
    "audioC.export(\"C.mp3\", format=\"mp3\")"
   ]
  },
  {
   "cell_type": "markdown",
   "metadata": {},
   "source": [
    "## Playing mp3 song on python\n",
    "https://stackoverflow.com/questions/20021457/playing-mp3-song-on-python"
   ]
  },
  {
   "cell_type": "code",
   "execution_count": 10,
   "metadata": {},
   "outputs": [
    {
     "data": {
      "text/plain": [
       "True"
      ]
     },
     "execution_count": 10,
     "metadata": {},
     "output_type": "execute_result"
    }
   ],
   "source": [
    "import webbrowser\n",
    "webbrowser.open(\"C.mp3\")"
   ]
  },
  {
   "cell_type": "code",
   "execution_count": 11,
   "metadata": {},
   "outputs": [
    {
     "data": {
      "text/plain": [
       "True"
      ]
     },
     "execution_count": 11,
     "metadata": {},
     "output_type": "execute_result"
    }
   ],
   "source": [
    "webbrowser.open(\"tuning_pitch_440.mp3\")"
   ]
  },
  {
   "cell_type": "code",
   "execution_count": 15,
   "metadata": {},
   "outputs": [
    {
     "data": {
      "text/plain": [
       "True"
      ]
     },
     "execution_count": 15,
     "metadata": {},
     "output_type": "execute_result"
    }
   ],
   "source": [
    "# http://www.htqyy.com/gedan/play/2141\n",
    "#import webbrowser\n",
    "webbrowser.open(\"秋意浓.mp3\")"
   ]
  },
  {
   "cell_type": "markdown",
   "metadata": {},
   "source": [
    "## pygame學習筆記（4）：聲音控制\n",
    "https://codertw.com/程式語言/372085/"
   ]
  },
  {
   "cell_type": "code",
   "execution_count": 12,
   "metadata": {},
   "outputs": [
    {
     "name": "stdout",
     "output_type": "stream",
     "text": [
      "Collecting pygame\n",
      "  Downloading https://files.pythonhosted.org/packages/f2/30/92522de55be3f81fd0816331aac8ab12fe24116c4602960de5397726eae1/pygame-2.0.0-cp37-cp37m-win_amd64.whl (5.1MB)\n",
      "Installing collected packages: pygame\n",
      "Successfully installed pygame-2.0.0\n"
     ]
    }
   ],
   "source": [
    "!pip install pygame"
   ]
  },
  {
   "cell_type": "code",
   "execution_count": 13,
   "metadata": {},
   "outputs": [
    {
     "name": "stdout",
     "output_type": "stream",
     "text": [
      "pygame 2.0.0 (SDL 2.0.12, python 3.7.1)\n",
      "Hello from the pygame community. https://www.pygame.org/contribute.html\n"
     ]
    }
   ],
   "source": [
    "# https://www.soundboard.com/sb/sound/156453\n",
    "from pygame import mixer  # Load the popular external library\n",
    "\n",
    "mixer.init()\n",
    "mixer.music.load('Never Gonna Give You Up Original.mp3')\n",
    "mixer.music.play()"
   ]
  },
  {
   "cell_type": "code",
   "execution_count": null,
   "metadata": {},
   "outputs": [],
   "source": []
  }
 ],
 "metadata": {
  "kernelspec": {
   "display_name": "Python 3",
   "language": "python",
   "name": "python3"
  },
  "language_info": {
   "codemirror_mode": {
    "name": "ipython",
    "version": 3
   },
   "file_extension": ".py",
   "mimetype": "text/x-python",
   "name": "python",
   "nbconvert_exporter": "python",
   "pygments_lexer": "ipython3",
   "version": "3.7.1"
  }
 },
 "nbformat": 4,
 "nbformat_minor": 4
}
