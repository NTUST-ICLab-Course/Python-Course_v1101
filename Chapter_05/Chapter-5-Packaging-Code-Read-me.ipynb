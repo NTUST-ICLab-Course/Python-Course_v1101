{
 "cells": [
  {
   "cell_type": "markdown",
   "metadata": {},
   "source": [
    "# Chapter 5 Packaging Code with setuptools\n",
    "\n",
    "Content:\n",
    "1. Package Repository\n",
    "    + PyPI--Python Package Index (PyPI) \n",
    "    + github\n",
    "    + apt-get\n",
    "2. 在 Windows 環境中裝 pydub\n",
    "    + 合成音樂\n",
    "3. Chapter 5 Packaging Code with setuptools\n",
    "    + 如何編寫 setup,py for \"python setup.py install\"\n",
    "    + command line interface: CLI for package"
   ]
  },
  {
   "cell_type": "markdown",
   "metadata": {},
   "source": [
    "### 在 Windows 作業系統上的作法，就兩種安裝 package 的方式：\n",
    "1. 取得包含 source code 以及 setup.py 的整個目錄 (package) \n",
    "    + 然後用在含有 setup.py 的那個目錄中： \\\n",
    "       python setup.py install\n",
    "2. PyPI--Python Package Index (PyPI) 拿下來：\n",
    "    + pip install <package name\\>\n",
    "    + 如果不確定名稱，就用 pip search <package name\\>"
   ]
  },
  {
   "cell_type": "markdown",
   "metadata": {},
   "source": [
    "## 本章最重要的是展示如何將一個寫好的 package 打包好，\n",
    "之後，可以被別人拿來安裝與 import 用：\n",
    "1. 先安排好 *setup.py* 與要被安裝的 source directory 放在同一層的目錄底下\n",
    "2. python setup.py install \n",
    "3. pip intall xxx\n",
    "4. pip uninstall xxx\n",
    "\n",
    "待會要注意兩個目錄，其主要差別是 calcpy_with_cli 裏，特別安排可在 command shell 上直接執行的指令：\n",
    "1. calcpy\n",
    "2. calcpy_with_cli"
   ]
  },
  {
   "cell_type": "code",
   "execution_count": 2,
   "metadata": {},
   "outputs": [
    {
     "name": "stdout",
     "output_type": "stream",
     "text": [
      "12.39322033898305\n"
     ]
    }
   ],
   "source": [
    "!calcpy 3 add 5 divide 5.9 multiply 9.14"
   ]
  },
  {
   "cell_type": "code",
   "execution_count": null,
   "metadata": {},
   "outputs": [],
   "source": []
  }
 ],
 "metadata": {
  "kernelspec": {
   "display_name": "Python 3",
   "language": "python",
   "name": "python3"
  },
  "language_info": {
   "codemirror_mode": {
    "name": "ipython",
    "version": 3
   },
   "file_extension": ".py",
   "mimetype": "text/x-python",
   "name": "python",
   "nbconvert_exporter": "python",
   "pygments_lexer": "ipython3",
   "version": "3.7.1"
  }
 },
 "nbformat": 4,
 "nbformat_minor": 2
}
