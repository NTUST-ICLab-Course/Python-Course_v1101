{
 "cells": [
  {
   "cell_type": "markdown",
   "metadata": {},
   "source": [
    "# Chapter 5 Packaging Code with setuptools\n",
    "\n",
    "2020-11-02\n",
    "1. python 開發的包 (package) 可裝在 Linux/Windows 的環境上，我們以 Windows 10 為例"
   ]
  },
  {
   "cell_type": "markdown",
   "metadata": {},
   "source": [
    "## 本章最重要的是展示如何將一個寫好的 package 打包好，\n",
    "之後，可以被別人拿來安裝與 import 用：\n",
    "1. 先安排好 *setup.py* 與要被安裝的 source directory 放在同一層的目錄底下\n",
    "2. python setup.py install \n",
    "3. pip intall xxx\n",
    "4. pip uninstall xxx\n",
    "\n",
    "待會要注意兩個目錄，其主要差別是 calcpy_with_cli 裏，特別安排可在 command shell 上直接執行的指令：\n",
    "1. calcpy\n",
    "2. calcpy_with_cli"
   ]
  },
  {
   "cell_type": "code",
   "execution_count": 1,
   "metadata": {},
   "outputs": [
    {
     "name": "stdout",
     "output_type": "stream",
     "text": [
      "8.0\n"
     ]
    }
   ],
   "source": [
    "!calcpy 3 add 5"
   ]
  },
  {
   "cell_type": "markdown",
   "metadata": {},
   "source": [
    "### 在 Windows 作業系統上的作法，就兩種安裝 package 的方式：\n",
    "1. 取得包含 source code 以及 setup.py 的整個目錄 (package) \n",
    "    + 然後用在含有 setup.py 的那個目錄中： \\\n",
    "       python setup.py install\n",
    "2. PyPI--Python Package Index (PyPI) 拿下來：\n",
    "    + pip install <package name\\>\n",
    "    + 如果不確定名稱，就用 pip search <package name\\>"
   ]
  },
  {
   "cell_type": "code",
   "execution_count": 2,
   "metadata": {
    "collapsed": true
   },
   "outputs": [
    {
     "name": "stdout",
     "output_type": "stream",
     "text": [
      "qaviton-pip (2019.9.29.8.1.45.50215)  - qaviton pip\n",
      "pip-utils (0.0.6)                     - Helper utilities for pip\n",
      "pip-package (0.3)                     - build a pip package\n",
      "pip-additions (0.2)                   - Additional Pip Utilities\n",
      "pip-hello (0.0.1)                     - pip install test\n",
      "pip-save (0.2.0)                      - A wrapper around pip to add `npm --save` style functionality to pip\n",
      "yxspkg-pip (1.1)                      - pip user tsinghua repo\n",
      "tiamat-pip (1.2.1)                    - Pip handling for tiamat projects\n",
      "pip-api (0.0.14)                      - An unofficial, importable pip API\n",
      "pip-reqs (0.8.6)                      - Helpers for dealing with pip requirements\n",
      "pip-plus-plus (0.0.22)                - Pip++\n",
      "pip-plugin-collection (0.0.1)         - A pip plugin for pip-upgrader.\n",
      "pip-prometheus (1.2.1)                - Exports Pip packages versions for Prometheus.io.\n",
      "pip-download (0.3.1)                  - A wrapper for pip download in offline scenario.\n",
      "pip-accel (0.43)                      - Accelerator for pip, the Python package manager\n",
      "first-pip (0.1)                       - Testing my first pip package\n",
      "elon-pip (0.0.1)                      - pip init template, commmand: pipinit\n",
      "pip-ppm (0.0.2.1)                     - A pip alternative for managing python packages\n",
      "pip-downloader (0.2)                  - Download packages from pip for offline usage.\n",
      "pip-bundle (0.0.10)                   - Bundle all pip dependencies in a single tarball\n",
      "pip-plus (0.0.1.dev4)                 - A small pip web management tool package\n",
      "pip-pop (0.1.1)                       - pip-pop manages your requirements files.\n",
      "pip-purge (0.1.0)                     - pip-pop manages your requirements files.\n",
      "pip-create (0.3.1)                    - Tools to create a Python distribution for use with pip\n",
      "pip-init (0.3.0)                      - pip-init to generate a base setup.py file\n",
      "pip-check (2.6)                       - Display installed pip packages and their update status..\n",
      "pip-versions (0.1.0)                  - Show pip version information from pypi\n",
      "pip-tools (5.3.1)                     - pip-tools keeps your pinned dependencies fresh.\n",
      "pip-deepfreeze (0.8.0)                - A simple pip freeze workflow for Python application developers.\n",
      "pip-grab (1.0.0.6)                    - Grabs installed packages in pip every N seconds\n",
      "callable-pip (1.0.0)                  - callable-pip patches over the wide use of pip.main()\n",
      "pip-stripper (0.3.0)                  - strip out unnecessary pip packages from requirements\n",
      "pip-shims (0.5.3)                     - Compatibility shims for pip versions 8 thru current.\n",
      "pip-requ (0.180.7)                    - Pip Requ helps managing your Python requirements files.\n",
      "pip-licenses (3.0.0)                  - Dump the software license list of Python packages installed with pip.\n",
      "pip-crate (0.1)                       - Simple pip wrapper that uses crate.io repository for better speed.\n",
      "ipython-pip-magics (1.0.1)            - %pip magics for IPython\n",
      "ipython-pip (0.3)                     - Allows IPython notebook extension authors to make their extension pip installable!\n",
      "pip-negotiator (1.4.1)                - A simple tool with the goal to  keep your pip packages without conflicts\n",
      "pip-chill (1.0.0)                     - Like `pip freeze` but lists only the packages that are not dependencies of installed packages.\n",
      "jupyter-pip (0.3.1)                   - Allows IPython notebook extension authors to make their extension pip installable!\n",
      "pip-upgrader (1.4.15)                 - An interactive pip requirements upgrader. It also updates the version in your requirements.txt file.\n",
      "pip-manager (1.0.4)                   - pip-manager is a command line tool to make Python packages management easy.\n",
      "pip-date (1.0.3)                      - Show the installation/modification times of all your pip packages and other tools\n",
      "pip-review (1.1.0)                    - pip-review lets you smoothly manage all available PyPI updates.\n",
      "exampe-pip-package (0.0.4)            - Just a pip package example\n",
      "my-pip-package (1.1)                  - A tutorial for creating pip packages.\n",
      "pip-test-jj (0.1)                     - A random test pip lib\n",
      "safe-pip-upgrade (0.0.5)              - Pip safe auto-upgrade\n",
      "test-pip-install (0.0.3)              - Test if `pip install` is working\n",
      "pip-setting (0.0.3)                   - &#24555;&#36895;&#35774;&#32622;pip&#38236;&#20687;&#28304;&#30340;&#24037;&#20855;\n",
      "tox-pip-version (0.0.7)               - Select PIP version to use with tox\n",
      "pytorch-pip-shim (0.1.0)              - Patch pip to play ball with PyTorch\n",
      "pip-gui-tools (0.0.10)                - A tool for python pip package management\n",
      "pip (20.2.4)                          - The PyPA recommended tool for installing Python packages.\n",
      "  INSTALLED: 19.3.1\n",
      "  LATEST:    20.2.4\n",
      "check-pip-compile (0.1.0)             - Check if a requirements.txt file needs to be pip-compiled\n",
      "auto-pip-idx (0.1.1)                  - A tool that adds the NVIDIA PIP Index to the environment.\n",
      "pip-example (0.0.2)                   - &#23454;&#29616;&#21152;&#27861;&#65292;&#32451;&#20064;&#23558;&#33258;&#24049;&#30340;&#39033;&#30446;&#25171;&#21253;&#25104;pip\n",
      "gs-pip-install (0.1.12)               - Pip Install Packages Stored in Google Cloud Buckets\n",
      "pip-tools-win (0.0.4)                 - pip-tools keeps your pinned dependencies fresh.\n",
      "first-pip-foo (0.1)                   - A demo package, to learn how to create a pip package\n",
      "pip-install-test (0.5)                - A minimal stub package to test success of pip install\n",
      "pip-package-list (0.0.3)              - Generate a flat list of packages Pip would install.\n",
      "pip-system-certs (2.0)                - Live patches pip to use system certs by default\n",
      "pip-tools-optimizely (1.1.6.post2)    - pip-tools keeps your pinned dependencies fresh.\n",
      "hello-pip-first-time (0.1)            - How to submit a pip package\n",
      "sample-oeg-pip-package (0.1)          - Sample OEG pip package\n",
      "pip-example-pkg-revuel (0.7.0)        - Tutorial to distribute a pip package\n",
      "pip-upgrade-pkgs (0.0.1)              - A single command to upgrade outdated \"pip install --user\" packages.\n",
      "pip-install-privates (0.6.0)          - Install pip packages from private repositories without an ssh agent\n",
      "advanced-pip-gui (0.0.0)              - A GUI helper that will allow to run pip commands and use them in a venv\n",
      "polyaxon-pip-tests (0.0.9)            - Polyaxon package to group all std tests pip packages used in several projects\n",
      "pip-s3-proxy (0.2)                    - provides an unauthenticated plain HTTP proxy so pip can install packages from S3\n",
      "pip-module-scanner (0.6)              - Scans your Python project for all installed third party pip libraries and generates a requirements.txt based output.\n",
      "pip-custom-platform (0.5.0)           - pip + wheel wrapper which allows you to choose a custom platform name for building, downloading, and installing wheels.\n",
      "pip-outdated (0.4.0)                  - Find outdated dependencies in your requirements.txt or setup.cfg\n",
      "hub-pip (1.1.0)                       - Generates and deploys Black Duck I/O files for use with the Black Duck Hub\n",
      "pip-box (0.4.5)                       - An easy tool for upgrading all of your packages while not breaking dependencies\n",
      "pip-gun (1.0.1)                       - UNKNOWN\n",
      "pip-faster (1.0rc6.dev4)              - Quickly and exactly synchronize a virtualenv with a requirements.txt\n",
      "pip-plant (0.3.3)                     - Plant simplifies Python package management for your projects.\n",
      "pip-project.py (0.1)                  - \n",
      "pip-update (0.4.1)                    - A current and update package list of environment extractor.\n",
      "pip-run (8.2.0)                       - install packages and run Python with them\n",
      "pip-cache (0.0.6)                     - Local PyPi Package Name Cache\n",
      "baboon-pip (0.4)                      - A Simple File Copy Tool\n",
      "pip-test (0.1)                        - \n",
      "knapsack-pip (0.2)                    - Knapsack problem solver\n",
      "pip-cli (0.0.0.dev0)                  - \n",
      "pdo-pip (1.1.1)                       - An interface to access a database from Python.\n",
      "pip-name (1.0.2)                      - Check whether package name is available on PyPi\n",
      "pyorm-pip (1.0.0)                     - An object-relational mapper (ORM) in Python\n",
      "pip-login (0.0.6)                     - \n",
      "pip-spark (0.1)                       - Graphing on the command line, from Holman\n",
      "pytheas-pip (1.3.1)                   - Python Electromagnetic Analysis and Simulation with the Finite Element Method\n",
      "pip-demo (0.1.2)                      - Python command line html creator\n",
      "mms-pip (0.8.4.3)                     - A custom MMS Analytics module for Python3 by the Omnichannel Analytics Team\n",
      "luanpeng-pip (2018.6.27)              - \n",
      "pip-upgrade (0.0.6)                   - Provides functionality for updating your outdated packages.\n",
      "pip-freezer (0.2.0)                   - Putting packages in their proper place (local.txt, production.txt, test.txt)\n"
     ]
    }
   ],
   "source": [
    "!pip search pip"
   ]
  },
  {
   "cell_type": "markdown",
   "metadata": {},
   "source": [
    "## How To Package Your Python Code\n",
    "Copyright 2012\n",
    "https://python-packaging.readthedocs.io/en/latest/index.html"
   ]
  },
  {
   "cell_type": "code",
   "execution_count": 3,
   "metadata": {},
   "outputs": [
    {
     "name": "stdout",
     "output_type": "stream",
     "text": [
      "Requirement already satisfied: funniest in d:\\google雲端硬碟\\gettingstartedwithpythonandraspberrypi-book_release\\funniest (0.1)\n",
      "Requirement already satisfied: markdown in c:\\users\\sheng-luen cheng\\appdata\\roaming\\python\\python37\\site-packages (from funniest) (3.1.1)\n",
      "Requirement already satisfied: setuptools>=36 in c:\\users\\public\\anaconda3\\lib\\site-packages (from markdown->funniest) (49.6.0.post20200925)\n"
     ]
    }
   ],
   "source": [
    "!pip install funniest"
   ]
  },
  {
   "cell_type": "markdown",
   "metadata": {},
   "source": [
    "## Publishing (Perfect) Python Packages on PyPi\n",
    "2020年1月7日\n",
    "https://www.youtube.com/watch?v=GIF3LaRqgXo"
   ]
  },
  {
   "cell_type": "code",
   "execution_count": 4,
   "metadata": {},
   "outputs": [
    {
     "data": {
      "text/html": [
       "<iframe width=\"560\" height=\"315\" src=\"https://www.youtube.com/embed/GIF3LaRqgXo\" frameborder=\"0\" allow=\"accelerometer; autoplay; clipboard-write; encrypted-media; gyroscope; picture-in-picture\" allowfullscreen></iframe>\n"
      ],
      "text/plain": [
       "<IPython.core.display.HTML object>"
      ]
     },
     "metadata": {},
     "output_type": "display_data"
    }
   ],
   "source": [
    "%%HTML\n",
    "<iframe width=\"560\" height=\"315\" src=\"https://www.youtube.com/embed/GIF3LaRqgXo\" frameborder=\"0\" allow=\"accelerometer; autoplay; clipboard-write; encrypted-media; gyroscope; picture-in-picture\" allowfullscreen></iframe>"
   ]
  },
  {
   "cell_type": "markdown",
   "metadata": {},
   "source": [
    "## 全面學習 Python 包，你 Get 了嗎？\n",
    "鏈聞區塊鏈文章\\\n",
    "2020年2月22日\n",
    "https://www.chainnews.com/zh-hant/articles/550960337826.htm"
   ]
  },
  {
   "cell_type": "markdown",
   "metadata": {},
   "source": [
    "## 如何安裝 module: 手動"
   ]
  },
  {
   "cell_type": "code",
   "execution_count": 5,
   "metadata": {},
   "outputs": [
    {
     "name": "stderr",
     "output_type": "stream",
     "text": [
      "UsageError: Line magic function `%sudo` not found.\n"
     ]
    }
   ],
   "source": [
    "%sudo atp-get install git"
   ]
  },
  {
   "cell_type": "markdown",
   "metadata": {},
   "source": [
    "### 在 Windows 10 中，我就放棄了裝 apt-get 的念頭，只找 pip 上的\n",
    "\n",
    "在 Windows 下安裝 python 的 package 沒有像在 Ubuntu 或是 Linux 底下那有友善，\n",
    "請先參考以下的網頁：\n",
    "https://jerrynest.io/windows-install-pip/\n",
    "\n",
    "Python 3.4 以上的版本已經預裝好 pip 了，你不需要額外安裝。"
   ]
  },
  {
   "cell_type": "code",
   "execution_count": 6,
   "metadata": {},
   "outputs": [
    {
     "name": "stdout",
     "output_type": "stream",
     "text": [
      "qaviton-pip (2019.9.29.8.1.45.50215)  - qaviton pip\n",
      "pip-utils (0.0.6)                     - Helper utilities for pip\n",
      "pip-package (0.3)                     - build a pip package\n",
      "pip-additions (0.2)                   - Additional Pip Utilities\n",
      "pip-hello (0.0.1)                     - pip install test\n",
      "pip-save (0.2.0)                      - A wrapper around pip to add `npm --save` style functionality to pip\n",
      "yxspkg-pip (1.1)                      - pip user tsinghua repo\n",
      "tiamat-pip (1.2.1)                    - Pip handling for tiamat projects\n",
      "pip-api (0.0.14)                      - An unofficial, importable pip API\n",
      "pip-reqs (0.8.6)                      - Helpers for dealing with pip requirements\n",
      "pip-plus-plus (0.0.22)                - Pip++\n",
      "pip-plugin-collection (0.0.1)         - A pip plugin for pip-upgrader.\n",
      "pip-prometheus (1.2.1)                - Exports Pip packages versions for Prometheus.io.\n",
      "pip-download (0.3.1)                  - A wrapper for pip download in offline scenario.\n",
      "pip-accel (0.43)                      - Accelerator for pip, the Python package manager\n",
      "first-pip (0.1)                       - Testing my first pip package\n",
      "elon-pip (0.0.1)                      - pip init template, commmand: pipinit\n",
      "pip-ppm (0.0.2.1)                     - A pip alternative for managing python packages\n",
      "pip-downloader (0.2)                  - Download packages from pip for offline usage.\n",
      "pip-bundle (0.0.10)                   - Bundle all pip dependencies in a single tarball\n",
      "pip-plus (0.0.1.dev4)                 - A small pip web management tool package\n",
      "pip-pop (0.1.1)                       - pip-pop manages your requirements files.\n",
      "pip-purge (0.1.0)                     - pip-pop manages your requirements files.\n",
      "pip-create (0.3.1)                    - Tools to create a Python distribution for use with pip\n",
      "pip-init (0.3.0)                      - pip-init to generate a base setup.py file\n",
      "pip-check (2.6)                       - Display installed pip packages and their update status..\n",
      "pip-versions (0.1.0)                  - Show pip version information from pypi\n",
      "pip-tools (5.3.1)                     - pip-tools keeps your pinned dependencies fresh.\n",
      "pip-deepfreeze (0.8.0)                - A simple pip freeze workflow for Python application developers.\n",
      "pip-grab (1.0.0.6)                    - Grabs installed packages in pip every N seconds\n",
      "callable-pip (1.0.0)                  - callable-pip patches over the wide use of pip.main()\n",
      "pip-stripper (0.3.0)                  - strip out unnecessary pip packages from requirements\n",
      "pip-shims (0.5.3)                     - Compatibility shims for pip versions 8 thru current.\n",
      "pip-requ (0.180.7)                    - Pip Requ helps managing your Python requirements files.\n",
      "pip-licenses (3.0.0)                  - Dump the software license list of Python packages installed with pip.\n",
      "pip-crate (0.1)                       - Simple pip wrapper that uses crate.io repository for better speed.\n",
      "ipython-pip-magics (1.0.1)            - %pip magics for IPython\n",
      "ipython-pip (0.3)                     - Allows IPython notebook extension authors to make their extension pip installable!\n",
      "pip-negotiator (1.4.1)                - A simple tool with the goal to  keep your pip packages without conflicts\n",
      "pip-chill (1.0.0)                     - Like `pip freeze` but lists only the packages that are not dependencies of installed packages.\n",
      "jupyter-pip (0.3.1)                   - Allows IPython notebook extension authors to make their extension pip installable!\n",
      "pip-upgrader (1.4.15)                 - An interactive pip requirements upgrader. It also updates the version in your requirements.txt file.\n",
      "pip-manager (1.0.4)                   - pip-manager is a command line tool to make Python packages management easy.\n",
      "pip-date (1.0.3)                      - Show the installation/modification times of all your pip packages and other tools\n",
      "pip-review (1.1.0)                    - pip-review lets you smoothly manage all available PyPI updates.\n",
      "exampe-pip-package (0.0.4)            - Just a pip package example\n",
      "my-pip-package (1.1)                  - A tutorial for creating pip packages.\n",
      "pip-test-jj (0.1)                     - A random test pip lib\n",
      "safe-pip-upgrade (0.0.5)              - Pip safe auto-upgrade\n",
      "test-pip-install (0.0.3)              - Test if `pip install` is working\n",
      "pip-setting (0.0.3)                   - &#24555;&#36895;&#35774;&#32622;pip&#38236;&#20687;&#28304;&#30340;&#24037;&#20855;\n",
      "tox-pip-version (0.0.7)               - Select PIP version to use with tox\n",
      "pytorch-pip-shim (0.1.0)              - Patch pip to play ball with PyTorch\n",
      "pip-gui-tools (0.0.10)                - A tool for python pip package management\n",
      "pip (20.2.4)                          - The PyPA recommended tool for installing Python packages.\n",
      "  INSTALLED: 19.3.1\n",
      "  LATEST:    20.2.4\n",
      "check-pip-compile (0.1.0)             - Check if a requirements.txt file needs to be pip-compiled\n",
      "auto-pip-idx (0.1.1)                  - A tool that adds the NVIDIA PIP Index to the environment.\n",
      "pip-example (0.0.2)                   - &#23454;&#29616;&#21152;&#27861;&#65292;&#32451;&#20064;&#23558;&#33258;&#24049;&#30340;&#39033;&#30446;&#25171;&#21253;&#25104;pip\n",
      "gs-pip-install (0.1.12)               - Pip Install Packages Stored in Google Cloud Buckets\n",
      "pip-tools-win (0.0.4)                 - pip-tools keeps your pinned dependencies fresh.\n",
      "first-pip-foo (0.1)                   - A demo package, to learn how to create a pip package\n",
      "pip-install-test (0.5)                - A minimal stub package to test success of pip install\n",
      "pip-package-list (0.0.3)              - Generate a flat list of packages Pip would install.\n",
      "pip-system-certs (2.0)                - Live patches pip to use system certs by default\n",
      "pip-tools-optimizely (1.1.6.post2)    - pip-tools keeps your pinned dependencies fresh.\n",
      "hello-pip-first-time (0.1)            - How to submit a pip package\n",
      "sample-oeg-pip-package (0.1)          - Sample OEG pip package\n",
      "pip-example-pkg-revuel (0.7.0)        - Tutorial to distribute a pip package\n",
      "pip-upgrade-pkgs (0.0.1)              - A single command to upgrade outdated \"pip install --user\" packages.\n",
      "pip-install-privates (0.6.0)          - Install pip packages from private repositories without an ssh agent\n",
      "advanced-pip-gui (0.0.0)              - A GUI helper that will allow to run pip commands and use them in a venv\n",
      "polyaxon-pip-tests (0.0.9)            - Polyaxon package to group all std tests pip packages used in several projects\n",
      "pip-s3-proxy (0.2)                    - provides an unauthenticated plain HTTP proxy so pip can install packages from S3\n",
      "pip-module-scanner (0.6)              - Scans your Python project for all installed third party pip libraries and generates a requirements.txt based output.\n",
      "pip-custom-platform (0.5.0)           - pip + wheel wrapper which allows you to choose a custom platform name for building, downloading, and installing wheels.\n",
      "pip-outdated (0.4.0)                  - Find outdated dependencies in your requirements.txt or setup.cfg\n",
      "hub-pip (1.1.0)                       - Generates and deploys Black Duck I/O files for use with the Black Duck Hub\n",
      "pip-box (0.4.5)                       - An easy tool for upgrading all of your packages while not breaking dependencies\n",
      "pip-gun (1.0.1)                       - UNKNOWN\n",
      "pip-faster (1.0rc6.dev4)              - Quickly and exactly synchronize a virtualenv with a requirements.txt\n",
      "pip-plant (0.3.3)                     - Plant simplifies Python package management for your projects.\n",
      "pip-project.py (0.1)                  - \n",
      "pip-update (0.4.1)                    - A current and update package list of environment extractor.\n",
      "pip-run (8.2.0)                       - install packages and run Python with them\n",
      "pip-cache (0.0.6)                     - Local PyPi Package Name Cache\n",
      "baboon-pip (0.4)                      - A Simple File Copy Tool\n",
      "pip-test (0.1)                        - \n",
      "knapsack-pip (0.2)                    - Knapsack problem solver\n",
      "pip-cli (0.0.0.dev0)                  - \n",
      "pdo-pip (1.1.1)                       - An interface to access a database from Python.\n",
      "pip-name (1.0.2)                      - Check whether package name is available on PyPi\n",
      "pyorm-pip (1.0.0)                     - An object-relational mapper (ORM) in Python\n",
      "pip-login (0.0.6)                     - \n",
      "pip-spark (0.1)                       - Graphing on the command line, from Holman\n",
      "pytheas-pip (1.3.1)                   - Python Electromagnetic Analysis and Simulation with the Finite Element Method\n",
      "pip-demo (0.1.2)                      - Python command line html creator\n",
      "mms-pip (0.8.4.3)                     - A custom MMS Analytics module for Python3 by the Omnichannel Analytics Team\n",
      "luanpeng-pip (2018.6.27)              - \n",
      "pip-upgrade (0.0.6)                   - Provides functionality for updating your outdated packages.\n",
      "pip-freezer (0.2.0)                   - Putting packages in their proper place (local.txt, production.txt, test.txt)\n"
     ]
    }
   ],
   "source": [
    "!pip search pip"
   ]
  },
  {
   "cell_type": "code",
   "execution_count": 7,
   "metadata": {},
   "outputs": [
    {
     "name": "stdout",
     "output_type": "stream",
     "text": [
      "pip 19.3.1 from C:\\Users\\Public\\Anaconda3\\lib\\site-packages\\pip (python 3.7)\n",
      "\n"
     ]
    }
   ],
   "source": [
    "!pip --version"
   ]
  },
  {
   "cell_type": "markdown",
   "metadata": {},
   "source": [
    "## How to Install Python Packages from Github\n",
    "If a Python package you want isn't available on Pypi, then you can still install it using pip.\n",
    "https://www.youtube.com/watch?v=c6IgzwFRf5I&t=22s"
   ]
  },
  {
   "cell_type": "code",
   "execution_count": null,
   "metadata": {},
   "outputs": [],
   "source": [
    "%%HTML\n",
    "<iframe width=\"560\" height=\"315\" src=\"https://www.youtube.com/embed/c6IgzwFRf5I\" frameborder=\"0\" allow=\"accelerometer; autoplay; clipboard-write; encrypted-media; gyroscope; picture-in-picture\" allowfullscreen></iframe>"
   ]
  },
  {
   "cell_type": "markdown",
   "metadata": {},
   "source": [
    "## 使用 pip 自動安裝 module\n",
    "直接在 cmd 裏面打：\\\n",
    "!pip install <package name\\>"
   ]
  },
  {
   "cell_type": "code",
   "execution_count": 8,
   "metadata": {},
   "outputs": [
    {
     "name": "stdout",
     "output_type": "stream",
     "text": [
      "Requirement already satisfied: numpy in c:\\users\\public\\anaconda3\\lib\\site-packages (1.19.1)\n"
     ]
    }
   ],
   "source": [
    "!pip install numpy"
   ]
  },
  {
   "cell_type": "code",
   "execution_count": 9,
   "metadata": {
    "collapsed": true
   },
   "outputs": [
    {
     "name": "stdout",
     "output_type": "stream",
     "text": [
      "Package                Version             Location                                                                  \n",
      "---------------------- ------------------- --------------------------------------------------------------------------\n",
      "absl-py                0.8.1               \n",
      "argon2-cffi            20.1.0              \n",
      "arpa                   0.1.0b4             \n",
      "asn1crypto             1.4.0               \n",
      "astor                  0.8.0               \n",
      "async-generator        1.10                \n",
      "attrs                  20.2.0              \n",
      "backcall               0.2.0               \n",
      "beautifulsoup4         4.9.1               \n",
      "bleach                 3.2.1               \n",
      "brotlipy               0.7.0               \n",
      "cachetools             3.1.1               \n",
      "calcpy                 0.0.2               \n",
      "certifi                2020.6.20           \n",
      "cffi                   1.14.3              \n",
      "chardet                3.0.4               \n",
      "click                  7.1.2               \n",
      "colorama               0.4.3               \n",
      "conda                  4.8.5               \n",
      "conda-build            3.17.6              \n",
      "conda-package-handling 1.7.0               \n",
      "conda-verify           3.1.1               \n",
      "cryptography           2.3.1               \n",
      "cycler                 0.10.0              \n",
      "decorator              4.4.2               \n",
      "defusedxml             0.6.0               \n",
      "entrypoints            0.3                 \n",
      "ffmpeg                 1.4                 \n",
      "filelock               3.0.12              \n",
      "funniest               0.1                 d:\\google雲端硬碟\\gettingstartedwithpythonandraspberrypi-book_release\\funniest\n",
      "future                 0.18.2              \n",
      "gast                   0.2.2               \n",
      "glob2                  0.7                 \n",
      "google-auth            1.7.0               \n",
      "google-auth-oauthlib   0.4.1               \n",
      "google-pasta           0.1.8               \n",
      "grpcio                 1.25.0              \n",
      "h5py                   2.10.0              \n",
      "idna                   2.10                \n",
      "importlib-metadata     1.7.0               \n",
      "ipykernel              5.3.4               \n",
      "ipython                7.18.1              \n",
      "ipython-genutils       0.2.0               \n",
      "ipywidgets             7.5.1               \n",
      "jedi                   0.17.2              \n",
      "Jinja2                 2.11.2              \n",
      "json5                  0.9.5               \n",
      "jsonschema             3.2.0               \n",
      "jupyter-client         6.1.7               \n",
      "jupyter-core           4.6.3               \n",
      "jupyterlab             2.2.6               \n",
      "jupyterlab-pygments    0.1.1               \n",
      "jupyterlab-server      1.2.0               \n",
      "Keras-Applications     1.0.8               \n",
      "Keras-Preprocessing    1.1.0               \n",
      "kiwisolver             1.2.0               \n",
      "libarchive-c           2.9                 \n",
      "lxml                   4.4.2               \n",
      "Markdown               3.1.1               \n",
      "MarkupSafe             1.1.1               \n",
      "matplotlib             3.1.2               \n",
      "menuinst               1.4.16              \n",
      "mistune                0.8.4               \n",
      "mkl-fft                1.2.0               \n",
      "mkl-random             1.1.1               \n",
      "mkl-service            2.3.0               \n",
      "n-gram                 0.1                 \n",
      "navigator-updater      0.2.1               \n",
      "nbclient               0.5.0               \n",
      "nbconvert              6.0.6               \n",
      "nbformat               5.0.7               \n",
      "nest-asyncio           1.4.0               \n",
      "notebook               6.1.1               \n",
      "numpy                  1.19.1              \n",
      "oauthlib               3.1.0               \n",
      "opt-einsum             3.1.0               \n",
      "packaging              20.4                \n",
      "pandas                 0.25.3              \n",
      "pandocfilters          1.4.2               \n",
      "parso                  0.7.0               \n",
      "pickleshare            0.7.5               \n",
      "Pillow                 6.2.1               \n",
      "pip                    19.3.1              \n",
      "pkginfo                1.5.0.1             \n",
      "prometheus-client      0.8.0               \n",
      "prompt-toolkit         3.0.7               \n",
      "protobuf               3.10.0              \n",
      "psutil                 5.7.2               \n",
      "pyasn1                 0.4.7               \n",
      "pyasn1-modules         0.2.7               \n",
      "pycosat                0.6.3               \n",
      "pycparser              2.20                \n",
      "pydub                  0.24.1              \n",
      "Pygments               2.7.1               \n",
      "pyOpenSSL              19.0.0              \n",
      "pyparsing              2.4.7               \n",
      "pypinyin               0.39.0              \n",
      "pyreadline             2.1                 \n",
      "pyrsistent             0.17.3              \n",
      "PySocks                1.7.1               \n",
      "python-dateutil        2.8.1               \n",
      "pytz                   2020.1              \n",
      "pywin32                227                 \n",
      "pywinpty               0.5.7               \n",
      "PyYAML                 5.3.1               \n",
      "pyzmq                  19.0.2              \n",
      "QtPy                   1.9.0               \n",
      "requests               2.24.0              \n",
      "requests-oauthlib      1.3.0               \n",
      "rsa                    4.0                 \n",
      "ruamel-yaml            0.15.87             \n",
      "scipy                  1.5.2               \n",
      "Send2Trash             1.5.0               \n",
      "setuptools             49.6.0.post20200925 \n",
      "six                    1.15.0              \n",
      "soupsieve              2.0.1               \n",
      "stn                    1.0.1               \n",
      "tensorboard            2.0.1               \n",
      "tensorflow             1.14.0              \n",
      "tensorflow-estimator   2.0.1               \n",
      "termcolor              1.1.0               \n",
      "terminado              0.8.3               \n",
      "testpath               0.4.4               \n",
      "torch                  1.0.1               \n",
      "torchvision            0.4.1               \n",
      "tornado                6.0.4               \n",
      "tqdm                   4.49.0              \n",
      "traitlets              4.3.3               \n",
      "unitconverter          0.1.0               \n",
      "urllib3                1.25.10             \n",
      "wcwidth                0.2.5               \n",
      "webencodings           0.5.1               \n",
      "Werkzeug               1.0.1               \n",
      "wheel                  0.35.1              \n",
      "widgetsnbextension     3.5.1               \n",
      "win-inet-pton          1.1.0               \n",
      "wincertstore           0.2                 \n",
      "wrapt                  1.11.2              \n",
      "zipp                   3.1.0               \n"
     ]
    }
   ],
   "source": [
    "!pip list"
   ]
  },
  {
   "cell_type": "code",
   "execution_count": 10,
   "metadata": {},
   "outputs": [
    {
     "name": "stdout",
     "output_type": "stream",
     "text": [
      "4.3773333333333335\n"
     ]
    }
   ],
   "source": [
    "!calcpy 3 add 64 divide 75 multiply 4.9"
   ]
  },
  {
   "cell_type": "code",
   "execution_count": 11,
   "metadata": {},
   "outputs": [
    {
     "data": {
      "text/plain": [
       "4.3773333333333335"
      ]
     },
     "execution_count": 11,
     "metadata": {},
     "output_type": "execute_result"
    }
   ],
   "source": [
    "(3 + 64) / 75 * 4.9"
   ]
  },
  {
   "cell_type": "code",
   "execution_count": 12,
   "metadata": {},
   "outputs": [],
   "source": [
    "# 照道理用以下可以 uninstall，但在 jupyter notebook 裏執行會當掉\n",
    "#!pip uninstall calcpy\n",
    "# 改為在 cmd shell 執行"
   ]
  },
  {
   "cell_type": "code",
   "execution_count": 13,
   "metadata": {},
   "outputs": [
    {
     "name": "stderr",
     "output_type": "stream",
     "text": [
      "'calcpy' 不是內部或外部命令、可執行的程式或批次檔。\n"
     ]
    }
   ],
   "source": [
    "# 等到我們 uninstall 之後，…\n",
    "!calcpy 3 add 9 divide 5"
   ]
  },
  {
   "cell_type": "code",
   "execution_count": 14,
   "metadata": {},
   "outputs": [
    {
     "data": {
      "text/plain": [
       "'D:\\\\Google雲端硬碟\\\\GettingStartedWithPythonAndRaspberryPi-book_release\\\\Chapter05'"
      ]
     },
     "execution_count": 14,
     "metadata": {},
     "output_type": "execute_result"
    }
   ],
   "source": [
    "# 要確定我目前在 Chapter05\n",
    "import os\n",
    "course_directory = \"D:\\Google雲端硬碟\\GettingStartedWithPythonAndRaspberryPi-book_release\"\n",
    "os.chdir(course_directory + \"/Chapter05\")\n",
    "os.getcwd()"
   ]
  },
  {
   "cell_type": "code",
   "execution_count": 15,
   "metadata": {},
   "outputs": [
    {
     "data": {
      "text/plain": [
       "['.ipynb',\n",
       " '.ipynb_checkpoints',\n",
       " 'BEYOND【海闊天空】.mp3',\n",
       " 'C.mp3',\n",
       " 'calcpy',\n",
       " 'calcpy_with_cli',\n",
       " 'Chapter 5 Packaging Code with setuptools.ipynb',\n",
       " 'Chapter 5 pydub.ipynb',\n",
       " 'Chapter05byChung.ipynb',\n",
       " 'Chapter05_01_Package Repository.ipynb',\n",
       " 'Chapter05_02_pydub_installation.ipynb',\n",
       " 'cms_scrape.csv',\n",
       " 'demo.py',\n",
       " 'desktop.ini',\n",
       " 'enum43_sample.pyc',\n",
       " 'get-pip.py',\n",
       " 'Never Gonna Give You Up Original.mp3',\n",
       " 'never_gonna_backwards.mp3',\n",
       " 'never_gonna_new.mp3',\n",
       " 'never_gonna_without_the_middle.mp3',\n",
       " 'new_never_gonna.mp3',\n",
       " 'numpy_sample.py',\n",
       " 'numpy_sample.pyc',\n",
       " 'pydub_sample.py',\n",
       " 'pydub_test',\n",
       " 'test_audio.mp3',\n",
       " 'tuning_pitch_440.mp3',\n",
       " '__pycache__',\n",
       " '秋意浓.mp3']"
      ]
     },
     "execution_count": 15,
     "metadata": {},
     "output_type": "execute_result"
    }
   ],
   "source": [
    "os.listdir()\n",
    "#%ls"
   ]
  },
  {
   "cell_type": "code",
   "execution_count": 16,
   "metadata": {},
   "outputs": [],
   "source": [
    "%more numpy_sample.py"
   ]
  },
  {
   "cell_type": "code",
   "execution_count": 17,
   "metadata": {},
   "outputs": [
    {
     "name": "stdout",
     "output_type": "stream",
     "text": [
      "DEG\tRAD\t\tSINE\n",
      "0\t0.000000\t0.000000\n",
      "15\t0.261799\t0.258819\n",
      "30\t0.523599\t0.500000\n",
      "45\t0.785398\t0.707107\n",
      "60\t1.047198\t0.866025\n",
      "75\t1.308997\t0.965926\n",
      "90\t1.570796\t1.000000\n",
      "105\t1.832596\t0.965926\n",
      "120\t2.094395\t0.866025\n",
      "135\t2.356194\t0.707107\n",
      "150\t2.617994\t0.500000\n",
      "165\t2.879793\t0.258819\n",
      "180\t3.141593\t0.000000\n",
      "195\t3.403392\t-0.258819\n",
      "210\t3.665191\t-0.500000\n",
      "225\t3.926991\t-0.707107\n",
      "240\t4.188790\t-0.866025\n",
      "255\t4.450590\t-0.965926\n",
      "270\t4.712389\t-1.000000\n",
      "285\t4.974188\t-0.965926\n",
      "300\t5.235988\t-0.866025\n",
      "315\t5.497787\t-0.707107\n",
      "330\t5.759587\t-0.500000\n",
      "345\t6.021386\t-0.258819\n"
     ]
    }
   ],
   "source": [
    "'''\n",
    "numpy_sample.py 的內容\n",
    "'''\n",
    "import numpy\n",
    "\n",
    "# Do some arithmetic\n",
    "angles_deg = numpy.array(range(0, 360, 15))\n",
    "angles_rad = numpy.radians(angles_deg)\n",
    "angles_sine = numpy.sin(angles_rad)\n",
    "\n",
    "# Print the results\n",
    "print(\"DEG\\tRAD\\t\\tSINE\")\n",
    "for deg, rad, sine in zip(angles_deg, angles_rad, angles_sine):\n",
    "    print(\"%d\\t%f\\t%f\" % (deg, rad, sine))"
   ]
  },
  {
   "cell_type": "code",
   "execution_count": 18,
   "metadata": {},
   "outputs": [
    {
     "name": "stdout",
     "output_type": "stream",
     "text": [
      "Variable           Type       Data/Info\n",
      "---------------------------------------\n",
      "angles_deg         ndarray    24: 24 elems, type `int32`, 96 bytes\n",
      "angles_rad         ndarray    24: 24 elems, type `float64`, 192 bytes\n",
      "angles_sine        ndarray    24: 24 elems, type `float64`, 192 bytes\n",
      "course_directory   str        D:\\Google雲端硬碟\\GettingStar<...>dRaspberryPi-book_release\n",
      "deg                int32      345\n",
      "numpy              module     <module 'numpy' from 'C:\\<...>ges\\\\numpy\\\\__init__.py'>\n",
      "os                 module     <module 'os' from 'C:\\\\Us<...>\\\\Anaconda3\\\\lib\\\\os.py'>\n",
      "rad                float64    6.021385919380437\n",
      "sine               float64    -0.2588190451025207\n"
     ]
    }
   ],
   "source": [
    "%whos"
   ]
  },
  {
   "cell_type": "code",
   "execution_count": 19,
   "metadata": {},
   "outputs": [],
   "source": [
    "?numpy"
   ]
  },
  {
   "cell_type": "code",
   "execution_count": 20,
   "metadata": {
    "scrolled": true
   },
   "outputs": [
    {
     "data": {
      "text/plain": [
       "'D:\\\\Google雲端硬碟\\\\GettingStartedWithPythonAndRaspberryPi-book_release\\\\Chapter05'"
      ]
     },
     "execution_count": 20,
     "metadata": {},
     "output_type": "execute_result"
    }
   ],
   "source": [
    "os.chdir(course_directory + \"/Chapter05\")\n",
    "os.getcwd()"
   ]
  },
  {
   "cell_type": "markdown",
   "metadata": {},
   "source": [
    "## 本章最重要的是展示如何將一個寫好的 package 打包好，\n",
    "之後，可以被別人拿來安裝與 import 用：\n",
    "1. 先安排好 setup.py 與要被安裝的 source directory 放在同一層的目錄底下\n",
    "2. python setup.py install \n",
    "3. pip intall xxx\n",
    "4. pip uninstall xxx\n",
    "\n",
    "待會要注意兩個目錄，其主要差別是 calcpy_with_cli 裏，特別安排可在 command shell 上直接執行的指令：\n",
    "1. calcpy\n",
    "2. calcpy_with_cli"
   ]
  },
  {
   "cell_type": "code",
   "execution_count": 22,
   "metadata": {},
   "outputs": [
    {
     "name": "stdout",
     "output_type": "stream",
     "text": [
      "列出磁碟區 新增磁碟區 的資料夾 PATH\n",
      "磁碟區序號為 E422-9B08\n",
      "D:.\n",
      "├─.ipynb_checkpoints\n",
      "├─calcpy\n",
      "│  ├─.ipynb_checkpoints\n",
      "│  ├─build\n",
      "│  │  ├─bdist.win-amd64\n",
      "│  │  └─lib\n",
      "│  │      └─calcpy\n",
      "│  │          └─calculator\n",
      "│  ├─calcpy\n",
      "│  │  ├─calculator\n",
      "│  │  └─__pycache__\n",
      "│  ├─calcpy.egg-info\n",
      "│  └─dist\n",
      "├─calcpy_with_cli\n",
      "│  ├─build\n",
      "│  │  ├─bdist.win-amd64\n",
      "│  │  └─lib\n",
      "│  │      └─calcpy\n",
      "│  │          └─calculator\n",
      "│  ├─calcpy\n",
      "│  │  ├─.ipynb_checkpoints\n",
      "│  │  ├─calculator\n",
      "│  │  │  └─__pycache__\n",
      "│  │  └─__pycache__\n",
      "│  ├─calcpy.egg-info\n",
      "│  └─dist\n",
      "├─pydub_test\n",
      "│  ├─.ipynb_checkpoints\n",
      "│  ├─audios\n",
      "│  └─images\n",
      "└─__pycache__\n"
     ]
    }
   ],
   "source": [
    "!tree"
   ]
  },
  {
   "cell_type": "code",
   "execution_count": 24,
   "metadata": {},
   "outputs": [
    {
     "name": "stdout",
     "output_type": "stream",
     "text": [
      "列出磁碟區 新增磁碟區 的資料夾 PATH\n",
      "磁碟區序號為 E422-9B08\n",
      "D:\\GOOGLE雲端硬碟\\GETTINGSTARTEDWITHPYTHONANDRASPBERRYPI-BOOK_RELEASE\\CHAPTER05\\CALCPY\n",
      "│  setup.py\n",
      "│  \n",
      "├─.ipynb_checkpoints\n",
      "├─build\n",
      "│  ├─bdist.win-amd64\n",
      "│  └─lib\n",
      "│      └─calcpy\n",
      "│          │  __init__.py\n",
      "│          │  \n",
      "│          └─calculator\n",
      "│                  Calculator.py\n",
      "│                  Operation.py\n",
      "│                  __init__.py\n",
      "│                  \n",
      "├─calcpy\n",
      "│  │  __init__.py\n",
      "│  │  \n",
      "│  ├─calculator\n",
      "│  │      Calculator.py\n",
      "│  │      Operation.py\n",
      "│  │      __init__.py\n",
      "│  │      \n",
      "│  └─__pycache__\n",
      "│          __init__.cpython-37.pyc\n",
      "│          \n",
      "├─calcpy.egg-info\n",
      "│      dependency_links.txt\n",
      "│      PKG-INFO\n",
      "│      requires.txt\n",
      "│      SOURCES.txt\n",
      "│      top_level.txt\n",
      "│      \n",
      "└─dist\n",
      "        calcpy-0.0.1-py3.7.egg\n",
      "        \n"
     ]
    }
   ],
   "source": [
    "!tree/f calcpy"
   ]
  },
  {
   "cell_type": "markdown",
   "metadata": {},
   "source": [
    "## 注意：\n",
    "1. 在最上層的 calcpy 的目錄裏，還有另一個同名的 calcpy 的子目錄 \\\n",
    "最好也在 cmd 視窗看一下 tree 的內容\n",
    "2. 關於空空的  \\_\\_init\\_\\_.py，是用來表示本目錄是一個 python module"
   ]
  },
  {
   "cell_type": "code",
   "execution_count": 25,
   "metadata": {},
   "outputs": [
    {
     "name": "stdout",
     "output_type": "stream",
     "text": [
      "列出磁碟區 新增磁碟區 的資料夾 PATH\n",
      "磁碟區序號為 E422-9B08\n",
      "D:\\GOOGLE雲端硬碟\\GETTINGSTARTEDWITHPYTHONANDRASPBERRYPI-BOOK_RELEASE\\CHAPTER05\\CALCPY\n",
      "│  setup.py\n",
      "│  \n",
      "├─.ipynb_checkpoints\n",
      "├─build\n",
      "│  ├─bdist.win-amd64\n",
      "│  └─lib\n",
      "│      └─calcpy\n",
      "│          │  __init__.py\n",
      "│          │  \n",
      "│          └─calculator\n",
      "│                  Calculator.py\n",
      "│                  Operation.py\n",
      "│                  __init__.py\n",
      "│                  \n",
      "├─calcpy\n",
      "│  │  __init__.py\n",
      "│  │  \n",
      "│  ├─calculator\n",
      "│  │      Calculator.py\n",
      "│  │      Operation.py\n",
      "│  │      __init__.py\n",
      "│  │      \n",
      "│  └─__pycache__\n",
      "│          __init__.cpython-37.pyc\n",
      "│          \n",
      "├─calcpy.egg-info\n",
      "│      dependency_links.txt\n",
      "│      PKG-INFO\n",
      "│      requires.txt\n",
      "│      SOURCES.txt\n",
      "│      top_level.txt\n",
      "│      \n",
      "└─dist\n",
      "        calcpy-0.0.1-py3.7.egg\n",
      "        \n"
     ]
    }
   ],
   "source": [
    "'''\n",
    "這是最上層的 calcpy，注意在它下面有：\n",
    "- setup.py\n",
    "- 另一個同名的 calcpy 子目錄\n",
    "'''\n",
    "!tree/F calcpy"
   ]
  },
  {
   "cell_type": "code",
   "execution_count": 26,
   "metadata": {},
   "outputs": [
    {
     "data": {
      "text/plain": [
       "'D:\\\\Google雲端硬碟\\\\GettingStartedWithPythonAndRaspberryPi-book_release\\\\Chapter05\\\\calcpy'"
      ]
     },
     "execution_count": 26,
     "metadata": {},
     "output_type": "execute_result"
    }
   ],
   "source": [
    "# 先到最上層的\n",
    "#%cd calcpy\n",
    "os.chdir(course_directory + \"/Chapter05/calcpy\")\n",
    "os.getcwd()"
   ]
  },
  {
   "cell_type": "code",
   "execution_count": 27,
   "metadata": {},
   "outputs": [],
   "source": [
    "%more setup.py"
   ]
  },
  {
   "cell_type": "markdown",
   "metadata": {},
   "source": [
    "## 以下是 setup.py 的內容：\n",
    "\n",
    "```python:\n",
    "#!/usr/bin/env python\n",
    "\n",
    "from setuptools import setup\n",
    "\n",
    "setup(\n",
    "    name=\"calcpy\",\n",
    "    version=\"0.0.1\",\n",
    "    description=\"A basic calculator\",\n",
    "    classifiers=[\n",
    "        \"Natural Language :: English\",\n",
    "        \"Programming Language :: Python :: 3.7\",\n",
    "    ],\n",
    "    author=\"Dan Nixon\",\n",
    "    packages=[\"calcpy\", \"calcpy.calculator\"],\n",
    "    install_requires=[\n",
    "        \"numpy\"\n",
    "    ])\n",
    "```"
   ]
  },
  {
   "cell_type": "code",
   "execution_count": 28,
   "metadata": {},
   "outputs": [
    {
     "name": "stdout",
     "output_type": "stream",
     "text": [
      "running install\n",
      "running bdist_egg\n",
      "running egg_info\n",
      "writing calcpy.egg-info\\PKG-INFO\n",
      "writing dependency_links to calcpy.egg-info\\dependency_links.txt\n",
      "writing requirements to calcpy.egg-info\\requires.txt\n",
      "writing top-level names to calcpy.egg-info\\top_level.txt\n",
      "reading manifest file 'calcpy.egg-info\\SOURCES.txt'\n",
      "writing manifest file 'calcpy.egg-info\\SOURCES.txt'\n",
      "installing library code to build\\bdist.win-amd64\\egg\n",
      "running install_lib\n",
      "running build_py\n",
      "creating build\\bdist.win-amd64\\egg\n",
      "creating build\\bdist.win-amd64\\egg\\calcpy\n",
      "creating build\\bdist.win-amd64\\egg\\calcpy\\calculator\n",
      "copying build\\lib\\calcpy\\calculator\\Calculator.py -> build\\bdist.win-amd64\\egg\\calcpy\\calculator\n",
      "copying build\\lib\\calcpy\\calculator\\desktop.ini -> build\\bdist.win-amd64\\egg\\calcpy\\calculator\n",
      "copying build\\lib\\calcpy\\calculator\\Operation.py -> build\\bdist.win-amd64\\egg\\calcpy\\calculator\n",
      "copying build\\lib\\calcpy\\calculator\\__init__.py -> build\\bdist.win-amd64\\egg\\calcpy\\calculator\n",
      "copying build\\lib\\calcpy\\desktop.ini -> build\\bdist.win-amd64\\egg\\calcpy\n",
      "copying build\\lib\\calcpy\\__init__.py -> build\\bdist.win-amd64\\egg\\calcpy\n",
      "copying build\\lib\\desktop.ini -> build\\bdist.win-amd64\\egg\n",
      "byte-compiling build\\bdist.win-amd64\\egg\\calcpy\\calculator\\Calculator.py to Calculator.cpython-37.pyc\n",
      "byte-compiling build\\bdist.win-amd64\\egg\\calcpy\\calculator\\Operation.py to Operation.cpython-37.pyc\n",
      "byte-compiling build\\bdist.win-amd64\\egg\\calcpy\\calculator\\__init__.py to __init__.cpython-37.pyc\n",
      "byte-compiling build\\bdist.win-amd64\\egg\\calcpy\\__init__.py to __init__.cpython-37.pyc\n",
      "creating build\\bdist.win-amd64\\egg\\EGG-INFO\n",
      "copying calcpy.egg-info\\PKG-INFO -> build\\bdist.win-amd64\\egg\\EGG-INFO\n",
      "copying calcpy.egg-info\\SOURCES.txt -> build\\bdist.win-amd64\\egg\\EGG-INFO\n",
      "copying calcpy.egg-info\\dependency_links.txt -> build\\bdist.win-amd64\\egg\\EGG-INFO\n",
      "copying calcpy.egg-info\\desktop.ini -> build\\bdist.win-amd64\\egg\\EGG-INFO\n",
      "copying calcpy.egg-info\\requires.txt -> build\\bdist.win-amd64\\egg\\EGG-INFO\n",
      "copying calcpy.egg-info\\top_level.txt -> build\\bdist.win-amd64\\egg\\EGG-INFO\n",
      "creating 'dist\\calcpy-0.0.1-py3.7.egg' and adding 'build\\bdist.win-amd64\\egg' to it\n",
      "removing 'build\\bdist.win-amd64\\egg' (and everything under it)\n",
      "Processing calcpy-0.0.1-py3.7.egg\n",
      "Removing c:\\users\\public\\anaconda3\\lib\\site-packages\\calcpy-0.0.1-py3.7.egg\n",
      "Copying calcpy-0.0.1-py3.7.egg to c:\\users\\public\\anaconda3\\lib\\site-packages\n",
      "Adding calcpy 0.0.1 to easy-install.pth file\n",
      "\n",
      "Installed c:\\users\\public\\anaconda3\\lib\\site-packages\\calcpy-0.0.1-py3.7.egg\n",
      "Processing dependencies for calcpy==0.0.1\n",
      "Searching for numpy==1.19.1\n",
      "Best match: numpy 1.19.1\n",
      "Adding numpy 1.19.1 to easy-install.pth file\n",
      "Installing f2py-script.py script to C:\\Users\\Public\\Anaconda3\\Scripts\n",
      "Installing f2py.exe script to C:\\Users\\Public\\Anaconda3\\Scripts\n",
      "\n",
      "Using c:\\users\\public\\anaconda3\\lib\\site-packages\n",
      "Finished processing dependencies for calcpy==0.0.1\n"
     ]
    },
    {
     "name": "stderr",
     "output_type": "stream",
     "text": [
      "zip_safe flag not set; analyzing archive contents...\n"
     ]
    }
   ],
   "source": [
    "!python setup.py install"
   ]
  },
  {
   "cell_type": "code",
   "execution_count": 29,
   "metadata": {},
   "outputs": [
    {
     "name": "stdout",
     "output_type": "stream",
     "text": [
      "Package                Version             Location                                                                  \n",
      "---------------------- ------------------- --------------------------------------------------------------------------\n",
      "absl-py                0.8.1               \n",
      "argon2-cffi            20.1.0              \n",
      "arpa                   0.1.0b4             \n",
      "asn1crypto             1.4.0               \n",
      "astor                  0.8.0               \n",
      "async-generator        1.10                \n",
      "attrs                  20.2.0              \n",
      "backcall               0.2.0               \n",
      "beautifulsoup4         4.9.1               \n",
      "bleach                 3.2.1               \n",
      "brotlipy               0.7.0               \n",
      "cachetools             3.1.1               \n",
      "calcpy                 0.0.1               \n",
      "certifi                2020.6.20           \n",
      "cffi                   1.14.3              \n",
      "chardet                3.0.4               \n",
      "click                  7.1.2               \n",
      "colorama               0.4.3               \n",
      "conda                  4.8.5               \n",
      "conda-build            3.17.6              \n",
      "conda-package-handling 1.7.0               \n",
      "conda-verify           3.1.1               \n",
      "cryptography           2.3.1               \n",
      "cycler                 0.10.0              \n",
      "decorator              4.4.2               \n",
      "defusedxml             0.6.0               \n",
      "entrypoints            0.3                 \n",
      "ffmpeg                 1.4                 \n",
      "filelock               3.0.12              \n",
      "funniest               0.1                 d:\\google雲端硬碟\\gettingstartedwithpythonandraspberrypi-book_release\\funniest\n",
      "future                 0.18.2              \n",
      "gast                   0.2.2               \n",
      "glob2                  0.7                 \n",
      "google-auth            1.7.0               \n",
      "google-auth-oauthlib   0.4.1               \n",
      "google-pasta           0.1.8               \n",
      "grpcio                 1.25.0              \n",
      "h5py                   2.10.0              \n",
      "idna                   2.10                \n",
      "importlib-metadata     1.7.0               \n",
      "ipykernel              5.3.4               \n",
      "ipython                7.18.1              \n",
      "ipython-genutils       0.2.0               \n",
      "ipywidgets             7.5.1               \n",
      "jedi                   0.17.2              \n",
      "Jinja2                 2.11.2              \n",
      "json5                  0.9.5               \n",
      "jsonschema             3.2.0               \n",
      "jupyter-client         6.1.7               \n",
      "jupyter-core           4.6.3               \n",
      "jupyterlab             2.2.6               \n",
      "jupyterlab-pygments    0.1.1               \n",
      "jupyterlab-server      1.2.0               \n",
      "Keras-Applications     1.0.8               \n",
      "Keras-Preprocessing    1.1.0               \n",
      "kiwisolver             1.2.0               \n",
      "libarchive-c           2.9                 \n",
      "lxml                   4.4.2               \n",
      "Markdown               3.1.1               \n",
      "MarkupSafe             1.1.1               \n",
      "matplotlib             3.1.2               \n",
      "menuinst               1.4.16              \n",
      "mistune                0.8.4               \n",
      "mkl-fft                1.2.0               \n",
      "mkl-random             1.1.1               \n",
      "mkl-service            2.3.0               \n",
      "n-gram                 0.1                 \n",
      "navigator-updater      0.2.1               \n",
      "nbclient               0.5.0               \n",
      "nbconvert              6.0.6               \n",
      "nbformat               5.0.7               \n",
      "nest-asyncio           1.4.0               \n",
      "notebook               6.1.1               \n",
      "numpy                  1.19.1              \n",
      "oauthlib               3.1.0               \n",
      "opt-einsum             3.1.0               \n",
      "packaging              20.4                \n",
      "pandas                 0.25.3              \n",
      "pandocfilters          1.4.2               \n",
      "parso                  0.7.0               \n",
      "pickleshare            0.7.5               \n",
      "Pillow                 6.2.1               \n",
      "pip                    19.3.1              \n",
      "pkginfo                1.5.0.1             \n",
      "prometheus-client      0.8.0               \n",
      "prompt-toolkit         3.0.7               \n",
      "protobuf               3.10.0              \n",
      "psutil                 5.7.2               \n",
      "pyasn1                 0.4.7               \n",
      "pyasn1-modules         0.2.7               \n",
      "pycosat                0.6.3               \n",
      "pycparser              2.20                \n",
      "pydub                  0.24.1              \n",
      "Pygments               2.7.1               \n",
      "pyOpenSSL              19.0.0              \n",
      "pyparsing              2.4.7               \n",
      "pypinyin               0.39.0              \n",
      "pyreadline             2.1                 \n",
      "pyrsistent             0.17.3              \n",
      "PySocks                1.7.1               \n",
      "python-dateutil        2.8.1               \n",
      "pytz                   2020.1              \n",
      "pywin32                227                 \n",
      "pywinpty               0.5.7               \n",
      "PyYAML                 5.3.1               \n",
      "pyzmq                  19.0.2              \n",
      "QtPy                   1.9.0               \n",
      "requests               2.24.0              \n",
      "requests-oauthlib      1.3.0               \n",
      "rsa                    4.0                 \n",
      "ruamel-yaml            0.15.87             \n",
      "scipy                  1.5.2               \n",
      "Send2Trash             1.5.0               \n",
      "setuptools             49.6.0.post20200925 \n",
      "six                    1.15.0              \n",
      "soupsieve              2.0.1               \n",
      "stn                    1.0.1               \n",
      "tensorboard            2.0.1               \n",
      "tensorflow             1.14.0              \n",
      "tensorflow-estimator   2.0.1               \n",
      "termcolor              1.1.0               \n",
      "terminado              0.8.3               \n",
      "testpath               0.4.4               \n",
      "torch                  1.0.1               \n",
      "torchvision            0.4.1               \n",
      "tornado                6.0.4               \n",
      "tqdm                   4.49.0              \n",
      "traitlets              4.3.3               \n",
      "unitconverter          0.1.0               \n",
      "urllib3                1.25.10             \n",
      "wcwidth                0.2.5               \n",
      "webencodings           0.5.1               \n",
      "Werkzeug               1.0.1               \n",
      "wheel                  0.35.1              \n",
      "widgetsnbextension     3.5.1               \n",
      "win-inet-pton          1.1.0               \n",
      "wincertstore           0.2                 \n",
      "wrapt                  1.11.2              \n",
      "zipp                   3.1.0               \n"
     ]
    }
   ],
   "source": [
    "!pip list"
   ]
  },
  {
   "cell_type": "code",
   "execution_count": 30,
   "metadata": {},
   "outputs": [
    {
     "name": "stdout",
     "output_type": "stream",
     "text": [
      "列出磁碟區 新增磁碟區 的資料夾 PATH\n",
      "磁碟區序號為 E422-9B08\n",
      "D:\\GOOGLE雲端硬碟\\GETTINGSTARTEDWITHPYTHONANDRASPBERRYPI-BOOK_RELEASE\\CHAPTER05\\CALCPY\\CALCPY\n",
      "│  __init__.py\n",
      "│  \n",
      "├─calculator\n",
      "│      Calculator.py\n",
      "│      Operation.py\n",
      "│      __init__.py\n",
      "│      \n",
      "└─__pycache__\n",
      "        __init__.cpython-37.pyc\n",
      "        \n"
     ]
    }
   ],
   "source": [
    "# 然後看其下面那個要被打包的內容：\n",
    "# 特別注意其中有一個『空白的』__init__.py\n",
    "!tree/f calcpy"
   ]
  },
  {
   "cell_type": "code",
   "execution_count": 31,
   "metadata": {},
   "outputs": [],
   "source": [
    "#%cd calcpy\n",
    "os.chdir(course_directory + \"/Chapter05/calcpy/calcpy\")"
   ]
  },
  {
   "cell_type": "code",
   "execution_count": 32,
   "metadata": {},
   "outputs": [
    {
     "name": "stdout",
     "output_type": "stream",
     "text": [
      "列出磁碟區 新增磁碟區 的資料夾 PATH\n",
      "磁碟區序號為 E422-9B08\n",
      "D:\\GOOGLE雲端硬碟\\GETTINGSTARTEDWITHPYTHONANDRASPBERRYPI-BOOK_RELEASE\\CHAPTER05\\CALCPY\\CALCPY\\CALCULATOR\n",
      "    Calculator.py\n",
      "    Operation.py\n",
      "    __init__.py\n",
      "    \n",
      "子資料夾不存在 \n",
      "\n"
     ]
    }
   ],
   "source": [
    "!tree/f calculator"
   ]
  },
  {
   "cell_type": "code",
   "execution_count": 33,
   "metadata": {},
   "outputs": [],
   "source": [
    "import os\n",
    "os.chdir(course_directory + \"/Chapter05/calcpy\")"
   ]
  },
  {
   "cell_type": "code",
   "execution_count": 34,
   "metadata": {},
   "outputs": [
    {
     "name": "stdout",
     "output_type": "stream",
     "text": [
      " 磁碟區 D 中的磁碟是 新增磁碟區\n",
      " 磁碟區序號:  E422-9B08\n",
      "\n",
      " D:\\Google雲端硬碟\\GettingStartedWithPythonAndRaspberryPi-book_release\\Chapter05\\calcpy 的目錄\n",
      "\n",
      "2019/09/26  下午 04:44    <DIR>          .\n",
      "2019/09/26  下午 04:44    <DIR>          ..\n",
      "2019/09/26  下午 04:44    <DIR>          .ipynb_checkpoints\n",
      "2019/09/26  下午 04:44    <DIR>          build\n",
      "2019/09/26  下午 04:44    <DIR>          calcpy\n",
      "2020/11/02  上午 09:03    <DIR>          calcpy.egg-info\n",
      "2019/09/26  下午 04:44    <DIR>          dist\n",
      "2019/03/31  下午 10:48               367 setup.py\n",
      "               1 個檔案             367 位元組\n",
      "               7 個目錄  895,738,896,384 位元組可用\n"
     ]
    }
   ],
   "source": [
    "!dir"
   ]
  },
  {
   "cell_type": "code",
   "execution_count": 35,
   "metadata": {},
   "outputs": [
    {
     "name": "stderr",
     "output_type": "stream",
     "text": [
      "'calcpy' 不是內部或外部命令、可執行的程式或批次檔。\n"
     ]
    }
   ],
   "source": [
    "!calcpy 3 add 5"
   ]
  },
  {
   "cell_type": "code",
   "execution_count": null,
   "metadata": {},
   "outputs": [],
   "source": [
    "# 這個要出去 command shell 執行，否則這裏會掛點\n",
    "#!pip uninstall calcpy"
   ]
  },
  {
   "cell_type": "code",
   "execution_count": 36,
   "metadata": {},
   "outputs": [],
   "source": [
    "os.chdir(course_directory + \"/Chapter05/calcpy_with_cli\")"
   ]
  },
  {
   "cell_type": "code",
   "execution_count": 37,
   "metadata": {},
   "outputs": [
    {
     "name": "stdout",
     "output_type": "stream",
     "text": [
      " 磁碟區 D 中的磁碟是 新增磁碟區\n",
      " 磁碟區序號:  E422-9B08\n",
      "\n",
      " D:\\Google雲端硬碟\\GettingStartedWithPythonAndRaspberryPi-book_release\\Chapter05\\calcpy_with_cli 的目錄\n",
      "\n",
      "2019/09/26  下午 04:44    <DIR>          .\n",
      "2019/09/26  下午 04:44    <DIR>          ..\n",
      "2019/09/26  下午 04:47    <DIR>          build\n",
      "2020/11/02  上午 07:29    <DIR>          calcpy\n",
      "2020/11/02  上午 08:03    <DIR>          calcpy.egg-info\n",
      "2019/09/26  下午 04:47    <DIR>          dist\n",
      "2019/03/31  下午 10:48               474 setup.py\n",
      "               1 個檔案             474 位元組\n",
      "               6 個目錄  895,738,896,384 位元組可用\n"
     ]
    }
   ],
   "source": [
    "%ls"
   ]
  },
  {
   "cell_type": "code",
   "execution_count": 38,
   "metadata": {},
   "outputs": [
    {
     "name": "stdout",
     "output_type": "stream",
     "text": [
      "列出磁碟區 新增磁碟區 的資料夾 PATH\n",
      "磁碟區序號為 E422-9B08\n",
      "D:.\n",
      "│  setup.py\n",
      "│  \n",
      "├─build\n",
      "│  ├─bdist.win-amd64\n",
      "│  └─lib\n",
      "│      └─calcpy\n",
      "│          │  cli.py\n",
      "│          │  __init__.py\n",
      "│          │  \n",
      "│          └─calculator\n",
      "│                  Calculator.py\n",
      "│                  Operation.py\n",
      "│                  __init__.py\n",
      "│                  \n",
      "├─calcpy\n",
      "│  │  cli.py\n",
      "│  │  __init__.py\n",
      "│  │  \n",
      "│  ├─.ipynb_checkpoints\n",
      "│  ├─calculator\n",
      "│  │  │  Calculator.py\n",
      "│  │  │  Operation.py\n",
      "│  │  │  __init__.py\n",
      "│  │  │  \n",
      "│  │  └─__pycache__\n",
      "│  │          Calculator.cpython-37.pyc\n",
      "│  │          Operation.cpython-37.pyc\n",
      "│  │          __init__.cpython-37.pyc\n",
      "│  │          \n",
      "│  └─__pycache__\n",
      "│          cli.cpython-37.pyc\n",
      "│          __init__.cpython-37.pyc\n",
      "│          \n",
      "├─calcpy.egg-info\n",
      "│      dependency_links.txt\n",
      "│      entry_points.txt\n",
      "│      PKG-INFO\n",
      "│      requires.txt\n",
      "│      SOURCES.txt\n",
      "│      top_level.txt\n",
      "│      \n",
      "└─dist\n",
      "        calcpy-0.0.2-py3.7.egg\n",
      "        \n"
     ]
    }
   ],
   "source": [
    "!tree/F"
   ]
  },
  {
   "cell_type": "code",
   "execution_count": 39,
   "metadata": {},
   "outputs": [],
   "source": [
    "%more setup.py"
   ]
  },
  {
   "cell_type": "markdown",
   "metadata": {},
   "source": [
    "## 針對在 shell command，修改 setup.py：\n",
    "```python:\n",
    "from setuptools import setup\n",
    "\n",
    "setup(\n",
    "    name=\"calcpy\",\n",
    "    version=\"0.0.2\",\n",
    "    description=\"A basic calculator\",\n",
    "    entry_points={\n",
    "        \"console_scripts\": [\n",
    "            \"calcpy = calcpy.cli:run_cli\"\n",
    "        ]\n",
    "    },\n",
    "    classifiers=[\n",
    "        \"Natural Language :: English\",\n",
    "        \"Programming Language :: Python :: 3.7\",\n",
    "    ],\n",
    "    author=\"Dan Nixon\",\n",
    "    packages=[\"calcpy\", \"calcpy.calculator\"],\n",
    "    install_requires=[\n",
    "        \"numpy\"\n",
    "    ])\n",
    "```"
   ]
  },
  {
   "cell_type": "code",
   "execution_count": 40,
   "metadata": {},
   "outputs": [
    {
     "name": "stderr",
     "output_type": "stream",
     "text": [
      "zip_safe flag not set; analyzing archive contents...\n"
     ]
    },
    {
     "name": "stdout",
     "output_type": "stream",
     "text": [
      "running install\n",
      "running bdist_egg\n",
      "running egg_info\n",
      "writing calcpy.egg-info\\PKG-INFO\n",
      "writing dependency_links to calcpy.egg-info\\dependency_links.txt\n",
      "writing entry points to calcpy.egg-info\\entry_points.txt\n",
      "writing requirements to calcpy.egg-info\\requires.txt\n",
      "writing top-level names to calcpy.egg-info\\top_level.txt\n",
      "reading manifest file 'calcpy.egg-info\\SOURCES.txt'\n",
      "writing manifest file 'calcpy.egg-info\\SOURCES.txt'\n",
      "installing library code to build\\bdist.win-amd64\\egg\n",
      "running install_lib\n",
      "running build_py\n",
      "creating build\\bdist.win-amd64\\egg\n",
      "creating build\\bdist.win-amd64\\egg\\calcpy\n",
      "creating build\\bdist.win-amd64\\egg\\calcpy\\calculator\n",
      "copying build\\lib\\calcpy\\calculator\\Calculator.py -> build\\bdist.win-amd64\\egg\\calcpy\\calculator\n",
      "copying build\\lib\\calcpy\\calculator\\desktop.ini -> build\\bdist.win-amd64\\egg\\calcpy\\calculator\n",
      "copying build\\lib\\calcpy\\calculator\\Operation.py -> build\\bdist.win-amd64\\egg\\calcpy\\calculator\n",
      "copying build\\lib\\calcpy\\calculator\\__init__.py -> build\\bdist.win-amd64\\egg\\calcpy\\calculator\n",
      "copying build\\lib\\calcpy\\cli.py -> build\\bdist.win-amd64\\egg\\calcpy\n",
      "copying build\\lib\\calcpy\\desktop.ini -> build\\bdist.win-amd64\\egg\\calcpy\n",
      "copying build\\lib\\calcpy\\__init__.py -> build\\bdist.win-amd64\\egg\\calcpy\n",
      "copying build\\lib\\desktop.ini -> build\\bdist.win-amd64\\egg\n",
      "byte-compiling build\\bdist.win-amd64\\egg\\calcpy\\calculator\\Calculator.py to Calculator.cpython-37.pyc\n",
      "byte-compiling build\\bdist.win-amd64\\egg\\calcpy\\calculator\\Operation.py to Operation.cpython-37.pyc\n",
      "byte-compiling build\\bdist.win-amd64\\egg\\calcpy\\calculator\\__init__.py to __init__.cpython-37.pyc\n",
      "byte-compiling build\\bdist.win-amd64\\egg\\calcpy\\cli.py to cli.cpython-37.pyc\n",
      "byte-compiling build\\bdist.win-amd64\\egg\\calcpy\\__init__.py to __init__.cpython-37.pyc\n",
      "creating build\\bdist.win-amd64\\egg\\EGG-INFO\n",
      "copying calcpy.egg-info\\PKG-INFO -> build\\bdist.win-amd64\\egg\\EGG-INFO\n",
      "copying calcpy.egg-info\\SOURCES.txt -> build\\bdist.win-amd64\\egg\\EGG-INFO\n",
      "copying calcpy.egg-info\\dependency_links.txt -> build\\bdist.win-amd64\\egg\\EGG-INFO\n",
      "copying calcpy.egg-info\\desktop.ini -> build\\bdist.win-amd64\\egg\\EGG-INFO\n",
      "copying calcpy.egg-info\\entry_points.txt -> build\\bdist.win-amd64\\egg\\EGG-INFO\n",
      "copying calcpy.egg-info\\requires.txt -> build\\bdist.win-amd64\\egg\\EGG-INFO\n",
      "copying calcpy.egg-info\\top_level.txt -> build\\bdist.win-amd64\\egg\\EGG-INFO\n",
      "creating 'dist\\calcpy-0.0.2-py3.7.egg' and adding 'build\\bdist.win-amd64\\egg' to it\n",
      "removing 'build\\bdist.win-amd64\\egg' (and everything under it)\n",
      "Processing calcpy-0.0.2-py3.7.egg\n",
      "Copying calcpy-0.0.2-py3.7.egg to c:\\users\\public\\anaconda3\\lib\\site-packages\n",
      "Removing calcpy 0.0.1 from easy-install.pth file\n",
      "Adding calcpy 0.0.2 to easy-install.pth file\n",
      "Installing calcpy-script.py script to C:\\Users\\Public\\Anaconda3\\Scripts\n",
      "Installing calcpy.exe script to C:\\Users\\Public\\Anaconda3\\Scripts\n",
      "\n",
      "Installed c:\\users\\public\\anaconda3\\lib\\site-packages\\calcpy-0.0.2-py3.7.egg\n",
      "Processing dependencies for calcpy==0.0.2\n",
      "Searching for numpy==1.19.1\n",
      "Best match: numpy 1.19.1\n",
      "Adding numpy 1.19.1 to easy-install.pth file\n",
      "Installing f2py-script.py script to C:\\Users\\Public\\Anaconda3\\Scripts\n",
      "Installing f2py.exe script to C:\\Users\\Public\\Anaconda3\\Scripts\n",
      "\n",
      "Using c:\\users\\public\\anaconda3\\lib\\site-packages\n",
      "Finished processing dependencies for calcpy==0.0.2\n"
     ]
    }
   ],
   "source": [
    "!python setup.py install"
   ]
  },
  {
   "cell_type": "code",
   "execution_count": 41,
   "metadata": {},
   "outputs": [
    {
     "name": "stdout",
     "output_type": "stream",
     "text": [
      "Package                Version             Location                                                                  \n",
      "---------------------- ------------------- --------------------------------------------------------------------------\n",
      "absl-py                0.8.1               \n",
      "argon2-cffi            20.1.0              \n",
      "arpa                   0.1.0b4             \n",
      "asn1crypto             1.4.0               \n",
      "astor                  0.8.0               \n",
      "async-generator        1.10                \n",
      "attrs                  20.2.0              \n",
      "backcall               0.2.0               \n",
      "beautifulsoup4         4.9.1               \n",
      "bleach                 3.2.1               \n",
      "brotlipy               0.7.0               \n",
      "cachetools             3.1.1               \n",
      "calcpy                 0.0.2               \n",
      "certifi                2020.6.20           \n",
      "cffi                   1.14.3              \n",
      "chardet                3.0.4               \n",
      "click                  7.1.2               \n",
      "colorama               0.4.3               \n",
      "conda                  4.8.5               \n",
      "conda-build            3.17.6              \n",
      "conda-package-handling 1.7.0               \n",
      "conda-verify           3.1.1               \n",
      "cryptography           2.3.1               \n",
      "cycler                 0.10.0              \n",
      "decorator              4.4.2               \n",
      "defusedxml             0.6.0               \n",
      "entrypoints            0.3                 \n",
      "ffmpeg                 1.4                 \n",
      "filelock               3.0.12              \n",
      "funniest               0.1                 d:\\google雲端硬碟\\gettingstartedwithpythonandraspberrypi-book_release\\funniest\n",
      "future                 0.18.2              \n",
      "gast                   0.2.2               \n",
      "glob2                  0.7                 \n",
      "google-auth            1.7.0               \n",
      "google-auth-oauthlib   0.4.1               \n",
      "google-pasta           0.1.8               \n",
      "grpcio                 1.25.0              \n",
      "h5py                   2.10.0              \n",
      "idna                   2.10                \n",
      "importlib-metadata     1.7.0               \n",
      "ipykernel              5.3.4               \n",
      "ipython                7.18.1              \n",
      "ipython-genutils       0.2.0               \n",
      "ipywidgets             7.5.1               \n",
      "jedi                   0.17.2              \n",
      "Jinja2                 2.11.2              \n",
      "json5                  0.9.5               \n",
      "jsonschema             3.2.0               \n",
      "jupyter-client         6.1.7               \n",
      "jupyter-core           4.6.3               \n",
      "jupyterlab             2.2.6               \n",
      "jupyterlab-pygments    0.1.1               \n",
      "jupyterlab-server      1.2.0               \n",
      "Keras-Applications     1.0.8               \n",
      "Keras-Preprocessing    1.1.0               \n",
      "kiwisolver             1.2.0               \n",
      "libarchive-c           2.9                 \n",
      "lxml                   4.4.2               \n",
      "Markdown               3.1.1               \n",
      "MarkupSafe             1.1.1               \n",
      "matplotlib             3.1.2               \n",
      "menuinst               1.4.16              \n",
      "mistune                0.8.4               \n",
      "mkl-fft                1.2.0               \n",
      "mkl-random             1.1.1               \n",
      "mkl-service            2.3.0               \n",
      "n-gram                 0.1                 \n",
      "navigator-updater      0.2.1               \n",
      "nbclient               0.5.0               \n",
      "nbconvert              6.0.6               \n",
      "nbformat               5.0.7               \n",
      "nest-asyncio           1.4.0               \n",
      "notebook               6.1.1               \n",
      "numpy                  1.19.1              \n",
      "oauthlib               3.1.0               \n",
      "opt-einsum             3.1.0               \n",
      "packaging              20.4                \n",
      "pandas                 0.25.3              \n",
      "pandocfilters          1.4.2               \n",
      "parso                  0.7.0               \n",
      "pickleshare            0.7.5               \n",
      "Pillow                 6.2.1               \n",
      "pip                    19.3.1              \n",
      "pkginfo                1.5.0.1             \n",
      "prometheus-client      0.8.0               \n",
      "prompt-toolkit         3.0.7               \n",
      "protobuf               3.10.0              \n",
      "psutil                 5.7.2               \n",
      "pyasn1                 0.4.7               \n",
      "pyasn1-modules         0.2.7               \n",
      "pycosat                0.6.3               \n",
      "pycparser              2.20                \n",
      "pydub                  0.24.1              \n",
      "Pygments               2.7.1               \n",
      "pyOpenSSL              19.0.0              \n",
      "pyparsing              2.4.7               \n",
      "pypinyin               0.39.0              \n",
      "pyreadline             2.1                 \n",
      "pyrsistent             0.17.3              \n",
      "PySocks                1.7.1               \n",
      "python-dateutil        2.8.1               \n",
      "pytz                   2020.1              \n",
      "pywin32                227                 \n",
      "pywinpty               0.5.7               \n",
      "PyYAML                 5.3.1               \n",
      "pyzmq                  19.0.2              \n",
      "QtPy                   1.9.0               \n",
      "requests               2.24.0              \n",
      "requests-oauthlib      1.3.0               \n",
      "rsa                    4.0                 \n",
      "ruamel-yaml            0.15.87             \n",
      "scipy                  1.5.2               \n",
      "Send2Trash             1.5.0               \n",
      "setuptools             49.6.0.post20200925 \n",
      "six                    1.15.0              \n",
      "soupsieve              2.0.1               \n",
      "stn                    1.0.1               \n",
      "tensorboard            2.0.1               \n",
      "tensorflow             1.14.0              \n",
      "tensorflow-estimator   2.0.1               \n",
      "termcolor              1.1.0               \n",
      "terminado              0.8.3               \n",
      "testpath               0.4.4               \n",
      "torch                  1.0.1               \n",
      "torchvision            0.4.1               \n",
      "tornado                6.0.4               \n",
      "tqdm                   4.49.0              \n",
      "traitlets              4.3.3               \n",
      "unitconverter          0.1.0               \n",
      "urllib3                1.25.10             \n",
      "wcwidth                0.2.5               \n",
      "webencodings           0.5.1               \n",
      "Werkzeug               1.0.1               \n",
      "wheel                  0.35.1              \n",
      "widgetsnbextension     3.5.1               \n",
      "win-inet-pton          1.1.0               \n",
      "wincertstore           0.2                 \n",
      "wrapt                  1.11.2              \n",
      "zipp                   3.1.0               \n"
     ]
    }
   ],
   "source": [
    "!pip list"
   ]
  },
  {
   "cell_type": "code",
   "execution_count": 42,
   "metadata": {},
   "outputs": [
    {
     "name": "stdout",
     "output_type": "stream",
     "text": [
      "0.14285714285714285\n"
     ]
    }
   ],
   "source": [
    "!calcpy 3 add 8 divide 77"
   ]
  },
  {
   "cell_type": "code",
   "execution_count": 43,
   "metadata": {},
   "outputs": [
    {
     "data": {
      "text/plain": [
       "0.14285714285714285"
      ]
     },
     "execution_count": 43,
     "metadata": {},
     "output_type": "execute_result"
    }
   ],
   "source": [
    "(3 + 8) /77"
   ]
  },
  {
   "cell_type": "code",
   "execution_count": 44,
   "metadata": {},
   "outputs": [],
   "source": [
    "import calcpy"
   ]
  },
  {
   "cell_type": "code",
   "execution_count": 45,
   "metadata": {},
   "outputs": [
    {
     "name": "stdout",
     "output_type": "stream",
     "text": [
      "Help on package calcpy:\n",
      "\n",
      "NAME\n",
      "    calcpy\n",
      "\n",
      "PACKAGE CONTENTS\n",
      "    calculator (package)\n",
      "    cli\n",
      "\n",
      "FILE\n",
      "    d:\\google雲端硬碟\\gettingstartedwithpythonandraspberrypi-book_release\\chapter05\\calcpy_with_cli\\calcpy\\__init__.py\n",
      "\n",
      "\n"
     ]
    }
   ],
   "source": [
    "help(calcpy)"
   ]
  },
  {
   "cell_type": "code",
   "execution_count": 49,
   "metadata": {},
   "outputs": [
    {
     "data": {
      "text/plain": [
       "'D:\\\\Google雲端硬碟\\\\GettingStartedWithPythonAndRaspberryPi-book_release\\\\Chapter05\\\\calcpy_with_cli'"
      ]
     },
     "execution_count": 49,
     "metadata": {},
     "output_type": "execute_result"
    }
   ],
   "source": [
    "%pwd"
   ]
  },
  {
   "cell_type": "code",
   "execution_count": 50,
   "metadata": {},
   "outputs": [],
   "source": [
    "!cd calcpy"
   ]
  },
  {
   "cell_type": "markdown",
   "metadata": {},
   "source": [
    "## 解讀 cli.py，這決定 command line\n",
    "```python:\n",
    "from calcpy.calculator.Calculator import Calculator\n",
    "import sys\n",
    "\n",
    "def run_cli():\n",
    "    calc = Calculator()\n",
    "\n",
    "    for arg in sys.argv[1:]:\n",
    "        try:\n",
    "            value = float(arg)\n",
    "            calc.enter_value(value)\n",
    "        except ValueError:\n",
    "            calc.enter_operation(arg)\n",
    "\n",
    "    result = calc.evaluate()\n",
    "    print(result)\n",
    "\n",
    "\n",
    "if __name__ == \"__main__\":\n",
    "    run_cli()\n",
    "```"
   ]
  },
  {
   "cell_type": "code",
   "execution_count": 53,
   "metadata": {},
   "outputs": [
    {
     "ename": "NameError",
     "evalue": "name 'Calculator' is not defined",
     "output_type": "error",
     "traceback": [
      "\u001b[1;31m---------------------------------------------------------------------------\u001b[0m",
      "\u001b[1;31mNameError\u001b[0m                                 Traceback (most recent call last)",
      "\u001b[1;32m<ipython-input-53-22be19210ba6>\u001b[0m in \u001b[0;36m<module>\u001b[1;34m\u001b[0m\n\u001b[1;32m----> 1\u001b[1;33m \u001b[0mhelp\u001b[0m\u001b[1;33m(\u001b[0m\u001b[0mCalculator\u001b[0m\u001b[1;33m)\u001b[0m\u001b[1;33m\u001b[0m\u001b[1;33m\u001b[0m\u001b[0m\n\u001b[0m",
      "\u001b[1;31mNameError\u001b[0m: name 'Calculator' is not defined"
     ]
    }
   ],
   "source": [
    "help(Calculator)"
   ]
  },
  {
   "cell_type": "code",
   "execution_count": 55,
   "metadata": {},
   "outputs": [
    {
     "name": "stdout",
     "output_type": "stream",
     "text": [
      "Help on class Calculator in module calcpy.calculator.Calculator:\n",
      "\n",
      "class Calculator(builtins.object)\n",
      " |  Methods defined here:\n",
      " |  \n",
      " |  all_clear(self)\n",
      " |  \n",
      " |  enter_operation(self, operation_name)\n",
      " |  \n",
      " |  enter_value(self, value)\n",
      " |  \n",
      " |  evaluate(self)\n",
      " |  \n",
      " |  get_result(self)\n",
      " |  \n",
      " |  ----------------------------------------------------------------------\n",
      " |  Data descriptors defined here:\n",
      " |  \n",
      " |  __dict__\n",
      " |      dictionary for instance variables (if defined)\n",
      " |  \n",
      " |  __weakref__\n",
      " |      list of weak references to the object (if defined)\n",
      "\n"
     ]
    }
   ],
   "source": [
    "from calcpy.calculator.Calculator import Calculator\n",
    "help(Calculator)"
   ]
  },
  {
   "cell_type": "code",
   "execution_count": 70,
   "metadata": {},
   "outputs": [
    {
     "data": {
      "text/plain": [
       "'D:\\\\Google雲端硬碟\\\\GettingStartedWithPythonAndRaspberryPi-book_release\\\\Chapter05\\\\calcpy_with_cli\\\\calcpy'"
      ]
     },
     "execution_count": 70,
     "metadata": {},
     "output_type": "execute_result"
    }
   ],
   "source": [
    "os.getcwd()"
   ]
  },
  {
   "cell_type": "code",
   "execution_count": 71,
   "metadata": {},
   "outputs": [],
   "source": [
    "os.chdir(course_directory +\"/Chapter05/calcpy_with_cli/calcpy\")"
   ]
  },
  {
   "cell_type": "code",
   "execution_count": 73,
   "metadata": {},
   "outputs": [
    {
     "name": "stdout",
     "output_type": "stream",
     "text": [
      "8.0\n"
     ]
    }
   ],
   "source": [
    "%run cli.py 3 add 5"
   ]
  },
  {
   "cell_type": "code",
   "execution_count": 74,
   "metadata": {},
   "outputs": [
    {
     "name": "stdout",
     "output_type": "stream",
     "text": [
      "31.705\n"
     ]
    }
   ],
   "source": [
    "%run cli.py 3 divide 78 multiply 91 add 5 multiply 3.73"
   ]
  },
  {
   "cell_type": "code",
   "execution_count": 75,
   "metadata": {},
   "outputs": [
    {
     "name": "stdout",
     "output_type": "stream",
     "text": [
      "31.705\n"
     ]
    }
   ],
   "source": [
    "!calcpy 3 divide 78 multiply 91 add 5 multiply 3.73"
   ]
  },
  {
   "cell_type": "code",
   "execution_count": 77,
   "metadata": {},
   "outputs": [
    {
     "name": "stdout",
     "output_type": "stream",
     "text": [
      "Variable           Type        Data/Info\n",
      "----------------------------------------\n",
      "Calculator         type        <class 'calcpy.calculator.Calculator.Calculator'>\n",
      "angles_deg         ndarray     24: 24 elems, type `int32`, 96 bytes\n",
      "angles_rad         ndarray     24: 24 elems, type `float64`, 192 bytes\n",
      "angles_sine        ndarray     24: 24 elems, type `float64`, 192 bytes\n",
      "calcpy             module      <module 'calcpy' from 'D:<...>li\\\\calcpy\\\\__init__.py'>\n",
      "course_directory   str         D:\\Google雲端硬碟\\GettingStar<...>dRaspberryPi-book_release\n",
      "deg                int32       345\n",
      "numpy              module      <module 'numpy' from 'C:\\<...>ges\\\\numpy\\\\__init__.py'>\n",
      "os                 module      <module 'os' from 'C:\\\\Us<...>\\\\Anaconda3\\\\lib\\\\os.py'>\n",
      "rad                float64     6.021385919380437\n",
      "run_cli            function    <function run_cli at 0x000001C717C57AE8>\n",
      "sine               float64     -0.2588190451025207\n",
      "sys                module      <module 'sys' (built-in)>\n"
     ]
    }
   ],
   "source": [
    "%whos"
   ]
  },
  {
   "cell_type": "code",
   "execution_count": 79,
   "metadata": {},
   "outputs": [
    {
     "data": {
      "text/plain": [
       "'D:\\\\Google雲端硬碟\\\\GettingStartedWithPythonAndRaspberryPi-book_release\\\\Chapter05\\\\calcpy_with_cli\\\\calcpy'"
      ]
     },
     "execution_count": 79,
     "metadata": {},
     "output_type": "execute_result"
    }
   ],
   "source": [
    "os.getcwd()"
   ]
  },
  {
   "cell_type": "code",
   "execution_count": 78,
   "metadata": {},
   "outputs": [
    {
     "name": "stdout",
     "output_type": "stream",
     "text": [
      "486.0\n"
     ]
    }
   ],
   "source": [
    "%run cli.py 399 add 87"
   ]
  },
  {
   "cell_type": "code",
   "execution_count": 80,
   "metadata": {},
   "outputs": [],
   "source": [
    "# 我們故意到其他的目錄底下來試：\n",
    "os.chdir(course_directory)"
   ]
  },
  {
   "cell_type": "code",
   "execution_count": 81,
   "metadata": {},
   "outputs": [
    {
     "ename": "Exception",
     "evalue": "File `'cli.py'` not found.",
     "output_type": "error",
     "traceback": [
      "\u001b[1;31m---------------------------------------------------------------------------\u001b[0m",
      "\u001b[1;31mOSError\u001b[0m                                   Traceback (most recent call last)",
      "\u001b[1;32mC:\\Users\\Public\\Anaconda3\\lib\\site-packages\\IPython\\core\\magics\\execution.py\u001b[0m in \u001b[0;36mrun\u001b[1;34m(self, parameter_s, runner, file_finder)\u001b[0m\n\u001b[0;32m    702\u001b[0m             \u001b[0mfpath\u001b[0m \u001b[1;33m=\u001b[0m \u001b[0marg_lst\u001b[0m\u001b[1;33m[\u001b[0m\u001b[1;36m0\u001b[0m\u001b[1;33m]\u001b[0m\u001b[1;33m\u001b[0m\u001b[1;33m\u001b[0m\u001b[0m\n\u001b[1;32m--> 703\u001b[1;33m             \u001b[0mfilename\u001b[0m \u001b[1;33m=\u001b[0m \u001b[0mfile_finder\u001b[0m\u001b[1;33m(\u001b[0m\u001b[0mfpath\u001b[0m\u001b[1;33m)\u001b[0m\u001b[1;33m\u001b[0m\u001b[1;33m\u001b[0m\u001b[0m\n\u001b[0m\u001b[0;32m    704\u001b[0m         \u001b[1;32mexcept\u001b[0m \u001b[0mIndexError\u001b[0m\u001b[1;33m:\u001b[0m\u001b[1;33m\u001b[0m\u001b[1;33m\u001b[0m\u001b[0m\n",
      "\u001b[1;32mC:\\Users\\Public\\Anaconda3\\lib\\site-packages\\IPython\\utils\\path.py\u001b[0m in \u001b[0;36mget_py_filename\u001b[1;34m(name, force_win32)\u001b[0m\n\u001b[0;32m    108\u001b[0m     \u001b[1;32melse\u001b[0m\u001b[1;33m:\u001b[0m\u001b[1;33m\u001b[0m\u001b[1;33m\u001b[0m\u001b[0m\n\u001b[1;32m--> 109\u001b[1;33m         \u001b[1;32mraise\u001b[0m \u001b[0mIOError\u001b[0m\u001b[1;33m(\u001b[0m\u001b[1;34m'File `%r` not found.'\u001b[0m \u001b[1;33m%\u001b[0m \u001b[0mname\u001b[0m\u001b[1;33m)\u001b[0m\u001b[1;33m\u001b[0m\u001b[1;33m\u001b[0m\u001b[0m\n\u001b[0m\u001b[0;32m    110\u001b[0m \u001b[1;33m\u001b[0m\u001b[0m\n",
      "\u001b[1;31mOSError\u001b[0m: File `'cli.py'` not found.",
      "\nDuring handling of the above exception, another exception occurred:\n",
      "\u001b[1;31mException\u001b[0m                                 Traceback (most recent call last)",
      "\u001b[1;32m<ipython-input-81-568532c14ed2>\u001b[0m in \u001b[0;36m<module>\u001b[1;34m\u001b[0m\n\u001b[1;32m----> 1\u001b[1;33m \u001b[0mget_ipython\u001b[0m\u001b[1;33m(\u001b[0m\u001b[1;33m)\u001b[0m\u001b[1;33m.\u001b[0m\u001b[0mrun_line_magic\u001b[0m\u001b[1;33m(\u001b[0m\u001b[1;34m'run'\u001b[0m\u001b[1;33m,\u001b[0m \u001b[1;34m'cli.py 399 add 87'\u001b[0m\u001b[1;33m)\u001b[0m\u001b[1;33m\u001b[0m\u001b[1;33m\u001b[0m\u001b[0m\n\u001b[0m",
      "\u001b[1;32mC:\\Users\\Public\\Anaconda3\\lib\\site-packages\\IPython\\core\\interactiveshell.py\u001b[0m in \u001b[0;36mrun_line_magic\u001b[1;34m(self, magic_name, line, _stack_depth)\u001b[0m\n\u001b[0;32m   2324\u001b[0m                 \u001b[0mkwargs\u001b[0m\u001b[1;33m[\u001b[0m\u001b[1;34m'local_ns'\u001b[0m\u001b[1;33m]\u001b[0m \u001b[1;33m=\u001b[0m \u001b[0mself\u001b[0m\u001b[1;33m.\u001b[0m\u001b[0mget_local_scope\u001b[0m\u001b[1;33m(\u001b[0m\u001b[0mstack_depth\u001b[0m\u001b[1;33m)\u001b[0m\u001b[1;33m\u001b[0m\u001b[1;33m\u001b[0m\u001b[0m\n\u001b[0;32m   2325\u001b[0m             \u001b[1;32mwith\u001b[0m \u001b[0mself\u001b[0m\u001b[1;33m.\u001b[0m\u001b[0mbuiltin_trap\u001b[0m\u001b[1;33m:\u001b[0m\u001b[1;33m\u001b[0m\u001b[1;33m\u001b[0m\u001b[0m\n\u001b[1;32m-> 2326\u001b[1;33m                 \u001b[0mresult\u001b[0m \u001b[1;33m=\u001b[0m \u001b[0mfn\u001b[0m\u001b[1;33m(\u001b[0m\u001b[1;33m*\u001b[0m\u001b[0margs\u001b[0m\u001b[1;33m,\u001b[0m \u001b[1;33m**\u001b[0m\u001b[0mkwargs\u001b[0m\u001b[1;33m)\u001b[0m\u001b[1;33m\u001b[0m\u001b[1;33m\u001b[0m\u001b[0m\n\u001b[0m\u001b[0;32m   2327\u001b[0m             \u001b[1;32mreturn\u001b[0m \u001b[0mresult\u001b[0m\u001b[1;33m\u001b[0m\u001b[1;33m\u001b[0m\u001b[0m\n\u001b[0;32m   2328\u001b[0m \u001b[1;33m\u001b[0m\u001b[0m\n",
      "\u001b[1;32m<decorator-gen-60>\u001b[0m in \u001b[0;36mrun\u001b[1;34m(self, parameter_s, runner, file_finder)\u001b[0m\n",
      "\u001b[1;32mC:\\Users\\Public\\Anaconda3\\lib\\site-packages\\IPython\\core\\magic.py\u001b[0m in \u001b[0;36m<lambda>\u001b[1;34m(f, *a, **k)\u001b[0m\n\u001b[0;32m    185\u001b[0m     \u001b[1;31m# but it's overkill for just that one bit of state.\u001b[0m\u001b[1;33m\u001b[0m\u001b[1;33m\u001b[0m\u001b[1;33m\u001b[0m\u001b[0m\n\u001b[0;32m    186\u001b[0m     \u001b[1;32mdef\u001b[0m \u001b[0mmagic_deco\u001b[0m\u001b[1;33m(\u001b[0m\u001b[0marg\u001b[0m\u001b[1;33m)\u001b[0m\u001b[1;33m:\u001b[0m\u001b[1;33m\u001b[0m\u001b[1;33m\u001b[0m\u001b[0m\n\u001b[1;32m--> 187\u001b[1;33m         \u001b[0mcall\u001b[0m \u001b[1;33m=\u001b[0m \u001b[1;32mlambda\u001b[0m \u001b[0mf\u001b[0m\u001b[1;33m,\u001b[0m \u001b[1;33m*\u001b[0m\u001b[0ma\u001b[0m\u001b[1;33m,\u001b[0m \u001b[1;33m**\u001b[0m\u001b[0mk\u001b[0m\u001b[1;33m:\u001b[0m \u001b[0mf\u001b[0m\u001b[1;33m(\u001b[0m\u001b[1;33m*\u001b[0m\u001b[0ma\u001b[0m\u001b[1;33m,\u001b[0m \u001b[1;33m**\u001b[0m\u001b[0mk\u001b[0m\u001b[1;33m)\u001b[0m\u001b[1;33m\u001b[0m\u001b[1;33m\u001b[0m\u001b[0m\n\u001b[0m\u001b[0;32m    188\u001b[0m \u001b[1;33m\u001b[0m\u001b[0m\n\u001b[0;32m    189\u001b[0m         \u001b[1;32mif\u001b[0m \u001b[0mcallable\u001b[0m\u001b[1;33m(\u001b[0m\u001b[0marg\u001b[0m\u001b[1;33m)\u001b[0m\u001b[1;33m:\u001b[0m\u001b[1;33m\u001b[0m\u001b[1;33m\u001b[0m\u001b[0m\n",
      "\u001b[1;32mC:\\Users\\Public\\Anaconda3\\lib\\site-packages\\IPython\\core\\magics\\execution.py\u001b[0m in \u001b[0;36mrun\u001b[1;34m(self, parameter_s, runner, file_finder)\u001b[0m\n\u001b[0;32m    712\u001b[0m             \u001b[1;32mif\u001b[0m \u001b[0mos\u001b[0m\u001b[1;33m.\u001b[0m\u001b[0mname\u001b[0m \u001b[1;33m==\u001b[0m \u001b[1;34m'nt'\u001b[0m \u001b[1;32mand\u001b[0m \u001b[0mre\u001b[0m\u001b[1;33m.\u001b[0m\u001b[0mmatch\u001b[0m\u001b[1;33m(\u001b[0m\u001b[1;34mr\"^'.*'$\"\u001b[0m\u001b[1;33m,\u001b[0m\u001b[0mfpath\u001b[0m\u001b[1;33m)\u001b[0m\u001b[1;33m:\u001b[0m\u001b[1;33m\u001b[0m\u001b[1;33m\u001b[0m\u001b[0m\n\u001b[0;32m    713\u001b[0m                 \u001b[0mwarn\u001b[0m\u001b[1;33m(\u001b[0m\u001b[1;34m'For Windows, use double quotes to wrap a filename: %run \"mypath\\\\myfile.py\"'\u001b[0m\u001b[1;33m)\u001b[0m\u001b[1;33m\u001b[0m\u001b[1;33m\u001b[0m\u001b[0m\n\u001b[1;32m--> 714\u001b[1;33m             \u001b[1;32mraise\u001b[0m \u001b[0mException\u001b[0m\u001b[1;33m(\u001b[0m\u001b[0mmsg\u001b[0m\u001b[1;33m)\u001b[0m\u001b[1;33m\u001b[0m\u001b[1;33m\u001b[0m\u001b[0m\n\u001b[0m\u001b[0;32m    715\u001b[0m         \u001b[1;32mexcept\u001b[0m \u001b[0mTypeError\u001b[0m\u001b[1;33m:\u001b[0m\u001b[1;33m\u001b[0m\u001b[1;33m\u001b[0m\u001b[0m\n\u001b[0;32m    716\u001b[0m             \u001b[1;32mif\u001b[0m \u001b[0mfpath\u001b[0m \u001b[1;32min\u001b[0m \u001b[0msys\u001b[0m\u001b[1;33m.\u001b[0m\u001b[0mmeta_path\u001b[0m\u001b[1;33m:\u001b[0m\u001b[1;33m\u001b[0m\u001b[1;33m\u001b[0m\u001b[0m\n",
      "\u001b[1;31mException\u001b[0m: File `'cli.py'` not found."
     ]
    }
   ],
   "source": [
    "%run cli.py 399 add 87"
   ]
  },
  {
   "cell_type": "code",
   "execution_count": 82,
   "metadata": {},
   "outputs": [
    {
     "name": "stdout",
     "output_type": "stream",
     "text": [
      "31.705\n"
     ]
    }
   ],
   "source": [
    "# 但我們仍可執行 command line\n",
    "!calcpy 3 divide 78 multiply 91 add 5 multiply 3.73"
   ]
  },
  {
   "cell_type": "markdown",
   "metadata": {},
   "source": [
    "### 現在在 cmd 的任何一個目錄底下試試看 calcpy 1 add 4 subtract 9 divide 7 add 7"
   ]
  },
  {
   "cell_type": "code",
   "execution_count": 83,
   "metadata": {},
   "outputs": [
    {
     "name": "stdout",
     "output_type": "stream",
     "text": [
      "6.428571428571429\n"
     ]
    }
   ],
   "source": [
    "!calcpy 1 add 4 subtract 9 divide 7 add 7"
   ]
  },
  {
   "cell_type": "code",
   "execution_count": 84,
   "metadata": {},
   "outputs": [
    {
     "name": "stdout",
     "output_type": "stream",
     "text": [
      "4.821428571428572\n"
     ]
    }
   ],
   "source": [
    "!calcpy 1 add 4 subtract 9 divide 7 add 7 multiply 9 divide 12"
   ]
  },
  {
   "cell_type": "markdown",
   "metadata": {},
   "source": [
    "## 展示如何使用這已經安裝的 calcpy module\n",
    "1. import calcpy\n",
    "2. from calcpy import xxx"
   ]
  },
  {
   "cell_type": "code",
   "execution_count": 85,
   "metadata": {},
   "outputs": [],
   "source": [
    "import calcpy"
   ]
  },
  {
   "cell_type": "code",
   "execution_count": 87,
   "metadata": {},
   "outputs": [
    {
     "name": "stdout",
     "output_type": "stream",
     "text": [
      "Help on package calcpy:\n",
      "\n",
      "NAME\n",
      "    calcpy\n",
      "\n",
      "PACKAGE CONTENTS\n",
      "    calculator (package)\n",
      "    cli\n",
      "\n",
      "FILE\n",
      "    d:\\google雲端硬碟\\gettingstartedwithpythonandraspberrypi-book_release\\chapter05\\calcpy_with_cli\\calcpy\\__init__.py\n",
      "\n",
      "\n"
     ]
    }
   ],
   "source": [
    "help(calcpy)"
   ]
  },
  {
   "cell_type": "code",
   "execution_count": 88,
   "metadata": {},
   "outputs": [],
   "source": [
    "from calcpy import cli"
   ]
  },
  {
   "cell_type": "code",
   "execution_count": 89,
   "metadata": {},
   "outputs": [
    {
     "name": "stdout",
     "output_type": "stream",
     "text": [
      "Help on module calcpy.cli in calcpy:\n",
      "\n",
      "NAME\n",
      "    calcpy.cli\n",
      "\n",
      "FUNCTIONS\n",
      "    run_cli()\n",
      "\n",
      "FILE\n",
      "    d:\\google雲端硬碟\\gettingstartedwithpythonandraspberrypi-book_release\\chapter05\\calcpy_with_cli\\calcpy\\cli.py\n",
      "\n",
      "\n"
     ]
    }
   ],
   "source": [
    "help(cli)"
   ]
  },
  {
   "cell_type": "code",
   "execution_count": 90,
   "metadata": {},
   "outputs": [],
   "source": [
    "??cli.run_cli"
   ]
  },
  {
   "cell_type": "code",
   "execution_count": 91,
   "metadata": {},
   "outputs": [
    {
     "name": "stdout",
     "output_type": "stream",
     "text": [
      "Help on class Calculator in module calcpy.calculator.Calculator:\n",
      "\n",
      "class Calculator(builtins.object)\n",
      " |  Methods defined here:\n",
      " |  \n",
      " |  all_clear(self)\n",
      " |  \n",
      " |  enter_operation(self, operation_name)\n",
      " |  \n",
      " |  enter_value(self, value)\n",
      " |  \n",
      " |  evaluate(self)\n",
      " |  \n",
      " |  get_result(self)\n",
      " |  \n",
      " |  ----------------------------------------------------------------------\n",
      " |  Data descriptors defined here:\n",
      " |  \n",
      " |  __dict__\n",
      " |      dictionary for instance variables (if defined)\n",
      " |  \n",
      " |  __weakref__\n",
      " |      list of weak references to the object (if defined)\n",
      "\n"
     ]
    }
   ],
   "source": [
    "help(Calculator)"
   ]
  },
  {
   "cell_type": "code",
   "execution_count": 92,
   "metadata": {},
   "outputs": [],
   "source": [
    "from calcpy.calculator.Calculator import Calculator"
   ]
  },
  {
   "cell_type": "code",
   "execution_count": 93,
   "metadata": {},
   "outputs": [],
   "source": [
    "c = Calculator()"
   ]
  },
  {
   "cell_type": "markdown",
   "metadata": {},
   "source": [
    "## 自行探索：\n",
    "1. 為什麼在 C:\\Users\\Public\\Anaconda3\\Lib\\site-packages 底下沒有自己一個 calcpy 目錄？\n",
    "2. install 之後，系統增加了那些檔案，如果之後不想要了，要如何 uninstall 才會乾淨？\n",
    "3. 為了更有效了解，建議一個作業，找一個較有名的 package，然後看他的 setup.py 以及 CLI.py 作分析"
   ]
  },
  {
   "cell_type": "markdown",
   "metadata": {},
   "source": [
    "## *Corey Schafer Python Tutorial: Using Try/Except Blocks for Error Handling*\n",
    "https://www.youtube.com/watch?v=NIWwJbo-9_8&t=1s"
   ]
  },
  {
   "cell_type": "code",
   "execution_count": 94,
   "metadata": {},
   "outputs": [
    {
     "data": {
      "text/html": [
       "<iframe width=\"560\" height=\"315\" src=\"https://www.youtube.com/embed/NIWwJbo-9_8\" frameborder=\"0\" allow=\"accelerometer; autoplay; clipboard-write; encrypted-media; gyroscope; picture-in-picture\" allowfullscreen></iframe>\n"
      ],
      "text/plain": [
       "<IPython.core.display.HTML object>"
      ]
     },
     "metadata": {},
     "output_type": "display_data"
    }
   ],
   "source": [
    "%%HTML\n",
    "<iframe width=\"560\" height=\"315\" src=\"https://www.youtube.com/embed/NIWwJbo-9_8\" frameborder=\"0\" allow=\"accelerometer; autoplay; clipboard-write; encrypted-media; gyroscope; picture-in-picture\" allowfullscreen></iframe>"
   ]
  },
  {
   "cell_type": "markdown",
   "metadata": {},
   "source": [
    "## try、raise 陳述句\n",
    "https://openhome.cc/Gossip/Python/TryStatement.html"
   ]
  },
  {
   "cell_type": "code",
   "execution_count": 95,
   "metadata": {},
   "outputs": [
    {
     "name": "stdout",
     "output_type": "stream",
     "text": [
      "input: q\n"
     ]
    }
   ],
   "source": [
    "inp = input(\"input: \")"
   ]
  },
  {
   "cell_type": "code",
   "execution_count": 96,
   "metadata": {},
   "outputs": [
    {
     "name": "stdout",
     "output_type": "stream",
     "text": [
      "輸入整數：12\n",
      "12 為 偶數\n"
     ]
    }
   ],
   "source": [
    "input_value = int(input('輸入整數：'))\n",
    "print('{0} 為 {1}'.format(input_value, '奇數' if input_value % 2 else '偶數'))"
   ]
  },
  {
   "cell_type": "code",
   "execution_count": 97,
   "metadata": {},
   "outputs": [
    {
     "name": "stdout",
     "output_type": "stream",
     "text": [
      "輸入整數：q\n"
     ]
    },
    {
     "ename": "ValueError",
     "evalue": "invalid literal for int() with base 10: 'q'",
     "output_type": "error",
     "traceback": [
      "\u001b[1;31m---------------------------------------------------------------------------\u001b[0m",
      "\u001b[1;31mValueError\u001b[0m                                Traceback (most recent call last)",
      "\u001b[1;32m<ipython-input-97-a3ee0feff605>\u001b[0m in \u001b[0;36m<module>\u001b[1;34m\u001b[0m\n\u001b[1;32m----> 1\u001b[1;33m \u001b[0minput_value\u001b[0m \u001b[1;33m=\u001b[0m \u001b[0mint\u001b[0m\u001b[1;33m(\u001b[0m\u001b[0minput\u001b[0m\u001b[1;33m(\u001b[0m\u001b[1;34m'輸入整數：'\u001b[0m\u001b[1;33m)\u001b[0m\u001b[1;33m)\u001b[0m\u001b[1;33m\u001b[0m\u001b[1;33m\u001b[0m\u001b[0m\n\u001b[0m\u001b[0;32m      2\u001b[0m \u001b[0mprint\u001b[0m\u001b[1;33m(\u001b[0m\u001b[1;34m'{0} 為 {1}'\u001b[0m\u001b[1;33m.\u001b[0m\u001b[0mformat\u001b[0m\u001b[1;33m(\u001b[0m\u001b[0minput_value\u001b[0m\u001b[1;33m,\u001b[0m \u001b[1;34m'奇數'\u001b[0m \u001b[1;32mif\u001b[0m \u001b[0minput_value\u001b[0m \u001b[1;33m%\u001b[0m \u001b[1;36m2\u001b[0m \u001b[1;32melse\u001b[0m \u001b[1;34m'偶數'\u001b[0m\u001b[1;33m)\u001b[0m\u001b[1;33m)\u001b[0m\u001b[1;33m\u001b[0m\u001b[1;33m\u001b[0m\u001b[0m\n",
      "\u001b[1;31mValueError\u001b[0m: invalid literal for int() with base 10: 'q'"
     ]
    }
   ],
   "source": [
    "input_value = int(input('輸入整數：'))\n",
    "print('{0} 為 {1}'.format(input_value, '奇數' if input_value % 2 else '偶數'))"
   ]
  },
  {
   "cell_type": "code",
   "execution_count": 98,
   "metadata": {},
   "outputs": [
    {
     "name": "stdout",
     "output_type": "stream",
     "text": [
      "輸入整數：q\n",
      "請輸入阿拉伯數字\n"
     ]
    }
   ],
   "source": [
    "try:\n",
    "    input_value = int(input('輸入整數：'))\n",
    "    print('{0} 為 {1}'.format(input_value, '奇數' if input_value % 2 else '偶數'))\n",
    "except ValueError:\n",
    "    print('請輸入阿拉伯數字')"
   ]
  },
  {
   "cell_type": "code",
   "execution_count": null,
   "metadata": {},
   "outputs": [],
   "source": []
  }
 ],
 "metadata": {
  "kernelspec": {
   "display_name": "Python 3",
   "language": "python",
   "name": "python3"
  },
  "language_info": {
   "codemirror_mode": {
    "name": "ipython",
    "version": 3
   },
   "file_extension": ".py",
   "mimetype": "text/x-python",
   "name": "python",
   "nbconvert_exporter": "python",
   "pygments_lexer": "ipython3",
   "version": "3.7.1"
  }
 },
 "nbformat": 4,
 "nbformat_minor": 2
}
