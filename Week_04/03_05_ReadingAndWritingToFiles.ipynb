{
 "cells": [
  {
   "cell_type": "markdown",
   "metadata": {},
   "source": [
    "# Chapter 3: Working with Data Structures and I/O"
   ]
  },
  {
   "cell_type": "markdown",
   "metadata": {},
   "source": [
    "## Sheng-Luen Chung\n",
    "## 2020-09-22"
   ]
  },
  {
   "cell_type": "markdown",
   "metadata": {},
   "source": [
    "# 5. Reading and Writing to Files\n",
    "\n",
    "contents:\n",
    "- 當下工作目錄與切換\n",
    "- 路徑名稱的合成，絕對與相對路徑的提取，副檔案名稱的提取\n",
    "- 在指定的目錄裏建一個新的檔案\n",
    "- 在指定的目錄裏讀一個檔案的內容\n",
    "- 查核指定的檔案是否存在、性質、與大小"
   ]
  },
  {
   "cell_type": "markdown",
   "metadata": {},
   "source": [
    "## *Corey Scahfer Python Tutorial*\n",
    "## Python Tutorial: File Objects - Reading and Writing to Files\n",
    "https://www.youtube.com/watch?v=Uh2ebFW8OYM&t=546s"
   ]
  },
  {
   "cell_type": "code",
   "execution_count": 1,
   "metadata": {},
   "outputs": [
    {
     "data": {
      "text/html": [
       "<iframe width=\"560\" height=\"315\" src=\"https://www.youtube.com/embed/Uh2ebFW8OYM\" frameborder=\"0\" allow=\"accelerometer; autoplay; clipboard-write; encrypted-media; gyroscope; picture-in-picture\" allowfullscreen></iframe>\n"
      ],
      "text/plain": [
       "<IPython.core.display.HTML object>"
      ]
     },
     "metadata": {},
     "output_type": "display_data"
    }
   ],
   "source": [
    "%%HTML\n",
    "<iframe width=\"560\" height=\"315\" src=\"https://www.youtube.com/embed/Uh2ebFW8OYM\" frameborder=\"0\" allow=\"accelerometer; autoplay; clipboard-write; encrypted-media; gyroscope; picture-in-picture\" allowfullscreen></iframe>"
   ]
  },
  {
   "cell_type": "markdown",
   "metadata": {},
   "source": [
    "## 要在指定的目錄底下，建置 write (新加或是附加) 指定檔案名稱的檔案。我們先有預設的 home directory，然後再指定其他的目錄。"
   ]
  },
  {
   "cell_type": "code",
   "execution_count": 3,
   "metadata": {},
   "outputs": [
    {
     "data": {
      "text/plain": [
       "'C:\\\\Users\\\\Sheng-Luen Cheng'"
      ]
     },
     "execution_count": 3,
     "metadata": {},
     "output_type": "execute_result"
    }
   ],
   "source": [
    "import os.path\n",
    "home_directory = os.path.expanduser(\"~\")\n",
    "home_directory"
   ]
  },
  {
   "cell_type": "code",
   "execution_count": 5,
   "metadata": {},
   "outputs": [],
   "source": [
    "import os.path\n",
    "'''\n",
    "在指定的路徑上，讀寫檔案。\n",
    "'''\n",
    "filename_in_homedir = os.path.expanduser(\"~/SampleFile.txt\")\n",
    "with open(filename_in_homedir, \"a\") as f:\n",
    "    f.write(\"test\\n\")"
   ]
  },
  {
   "cell_type": "code",
   "execution_count": 6,
   "metadata": {},
   "outputs": [
    {
     "data": {
      "text/plain": [
       "'C:\\\\Users\\\\Sheng-Luen Cheng/SampleFile.txt'"
      ]
     },
     "execution_count": 6,
     "metadata": {},
     "output_type": "execute_result"
    }
   ],
   "source": [
    "filename_in_homedir"
   ]
  },
  {
   "cell_type": "code",
   "execution_count": 7,
   "metadata": {},
   "outputs": [
    {
     "data": {
      "text/plain": [
       "'D:\\\\Google雲端硬碟\\\\GettingStartedWithPythonAndRaspberryPi-book_release\\\\Chapter03'"
      ]
     },
     "execution_count": 7,
     "metadata": {},
     "output_type": "execute_result"
    }
   ],
   "source": [
    "%pwd"
   ]
  },
  {
   "cell_type": "code",
   "execution_count": 8,
   "metadata": {},
   "outputs": [],
   "source": [
    "os.chdir(os.path.expanduser(\"~\"))"
   ]
  },
  {
   "cell_type": "code",
   "execution_count": 9,
   "metadata": {},
   "outputs": [
    {
     "data": {
      "text/plain": [
       "'C:\\\\Users\\\\Sheng-Luen Cheng'"
      ]
     },
     "execution_count": 9,
     "metadata": {},
     "output_type": "execute_result"
    }
   ],
   "source": [
    "os.getcwd()"
   ]
  },
  {
   "cell_type": "markdown",
   "metadata": {},
   "source": [
    "大家可看得到最前面是用「兩個」反斜線\\\\，\n",
    "而實際只有一個反斜線 \\\n",
    "\n",
    "其原因是，用為「斜線」在 Unix 系統中，常被用來當作 escape 字符的開頭，\n",
    "可想像成「單一的斜線」已經被當作「保留字」了，\n",
    "而當真正要用到「斜線」時，就：\n",
    "先來一個「當作預示有特殊字」的」單一斜線」，\n",
    "然後 (第二個斜線) 再畫出來，\n",
    "這也就是最後大家看到的兩條「反斜線」用來代弗實質圖有一條反斜線"
   ]
  },
  {
   "cell_type": "code",
   "execution_count": 10,
   "metadata": {},
   "outputs": [
    {
     "name": "stdout",
     "output_type": "stream",
     "text": [
      "C:\\Users\\Sheng-Luen Cheng/SampleFile.txt\n"
     ]
    }
   ],
   "source": [
    "# 注意不同層之間的 分隔號 可以 /，\\ 混用\n",
    "print(filename_in_homedir)"
   ]
  },
  {
   "cell_type": "code",
   "execution_count": 11,
   "metadata": {},
   "outputs": [
    {
     "data": {
      "text/plain": [
       "str"
      ]
     },
     "execution_count": 11,
     "metadata": {},
     "output_type": "execute_result"
    }
   ],
   "source": [
    "type(filename_in_homedir)"
   ]
  },
  {
   "cell_type": "code",
   "execution_count": 12,
   "metadata": {},
   "outputs": [
    {
     "data": {
      "text/plain": [
       "_io.TextIOWrapper"
      ]
     },
     "execution_count": 12,
     "metadata": {},
     "output_type": "execute_result"
    }
   ],
   "source": [
    "type(f)"
   ]
  },
  {
   "cell_type": "code",
   "execution_count": 13,
   "metadata": {},
   "outputs": [],
   "source": [
    "#help(f)"
   ]
  },
  {
   "cell_type": "markdown",
   "metadata": {},
   "source": [
    "DOS (Windows) 環境底下目錄的表示方法與 Unix 系統裏的不太一樣，\n",
    "\n",
    "前面是用「反斜線」\\\n",
    "\n",
    "而 Unix 系統的是用「斜線」/\n"
   ]
  },
  {
   "cell_type": "code",
   "execution_count": 14,
   "metadata": {},
   "outputs": [],
   "source": [
    "filename_in_homedir2 = os.path.expanduser(\"~\\SampleFile2.txt\")\n",
    "with open(filename_in_homedir2, \"w\") as f:\n",
    "    f.write(\"this is for SampleFile2.tex\\n\")"
   ]
  },
  {
   "cell_type": "code",
   "execution_count": 15,
   "metadata": {},
   "outputs": [
    {
     "data": {
      "text/plain": [
       "'C:\\\\Users\\\\Sheng-Luen Cheng\\\\SampleFile2.txt'"
      ]
     },
     "execution_count": 15,
     "metadata": {},
     "output_type": "execute_result"
    }
   ],
   "source": [
    "filename_in_homedir2"
   ]
  },
  {
   "cell_type": "code",
   "execution_count": 16,
   "metadata": {},
   "outputs": [
    {
     "data": {
      "text/plain": [
       "'C:\\\\Users\\\\Sheng-Luen Cheng'"
      ]
     },
     "execution_count": 16,
     "metadata": {},
     "output_type": "execute_result"
    }
   ],
   "source": [
    "%pwd"
   ]
  },
  {
   "cell_type": "code",
   "execution_count": 17,
   "metadata": {},
   "outputs": [],
   "source": [
    "homedir = os.path.expanduser(\"~\")"
   ]
  },
  {
   "cell_type": "code",
   "execution_count": 18,
   "metadata": {},
   "outputs": [
    {
     "data": {
      "text/plain": [
       "'C:\\\\Users\\\\Sheng-Luen Cheng'"
      ]
     },
     "execution_count": 18,
     "metadata": {},
     "output_type": "execute_result"
    }
   ],
   "source": [
    "os.chdir(homedir)\n",
    "os.getcwd()"
   ]
  },
  {
   "cell_type": "markdown",
   "metadata": {},
   "source": [
    "## 我另外搬到我習慣的課程工作目錄底下的 Chapter03"
   ]
  },
  {
   "cell_type": "code",
   "execution_count": 19,
   "metadata": {},
   "outputs": [],
   "source": [
    "work_directory = \"D:\\Google雲端硬碟\\GettingStartedWithPythonAndRaspberryPi-book_release\""
   ]
  },
  {
   "cell_type": "code",
   "execution_count": 20,
   "metadata": {},
   "outputs": [],
   "source": [
    "os.chdir(work_directory)"
   ]
  },
  {
   "cell_type": "code",
   "execution_count": 22,
   "metadata": {},
   "outputs": [
    {
     "data": {
      "text/plain": [
       "'D:\\\\Google雲端硬碟\\\\GettingStartedWithPythonAndRaspberryPi-book_release'"
      ]
     },
     "execution_count": 22,
     "metadata": {},
     "output_type": "execute_result"
    }
   ],
   "source": [
    "%pwd"
   ]
  },
  {
   "cell_type": "code",
   "execution_count": 23,
   "metadata": {},
   "outputs": [
    {
     "name": "stdout",
     "output_type": "stream",
     "text": [
      " 磁碟區 D 中的磁碟是 新增磁碟區\n",
      " 磁碟區序號:  E422-9B08\n",
      "\n",
      " D:\\Google雲端硬碟\\GettingStartedWithPythonAndRaspberryPi-book_release 的目錄\n",
      "\n",
      "2019/05/25  上午 10:06           948,259 (Hard)PythonHomework#9.docx\n",
      "2019/05/06  下午 12:19            21,539 (修)PythonHomework#7.docx\n",
      "2020/09/28  上午 07:48    <DIR>          .\n",
      "2020/09/28  上午 07:48    <DIR>          ..\n",
      "2019/09/26  下午 04:43    <DIR>          .cache\n",
      "2018/03/13  上午 03:09             6,148 .DS_Store\n",
      "2020/09/21  上午 07:32    <DIR>          .ipynb_checkpoints\n",
      "2019/10/26  上午 07:23         8,495,600 _加註_Getting-Started-Python-Raspberry-Pi.pdf\n",
      "2019/04/06  上午 11:39               162 ~$thonHomework#4.docx\n",
      "2019/04/14  下午 08:14               162 ~$thonHomework#5.docx\n",
      "2019/10/26  上午 06:17               162 ~$樹莓派第八週.docx\n",
      "2019/10/26  上午 06:16               162 ~$樹莓派第六週.docx\n",
      "2019/04/14  下午 08:14            16,517 ~WRL3016.tmp\n",
      "2019/04/15  下午 03:21           178,450 ▲樹莓派第九週.docx\n",
      "2019/04/15  下午 12:11           263,367 ▲樹莓派第八週.docx\n",
      "2020/09/03  下午 09:35            20,005 ●●●2019春季班智慧整合作業總覽.docx\n",
      "2019/10/21  上午 08:54            17,238 2019_Fall_PythonHomework#3.docx\n",
      "2019/10/21  上午 08:54           389,114 2019_Fall_PythonHomework#3.pdf\n",
      "2019/05/30  下午 04:35         8,440,773 2019_加註_Getting-Started-Python-Raspberry-Pi.pdf\n",
      "2019/04/15  下午 04:23            12,544 2019春季班樹莓派作業.docx\n",
      "2019/12/02  下午 06:46            15,037 2019秋季班期末專題構想.docx\n",
      "2019/04/04  下午 05:29            17,586 calculator_講解_V2.ipynb\n",
      "2019/04/04  下午 05:29         4,211,536 calculator教材.pptx\n",
      "2019/09/26  下午 04:43    <DIR>          Ch11-ipynb\n",
      "2019/04/13  下午 08:29            12,395 Ch7_OpenCV_ver.ipynb\n",
      "2019/04/13  下午 08:29         1,394,405 Ch7_OpenCV_ver_20190411.pptx\n",
      "2019/09/26  下午 04:45    <DIR>          Chapter01\n",
      "2020/09/21  下午 04:40    <DIR>          Chapter02\n",
      "2020/09/28  下午 05:29    <DIR>          Chapter03\n",
      "2019/10/14  上午 08:58    <DIR>          Chapter04\n",
      "2019/10/14  上午 10:16           123,422 Chapter04.rar\n",
      "2019/10/28  上午 07:32    <DIR>          Chapter05\n",
      "2019/09/26  下午 04:42            63,184 Chapter05.rar\n",
      "2019/09/26  下午 04:44    <DIR>          Chapter06\n",
      "2019/09/26  下午 04:44    <DIR>          Chapter07\n",
      "2020/01/13  上午 07:40    <DIR>          Chapter08\n",
      "2019/11/04  下午 11:34    <DIR>          Chapter09\n",
      "2019/10/01  上午 07:48    <DIR>          Chapter10\n",
      "2019/09/26  下午 04:44    <DIR>          Chapter11\n",
      "2020/09/15  上午 11:38    <DIR>          jupyter_pyKarel-20200915T033307Z-001\n",
      "2020/09/21  上午 07:32    <DIR>          jupyter-try-out\n",
      "2019/09/26  下午 04:43    <DIR>          logging\n",
      "2019/05/12  下午 03:04            50,654 MI_INDEX.csv\n",
      "2019/04/04  下午 05:28           259,331 n_gram講解.pptx\n",
      "2020/09/20  下午 05:15           658,563 n-gram講解V2.ipynb\n",
      "2019/09/27  下午 02:41    <DIR>          pyKarel\n",
      "2019/09/27  下午 02:40           238,537 pyKarel.zip\n",
      "2019/09/15  下午 08:01            17,094 PythonHomework#1.docx\n",
      "2019/06/03  上午 10:26            25,057 PythonHomework#10.docx\n",
      "2019/06/01  上午 10:31            14,574 PythonHomework#11.docx\n",
      "2019/03/25  下午 12:58            15,421 PythonHomework#2.docx\n",
      "2019/04/01  下午 02:52            17,255 PythonHomework#3.docx\n",
      "2019/04/07  上午 11:39            16,513 PythonHomework#4.docx\n",
      "2019/04/23  上午 06:37            17,328 PythonHomework#5.docx\n",
      "2019/11/18  上午 08:19            18,363 PythonHomework#5_New2019.docx\n",
      "2019/04/28  上午 08:24           245,255 PythonHomework#6.docx\n",
      "2019/11/25  上午 08:50           245,269 PythonHomework#6_New2019.docx\n",
      "2019/05/06  下午 12:19            21,543 PythonHomework#7.docx\n",
      "2019/12/02  上午 08:53            23,272 PythonHomework#7_New2019.docx\n",
      "2019/05/20  上午 08:59         1,875,112 PythonHomework#8.docx\n",
      "2019/12/09  上午 09:07         1,875,112 PythonHomework#8_New2019.docx\n",
      "2019/05/25  上午 11:19            22,427 PythonHomework#9.docx\n",
      "2019/05/12  下午 05:40         1,424,239 PythonHomework#9：利用 beautifulsoup與pandas 由台灣證券交易所刮取資訊.docx\n",
      "2020/09/14  下午 02:34    <DIR>          PyTorch\n",
      "2020/09/26  下午 10:29                18 SampleFile.txt\n",
      "2020/09/26  下午 10:46               102 SampleFile3.txt\n",
      "2020/09/15  下午 02:26            20,991 Trapezoid Rule.ipynb\n",
      "2020/09/21  上午 07:32    <DIR>          Untitled Folder\n",
      "2019/05/12  下午 04:12            10,451 下載台灣股市的每日成交資訊.ipynb\n",
      "2019/05/07  下午 05:00           329,093 台灣證交所爬蟲.ipynb\n",
      "2020/01/14  下午 01:32            14,345 定稿_108智慧整合感控系統概論_期末總分.xlsx\n",
      "2019/05/12  下午 04:03           111,336 超簡單台股每日爬蟲教學.ipynb\n",
      "2019/02/25  上午 08:12            12,173 樹莓派套件借用單.docx\n",
      "2019/02/25  上午 09:01         4,695,393 樹莓派第一週●(第一週)熟悉 Raspbian.docx\n",
      "2019/04/08  下午 12:23            20,464 樹莓派第七週.docx\n",
      "2019/05/11  上午 06:11         1,073,672 樹莓派第九週.docx\n",
      "2019/09/05  下午 01:25           178,347 樹莓派第八週.docx\n",
      "2019/05/12  下午 01:45            16,570 樹莓派第十週.docx\n",
      "2019/03/30  下午 12:46           836,051 樹莓派第五週.docx\n",
      "2019/03/31  下午 08:39            19,698 樹莓派第六週.docx\n",
      "2020/09/20  下午 09:19            20,155 樹莓派第四週 §3  Working with Data Structures.docx\n",
      "2019/05/13  下午 01:50            16,798 關於 ElementTree.docx\n",
      "2019/06/03  下午 01:39            14,990 關於紀錄 logging 以及單元測試 Unit Test.docx\n",
      "              61 個檔案      39,119,333 位元組\n",
      "              22 個目錄  896,126,550,016 位元組可用\n"
     ]
    }
   ],
   "source": [
    "%ls"
   ]
  },
  {
   "cell_type": "code",
   "execution_count": 24,
   "metadata": {},
   "outputs": [
    {
     "data": {
      "text/plain": [
       "['(Hard)PythonHomework#9.docx',\n",
       " '(修)PythonHomework#7.docx',\n",
       " '.cache',\n",
       " '.DS_Store',\n",
       " '.ipynb_checkpoints',\n",
       " '2019_Fall_PythonHomework#3.docx',\n",
       " '2019_Fall_PythonHomework#3.pdf',\n",
       " '2019_加註_Getting-Started-Python-Raspberry-Pi.pdf',\n",
       " '2019春季班樹莓派作業.docx',\n",
       " '2019秋季班期末專題構想.docx',\n",
       " 'calculator_講解_V2.ipynb',\n",
       " 'calculator教材.pptx',\n",
       " 'Ch11-ipynb',\n",
       " 'Ch7_OpenCV_ver.ipynb',\n",
       " 'Ch7_OpenCV_ver_20190411.pptx',\n",
       " 'Chapter01',\n",
       " 'Chapter02',\n",
       " 'Chapter03',\n",
       " 'Chapter04',\n",
       " 'Chapter04.rar',\n",
       " 'Chapter05',\n",
       " 'Chapter05.rar',\n",
       " 'Chapter06',\n",
       " 'Chapter07',\n",
       " 'Chapter08',\n",
       " 'Chapter09',\n",
       " 'Chapter10',\n",
       " 'Chapter11',\n",
       " 'desktop.ini',\n",
       " 'jupyter-try-out',\n",
       " 'jupyter_pyKarel-20200915T033307Z-001',\n",
       " 'logging',\n",
       " 'MI_INDEX.csv',\n",
       " 'n-gram講解V2.ipynb',\n",
       " 'n_gram講解.pptx',\n",
       " 'pyKarel',\n",
       " 'pyKarel.zip',\n",
       " 'PythonHomework#1.docx',\n",
       " 'PythonHomework#10.docx',\n",
       " 'PythonHomework#11.docx',\n",
       " 'PythonHomework#2.docx',\n",
       " 'PythonHomework#3.docx',\n",
       " 'PythonHomework#4.docx',\n",
       " 'PythonHomework#5.docx',\n",
       " 'PythonHomework#5_New2019.docx',\n",
       " 'PythonHomework#6.docx',\n",
       " 'PythonHomework#6_New2019.docx',\n",
       " 'PythonHomework#7.docx',\n",
       " 'PythonHomework#7_New2019.docx',\n",
       " 'PythonHomework#8.docx',\n",
       " 'PythonHomework#8_New2019.docx',\n",
       " 'PythonHomework#9.docx',\n",
       " 'PythonHomework#9：利用 beautifulsoup與pandas 由台灣證券交易所刮取資訊.docx',\n",
       " 'PyTorch',\n",
       " 'SampleFile.txt',\n",
       " 'SampleFile3.txt',\n",
       " 'Trapezoid Rule.ipynb',\n",
       " 'Untitled Folder',\n",
       " '_加註_Getting-Started-Python-Raspberry-Pi.pdf',\n",
       " '~$19春季班樹莓派作業.docx',\n",
       " '~$thonHomework#4.docx',\n",
       " '~$thonHomework#5.docx',\n",
       " '~$樹莓派第八週.docx',\n",
       " '~$樹莓派第六週.docx',\n",
       " '~WRL3016.tmp',\n",
       " '▲樹莓派第九週.docx',\n",
       " '▲樹莓派第八週.docx',\n",
       " '●●●2019春季班智慧整合作業總覽.docx',\n",
       " '下載台灣股市的每日成交資訊.ipynb',\n",
       " '台灣證交所爬蟲.ipynb',\n",
       " '定稿_108智慧整合感控系統概論_期末總分.xlsx',\n",
       " '樹莓派套件借用單.docx',\n",
       " '樹莓派第一週●(第一週)熟悉 Raspbian.docx',\n",
       " '樹莓派第七週.docx',\n",
       " '樹莓派第九週.docx',\n",
       " '樹莓派第五週.docx',\n",
       " '樹莓派第八週.docx',\n",
       " '樹莓派第六週.docx',\n",
       " '樹莓派第十週.docx',\n",
       " '樹莓派第四週 §3  Working with Data Structures.docx',\n",
       " '超簡單台股每日爬蟲教學.ipynb',\n",
       " '關於 ElementTree.docx',\n",
       " '關於紀錄 logging 以及單元測試 Unit Test.docx']"
      ]
     },
     "execution_count": 24,
     "metadata": {},
     "output_type": "execute_result"
    }
   ],
   "source": [
    "'''\n",
    "我們可以列出 homedir 以下的所有檔案與目錄\n",
    "'''\n",
    "os.listdir()"
   ]
  },
  {
   "cell_type": "code",
   "execution_count": 25,
   "metadata": {},
   "outputs": [
    {
     "data": {
      "text/plain": [
       "'D:\\\\Google雲端硬碟\\\\GettingStartedWithPythonAndRaspberryPi-book_release\\\\Chapter03'"
      ]
     },
     "execution_count": 25,
     "metadata": {},
     "output_type": "execute_result"
    }
   ],
   "source": [
    "os.chdir(\"Chapter03\")\n",
    "os.getcwd()"
   ]
  },
  {
   "cell_type": "code",
   "execution_count": 26,
   "metadata": {},
   "outputs": [
    {
     "data": {
      "text/plain": [
       "['.ipynb',\n",
       " '.ipynb_checkpoints',\n",
       " 'Ch03Drill.ipynb',\n",
       " 'Ch03_readme.txt',\n",
       " 'changeToCourseDirectory.ipynb',\n",
       " 'Chapter3byChung-CleanCopy.py',\n",
       " 'Chapter3byChung.py',\n",
       " 'Chapter_03_by_Chung_py3_2019.ipynb',\n",
       " 'Chapter_03_complimentary_Corey_Shafer.ipynb',\n",
       " 'Chapter_03_Read_me.ipynb',\n",
       " 'desktop.ini',\n",
       " 'Dictionary_Operations.py',\n",
       " 'Dictionary_Set.py',\n",
       " 'Dictionary_Simple.py',\n",
       " 'fileObject.ipynb',\n",
       " 'File_Objects.py',\n",
       " 'hw8_330.py',\n",
       " 'Lists_Append.py',\n",
       " 'Lists_ConditionalGenerator.py',\n",
       " 'Lists_ModificationGenerator.py',\n",
       " 'Lists_Operations.py',\n",
       " 'Lists_Simple.py',\n",
       " 'newChapter3byChung.py',\n",
       " 'news.txt',\n",
       " 'news1.txt',\n",
       " 'os_path.py',\n",
       " 'SampleFile.txt',\n",
       " 'SampleFile3.txt',\n",
       " 'Sets_Create.py',\n",
       " 'Sets_Frozen.py',\n",
       " 'Sets_Operations.py',\n",
       " 'test.htm',\n",
       " 'test.txt',\n",
       " 'testw.txt',\n",
       " 'Tuples.py',\n",
       " '§03_01_List.ipynb',\n",
       " '§03_02_Dictionary.ipynb',\n",
       " '§03_03_Set_FrozenSet_Tuple.ipynb',\n",
       " '§03_04_osPath.ipynb',\n",
       " '§03_05_ReadingAndWritingToFiles.ipynb',\n",
       " '§03_Complete_2020_Fall.ipynb',\n",
       " '病歷500句子 (1).txt',\n",
       " '病歷500句子.txt']"
      ]
     },
     "execution_count": 26,
     "metadata": {},
     "output_type": "execute_result"
    }
   ],
   "source": [
    "os.listdir()"
   ]
  },
  {
   "cell_type": "code",
   "execution_count": 27,
   "metadata": {},
   "outputs": [
    {
     "data": {
      "text/plain": [
       "'D:\\\\Google雲端硬碟\\\\GettingStartedWithPythonAndRaspberryPi-book_release\\\\Chapter03\\\\SampleFile.txt'"
      ]
     },
     "execution_count": 27,
     "metadata": {},
     "output_type": "execute_result"
    }
   ],
   "source": [
    "os.path.join(work_directory, \"Chapter03\\SampleFile.txt\")"
   ]
  },
  {
   "cell_type": "code",
   "execution_count": 30,
   "metadata": {},
   "outputs": [],
   "source": [
    "import os.path\n",
    "'''\n",
    "從指定的目錄，再往下建相對路徑上的檔案名稱，之後讀寫檔案。\n",
    "'''\n",
    "filename_in_workdir = os.path.join(work_directory, \"Chapter03\\SampleFile.txt\")\n",
    "with open(filename_in_workdir, \"a\") as f:\n",
    "    f.write(\"this is for working directory\\n\")"
   ]
  },
  {
   "cell_type": "code",
   "execution_count": 31,
   "metadata": {},
   "outputs": [
    {
     "data": {
      "text/plain": [
       "True"
      ]
     },
     "execution_count": 31,
     "metadata": {},
     "output_type": "execute_result"
    }
   ],
   "source": [
    "'SampleFile.txt' in os.listdir()"
   ]
  },
  {
   "cell_type": "code",
   "execution_count": 32,
   "metadata": {},
   "outputs": [
    {
     "name": "stdout",
     "output_type": "stream",
     "text": [
      "test\n",
      "this is for working directory\n"
     ]
    }
   ],
   "source": [
    "!more SampleFile.txt"
   ]
  },
  {
   "cell_type": "markdown",
   "metadata": {},
   "source": [
    "**在表示目錄時，不管是用 「斜線」還是「反斜線」，PYTHON 都可以接受的**"
   ]
  },
  {
   "cell_type": "code",
   "execution_count": 33,
   "metadata": {},
   "outputs": [
    {
     "name": "stdout",
     "output_type": "stream",
     "text": [
      "a\ta\ta\ta\ta\ta\t\n"
     ]
    }
   ],
   "source": [
    "'''\n",
    "關於 escape word，這個用 \\ 開始的字\n",
    "'''\n",
    "print(\"a\\ta\\ta\\ta\\ta\\ta\\t\")"
   ]
  },
  {
   "cell_type": "code",
   "execution_count": 34,
   "metadata": {},
   "outputs": [
    {
     "name": "stdout",
     "output_type": "stream",
     "text": [
      "a\ta\ta\ta\ta\ta\t\n",
      "\n"
     ]
    }
   ],
   "source": [
    "print(\"a\\ta\\ta\\ta\\ta\\ta\\t\\n\")"
   ]
  },
  {
   "cell_type": "code",
   "execution_count": 35,
   "metadata": {},
   "outputs": [
    {
     "data": {
      "text/plain": [
       "'D:\\\\Google雲端硬碟\\\\GettingStartedWithPythonAndRaspberryPi-book_release\\\\Chapter03'"
      ]
     },
     "execution_count": 35,
     "metadata": {},
     "output_type": "execute_result"
    }
   ],
   "source": [
    "%pwd"
   ]
  },
  {
   "cell_type": "code",
   "execution_count": 36,
   "metadata": {},
   "outputs": [
    {
     "name": "stdout",
     "output_type": "stream",
     "text": [
      "D:\\Google雲端硬碟\\GettingStartedWithPythonAndRaspberryPi-book_release\\Chapter03\\SampleFile.txt\n"
     ]
    }
   ],
   "source": [
    "import os.path\n",
    "print(os.path.abspath(\"SampleFile.txt\"))"
   ]
  },
  {
   "cell_type": "code",
   "execution_count": 37,
   "metadata": {},
   "outputs": [
    {
     "name": "stdout",
     "output_type": "stream",
     "text": [
      "D:\\Google雲端硬碟\\GettingStartedWithPythonAndRaspberryPi-book_release\\Chapter03\\SampleFile2.txt\n"
     ]
    }
   ],
   "source": [
    "# 在目前的工作目錄 (!pwd) 底下建一個檔案名稱，可以存在，也可能還不存在\n",
    "print(os.path.abspath(\"SampleFile2.txt\"))"
   ]
  },
  {
   "cell_type": "code",
   "execution_count": 38,
   "metadata": {},
   "outputs": [
    {
     "data": {
      "text/plain": [
       "'D:\\\\Google雲端硬碟\\\\GettingStartedWithPythonAndRaspberryPi-book_release\\\\Chapter03'"
      ]
     },
     "execution_count": 38,
     "metadata": {},
     "output_type": "execute_result"
    }
   ],
   "source": [
    "os.getcwd()"
   ]
  },
  {
   "cell_type": "code",
   "execution_count": 39,
   "metadata": {},
   "outputs": [
    {
     "name": "stdout",
     "output_type": "stream",
     "text": [
      "D:\\Google雲端硬碟\\GettingStartedWithPythonAndRaspberryPi-book_release\\Chapter03\\SampleFile3.txt\n"
     ]
    }
   ],
   "source": [
    "print(os.path.abspath(\"SampleFile3.txt\"))"
   ]
  },
  {
   "cell_type": "code",
   "execution_count": 40,
   "metadata": {},
   "outputs": [
    {
     "name": "stdout",
     "output_type": "stream",
     "text": [
      " 磁碟區 D 中的磁碟是 新增磁碟區\n",
      " 磁碟區序號:  E422-9B08\n",
      "\n",
      " D:\\Google雲端硬碟\\GettingStartedWithPythonAndRaspberryPi-book_release\\Chapter03 的目錄\n",
      "\n",
      "2020/09/28  下午 05:35    <DIR>          .\n",
      "2020/09/28  下午 05:35    <DIR>          ..\n",
      "2019/03/11  下午 12:19           247,888 .ipynb\n",
      "2020/09/23  上午 11:18    <DIR>          .ipynb_checkpoints\n",
      "2020/09/28  下午 02:39            53,161 §03_01_List.ipynb\n",
      "2020/09/28  下午 04:11            27,580 §03_02_Dictionary.ipynb\n",
      "2020/09/28  下午 04:40            60,490 §03_03_Set_FrozenSet_Tuple.ipynb\n",
      "2020/09/28  下午 05:01            16,751 §03_04_osPath.ipynb\n",
      "2020/09/28  下午 05:35            59,864 §03_05_ReadingAndWritingToFiles.ipynb\n",
      "2020/09/22  下午 08:34           195,478 §03_Complete_2020_Fall.ipynb\n",
      "2019/09/30  上午 10:15               460 Ch03_readme.txt\n",
      "2020/09/27  上午 08:23            82,198 Ch03Drill.ipynb\n",
      "2020/09/27  下午 08:44            93,397 changeToCourseDirectory.ipynb\n",
      "2020/09/22  下午 08:04           195,475 Chapter_03_by_Chung_py3_2019.ipynb\n",
      "2020/09/20  下午 04:16             2,644 Chapter_03_complimentary_Corey_Shafer.ipynb\n",
      "2020/09/28  下午 01:42             1,124 Chapter_03_Read_me.ipynb\n",
      "2018/03/26  上午 08:38            13,611 Chapter3byChung.py\n",
      "2018/03/31  下午 04:38            11,296 Chapter3byChung-CleanCopy.py\n",
      "2018/03/13  上午 03:09               796 Dictionary_Operations.py\n",
      "2018/03/13  上午 03:09               107 Dictionary_Set.py\n",
      "2018/03/13  上午 03:09               107 Dictionary_Simple.py\n",
      "2018/03/13  上午 03:09               544 File_Objects.py\n",
      "2020/09/27  下午 07:39        45,793,118 fileObject.ipynb\n",
      "2019/06/10  下午 12:21             4,759 hw8_330.py\n",
      "2018/03/13  上午 03:09               280 Lists_Append.py\n",
      "2018/03/13  上午 03:09               465 Lists_ConditionalGenerator.py\n",
      "2018/03/13  上午 03:09               642 Lists_ModificationGenerator.py\n",
      "2018/03/13  上午 03:09               592 Lists_Operations.py\n",
      "2018/03/13  上午 03:09                84 Lists_Simple.py\n",
      "2018/03/31  下午 03:53            10,597 newChapter3byChung.py\n",
      "2020/09/27  下午 02:11             3,491 news.txt\n",
      "2020/09/27  下午 02:16             3,491 news1.txt\n",
      "2018/03/13  上午 03:09             1,102 os_path.py\n",
      "2020/09/28  下午 05:33                37 SampleFile.txt\n",
      "2018/03/13  上午 03:09               224 Sets_Create.py\n",
      "2018/03/13  上午 03:09               158 Sets_Frozen.py\n",
      "2018/03/13  上午 03:09               512 Sets_Operations.py\n",
      "2020/09/27  下午 02:48            86,140 test.htm\n",
      "2020/09/27  下午 02:57               182 test.txt\n",
      "2020/09/27  下午 03:15                17 testw.txt\n",
      "2018/03/13  上午 03:09               297 Tuples.py\n",
      "2020/09/27  下午 09:12            30,122 病歷500句子 (1).txt\n",
      "2019/09/22  下午 03:50            20,419 病歷500句子.txt\n",
      "              40 個檔案      47,019,700 位元組\n",
      "               3 個目錄  896,126,541,824 位元組可用\n"
     ]
    }
   ],
   "source": [
    "%ls"
   ]
  },
  {
   "cell_type": "code",
   "execution_count": 41,
   "metadata": {},
   "outputs": [
    {
     "data": {
      "text/plain": [
       "['.ipynb',\n",
       " '.ipynb_checkpoints',\n",
       " 'Ch03Drill.ipynb',\n",
       " 'Ch03_readme.txt',\n",
       " 'changeToCourseDirectory.ipynb',\n",
       " 'Chapter3byChung-CleanCopy.py',\n",
       " 'Chapter3byChung.py',\n",
       " 'Chapter_03_by_Chung_py3_2019.ipynb',\n",
       " 'Chapter_03_complimentary_Corey_Shafer.ipynb',\n",
       " 'Chapter_03_Read_me.ipynb',\n",
       " 'desktop.ini',\n",
       " 'Dictionary_Operations.py',\n",
       " 'Dictionary_Set.py',\n",
       " 'Dictionary_Simple.py',\n",
       " 'fileObject.ipynb',\n",
       " 'File_Objects.py',\n",
       " 'hw8_330.py',\n",
       " 'Lists_Append.py',\n",
       " 'Lists_ConditionalGenerator.py',\n",
       " 'Lists_ModificationGenerator.py',\n",
       " 'Lists_Operations.py',\n",
       " 'Lists_Simple.py',\n",
       " 'newChapter3byChung.py',\n",
       " 'news.txt',\n",
       " 'news1.txt',\n",
       " 'os_path.py',\n",
       " 'SampleFile.txt',\n",
       " 'Sets_Create.py',\n",
       " 'Sets_Frozen.py',\n",
       " 'Sets_Operations.py',\n",
       " 'test.htm',\n",
       " 'test.txt',\n",
       " 'testw.txt',\n",
       " 'Tuples.py',\n",
       " '§03_01_List.ipynb',\n",
       " '§03_02_Dictionary.ipynb',\n",
       " '§03_03_Set_FrozenSet_Tuple.ipynb',\n",
       " '§03_04_osPath.ipynb',\n",
       " '§03_05_ReadingAndWritingToFiles.ipynb',\n",
       " '§03_Complete_2020_Fall.ipynb',\n",
       " '病歷500句子 (1).txt',\n",
       " '病歷500句子.txt']"
      ]
     },
     "execution_count": 41,
     "metadata": {},
     "output_type": "execute_result"
    }
   ],
   "source": [
    "os.listdir()"
   ]
  },
  {
   "cell_type": "markdown",
   "metadata": {},
   "source": [
    "**注意，其實在 pwd 底下根本沒有 SampleFile3.txt**"
   ]
  },
  {
   "cell_type": "code",
   "execution_count": 42,
   "metadata": {},
   "outputs": [
    {
     "name": "stdout",
     "output_type": "stream",
     "text": [
      "D:\\Google雲端硬碟\\GettingStartedWithPythonAndRaspberryPi-book_release\\Chapter03\\SampleFile.txt\n",
      "SampleFile.txt\n"
     ]
    }
   ],
   "source": [
    "print(filename_in_workdir)\n",
    "print(os.path.basename(filename_in_workdir))"
   ]
  },
  {
   "cell_type": "code",
   "execution_count": 43,
   "metadata": {},
   "outputs": [
    {
     "name": "stdout",
     "output_type": "stream",
     "text": [
      "SampleFile.txt\n"
     ]
    }
   ],
   "source": [
    "print(os.path.basename(filename_in_homedir))"
   ]
  },
  {
   "cell_type": "markdown",
   "metadata": {},
   "source": [
    "前面 absolute path 可以套用，但可能並不實際存在！"
   ]
  },
  {
   "cell_type": "code",
   "execution_count": 44,
   "metadata": {},
   "outputs": [
    {
     "name": "stdout",
     "output_type": "stream",
     "text": [
      "False\n"
     ]
    }
   ],
   "source": [
    "print(os.path.exists(os.path.abspath(\"SampleFile3.txt\")))"
   ]
  },
  {
   "cell_type": "code",
   "execution_count": 45,
   "metadata": {},
   "outputs": [
    {
     "name": "stdout",
     "output_type": "stream",
     "text": [
      "D:\\Google雲端硬碟\\GettingStartedWithPythonAndRaspberryPi-book_release\\Chapter03\\SampleFile.txt\n",
      "SampleFile.txt\n",
      "True\n",
      "37\n"
     ]
    }
   ],
   "source": [
    "print(os.path.abspath(\"SampleFile.txt\"))\n",
    "print(os.path.basename(\"SampleFile.txt\"))\n",
    "print(os.path.exists(os.path.abspath(\"SampleFile.txt\")))\n",
    "print(os.path.getsize(\"SampleFile.txt\"))"
   ]
  },
  {
   "cell_type": "code",
   "execution_count": 46,
   "metadata": {},
   "outputs": [
    {
     "ename": "FileNotFoundError",
     "evalue": "[WinError 2] 系統找不到指定的檔案。: 'SampleFile3.txt'",
     "output_type": "error",
     "traceback": [
      "\u001b[1;31m---------------------------------------------------------------------------\u001b[0m",
      "\u001b[1;31mFileNotFoundError\u001b[0m                         Traceback (most recent call last)",
      "\u001b[1;32m<ipython-input-46-3ad64d5929d7>\u001b[0m in \u001b[0;36m<module>\u001b[1;34m\u001b[0m\n\u001b[1;32m----> 1\u001b[1;33m \u001b[0mprint\u001b[0m\u001b[1;33m(\u001b[0m\u001b[0mos\u001b[0m\u001b[1;33m.\u001b[0m\u001b[0mpath\u001b[0m\u001b[1;33m.\u001b[0m\u001b[0mgetsize\u001b[0m\u001b[1;33m(\u001b[0m\u001b[1;34m\"SampleFile3.txt\"\u001b[0m\u001b[1;33m)\u001b[0m\u001b[1;33m)\u001b[0m\u001b[1;33m\u001b[0m\u001b[1;33m\u001b[0m\u001b[0m\n\u001b[0m",
      "\u001b[1;32mC:\\Users\\Public\\Anaconda3\\lib\\genericpath.py\u001b[0m in \u001b[0;36mgetsize\u001b[1;34m(filename)\u001b[0m\n\u001b[0;32m     48\u001b[0m \u001b[1;32mdef\u001b[0m \u001b[0mgetsize\u001b[0m\u001b[1;33m(\u001b[0m\u001b[0mfilename\u001b[0m\u001b[1;33m)\u001b[0m\u001b[1;33m:\u001b[0m\u001b[1;33m\u001b[0m\u001b[1;33m\u001b[0m\u001b[0m\n\u001b[0;32m     49\u001b[0m     \u001b[1;34m\"\"\"Return the size of a file, reported by os.stat().\"\"\"\u001b[0m\u001b[1;33m\u001b[0m\u001b[1;33m\u001b[0m\u001b[0m\n\u001b[1;32m---> 50\u001b[1;33m     \u001b[1;32mreturn\u001b[0m \u001b[0mos\u001b[0m\u001b[1;33m.\u001b[0m\u001b[0mstat\u001b[0m\u001b[1;33m(\u001b[0m\u001b[0mfilename\u001b[0m\u001b[1;33m)\u001b[0m\u001b[1;33m.\u001b[0m\u001b[0mst_size\u001b[0m\u001b[1;33m\u001b[0m\u001b[1;33m\u001b[0m\u001b[0m\n\u001b[0m\u001b[0;32m     51\u001b[0m \u001b[1;33m\u001b[0m\u001b[0m\n\u001b[0;32m     52\u001b[0m \u001b[1;33m\u001b[0m\u001b[0m\n",
      "\u001b[1;31mFileNotFoundError\u001b[0m: [WinError 2] 系統找不到指定的檔案。: 'SampleFile3.txt'"
     ]
    }
   ],
   "source": [
    "print(os.path.getsize(\"SampleFile3.txt\"))"
   ]
  },
  {
   "cell_type": "code",
   "execution_count": 47,
   "metadata": {},
   "outputs": [
    {
     "name": "stdout",
     "output_type": "stream",
     "text": [
      "37\n"
     ]
    }
   ],
   "source": [
    "print(os.path.getsize(\"SampleFile.txt\"))"
   ]
  },
  {
   "cell_type": "code",
   "execution_count": 48,
   "metadata": {},
   "outputs": [
    {
     "name": "stdout",
     "output_type": "stream",
     "text": [
      "12\n"
     ]
    }
   ],
   "source": [
    "print(os.path.getsize(filename_in_homedir))"
   ]
  },
  {
   "cell_type": "code",
   "execution_count": 49,
   "metadata": {},
   "outputs": [
    {
     "name": "stdout",
     "output_type": "stream",
     "text": [
      "True\n"
     ]
    }
   ],
   "source": [
    "print(os.path.isfile(filename_in_homedir))"
   ]
  },
  {
   "cell_type": "code",
   "execution_count": 50,
   "metadata": {},
   "outputs": [
    {
     "name": "stdout",
     "output_type": "stream",
     "text": [
      "False\n"
     ]
    }
   ],
   "source": [
    "print(os.path.isfile(\"~\"))"
   ]
  },
  {
   "cell_type": "code",
   "execution_count": 51,
   "metadata": {},
   "outputs": [
    {
     "name": "stdout",
     "output_type": "stream",
     "text": [
      "True\n"
     ]
    }
   ],
   "source": [
    "print(os.path.isdir(homedir))"
   ]
  },
  {
   "cell_type": "code",
   "execution_count": 52,
   "metadata": {},
   "outputs": [
    {
     "name": "stdout",
     "output_type": "stream",
     "text": [
      "False\n"
     ]
    }
   ],
   "source": [
    "print(os.path.islink(homedir))"
   ]
  },
  {
   "cell_type": "code",
   "execution_count": 53,
   "metadata": {},
   "outputs": [
    {
     "name": "stdout",
     "output_type": "stream",
     "text": [
      "C:\\Users\\Sheng-Luen Cheng\n"
     ]
    }
   ],
   "source": [
    "print(os.path.expanduser(\"~\"))"
   ]
  },
  {
   "cell_type": "code",
   "execution_count": 55,
   "metadata": {},
   "outputs": [
    {
     "name": "stdout",
     "output_type": "stream",
     "text": [
      "C:\\Users\\Sheng-Luen Cheng/SampleFile4.txt\n"
     ]
    }
   ],
   "source": [
    "print(os.path.expanduser(\"~/SampleFile4.txt\"))"
   ]
  },
  {
   "cell_type": "code",
   "execution_count": 56,
   "metadata": {},
   "outputs": [
    {
     "name": "stdout",
     "output_type": "stream",
     "text": [
      "C:\\Users\\Sheng-Luen Cheng\n"
     ]
    }
   ],
   "source": [
    "print(homedir)"
   ]
  },
  {
   "cell_type": "code",
   "execution_count": 57,
   "metadata": {},
   "outputs": [
    {
     "name": "stdout",
     "output_type": "stream",
     "text": [
      "SampleFile.txt\n"
     ]
    }
   ],
   "source": [
    "print(\"SampleFile.txt\")"
   ]
  },
  {
   "cell_type": "code",
   "execution_count": 58,
   "metadata": {},
   "outputs": [
    {
     "name": "stdout",
     "output_type": "stream",
     "text": [
      "C:\\Users\\Sheng-Luen Cheng\\SampleFile.txt\n"
     ]
    }
   ],
   "source": [
    "print(os.path.join(homedir, \"SampleFile.txt\"))"
   ]
  },
  {
   "cell_type": "code",
   "execution_count": 59,
   "metadata": {},
   "outputs": [
    {
     "name": "stdout",
     "output_type": "stream",
     "text": [
      "('C:\\\\Users\\\\Sheng-Luen Cheng', 'SampleFile.txt')\n"
     ]
    }
   ],
   "source": [
    "# 分開絕對路徑 以及最後的檔案名稱\n",
    "print(os.path.split(filename_in_homedir))"
   ]
  },
  {
   "cell_type": "code",
   "execution_count": 60,
   "metadata": {},
   "outputs": [
    {
     "name": "stdout",
     "output_type": "stream",
     "text": [
      "('C:\\\\Users\\\\Sheng-Luen Cheng/SampleFile', '.txt')\n"
     ]
    }
   ],
   "source": [
    "# 分開絕對路徑 以及最後的檔案的副檔名\n",
    "print(os.path.splitext(filename_in_homedir))"
   ]
  },
  {
   "cell_type": "markdown",
   "metadata": {},
   "source": [
    "為什麼會最後是反斜線，應該是跟我們最後的指令有關"
   ]
  },
  {
   "cell_type": "code",
   "execution_count": 61,
   "metadata": {},
   "outputs": [
    {
     "name": "stdout",
     "output_type": "stream",
     "text": [
      "C:\\Users\\Sheng-Luen Cheng/SampleFile.txt\n"
     ]
    }
   ],
   "source": [
    "print(filename_in_homedir)"
   ]
  },
  {
   "cell_type": "markdown",
   "metadata": {},
   "source": [
    "# 5. Reading and writing files    "
   ]
  },
  {
   "cell_type": "code",
   "execution_count": 62,
   "metadata": {},
   "outputs": [
    {
     "data": {
      "text/plain": [
       "'D:\\\\Google雲端硬碟\\\\GettingStartedWithPythonAndRaspberryPi-book_release\\\\Chapter03'"
      ]
     },
     "execution_count": 62,
     "metadata": {},
     "output_type": "execute_result"
    }
   ],
   "source": [
    "%pwd"
   ]
  },
  {
   "cell_type": "code",
   "execution_count": 63,
   "metadata": {},
   "outputs": [
    {
     "data": {
      "text/plain": [
       "'D:\\\\Google雲端硬碟\\\\GettingStartedWithPythonAndRaspberryPi-book_release\\\\Chapter03'"
      ]
     },
     "execution_count": 63,
     "metadata": {},
     "output_type": "execute_result"
    }
   ],
   "source": [
    "os.getcwd()"
   ]
  },
  {
   "cell_type": "code",
   "execution_count": 64,
   "metadata": {},
   "outputs": [
    {
     "data": {
      "text/plain": [
       "'D:\\\\Google雲端硬碟\\\\GettingStartedWithPythonAndRaspberryPi-book_release\\\\Chapter03\\\\SampleFile3.txt'"
      ]
     },
     "execution_count": 64,
     "metadata": {},
     "output_type": "execute_result"
    }
   ],
   "source": [
    "os.path.abspath(\"SampleFile3.txt\")"
   ]
  },
  {
   "cell_type": "code",
   "execution_count": 65,
   "metadata": {},
   "outputs": [
    {
     "name": "stdout",
     "output_type": "stream",
     "text": [
      "False\n"
     ]
    }
   ],
   "source": [
    "print(os.path.exists(os.path.abspath(\"SampleFile3.txt\")))"
   ]
  },
  {
   "cell_type": "code",
   "execution_count": 66,
   "metadata": {},
   "outputs": [],
   "source": [
    "# 在當下的目錄底下先建一個檔案名稱\n",
    "import os.path\n",
    "#filename = os.path.expanduser(\"~/SampleFile.txt\")\n",
    "filename = os.path.abspath(\"SampleFile3.txt\")\n",
    "text = \"The quick, brown for jumps, over the, lady dog\""
   ]
  },
  {
   "cell_type": "code",
   "execution_count": 67,
   "metadata": {},
   "outputs": [
    {
     "data": {
      "text/plain": [
       "['The quick', ' brown for jumps', ' over the', ' lady dog']"
      ]
     },
     "execution_count": 67,
     "metadata": {},
     "output_type": "execute_result"
    }
   ],
   "source": [
    "# 用 \",\" 隔開以上的字串\n",
    "text.split(\",\")"
   ]
  },
  {
   "cell_type": "code",
   "execution_count": 69,
   "metadata": {},
   "outputs": [
    {
     "data": {
      "text/plain": [
       "'abcefg'"
      ]
     },
     "execution_count": 69,
     "metadata": {},
     "output_type": "execute_result"
    }
   ],
   "source": [
    "'''\n",
    "+ 對字串運算是串接的意思 concatenate\n",
    "'''\n",
    "\"abc\" + \"efg\""
   ]
  },
  {
   "cell_type": "code",
   "execution_count": 70,
   "metadata": {},
   "outputs": [
    {
     "data": {
      "text/plain": [
       "['The quick\\n', ' brown for jumps\\n', ' over the\\n', ' lady dog\\n']"
      ]
     },
     "execution_count": 70,
     "metadata": {},
     "output_type": "execute_result"
    }
   ],
   "source": [
    "lines = [l + \"\\n\" for l in text.split(\",\")]\n",
    "lines"
   ]
  },
  {
   "cell_type": "code",
   "execution_count": 72,
   "metadata": {},
   "outputs": [],
   "source": [
    "'''\n",
    "將 text 中的文字，以「，」當作隔開字符隔開，\n",
    "然後，逐行 (writelines) 寫到 filename 上。\n",
    "'''\n",
    "with open(filename, \"a\") as f:\n",
    "    lines = [l + \"\\n\" for l in text.split(\",\")]\n",
    "    f.writelines(lines)"
   ]
  },
  {
   "cell_type": "code",
   "execution_count": 61,
   "metadata": {},
   "outputs": [],
   "source": [
    "# help(open)"
   ]
  },
  {
   "cell_type": "code",
   "execution_count": 73,
   "metadata": {},
   "outputs": [
    {
     "name": "stdout",
     "output_type": "stream",
     "text": [
      "D:\\Google雲端硬碟\\GettingStartedWithPythonAndRaspberryPi-book_release\\Chapter03\\SampleFile3.txt\n"
     ]
    }
   ],
   "source": [
    "print(filename)"
   ]
  },
  {
   "cell_type": "code",
   "execution_count": 74,
   "metadata": {},
   "outputs": [],
   "source": [
    "#help(enumerate)"
   ]
  },
  {
   "cell_type": "code",
   "execution_count": 76,
   "metadata": {},
   "outputs": [],
   "source": [
    "'''\n",
    "我們先 more 出 SampleFile.txt 的內容\n",
    "more 是整篇出來，\n",
    "但之後在讀的時候是逐行的\n",
    "'''\n",
    "%more SampleFile3.txt"
   ]
  },
  {
   "cell_type": "markdown",
   "metadata": {},
   "source": [
    "# 以上為如何 read 的範例"
   ]
  },
  {
   "cell_type": "code",
   "execution_count": 77,
   "metadata": {},
   "outputs": [
    {
     "name": "stdout",
     "output_type": "stream",
     "text": [
      "00: The quick\n",
      "01: brown for jumps\n",
      "02: over the\n",
      "03: lady dog\n",
      "04: The quick\n",
      "05: brown for jumps\n",
      "06: over the\n",
      "07: lady dog\n"
     ]
    }
   ],
   "source": [
    "'''\n",
    "如果 open() 中沒有特別寫選項，那就是 \"r\"\n",
    "在讀檔時，是逐行的讀入\n",
    "'''\n",
    "with open(filename,\"r\") as f:\n",
    "    for idx, line in enumerate(f):\n",
    "        print(\"%.2d: %s\" % (idx, line.strip()))"
   ]
  },
  {
   "cell_type": "code",
   "execution_count": 78,
   "metadata": {},
   "outputs": [
    {
     "name": "stdout",
     "output_type": "stream",
     "text": [
      "00: The quick\n",
      "\n",
      "01:  brown for jumps\n",
      "\n",
      "02:  over the\n",
      "\n",
      "03:  lady dog\n",
      "\n",
      "04: The quick\n",
      "\n",
      "05:  brown for jumps\n",
      "\n",
      "06:  over the\n",
      "\n",
      "07:  lady dog\n",
      "\n"
     ]
    }
   ],
   "source": [
    "'''\n",
    "開了的檔案，可看成是以行為單位的 iterable\n",
    "'''\n",
    "with open(filename) as f:\n",
    "    for idx, line in enumerate(f):\n",
    "        print(\"%.2d: %s\" % (idx, line))"
   ]
  },
  {
   "cell_type": "code",
   "execution_count": 79,
   "metadata": {},
   "outputs": [
    {
     "name": "stdout",
     "output_type": "stream",
     "text": [
      "00: The quick\n",
      "01:  brown for jumps\n",
      "02:  over the\n",
      "03:  lady dog\n",
      "04: The quick\n",
      "05:  brown for jumps\n",
      "06:  over the\n",
      "07:  lady dog\n"
     ]
    }
   ],
   "source": [
    "'''\n",
    "如果每印一行，不要讓他自動 \\n 的話，就加上 end=\"\" 即可\n",
    "'''\n",
    "with open(filename) as f:\n",
    "    for idx, line in enumerate(f):\n",
    "        print(\"%.2d: %s\" % (idx, line), end=\"\")"
   ]
  },
  {
   "cell_type": "markdown",
   "metadata": {},
   "source": [
    "## 如果上述的指令再執行一次，就會再 append 一次"
   ]
  },
  {
   "cell_type": "code",
   "execution_count": 80,
   "metadata": {},
   "outputs": [],
   "source": [
    "with open(filename, \"a\") as f:\n",
    "    lines = [l + \"\\n\" for l in text.split(\",\")]\n",
    "    f.writelines(lines)"
   ]
  },
  {
   "cell_type": "code",
   "execution_count": 81,
   "metadata": {},
   "outputs": [
    {
     "data": {
      "text/plain": [
       "'D:\\\\Google雲端硬碟\\\\GettingStartedWithPythonAndRaspberryPi-book_release\\\\Chapter03\\\\SampleFile3.txt'"
      ]
     },
     "execution_count": 81,
     "metadata": {},
     "output_type": "execute_result"
    }
   ],
   "source": [
    "filename"
   ]
  },
  {
   "cell_type": "code",
   "execution_count": 82,
   "metadata": {},
   "outputs": [
    {
     "name": "stdout",
     "output_type": "stream",
     "text": [
      "00: The quick\n",
      "01: brown for jumps\n",
      "02: over the\n",
      "03: lady dog\n",
      "04: The quick\n",
      "05: brown for jumps\n",
      "06: over the\n",
      "07: lady dog\n",
      "08: The quick\n",
      "09: brown for jumps\n",
      "10: over the\n",
      "11: lady dog\n"
     ]
    }
   ],
   "source": [
    "# 因為沒有指定 W，所以是 R\n",
    "with open(filename) as f:\n",
    "    for idx, line in enumerate(f):\n",
    "        print(\"%.2d: %s\" % (idx, line.strip()))"
   ]
  },
  {
   "cell_type": "code",
   "execution_count": 83,
   "metadata": {},
   "outputs": [
    {
     "data": {
      "text/plain": [
       "['The quick\\n', ' brown for jumps\\n', ' over the\\n', ' lady dog\\n']"
      ]
     },
     "execution_count": 83,
     "metadata": {},
     "output_type": "execute_result"
    }
   ],
   "source": [
    "lines"
   ]
  },
  {
   "cell_type": "code",
   "execution_count": 84,
   "metadata": {},
   "outputs": [
    {
     "name": "stdout",
     "output_type": "stream",
     "text": [
      "D:\\Google雲端硬碟\\GettingStartedWithPythonAndRaspberryPi-book_release\\Chapter03\n"
     ]
    }
   ],
   "source": [
    "import os\n",
    "print(os.getcwd())"
   ]
  },
  {
   "cell_type": "code",
   "execution_count": 85,
   "metadata": {},
   "outputs": [],
   "source": [
    "#print(dir(os))"
   ]
  },
  {
   "cell_type": "code",
   "execution_count": 86,
   "metadata": {},
   "outputs": [
    {
     "data": {
      "text/plain": [
       "['.ipynb',\n",
       " '.ipynb_checkpoints',\n",
       " 'Ch03Drill.ipynb',\n",
       " 'Ch03_readme.txt',\n",
       " 'changeToCourseDirectory.ipynb',\n",
       " 'Chapter3byChung-CleanCopy.py',\n",
       " 'Chapter3byChung.py',\n",
       " 'Chapter_03_by_Chung_py3_2019.ipynb',\n",
       " 'Chapter_03_complimentary_Corey_Shafer.ipynb',\n",
       " 'Chapter_03_Read_me.ipynb',\n",
       " 'desktop.ini',\n",
       " 'Dictionary_Operations.py',\n",
       " 'Dictionary_Set.py',\n",
       " 'Dictionary_Simple.py',\n",
       " 'fileObject.ipynb',\n",
       " 'File_Objects.py',\n",
       " 'hw8_330.py',\n",
       " 'Lists_Append.py',\n",
       " 'Lists_ConditionalGenerator.py',\n",
       " 'Lists_ModificationGenerator.py',\n",
       " 'Lists_Operations.py',\n",
       " 'Lists_Simple.py',\n",
       " 'newChapter3byChung.py',\n",
       " 'news.txt',\n",
       " 'news1.txt',\n",
       " 'os_path.py',\n",
       " 'SampleFile.txt',\n",
       " 'SampleFile3.txt',\n",
       " 'Sets_Create.py',\n",
       " 'Sets_Frozen.py',\n",
       " 'Sets_Operations.py',\n",
       " 'test.htm',\n",
       " 'test.txt',\n",
       " 'testw.txt',\n",
       " 'Tuples.py',\n",
       " '§03_01_List.ipynb',\n",
       " '§03_02_Dictionary.ipynb',\n",
       " '§03_03_Set_FrozenSet_Tuple.ipynb',\n",
       " '§03_04_osPath.ipynb',\n",
       " '§03_05_ReadingAndWritingToFiles.ipynb',\n",
       " '§03_Complete_2020_Fall.ipynb',\n",
       " '病歷500句子 (1).txt',\n",
       " '病歷500句子.txt']"
      ]
     },
     "execution_count": 86,
     "metadata": {},
     "output_type": "execute_result"
    }
   ],
   "source": [
    "os.listdir()"
   ]
  },
  {
   "cell_type": "code",
   "execution_count": 87,
   "metadata": {},
   "outputs": [
    {
     "ename": "OSError",
     "evalue": "[WinError 123] 檔案名稱、目錄名稱或磁碟區標籤語法錯誤。: 'G*'",
     "output_type": "error",
     "traceback": [
      "\u001b[1;31m---------------------------------------------------------------------------\u001b[0m",
      "\u001b[1;31mOSError\u001b[0m                                   Traceback (most recent call last)",
      "\u001b[1;32m<ipython-input-87-d0926be3a104>\u001b[0m in \u001b[0;36m<module>\u001b[1;34m\u001b[0m\n\u001b[0;32m      2\u001b[0m \u001b[0m不能使用\u001b[0m \u001b[0mwild\u001b[0m \u001b[0mcat\u001b[0m\u001b[1;33m\u001b[0m\u001b[1;33m\u001b[0m\u001b[0m\n\u001b[0;32m      3\u001b[0m '''\n\u001b[1;32m----> 4\u001b[1;33m \u001b[0mos\u001b[0m\u001b[1;33m.\u001b[0m\u001b[0mchdir\u001b[0m\u001b[1;33m(\u001b[0m\u001b[1;34m\"G*\"\u001b[0m\u001b[1;33m)\u001b[0m\u001b[1;33m\u001b[0m\u001b[1;33m\u001b[0m\u001b[0m\n\u001b[0m",
      "\u001b[1;31mOSError\u001b[0m: [WinError 123] 檔案名稱、目錄名稱或磁碟區標籤語法錯誤。: 'G*'"
     ]
    }
   ],
   "source": [
    "'''\n",
    "不能使用 wild cat\n",
    "'''\n",
    "os.chdir(\"G*\")"
   ]
  },
  {
   "cell_type": "code",
   "execution_count": 88,
   "metadata": {},
   "outputs": [
    {
     "data": {
      "text/plain": [
       "'D:\\\\Google雲端硬碟\\\\GettingStartedWithPythonAndRaspberryPi-book_release\\\\Chapter03'"
      ]
     },
     "execution_count": 88,
     "metadata": {},
     "output_type": "execute_result"
    }
   ],
   "source": [
    "os.getcwd()"
   ]
  },
  {
   "cell_type": "code",
   "execution_count": 89,
   "metadata": {},
   "outputs": [],
   "source": [
    "os.chdir('../')"
   ]
  },
  {
   "cell_type": "code",
   "execution_count": 90,
   "metadata": {},
   "outputs": [
    {
     "data": {
      "text/plain": [
       "'D:\\\\Google雲端硬碟\\\\GettingStartedWithPythonAndRaspberryPi-book_release'"
      ]
     },
     "execution_count": 90,
     "metadata": {},
     "output_type": "execute_result"
    }
   ],
   "source": [
    "os.getcwd()"
   ]
  },
  {
   "cell_type": "code",
   "execution_count": 91,
   "metadata": {},
   "outputs": [
    {
     "name": "stdout",
     "output_type": "stream",
     "text": [
      " 磁碟區 D 中的磁碟是 新增磁碟區\n",
      " 磁碟區序號:  E422-9B08\n",
      "\n",
      " D:\\Google雲端硬碟\\GettingStartedWithPythonAndRaspberryPi-book_release 的目錄\n",
      "\n",
      "2020/09/28  上午 07:48    <DIR>          .\n",
      "2020/09/28  上午 07:48    <DIR>          ..\n",
      "2019/05/25  上午 10:06           948,259 (Hard)PythonHomework#9.docx\n",
      "2019/05/06  下午 12:19            21,539 (修)PythonHomework#7.docx\n",
      "2019/09/26  下午 04:43    <DIR>          .cache\n",
      "2018/03/13  上午 03:09             6,148 .DS_Store\n",
      "2020/09/21  上午 07:32    <DIR>          .ipynb_checkpoints\n",
      "2019/10/21  上午 08:54            17,238 2019_Fall_PythonHomework#3.docx\n",
      "2019/10/21  上午 08:54           389,114 2019_Fall_PythonHomework#3.pdf\n",
      "2019/05/30  下午 04:35         8,440,773 2019_加註_Getting-Started-Python-Raspberry-Pi.pdf\n",
      "2019/04/15  下午 04:23            12,544 2019春季班樹莓派作業.docx\n",
      "2019/12/02  下午 06:46            15,037 2019秋季班期末專題構想.docx\n",
      "2019/04/04  下午 05:29            17,586 calculator_講解_V2.ipynb\n",
      "2019/04/04  下午 05:29         4,211,536 calculator教材.pptx\n",
      "2019/09/26  下午 04:43    <DIR>          Ch11-ipynb\n",
      "2019/04/13  下午 08:29            12,395 Ch7_OpenCV_ver.ipynb\n",
      "2019/04/13  下午 08:29         1,394,405 Ch7_OpenCV_ver_20190411.pptx\n",
      "2019/09/26  下午 04:45    <DIR>          Chapter01\n",
      "2020/09/21  下午 04:40    <DIR>          Chapter02\n",
      "2020/09/28  下午 05:47    <DIR>          Chapter03\n",
      "2019/10/14  上午 08:58    <DIR>          Chapter04\n",
      "2019/10/14  上午 10:16           123,422 Chapter04.rar\n",
      "2019/10/28  上午 07:32    <DIR>          Chapter05\n",
      "2019/09/26  下午 04:42            63,184 Chapter05.rar\n",
      "2019/09/26  下午 04:44    <DIR>          Chapter06\n",
      "2019/09/26  下午 04:44    <DIR>          Chapter07\n",
      "2020/01/13  上午 07:40    <DIR>          Chapter08\n",
      "2019/11/04  下午 11:34    <DIR>          Chapter09\n",
      "2019/10/01  上午 07:48    <DIR>          Chapter10\n",
      "2019/09/26  下午 04:44    <DIR>          Chapter11\n",
      "2020/09/21  上午 07:32    <DIR>          jupyter-try-out\n",
      "2020/09/15  上午 11:38    <DIR>          jupyter_pyKarel-20200915T033307Z-001\n",
      "2019/09/26  下午 04:43    <DIR>          logging\n",
      "2019/05/12  下午 03:04            50,654 MI_INDEX.csv\n",
      "2020/09/20  下午 05:15           658,563 n-gram講解V2.ipynb\n",
      "2019/04/04  下午 05:28           259,331 n_gram講解.pptx\n",
      "2019/09/27  下午 02:41    <DIR>          pyKarel\n",
      "2019/09/27  下午 02:40           238,537 pyKarel.zip\n",
      "2019/09/15  下午 08:01            17,094 PythonHomework#1.docx\n",
      "2019/06/03  上午 10:26            25,057 PythonHomework#10.docx\n",
      "2019/06/01  上午 10:31            14,574 PythonHomework#11.docx\n",
      "2019/03/25  下午 12:58            15,421 PythonHomework#2.docx\n",
      "2019/04/01  下午 02:52            17,255 PythonHomework#3.docx\n",
      "2019/04/07  上午 11:39            16,513 PythonHomework#4.docx\n",
      "2019/04/23  上午 06:37            17,328 PythonHomework#5.docx\n",
      "2019/11/18  上午 08:19            18,363 PythonHomework#5_New2019.docx\n",
      "2019/04/28  上午 08:24           245,255 PythonHomework#6.docx\n",
      "2019/11/25  上午 08:50           245,269 PythonHomework#6_New2019.docx\n",
      "2019/05/06  下午 12:19            21,543 PythonHomework#7.docx\n",
      "2019/12/02  上午 08:53            23,272 PythonHomework#7_New2019.docx\n",
      "2019/05/20  上午 08:59         1,875,112 PythonHomework#8.docx\n",
      "2019/12/09  上午 09:07         1,875,112 PythonHomework#8_New2019.docx\n",
      "2019/05/25  上午 11:19            22,427 PythonHomework#9.docx\n",
      "2019/05/12  下午 05:40         1,424,239 PythonHomework#9：利用 beautifulsoup與pandas 由台灣證券交易所刮取資訊.docx\n",
      "2020/09/14  下午 02:34    <DIR>          PyTorch\n",
      "2020/09/26  下午 10:29                18 SampleFile.txt\n",
      "2020/09/26  下午 10:46               102 SampleFile3.txt\n",
      "2020/09/15  下午 02:26            20,991 Trapezoid Rule.ipynb\n",
      "2020/09/21  上午 07:32    <DIR>          Untitled Folder\n",
      "2019/10/26  上午 07:23         8,495,600 _加註_Getting-Started-Python-Raspberry-Pi.pdf\n",
      "2019/04/06  上午 11:39               162 ~$thonHomework#4.docx\n",
      "2019/04/14  下午 08:14               162 ~$thonHomework#5.docx\n",
      "2019/10/26  上午 06:17               162 ~$樹莓派第八週.docx\n",
      "2019/10/26  上午 06:16               162 ~$樹莓派第六週.docx\n",
      "2019/04/14  下午 08:14            16,517 ~WRL3016.tmp\n",
      "2019/04/15  下午 03:21           178,450 ▲樹莓派第九週.docx\n",
      "2019/04/15  下午 12:11           263,367 ▲樹莓派第八週.docx\n",
      "2020/09/03  下午 09:35            20,005 ●●●2019春季班智慧整合作業總覽.docx\n",
      "2019/05/12  下午 04:12            10,451 下載台灣股市的每日成交資訊.ipynb\n",
      "2019/05/07  下午 05:00           329,093 台灣證交所爬蟲.ipynb\n",
      "2020/01/14  下午 01:32            14,345 定稿_108智慧整合感控系統概論_期末總分.xlsx\n",
      "2019/02/25  上午 08:12            12,173 樹莓派套件借用單.docx\n",
      "2019/02/25  上午 09:01         4,695,393 樹莓派第一週●(第一週)熟悉 Raspbian.docx\n",
      "2019/04/08  下午 12:23            20,464 樹莓派第七週.docx\n",
      "2019/05/11  上午 06:11         1,073,672 樹莓派第九週.docx\n",
      "2019/03/30  下午 12:46           836,051 樹莓派第五週.docx\n",
      "2019/09/05  下午 01:25           178,347 樹莓派第八週.docx\n",
      "2019/03/31  下午 08:39            19,698 樹莓派第六週.docx\n",
      "2019/05/12  下午 01:45            16,570 樹莓派第十週.docx\n",
      "2020/09/20  下午 09:19            20,155 樹莓派第四週 §3  Working with Data Structures.docx\n",
      "2019/05/12  下午 04:03           111,336 超簡單台股每日爬蟲教學.ipynb\n",
      "2019/05/13  下午 01:50            16,798 關於 ElementTree.docx\n",
      "2019/06/03  下午 01:39            14,990 關於紀錄 logging 以及單元測試 Unit Test.docx\n",
      "              61 個檔案      39,119,333 位元組\n",
      "              22 個目錄  896,126,541,824 位元組可用\n"
     ]
    }
   ],
   "source": [
    "!dir"
   ]
  },
  {
   "cell_type": "code",
   "execution_count": null,
   "metadata": {},
   "outputs": [],
   "source": []
  }
 ],
 "metadata": {
  "kernelspec": {
   "display_name": "Python 3",
   "language": "python",
   "name": "python3"
  },
  "language_info": {
   "codemirror_mode": {
    "name": "ipython",
    "version": 3
   },
   "file_extension": ".py",
   "mimetype": "text/x-python",
   "name": "python",
   "nbconvert_exporter": "python",
   "pygments_lexer": "ipython3",
   "version": "3.7.1"
  }
 },
 "nbformat": 4,
 "nbformat_minor": 2
}
