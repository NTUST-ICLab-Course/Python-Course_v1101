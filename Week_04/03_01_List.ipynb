{
 "cells": [
  {
   "cell_type": "markdown",
   "metadata": {},
   "source": [
    "# Chapter 3: Working with Data Structures and I/O"
   ]
  },
  {
   "cell_type": "markdown",
   "metadata": {},
   "source": [
    "## Sheng-Luen Chung\n",
    "## 2020-09-22"
   ]
  },
  {
   "cell_type": "markdown",
   "metadata": {},
   "source": [
    "# List 串列；dictionary 字典；set 集合；tuple 元組"
   ]
  },
  {
   "cell_type": "markdown",
   "metadata": {},
   "source": [
    "## *Corey Schafer Python Tutorial*\n",
    "## Python Tutorial for Beginners 4: Lists, Tuples, and Sets\n",
    "https://www.youtube.com/watch?v=W8KRzm-HUcc"
   ]
  },
  {
   "cell_type": "code",
   "execution_count": 1,
   "metadata": {},
   "outputs": [
    {
     "data": {
      "text/html": [
       "<iframe width=\"560\" height=\"315\" src=\"https://www.youtube.com/embed/W8KRzm-HUcc\" frameborder=\"0\" allow=\"accelerometer; autoplay; clipboard-write; encrypted-media; gyroscope; picture-in-picture\" allowfullscreen></iframe>\n"
      ],
      "text/plain": [
       "<IPython.core.display.HTML object>"
      ]
     },
     "metadata": {},
     "output_type": "display_data"
    }
   ],
   "source": [
    "%%HTML\n",
    "<iframe width=\"560\" height=\"315\" src=\"https://www.youtube.com/embed/W8KRzm-HUcc\" frameborder=\"0\" allow=\"accelerometer; autoplay; clipboard-write; encrypted-media; gyroscope; picture-in-picture\" allowfullscreen></iframe>"
   ]
  },
  {
   "cell_type": "markdown",
   "metadata": {},
   "source": [
    "# 1. Lists [...] (類似其他語言中的 array)"
   ]
  },
  {
   "cell_type": "markdown",
   "metadata": {},
   "source": [
    "## 三種建立 list 的方法：\n",
    "1. 就列出來；\n",
    "2. 建一個空的然後 append()；\n",
    "3. 用 generator (comprehension)"
   ]
  },
  {
   "cell_type": "code",
   "execution_count": 2,
   "metadata": {},
   "outputs": [
    {
     "data": {
      "text/plain": [
       "['apples', 'milk', 'bread', 'eggs']"
      ]
     },
     "execution_count": 2,
     "metadata": {},
     "output_type": "execute_result"
    }
   ],
   "source": [
    "'''\n",
    "就用 [...] 列出來；\n",
    "'''\n",
    "l = [\"apples\",\t\"milk\",\t\"bread\",\t\"eggs\"]\n",
    "l"
   ]
  },
  {
   "cell_type": "code",
   "execution_count": 3,
   "metadata": {},
   "outputs": [
    {
     "name": "stdout",
     "output_type": "stream",
     "text": [
      "4\n"
     ]
    }
   ],
   "source": [
    "print(len(l))"
   ]
  },
  {
   "cell_type": "code",
   "execution_count": 4,
   "metadata": {},
   "outputs": [
    {
     "name": "stdout",
     "output_type": "stream",
     "text": [
      "['apples', 'milk', 'bread', 'eggs']\n"
     ]
    }
   ],
   "source": [
    "print(l)"
   ]
  },
  {
   "cell_type": "code",
   "execution_count": 5,
   "metadata": {},
   "outputs": [
    {
     "data": {
      "text/plain": [
       "list"
      ]
     },
     "execution_count": 5,
     "metadata": {},
     "output_type": "execute_result"
    }
   ],
   "source": [
    "type(l)"
   ]
  },
  {
   "cell_type": "code",
   "execution_count": 6,
   "metadata": {},
   "outputs": [
    {
     "data": {
      "text/plain": [
       "[]"
      ]
     },
     "execution_count": 6,
     "metadata": {},
     "output_type": "execute_result"
    }
   ],
   "source": [
    "'''\n",
    "creating a list by adding items one by one\n",
    "'''\n",
    "breakfast = \"french_toast\"\n",
    "l = []\n",
    "l"
   ]
  },
  {
   "cell_type": "code",
   "execution_count": 7,
   "metadata": {},
   "outputs": [
    {
     "name": "stdout",
     "output_type": "stream",
     "text": [
      "['bread', 'eggs']\n"
     ]
    }
   ],
   "source": [
    "'''\n",
    "用 append() 陸續由後面新加入一個元素\n",
    "'''\n",
    "if \"toast\" in breakfast: # logic operation\n",
    "    l.append(\"bread\")\n",
    "if breakfast == \"french_toast\":\n",
    "    l.append(\"eggs\")\n",
    "elif breakfast == \"cereal\":\n",
    "    l.append(\"milk\")\n",
    "    l.append(\"cereal\")\n",
    "print(l)"
   ]
  },
  {
   "cell_type": "code",
   "execution_count": 8,
   "metadata": {},
   "outputs": [
    {
     "name": "stdout",
     "output_type": "stream",
     "text": [
      "['bread', 'eggs', 'bread', 'eggs']\n"
     ]
    }
   ],
   "source": [
    "'''\n",
    "用 append() 陸續由後面新加入一個元素\n",
    "它會一直將新的元素加到後面\n",
    "'''\n",
    "if \"toast\" in breakfast: # logic operation\n",
    "    l.append(\"bread\")\n",
    "if breakfast == \"french_toast\":\n",
    "    l.append(\"eggs\")\n",
    "elif breakfast == \"cereal\":\n",
    "    l.append(\"milk\")\n",
    "    l.append(\"cereal\")\n",
    "print(l)"
   ]
  },
  {
   "cell_type": "markdown",
   "metadata": {},
   "source": [
    "## __[Python List Comprehensions and Generator Expressions](https://djangostars.com/blog/list-comprehensions-and-generator-expressions/)__\n",
    "\n",
    "https://djangostars.com/blog/list-comprehensions-and-generator-expressions/\n"
   ]
  },
  {
   "cell_type": "markdown",
   "metadata": {},
   "source": [
    "## comprehension\n",
    "https://python-3-patterns-idioms-test.readthedocs.io/en/latest/Comprehensions.html\n",
    "\n",
    "Comprehensions are constructs that allow sequences to be built from other sequences. Python 2.0 introduced list comprehensions and **Python 3.0 comes with dictionary and set comprehensions.**"
   ]
  },
  {
   "cell_type": "markdown",
   "metadata": {},
   "source": [
    "## list comprehension (列表推导式)  \n",
    "## $$[ f(x) ~|~ x \\in X \\wedge P(x)]$$\n",
    "\n",
    "[ f(x) for x in A if P(x)}"
   ]
  },
  {
   "cell_type": "code",
   "execution_count": 9,
   "metadata": {},
   "outputs": [],
   "source": [
    "breakfast = \"french_toast\"\n",
    "\n",
    "def needed_for(meal, item):\n",
    "    '''\n",
    "    is the item needed for the meal?\n",
    "    '''\n",
    "    if meal == \"french_toast\":\n",
    "        return item in [\"bread\", \"eggs\"] # logic operation\n",
    "    if meal == \"toast\":\n",
    "        return item in [\"bread\"]\n",
    "    if meal == \"cereal\":\n",
    "        return item in [\"milk\", \"cereal\"]\n",
    "\n",
    "all_items = [\"apples\", \"onions\", \"cereal\", \"milk\", \"bread\", \"bacon\", \"eggs\"]"
   ]
  },
  {
   "cell_type": "markdown",
   "metadata": {},
   "source": [
    "### 上面的每一個 return 中，是執行一個 $\\in$ 的邏判斷式：是否屬於？答案是 True/False\n"
   ]
  },
  {
   "cell_type": "code",
   "execution_count": 10,
   "metadata": {},
   "outputs": [],
   "source": [
    "'''\n",
    "IPython -- An enhanced Interactive Python\n",
    "'''\n",
    "?"
   ]
  },
  {
   "cell_type": "markdown",
   "metadata": {},
   "source": [
    "Within IPython you have various way to access help:\n",
    "\n",
    "  > ?         -> Introduction and overview of IPython's features (this screen).\n",
    "  \n",
    "  > object?   -> Details about 'object'.\n",
    "  \n",
    "  > object??  -> More detailed, verbose information about 'object'.\n",
    "  \n",
    "  > %quickref -> Quick reference of all IPython specific syntax and magics.\n",
    "  \n",
    "  > help      -> Access Python's own help system."
   ]
  },
  {
   "cell_type": "code",
   "execution_count": 11,
   "metadata": {},
   "outputs": [
    {
     "name": "stdout",
     "output_type": "stream",
     "text": [
      "Variable     Type        Data/Info\n",
      "----------------------------------\n",
      "all_items    list        n=7\n",
      "breakfast    str         french_toast\n",
      "l            list        n=4\n",
      "needed_for   function    <function needed_for at 0x000002C55E9FF158>\n"
     ]
    }
   ],
   "source": [
    "%whos"
   ]
  },
  {
   "cell_type": "code",
   "execution_count": 12,
   "metadata": {},
   "outputs": [],
   "source": [
    "needed_for?"
   ]
  },
  {
   "cell_type": "code",
   "execution_count": 13,
   "metadata": {},
   "outputs": [],
   "source": [
    "needed_for??"
   ]
  },
  {
   "cell_type": "code",
   "execution_count": 14,
   "metadata": {},
   "outputs": [
    {
     "name": "stdout",
     "output_type": "stream",
     "text": [
      "Help on function needed_for in module __main__:\n",
      "\n",
      "needed_for(meal, item)\n",
      "    is the item needed for the meal?\n",
      "\n"
     ]
    }
   ],
   "source": [
    "help(needed_for)"
   ]
  },
  {
   "cell_type": "code",
   "execution_count": 15,
   "metadata": {},
   "outputs": [
    {
     "data": {
      "text/plain": [
       "'french_toast'"
      ]
     },
     "execution_count": 15,
     "metadata": {},
     "output_type": "execute_result"
    }
   ],
   "source": [
    "breakfast"
   ]
  },
  {
   "cell_type": "code",
   "execution_count": 16,
   "metadata": {},
   "outputs": [
    {
     "data": {
      "text/plain": [
       "False"
      ]
     },
     "execution_count": 16,
     "metadata": {},
     "output_type": "execute_result"
    }
   ],
   "source": [
    "'''\n",
    "is \"eggs\" needed for \"toast\"?\n",
    "'''\n",
    "needed_for(\"toast\", \"eggs\")"
   ]
  },
  {
   "cell_type": "code",
   "execution_count": 17,
   "metadata": {},
   "outputs": [
    {
     "data": {
      "text/plain": [
       "['apples', 'onions', 'cereal', 'milk', 'bread', 'bacon', 'eggs']"
      ]
     },
     "execution_count": 17,
     "metadata": {},
     "output_type": "execute_result"
    }
   ],
   "source": [
    "all_items"
   ]
  },
  {
   "cell_type": "code",
   "execution_count": 18,
   "metadata": {},
   "outputs": [
    {
     "data": {
      "text/plain": [
       "'french_toast'"
      ]
     },
     "execution_count": 18,
     "metadata": {},
     "output_type": "execute_result"
    }
   ],
   "source": [
    "breakfast"
   ]
  },
  {
   "cell_type": "markdown",
   "metadata": {},
   "source": [
    "## 對照 Java 的 loop 的寫法\n",
    "\n",
    "```java\n",
    "for(init;condition;incr/decr){  \n",
    "// code to be executed \n",
    "}\n",
    "```\n",
    "\n",
    "```\n",
    "\t\n",
    "//for loop  \n",
    "for(int i=1;i<=10;i++){  \n",
    "System.out.println(i);  \n",
    "}  \n",
    "```"
   ]
  },
  {
   "cell_type": "code",
   "execution_count": 19,
   "metadata": {},
   "outputs": [
    {
     "name": "stdout",
     "output_type": "stream",
     "text": [
      "False\n",
      "False\n",
      "False\n",
      "False\n",
      "True\n",
      "False\n",
      "True\n"
     ]
    }
   ],
   "source": [
    "'''\n",
    "for loop on lists\n",
    "'''\n",
    "for item in all_items:\n",
    "    print(needed_for(breakfast,\titem))"
   ]
  },
  {
   "cell_type": "code",
   "execution_count": 20,
   "metadata": {},
   "outputs": [
    {
     "name": "stdout",
     "output_type": "stream",
     "text": [
      "Is apples needed for french_toast?  False.\n",
      "Is onions needed for french_toast?  False.\n",
      "Is cereal needed for french_toast?  False.\n",
      "Is milk needed for french_toast?  False.\n",
      "Is bread needed for french_toast?  True.\n",
      "Is bacon needed for french_toast?  False.\n",
      "Is eggs needed for french_toast?  True.\n"
     ]
    }
   ],
   "source": [
    "'''\n",
    "以下的輸出會更清楚\n",
    "'''\n",
    "for item in all_items:\n",
    "#     print(item, \" needed for\", breakfast, \"? \", needed_for(breakfast,item))\n",
    "    print(\"Is {} needed for {}?  {}.\".format(item, breakfast, needed_for(breakfast,item)))\n",
    "    "
   ]
  },
  {
   "cell_type": "markdown",
   "metadata": {},
   "source": [
    "## $$\\{ x |  x \\in X \\}$$"
   ]
  },
  {
   "cell_type": "code",
   "execution_count": 21,
   "metadata": {},
   "outputs": [
    {
     "name": "stdout",
     "output_type": "stream",
     "text": [
      "['apples', 'onions', 'cereal', 'milk', 'bread', 'bacon', 'eggs']\n"
     ]
    }
   ],
   "source": [
    "'''\n",
    "A taste of list comprehension\n",
    "'''\n",
    "lil = [item for item in all_items]\n",
    "print(lil)"
   ]
  },
  {
   "cell_type": "code",
   "execution_count": 22,
   "metadata": {},
   "outputs": [
    {
     "name": "stdout",
     "output_type": "stream",
     "text": [
      "['apples', 'onions', 'cereal', 'milk', 'bread', 'bacon', 'eggs']\n"
     ]
    }
   ],
   "source": [
    "'''\n",
    "每一個 list comprehension 的寫法，都有一組等效的 for loop code \n",
    "'''\n",
    "lil = []\n",
    "for item in all_items:\n",
    "    lil.append(item)\n",
    "print(lil)"
   ]
  },
  {
   "cell_type": "markdown",
   "metadata": {},
   "source": [
    "## *Corey Schafer Python Tutorial*\n",
    "## Python Tutorial: Comprehensions - How they work and why you should be using them\n",
    "https://www.youtube.com/watch?v=3dt4OGnU5sM&t=13s\n"
   ]
  },
  {
   "cell_type": "code",
   "execution_count": 23,
   "metadata": {},
   "outputs": [
    {
     "data": {
      "text/html": [
       "<iframe width=\"560\" height=\"315\" src=\"https://www.youtube.com/embed/3dt4OGnU5sM\" frameborder=\"0\" allow=\"accelerometer; autoplay; clipboard-write; encrypted-media; gyroscope; picture-in-picture\" allowfullscreen></iframe>\n"
      ],
      "text/plain": [
       "<IPython.core.display.HTML object>"
      ]
     },
     "metadata": {},
     "output_type": "display_data"
    }
   ],
   "source": [
    "%%HTML\n",
    "<iframe width=\"560\" height=\"315\" src=\"https://www.youtube.com/embed/3dt4OGnU5sM\" frameborder=\"0\" allow=\"accelerometer; autoplay; clipboard-write; encrypted-media; gyroscope; picture-in-picture\" allowfullscreen></iframe>"
   ]
  },
  {
   "cell_type": "code",
   "execution_count": 24,
   "metadata": {},
   "outputs": [
    {
     "data": {
      "text/plain": [
       "['apples', 'onions', 'cereal', 'milk', 'bread', 'bacon', 'eggs']"
      ]
     },
     "execution_count": 24,
     "metadata": {},
     "output_type": "execute_result"
    }
   ],
   "source": [
    "all_items"
   ]
  },
  {
   "cell_type": "markdown",
   "metadata": {},
   "source": [
    "## $$[ f(x) ~|~ x \\in X]$$"
   ]
  },
  {
   "cell_type": "code",
   "execution_count": 25,
   "metadata": {},
   "outputs": [
    {
     "name": "stdout",
     "output_type": "stream",
     "text": [
      "french_toast\n",
      "['apples', 'onions', 'cereal', 'milk', 'bread', 'bacon', 'eggs']\n"
     ]
    },
    {
     "data": {
      "text/plain": [
       "[False, False, False, False, True, False, True]"
      ]
     },
     "execution_count": 25,
     "metadata": {},
     "output_type": "execute_result"
    }
   ],
   "source": [
    "'''\n",
    "我們要放在 [] 中的元素不一定是原先沒處理過的元素…\n",
    "以下就是取 needed_for(breakfast, item)\n",
    "'''\n",
    "print(breakfast)\n",
    "print(all_items)\n",
    "[needed_for(breakfast, item) for item in all_items]\n"
   ]
  },
  {
   "cell_type": "code",
   "execution_count": 26,
   "metadata": {},
   "outputs": [
    {
     "name": "stdout",
     "output_type": "stream",
     "text": [
      "french_toast\n",
      "['apples', 'onions', 'cereal', 'milk', 'bread', 'bacon', 'eggs']\n",
      "[False, False, False, False, True, False, True]\n"
     ]
    }
   ],
   "source": [
    "'''\n",
    "等效的一段 code 為\n",
    "'''\n",
    "print(breakfast)\n",
    "print(all_items)\n",
    "l = []\n",
    "for item in all_items:\n",
    "    l.append(needed_for(breakfast, item))\n",
    "print(l)\n"
   ]
  },
  {
   "cell_type": "markdown",
   "metadata": {},
   "source": [
    "## *Corey Schafer Python Tutorial*\n",
    "## Python Tutorial: Generators - How to use them and the benefits you receive\n",
    "https://www.youtube.com/watch?v=bD05uGo_sVI&t=117s"
   ]
  },
  {
   "cell_type": "code",
   "execution_count": 27,
   "metadata": {},
   "outputs": [
    {
     "data": {
      "text/html": [
       "<iframe width=\"560\" height=\"315\" src=\"https://www.youtube.com/embed/bD05uGo_sVI\" frameborder=\"0\" allow=\"accelerometer; autoplay; clipboard-write; encrypted-media; gyroscope; picture-in-picture\" allowfullscreen></iframe>\n"
      ],
      "text/plain": [
       "<IPython.core.display.HTML object>"
      ]
     },
     "metadata": {},
     "output_type": "display_data"
    }
   ],
   "source": [
    "%%HTML\n",
    "<iframe width=\"560\" height=\"315\" src=\"https://www.youtube.com/embed/bD05uGo_sVI\" frameborder=\"0\" allow=\"accelerometer; autoplay; clipboard-write; encrypted-media; gyroscope; picture-in-picture\" allowfullscreen></iframe>"
   ]
  },
  {
   "cell_type": "markdown",
   "metadata": {},
   "source": [
    "## $$[ f(x) ~|~ x \\in X \\wedge P(x)]$$\n",
    "\n",
    "where $f(a)$ is a function, and $P(a)$ is a logic proposition used for selection\n",
    "\n",
    "The syntax in Python is as below:\n",
    "\n",
    "## [f(a) for a in A if P(a)]"
   ]
  },
  {
   "cell_type": "code",
   "execution_count": 28,
   "metadata": {},
   "outputs": [
    {
     "name": "stdout",
     "output_type": "stream",
     "text": [
      "french_toast\n",
      "['bread', 'eggs']\n"
     ]
    }
   ],
   "source": [
    "'''\n",
    "list comprehension\n",
    "'''\n",
    "print(breakfast)\n",
    "l = [item for item in all_items if needed_for(breakfast, item)]\n",
    "print(l)"
   ]
  },
  {
   "cell_type": "code",
   "execution_count": 29,
   "metadata": {},
   "outputs": [
    {
     "name": "stdout",
     "output_type": "stream",
     "text": [
      "french_toast\n",
      "['bread', 'eggs']\n"
     ]
    }
   ],
   "source": [
    "'''\n",
    "等效的 for look code\n",
    "'''\n",
    "print(breakfast)\n",
    "l = []\n",
    "for item in all_items:\n",
    "    if needed_for(breakfast, item):\n",
    "        l.append(item)\n",
    "print(l)"
   ]
  },
  {
   "cell_type": "code",
   "execution_count": 30,
   "metadata": {},
   "outputs": [
    {
     "name": "stdout",
     "output_type": "stream",
     "text": [
      "['apples', 'onions', 'cereal', 'milk', 'eggs']\n"
     ]
    }
   ],
   "source": [
    "'''\n",
    "list comprehension\n",
    "'''\n",
    "lil2 = [item for item in all_items if len(item) % 2 == 0]\n",
    "print(lil2)"
   ]
  },
  {
   "cell_type": "code",
   "execution_count": 31,
   "metadata": {},
   "outputs": [
    {
     "name": "stdout",
     "output_type": "stream",
     "text": [
      "['apples', 'onions', 'cereal', 'milk', 'eggs']\n"
     ]
    }
   ],
   "source": [
    "'''\n",
    "等效的 for look code\n",
    "'''\n",
    "lil2 = []\n",
    "for item in all_items:\n",
    "    if len(item) % 2 == 0:\n",
    "        lil2.append(item)\n",
    "print(lil2)"
   ]
  },
  {
   "cell_type": "markdown",
   "metadata": {},
   "source": [
    "## *Corey Schafer Python Tutorial*\n",
    "## Python Tutorial for Beginners 2: Strings - Working with Textual Data\n",
    "https://www.youtube.com/watch?v=k9TUPpGqYTo"
   ]
  },
  {
   "cell_type": "code",
   "execution_count": 32,
   "metadata": {},
   "outputs": [
    {
     "data": {
      "text/html": [
       "<iframe width=\"560\" height=\"315\" src=\"https://www.youtube.com/embed/k9TUPpGqYTo\" frameborder=\"0\" allow=\"accelerometer; autoplay; clipboard-write; encrypted-media; gyroscope; picture-in-picture\" allowfullscreen></iframe>\n"
      ],
      "text/plain": [
       "<IPython.core.display.HTML object>"
      ]
     },
     "metadata": {},
     "output_type": "display_data"
    }
   ],
   "source": [
    "%%HTML\n",
    "<iframe width=\"560\" height=\"315\" src=\"https://www.youtube.com/embed/k9TUPpGqYTo\" frameborder=\"0\" allow=\"accelerometer; autoplay; clipboard-write; encrypted-media; gyroscope; picture-in-picture\" allowfullscreen></iframe>"
   ]
  },
  {
   "cell_type": "code",
   "execution_count": 33,
   "metadata": {},
   "outputs": [
    {
     "data": {
      "text/plain": [
       "'ABCDEFGHIJKLMNOPQRSTUVWXYZ'"
      ]
     },
     "execution_count": 33,
     "metadata": {},
     "output_type": "execute_result"
    }
   ],
   "source": [
    "import string\n",
    "string.ascii_uppercase"
   ]
  },
  {
   "cell_type": "code",
   "execution_count": 34,
   "metadata": {},
   "outputs": [
    {
     "data": {
      "text/plain": [
       "0"
      ]
     },
     "execution_count": 34,
     "metadata": {},
     "output_type": "execute_result"
    }
   ],
   "source": [
    "string.ascii_uppercase.index(\"A\")"
   ]
  },
  {
   "cell_type": "code",
   "execution_count": 35,
   "metadata": {},
   "outputs": [
    {
     "data": {
      "text/plain": [
       "0"
      ]
     },
     "execution_count": 35,
     "metadata": {},
     "output_type": "execute_result"
    }
   ],
   "source": [
    "string.ascii_uppercase.index(string.ascii_uppercase)"
   ]
  },
  {
   "cell_type": "code",
   "execution_count": 36,
   "metadata": {},
   "outputs": [
    {
     "ename": "ValueError",
     "evalue": "substring not found",
     "output_type": "error",
     "traceback": [
      "\u001b[1;31m---------------------------------------------------------------------------\u001b[0m",
      "\u001b[1;31mValueError\u001b[0m                                Traceback (most recent call last)",
      "\u001b[1;32m<ipython-input-36-2680a8274fe5>\u001b[0m in \u001b[0;36m<module>\u001b[1;34m\u001b[0m\n\u001b[1;32m----> 1\u001b[1;33m \u001b[0mstring\u001b[0m\u001b[1;33m.\u001b[0m\u001b[0mascii_uppercase\u001b[0m\u001b[1;33m.\u001b[0m\u001b[0mindex\u001b[0m\u001b[1;33m(\u001b[0m\u001b[1;34m\"BD\"\u001b[0m\u001b[1;33m)\u001b[0m\u001b[1;33m\u001b[0m\u001b[1;33m\u001b[0m\u001b[0m\n\u001b[0m",
      "\u001b[1;31mValueError\u001b[0m: substring not found"
     ]
    }
   ],
   "source": [
    "string.ascii_uppercase.index(\"BD\")"
   ]
  },
  {
   "cell_type": "code",
   "execution_count": 37,
   "metadata": {},
   "outputs": [
    {
     "data": {
      "text/plain": [
       "25"
      ]
     },
     "execution_count": 37,
     "metadata": {},
     "output_type": "execute_result"
    }
   ],
   "source": [
    "string.ascii_uppercase.index(\"Z\")"
   ]
  },
  {
   "cell_type": "code",
   "execution_count": 38,
   "metadata": {},
   "outputs": [
    {
     "data": {
      "text/plain": [
       "0"
      ]
     },
     "execution_count": 38,
     "metadata": {},
     "output_type": "execute_result"
    }
   ],
   "source": [
    "string.ascii_uppercase.index('ABCDEFGHIJKLMNOPQRSTUVWXYZ')"
   ]
  },
  {
   "cell_type": "code",
   "execution_count": 39,
   "metadata": {},
   "outputs": [
    {
     "data": {
      "text/plain": [
       "24"
      ]
     },
     "execution_count": 39,
     "metadata": {},
     "output_type": "execute_result"
    }
   ],
   "source": [
    "string.ascii_uppercase.index('YZ')"
   ]
  },
  {
   "cell_type": "code",
   "execution_count": 40,
   "metadata": {},
   "outputs": [
    {
     "name": "stdout",
     "output_type": "stream",
     "text": [
      "Help on built-in function index:\n",
      "\n",
      "index(...) method of builtins.str instance\n",
      "    S.index(sub[, start[, end]]) -> int\n",
      "    \n",
      "    Return the lowest index in S where substring sub is found, \n",
      "    such that sub is contained within S[start:end].  Optional\n",
      "    arguments start and end are interpreted as in slice notation.\n",
      "    \n",
      "    Raises ValueError when the substring is not found.\n",
      "\n"
     ]
    }
   ],
   "source": [
    "help(string.ascii_uppercase.index)"
   ]
  },
  {
   "cell_type": "code",
   "execution_count": 41,
   "metadata": {},
   "outputs": [
    {
     "ename": "ValueError",
     "evalue": "substring not found",
     "output_type": "error",
     "traceback": [
      "\u001b[1;31m---------------------------------------------------------------------------\u001b[0m",
      "\u001b[1;31mValueError\u001b[0m                                Traceback (most recent call last)",
      "\u001b[1;32m<ipython-input-41-600bfd3c5a6c>\u001b[0m in \u001b[0;36m<module>\u001b[1;34m\u001b[0m\n\u001b[1;32m----> 1\u001b[1;33m \u001b[0mstring\u001b[0m\u001b[1;33m.\u001b[0m\u001b[0mascii_uppercase\u001b[0m\u001b[1;33m.\u001b[0m\u001b[0mindex\u001b[0m\u001b[1;33m(\u001b[0m\u001b[1;34m'ABCDEFGHIJKLMNOPQRSTUVWXYZ'\u001b[0m\u001b[1;33m,\u001b[0m \u001b[1;36m3\u001b[0m\u001b[1;33m,\u001b[0m \u001b[1;36m5\u001b[0m\u001b[1;33m)\u001b[0m\u001b[1;33m\u001b[0m\u001b[1;33m\u001b[0m\u001b[0m\n\u001b[0m",
      "\u001b[1;31mValueError\u001b[0m: substring not found"
     ]
    }
   ],
   "source": [
    "string.ascii_uppercase.index('ABCDEFGHIJKLMNOPQRSTUVWXYZ', 3, 5)"
   ]
  },
  {
   "cell_type": "code",
   "execution_count": 42,
   "metadata": {},
   "outputs": [
    {
     "data": {
      "text/plain": [
       "3"
      ]
     },
     "execution_count": 42,
     "metadata": {},
     "output_type": "execute_result"
    }
   ],
   "source": [
    "string.ascii_uppercase.index('DE', 3, 5)"
   ]
  },
  {
   "cell_type": "code",
   "execution_count": 43,
   "metadata": {},
   "outputs": [
    {
     "ename": "ValueError",
     "evalue": "substring not found",
     "output_type": "error",
     "traceback": [
      "\u001b[1;31m---------------------------------------------------------------------------\u001b[0m",
      "\u001b[1;31mValueError\u001b[0m                                Traceback (most recent call last)",
      "\u001b[1;32m<ipython-input-43-5f93c6620706>\u001b[0m in \u001b[0;36m<module>\u001b[1;34m\u001b[0m\n\u001b[1;32m----> 1\u001b[1;33m \u001b[0mstring\u001b[0m\u001b[1;33m.\u001b[0m\u001b[0mascii_uppercase\u001b[0m\u001b[1;33m.\u001b[0m\u001b[0mindex\u001b[0m\u001b[1;33m(\u001b[0m\u001b[1;34m\"!\"\u001b[0m\u001b[1;33m)\u001b[0m\u001b[1;33m\u001b[0m\u001b[1;33m\u001b[0m\u001b[0m\n\u001b[0m",
      "\u001b[1;31mValueError\u001b[0m: substring not found"
     ]
    }
   ],
   "source": [
    "string.ascii_uppercase.index(\"!\")"
   ]
  },
  {
   "cell_type": "code",
   "execution_count": 44,
   "metadata": {},
   "outputs": [],
   "source": [
    "import string \n",
    "def caesar(letter, shift):\n",
    "    '''\n",
    "    這是所謂的 caesar code\n",
    "    只針對英文字母的部份作 shift\n",
    "    '''\n",
    "    letter = letter.upper()\n",
    "    plain_idx = string.ascii_uppercase.index(letter)\n",
    "    cipher_idx = (plain_idx + shift) % len(string.ascii_uppercase)\n",
    "    cipher_letter = string.ascii_uppercase[cipher_idx]\n",
    "    return cipher_letter "
   ]
  },
  {
   "cell_type": "code",
   "execution_count": 45,
   "metadata": {},
   "outputs": [
    {
     "data": {
      "text/plain": [
       "'B'"
      ]
     },
     "execution_count": 45,
     "metadata": {},
     "output_type": "execute_result"
    }
   ],
   "source": [
    "caesar(\"A\", 1)"
   ]
  },
  {
   "cell_type": "code",
   "execution_count": 46,
   "metadata": {},
   "outputs": [
    {
     "data": {
      "text/plain": [
       "'Z'"
      ]
     },
     "execution_count": 46,
     "metadata": {},
     "output_type": "execute_result"
    }
   ],
   "source": [
    "caesar(\"A\", -1)"
   ]
  },
  {
   "cell_type": "code",
   "execution_count": 47,
   "metadata": {},
   "outputs": [],
   "source": [
    "caesar??"
   ]
  },
  {
   "cell_type": "code",
   "execution_count": 48,
   "metadata": {},
   "outputs": [
    {
     "name": "stdout",
     "output_type": "stream",
     "text": [
      "['L', 'I', 'P', 'P', 'S', 'A', 'S', 'V', 'P', 'H']\n",
      "LIPPSASVPH\n"
     ]
    }
   ],
   "source": [
    "plain_text = \"Hello, world!\" \n",
    "cipher_shift = 4\n",
    "cipher = [caesar(char, cipher_shift) \\\n",
    "          # f(x) |\n",
    "          for char in plain_text \\\n",
    "          # for x in A\n",
    "          if char in string.ascii_letters] \n",
    "          # where P(x) is true    \n",
    "print(cipher)\n",
    "print(\"\".join(cipher))"
   ]
  },
  {
   "cell_type": "code",
   "execution_count": 49,
   "metadata": {},
   "outputs": [
    {
     "name": "stdout",
     "output_type": "stream",
     "text": [
      "H-E-L-L-O-W-O-R-L-D\n"
     ]
    }
   ],
   "source": [
    "plain_text = \"LIPPSASVPH\" \n",
    "cipher_shift =-4 #退回4步\n",
    "cipher = [caesar(char, cipher_shift) for char in plain_text if char in string.ascii_letters] \n",
    "print(\"-\".join(cipher))"
   ]
  },
  {
   "cell_type": "code",
   "execution_count": 50,
   "metadata": {},
   "outputs": [
    {
     "data": {
      "text/plain": [
       "['L', 'I', 'P', 'P', 'S', 'A', 'S', 'V', 'P', 'H']"
      ]
     },
     "execution_count": 50,
     "metadata": {},
     "output_type": "execute_result"
    }
   ],
   "source": [
    "'''\n",
    "這是等效的 code\n",
    "'''\n",
    "cipher = []\n",
    "for char in plain_text:  # x in A\n",
    "    if char in string.ascii_letters: # when P(x) is true\n",
    "        cipher.append(char)  # append f(x)\n",
    "cipher"
   ]
  },
  {
   "cell_type": "code",
   "execution_count": 51,
   "metadata": {},
   "outputs": [
    {
     "name": "stdout",
     "output_type": "stream",
     "text": [
      "L-I-P-P-S-A-S-V-P-H\n"
     ]
    }
   ],
   "source": [
    "'''\n",
    "list 不能夠變成字串，所以用\n",
    "'''\n",
    "print(\"-\".join(cipher))"
   ]
  },
  {
   "cell_type": "code",
   "execution_count": 52,
   "metadata": {},
   "outputs": [
    {
     "data": {
      "text/plain": [
       "'B'"
      ]
     },
     "execution_count": 52,
     "metadata": {},
     "output_type": "execute_result"
    }
   ],
   "source": [
    "caesar(\"A\",1)"
   ]
  },
  {
   "cell_type": "code",
   "execution_count": 53,
   "metadata": {},
   "outputs": [
    {
     "data": {
      "text/plain": [
       "'C'"
      ]
     },
     "execution_count": 53,
     "metadata": {},
     "output_type": "execute_result"
    }
   ],
   "source": [
    "caesar(\"A\",2)"
   ]
  },
  {
   "cell_type": "code",
   "execution_count": 54,
   "metadata": {},
   "outputs": [
    {
     "data": {
      "text/plain": [
       "'T'"
      ]
     },
     "execution_count": 54,
     "metadata": {},
     "output_type": "execute_result"
    }
   ],
   "source": [
    "caesar(\"S\", 1)"
   ]
  },
  {
   "cell_type": "code",
   "execution_count": 55,
   "metadata": {},
   "outputs": [
    {
     "data": {
      "text/plain": [
       "'A'"
      ]
     },
     "execution_count": 55,
     "metadata": {},
     "output_type": "execute_result"
    }
   ],
   "source": [
    "caesar(\"Z\", 1)"
   ]
  },
  {
   "cell_type": "code",
   "execution_count": 56,
   "metadata": {},
   "outputs": [
    {
     "name": "stdout",
     "output_type": "stream",
     "text": [
      "W-L-I-R-K-P-Y-I-R-G-L-Y-R-K\n"
     ]
    }
   ],
   "source": [
    "plain_text = \"SHENG-LUEN CHUNG\" \n",
    "cipher_shift = 4 \n",
    "cipher = [caesar(char, cipher_shift) for char in plain_text if char in string.ascii_letters] \n",
    "print(\"-\".join(cipher))"
   ]
  },
  {
   "cell_type": "code",
   "execution_count": 57,
   "metadata": {},
   "outputs": [
    {
     "name": "stdout",
     "output_type": "stream",
     "text": [
      "W-L-I-R-K-P-Y-I-R-G-L-Y-R-K\n"
     ]
    }
   ],
   "source": [
    "print(\"-\".join(cipher))"
   ]
  },
  {
   "cell_type": "markdown",
   "metadata": {},
   "source": [
    "## List operation"
   ]
  },
  {
   "cell_type": "code",
   "execution_count": 58,
   "metadata": {},
   "outputs": [
    {
     "name": "stdout",
     "output_type": "stream",
     "text": [
      "Help on class list in module builtins:\n",
      "\n",
      "class list(object)\n",
      " |  list(iterable=(), /)\n",
      " |  \n",
      " |  Built-in mutable sequence.\n",
      " |  \n",
      " |  If no argument is given, the constructor creates a new empty list.\n",
      " |  The argument must be an iterable if specified.\n",
      " |  \n",
      " |  Methods defined here:\n",
      " |  \n",
      " |  __add__(self, value, /)\n",
      " |      Return self+value.\n",
      " |  \n",
      " |  __contains__(self, key, /)\n",
      " |      Return key in self.\n",
      " |  \n",
      " |  __delitem__(self, key, /)\n",
      " |      Delete self[key].\n",
      " |  \n",
      " |  __eq__(self, value, /)\n",
      " |      Return self==value.\n",
      " |  \n",
      " |  __ge__(self, value, /)\n",
      " |      Return self>=value.\n",
      " |  \n",
      " |  __getattribute__(self, name, /)\n",
      " |      Return getattr(self, name).\n",
      " |  \n",
      " |  __getitem__(...)\n",
      " |      x.__getitem__(y) <==> x[y]\n",
      " |  \n",
      " |  __gt__(self, value, /)\n",
      " |      Return self>value.\n",
      " |  \n",
      " |  __iadd__(self, value, /)\n",
      " |      Implement self+=value.\n",
      " |  \n",
      " |  __imul__(self, value, /)\n",
      " |      Implement self*=value.\n",
      " |  \n",
      " |  __init__(self, /, *args, **kwargs)\n",
      " |      Initialize self.  See help(type(self)) for accurate signature.\n",
      " |  \n",
      " |  __iter__(self, /)\n",
      " |      Implement iter(self).\n",
      " |  \n",
      " |  __le__(self, value, /)\n",
      " |      Return self<=value.\n",
      " |  \n",
      " |  __len__(self, /)\n",
      " |      Return len(self).\n",
      " |  \n",
      " |  __lt__(self, value, /)\n",
      " |      Return self<value.\n",
      " |  \n",
      " |  __mul__(self, value, /)\n",
      " |      Return self*value.\n",
      " |  \n",
      " |  __ne__(self, value, /)\n",
      " |      Return self!=value.\n",
      " |  \n",
      " |  __repr__(self, /)\n",
      " |      Return repr(self).\n",
      " |  \n",
      " |  __reversed__(self, /)\n",
      " |      Return a reverse iterator over the list.\n",
      " |  \n",
      " |  __rmul__(self, value, /)\n",
      " |      Return value*self.\n",
      " |  \n",
      " |  __setitem__(self, key, value, /)\n",
      " |      Set self[key] to value.\n",
      " |  \n",
      " |  __sizeof__(self, /)\n",
      " |      Return the size of the list in memory, in bytes.\n",
      " |  \n",
      " |  append(self, object, /)\n",
      " |      Append object to the end of the list.\n",
      " |  \n",
      " |  clear(self, /)\n",
      " |      Remove all items from list.\n",
      " |  \n",
      " |  copy(self, /)\n",
      " |      Return a shallow copy of the list.\n",
      " |  \n",
      " |  count(self, value, /)\n",
      " |      Return number of occurrences of value.\n",
      " |  \n",
      " |  extend(self, iterable, /)\n",
      " |      Extend list by appending elements from the iterable.\n",
      " |  \n",
      " |  index(self, value, start=0, stop=9223372036854775807, /)\n",
      " |      Return first index of value.\n",
      " |      \n",
      " |      Raises ValueError if the value is not present.\n",
      " |  \n",
      " |  insert(self, index, object, /)\n",
      " |      Insert object before index.\n",
      " |  \n",
      " |  pop(self, index=-1, /)\n",
      " |      Remove and return item at index (default last).\n",
      " |      \n",
      " |      Raises IndexError if list is empty or index is out of range.\n",
      " |  \n",
      " |  remove(self, value, /)\n",
      " |      Remove first occurrence of value.\n",
      " |      \n",
      " |      Raises ValueError if the value is not present.\n",
      " |  \n",
      " |  reverse(self, /)\n",
      " |      Reverse *IN PLACE*.\n",
      " |  \n",
      " |  sort(self, /, *, key=None, reverse=False)\n",
      " |      Stable sort *IN PLACE*.\n",
      " |  \n",
      " |  ----------------------------------------------------------------------\n",
      " |  Static methods defined here:\n",
      " |  \n",
      " |  __new__(*args, **kwargs) from builtins.type\n",
      " |      Create and return a new object.  See help(type) for accurate signature.\n",
      " |  \n",
      " |  ----------------------------------------------------------------------\n",
      " |  Data and other attributes defined here:\n",
      " |  \n",
      " |  __hash__ = None\n",
      "\n"
     ]
    }
   ],
   "source": [
    "help(list)"
   ]
  },
  {
   "cell_type": "markdown",
   "metadata": {},
   "source": [
    "## *Corey Schafer Python Tutorial*\n",
    "## Python Tutorial: Slicing Lists and Strings\n",
    "https://www.youtube.com/watch?v=ajrtAuDg3yw&t=267s"
   ]
  },
  {
   "cell_type": "code",
   "execution_count": 59,
   "metadata": {},
   "outputs": [
    {
     "data": {
      "text/html": [
       "<iframe width=\"560\" height=\"315\" src=\"https://www.youtube.com/embed/ajrtAuDg3yw\" frameborder=\"0\" allow=\"accelerometer; autoplay; clipboard-write; encrypted-media; gyroscope; picture-in-picture\" allowfullscreen></iframe>\n"
      ],
      "text/plain": [
       "<IPython.core.display.HTML object>"
      ]
     },
     "metadata": {},
     "output_type": "display_data"
    }
   ],
   "source": [
    "%%HTML\n",
    "<iframe width=\"560\" height=\"315\" src=\"https://www.youtube.com/embed/ajrtAuDg3yw\" frameborder=\"0\" allow=\"accelerometer; autoplay; clipboard-write; encrypted-media; gyroscope; picture-in-picture\" allowfullscreen></iframe>"
   ]
  },
  {
   "cell_type": "code",
   "execution_count": 60,
   "metadata": {},
   "outputs": [],
   "source": [
    "items = [\"milk\", \"bread\", \"eggs\", \"cheese\", \"crackers\"]\n",
    "more_items = [\"honey\", \"jam\", \"bread\"]"
   ]
  },
  {
   "cell_type": "code",
   "execution_count": 61,
   "metadata": {},
   "outputs": [
    {
     "name": "stdout",
     "output_type": "stream",
     "text": [
      "honey\n",
      "jam\n",
      "bread\n"
     ]
    }
   ],
   "source": [
    "for i in more_items:\n",
    "    print(i)"
   ]
  },
  {
   "cell_type": "code",
   "execution_count": 62,
   "metadata": {},
   "outputs": [
    {
     "name": "stdout",
     "output_type": "stream",
     "text": [
      "['milk', 'bread', 'eggs', 'cheese', 'crackers']\n"
     ]
    }
   ],
   "source": [
    "'''\n",
    "把內容當作一個字串來處理\n",
    "'''\n",
    "print(str(items))"
   ]
  },
  {
   "cell_type": "code",
   "execution_count": 63,
   "metadata": {},
   "outputs": [
    {
     "name": "stdout",
     "output_type": "stream",
     "text": [
      "['milk', 'bread', 'eggs', 'cheese', 'crackers']\n"
     ]
    }
   ],
   "source": [
    "print(items)"
   ]
  },
  {
   "cell_type": "code",
   "execution_count": 64,
   "metadata": {},
   "outputs": [
    {
     "name": "stdout",
     "output_type": "stream",
     "text": [
      "[\n",
      "'\n",
      "m\n",
      "i\n",
      "l\n",
      "k\n",
      "'\n",
      ",\n",
      " \n",
      "'\n",
      "b\n",
      "r\n",
      "e\n",
      "a\n",
      "d\n",
      "'\n",
      ",\n",
      " \n",
      "'\n",
      "e\n",
      "g\n",
      "g\n",
      "s\n",
      "'\n",
      ",\n",
      " \n",
      "'\n",
      "c\n",
      "h\n",
      "e\n",
      "e\n",
      "s\n",
      "e\n",
      "'\n",
      ",\n",
      " \n",
      "'\n",
      "c\n",
      "r\n",
      "a\n",
      "c\n",
      "k\n",
      "e\n",
      "r\n",
      "s\n",
      "'\n",
      "]\n"
     ]
    }
   ],
   "source": [
    "for char in str(items):\n",
    "    print(char)"
   ]
  },
  {
   "cell_type": "code",
   "execution_count": 65,
   "metadata": {},
   "outputs": [
    {
     "name": "stdout",
     "output_type": "stream",
     "text": [
      "5\n"
     ]
    }
   ],
   "source": [
    "print(len(items))"
   ]
  },
  {
   "cell_type": "code",
   "execution_count": 66,
   "metadata": {},
   "outputs": [
    {
     "name": "stdout",
     "output_type": "stream",
     "text": [
      "['milk', 'bread', 'eggs', 'cheese', 'crackers', 'honey', 'jam', 'bread']\n"
     ]
    }
   ],
   "source": [
    "'''\n",
    "將兩個 list 合併到前一個 list 使用 extend()\n",
    "但如果是加入一個元素，則叫 append()\n",
    "'''\n",
    "items.extend(more_items)\n",
    "print(items)"
   ]
  },
  {
   "cell_type": "code",
   "execution_count": 67,
   "metadata": {},
   "outputs": [
    {
     "name": "stdout",
     "output_type": "stream",
     "text": [
      "eggs\n"
     ]
    }
   ],
   "source": [
    "print(items[2])"
   ]
  },
  {
   "cell_type": "code",
   "execution_count": 68,
   "metadata": {},
   "outputs": [
    {
     "name": "stdout",
     "output_type": "stream",
     "text": [
      "bread\n"
     ]
    }
   ],
   "source": [
    "print(items[-1])"
   ]
  },
  {
   "cell_type": "markdown",
   "metadata": {},
   "source": [
    "**The last item is indexed \"-1\"**"
   ]
  },
  {
   "cell_type": "code",
   "execution_count": 69,
   "metadata": {},
   "outputs": [
    {
     "name": "stdout",
     "output_type": "stream",
     "text": [
      "honey\n"
     ]
    }
   ],
   "source": [
    "print(items[-3])"
   ]
  },
  {
   "cell_type": "code",
   "execution_count": 70,
   "metadata": {},
   "outputs": [
    {
     "name": "stdout",
     "output_type": "stream",
     "text": [
      "['bread', 'eggs']\n"
     ]
    }
   ],
   "source": [
    "print(items[1:3])"
   ]
  },
  {
   "cell_type": "code",
   "execution_count": 71,
   "metadata": {},
   "outputs": [
    {
     "name": "stdout",
     "output_type": "stream",
     "text": [
      "['milk', 'eggs', 'crackers', 'jam']\n"
     ]
    }
   ],
   "source": [
    "# 中間跳格：2\n",
    "print(items[::2])"
   ]
  },
  {
   "cell_type": "code",
   "execution_count": 72,
   "metadata": {},
   "outputs": [
    {
     "name": "stdout",
     "output_type": "stream",
     "text": [
      "['milk', 'bread', 'eggs', 'cheese', 'crackers', 'honey', 'jam', 'bread']\n"
     ]
    }
   ],
   "source": [
    "print(items[::1])"
   ]
  },
  {
   "cell_type": "code",
   "execution_count": 73,
   "metadata": {},
   "outputs": [
    {
     "name": "stdout",
     "output_type": "stream",
     "text": [
      "['milk', 'cheese', 'jam']\n"
     ]
    }
   ],
   "source": [
    "print(items[::3])"
   ]
  },
  {
   "cell_type": "code",
   "execution_count": 74,
   "metadata": {},
   "outputs": [
    {
     "name": "stdout",
     "output_type": "stream",
     "text": [
      "True\n"
     ]
    }
   ],
   "source": [
    "'''\n",
    "logic operation\n",
    "'''\n",
    "print(\"milk\" in items)"
   ]
  },
  {
   "cell_type": "markdown",
   "metadata": {},
   "source": [
    "## *Corey Schafer Python Tutorial*\n",
    "##  Programming Terms: Mutable vs Immutable\n",
    "https://www.youtube.com/watch?v=5qQQ3yzbKp8"
   ]
  },
  {
   "cell_type": "code",
   "execution_count": 75,
   "metadata": {},
   "outputs": [
    {
     "data": {
      "text/html": [
       "<iframe width=\"560\" height=\"315\" src=\"https://www.youtube.com/embed/5qQQ3yzbKp8\" frameborder=\"0\" allow=\"accelerometer; autoplay; clipboard-write; encrypted-media; gyroscope; picture-in-picture\" allowfullscreen></iframe>\n"
      ],
      "text/plain": [
       "<IPython.core.display.HTML object>"
      ]
     },
     "metadata": {},
     "output_type": "display_data"
    }
   ],
   "source": [
    "%%HTML\n",
    "<iframe width=\"560\" height=\"315\" src=\"https://www.youtube.com/embed/5qQQ3yzbKp8\" frameborder=\"0\" allow=\"accelerometer; autoplay; clipboard-write; encrypted-media; gyroscope; picture-in-picture\" allowfullscreen></iframe>"
   ]
  },
  {
   "cell_type": "markdown",
   "metadata": {},
   "source": [
    "|        | muttable | immutable |\n",
    "| ----- | ----------- |------|\n",
    "| singleton  |    | string|\n",
    "| sequence | list | tuple |\n",
    "| collection | dictionary, set | frozen_set|"
   ]
  },
  {
   "cell_type": "code",
   "execution_count": 76,
   "metadata": {},
   "outputs": [
    {
     "name": "stdout",
     "output_type": "stream",
     "text": [
      "[1, 2, 3, 4, 5]\n",
      "Address of a is: 3046719439752\n",
      "[6, 2, 3, 4, 5]\n",
      "Address of a is: 3046719439752\n"
     ]
    }
   ],
   "source": [
    "'''\n",
    "一個 list 的內容可以更動 (mutable)\n",
    "'''\n",
    "a = [1,2,3,4,5]\n",
    "print (a)\n",
    "print ('Address of a is: {}'.format(id(a)))\n",
    "\n",
    "a[0] = 6\n",
    "print (a)\n",
    "print ('Address of a is: {}'.format(id(a)))"
   ]
  },
  {
   "cell_type": "code",
   "execution_count": 77,
   "metadata": {},
   "outputs": [
    {
     "name": "stdout",
     "output_type": "stream",
     "text": [
      "Address of a is: 3046719439752\n",
      "[6, 2, 3, 4, 5]\n",
      "<class 'list'>\n",
      "Address of a is: 140732875865792\n",
      "6\n",
      "<class 'int'>\n"
     ]
    }
   ],
   "source": [
    "'''\n",
    "以上指的意思是，原先宣告 list \n",
    "可以更換內容，更換前與後是同一件事\n",
    "'''\n",
    "print ('Address of a is: {}'.format(id(a)))\n",
    "print(a)\n",
    "print(type(a))\n",
    "print ('Address of a is: {}'.format(id(a[0])))\n",
    "print(a[0])\n",
    "print(type(a[0]))"
   ]
  },
  {
   "cell_type": "markdown",
   "metadata": {},
   "source": [
    "#### id() 就這組 list 在 python 中的身份證字號：\n",
    "---\n",
    "#### \"an integer (or long integer) which is guaranteed to be unique and constant for this object during its lifetime.\" (Python Standard Library - Built-in Functions) A unique number. Nothing more, and nothing less. Think of it as a social-security number or employee id number for Python objects."
   ]
  },
  {
   "cell_type": "code",
   "execution_count": 78,
   "metadata": {},
   "outputs": [
    {
     "name": "stdout",
     "output_type": "stream",
     "text": [
      "[1, 2, 3, 4, 5]\n",
      "<class 'list'>\n",
      "Address of a is: 3046719519880\n",
      "[6, 2, 3, 4, 5]\n",
      "Address of a is: 3046719519880\n",
      "[6, 2, 3, 4, 5, [0], '[0]']\n",
      "Address of a is: 3046719519880\n"
     ]
    }
   ],
   "source": [
    "'''\n",
    "針對 list 作完運算之後，它仍是同一個物件 (相同 id)\n",
    "'''\n",
    "a = [1,2,3,4,5]\n",
    "print (a)\n",
    "print(type(a))\n",
    "print ('Address of a is: {}'.format(id(a)))\n",
    "\n",
    "a[0] = 6\n",
    "print (a)\n",
    "print ('Address of a is: {}'.format(id(a)))\n",
    "a.append([0])\n",
    "a.append('[0]')\n",
    "print (a)\n",
    "print ('Address of a is: {}'.format(id(a)))\n"
   ]
  },
  {
   "cell_type": "code",
   "execution_count": 79,
   "metadata": {},
   "outputs": [
    {
     "name": "stdout",
     "output_type": "stream",
     "text": [
      "['new', 6, 2, 3, 4, 5, [0], '[0]']\n",
      "Address of a is: 3046719519880\n"
     ]
    }
   ],
   "source": [
    "'''\n",
    "除了從後面 append() 接新的元素之外，\n",
    "也可以從最前面加入新元素，這時使用 insert(位置, 內容)\n",
    "'''\n",
    "a.insert(0, \"new\")\n",
    "print (a)\n",
    "print ('Address of a is: {}'.format(id(a)))"
   ]
  },
  {
   "cell_type": "code",
   "execution_count": 80,
   "metadata": {},
   "outputs": [
    {
     "name": "stdout",
     "output_type": "stream",
     "text": [
      "['milk', 'bread', 'eggs', 'cheese', 'crackers', 'honey', 'jam', 'bread']\n",
      "Address of items is: 3046718232392\n"
     ]
    }
   ],
   "source": [
    "print(items)\n",
    "print ('Address of items is: {}'.format(id(items)))"
   ]
  },
  {
   "cell_type": "code",
   "execution_count": 81,
   "metadata": {},
   "outputs": [
    {
     "name": "stdout",
     "output_type": "stream",
     "text": [
      "['milk', 'bread', 'eggs', 'cheese', 'crackers', 'honey', 'jam', 'bread', 'tea']\n",
      "Address of items is: 3046718232392\n"
     ]
    }
   ],
   "source": [
    "items.append(\"tea\")\n",
    "print(items)\n",
    "print ('Address of items is: {}'.format(id(items)))"
   ]
  },
  {
   "cell_type": "code",
   "execution_count": 82,
   "metadata": {},
   "outputs": [
    {
     "data": {
      "text/plain": [
       "['milk', 'bread', 'eggs', 'cheese', 'crackers', 'honey', 'jam', 'bread', 'tea']"
      ]
     },
     "execution_count": 82,
     "metadata": {},
     "output_type": "execute_result"
    }
   ],
   "source": [
    "items"
   ]
  },
  {
   "cell_type": "code",
   "execution_count": 83,
   "metadata": {},
   "outputs": [
    {
     "name": "stdout",
     "output_type": "stream",
     "text": [
      "['milk', 'bread', 'eggs', 'cheese', 'crackers', 'honey', 'jam', 'bread', 'tea']\n"
     ]
    }
   ],
   "source": [
    "print(items)"
   ]
  },
  {
   "cell_type": "code",
   "execution_count": 84,
   "metadata": {},
   "outputs": [
    {
     "data": {
      "text/plain": [
       "['milk', 'bread', 'eggs', 'cheese', 'crackers', 'jam', 'bread', 'tea']"
      ]
     },
     "execution_count": 84,
     "metadata": {},
     "output_type": "execute_result"
    }
   ],
   "source": [
    "items.remove(\"honey\")\n",
    "items"
   ]
  },
  {
   "cell_type": "code",
   "execution_count": 85,
   "metadata": {},
   "outputs": [
    {
     "name": "stdout",
     "output_type": "stream",
     "text": [
      "['milk', 'bread', 'eggs', 'cheese', 'crackers', 'jam', 'bread', 'tea']\n",
      "Address of items is: 3046718232392\n"
     ]
    }
   ],
   "source": [
    "print(items)\n",
    "print ('Address of items is: {}'.format(id(items)))"
   ]
  },
  {
   "cell_type": "code",
   "execution_count": 86,
   "metadata": {},
   "outputs": [
    {
     "data": {
      "text/plain": [
       "['bread', 'bread', 'cheese', 'crackers', 'eggs', 'jam', 'milk', 'tea']"
      ]
     },
     "execution_count": 86,
     "metadata": {},
     "output_type": "execute_result"
    }
   ],
   "source": [
    "items.sort()\n",
    "items"
   ]
  },
  {
   "cell_type": "code",
   "execution_count": 87,
   "metadata": {},
   "outputs": [
    {
     "name": "stdout",
     "output_type": "stream",
     "text": [
      "['bread', 'bread', 'cheese', 'crackers', 'eggs', 'jam', 'milk', 'tea']\n",
      "Address of items is: 3046718232392\n"
     ]
    }
   ],
   "source": [
    "'''\n",
    "排序完之後仍然是視為原 list\n",
    "'''\n",
    "print(items)\n",
    "print ('Address of items is: {}'.format(id(items)))"
   ]
  },
  {
   "cell_type": "code",
   "execution_count": 88,
   "metadata": {},
   "outputs": [
    {
     "name": "stdout",
     "output_type": "stream",
     "text": [
      "abc\n",
      "Address of a is: 3046647723600\n"
     ]
    }
   ],
   "source": [
    "'''\n",
    "一個 list 的內容可以更動 (mutable)\n",
    "'''\n",
    "a = \"abc\"\n",
    "print (a)\n",
    "print ('Address of a is: {}'.format(id(a)))"
   ]
  },
  {
   "cell_type": "code",
   "execution_count": 89,
   "metadata": {},
   "outputs": [
    {
     "ename": "TypeError",
     "evalue": "'str' object does not support item assignment",
     "output_type": "error",
     "traceback": [
      "\u001b[1;31m---------------------------------------------------------------------------\u001b[0m",
      "\u001b[1;31mTypeError\u001b[0m                                 Traceback (most recent call last)",
      "\u001b[1;32m<ipython-input-89-3e574f68085f>\u001b[0m in \u001b[0;36m<module>\u001b[1;34m\u001b[0m\n\u001b[1;32m----> 1\u001b[1;33m \u001b[0ma\u001b[0m\u001b[1;33m[\u001b[0m\u001b[1;36m0\u001b[0m\u001b[1;33m]\u001b[0m \u001b[1;33m=\u001b[0m \u001b[1;34m\"c\"\u001b[0m\u001b[1;33m\u001b[0m\u001b[1;33m\u001b[0m\u001b[0m\n\u001b[0m\u001b[0;32m      2\u001b[0m \u001b[0mprint\u001b[0m \u001b[1;33m(\u001b[0m\u001b[0ma\u001b[0m\u001b[1;33m)\u001b[0m\u001b[1;33m\u001b[0m\u001b[1;33m\u001b[0m\u001b[0m\n\u001b[0;32m      3\u001b[0m \u001b[0mprint\u001b[0m \u001b[1;33m(\u001b[0m\u001b[1;34m'Address of a is: {}'\u001b[0m\u001b[1;33m.\u001b[0m\u001b[0mformat\u001b[0m\u001b[1;33m(\u001b[0m\u001b[0mid\u001b[0m\u001b[1;33m(\u001b[0m\u001b[0ma\u001b[0m\u001b[1;33m)\u001b[0m\u001b[1;33m)\u001b[0m\u001b[1;33m)\u001b[0m\u001b[1;33m\u001b[0m\u001b[1;33m\u001b[0m\u001b[0m\n",
      "\u001b[1;31mTypeError\u001b[0m: 'str' object does not support item assignment"
     ]
    }
   ],
   "source": [
    "a[0] = \"c\"\n",
    "print (a)\n",
    "print ('Address of a is: {}'.format(id(a)))"
   ]
  },
  {
   "cell_type": "code",
   "execution_count": 90,
   "metadata": {},
   "outputs": [
    {
     "name": "stdout",
     "output_type": "stream",
     "text": [
      "cbc\n"
     ]
    }
   ],
   "source": [
    "a = \"cbc\"\n",
    "print(a)"
   ]
  },
  {
   "cell_type": "code",
   "execution_count": 91,
   "metadata": {},
   "outputs": [
    {
     "name": "stdout",
     "output_type": "stream",
     "text": [
      "Address of a is: 3046719444056\n"
     ]
    }
   ],
   "source": [
    "print ('Address of a is: {}'.format(id(a)))"
   ]
  },
  {
   "cell_type": "code",
   "execution_count": null,
   "metadata": {},
   "outputs": [],
   "source": []
  }
 ],
 "metadata": {
  "kernelspec": {
   "display_name": "Python 3",
   "language": "python",
   "name": "python3"
  },
  "language_info": {
   "codemirror_mode": {
    "name": "ipython",
    "version": 3
   },
   "file_extension": ".py",
   "mimetype": "text/x-python",
   "name": "python",
   "nbconvert_exporter": "python",
   "pygments_lexer": "ipython3",
   "version": "3.7.1"
  }
 },
 "nbformat": 4,
 "nbformat_minor": 2
}
