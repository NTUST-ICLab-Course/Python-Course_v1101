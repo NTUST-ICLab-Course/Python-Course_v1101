{
 "cells": [
  {
   "cell_type": "markdown",
   "metadata": {},
   "source": [
    "# Chapter 4: Object Oriented Programming\n",
    "## 3. Thread\n",
    "2019-09-29, 2020-10-04"
   ]
  },
  {
   "cell_type": "markdown",
   "metadata": {},
   "source": [
    "Content:\n",
    "\n",
    "- 在教多工序 (thread) 之前，最好先有一個所謂單一執行緒的程式執行\n",
    "- 在執行環境中關於套件、模組、以及類別的引用\n",
    "- 有關於多工執行緒\n",
    "- 有關於 logging 的使用\n",
    "- 關於time這個模組的使用\n",
    "- 關於免同時競寫衝突 lock 的使用\n"
   ]
  },
  {
   "cell_type": "markdown",
   "metadata": {},
   "source": [
    "本 ipynb 檔的執行情境：\n",
    "- 有些特殊功能，可以父類別的方式遺傳給需要用的類別；或是說這個需要特殊功能的類別，以繼承的方式，繼承了特殊功能的類別。\n",
    "- 在這個 ipynb 檔中，我們要展現的是可以同時執行執行緒 (thread) 的功能，它被定義在 thread.Thread 的類別中。\n",
    "- 為了要能看到不同的 thread 「插時/同時」被執行，我們需要記下當下時間的戳記，所以我們也介紹 logging 的功能。在 logging 過程中，我們可以定義每次登載時，需要提供那些資訊 (特別是執行的時間戳記)\n",
    "- 針對要 logging 的內容，主要還是仰賴 programmer，在適當時機先預留「引子」，然後，在執行整個被監測的程式過程中，透過調整 loggingConfig() 來選定，什麼程級的警示要進行通報。這的限制是一旦設定後，就要到對個結束後，才能改變設定。\n",
    "- 「同時執行」的極限是不要彼此干擾。像如果同時有兩個執行緒不受節制都在 console 上列印的話，就有可能會讓 console 上的輸出滲雜在一起。我們將這種不能彼此被干擾的資源稱之為「critical region」\n",
    "- python 裏有 Lock 的類別，可用來當作管是控「critical region」的警示燈，確保在進入前，critical region 不會另外有人正在使用。"
   ]
  },
  {
   "cell_type": "code",
   "execution_count": null,
   "metadata": {},
   "outputs": [],
   "source": [
    "%cd D:\\Google Drive\\GettingStartedWithPythonAndRaspberryPi-book_release\\Chapter04\n",
    "%pwd"
   ]
  },
  {
   "cell_type": "code",
   "execution_count": null,
   "metadata": {},
   "outputs": [],
   "source": [
    "%ls"
   ]
  },
  {
   "cell_type": "markdown",
   "metadata": {},
   "source": [
    "# Inheritance (繼承) 是物件導向程式語言 (OOP) 中重要的概念。\n",
    "在 python 裏，\n",
    "- 一個類別可以繼承超過一個的父輩\n",
    "- 有類似 Java 中的 abstract class，這也是要透過繼承的子輩，實現後才可以使用"
   ]
  },
  {
   "cell_type": "markdown",
   "metadata": {},
   "source": [
    "## (1) Logging\n",
    "### 待會要顯示多個 threads 執行的順序，需要一個能記錄「當下」時間的機制\n",
    "[Python] logging 教學\n",
    "\n",
    "https://stackoverflow.max-everyday.com/2017/10/python-logging/"
   ]
  },
  {
   "cell_type": "markdown",
   "metadata": {},
   "source": [
    "## log 的機制：\n",
    "1. programmer 得先在程式中埋下不同層級的「通報」引子；\n",
    "   - → logging levels\n",
    "2. 在執行程式之前，要另外設定 logger，告訴它，針對怎樣層級以上的「通報」要進行記錄；\n",
    "   - → logging.basicConfig()。每次執行開始後，就不能更動。除非再重頭開始前再變動。\n",
    "3. 通報時可以輸出到執行的螢幕上，或是寫到某個指名的檔案上。"
   ]
  },
  {
   "cell_type": "markdown",
   "metadata": {},
   "source": [
    "## *Corey Schafer Python Tutorial*\n",
    "## Logging Basics - Logging to Files, Setting Levels, and Formatting\n",
    "https://www.youtube.com/watch?v=-ARI4Cz-awo"
   ]
  },
  {
   "cell_type": "code",
   "execution_count": null,
   "metadata": {},
   "outputs": [],
   "source": [
    "%%HTML\n",
    "<iframe width=\"560\" height=\"315\" src=\"https://www.youtube.com/embed/-ARI4Cz-awo\" frameborder=\"0\" allow=\"accelerometer; autoplay; clipboard-write; encrypted-media; gyroscope; picture-in-picture\" allowfullscreen></iframe>"
   ]
  },
  {
   "cell_type": "markdown",
   "metadata": {},
   "source": [
    "- log: 砍樹 → 記錄\n",
    "- logging: 記錄活動\n",
    "- logger: 執行記錄活動的人\n"
   ]
  },
  {
   "cell_type": "markdown",
   "metadata": {},
   "source": [
    "## Logging Levels\n",
    "\n",
    "Level\tNumeric value\n",
    "- CRITICAL\t50\n",
    "- ERROR\t40\n",
    "- WARNING\t30\n",
    "- INFO\t20\n",
    "- DEBUG\t10\n",
    "- NOTSET\t0"
   ]
  },
  {
   "cell_type": "code",
   "execution_count": null,
   "metadata": {},
   "outputs": [],
   "source": [
    "'''\n",
    "log 的機制：\n",
    "1. programmer 得先在程式中埋下不同層級的「通報」引子；\n",
    "2. 在執行程式之前，要另外設定 logger，告訴它，針對怎樣層級以上的「通報」要進行記錄；\n",
    "3. 通報時可以輸出到執行的螢幕上，或是寫到某個指名的檔案上。\n",
    "'''\n",
    "import time\n",
    "import logging\n",
    "import threading # import thread for python2\n",
    "'''\n",
    "※ 以下這個 basicConfig() 設定一次之後，就不能再改了。\n",
    "細節請參考：https://www.youtube.com/watch?v=-ARI4Cz-awo \n",
    "'''\n",
    "logging.basicConfig(level=logging.INFO,\n",
    "                    format=\"%(asctime)s (T:%(thread)d):- %(message)s\")"
   ]
  },
  {
   "cell_type": "code",
   "execution_count": null,
   "metadata": {},
   "outputs": [],
   "source": [
    "# 一旦設定之後，就不能改了，除非關掉，重新執行\n",
    "help(logging.basicConfig)"
   ]
  },
  {
   "cell_type": "markdown",
   "metadata": {},
   "source": [
    "## logging — Logging facility for Python\n",
    "LogRecord attributes\n",
    "\n",
    "https://docs.python.org/3/library/logging.html"
   ]
  },
  {
   "cell_type": "code",
   "execution_count": null,
   "metadata": {},
   "outputs": [],
   "source": [
    "'''\n",
    "我們先輸出到 default 的這個 console 上。\n",
    "我們設定的格式為：\n",
    "format=\"%(asctime)s (T:%(thread)d):- %(message)s\"\n",
    "'''\n",
    "logging.info(\"this is a logging test\")"
   ]
  },
  {
   "cell_type": "code",
   "execution_count": null,
   "metadata": {},
   "outputs": [],
   "source": [
    "%whos"
   ]
  },
  {
   "cell_type": "code",
   "execution_count": null,
   "metadata": {},
   "outputs": [],
   "source": [
    "logging.warning(\"this is another message\")"
   ]
  },
  {
   "cell_type": "code",
   "execution_count": null,
   "metadata": {},
   "outputs": [],
   "source": [
    "'''\n",
    "這個 debug 的層級比原先設定的層級還低，所以不會印出來。\n",
    "'''\n",
    "logging.debug(\"this is just an info, not that important\")"
   ]
  },
  {
   "cell_type": "markdown",
   "metadata": {},
   "source": [
    "# (2) Threading：執行緒、線程\n",
    "\n",
    "1. 我們會用到 thread 通常是用於「同步執行」的情境中。\n",
    "2. 作法是將想要「被同步」的物件，都讓其繼承 threading.Thread 的類別\n",
    "3. 然後，將要「同步」的功能，(具體實現)寫在 run() method 中。\n",
    "\n",
    "https://www.maxlist.xyz/2020/03/15/python-threading/"
   ]
  },
  {
   "cell_type": "markdown",
   "metadata": {},
   "source": [
    "## *Corey Schafer Python Threading Tutorial*\n",
    "## Run Code Concurrently Using the Threading Module (2019-09-12)\n",
    "https://www.youtube.com/watch?v=IEEhzQoKtQU"
   ]
  },
  {
   "cell_type": "code",
   "execution_count": null,
   "metadata": {},
   "outputs": [],
   "source": [
    "%%HTML\n",
    "<iframe width=\"560\" height=\"315\" src=\"https://www.youtube.com/embed/IEEhzQoKtQU\" frameborder=\"0\" allow=\"accelerometer; autoplay; clipboard-write; encrypted-media; gyroscope; picture-in-picture\" allowfullscreen></iframe>"
   ]
  },
  {
   "cell_type": "markdown",
   "metadata": {},
   "source": [
    "## 先複習一下 funcrion() 裏面 arg 和 kwarg 的宣告"
   ]
  },
  {
   "cell_type": "code",
   "execution_count": null,
   "metadata": {},
   "outputs": [],
   "source": [
    "'''\n",
    "先複習 function(*args, **kwargs) 的概念\n",
    "    - args: positional arguments, considered as tuple\n",
    "    - kwargs: keyword arguments, considered as dictionary\n",
    "'''\n",
    "def checkArgs(*args, **kwargs):\n",
    "    print(args)\n",
    "    print(kwargs)\n",
    "    print(type(args))\n",
    "    print(type(kwargs))"
   ]
  },
  {
   "cell_type": "code",
   "execution_count": null,
   "metadata": {},
   "outputs": [],
   "source": [
    "checkArgs(1, \"p2\", name = \"chung\", age = 23)"
   ]
  },
  {
   "cell_type": "code",
   "execution_count": null,
   "metadata": {},
   "outputs": [],
   "source": [
    "'''\n",
    "先來看為什麼要用 *args, **kwargs\n",
    "'''\n",
    "args = [1, 'p2']\n",
    "kwargs = {'name': 'chung', 'age': 23}\n",
    "checkArgs(args, kwargs)"
   ]
  },
  {
   "cell_type": "code",
   "execution_count": null,
   "metadata": {},
   "outputs": [],
   "source": [
    "checkArgs(*args, **kwargs)"
   ]
  },
  {
   "cell_type": "markdown",
   "metadata": {},
   "source": [
    "### 先看 單一 thread  (Single tread) 執行的狀況：\n",
    "```python:\n",
    "class MessagePrinterST(object):\n",
    "```"
   ]
  },
  {
   "cell_type": "code",
   "execution_count": null,
   "metadata": {},
   "outputs": [],
   "source": [
    "%more Threading.py"
   ]
  },
  {
   "cell_type": "code",
   "execution_count": null,
   "metadata": {},
   "outputs": [],
   "source": [
    "'''\n",
    "# ST for single thread\n",
    "因為沒有要用什麼神奇的 tread 功能，所以這邊並沒有繼承 treading.Tread 而是 object\n",
    "\n",
    "我們要它作的事，定義在 d0_print() 裏。\n",
    "'''\n",
    "class MessagePrinterST(object):\n",
    "    '''\n",
    "    A simple class to print messages to the log at a given interval.\n",
    "\n",
    "    以下要作的工作就是將 constructor 建置時的內含的 positional argments 的字串，\n",
    "    印出來後，會按 kwarg 的 delay 的設定值先睡一下延後。\n",
    "    '''\n",
    "    \n",
    "    def __init__(self, *args, **kwargs):\n",
    "        self._args = args\n",
    "        self._kwargs = kwargs\n",
    "\n",
    "    def do_print(self):\n",
    "        for message in self._args:\n",
    "            logging.info(message)\n",
    "            time.sleep(self._kwargs.get(\"delay\", 1.0))"
   ]
  },
  {
   "cell_type": "code",
   "execution_count": null,
   "metadata": {},
   "outputs": [],
   "source": [
    "%whos"
   ]
  },
  {
   "cell_type": "code",
   "execution_count": null,
   "metadata": {},
   "outputs": [],
   "source": [
    "'''\n",
    "log 的機制：\n",
    "1. programmer 得先在程式中埋下不同層級的「通報」引子；\n",
    "2. 在執行程式之前，要另外設定 logger，告訴它，針對怎樣層級以上的「通報」要進行記錄；\n",
    "3. 通報時可以輸出到執行的螢幕上，或是寫到某個指名的檔案上。\n",
    "'''\n",
    "import time\n",
    "import logging\n",
    "import threading # import thread for python2\n",
    "'''\n",
    "※ 以下這個 basicConfig() 設定一次之後，就不能再改了。\n",
    "細節請參考：https://www.youtube.com/watch?v=-ARI4Cz-awo \n",
    "'''\n",
    "logging.basicConfig(level=logging.INFO,\n",
    "                    format=\"%(asctime)s (T:%(thread)d):- %(message)s\")"
   ]
  },
  {
   "cell_type": "code",
   "execution_count": null,
   "metadata": {},
   "outputs": [],
   "source": [
    "# 先建一個沒有 args 的 MessagePrinterST\n",
    "m1 = MessagePrinterST()"
   ]
  },
  {
   "cell_type": "code",
   "execution_count": null,
   "metadata": {},
   "outputs": [],
   "source": [
    "'''\n",
    "如果不塞任何參數的話，就不會印東西\n",
    "'''\n",
    "m1.do_print()"
   ]
  },
  {
   "cell_type": "code",
   "execution_count": null,
   "metadata": {},
   "outputs": [],
   "source": [
    "# 試在 args 裏放一些 message\n",
    "m1 = MessagePrinterST(\"Hello\", \"Good day!\", \"Interesting python\")"
   ]
  },
  {
   "cell_type": "code",
   "execution_count": null,
   "metadata": {},
   "outputs": [],
   "source": [
    "print(m1._args)"
   ]
  },
  {
   "cell_type": "code",
   "execution_count": null,
   "metadata": {},
   "outputs": [],
   "source": [
    "m1.__dict__.keys()"
   ]
  },
  {
   "cell_type": "code",
   "execution_count": null,
   "metadata": {},
   "outputs": [],
   "source": [
    "m1._args"
   ]
  },
  {
   "cell_type": "code",
   "execution_count": null,
   "metadata": {},
   "outputs": [],
   "source": [
    "m1._kwargs"
   ]
  },
  {
   "cell_type": "code",
   "execution_count": null,
   "metadata": {},
   "outputs": [],
   "source": [
    "# 注意看列印的時間\n",
    "m1.do_print()"
   ]
  },
  {
   "cell_type": "code",
   "execution_count": null,
   "metadata": {},
   "outputs": [],
   "source": [
    "# 試試 keyward argument，這裏就是 delay\n",
    "m2 = MessagePrinterST(\"A\", \"B\", \"C\", delay=2.0)\n",
    "m2.do_print()"
   ]
  },
  {
   "cell_type": "code",
   "execution_count": null,
   "metadata": {},
   "outputs": [],
   "source": [
    "m2.__dict__"
   ]
  },
  {
   "cell_type": "code",
   "execution_count": null,
   "metadata": {},
   "outputs": [],
   "source": [
    "m2._kwargs"
   ]
  },
  {
   "cell_type": "code",
   "execution_count": null,
   "metadata": {},
   "outputs": [],
   "source": [
    "'''\n",
    "以下是 sequential 的執行兩個程序 (不同步執行)\n",
    "一定要一個執行完了之後，再換另外一個\n",
    "'''\n",
    "m1.do_print()\n",
    "m2.do_print()"
   ]
  },
  {
   "cell_type": "markdown",
   "metadata": {},
   "source": [
    "### 以下先載入我們的 Threading.py module 檔案"
   ]
  },
  {
   "cell_type": "code",
   "execution_count": null,
   "metadata": {},
   "outputs": [],
   "source": [
    "%more Threading.py"
   ]
  },
  {
   "cell_type": "code",
   "execution_count": null,
   "metadata": {},
   "outputs": [],
   "source": [
    "%whos"
   ]
  },
  {
   "cell_type": "code",
   "execution_count": null,
   "metadata": {},
   "outputs": [],
   "source": [
    "from Threading import *"
   ]
  },
  {
   "cell_type": "code",
   "execution_count": null,
   "metadata": {},
   "outputs": [],
   "source": [
    "%whos"
   ]
  },
  {
   "cell_type": "code",
   "execution_count": null,
   "metadata": {},
   "outputs": [],
   "source": [
    "? MessagePrinter"
   ]
  },
  {
   "cell_type": "code",
   "execution_count": null,
   "metadata": {},
   "outputs": [],
   "source": [
    "??MessagePrinter"
   ]
  },
  {
   "cell_type": "code",
   "execution_count": null,
   "metadata": {},
   "outputs": [],
   "source": [
    "help(MessagePrinter)"
   ]
  },
  {
   "cell_type": "code",
   "execution_count": null,
   "metadata": {},
   "outputs": [],
   "source": [
    "help(threading.Thread)"
   ]
  },
  {
   "cell_type": "code",
   "execution_count": null,
   "metadata": {},
   "outputs": [],
   "source": [
    "threading.Thread?"
   ]
  },
  {
   "cell_type": "code",
   "execution_count": null,
   "metadata": {},
   "outputs": [],
   "source": [
    "'''\n",
    "觀察重點：與之前 MessagePrinterST(object) 不一樣的地方：\n",
    "    - 繼承了 threading.Thread\n",
    "    - 有實現 run()，這是當說要「同步執行」的，要作的事，對應之前的 d0_print()\n",
    "    \n",
    " |  run(self)\n",
    " |      Method representing the thread's activity.\n",
    " |      \n",
    " |      You may override this method in a subclass. The standard run() method\n",
    " |      invokes the callable object passed to the object's constructor as the\n",
    " |      target argument, if any, with sequential and keyword arguments taken\n",
    " |      from the args and kwargs arguments, respectively.\n",
    "'''\n",
    "\n",
    "class MessagePrinter(threading.Thread):\n",
    "    \"\"\"\n",
    "    A simple class to print messages to the log a a given interval.\n",
    "    \"\"\"\n",
    "    \n",
    "    def __init__(self, *args, **kwargs):\n",
    "        threading.Thread.__init__(self)\n",
    "        self._args = args\n",
    "        self._kwargs = kwargs\n",
    "\n",
    "    '''\n",
    "    當作 thread 最重要的功能，就是要「同步」，同步時要作的工作，\n",
    "    就是由 run() 來定義。\n",
    "    '''\n",
    "    def run(self):\n",
    "        for message in self._args:\n",
    "            logging.info(message)\n",
    "            time.sleep(self._kwargs.get(\"delay\", 1.0))"
   ]
  },
  {
   "cell_type": "markdown",
   "metadata": {},
   "source": [
    "## thread 最重要的三個 methods:\n",
    "- start()：所有要同步執行的 thread，以這個為提示，當作：開始一起跑\n",
    "- run()：一旦同步開始，各顯神通\n",
    "- join()：這可以標記同時開始同步執行的 tread，最後一個執行完的時間，然後才會再往下面作其他的指令。"
   ]
  },
  {
   "cell_type": "code",
   "execution_count": null,
   "metadata": {},
   "outputs": [],
   "source": [
    "%whos"
   ]
  },
  {
   "cell_type": "code",
   "execution_count": null,
   "metadata": {},
   "outputs": [],
   "source": [
    "# Set up two message printer objects\n",
    "# mp2 故意 delay 設為 3，(對照 default 的 1) 錯開 logging 的結果\n",
    "mp1 = MessagePrinter(\"Hello\", \"Good day!\")\n",
    "mp2 = MessagePrinter(\"A\", \"B\", \"C\", delay=3)\n",
    "\n",
    "# Start each of them on their own thread\n",
    "'''\n",
    "start() 是讓參加「同步」的 thread 一起開始 run()\n",
    "'''\n",
    "mp1.start()\n",
    "mp2.start()\n",
    "\n",
    "# Wait for those threads to exit before exiting the main thread\n",
    "'''\n",
    "join() 讓所有同步的 thread 一起結束\n",
    "'''\n",
    "#mp1.join()\n",
    "#mp2.join()\n",
    "\n",
    "logging.info(\"兩個都作完了\")"
   ]
  },
  {
   "cell_type": "code",
   "execution_count": null,
   "metadata": {},
   "outputs": [],
   "source": [
    "# Set up two message printer objects\n",
    "# mp2 故意 delay 設為 3，(對照 default 的 1) 錯開 logging 的結果\n",
    "mp1 = MessagePrinter(\"Hello\", \"Good day!\")\n",
    "mp2 = MessagePrinter(\"A\", \"B\", \"C\", delay=3)\n",
    "\n",
    "# Start each of them on their own thread\n",
    "'''\n",
    "start() 是讓參加「同步」的 thread 一起開始 run()\n",
    "'''\n",
    "mp1.start()\n",
    "mp2.start()\n",
    "\n",
    "# Wait for those threads to exit before exiting the main thread\n",
    "'''\n",
    "join() 讓所有同步的 thread 一起結束\n",
    "'''\n",
    "mp1.join()\n",
    "mp2.join()\n",
    "\n",
    "logging.info(\"兩個都作完了\")"
   ]
  },
  {
   "cell_type": "code",
   "execution_count": null,
   "metadata": {},
   "outputs": [],
   "source": [
    "# Set up two message printer objects\n",
    "mp1 = MessagePrinter(\"Hello\", \"Good day!\")\n",
    "mp2 = MessagePrinter(\"A\", \"B\", \"C\", delay=0.5)\n",
    "\n",
    "# Start each of them on their own thread\n",
    "'''\n",
    "start() 是讓參加「同步」的 thread 一起開始 run()\n",
    "'''\n",
    "mp1.start()\n",
    "mp2.start()\n",
    "\n",
    "# Wait for those threads to exit before exiting the main thread\n",
    "'''\n",
    "join() 讓所有同步的 thread 一起結束\n",
    "'''\n",
    "mp1.join()\n",
    "mp2.join()\n",
    "\n",
    "logging.info(\"兩個都作完了\")"
   ]
  },
  {
   "cell_type": "code",
   "execution_count": null,
   "metadata": {},
   "outputs": [],
   "source": [
    "# 讓 thread 先睡一下，不會浪費 cpu 的時間\n",
    "help(time.sleep)"
   ]
  },
  {
   "cell_type": "code",
   "execution_count": null,
   "metadata": {},
   "outputs": [],
   "source": [
    "'''\n",
    "來試一個有三個 thread 同時執行的狀況\n",
    "'''\n",
    "m1 = MessagePrinter(\"Hello\", \"Good day!\")\n",
    "m2 = MessagePrinter(\"A\", \"B\", \"C\", \"D\", delay = 1.05)\n",
    "m3 = MessagePrinter(\"1\", \"2\", \"3\", \"4\", delay = 0.95)\n",
    "\n",
    "m1.start()\n",
    "m2.start()\n",
    "m3.start()\n",
    "\n",
    "m1.join()\n",
    "m2.join()\n",
    "m3.join()\n",
    "\n",
    "logging.info(\"全都作完了\")"
   ]
  },
  {
   "cell_type": "markdown",
   "metadata": {},
   "source": [
    "### 當然，也可以只有一個 thread，自己 start()，自己 join()"
   ]
  },
  {
   "cell_type": "code",
   "execution_count": null,
   "metadata": {},
   "outputs": [],
   "source": [
    "m1 = MessagePrinter(\"Hello\", \"Good day!\")\n",
    "m1.start()\n",
    "m1.join()\n",
    "logging.info(\"都作完了\")"
   ]
  },
  {
   "cell_type": "code",
   "execution_count": null,
   "metadata": {},
   "outputs": [],
   "source": [
    "# 執行 thread 其實就是執行 run() 這個 method\n",
    "m1.run()\n",
    "\n",
    "logging.info(\"都作完了\")"
   ]
  },
  {
   "cell_type": "markdown",
   "metadata": {},
   "source": [
    "## synchronized threads 不需要為相同 class 的 instance"
   ]
  },
  {
   "cell_type": "code",
   "execution_count": null,
   "metadata": {},
   "outputs": [],
   "source": [
    "'''\n",
    "我們寫另外一個也是繼承 threading.Thread 的類別 TimeStamp\n",
    "'''\n",
    "class TimeStamp(threading.Thread):\n",
    "    \"\"\"\n",
    "    A simple class to print messages to the log at a given interval.\n",
    "    \"\"\"\n",
    "    \n",
    "    def __init__(self, *args, **kwargs):\n",
    "        threading.Thread.__init__(self)\n",
    "        self._args = args\n",
    "        self._kwargs = kwargs\n",
    "\n",
    "    '''\n",
    "    以下的 run() 才是最重要的！\n",
    "    '''\n",
    "    def run(self):\n",
    "        for timetick in range(0,self._kwargs.get(\"ticks\", 10)):\n",
    "            logging.info(timetick)\n",
    "            time.sleep(self._kwargs.get(\"delay\", 0.1))"
   ]
  },
  {
   "cell_type": "code",
   "execution_count": null,
   "metadata": {},
   "outputs": [],
   "source": [
    "'''\n",
    "以下的 script 是來 demo 不同的 thread 可以讓他們「同步」執行\n",
    "'''\n",
    "m1 = MessagePrinter(\"Hello\", \"Good day!\")\n",
    "t1 = TimeStamp()\n",
    "\n",
    "m1.start()\n",
    "t1.start()\n",
    "\n",
    "m1.join()\n",
    "t1.join()\n",
    "logging.info(\"都作完了\")"
   ]
  },
  {
   "cell_type": "code",
   "execution_count": null,
   "metadata": {},
   "outputs": [],
   "source": [
    "m1 = MessagePrinter(\"Hello\", \"Good day!\")\n",
    "t1 = TimeStamp(ticks=7)\n",
    "\n",
    "m1.start()\n",
    "t1.start()\n",
    "\n",
    "m1.join()\n",
    "t1.join()\n",
    "logging.info(\"都作完了\")"
   ]
  },
  {
   "cell_type": "code",
   "execution_count": null,
   "metadata": {},
   "outputs": [],
   "source": [
    "%whos"
   ]
  },
  {
   "cell_type": "code",
   "execution_count": null,
   "metadata": {},
   "outputs": [],
   "source": [
    "m1.__dict__"
   ]
  },
  {
   "cell_type": "code",
   "execution_count": null,
   "metadata": {},
   "outputs": [],
   "source": [
    "m2.__dict__"
   ]
  },
  {
   "cell_type": "code",
   "execution_count": null,
   "metadata": {},
   "outputs": [],
   "source": [
    "t1.__dict__"
   ]
  },
  {
   "cell_type": "markdown",
   "metadata": {},
   "source": [
    "## *Corey Schafer Python Threading* - Multithreading Playlist (2017)\n",
    "https://www.youtube.com/playlist?list=PLGKQkV4guDKEv1DoK4LYdo2ZPLo6cyLbm"
   ]
  },
  {
   "cell_type": "code",
   "execution_count": null,
   "metadata": {},
   "outputs": [],
   "source": [
    "%%HTML\n",
    "<iframe width=\"560\" height=\"315\" src=\"https://www.youtube.com/embed/2ZwuKeL0aHs\" frameborder=\"0\" allow=\"accelerometer; autoplay; clipboard-write; encrypted-media; gyroscope; picture-in-picture\" allowfullscreen></iframe>"
   ]
  },
  {
   "cell_type": "markdown",
   "metadata": {},
   "source": [
    "## (3) Lock\n",
    "Lock 的概念就是：針對一個共享資源，像是寫資料庫或是搶 console，\n",
    "- 同一個時間只能夠有一個人 (thread) 佔用、進出，\n",
    "- 為了防止爭奪，所以，設了一個 lock 的機制：所有想要進出管制區的人，要先取得沒有上鎖的(unlocked) 的 lock，才能進入，\n",
    "- 進入的當下，必須將 lock 給上鎖 (locked)；然後\n",
    "- 在使用完資源後，使用人要立即將 lock 歸還 (unlocked)，以讓其他人進出管制區。"
   ]
  },
  {
   "cell_type": "markdown",
   "metadata": {},
   "source": [
    "讓好幾個線程 (執行緒) 同步執行的一個不好的狀況是，萬一他們同時「進出」「更新」共同的資料時，\n",
    "如第一個要 x = x + 1，另一個要 x = x - 3，要是 x 一開始是 10，前一個正要作，只讀到 10 + 1，正要寫入 11 時，\n",
    "另一個輪到，讀 x = 10，然後，先 10 - 3 = 7 寫入，接下來換前一個執行，他的印象還是要 10+1，就把 11 寫入 x。"
   ]
  },
  {
   "cell_type": "markdown",
   "metadata": {},
   "source": [
    "## *Corey Schafer Python Tutorials*\n",
    "## Threading Beginners Tutorials - Locks - part 5\n",
    "先講一個事實：這樣的狀況，很難複製…\n",
    "https://www.youtube.com/watch?v=8BMPW49DadA&list=PLGKQkV4guDKEv1DoK4LYdo2ZPLo6cyLbm&index=7&t=0s"
   ]
  },
  {
   "cell_type": "code",
   "execution_count": 1,
   "metadata": {},
   "outputs": [
    {
     "data": {
      "text/html": [
       "<iframe width=\"560\" height=\"315\" src=\"https://www.youtube.com/embed/8BMPW49DadA\" frameborder=\"0\" allow=\"accelerometer; autoplay; clipboard-write; encrypted-media; gyroscope; picture-in-picture\" allowfullscreen></iframe>\n"
      ],
      "text/plain": [
       "<IPython.core.display.HTML object>"
      ]
     },
     "metadata": {},
     "output_type": "display_data"
    }
   ],
   "source": [
    "%%HTML\n",
    "<iframe width=\"560\" height=\"315\" src=\"https://www.youtube.com/embed/8BMPW49DadA\" frameborder=\"0\" allow=\"accelerometer; autoplay; clipboard-write; encrypted-media; gyroscope; picture-in-picture\" allowfullscreen></iframe>"
   ]
  },
  {
   "cell_type": "code",
   "execution_count": 2,
   "metadata": {},
   "outputs": [],
   "source": [
    "'''\n",
    "課本附了一個有 lock 的同步程式，\n",
    "'''\n",
    "%more Threading_Locks.py"
   ]
  },
  {
   "cell_type": "code",
   "execution_count": 3,
   "metadata": {},
   "outputs": [],
   "source": [
    "'''\n",
    "%more Threading_Locks.py\n",
    "這個 MessagePrinter(threading.Thread) 與之前的版本的差別：\n",
    "    - 之前是透過 logger 有調節的機制，會錯開列印\n",
    "    - 現在讓它直接列印在 console 上，這時會有爭奪的狀況發生\n",
    "    - console 可視為 critical region\n",
    "\n",
    "※ 這個有 lock 的 class MessagePrinter(threading.Thread):\n",
    "與之前的 class MessagePrinter(threading.Thread) 最大差別在於 run() 中，\n",
    "每次進出時要先檢查：\n",
    "\n",
    "(1) 進入前：\n",
    "            if self._lock:\n",
    "                self._lock.acquire()\n",
    "                \n",
    "            # 將原本的 logging 改為 print 到 console\n",
    "            print(message)\n",
    "(2) 要離開時：\n",
    "            # If we have a lock object then now release it\n",
    "            if self._lock:\n",
    "                self._lock.release()\n",
    "'''\n",
    "import logging\n",
    "import threading\n",
    "import time\n",
    "\n",
    "class MessagePrinter(threading.Thread):\n",
    "    \"\"\"\n",
    "    A simple class to print messages to the log a a given interval.\n",
    "    \"\"\"\n",
    "    \n",
    "    def __init__(self, *args, **kwargs):\n",
    "        threading.Thread.__init__(self)\n",
    "        self._args = args\n",
    "        self._kwargs = kwargs\n",
    "        '''\n",
    "        以下多了一個 kwarg: lock\n",
    "        '''\n",
    "        self._lock = kwargs.get(\"lock\", None)\n",
    "\n",
    "    def run(self):\n",
    "        for message in self._args:\n",
    "            # If we have a lock object then try to acquire the lock first\n",
    "            if self._lock:\n",
    "                self._lock.acquire()\n",
    "                \n",
    "            # 將原本的 logging 改為 print 到 console\n",
    "            print(message)\n",
    "\n",
    "            # If we have a lock object then now release it\n",
    "            if self._lock:\n",
    "                self._lock.release()\n",
    "                \n",
    "            time.sleep(self._kwargs.get(\"delay\", 1.0))\n"
   ]
  },
  {
   "cell_type": "code",
   "execution_count": 4,
   "metadata": {},
   "outputs": [
    {
     "name": "stdout",
     "output_type": "stream",
     "text": [
      "Variable         Type      Data/Info\n",
      "------------------------------------\n",
      "MessagePrinter   type      <class '__main__.MessagePrinter'>\n",
      "logging          module    <module 'logging' from 'C<...>b\\\\logging\\\\__init__.py'>\n",
      "threading        module    <module 'threading' from <...>nda3\\\\lib\\\\threading.py'>\n",
      "time             module    <module 'time' (built-in)>\n"
     ]
    }
   ],
   "source": [
    "%whos"
   ]
  },
  {
   "cell_type": "code",
   "execution_count": 5,
   "metadata": {},
   "outputs": [
    {
     "name": "stdout",
     "output_type": "stream",
     "text": [
      "Hello, Good day!A\n",
      "\n",
      "BHello, Good day!\n",
      "\n",
      "Hello, Good day!C\n",
      "\n",
      "Hello, Good day!A\n",
      "\n",
      "Hello, Good day!B\n",
      "\n",
      "Hello, Good day!C\n",
      "\n",
      "AHello, Good day!\n",
      "\n",
      "B\n",
      "C\n"
     ]
    }
   ],
   "source": [
    "'''\n",
    "Set up a lock to synchronize the print statements\n",
    "我們先來看 不設 的狀況\n",
    "'''\n",
    "lock = None #threading.Lock()\n",
    "\n",
    "# Set up two message printer objects\n",
    "mp1 = MessagePrinter(\"Hello, Good day!\",\"Hello, Good day!\",\"Hello, Good day!\",\"Hello, Good day!\",\"Hello, Good day!\",\"Hello, Good day!\",\"Hello, Good day!\", lock=lock)\n",
    "mp2 = MessagePrinter(\"A\", \"B\", \"C\", \"A\", \"B\", \"C\",\"A\", \"B\", \"C\", lock=lock)\n",
    "\n",
    "\n",
    "# Start each of them on their own thread\n",
    "mp1.start()\n",
    "mp2.start()\n",
    "\n",
    "# Wait for those threads to exit before exiting the main thread\n",
    "mp1.join()\n",
    "mp2.join()"
   ]
  },
  {
   "cell_type": "code",
   "execution_count": 6,
   "metadata": {},
   "outputs": [
    {
     "name": "stdout",
     "output_type": "stream",
     "text": [
      "Hello, Good day!\n",
      "A\n",
      "Hello, Good day!\n",
      "B\n",
      "Hello, Good day!\n",
      "C\n",
      "Hello, Good day!\n",
      "A\n",
      "Hello, Good day!\n",
      "B\n",
      "Hello, Good day!\n",
      "C\n",
      "Hello, Good day!\n",
      "A\n",
      "B\n",
      "C\n"
     ]
    }
   ],
   "source": [
    "'''\n",
    "Set up a lock to synchronize the print statements\n",
    "我們先來看 不設 的狀況\n",
    "'''\n",
    "lock = None #threading.Lock()\n",
    "\n",
    "# Set up two message printer objects\n",
    "mp1 = MessagePrinter(\"Hello, Good day!\",\"Hello, Good day!\",\"Hello, Good day!\",\"Hello, Good day!\",\"Hello, Good day!\",\"Hello, Good day!\",\"Hello, Good day!\", lock=lock)\n",
    "mp2 = MessagePrinter(\"A\", \"B\", \"C\", \"A\", \"B\", \"C\",\"A\", \"B\", \"C\", lock=lock)\n",
    "\n",
    "\n",
    "# Start each of them on their own thread\n",
    "mp1.start()\n",
    "mp2.start()\n",
    "\n",
    "# Wait for those threads to exit before exiting the main thread\n",
    "mp1.join()\n",
    "mp2.join()"
   ]
  },
  {
   "cell_type": "markdown",
   "metadata": {},
   "source": [
    "## 看你的運氣，還有使用的電腦，真要看到混雜的狀況不容易！"
   ]
  },
  {
   "cell_type": "code",
   "execution_count": 47,
   "metadata": {},
   "outputs": [
    {
     "name": "stdout",
     "output_type": "stream",
     "text": [
      "None is used\n",
      "HelloA\n",
      "\n",
      "B\n",
      "Good day!\n",
      "C\n",
      "Hello\n",
      "AGood day!\n",
      "\n",
      "BHello\n",
      "\n",
      "Good day!\n",
      "C\n",
      "Hello\n",
      "A\n",
      "Good day!B\n",
      "\n",
      "CHello\n",
      "\n",
      "AGood day!\n",
      "\n",
      "B\n",
      "C\n",
      "It's done!\n"
     ]
    }
   ],
   "source": [
    "# Set up a lock to synchronize the print statements\n",
    "lock = None #threading.Lock()\n",
    "\n",
    "# Set up two message printer objects\n",
    "mp1 = MessagePrinter(\"Hello\", \"Good day!\",\"Hello\", \"Good day!\",\"Hello\", \"Good day!\",\"Hello\", \"Good day!\",\"Hello\", \"Good day!\", lock=lock)\n",
    "mp2 = MessagePrinter(\"A\", \"B\", \"C\",\"A\", \"B\", \"C\",\"A\", \"B\", \"C\",\"A\", \"B\", \"C\", lock=lock)\n",
    "\n",
    "\n",
    "print(\"{} is used\".format(lock))\n",
    "# Start each of them on their own thread\n",
    "mp1.start()\n",
    "mp2.start()\n",
    "\n",
    "# Wait for those threads to exit before exiting the main thread\n",
    "mp1.join()\n",
    "mp2.join()\n",
    "\n",
    "print(\"It's done!\")"
   ]
  },
  {
   "cell_type": "markdown",
   "metadata": {},
   "source": [
    "## 以上是沒有使用 lock 的管控機制"
   ]
  },
  {
   "cell_type": "code",
   "execution_count": 7,
   "metadata": {},
   "outputs": [
    {
     "name": "stdout",
     "output_type": "stream",
     "text": [
      "Help on built-in function allocate_lock in module _thread:\n",
      "\n",
      "allocate_lock(...)\n",
      "    allocate_lock() -> lock object\n",
      "    (allocate() is an obsolete synonym)\n",
      "    \n",
      "    Create a new lock object. See help(type(threading.Lock())) for\n",
      "    information about locks.\n",
      "\n"
     ]
    }
   ],
   "source": [
    "'''\n",
    "來看 threading.Lock 這個類別\n",
    "'''\n",
    "help(threading.Lock)"
   ]
  },
  {
   "cell_type": "code",
   "execution_count": 8,
   "metadata": {},
   "outputs": [
    {
     "data": {
      "text/plain": [
       "builtin_function_or_method"
      ]
     },
     "execution_count": 8,
     "metadata": {},
     "output_type": "execute_result"
    }
   ],
   "source": [
    "type(threading.Lock)"
   ]
  },
  {
   "cell_type": "code",
   "execution_count": 9,
   "metadata": {},
   "outputs": [],
   "source": [
    "'''\n",
    "先來宣告一個 lock 的物件\n",
    "'''\n",
    "lock = threading.Lock()"
   ]
  },
  {
   "cell_type": "code",
   "execution_count": 10,
   "metadata": {},
   "outputs": [
    {
     "name": "stdout",
     "output_type": "stream",
     "text": [
      "Variable         Type              Data/Info\n",
      "--------------------------------------------\n",
      "MessagePrinter   type              <class '__main__.MessagePrinter'>\n",
      "lock             lock              <unlocked _thread.lock ob<...>ct at 0x0000019EB8F734B8>\n",
      "logging          module            <module 'logging' from 'C<...>b\\\\logging\\\\__init__.py'>\n",
      "mp1              MessagePrinter    <MessagePrinter(Thread-8, stopped 7844)>\n",
      "mp2              MessagePrinter    <MessagePrinter(Thread-9, stopped 10260)>\n",
      "threading        module            <module 'threading' from <...>nda3\\\\lib\\\\threading.py'>\n",
      "time             module            <module 'time' (built-in)>\n"
     ]
    }
   ],
   "source": [
    "%whos"
   ]
  },
  {
   "cell_type": "code",
   "execution_count": 11,
   "metadata": {},
   "outputs": [
    {
     "data": {
      "text/plain": [
       "_thread.lock"
      ]
     },
     "execution_count": 11,
     "metadata": {},
     "output_type": "execute_result"
    }
   ],
   "source": [
    "type(lock)"
   ]
  },
  {
   "cell_type": "code",
   "execution_count": 12,
   "metadata": {},
   "outputs": [
    {
     "data": {
      "text/plain": [
       "<unlocked _thread.lock object at 0x0000019EB8F734B8>"
      ]
     },
     "execution_count": 12,
     "metadata": {},
     "output_type": "execute_result"
    }
   ],
   "source": [
    "# lock 有兩個狀態：unlocked, locked\n",
    "lock"
   ]
  },
  {
   "cell_type": "code",
   "execution_count": 13,
   "metadata": {},
   "outputs": [
    {
     "name": "stdout",
     "output_type": "stream",
     "text": [
      "Help on lock object:\n",
      "\n",
      "class lock(builtins.object)\n",
      " |  A lock object is a synchronization primitive.  To create a lock,\n",
      " |  call threading.Lock().  Methods are:\n",
      " |  \n",
      " |  acquire() -- lock the lock, possibly blocking until it can be obtained\n",
      " |  release() -- unlock of the lock\n",
      " |  locked() -- test whether the lock is currently locked\n",
      " |  \n",
      " |  A lock is not owned by the thread that locked it; another thread may\n",
      " |  unlock it.  A thread attempting to lock a lock that it has already locked\n",
      " |  will block until another thread unlocks it.  Deadlocks may ensue.\n",
      " |  \n",
      " |  Methods defined here:\n",
      " |  \n",
      " |  __enter__(...)\n",
      " |      acquire(blocking=True, timeout=-1) -> bool\n",
      " |      (acquire_lock() is an obsolete synonym)\n",
      " |      \n",
      " |      Lock the lock.  Without argument, this blocks if the lock is already\n",
      " |      locked (even by the same thread), waiting for another thread to release\n",
      " |      the lock, and return True once the lock is acquired.\n",
      " |      With an argument, this will only block if the argument is true,\n",
      " |      and the return value reflects whether the lock is acquired.\n",
      " |      The blocking operation is interruptible.\n",
      " |  \n",
      " |  __exit__(...)\n",
      " |      release()\n",
      " |      (release_lock() is an obsolete synonym)\n",
      " |      \n",
      " |      Release the lock, allowing another thread that is blocked waiting for\n",
      " |      the lock to acquire the lock.  The lock must be in the locked state,\n",
      " |      but it needn't be locked by the same thread that unlocks it.\n",
      " |  \n",
      " |  __repr__(self, /)\n",
      " |      Return repr(self).\n",
      " |  \n",
      " |  acquire(...)\n",
      " |      acquire(blocking=True, timeout=-1) -> bool\n",
      " |      (acquire_lock() is an obsolete synonym)\n",
      " |      \n",
      " |      Lock the lock.  Without argument, this blocks if the lock is already\n",
      " |      locked (even by the same thread), waiting for another thread to release\n",
      " |      the lock, and return True once the lock is acquired.\n",
      " |      With an argument, this will only block if the argument is true,\n",
      " |      and the return value reflects whether the lock is acquired.\n",
      " |      The blocking operation is interruptible.\n",
      " |  \n",
      " |  acquire_lock(...)\n",
      " |      acquire(blocking=True, timeout=-1) -> bool\n",
      " |      (acquire_lock() is an obsolete synonym)\n",
      " |      \n",
      " |      Lock the lock.  Without argument, this blocks if the lock is already\n",
      " |      locked (even by the same thread), waiting for another thread to release\n",
      " |      the lock, and return True once the lock is acquired.\n",
      " |      With an argument, this will only block if the argument is true,\n",
      " |      and the return value reflects whether the lock is acquired.\n",
      " |      The blocking operation is interruptible.\n",
      " |  \n",
      " |  locked(...)\n",
      " |      locked() -> bool\n",
      " |      (locked_lock() is an obsolete synonym)\n",
      " |      \n",
      " |      Return whether the lock is in the locked state.\n",
      " |  \n",
      " |  locked_lock(...)\n",
      " |      locked() -> bool\n",
      " |      (locked_lock() is an obsolete synonym)\n",
      " |      \n",
      " |      Return whether the lock is in the locked state.\n",
      " |  \n",
      " |  release(...)\n",
      " |      release()\n",
      " |      (release_lock() is an obsolete synonym)\n",
      " |      \n",
      " |      Release the lock, allowing another thread that is blocked waiting for\n",
      " |      the lock to acquire the lock.  The lock must be in the locked state,\n",
      " |      but it needn't be locked by the same thread that unlocks it.\n",
      " |  \n",
      " |  release_lock(...)\n",
      " |      release()\n",
      " |      (release_lock() is an obsolete synonym)\n",
      " |      \n",
      " |      Release the lock, allowing another thread that is blocked waiting for\n",
      " |      the lock to acquire the lock.  The lock must be in the locked state,\n",
      " |      but it needn't be locked by the same thread that unlocks it.\n",
      "\n"
     ]
    }
   ],
   "source": [
    "'''\n",
    "最重要的 methods 是：\n",
    "    - acquire()\n",
    "    - release()\n",
    "它們都會改變 lock 的狀態\n",
    "'''\n",
    "help(lock)"
   ]
  },
  {
   "cell_type": "code",
   "execution_count": 14,
   "metadata": {},
   "outputs": [
    {
     "data": {
      "text/plain": [
       "_thread.lock"
      ]
     },
     "execution_count": 14,
     "metadata": {},
     "output_type": "execute_result"
    }
   ],
   "source": [
    "type(lock)"
   ]
  },
  {
   "cell_type": "code",
   "execution_count": 15,
   "metadata": {},
   "outputs": [
    {
     "name": "stdout",
     "output_type": "stream",
     "text": [
      "<unlocked _thread.lock object at 0x0000019EB8F734B8>\n"
     ]
    }
   ],
   "source": [
    "'''\n",
    "lock 有兩個狀態，一開始建置時 unlock 的狀況\n",
    "'''\n",
    "print(lock)"
   ]
  },
  {
   "cell_type": "code",
   "execution_count": 16,
   "metadata": {},
   "outputs": [
    {
     "data": {
      "text/plain": [
       "True"
      ]
     },
     "execution_count": 16,
     "metadata": {},
     "output_type": "execute_result"
    }
   ],
   "source": [
    "lock.acquire()"
   ]
  },
  {
   "cell_type": "code",
   "execution_count": 17,
   "metadata": {},
   "outputs": [
    {
     "name": "stdout",
     "output_type": "stream",
     "text": [
      "<locked _thread.lock object at 0x0000019EB8F734B8>\n"
     ]
    }
   ],
   "source": [
    "print(lock)"
   ]
  },
  {
   "cell_type": "code",
   "execution_count": 18,
   "metadata": {},
   "outputs": [],
   "source": [
    "lock.release()"
   ]
  },
  {
   "cell_type": "code",
   "execution_count": 19,
   "metadata": {},
   "outputs": [
    {
     "name": "stdout",
     "output_type": "stream",
     "text": [
      "<unlocked _thread.lock object at 0x0000019EB8F734B8>\n"
     ]
    }
   ],
   "source": [
    "print(lock)"
   ]
  },
  {
   "cell_type": "code",
   "execution_count": null,
   "metadata": {},
   "outputs": [],
   "source": []
  },
  {
   "cell_type": "code",
   "execution_count": 20,
   "metadata": {},
   "outputs": [
    {
     "name": "stdout",
     "output_type": "stream",
     "text": [
      "Hello\n",
      "A\n",
      "Good day!\n",
      "B\n",
      "Hello\n",
      "C\n",
      "Good day!\n",
      "A\n",
      "Hello\n",
      "B\n",
      "Good day!\n",
      "C\n",
      "A\n",
      "B\n",
      "C\n"
     ]
    }
   ],
   "source": [
    "# Set up a lock to synchronize the print statements\n",
    "lock = None #threading.Lock()\n",
    "\n",
    "# Set up two message printer objects\n",
    "mp1 = MessagePrinter(\"Hello\", \"Good day!\",\"Hello\", \"Good day!\",\"Hello\", \"Good day!\", lock=lock)\n",
    "mp2 = MessagePrinter(\"A\", \"B\", \"C\",\"A\", \"B\", \"C\",\"A\", \"B\", \"C\", lock=lock)\n",
    "\n",
    "\n",
    "# Start each of them on their own thread\n",
    "mp1.start()\n",
    "mp2.start()\n",
    "\n",
    "# Wait for those threads to exit before exiting the main thread\n",
    "mp1.join()\n",
    "mp2.join()"
   ]
  },
  {
   "cell_type": "code",
   "execution_count": 21,
   "metadata": {},
   "outputs": [
    {
     "name": "stdout",
     "output_type": "stream",
     "text": [
      "None\n"
     ]
    }
   ],
   "source": [
    "print(lock)"
   ]
  },
  {
   "cell_type": "code",
   "execution_count": 22,
   "metadata": {},
   "outputs": [],
   "source": [
    "MessagePrinter??"
   ]
  },
  {
   "cell_type": "markdown",
   "metadata": {},
   "source": [
    "### 如果剛好給你遇上了，會看到竟然這兩個 thread 搶要列印一行 console‧‧‧我以前常看到，但這次試了好多，就是沒看到…"
   ]
  },
  {
   "cell_type": "code",
   "execution_count": 47,
   "metadata": {},
   "outputs": [
    {
     "name": "stdout",
     "output_type": "stream",
     "text": [
      "None is used\n",
      "HelloA\n",
      "\n",
      "B\n",
      "Good day!\n",
      "C\n",
      "Hello\n",
      "AGood day!\n",
      "\n",
      "BHello\n",
      "\n",
      "Good day!\n",
      "C\n",
      "Hello\n",
      "A\n",
      "Good day!B\n",
      "\n",
      "CHello\n",
      "\n",
      "AGood day!\n",
      "\n",
      "B\n",
      "C\n",
      "It's done!\n"
     ]
    }
   ],
   "source": [
    "# Set up a lock to synchronize the print statements\n",
    "lock = None #threading.Lock()\n",
    "\n",
    "# Set up two message printer objects\n",
    "mp1 = MessagePrinter(\"Hello\", \"Good day!\",\"Hello\", \"Good day!\",\"Hello\", \"Good day!\",\"Hello\", \"Good day!\",\"Hello\", \"Good day!\", lock=lock)\n",
    "mp2 = MessagePrinter(\"A\", \"B\", \"C\",\"A\", \"B\", \"C\",\"A\", \"B\", \"C\",\"A\", \"B\", \"C\", lock=lock)\n",
    "\n",
    "\n",
    "print(\"{} is used\".format(lock))\n",
    "# Start each of them on their own thread\n",
    "mp1.start()\n",
    "mp2.start()\n",
    "\n",
    "# Wait for those threads to exit before exiting the main thread\n",
    "mp1.join()\n",
    "mp2.join()\n",
    "\n",
    "print(\"It's done!\")"
   ]
  },
  {
   "cell_type": "markdown",
   "metadata": {},
   "source": [
    "## 不管你有沒有遇到，要是試久了，就會遇到；\n",
    "特別是同時要寫到一個檔案時。\n",
    "以下我們先教要如何「保證完全」避免 critical session 的爭奪，\n",
    "就是要用的人，要先拿到進出此「關鍵區域」的鑰匙 (lock)"
   ]
  },
  {
   "cell_type": "markdown",
   "metadata": {},
   "source": [
    "## 在原 MessagePrinter  另外宣告 一個 kwarg變數 lock\n",
    "除此之外，MessagePrinter 的其他 code 都一樣，\n",
    "但在進出 critical section時，就要針對管制 console 的 lock, 進行：\n",
    "- 進入前 aquire() 以及 \n",
    "- 離開時 release() 的動作。"
   ]
  },
  {
   "cell_type": "markdown",
   "metadata": {},
   "source": [
    "## 首先，我們先看，如果沒有設鎖的話，會如何…參雜"
   ]
  },
  {
   "cell_type": "code",
   "execution_count": 23,
   "metadata": {},
   "outputs": [
    {
     "name": "stdout",
     "output_type": "stream",
     "text": [
      "None\n"
     ]
    }
   ],
   "source": [
    "print(lock)"
   ]
  },
  {
   "cell_type": "code",
   "execution_count": 24,
   "metadata": {},
   "outputs": [],
   "source": [
    "class MessagePrinter(threading.Thread):\n",
    "    \"\"\"\n",
    "    A simple class to print messages to the log a a given interval.\n",
    "    \"\"\"\n",
    "    \n",
    "    def __init__(self, *args, **kwargs):\n",
    "        threading.Thread.__init__(self)\n",
    "        self._args = args\n",
    "        self._kwargs = kwargs\n",
    "        self._lock = kwargs.get(\"lock\", None)\n",
    "\n",
    "    def run(self):\n",
    "        for message in self._args:\n",
    "            # If we have a lock object then try to acquire the lock first\n",
    "            if self._lock:\n",
    "                self._lock.acquire()\n",
    "                \n",
    "            print(message)\n",
    "\n",
    "            # If we have a lock object then now release it\n",
    "            if self._lock:\n",
    "                self._lock.release()\n",
    "            #logging.info(message) #我自己加入這行    \n",
    "            time.sleep(self._kwargs.get(\"delay\", 1.0))"
   ]
  },
  {
   "cell_type": "markdown",
   "metadata": {},
   "source": [
    "## Null in Python: Understanding Python's NoneType Object\n",
    "\n",
    "*Python uses the keyword None to define null objects and variables. While None does serve some of the same purposes as null in other languages, it’s another beast entirely. As the null in Python, None is not defined to be 0 or any other value. In Python, None is an object and a first-class citizen!*\n",
    "\n",
    "https://realpython.com/null-in-python/"
   ]
  },
  {
   "cell_type": "markdown",
   "metadata": {},
   "source": [
    "## Python對<type ‘NoneType’>資料型別的處理\n",
    "https://codertw.com/%E7%A8%8B%E5%BC%8F%E8%AA%9E%E8%A8%80/634089/"
   ]
  },
  {
   "cell_type": "code",
   "execution_count": 25,
   "metadata": {},
   "outputs": [
    {
     "data": {
      "text/plain": [
       "NoneType"
      ]
     },
     "execution_count": 25,
     "metadata": {},
     "output_type": "execute_result"
    }
   ],
   "source": [
    "type(None)"
   ]
  },
  {
   "cell_type": "code",
   "execution_count": 26,
   "metadata": {},
   "outputs": [
    {
     "data": {
      "text/plain": [
       "str"
      ]
     },
     "execution_count": 26,
     "metadata": {},
     "output_type": "execute_result"
    }
   ],
   "source": [
    "type(\"\")"
   ]
  },
  {
   "cell_type": "markdown",
   "metadata": {},
   "source": [
    "### None 不等於 False，但是當作 if 條件式判斷時，都是「不成立」的那條分枝…"
   ]
  },
  {
   "cell_type": "code",
   "execution_count": 27,
   "metadata": {},
   "outputs": [
    {
     "name": "stdout",
     "output_type": "stream",
     "text": [
      "hihi\n"
     ]
    }
   ],
   "source": [
    "if False:\n",
    "    print(\"None\")\n",
    "else:\n",
    "    print(\"hihi\")"
   ]
  },
  {
   "cell_type": "code",
   "execution_count": 28,
   "metadata": {},
   "outputs": [
    {
     "name": "stdout",
     "output_type": "stream",
     "text": [
      "hihi\n"
     ]
    }
   ],
   "source": [
    "# None 在 if 條件式的模查中，等效為 false = null = 沒有，就是不成立\n",
    "if None:\n",
    "    print (\"None\")\n",
    "else:\n",
    "    print (\"hihi\")"
   ]
  },
  {
   "cell_type": "code",
   "execution_count": 29,
   "metadata": {},
   "outputs": [
    {
     "name": "stdout",
     "output_type": "stream",
     "text": [
      "False\n"
     ]
    }
   ],
   "source": [
    "print(None == False)"
   ]
  },
  {
   "cell_type": "markdown",
   "metadata": {},
   "source": [
    "### None 不等於 \"\"，但是當作 if 條件式判斷時，都是「不成立」的那條分枝…"
   ]
  },
  {
   "cell_type": "code",
   "execution_count": 30,
   "metadata": {},
   "outputs": [
    {
     "data": {
      "text/plain": [
       "False"
      ]
     },
     "execution_count": 30,
     "metadata": {},
     "output_type": "execute_result"
    }
   ],
   "source": [
    "\"\" == None"
   ]
  },
  {
   "cell_type": "code",
   "execution_count": 31,
   "metadata": {},
   "outputs": [
    {
     "name": "stdout",
     "output_type": "stream",
     "text": [
      "hihi\n"
     ]
    }
   ],
   "source": [
    "if \"\":\n",
    "    print (\"None\")\n",
    "else:\n",
    "    print (\"hihi\")"
   ]
  },
  {
   "cell_type": "code",
   "execution_count": 31,
   "metadata": {},
   "outputs": [],
   "source": [
    "%more Threading_Locks.py"
   ]
  },
  {
   "cell_type": "code",
   "execution_count": 32,
   "metadata": {},
   "outputs": [],
   "source": [
    "import logging\n",
    "import threading\n",
    "import time\n",
    "\n",
    "class MessagePrinter(threading.Thread):\n",
    "    \"\"\"\n",
    "    A simple class to print messages to the log a a given interval.\n",
    "    \"\"\"\n",
    "    \n",
    "    def __init__(self, *args, **kwargs):\n",
    "        threading.Thread.__init__(self)\n",
    "        self._args = args\n",
    "        self._kwargs = kwargs\n",
    "        self._lock = kwargs.get(\"lock\", None)\n",
    "\n",
    "    def run(self):\n",
    "        for message in self._args:\n",
    "            # If we have a lock object then try to acquire the lock first\n",
    "            if self._lock:\n",
    "                self._lock.acquire()\n",
    "                \n",
    "            print(message)\n",
    "\n",
    "            # If we have a lock object then now release it\n",
    "            if self._lock:\n",
    "                self._lock.release()\n",
    "                \n",
    "            time.sleep(self._kwargs.get(\"delay\", 1.0))\n"
   ]
  },
  {
   "cell_type": "code",
   "execution_count": 33,
   "metadata": {},
   "outputs": [
    {
     "name": "stdout",
     "output_type": "stream",
     "text": [
      "Help on built-in function allocate_lock in module _thread:\n",
      "\n",
      "allocate_lock(...)\n",
      "    allocate_lock() -> lock object\n",
      "    (allocate() is an obsolete synonym)\n",
      "    \n",
      "    Create a new lock object. See help(type(threading.Lock())) for\n",
      "    information about locks.\n",
      "\n"
     ]
    }
   ],
   "source": [
    "help(threading.Lock)"
   ]
  },
  {
   "cell_type": "code",
   "execution_count": 35,
   "metadata": {},
   "outputs": [
    {
     "name": "stdout",
     "output_type": "stream",
     "text": [
      "Help on lock object:\n",
      "\n",
      "class lock(builtins.object)\n",
      " |  A lock object is a synchronization primitive.  To create a lock,\n",
      " |  call threading.Lock().  Methods are:\n",
      " |  \n",
      " |  acquire() -- lock the lock, possibly blocking until it can be obtained\n",
      " |  release() -- unlock of the lock\n",
      " |  locked() -- test whether the lock is currently locked\n",
      " |  \n",
      " |  A lock is not owned by the thread that locked it; another thread may\n",
      " |  unlock it.  A thread attempting to lock a lock that it has already locked\n",
      " |  will block until another thread unlocks it.  Deadlocks may ensue.\n",
      " |  \n",
      " |  Methods defined here:\n",
      " |  \n",
      " |  __enter__(...)\n",
      " |      acquire(blocking=True, timeout=-1) -> bool\n",
      " |      (acquire_lock() is an obsolete synonym)\n",
      " |      \n",
      " |      Lock the lock.  Without argument, this blocks if the lock is already\n",
      " |      locked (even by the same thread), waiting for another thread to release\n",
      " |      the lock, and return True once the lock is acquired.\n",
      " |      With an argument, this will only block if the argument is true,\n",
      " |      and the return value reflects whether the lock is acquired.\n",
      " |      The blocking operation is interruptible.\n",
      " |  \n",
      " |  __exit__(...)\n",
      " |      release()\n",
      " |      (release_lock() is an obsolete synonym)\n",
      " |      \n",
      " |      Release the lock, allowing another thread that is blocked waiting for\n",
      " |      the lock to acquire the lock.  The lock must be in the locked state,\n",
      " |      but it needn't be locked by the same thread that unlocks it.\n",
      " |  \n",
      " |  __repr__(self, /)\n",
      " |      Return repr(self).\n",
      " |  \n",
      " |  acquire(...)\n",
      " |      acquire(blocking=True, timeout=-1) -> bool\n",
      " |      (acquire_lock() is an obsolete synonym)\n",
      " |      \n",
      " |      Lock the lock.  Without argument, this blocks if the lock is already\n",
      " |      locked (even by the same thread), waiting for another thread to release\n",
      " |      the lock, and return True once the lock is acquired.\n",
      " |      With an argument, this will only block if the argument is true,\n",
      " |      and the return value reflects whether the lock is acquired.\n",
      " |      The blocking operation is interruptible.\n",
      " |  \n",
      " |  acquire_lock(...)\n",
      " |      acquire(blocking=True, timeout=-1) -> bool\n",
      " |      (acquire_lock() is an obsolete synonym)\n",
      " |      \n",
      " |      Lock the lock.  Without argument, this blocks if the lock is already\n",
      " |      locked (even by the same thread), waiting for another thread to release\n",
      " |      the lock, and return True once the lock is acquired.\n",
      " |      With an argument, this will only block if the argument is true,\n",
      " |      and the return value reflects whether the lock is acquired.\n",
      " |      The blocking operation is interruptible.\n",
      " |  \n",
      " |  locked(...)\n",
      " |      locked() -> bool\n",
      " |      (locked_lock() is an obsolete synonym)\n",
      " |      \n",
      " |      Return whether the lock is in the locked state.\n",
      " |  \n",
      " |  locked_lock(...)\n",
      " |      locked() -> bool\n",
      " |      (locked_lock() is an obsolete synonym)\n",
      " |      \n",
      " |      Return whether the lock is in the locked state.\n",
      " |  \n",
      " |  release(...)\n",
      " |      release()\n",
      " |      (release_lock() is an obsolete synonym)\n",
      " |      \n",
      " |      Release the lock, allowing another thread that is blocked waiting for\n",
      " |      the lock to acquire the lock.  The lock must be in the locked state,\n",
      " |      but it needn't be locked by the same thread that unlocks it.\n",
      " |  \n",
      " |  release_lock(...)\n",
      " |      release()\n",
      " |      (release_lock() is an obsolete synonym)\n",
      " |      \n",
      " |      Release the lock, allowing another thread that is blocked waiting for\n",
      " |      the lock to acquire the lock.  The lock must be in the locked state,\n",
      " |      but it needn't be locked by the same thread that unlocks it.\n",
      "\n"
     ]
    }
   ],
   "source": [
    "help(threading.Lock())"
   ]
  },
  {
   "cell_type": "markdown",
   "metadata": {},
   "source": [
    "## Python线程同步机制: Locks, RLocks, Semaphores, Conditions, Events和Queues\n",
    "http://yoyzhou.github.io/blog/2013/02/28/python-threads-synchronization-locks/"
   ]
  },
  {
   "cell_type": "code",
   "execution_count": 34,
   "metadata": {},
   "outputs": [
    {
     "name": "stdout",
     "output_type": "stream",
     "text": [
      "Hello\n",
      "A\n",
      "Good day!\n",
      "Hello\n",
      "Good day!\n",
      "B\n",
      "C\n",
      "It's done!\n"
     ]
    }
   ],
   "source": [
    "# Set up a lock to synchronize the print statements\n",
    "lock = None #threading.Lock()\n",
    "\n",
    "# Set up two message printer objects\n",
    "mp1 = MessagePrinter(\"Hello\", \"Good day!\",\"Hello\", \"Good day!\", lock=lock)\n",
    "mp2 = MessagePrinter(\"A\", \"B\", \"C\", delay=3, lock=lock)\n",
    "\n",
    "# Start each of them on their own thread\n",
    "mp1.start()\n",
    "mp2.start()\n",
    "\n",
    "# Wait for those threads to exit before exiting the main thread\n",
    "mp1.join()\n",
    "mp2.join()\n",
    "\n",
    "print(\"It's done!\")"
   ]
  },
  {
   "cell_type": "code",
   "execution_count": 35,
   "metadata": {},
   "outputs": [
    {
     "name": "stdout",
     "output_type": "stream",
     "text": [
      "None\n"
     ]
    }
   ],
   "source": [
    "print(lock)"
   ]
  },
  {
   "cell_type": "code",
   "execution_count": 36,
   "metadata": {},
   "outputs": [],
   "source": [
    "lock"
   ]
  },
  {
   "cell_type": "markdown",
   "metadata": {},
   "source": [
    "### 現在要設 lock 了，就是利用 constructor\n",
    "threading.Lock()"
   ]
  },
  {
   "cell_type": "code",
   "execution_count": 37,
   "metadata": {},
   "outputs": [],
   "source": [
    "# Set up a lock to synchronize the print statements\n",
    "lock = threading.Lock()"
   ]
  },
  {
   "cell_type": "code",
   "execution_count": 38,
   "metadata": {},
   "outputs": [
    {
     "name": "stdout",
     "output_type": "stream",
     "text": [
      "<unlocked _thread.lock object at 0x0000019EB8F8F260>\n"
     ]
    }
   ],
   "source": [
    "print(lock)"
   ]
  },
  {
   "cell_type": "code",
   "execution_count": 39,
   "metadata": {},
   "outputs": [
    {
     "data": {
      "text/plain": [
       "False"
      ]
     },
     "execution_count": 39,
     "metadata": {},
     "output_type": "execute_result"
    }
   ],
   "source": [
    "lock == None"
   ]
  },
  {
   "cell_type": "code",
   "execution_count": 40,
   "metadata": {},
   "outputs": [
    {
     "data": {
      "text/plain": [
       "<unlocked _thread.lock object at 0x0000019EB8F8F260>"
      ]
     },
     "execution_count": 40,
     "metadata": {},
     "output_type": "execute_result"
    }
   ],
   "source": [
    "lock"
   ]
  },
  {
   "cell_type": "code",
   "execution_count": 41,
   "metadata": {},
   "outputs": [
    {
     "name": "stdout",
     "output_type": "stream",
     "text": [
      "<unlocked _thread.lock object at 0x0000019EB8F8F260> is used\n",
      "Hello\n",
      "A\n",
      "Good day!\n",
      "B\n",
      "Hello\n",
      "C\n",
      "Good day!\n",
      "A\n",
      "Hello\n",
      "B\n",
      "Good day!\n",
      "C\n",
      "Hello\n",
      "Good day!\n",
      "It's done!\n"
     ]
    }
   ],
   "source": [
    "# Set up two message printer objects\n",
    "# lock = threading.Lock()\n",
    "mp1 = MessagePrinter(\"Hello\", \"Good day!\",\"Hello\", \"Good day!\",\"Hello\", \"Good day!\",\"Hello\", \"Good day!\", lock=lock)\n",
    "mp2 = MessagePrinter(\"A\", \"B\", \"C\",\"A\", \"B\", \"C\", lock=lock)\n",
    "\n",
    "print(\"{} is used\".format(lock))\n",
    "# Start each of them on their own thread\n",
    "mp1.start()\n",
    "mp2.start()\n",
    "\n",
    "# Wait for those threads to exit before exiting the main thread\n",
    "mp1.join()\n",
    "mp2.join()\n",
    "print(\"It's done!\")"
   ]
  },
  {
   "cell_type": "markdown",
   "metadata": {},
   "source": [
    "## 以下好不容易出現！"
   ]
  },
  {
   "cell_type": "code",
   "execution_count": 47,
   "metadata": {},
   "outputs": [
    {
     "name": "stdout",
     "output_type": "stream",
     "text": [
      "None is used\n",
      "HelloA\n",
      "\n",
      "B\n",
      "Good day!\n",
      "C\n",
      "Hello\n",
      "AGood day!\n",
      "\n",
      "BHello\n",
      "\n",
      "Good day!\n",
      "C\n",
      "Hello\n",
      "A\n",
      "Good day!B\n",
      "\n",
      "CHello\n",
      "\n",
      "AGood day!\n",
      "\n",
      "B\n",
      "C\n",
      "It's done!\n"
     ]
    }
   ],
   "source": [
    "# Set up a lock to synchronize the print statements\n",
    "lock = None #threading.Lock()\n",
    "\n",
    "# Set up two message printer objects\n",
    "mp1 = MessagePrinter(\"Hello\", \"Good day!\",\"Hello\", \"Good day!\",\"Hello\", \"Good day!\",\"Hello\", \"Good day!\",\"Hello\", \"Good day!\", lock=lock)\n",
    "mp2 = MessagePrinter(\"A\", \"B\", \"C\",\"A\", \"B\", \"C\",\"A\", \"B\", \"C\",\"A\", \"B\", \"C\", lock=lock)\n",
    "\n",
    "\n",
    "print(\"{} is used\".format(lock))\n",
    "# Start each of them on their own thread\n",
    "mp1.start()\n",
    "mp2.start()\n",
    "\n",
    "# Wait for those threads to exit before exiting the main thread\n",
    "mp1.join()\n",
    "mp2.join()\n",
    "\n",
    "print(\"It's done!\")"
   ]
  },
  {
   "cell_type": "code",
   "execution_count": 42,
   "metadata": {},
   "outputs": [
    {
     "name": "stdout",
     "output_type": "stream",
     "text": [
      "None is used\n",
      "HelloA\n",
      "\n",
      "B\n",
      "Good day!\n",
      "C\n",
      "Hello\n",
      "A\n",
      "Good day!\n",
      "B\n",
      "Hello\n",
      "C\n",
      "Good day!\n",
      "AHello\n",
      "\n",
      "Good day!B\n",
      "\n",
      "C\n",
      "Hello\n",
      "A\n",
      "Good day!\n",
      "B\n",
      "C\n",
      "It's done!\n"
     ]
    }
   ],
   "source": [
    "# Set up a lock to synchronize the print statements\n",
    "lock = None #threading.Lock()\n",
    "\n",
    "# Set up two message printer objects\n",
    "mp1 = MessagePrinter(\"Hello\", \"Good day!\",\"Hello\", \"Good day!\",\"Hello\", \"Good day!\",\"Hello\", \"Good day!\",\"Hello\", \"Good day!\", lock=lock)\n",
    "mp2 = MessagePrinter(\"A\", \"B\", \"C\",\"A\", \"B\", \"C\",\"A\", \"B\", \"C\",\"A\", \"B\", \"C\", lock=lock)\n",
    "\n",
    "\n",
    "print(\"{} is used\".format(lock))\n",
    "# Start each of them on their own thread\n",
    "mp1.start()\n",
    "mp2.start()\n",
    "\n",
    "# Wait for those threads to exit before exiting the main thread\n",
    "mp1.join()\n",
    "mp2.join()\n",
    "\n",
    "print(\"It's done!\")"
   ]
  },
  {
   "cell_type": "code",
   "execution_count": 43,
   "metadata": {},
   "outputs": [
    {
     "name": "stdout",
     "output_type": "stream",
     "text": [
      "<unlocked _thread.lock object at 0x0000019EB8F8FAF8> is used\n",
      "Hello\n",
      "A\n",
      "Good day!\n",
      "B\n",
      "Hello\n",
      "C\n",
      "Good day!\n",
      "A\n",
      "Hello\n",
      "B\n",
      "Good day!\n",
      "C\n",
      "Hello\n",
      "A\n",
      "Good day!\n",
      "B\n",
      "Hello\n",
      "C\n",
      "Good day!\n",
      "A\n",
      "B\n",
      "C\n",
      "It's done!\n"
     ]
    }
   ],
   "source": [
    "# Set up a lock to synchronize the print statements\n",
    "lock = threading.Lock()\n",
    "\n",
    "# Set up two message printer objects\n",
    "mp1 = MessagePrinter(\"Hello\", \"Good day!\",\"Hello\", \"Good day!\",\"Hello\", \"Good day!\",\"Hello\", \"Good day!\",\"Hello\", \"Good day!\", lock=lock)\n",
    "mp2 = MessagePrinter(\"A\", \"B\", \"C\",\"A\", \"B\", \"C\",\"A\", \"B\", \"C\",\"A\", \"B\", \"C\", lock=lock)\n",
    "\n",
    "\n",
    "print(\"{} is used\".format(lock))\n",
    "# Start each of them on their own thread\n",
    "mp1.start()\n",
    "mp2.start()\n",
    "\n",
    "# Wait for those threads to exit before exiting the main thread\n",
    "mp1.join()\n",
    "mp2.join()\n",
    "\n",
    "print(\"It's done!\")"
   ]
  },
  {
   "cell_type": "code",
   "execution_count": null,
   "metadata": {},
   "outputs": [],
   "source": []
  },
  {
   "cell_type": "markdown",
   "metadata": {},
   "source": [
    "## 為了要看到 lock 的 aquire() 以及 release() 的狀況。\n",
    "以下，我們特別加上 logging，每當 thread 要進出 console 時，就讓他從 console 列印出來"
   ]
  },
  {
   "cell_type": "code",
   "execution_count": 44,
   "metadata": {},
   "outputs": [],
   "source": [
    "'''\n",
    "我們特別在每次要「進出關鍵區域」時，特別來看 lock 的 aquire() 與 release()\n",
    "'''\n",
    "import logging\n",
    "import threading\n",
    "import time\n",
    "\n",
    "class MessagePrinterWithTS(threading.Thread):\n",
    "    \"\"\"\n",
    "    A simple class to print messages to the log a a given interval.\n",
    "    \"\"\"\n",
    "    \n",
    "    def __init__(self, *args, **kwargs):\n",
    "        threading.Thread.__init__(self)\n",
    "        self._args = args\n",
    "        self._kwargs = kwargs\n",
    "        self._lock = kwargs.get(\"lock\", None)\n",
    "\n",
    "    def run(self):\n",
    "        for message in self._args:\n",
    "            # If we have a lock object then try to acquire the lock first\n",
    "            \n",
    "            logging.info(\"to get the lock\") #我自己加入這行 \n",
    "            \n",
    "            if self._lock:\n",
    "                self._lock.acquire()\n",
    "                \n",
    "            logging.info(\"Just got the lock \" + str(lock)) #我自己加入這行  \n",
    "            \n",
    "            time.sleep(self._kwargs.get(\"delay\", 0.3))\n",
    "            print(message)\n",
    "\n",
    "            logging.info(message) #我自己加入這行    \n",
    "                        \n",
    "            # If we have a lock object then now release it\n",
    "            if self._lock:\n",
    "                self._lock.release()\n",
    "            \n",
    "            logging.info(\"Unlcoked the lock \" + str(lock)) #我自己加入這行  \n",
    "            \n",
    "            time.sleep(self._kwargs.get(\"delay\", 1.0))"
   ]
  },
  {
   "cell_type": "code",
   "execution_count": 45,
   "metadata": {},
   "outputs": [],
   "source": [
    "logging.basicConfig(level=logging.INFO,\n",
    "                    format=\"%(asctime)s (T:%(thread)d):- %(message)s\")"
   ]
  },
  {
   "cell_type": "code",
   "execution_count": 46,
   "metadata": {},
   "outputs": [
    {
     "name": "stderr",
     "output_type": "stream",
     "text": [
      "2020-10-13 15:29:19,258 (T:6748):- to get the lock\n",
      "2020-10-13 15:29:19,269 (T:3052):- to get the lock\n",
      "2020-10-13 15:29:19,270 (T:6748):- Just got the lock <locked _thread.lock object at 0x0000019EB8F8F8F0>\n"
     ]
    },
    {
     "name": "stdout",
     "output_type": "stream",
     "text": [
      "<unlocked _thread.lock object at 0x0000019EB8F8F8F0> is used\n"
     ]
    },
    {
     "name": "stderr",
     "output_type": "stream",
     "text": [
      "2020-10-13 15:29:19,583 (T:6748):- Hello\n",
      "2020-10-13 15:29:19,585 (T:6748):- Unlcoked the lock <unlocked _thread.lock object at 0x0000019EB8F8F8F0>\n",
      "2020-10-13 15:29:19,585 (T:3052):- Just got the lock <locked _thread.lock object at 0x0000019EB8F8F8F0>\n"
     ]
    },
    {
     "name": "stdout",
     "output_type": "stream",
     "text": [
      "Hello\n"
     ]
    },
    {
     "name": "stderr",
     "output_type": "stream",
     "text": [
      "2020-10-13 15:29:19,889 (T:3052):- A\n",
      "2020-10-13 15:29:19,890 (T:3052):- Unlcoked the lock <unlocked _thread.lock object at 0x0000019EB8F8F8F0>\n"
     ]
    },
    {
     "name": "stdout",
     "output_type": "stream",
     "text": [
      "A\n"
     ]
    },
    {
     "name": "stderr",
     "output_type": "stream",
     "text": [
      "2020-10-13 15:29:20,587 (T:6748):- to get the lock\n",
      "2020-10-13 15:29:20,588 (T:6748):- Just got the lock <locked _thread.lock object at 0x0000019EB8F8F8F0>\n",
      "2020-10-13 15:29:20,889 (T:6748):- Good day!\n",
      "2020-10-13 15:29:20,890 (T:6748):- Unlcoked the lock <unlocked _thread.lock object at 0x0000019EB8F8F8F0>\n",
      "2020-10-13 15:29:20,891 (T:3052):- to get the lock\n",
      "2020-10-13 15:29:20,897 (T:3052):- Just got the lock <locked _thread.lock object at 0x0000019EB8F8F8F0>\n"
     ]
    },
    {
     "name": "stdout",
     "output_type": "stream",
     "text": [
      "Good day!\n"
     ]
    },
    {
     "name": "stderr",
     "output_type": "stream",
     "text": [
      "2020-10-13 15:29:21,199 (T:3052):- B\n",
      "2020-10-13 15:29:21,201 (T:3052):- Unlcoked the lock <unlocked _thread.lock object at 0x0000019EB8F8F8F0>\n"
     ]
    },
    {
     "name": "stdout",
     "output_type": "stream",
     "text": [
      "B\n"
     ]
    },
    {
     "name": "stderr",
     "output_type": "stream",
     "text": [
      "2020-10-13 15:29:21,894 (T:6748):- to get the lock\n",
      "2020-10-13 15:29:21,897 (T:6748):- Just got the lock <locked _thread.lock object at 0x0000019EB8F8F8F0>\n",
      "2020-10-13 15:29:22,198 (T:6748):- Hello\n",
      "2020-10-13 15:29:22,200 (T:6748):- Unlcoked the lock <unlocked _thread.lock object at 0x0000019EB8F8F8F0>\n",
      "2020-10-13 15:29:22,203 (T:3052):- to get the lock\n",
      "2020-10-13 15:29:22,203 (T:3052):- Just got the lock <locked _thread.lock object at 0x0000019EB8F8F8F0>\n"
     ]
    },
    {
     "name": "stdout",
     "output_type": "stream",
     "text": [
      "Hello\n"
     ]
    },
    {
     "name": "stderr",
     "output_type": "stream",
     "text": [
      "2020-10-13 15:29:22,505 (T:3052):- C\n",
      "2020-10-13 15:29:22,505 (T:3052):- Unlcoked the lock <unlocked _thread.lock object at 0x0000019EB8F8F8F0>\n"
     ]
    },
    {
     "name": "stdout",
     "output_type": "stream",
     "text": [
      "C\n"
     ]
    },
    {
     "name": "stderr",
     "output_type": "stream",
     "text": [
      "2020-10-13 15:29:23,201 (T:6748):- to get the lock\n",
      "2020-10-13 15:29:23,201 (T:6748):- Just got the lock <locked _thread.lock object at 0x0000019EB8F8F8F0>\n",
      "2020-10-13 15:29:23,504 (T:6748):- Good day!\n",
      "2020-10-13 15:29:23,504 (T:6748):- Unlcoked the lock <unlocked _thread.lock object at 0x0000019EB8F8F8F0>\n",
      "2020-10-13 15:29:23,506 (T:3052):- to get the lock\n",
      "2020-10-13 15:29:23,506 (T:3052):- Just got the lock <locked _thread.lock object at 0x0000019EB8F8F8F0>\n"
     ]
    },
    {
     "name": "stdout",
     "output_type": "stream",
     "text": [
      "Good day!\n"
     ]
    },
    {
     "name": "stderr",
     "output_type": "stream",
     "text": [
      "2020-10-13 15:29:23,810 (T:3052):- A\n",
      "2020-10-13 15:29:23,812 (T:3052):- Unlcoked the lock <unlocked _thread.lock object at 0x0000019EB8F8F8F0>\n"
     ]
    },
    {
     "name": "stdout",
     "output_type": "stream",
     "text": [
      "A\n"
     ]
    },
    {
     "name": "stderr",
     "output_type": "stream",
     "text": [
      "2020-10-13 15:29:24,507 (T:6748):- to get the lock\n",
      "2020-10-13 15:29:24,509 (T:6748):- Just got the lock <locked _thread.lock object at 0x0000019EB8F8F8F0>\n",
      "2020-10-13 15:29:24,813 (T:6748):- Hello\n",
      "2020-10-13 15:29:24,814 (T:3052):- to get the lock\n",
      "2020-10-13 15:29:24,814 (T:6748):- Unlcoked the lock <unlocked _thread.lock object at 0x0000019EB8F8F8F0>\n",
      "2020-10-13 15:29:24,815 (T:3052):- Just got the lock <locked _thread.lock object at 0x0000019EB8F8F8F0>\n"
     ]
    },
    {
     "name": "stdout",
     "output_type": "stream",
     "text": [
      "Hello\n"
     ]
    },
    {
     "name": "stderr",
     "output_type": "stream",
     "text": [
      "2020-10-13 15:29:25,117 (T:3052):- B\n",
      "2020-10-13 15:29:25,118 (T:3052):- Unlcoked the lock <unlocked _thread.lock object at 0x0000019EB8F8F8F0>\n"
     ]
    },
    {
     "name": "stdout",
     "output_type": "stream",
     "text": [
      "B\n"
     ]
    },
    {
     "name": "stderr",
     "output_type": "stream",
     "text": [
      "2020-10-13 15:29:25,817 (T:6748):- to get the lock\n",
      "2020-10-13 15:29:25,818 (T:6748):- Just got the lock <locked _thread.lock object at 0x0000019EB8F8F8F0>\n",
      "2020-10-13 15:29:26,119 (T:3052):- to get the lock\n",
      "2020-10-13 15:29:26,119 (T:6748):- Good day!\n",
      "2020-10-13 15:29:26,120 (T:6748):- Unlcoked the lock <unlocked _thread.lock object at 0x0000019EB8F8F8F0>\n",
      "2020-10-13 15:29:26,120 (T:3052):- Just got the lock <locked _thread.lock object at 0x0000019EB8F8F8F0>\n"
     ]
    },
    {
     "name": "stdout",
     "output_type": "stream",
     "text": [
      "Good day!\n"
     ]
    },
    {
     "name": "stderr",
     "output_type": "stream",
     "text": [
      "2020-10-13 15:29:26,423 (T:3052):- C\n",
      "2020-10-13 15:29:26,424 (T:3052):- Unlcoked the lock <unlocked _thread.lock object at 0x0000019EB8F8F8F0>\n"
     ]
    },
    {
     "name": "stdout",
     "output_type": "stream",
     "text": [
      "C\n"
     ]
    },
    {
     "name": "stderr",
     "output_type": "stream",
     "text": [
      "2020-10-13 15:29:27,122 (T:6748):- to get the lock\n",
      "2020-10-13 15:29:27,127 (T:6748):- Just got the lock <locked _thread.lock object at 0x0000019EB8F8F8F0>\n",
      "2020-10-13 15:29:27,427 (T:3052):- to get the lock\n",
      "2020-10-13 15:29:27,432 (T:6748):- Hello\n",
      "2020-10-13 15:29:27,433 (T:6748):- Unlcoked the lock <unlocked _thread.lock object at 0x0000019EB8F8F8F0>\n",
      "2020-10-13 15:29:27,433 (T:3052):- Just got the lock <locked _thread.lock object at 0x0000019EB8F8F8F0>\n"
     ]
    },
    {
     "name": "stdout",
     "output_type": "stream",
     "text": [
      "Hello\n"
     ]
    },
    {
     "name": "stderr",
     "output_type": "stream",
     "text": [
      "2020-10-13 15:29:27,736 (T:3052):- A\n",
      "2020-10-13 15:29:27,738 (T:3052):- Unlcoked the lock <unlocked _thread.lock object at 0x0000019EB8F8F8F0>\n"
     ]
    },
    {
     "name": "stdout",
     "output_type": "stream",
     "text": [
      "A\n"
     ]
    },
    {
     "name": "stderr",
     "output_type": "stream",
     "text": [
      "2020-10-13 15:29:28,435 (T:6748):- to get the lock\n",
      "2020-10-13 15:29:28,435 (T:6748):- Just got the lock <locked _thread.lock object at 0x0000019EB8F8F8F0>\n",
      "2020-10-13 15:29:28,737 (T:6748):- Good day!\n",
      "2020-10-13 15:29:28,737 (T:6748):- Unlcoked the lock <unlocked _thread.lock object at 0x0000019EB8F8F8F0>\n",
      "2020-10-13 15:29:28,740 (T:3052):- to get the lock\n",
      "2020-10-13 15:29:28,743 (T:3052):- Just got the lock <locked _thread.lock object at 0x0000019EB8F8F8F0>\n"
     ]
    },
    {
     "name": "stdout",
     "output_type": "stream",
     "text": [
      "Good day!\n"
     ]
    },
    {
     "name": "stderr",
     "output_type": "stream",
     "text": [
      "2020-10-13 15:29:29,048 (T:3052):- B\n",
      "2020-10-13 15:29:29,049 (T:3052):- Unlcoked the lock <unlocked _thread.lock object at 0x0000019EB8F8F8F0>\n"
     ]
    },
    {
     "name": "stdout",
     "output_type": "stream",
     "text": [
      "B\n"
     ]
    },
    {
     "name": "stderr",
     "output_type": "stream",
     "text": [
      "2020-10-13 15:29:29,739 (T:6748):- to get the lock\n",
      "2020-10-13 15:29:29,739 (T:6748):- Just got the lock <locked _thread.lock object at 0x0000019EB8F8F8F0>\n",
      "2020-10-13 15:29:30,040 (T:6748):- Hello\n",
      "2020-10-13 15:29:30,044 (T:6748):- Unlcoked the lock <unlocked _thread.lock object at 0x0000019EB8F8F8F0>\n",
      "2020-10-13 15:29:30,050 (T:3052):- to get the lock\n",
      "2020-10-13 15:29:30,051 (T:3052):- Just got the lock <locked _thread.lock object at 0x0000019EB8F8F8F0>\n"
     ]
    },
    {
     "name": "stdout",
     "output_type": "stream",
     "text": [
      "Hello\n"
     ]
    },
    {
     "name": "stderr",
     "output_type": "stream",
     "text": [
      "2020-10-13 15:29:30,352 (T:3052):- C\n",
      "2020-10-13 15:29:30,352 (T:3052):- Unlcoked the lock <unlocked _thread.lock object at 0x0000019EB8F8F8F0>\n"
     ]
    },
    {
     "name": "stdout",
     "output_type": "stream",
     "text": [
      "C\n"
     ]
    },
    {
     "name": "stderr",
     "output_type": "stream",
     "text": [
      "2020-10-13 15:29:31,047 (T:6748):- to get the lock\n",
      "2020-10-13 15:29:31,049 (T:6748):- Just got the lock <locked _thread.lock object at 0x0000019EB8F8F8F0>\n",
      "2020-10-13 15:29:31,351 (T:6748):- Good day!\n",
      "2020-10-13 15:29:31,352 (T:6748):- Unlcoked the lock <unlocked _thread.lock object at 0x0000019EB8F8F8F0>\n",
      "2020-10-13 15:29:31,353 (T:3052):- to get the lock\n",
      "2020-10-13 15:29:31,354 (T:3052):- Just got the lock <locked _thread.lock object at 0x0000019EB8F8F8F0>\n"
     ]
    },
    {
     "name": "stdout",
     "output_type": "stream",
     "text": [
      "Good day!\n"
     ]
    },
    {
     "name": "stderr",
     "output_type": "stream",
     "text": [
      "2020-10-13 15:29:31,655 (T:3052):- A\n",
      "2020-10-13 15:29:31,655 (T:3052):- Unlcoked the lock <unlocked _thread.lock object at 0x0000019EB8F8F8F0>\n"
     ]
    },
    {
     "name": "stdout",
     "output_type": "stream",
     "text": [
      "A\n"
     ]
    },
    {
     "name": "stderr",
     "output_type": "stream",
     "text": [
      "2020-10-13 15:29:32,657 (T:3052):- to get the lock\n",
      "2020-10-13 15:29:32,662 (T:3052):- Just got the lock <locked _thread.lock object at 0x0000019EB8F8F8F0>\n",
      "2020-10-13 15:29:32,965 (T:3052):- B\n",
      "2020-10-13 15:29:32,966 (T:3052):- Unlcoked the lock <unlocked _thread.lock object at 0x0000019EB8F8F8F0>\n"
     ]
    },
    {
     "name": "stdout",
     "output_type": "stream",
     "text": [
      "B\n"
     ]
    },
    {
     "name": "stderr",
     "output_type": "stream",
     "text": [
      "2020-10-13 15:29:33,968 (T:3052):- to get the lock\n",
      "2020-10-13 15:29:33,969 (T:3052):- Just got the lock <locked _thread.lock object at 0x0000019EB8F8F8F0>\n",
      "2020-10-13 15:29:34,270 (T:3052):- C\n",
      "2020-10-13 15:29:34,270 (T:3052):- Unlcoked the lock <unlocked _thread.lock object at 0x0000019EB8F8F8F0>\n"
     ]
    },
    {
     "name": "stdout",
     "output_type": "stream",
     "text": [
      "C\n",
      "It's done!\n"
     ]
    }
   ],
   "source": [
    "lock = threading.Lock()\n",
    "\n",
    "# Set up two message printer objects\n",
    "mp1 = MessagePrinterWithTS(\"Hello\", \"Good day!\",\"Hello\", \"Good day!\",\"Hello\", \"Good day!\",\"Hello\", \"Good day!\",\"Hello\", \"Good day!\", lock=lock)\n",
    "mp2 = MessagePrinterWithTS(\"A\", \"B\", \"C\",\"A\", \"B\", \"C\",\"A\", \"B\", \"C\",\"A\", \"B\", \"C\", lock=lock)\n",
    "\n",
    "\n",
    "print(\"{} is used\".format(lock))\n",
    "\n",
    "# Start each of them on their own thread\n",
    "mp1.start()\n",
    "mp2.start()\n",
    "\n",
    "# Wait for those threads to exit before exiting the main thread\n",
    "mp1.join()\n",
    "mp2.join()\n",
    "\n",
    "print(\"It's done!\")"
   ]
  },
  {
   "cell_type": "code",
   "execution_count": null,
   "metadata": {},
   "outputs": [],
   "source": []
  }
 ],
 "metadata": {
  "kernelspec": {
   "display_name": "Python 3",
   "language": "python",
   "name": "python3"
  },
  "language_info": {
   "codemirror_mode": {
    "name": "ipython",
    "version": 3
   },
   "file_extension": ".py",
   "mimetype": "text/x-python",
   "name": "python",
   "nbconvert_exporter": "python",
   "pygments_lexer": "ipython3",
   "version": "3.7.1"
  }
 },
 "nbformat": 4,
 "nbformat_minor": 2
}
