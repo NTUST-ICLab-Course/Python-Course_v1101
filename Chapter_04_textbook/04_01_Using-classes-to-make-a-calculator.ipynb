{
 "cells": [
  {
   "cell_type": "markdown",
   "metadata": {},
   "source": [
    "# Chapter 4: Object Oriented Programming\n",
    "2020-10-12\n",
    "\n",
    "## 1. Using classes to make a calculator\n",
    "- python裡面所有的類別最原始就是 object (instance)\n",
    "- instance attributes and class attributes\n",
    "- importing Modules and Exploring The Standard Library\n",
    "- running a python.py within jupyter notebook\n",
    "- checking properties of an instance (object) and a class\n",
    "- implementing a calculator that performs simple arithmetic operations"
   ]
  },
  {
   "cell_type": "code",
   "execution_count": 1,
   "metadata": {},
   "outputs": [
    {
     "name": "stdout",
     "output_type": "stream",
     "text": [
      "D:\\Google雲端硬碟\\GettingStartedWithPythonAndRaspberryPi-book_release\\Chapter04\n"
     ]
    }
   ],
   "source": [
    "%cd \"D:\\Google雲端硬碟\\GettingStartedWithPythonAndRaspberryPi-book_release\\Chapter04\""
   ]
  },
  {
   "cell_type": "markdown",
   "metadata": {},
   "source": [
    "## 小算盤\n",
    "\n",
    "以下的示例是實現一個小算盤，\n",
    "功用就是支援：+、-、\\*、/ 四則運算的陽春計算器。\n",
    "我們可以依序輸入：\n",
    "\n",
    " 1 + 9 \\* 5 / 20 =\n",
    "\n",
    "然後算出結果。\n",
    "\n",
    "我們會兩個 classes:\n",
    "1. Calculator\n",
    "2. Operation\n",
    "其中 Calculator 會調用 Operation 來完成四則運算。"
   ]
  },
  {
   "cell_type": "markdown",
   "metadata": {},
   "source": [
    "## 計算器\n",
    "https://www.google.com/search?q=%E8%A8%88%E7%AE%97%E5%99%A8&oq=&aqs=chrome.1.69i59i450l8.72238025j0j15&sourceid=chrome&ie=UTF-8"
   ]
  },
  {
   "cell_type": "code",
   "execution_count": 2,
   "metadata": {
    "scrolled": true
   },
   "outputs": [
    {
     "name": "stdout",
     "output_type": "stream",
     "text": [
      " 磁碟區 D 中的磁碟是 新增磁碟區\n",
      " 磁碟區序號:  E422-9B08\n",
      "\n",
      " D:\\Google雲端硬碟\\GettingStartedWithPythonAndRaspberryPi-book_release\\Chapter04 的目錄\n",
      "\n",
      "2020/10/12  下午 02:25    <DIR>          .\n",
      "2020/10/12  下午 02:25    <DIR>          ..\n",
      "2020/10/12  上午 08:56    <DIR>          .ipynb_checkpoints\n",
      "2018/03/13  上午 03:09                 0 __init__.py\n",
      "2018/03/13  上午 03:09               108 __init__.pyc\n",
      "2019/09/26  下午 04:45    <DIR>          __pycache__\n",
      "2020/10/12  下午 02:25            45,552 §04_01_Using classes to make a calculator.ipynb\n",
      "2020/10/12  下午 01:32            48,129 §04_02_Inheritance.ipynb\n",
      "2019/09/26  下午 04:45    <DIR>          calculator\n",
      "2020/10/12  下午 01:33             1,992 Chapter_04_Read_me.ipynb\n",
      "2020/10/09  下午 10:35            46,233 Chapter04_01_ClassAndObject.ipynb\n",
      "2020/10/10  上午 12:05           107,279 Chapter04_01_Making a Calculator.ipynb\n",
      "2020/10/12  下午 02:12            91,257 Chapter04_03_Thread and Lock.ipynb\n",
      "2020/10/11  下午 01:01            98,029 Chapter04_03_Thread.ipynb\n",
      "2019/09/28  上午 10:01               260 do_calculation.py\n",
      "2019/03/25  上午 08:18               989 Inheritance.py\n",
      "2019/03/25  上午 10:58             1,644 Inheritance.pyc\n",
      "2020/10/11  下午 01:28               237 logging.txt\n",
      "2020/10/06  下午 11:17           108,981 ?04 Corey Schafer Python OOP Tutorials.ipynb\n",
      "2019/09/29  下午 08:45               651 readmeCh04.txt\n",
      "2020/10/09  上午 09:51            25,548 Supplemented materials from Corey Shafer's YouTube.ipynb\n",
      "2019/04/01  上午 05:25               907 Threading.py\n",
      "2019/10/14  上午 08:22             1,040 Threading.pyc\n",
      "2019/04/01  上午 05:32             1,183 Threading_Locks.py\n",
      "2019/03/30  下午 03:19             1,276 Threading_Locks.pyc\n",
      "              20 個檔案         581,295 位元組\n",
      "               5 個目錄  896,144,863,232 位元組可用\n"
     ]
    }
   ],
   "source": [
    "%ls"
   ]
  },
  {
   "cell_type": "markdown",
   "metadata": {},
   "source": [
    "## 每個計算，可視為輸入一串：數字(-運算-數字)^\\* = 的結果\n",
    "如： 1 + 9 * 5 / 20 ="
   ]
  },
  {
   "cell_type": "code",
   "execution_count": 3,
   "metadata": {},
   "outputs": [],
   "source": [
    "%more do_calculation.py"
   ]
  },
  {
   "cell_type": "code",
   "execution_count": 4,
   "metadata": {},
   "outputs": [],
   "source": [
    "# 執行在 calculator 目錄底下的 Calculator.py 的程式\n",
    "%run calculator/Calculator.py"
   ]
  },
  {
   "cell_type": "code",
   "execution_count": 5,
   "metadata": {},
   "outputs": [
    {
     "name": "stdout",
     "output_type": "stream",
     "text": [
      "Variable     Type    Data/Info\n",
      "------------------------------\n",
      "Calculator   type    <class '__main__.Calculator'>\n",
      "Operation    type    <class 'Operation.Operation'>\n"
     ]
    }
   ],
   "source": [
    "'''\n",
    "當執行 Calculator.py 時，因為第一行的指令是：\n",
    "\n",
    "from Operation import Operation\n",
    "\n",
    "所以，也同時將 Operation.py 給執行了\n",
    "'''\n",
    "'''\n",
    "%whos #檢視當前變數,型別，資訊\n",
    "'''\n",
    "%whos"
   ]
  },
  {
   "cell_type": "code",
   "execution_count": 6,
   "metadata": {},
   "outputs": [
    {
     "name": "stdout",
     "output_type": "stream",
     "text": [
      "Help on class Calculator in module __main__:\n",
      "\n",
      "class Calculator(builtins.object)\n",
      " |  Methods defined here:\n",
      " |  \n",
      " |  all_clear(self)\n",
      " |  \n",
      " |  enter_operation(self, operation_name)\n",
      " |  \n",
      " |  enter_value(self, value)\n",
      " |  \n",
      " |  evaluate(self)\n",
      " |  \n",
      " |  get_result(self)\n",
      " |  \n",
      " |  ----------------------------------------------------------------------\n",
      " |  Data descriptors defined here:\n",
      " |  \n",
      " |  __dict__\n",
      " |      dictionary for instance variables (if defined)\n",
      " |  \n",
      " |  __weakref__\n",
      " |      list of weak references to the object (if defined)\n",
      "\n"
     ]
    }
   ],
   "source": [
    "help(Calculator)"
   ]
  },
  {
   "cell_type": "markdown",
   "metadata": {},
   "source": [
    "### 特性名稱空間\n",
    "\n",
    "一個事實是：類別（Class）或實例（Instance）本身的作用是作為特性（Property）的名稱空間（Namespace）。類別或實例本身會擁有一個__dict__特性參考至一個字典物件，其中記錄著類別或實例所擁有的特性。\n",
    "https://openhome.cc/Gossip/Python/PropertyNameSpace.html"
   ]
  },
  {
   "cell_type": "code",
   "execution_count": 8,
   "metadata": {},
   "outputs": [
    {
     "data": {
      "text/plain": [
       "mappingproxy({'__module__': '__main__',\n",
       "              '_input_list': [],\n",
       "              '_result': 0.0,\n",
       "              'enter_value': <function __main__.Calculator.enter_value(self, value)>,\n",
       "              'enter_operation': <function __main__.Calculator.enter_operation(self, operation_name)>,\n",
       "              'evaluate': <function __main__.Calculator.evaluate(self)>,\n",
       "              'get_result': <function __main__.Calculator.get_result(self)>,\n",
       "              'all_clear': <function __main__.Calculator.all_clear(self)>,\n",
       "              '__dict__': <attribute '__dict__' of 'Calculator' objects>,\n",
       "              '__weakref__': <attribute '__weakref__' of 'Calculator' objects>,\n",
       "              '__doc__': None})"
      ]
     },
     "execution_count": 8,
     "metadata": {},
     "output_type": "execute_result"
    }
   ],
   "source": [
    "Calculator.__dict__"
   ]
  },
  {
   "cell_type": "markdown",
   "metadata": {},
   "source": [
    "## 關於 Calculator 的幾項觀察：\n",
    "1. 第一行：\n",
    "   - from Operation import Operation\n",
    "   \n",
    "   → 其實也把同目錄底下的 Operation.py 給執行了一遍\n",
    "2. 兩項 attributes 都是 class attributes: \n",
    "    - _input_list\n",
    "    - _result\n",
    "    \n",
    "    → 這兩個 attributes 是同一個 class 中的各 instance 都共用，除非自己另外宣告。\n",
    "3. 並沒有寫 constructor 的: \\__init\\__(self,...) \n",
    "   \n",
    "   → 所有的instances 都共用這兩個 attributes，除非是另外原別 override"
   ]
  },
  {
   "cell_type": "code",
   "execution_count": 9,
   "metadata": {},
   "outputs": [],
   "source": [
    "%more calculator/Calculator.py"
   ]
  },
  {
   "cell_type": "markdown",
   "metadata": {},
   "source": [
    "### 因為 from Operation import Operation，所以，連同 Operation.py 也一併讀進來。"
   ]
  },
  {
   "cell_type": "code",
   "execution_count": 10,
   "metadata": {},
   "outputs": [],
   "source": [
    "#%run calculator/Operation.py"
   ]
  },
  {
   "cell_type": "code",
   "execution_count": 11,
   "metadata": {},
   "outputs": [
    {
     "name": "stdout",
     "output_type": "stream",
     "text": [
      "Help on class Operation in module Operation:\n",
      "\n",
      "class Operation(builtins.object)\n",
      " |  Operation(name)\n",
      " |  \n",
      " |  Methods defined here:\n",
      " |  \n",
      " |  __init__(self, name)\n",
      " |      Initialize self.  See help(type(self)) for accurate signature.\n",
      " |  \n",
      " |  evaluate(self, a, b)\n",
      " |  \n",
      " |  ----------------------------------------------------------------------\n",
      " |  Data descriptors defined here:\n",
      " |  \n",
      " |  __dict__\n",
      " |      dictionary for instance variables (if defined)\n",
      " |  \n",
      " |  __weakref__\n",
      " |      list of weak references to the object (if defined)\n",
      "\n"
     ]
    }
   ],
   "source": [
    "help(Operation)"
   ]
  },
  {
   "cell_type": "markdown",
   "metadata": {},
   "source": [
    "## 關於 Operation 的幾個觀察：\n",
    "1. 這個 class 有 constructor 的 \\__init\\__()\n",
    "2. 對於這個 attribute: \\_operation 雖然有被宣告為 class variable，但因為在 \\__.init.\\__ 中，馬上會有 self.\\_operation = name 的指令，所以其實是 instance attribute. \n"
   ]
  },
  {
   "cell_type": "markdown",
   "metadata": {},
   "source": [
    "## Calculator 會調用到 Operation 的物件。另外，\n",
    "## 在兩個類別中都有定義各別的 evaluate()：\n",
    "\n",
    "- evaluate(self) in Calculator，是取出 \\_input\\_list 中的 {數字-運算物件-數字} 來按 {運算物件} 的類別，進行四則運算。\n",
    "- evaluate(self, a, b) in Operation，是按 self 的資性，針對 a 與 b 進行運算。"
   ]
  },
  {
   "cell_type": "code",
   "execution_count": 12,
   "metadata": {},
   "outputs": [],
   "source": [
    "%more calculator/Calculator.py"
   ]
  },
  {
   "cell_type": "markdown",
   "metadata": {},
   "source": [
    "```python:\n",
    "from Operation import Operation\n",
    "\n",
    "class Calculator(object):\n",
    "    _input_list = list()\n",
    "    _result = 0.0\n",
    "\n",
    "    def enter_value(self, value):\n",
    "        if len(self._input_list) > 0 and not isinstance(self._input_list[-1], Operation):\n",
    "            raise RuntimeError(\"Must enter an operation next\")\n",
    "        self._input_list.append(float(value))\n",
    "\n",
    "    def enter_operation(self, operation_name):\n",
    "        if len(self._input_list) == 0 or isinstance(self._input_list[-1], Operation):\n",
    "            raise RuntimeError(\"Must enter a value next\")\n",
    "        self._input_list.append(Operation(operation_name))\n",
    "\n",
    "    def evaluate(self):\n",
    "        self._result = self._input_list[0]\n",
    "        for idx in range(1, len(self._input_list), 2):\n",
    "            operation = self._input_list[idx]\n",
    "            next_value = self._input_list[idx + 1]\n",
    "            self._result = operation.evaluate(self._result, next_value)\n",
    "\n",
    "        return self._result\n",
    "\n",
    "    def get_result(self):\n",
    "        return self._result\n",
    "\n",
    "    def all_clear(self):\n",
    "        self._input_list = list()\n",
    "        self._result = 0.0\n",
    "```"
   ]
  },
  {
   "cell_type": "code",
   "execution_count": 13,
   "metadata": {},
   "outputs": [],
   "source": [
    "%more calculator/Operation.py"
   ]
  },
  {
   "cell_type": "markdown",
   "metadata": {},
   "source": [
    "```python:\n",
    "class Operation(object):\n",
    "    _operation = None\n",
    "\n",
    "    def __init__(self, name):\n",
    "        if name not in [\"add\", \"subtract\", \"multiply\", \"divide\"]:\n",
    "            raise ValueError(\"%s is not a valid operation\" % (name))\n",
    "        self._operation = name\n",
    "\n",
    "    def evaluate(self, a, b):\n",
    "        if self._operation == \"add\":\n",
    "            return a + b\n",
    "        elif self._operation == \"subtract\":\n",
    "            return a - b\n",
    "        elif self._operation == \"multiply\":\n",
    "            return a * b\n",
    "        elif self._operation == \"divide\":\n",
    "            return a / b\n",
    "```"
   ]
  },
  {
   "cell_type": "markdown",
   "metadata": {},
   "source": [
    "## 物件的利用：\n",
    "1. 通常可為其他的程式 (或叫作 script) 調用，如 do_calculatio.py \n",
    "2. 也可為其他類別的物件調用，如 Calculator 會調用 Operation"
   ]
  },
  {
   "cell_type": "code",
   "execution_count": 14,
   "metadata": {},
   "outputs": [
    {
     "name": "stdout",
     "output_type": "stream",
     "text": [
      "2.5\n"
     ]
    }
   ],
   "source": [
    "'''\n",
    "!more do_calculation.py\n",
    "\n",
    "我們介紹一個 do_calculation.py，\n",
    "它可以視為一個 script (可看成 driver)，\n",
    "調用到： Operator 以及 Calculator 這兩個當作 resource 的類別。\n",
    "\n",
    "我們想要作的計算是 1 + 9 * 5 / 20 =\n",
    "'''\n",
    "from calculator.Calculator import Calculator\n",
    "\n",
    "c = Calculator() # instantiation \n",
    "# c.all_clear()  # 課本本來沒有\n",
    "c.enter_value(1)\n",
    "c.enter_operation(\"add\")\n",
    "c.enter_value(9)\n",
    "c.enter_operation(\"multiply\")\n",
    "c.enter_value(5)\n",
    "c.enter_operation(\"divide\")\n",
    "c.enter_value(20)\n",
    "print(c.evaluate())\n",
    "#c.all_clear() # 這是我另外加上去，否則空的話，再執行就會出錯"
   ]
  },
  {
   "cell_type": "code",
   "execution_count": 15,
   "metadata": {},
   "outputs": [
    {
     "data": {
      "text/plain": [
       "{'_result': 2.5}"
      ]
     },
     "execution_count": 15,
     "metadata": {},
     "output_type": "execute_result"
    }
   ],
   "source": [
    "c.__dict__"
   ]
  },
  {
   "cell_type": "code",
   "execution_count": 17,
   "metadata": {},
   "outputs": [
    {
     "data": {
      "text/plain": [
       "mappingproxy({'__module__': 'calculator.Calculator',\n",
       "              '_input_list': [1.0,\n",
       "               <Operation.Operation at 0x2076a5a4ba8>,\n",
       "               9.0,\n",
       "               <Operation.Operation at 0x2076a5a4b00>,\n",
       "               5.0,\n",
       "               <Operation.Operation at 0x2076a5a4b70>,\n",
       "               20.0],\n",
       "              '_result': 0.0,\n",
       "              'enter_value': <function calculator.Calculator.Calculator.enter_value(self, value)>,\n",
       "              'enter_operation': <function calculator.Calculator.Calculator.enter_operation(self, operation_name)>,\n",
       "              'evaluate': <function calculator.Calculator.Calculator.evaluate(self)>,\n",
       "              'get_result': <function calculator.Calculator.Calculator.get_result(self)>,\n",
       "              'all_clear': <function calculator.Calculator.Calculator.all_clear(self)>,\n",
       "              '__dict__': <attribute '__dict__' of 'Calculator' objects>,\n",
       "              '__weakref__': <attribute '__weakref__' of 'Calculator' objects>,\n",
       "              '__doc__': None})"
      ]
     },
     "execution_count": 17,
     "metadata": {},
     "output_type": "execute_result"
    }
   ],
   "source": [
    "'''\n",
    "原本課本的 do_calculation.py 中，並沒有作 c.all_clear()\n",
    "所有針對 calculator 的加數字或是加運算的資料全存入 \\_input\\_list。\n",
    "因為這是被宣告為 class attribute，\n",
    "所以之後要是有其他的 instance 被 instantiate 出來, \n",
    "那個新的 instance.\\_input\\_list 看到的就不是空的，\n",
    "而是即成的結果。\n",
    "\n",
    "'''\n",
    "Calculator.__dict__"
   ]
  },
  {
   "cell_type": "code",
   "execution_count": 18,
   "metadata": {},
   "outputs": [
    {
     "data": {
      "text/plain": [
       "[1.0,\n",
       " <Operation.Operation at 0x2076a5a4ba8>,\n",
       " 9.0,\n",
       " <Operation.Operation at 0x2076a5a4b00>,\n",
       " 5.0,\n",
       " <Operation.Operation at 0x2076a5a4b70>,\n",
       " 20.0]"
      ]
     },
     "execution_count": 18,
     "metadata": {},
     "output_type": "execute_result"
    }
   ],
   "source": [
    "c._input_list"
   ]
  },
  {
   "cell_type": "code",
   "execution_count": 19,
   "metadata": {},
   "outputs": [
    {
     "data": {
      "text/plain": [
       "2.5"
      ]
     },
     "execution_count": 19,
     "metadata": {},
     "output_type": "execute_result"
    }
   ],
   "source": [
    "c._result"
   ]
  },
  {
   "cell_type": "code",
   "execution_count": 20,
   "metadata": {},
   "outputs": [
    {
     "ename": "RuntimeError",
     "evalue": "Must enter an operation next",
     "output_type": "error",
     "traceback": [
      "\u001b[1;31m---------------------------------------------------------------------------\u001b[0m",
      "\u001b[1;31mRuntimeError\u001b[0m                              Traceback (most recent call last)",
      "\u001b[1;32m<ipython-input-20-79d47fad3c00>\u001b[0m in \u001b[0;36m<module>\u001b[1;34m\u001b[0m\n\u001b[0;32m     12\u001b[0m \u001b[0mc\u001b[0m \u001b[1;33m=\u001b[0m \u001b[0mCalculator\u001b[0m\u001b[1;33m(\u001b[0m\u001b[1;33m)\u001b[0m\u001b[1;33m\u001b[0m\u001b[1;33m\u001b[0m\u001b[0m\n\u001b[0;32m     13\u001b[0m \u001b[1;31m# c.all_clear()  # 課本本來沒有\u001b[0m\u001b[1;33m\u001b[0m\u001b[1;33m\u001b[0m\u001b[1;33m\u001b[0m\u001b[0m\n\u001b[1;32m---> 14\u001b[1;33m \u001b[0mc\u001b[0m\u001b[1;33m.\u001b[0m\u001b[0menter_value\u001b[0m\u001b[1;33m(\u001b[0m\u001b[1;36m1\u001b[0m\u001b[1;33m)\u001b[0m\u001b[1;33m\u001b[0m\u001b[1;33m\u001b[0m\u001b[0m\n\u001b[0m\u001b[0;32m     15\u001b[0m \u001b[0mc\u001b[0m\u001b[1;33m.\u001b[0m\u001b[0menter_operation\u001b[0m\u001b[1;33m(\u001b[0m\u001b[1;34m\"add\"\u001b[0m\u001b[1;33m)\u001b[0m\u001b[1;33m\u001b[0m\u001b[1;33m\u001b[0m\u001b[0m\n\u001b[0;32m     16\u001b[0m \u001b[0mc\u001b[0m\u001b[1;33m.\u001b[0m\u001b[0menter_value\u001b[0m\u001b[1;33m(\u001b[0m\u001b[1;36m9\u001b[0m\u001b[1;33m)\u001b[0m\u001b[1;33m\u001b[0m\u001b[1;33m\u001b[0m\u001b[0m\n",
      "\u001b[1;32mD:\\Google雲端硬碟\\GettingStartedWithPythonAndRaspberryPi-book_release\\Chapter04\\calculator\\Calculator.py\u001b[0m in \u001b[0;36menter_value\u001b[1;34m(self, value)\u001b[0m\n\u001b[0;32m      7\u001b[0m     \u001b[1;32mdef\u001b[0m \u001b[0menter_value\u001b[0m\u001b[1;33m(\u001b[0m\u001b[0mself\u001b[0m\u001b[1;33m,\u001b[0m \u001b[0mvalue\u001b[0m\u001b[1;33m)\u001b[0m\u001b[1;33m:\u001b[0m\u001b[1;33m\u001b[0m\u001b[1;33m\u001b[0m\u001b[0m\n\u001b[0;32m      8\u001b[0m         \u001b[1;32mif\u001b[0m \u001b[0mlen\u001b[0m\u001b[1;33m(\u001b[0m\u001b[0mself\u001b[0m\u001b[1;33m.\u001b[0m\u001b[0m_input_list\u001b[0m\u001b[1;33m)\u001b[0m \u001b[1;33m>\u001b[0m \u001b[1;36m0\u001b[0m \u001b[1;32mand\u001b[0m \u001b[1;32mnot\u001b[0m \u001b[0misinstance\u001b[0m\u001b[1;33m(\u001b[0m\u001b[0mself\u001b[0m\u001b[1;33m.\u001b[0m\u001b[0m_input_list\u001b[0m\u001b[1;33m[\u001b[0m\u001b[1;33m-\u001b[0m\u001b[1;36m1\u001b[0m\u001b[1;33m]\u001b[0m\u001b[1;33m,\u001b[0m \u001b[0mOperation\u001b[0m\u001b[1;33m)\u001b[0m\u001b[1;33m:\u001b[0m\u001b[1;33m\u001b[0m\u001b[1;33m\u001b[0m\u001b[0m\n\u001b[1;32m----> 9\u001b[1;33m             \u001b[1;32mraise\u001b[0m \u001b[0mRuntimeError\u001b[0m\u001b[1;33m(\u001b[0m\u001b[1;34m\"Must enter an operation next\"\u001b[0m\u001b[1;33m)\u001b[0m\u001b[1;33m\u001b[0m\u001b[1;33m\u001b[0m\u001b[0m\n\u001b[0m\u001b[0;32m     10\u001b[0m         \u001b[0mself\u001b[0m\u001b[1;33m.\u001b[0m\u001b[0m_input_list\u001b[0m\u001b[1;33m.\u001b[0m\u001b[0mappend\u001b[0m\u001b[1;33m(\u001b[0m\u001b[0mfloat\u001b[0m\u001b[1;33m(\u001b[0m\u001b[0mvalue\u001b[0m\u001b[1;33m)\u001b[0m\u001b[1;33m)\u001b[0m\u001b[1;33m\u001b[0m\u001b[1;33m\u001b[0m\u001b[0m\n\u001b[0;32m     11\u001b[0m \u001b[1;33m\u001b[0m\u001b[0m\n",
      "\u001b[1;31mRuntimeError\u001b[0m: Must enter an operation next"
     ]
    }
   ],
   "source": [
    "'''\n",
    "!more do_calculation.py\n",
    "\n",
    "我們介紹一個 do_calculation.py，\n",
    "它可以視為一個 script (可看成 driver)，\n",
    "調用到： Operator 以及 Calculator 這兩個當作 resource 的類別。\n",
    "\n",
    "我們想要作的計算是 1 + 9 * 5 / 20 =\n",
    "'''\n",
    "from calculator.Calculator import Calculator\n",
    "\n",
    "c = Calculator()\n",
    "# c.all_clear()  # 課本本來沒有\n",
    "c.enter_value(1)\n",
    "c.enter_operation(\"add\")\n",
    "c.enter_value(9)\n",
    "c.enter_operation(\"multiply\")\n",
    "c.enter_value(5)\n",
    "c.enter_operation(\"divide\")\n",
    "c.enter_value(20)\n",
    "print(c.evaluate())\n",
    "#c.all_clear() # 這是我另外加上去，否則空的話，再執行就會出錯"
   ]
  },
  {
   "cell_type": "code",
   "execution_count": 21,
   "metadata": {},
   "outputs": [
    {
     "data": {
      "text/plain": [
       "{}"
      ]
     },
     "execution_count": 21,
     "metadata": {},
     "output_type": "execute_result"
    }
   ],
   "source": [
    "c.__dict__"
   ]
  },
  {
   "cell_type": "code",
   "execution_count": 22,
   "metadata": {},
   "outputs": [
    {
     "data": {
      "text/plain": [
       "[1.0,\n",
       " <Operation.Operation at 0x2076a5a4ba8>,\n",
       " 9.0,\n",
       " <Operation.Operation at 0x2076a5a4b00>,\n",
       " 5.0,\n",
       " <Operation.Operation at 0x2076a5a4b70>,\n",
       " 20.0]"
      ]
     },
     "execution_count": 22,
     "metadata": {},
     "output_type": "execute_result"
    }
   ],
   "source": [
    "c._input_list"
   ]
  },
  {
   "cell_type": "code",
   "execution_count": 23,
   "metadata": {},
   "outputs": [
    {
     "name": "stdout",
     "output_type": "stream",
     "text": [
      "1022.4175824175825\n"
     ]
    }
   ],
   "source": [
    "'''\n",
    "\n",
    "我有個方法將先前的 class attribute 銷掉：\n",
    "就是讓 instance 明白對 attribute 發言：\n",
    "\n",
    "修改的 do_calculation.py，\n",
    "\n",
    "我們想要作的計算是 11 / 91 + 51 * 20 =\n",
    "'''\n",
    "from calculator.Calculator import Calculator\n",
    "\n",
    "c = Calculator()\n",
    "c.all_clear()  # 課本本來沒有\n",
    "c.enter_value(11)\n",
    "c.enter_operation(\"divide\")\n",
    "c.enter_value(91)\n",
    "c.enter_operation(\"add\")\n",
    "c.enter_value(51)\n",
    "c.enter_operation(\"multiply\")\n",
    "c.enter_value(20)\n",
    "print(c.evaluate())\n",
    "#c.all_clear() # 這是我另外加上去，否則空的話，再執行就會出錯"
   ]
  },
  {
   "cell_type": "code",
   "execution_count": 24,
   "metadata": {},
   "outputs": [
    {
     "data": {
      "text/plain": [
       "[11.0,\n",
       " <Operation.Operation at 0x2076b31b4e0>,\n",
       " 91.0,\n",
       " <Operation.Operation at 0x2076b31b518>,\n",
       " 51.0,\n",
       " <Operation.Operation at 0x2076b31b5c0>,\n",
       " 20.0]"
      ]
     },
     "execution_count": 24,
     "metadata": {},
     "output_type": "execute_result"
    }
   ],
   "source": [
    "c._input_list"
   ]
  },
  {
   "cell_type": "code",
   "execution_count": 25,
   "metadata": {},
   "outputs": [
    {
     "data": {
      "text/plain": [
       "mappingproxy({'__module__': 'calculator.Calculator',\n",
       "              '_input_list': [1.0,\n",
       "               <Operation.Operation at 0x2076a5a4ba8>,\n",
       "               9.0,\n",
       "               <Operation.Operation at 0x2076a5a4b00>,\n",
       "               5.0,\n",
       "               <Operation.Operation at 0x2076a5a4b70>,\n",
       "               20.0],\n",
       "              '_result': 0.0,\n",
       "              'enter_value': <function calculator.Calculator.Calculator.enter_value(self, value)>,\n",
       "              'enter_operation': <function calculator.Calculator.Calculator.enter_operation(self, operation_name)>,\n",
       "              'evaluate': <function calculator.Calculator.Calculator.evaluate(self)>,\n",
       "              'get_result': <function calculator.Calculator.Calculator.get_result(self)>,\n",
       "              'all_clear': <function calculator.Calculator.Calculator.all_clear(self)>,\n",
       "              '__dict__': <attribute '__dict__' of 'Calculator' objects>,\n",
       "              '__weakref__': <attribute '__weakref__' of 'Calculator' objects>,\n",
       "              '__doc__': None})"
      ]
     },
     "execution_count": 25,
     "metadata": {},
     "output_type": "execute_result"
    }
   ],
   "source": [
    "Calculator.__dict__"
   ]
  },
  {
   "cell_type": "code",
   "execution_count": 26,
   "metadata": {},
   "outputs": [
    {
     "data": {
      "text/plain": [
       "[11.0,\n",
       " <Operation.Operation at 0x2076b31b4e0>,\n",
       " 91.0,\n",
       " <Operation.Operation at 0x2076b31b518>,\n",
       " 51.0,\n",
       " <Operation.Operation at 0x2076b31b5c0>,\n",
       " 20.0]"
      ]
     },
     "execution_count": 26,
     "metadata": {},
     "output_type": "execute_result"
    }
   ],
   "source": [
    "c._input_list"
   ]
  },
  {
   "cell_type": "code",
   "execution_count": 27,
   "metadata": {},
   "outputs": [
    {
     "data": {
      "text/plain": [
       "{'_input_list': [11.0,\n",
       "  <Operation.Operation at 0x2076b31b4e0>,\n",
       "  91.0,\n",
       "  <Operation.Operation at 0x2076b31b518>,\n",
       "  51.0,\n",
       "  <Operation.Operation at 0x2076b31b5c0>,\n",
       "  20.0],\n",
       " '_result': 1022.4175824175825}"
      ]
     },
     "execution_count": 27,
     "metadata": {},
     "output_type": "execute_result"
    }
   ],
   "source": [
    "c.__dict__"
   ]
  },
  {
   "cell_type": "code",
   "execution_count": null,
   "metadata": {},
   "outputs": [],
   "source": []
  },
  {
   "cell_type": "code",
   "execution_count": 28,
   "metadata": {},
   "outputs": [],
   "source": [
    "c.all_clear()"
   ]
  },
  {
   "cell_type": "code",
   "execution_count": 29,
   "metadata": {},
   "outputs": [
    {
     "data": {
      "text/plain": [
       "[]"
      ]
     },
     "execution_count": 29,
     "metadata": {},
     "output_type": "execute_result"
    }
   ],
   "source": [
    "# 可是對 instance attribute 有改變！\n",
    "c._input_list"
   ]
  },
  {
   "cell_type": "code",
   "execution_count": 30,
   "metadata": {},
   "outputs": [
    {
     "data": {
      "text/plain": [
       "mappingproxy({'__module__': 'calculator.Calculator',\n",
       "              '_input_list': [1.0,\n",
       "               <Operation.Operation at 0x2076a5a4ba8>,\n",
       "               9.0,\n",
       "               <Operation.Operation at 0x2076a5a4b00>,\n",
       "               5.0,\n",
       "               <Operation.Operation at 0x2076a5a4b70>,\n",
       "               20.0],\n",
       "              '_result': 0.0,\n",
       "              'enter_value': <function calculator.Calculator.Calculator.enter_value(self, value)>,\n",
       "              'enter_operation': <function calculator.Calculator.Calculator.enter_operation(self, operation_name)>,\n",
       "              'evaluate': <function calculator.Calculator.Calculator.evaluate(self)>,\n",
       "              'get_result': <function calculator.Calculator.Calculator.get_result(self)>,\n",
       "              'all_clear': <function calculator.Calculator.Calculator.all_clear(self)>,\n",
       "              '__dict__': <attribute '__dict__' of 'Calculator' objects>,\n",
       "              '__weakref__': <attribute '__weakref__' of 'Calculator' objects>,\n",
       "              '__doc__': None})"
      ]
     },
     "execution_count": 30,
     "metadata": {},
     "output_type": "execute_result"
    }
   ],
   "source": [
    "# 但對 class attribute 沒有改變！\n",
    "Calculator.__dict__"
   ]
  },
  {
   "cell_type": "code",
   "execution_count": 31,
   "metadata": {},
   "outputs": [],
   "source": [
    "# 我們新 instantiate 一個新的 calvulator\n",
    "# 因為此時 Calculator 的 class attributes 的值已經有值了…\n",
    "c2 = Calculator()"
   ]
  },
  {
   "cell_type": "code",
   "execution_count": 32,
   "metadata": {},
   "outputs": [
    {
     "data": {
      "text/plain": [
       "[1.0,\n",
       " <Operation.Operation at 0x2076a5a4ba8>,\n",
       " 9.0,\n",
       " <Operation.Operation at 0x2076a5a4b00>,\n",
       " 5.0,\n",
       " <Operation.Operation at 0x2076a5a4b70>,\n",
       " 20.0]"
      ]
     },
     "execution_count": 32,
     "metadata": {},
     "output_type": "execute_result"
    }
   ],
   "source": [
    "c2._input_list"
   ]
  },
  {
   "cell_type": "code",
   "execution_count": 33,
   "metadata": {},
   "outputs": [
    {
     "name": "stdout",
     "output_type": "stream",
     "text": [
      "2.5\n"
     ]
    }
   ],
   "source": [
    "'''\n",
    "我覺得原先程式將 \\_input\\_list 當作 class attribute 的安排不好。\n",
    "為了避免其的新的 calculator instand 繼承不乾淨的 \\_input\\_list, \n",
    "有兩個解決的方法：\n",
    "1. 補寫 \\__init\\__，將 class attribute 改為 instance attribute\n",
    "2. 就是在 instantiate object 之後，強制執行 c.all_clear()，\n",
    "   等效將原 class attribute 改為 instance attribute\n",
    "   \n",
    "我們想要作的計算是 1 + 9 * 5 / 20 =\n",
    "'''\n",
    "from calculator.Calculator import Calculator\n",
    "\n",
    "c = Calculator()\n",
    "c.all_clear() # 第二種的解決法\n",
    "c.enter_value(1)\n",
    "c.enter_operation(\"add\")\n",
    "c.enter_value(9)\n",
    "c.enter_operation(\"multiply\")\n",
    "c.enter_value(5)\n",
    "c.enter_operation(\"divide\")\n",
    "c.enter_value(20)\n",
    "print(c.evaluate())\n",
    "c.all_clear() # 這是我另外加上去，否則空的話，再執行就會出錯"
   ]
  },
  {
   "cell_type": "code",
   "execution_count": 34,
   "metadata": {},
   "outputs": [
    {
     "data": {
      "text/plain": [
       "mappingproxy({'__module__': 'calculator.Calculator',\n",
       "              '_input_list': [1.0,\n",
       "               <Operation.Operation at 0x2076a5a4ba8>,\n",
       "               9.0,\n",
       "               <Operation.Operation at 0x2076a5a4b00>,\n",
       "               5.0,\n",
       "               <Operation.Operation at 0x2076a5a4b70>,\n",
       "               20.0],\n",
       "              '_result': 0.0,\n",
       "              'enter_value': <function calculator.Calculator.Calculator.enter_value(self, value)>,\n",
       "              'enter_operation': <function calculator.Calculator.Calculator.enter_operation(self, operation_name)>,\n",
       "              'evaluate': <function calculator.Calculator.Calculator.evaluate(self)>,\n",
       "              'get_result': <function calculator.Calculator.Calculator.get_result(self)>,\n",
       "              'all_clear': <function calculator.Calculator.Calculator.all_clear(self)>,\n",
       "              '__dict__': <attribute '__dict__' of 'Calculator' objects>,\n",
       "              '__weakref__': <attribute '__weakref__' of 'Calculator' objects>,\n",
       "              '__doc__': None})"
      ]
     },
     "execution_count": 34,
     "metadata": {},
     "output_type": "execute_result"
    }
   ],
   "source": [
    "Calculator.__dict__"
   ]
  },
  {
   "cell_type": "code",
   "execution_count": 35,
   "metadata": {},
   "outputs": [
    {
     "data": {
      "text/plain": [
       "{'_input_list': [], '_result': 0.0}"
      ]
     },
     "execution_count": 35,
     "metadata": {},
     "output_type": "execute_result"
    }
   ],
   "source": [
    "c.__dict__"
   ]
  },
  {
   "cell_type": "code",
   "execution_count": 36,
   "metadata": {},
   "outputs": [
    {
     "name": "stdout",
     "output_type": "stream",
     "text": [
      "Variable     Type          Data/Info\n",
      "------------------------------------\n",
      "Calculator   type          <class 'calculator.Calculator.Calculator'>\n",
      "Operation    type          <class 'Operation.Operation'>\n",
      "c            Calculator    <calculator.Calculator.Ca<...>ct at 0x000002076B5395F8>\n",
      "c2           Calculator    <calculator.Calculator.Ca<...>ct at 0x000002076B30FD68>\n"
     ]
    }
   ],
   "source": [
    "%whos"
   ]
  },
  {
   "cell_type": "markdown",
   "metadata": {},
   "source": [
    "## tree\n",
    "\n",
    "以圖形方式顯示磁片磁碟機路徑或磁片的目錄結構。\n",
    "https://docs.microsoft.com/zh-tw/windows-server/administration/windows-commands/tree"
   ]
  },
  {
   "cell_type": "code",
   "execution_count": 37,
   "metadata": {},
   "outputs": [
    {
     "name": "stdout",
     "output_type": "stream",
     "text": [
      "以圖形顯示磁碟機或路徑的資料夾結構。\n",
      "\n",
      "TREE [drive:][path] [/F] [/A]\n",
      "\n",
      "   /F   顯示各資料夾中檔案的名稱。\n",
      "   /A   使用 ASCII 取代擴充字元。\n",
      "\n"
     ]
    }
   ],
   "source": [
    "!tree/?"
   ]
  },
  {
   "cell_type": "code",
   "execution_count": 38,
   "metadata": {},
   "outputs": [
    {
     "name": "stdout",
     "output_type": "stream",
     "text": [
      "列出磁碟區 新增磁碟區 的資料夾 PATH\n",
      "磁碟區序號為 E422-9B08\n",
      "D:.\n",
      "├─.ipynb_checkpoints\n",
      "├─calculator\n",
      "│  └─__pycache__\n",
      "└─__pycache__\n"
     ]
    }
   ],
   "source": [
    "'''\n",
    "我們關心的是 calculator/，\n",
    "但在此之前，我們先看一下目前的目錄底下有哪些子目錄\n",
    "'''\n",
    "!tree"
   ]
  },
  {
   "cell_type": "markdown",
   "metadata": {},
   "source": [
    "## What are Jupyter Notebook checkpoint files for?\n",
    "每次用 manually save 時，就會備存；之後可以 File/Revert to checkpoint\n",
    "\n",
    "https://stackoverflow.com/questions/46421663/what-are-jupyter-notebook-checkpoint-files-for?rq=1"
   ]
  },
  {
   "cell_type": "code",
   "execution_count": 39,
   "metadata": {},
   "outputs": [
    {
     "name": "stdout",
     "output_type": "stream",
     "text": [
      "列出磁碟區 新增磁碟區 的資料夾 PATH\n",
      "磁碟區序號為 E422-9B08\n",
      "D:.\n",
      "+---.ipynb_checkpoints\n",
      "+---calculator\n",
      "|   \\---__pycache__\n",
      "\\---__pycache__\n"
     ]
    }
   ],
   "source": [
    "'''\n",
    "我們關心的是 calculator/，\n",
    "但在此之前，我們先看一下目前的目錄底下有哪些子目錄\n",
    "'''\n",
    "!tree/A"
   ]
  },
  {
   "cell_type": "code",
   "execution_count": 40,
   "metadata": {
    "scrolled": true
   },
   "outputs": [
    {
     "name": "stdout",
     "output_type": "stream",
     "text": [
      "列出磁碟區 新增磁碟區 的資料夾 PATH\n",
      "磁碟區序號為 E422-9B08\n",
      "D:.\n",
      "│  Chapter04_01_ClassAndObject.ipynb\n",
      "│  Chapter04_01_Making a Calculator.ipynb\n",
      "│  Chapter04_03_Thread and Lock.ipynb\n",
      "│  Chapter04_03_Thread.ipynb\n",
      "│  Chapter_04_Read_me.ipynb\n",
      "│  do_calculation.py\n",
      "│  Inheritance.py\n",
      "│  Inheritance.pyc\n",
      "│  logging.txt\n",
      "│  readmeCh04.txt\n",
      "│  Supplemented materials from Corey Shafer's YouTube.ipynb\n",
      "│  Threading.py\n",
      "│  Threading.pyc\n",
      "│  Threading_Locks.py\n",
      "│  Threading_Locks.pyc\n",
      "│  __init__.py\n",
      "│  __init__.pyc\n",
      "│  §04_01_Using classes to make a calculator.ipynb\n",
      "│  §04_02_Inheritance.ipynb\n",
      "│  ?04 Corey Schafer Python OOP Tutorials.ipynb\n",
      "│  \n",
      "├─.ipynb_checkpoints\n",
      "│      Chapter04_01_ClassAndObject-checkpoint.ipynb\n",
      "│      Chapter04_01_Making a Calculator-checkpoint.ipynb\n",
      "│      Chapter04_03_Thread and Lock-checkpoint.ipynb\n",
      "│      Chapter04_03_Thread-checkpoint.ipynb\n",
      "│      Chapter_04_Read_me-checkpoint.ipynb\n",
      "│      LoggingFeature-checkpoint.ipynb\n",
      "│      LoggingTutorial-checkpoint.ipynb\n",
      "│      Supplemented materials from Corey Shafer's YouTube-checkpoint.ipynb\n",
      "│      §04_01_Using classes to make a calculator-checkpoint.ipynb\n",
      "│      §04_02_Inheritance-checkpoint.ipynb\n",
      "│      ?04 Corey Schafer Python OOP Tutorials-checkpoint.ipynb\n",
      "│      \n",
      "├─calculator\n",
      "│  │  Calculator.py\n",
      "│  │  Calculator.pyc\n",
      "│  │  Operation.py\n",
      "│  │  Operation.pyc\n",
      "│  │  __init__.py\n",
      "│  │  __init__.pyc\n",
      "│  │  \n",
      "│  └─__pycache__\n",
      "│          Calculator.cpython-37.pyc\n",
      "│          Operation.cpython-37.pyc\n",
      "│          __init__.cpython-37.pyc\n",
      "│          \n",
      "└─__pycache__\n",
      "        Inheritance.cpython-37.pyc\n",
      "        Threading.cpython-37.pyc\n",
      "        Threading_Locks.cpython-37.pyc\n",
      "        \n"
     ]
    }
   ],
   "source": [
    "'''\n",
    "我們也可以先看一下目前的目錄底下有哪些子目錄 (以及他們底下的子目錄等)，還有哪些檔案\n",
    "'''\n",
    "!tree/F"
   ]
  },
  {
   "cell_type": "code",
   "execution_count": 41,
   "metadata": {},
   "outputs": [
    {
     "name": "stdout",
     "output_type": "stream",
     "text": [
      "列出磁碟區 新增磁碟區 的資料夾 PATH\n",
      "磁碟區序號為 E422-9B08\n",
      "D:\\GOOGLE雲端硬碟\\GETTINGSTARTEDWITHPYTHONANDRASPBERRYPI-BOOK_RELEASE\\CHAPTER04\\CALCULATOR\n",
      "│  Calculator.py\n",
      "│  Calculator.pyc\n",
      "│  Operation.py\n",
      "│  Operation.pyc\n",
      "│  __init__.py\n",
      "│  __init__.pyc\n",
      "│  \n",
      "└─__pycache__\n",
      "        Calculator.cpython-37.pyc\n",
      "        Operation.cpython-37.pyc\n",
      "        __init__.cpython-37.pyc\n",
      "        \n"
     ]
    }
   ],
   "source": [
    "'''\n",
    "我們看 calculator 目錄底下有什麼檔案\n",
    "'''\n",
    "!tree/F calculator"
   ]
  },
  {
   "cell_type": "code",
   "execution_count": 42,
   "metadata": {},
   "outputs": [
    {
     "name": "stdout",
     "output_type": "stream",
     "text": [
      "2.5\n"
     ]
    }
   ],
   "source": [
    "# %more do_calculation.py\n",
    "from calculator.Calculator import Calculator\n",
    "\n",
    "c = Calculator()\n",
    "\n",
    "c.all_clear()\n",
    "\n",
    "c.enter_value(1)\n",
    "c.enter_operation(\"add\")\n",
    "c.enter_value(9)\n",
    "c.enter_operation(\"multiply\")\n",
    "c.enter_value(5)\n",
    "c.enter_operation(\"divide\")\n",
    "c.enter_value(20)\n",
    "\n",
    "print(c.evaluate())"
   ]
  },
  {
   "cell_type": "code",
   "execution_count": 43,
   "metadata": {},
   "outputs": [
    {
     "data": {
      "text/plain": [
       "'D:\\\\Google雲端硬碟\\\\GettingStartedWithPythonAndRaspberryPi-book_release\\\\Chapter04'"
      ]
     },
     "execution_count": 43,
     "metadata": {},
     "output_type": "execute_result"
    }
   ],
   "source": [
    "%pwd"
   ]
  },
  {
   "cell_type": "code",
   "execution_count": 44,
   "metadata": {},
   "outputs": [
    {
     "name": "stdout",
     "output_type": "stream",
     "text": [
      "D:\\Google雲端硬碟\\GettingStartedWithPythonAndRaspberryPi-book_release\\Chapter04\\calculator\n"
     ]
    }
   ],
   "source": [
    "%cd calculator/"
   ]
  },
  {
   "cell_type": "code",
   "execution_count": 45,
   "metadata": {},
   "outputs": [
    {
     "name": "stdout",
     "output_type": "stream",
     "text": [
      "列出磁碟區 新增磁碟區 的資料夾 PATH\n",
      "磁碟區序號為 E422-9B08\n",
      "D:.\n",
      "└─__pycache__\n"
     ]
    }
   ],
   "source": [
    "!tree"
   ]
  },
  {
   "cell_type": "code",
   "execution_count": 46,
   "metadata": {},
   "outputs": [
    {
     "name": "stdout",
     "output_type": "stream",
     "text": [
      "列出磁碟區 新增磁碟區 的資料夾 PATH\n",
      "磁碟區序號為 E422-9B08\n",
      "D:.\n",
      "│  Calculator.py\n",
      "│  Calculator.pyc\n",
      "│  Operation.py\n",
      "│  Operation.pyc\n",
      "│  __init__.py\n",
      "│  __init__.pyc\n",
      "│  \n",
      "└─__pycache__\n",
      "        Calculator.cpython-37.pyc\n",
      "        Operation.cpython-37.pyc\n",
      "        __init__.cpython-37.pyc\n",
      "        \n"
     ]
    }
   ],
   "source": [
    "!tree/F"
   ]
  },
  {
   "cell_type": "code",
   "execution_count": 47,
   "metadata": {},
   "outputs": [
    {
     "name": "stdout",
     "output_type": "stream",
     "text": [
      " 磁碟區 D 中的磁碟是 新增磁碟區\n",
      " 磁碟區序號:  E422-9B08\n",
      "\n",
      " D:\\Google雲端硬碟\\GettingStartedWithPythonAndRaspberryPi-book_release\\Chapter04\\calculator 的目錄\n",
      "\n",
      "2019/09/26  下午 04:45    <DIR>          .\n",
      "2019/09/26  下午 04:45    <DIR>          ..\n",
      "2018/03/13  上午 03:09                 0 __init__.py\n",
      "2018/04/05  下午 04:32               109 __init__.pyc\n",
      "2019/10/01  上午 07:48    <DIR>          __pycache__\n",
      "2018/03/13  上午 03:09             1,050 Calculator.py\n",
      "2018/04/04  下午 07:03             1,610 Calculator.pyc\n",
      "2018/03/13  上午 03:09               542 Operation.py\n",
      "2018/04/04  下午 04:09               848 Operation.pyc\n",
      "               6 個檔案           4,159 位元組\n",
      "               3 個目錄  896,144,896,000 位元組可用\n"
     ]
    }
   ],
   "source": [
    "%ls"
   ]
  },
  {
   "cell_type": "code",
   "execution_count": null,
   "metadata": {},
   "outputs": [],
   "source": []
  },
  {
   "cell_type": "code",
   "execution_count": null,
   "metadata": {},
   "outputs": [],
   "source": [
    "'''\n",
    "要看一個檔案的內容\n",
    "# %more Calculator.py\n",
    "'''\n",
    "from Operation import Operation\n",
    "\n",
    "class Calculator(object):\n",
    "    _input_list = list()\n",
    "    _result = 0.0\n",
    "\n",
    "    def enter_value(self, value):\n",
    "        if len(self._input_list) > 0 and not isinstance(self._input_list[-1], Operation):\n",
    "            raise RuntimeError(\"Must enter an operation next\")\n",
    "        self._input_list.append(float(value))\n",
    "\n",
    "    def enter_operation(self, operation_name):\n",
    "        if len(self._input_list) == 0 or isinstance(self._input_list[-1], Operation):\n",
    "            raise RuntimeError(\"Must enter a value next\")\n",
    "        self._input_list.append(Operation(operation_name))\n",
    "\n",
    "    def evaluate(self):\n",
    "        self._result = self._input_list[0]\n",
    "        for idx in range(1, len(self._input_list), 2):\n",
    "            operation = self._input_list[idx]\n",
    "            next_value = self._input_list[idx + 1]\n",
    "            self._result = operation.evaluate(self._result, next_value)\n",
    "\n",
    "        return self._result\n",
    "\n",
    "    def get_result(self):\n",
    "        return self._result\n",
    "\n",
    "    def all_clear(self):\n",
    "        self._input_list = list()\n",
    "        self._result = 0.0"
   ]
  },
  {
   "cell_type": "markdown",
   "metadata": {},
   "source": [
    "## *Corey Schafer Python Tutorial*\n",
    "## Python Tutorial for Beginners 9: Import Modules and Exploring The Standard Library\n",
    "https://www.youtube.com/watch?v=CqvZ3vGoGs0&t=681s\n",
    "---"
   ]
  },
  {
   "cell_type": "code",
   "execution_count": 48,
   "metadata": {},
   "outputs": [
    {
     "data": {
      "text/html": [
       "<iframe width=\"560\" height=\"315\" src=\"https://www.youtube.com/embed/CqvZ3vGoGs0\" frameborder=\"0\" allow=\"accelerometer; autoplay; clipboard-write; encrypted-media; gyroscope; picture-in-picture\" allowfullscreen></iframe>\n"
      ],
      "text/plain": [
       "<IPython.core.display.HTML object>"
      ]
     },
     "metadata": {},
     "output_type": "display_data"
    }
   ],
   "source": [
    "%%HTML\n",
    "<iframe width=\"560\" height=\"315\" src=\"https://www.youtube.com/embed/CqvZ3vGoGs0\" frameborder=\"0\" allow=\"accelerometer; autoplay; clipboard-write; encrypted-media; gyroscope; picture-in-picture\" allowfullscreen></iframe>"
   ]
  },
  {
   "cell_type": "markdown",
   "metadata": {},
   "source": [
    "## How to import a defined class?\n",
    "語法是 from module import class"
   ]
  },
  {
   "cell_type": "code",
   "execution_count": 49,
   "metadata": {},
   "outputs": [],
   "source": [
    "''' \n",
    "在 Java 中，每一個程式就是一個 class，而且也只定義一個 class，\n",
    "但在 python 中，每個以 .py 結尾的程式 (叫 module) 可同時定義好幾個 class，\n",
    "檔案名不需要與 class 同名。\n",
    "如果需要用到時，就 import 進來。\n",
    "\n",
    "語法為：\n",
    "from module import clsss (, variable, function)\n",
    "'''\n",
    "from Operation import Operation"
   ]
  },
  {
   "cell_type": "code",
   "execution_count": 50,
   "metadata": {},
   "outputs": [],
   "source": [
    "Operation?"
   ]
  },
  {
   "cell_type": "code",
   "execution_count": 52,
   "metadata": {
    "scrolled": true
   },
   "outputs": [],
   "source": [
    "'''\n",
    "要看 Operation 的內容\n",
    "'''\n",
    "Operation??"
   ]
  },
  {
   "cell_type": "markdown",
   "metadata": {},
   "source": [
    "class Operation(object):\n",
    "    _operation = None\n",
    "\n",
    "    def __init__(self, name):\n",
    "        if name not in [\"add\", \"subtract\", \"multiply\", \"divide\"]:\n",
    "            raise ValueError(\"%s is not a valid operation\" % (name))\n",
    "        self._operation = name\n",
    "\n",
    "    def evaluate(self, a, b):\n",
    "        if self._operation == \"add\":\n",
    "            return a + b\n",
    "        elif self._operation == \"subtract\":\n",
    "            return a - b\n",
    "        elif self._operation == \"multiply\":\n",
    "            return a * b\n",
    "        elif self._operation == \"divide\":\n",
    "            return a / b"
   ]
  },
  {
   "cell_type": "code",
   "execution_count": 53,
   "metadata": {},
   "outputs": [],
   "source": [
    "multiply = Operation(\"multiply\")"
   ]
  },
  {
   "cell_type": "code",
   "execution_count": 54,
   "metadata": {},
   "outputs": [
    {
     "data": {
      "text/plain": [
       "18"
      ]
     },
     "execution_count": 54,
     "metadata": {},
     "output_type": "execute_result"
    }
   ],
   "source": [
    "multiply.evaluate(3, 6)"
   ]
  },
  {
   "cell_type": "code",
   "execution_count": 55,
   "metadata": {},
   "outputs": [
    {
     "ename": "ValueError",
     "evalue": "log is not a valid operation",
     "output_type": "error",
     "traceback": [
      "\u001b[1;31m---------------------------------------------------------------------------\u001b[0m",
      "\u001b[1;31mValueError\u001b[0m                                Traceback (most recent call last)",
      "\u001b[1;32m<ipython-input-55-f16df74f50c6>\u001b[0m in \u001b[0;36m<module>\u001b[1;34m\u001b[0m\n\u001b[1;32m----> 1\u001b[1;33m \u001b[0mlog\u001b[0m \u001b[1;33m=\u001b[0m \u001b[0mOperation\u001b[0m\u001b[1;33m(\u001b[0m\u001b[1;34m\"log\"\u001b[0m\u001b[1;33m)\u001b[0m\u001b[1;33m\u001b[0m\u001b[1;33m\u001b[0m\u001b[0m\n\u001b[0m",
      "\u001b[1;32mD:\\Google雲端硬碟\\GettingStartedWithPythonAndRaspberryPi-book_release\\Chapter04\\calculator\\Operation.py\u001b[0m in \u001b[0;36m__init__\u001b[1;34m(self, name)\u001b[0m\n\u001b[0;32m      4\u001b[0m     \u001b[1;32mdef\u001b[0m \u001b[0m__init__\u001b[0m\u001b[1;33m(\u001b[0m\u001b[0mself\u001b[0m\u001b[1;33m,\u001b[0m \u001b[0mname\u001b[0m\u001b[1;33m)\u001b[0m\u001b[1;33m:\u001b[0m\u001b[1;33m\u001b[0m\u001b[1;33m\u001b[0m\u001b[0m\n\u001b[0;32m      5\u001b[0m         \u001b[1;32mif\u001b[0m \u001b[0mname\u001b[0m \u001b[1;32mnot\u001b[0m \u001b[1;32min\u001b[0m \u001b[1;33m[\u001b[0m\u001b[1;34m\"add\"\u001b[0m\u001b[1;33m,\u001b[0m \u001b[1;34m\"subtract\"\u001b[0m\u001b[1;33m,\u001b[0m \u001b[1;34m\"multiply\"\u001b[0m\u001b[1;33m,\u001b[0m \u001b[1;34m\"divide\"\u001b[0m\u001b[1;33m]\u001b[0m\u001b[1;33m:\u001b[0m\u001b[1;33m\u001b[0m\u001b[1;33m\u001b[0m\u001b[0m\n\u001b[1;32m----> 6\u001b[1;33m             \u001b[1;32mraise\u001b[0m \u001b[0mValueError\u001b[0m\u001b[1;33m(\u001b[0m\u001b[1;34m\"%s is not a valid operation\"\u001b[0m \u001b[1;33m%\u001b[0m \u001b[1;33m(\u001b[0m\u001b[0mname\u001b[0m\u001b[1;33m)\u001b[0m\u001b[1;33m)\u001b[0m\u001b[1;33m\u001b[0m\u001b[1;33m\u001b[0m\u001b[0m\n\u001b[0m\u001b[0;32m      7\u001b[0m         \u001b[0mself\u001b[0m\u001b[1;33m.\u001b[0m\u001b[0m_operation\u001b[0m \u001b[1;33m=\u001b[0m \u001b[0mname\u001b[0m\u001b[1;33m\u001b[0m\u001b[1;33m\u001b[0m\u001b[0m\n\u001b[0;32m      8\u001b[0m \u001b[1;33m\u001b[0m\u001b[0m\n",
      "\u001b[1;31mValueError\u001b[0m: log is not a valid operation"
     ]
    }
   ],
   "source": [
    "log = Operation(\"log\")"
   ]
  },
  {
   "cell_type": "markdown",
   "metadata": {},
   "source": [
    "## *Corey Schafer Python Tutorial*\n",
    "## Python Tutorial: Using Try/Except Blocks for Error Handling\n",
    "https://www.youtube.com/watch?v=NIWwJbo-9_8    "
   ]
  },
  {
   "cell_type": "code",
   "execution_count": 56,
   "metadata": {},
   "outputs": [
    {
     "data": {
      "text/html": [
       "<iframe width=\"560\" height=\"315\" src=\"https://www.youtube.com/embed/NIWwJbo-9_8\" frameborder=\"0\" allow=\"accelerometer; autoplay; clipboard-write; encrypted-media; gyroscope; picture-in-picture\" allowfullscreen></iframe>\n"
      ],
      "text/plain": [
       "<IPython.core.display.HTML object>"
      ]
     },
     "metadata": {},
     "output_type": "display_data"
    }
   ],
   "source": [
    "%%HTML\n",
    "<iframe width=\"560\" height=\"315\" src=\"https://www.youtube.com/embed/NIWwJbo-9_8\" frameborder=\"0\" allow=\"accelerometer; autoplay; clipboard-write; encrypted-media; gyroscope; picture-in-picture\" allowfullscreen></iframe>"
   ]
  },
  {
   "cell_type": "code",
   "execution_count": 57,
   "metadata": {},
   "outputs": [
    {
     "name": "stdout",
     "output_type": "stream",
     "text": [
      "log is not a valid operation\n"
     ]
    }
   ],
   "source": [
    "try:\n",
    "    log = Operation(\"log\")\n",
    "except ValueError as e:\n",
    "    print(e)"
   ]
  },
  {
   "cell_type": "code",
   "execution_count": 58,
   "metadata": {},
   "outputs": [
    {
     "data": {
      "text/plain": [
       "<Operation.Operation at 0x2076b533320>"
      ]
     },
     "execution_count": 58,
     "metadata": {},
     "output_type": "execute_result"
    }
   ],
   "source": [
    "'''\n",
    "在python 中 initiate 一個新的物件，\n",
    "不需要像 Java 語言中得用 new，\n",
    "而是直接呼叫此類別名稱，它會執行 __init__\n",
    "'''\n",
    "o = Operation(\"add\")\n",
    "o"
   ]
  },
  {
   "cell_type": "code",
   "execution_count": 59,
   "metadata": {},
   "outputs": [
    {
     "name": "stdout",
     "output_type": "stream",
     "text": [
      "<Operation.Operation object at 0x000002076B533320>\n"
     ]
    }
   ],
   "source": [
    "print(o)"
   ]
  },
  {
   "cell_type": "code",
   "execution_count": 60,
   "metadata": {},
   "outputs": [
    {
     "name": "stdout",
     "output_type": "stream",
     "text": [
      "Help on class Operation in module Operation:\n",
      "\n",
      "class Operation(builtins.object)\n",
      " |  Operation(name)\n",
      " |  \n",
      " |  Methods defined here:\n",
      " |  \n",
      " |  __init__(self, name)\n",
      " |      Initialize self.  See help(type(self)) for accurate signature.\n",
      " |  \n",
      " |  evaluate(self, a, b)\n",
      " |  \n",
      " |  ----------------------------------------------------------------------\n",
      " |  Data descriptors defined here:\n",
      " |  \n",
      " |  __dict__\n",
      " |      dictionary for instance variables (if defined)\n",
      " |  \n",
      " |  __weakref__\n",
      " |      list of weak references to the object (if defined)\n",
      "\n"
     ]
    }
   ],
   "source": [
    "help(Operation)"
   ]
  },
  {
   "cell_type": "code",
   "execution_count": 61,
   "metadata": {},
   "outputs": [
    {
     "data": {
      "text/plain": [
       "{'_operation': 'add'}"
      ]
     },
     "execution_count": 61,
     "metadata": {},
     "output_type": "execute_result"
    }
   ],
   "source": [
    "o.__dict__"
   ]
  },
  {
   "cell_type": "code",
   "execution_count": 62,
   "metadata": {},
   "outputs": [
    {
     "name": "stdout",
     "output_type": "stream",
     "text": [
      "Help on class Operation in module Operation:\n",
      "\n",
      "class Operation(builtins.object)\n",
      " |  Operation(name)\n",
      " |  \n",
      " |  Methods defined here:\n",
      " |  \n",
      " |  __init__(self, name)\n",
      " |      Initialize self.  See help(type(self)) for accurate signature.\n",
      " |  \n",
      " |  evaluate(self, a, b)\n",
      " |  \n",
      " |  ----------------------------------------------------------------------\n",
      " |  Data descriptors defined here:\n",
      " |  \n",
      " |  __dict__\n",
      " |      dictionary for instance variables (if defined)\n",
      " |  \n",
      " |  __weakref__\n",
      " |      list of weak references to the object (if defined)\n",
      "\n"
     ]
    }
   ],
   "source": [
    "'''\n",
    "針對 Operation 這個 class\n",
    "'''\n",
    "help(Operation)"
   ]
  },
  {
   "cell_type": "code",
   "execution_count": 63,
   "metadata": {},
   "outputs": [
    {
     "data": {
      "text/plain": [
       "mappingproxy({'__module__': 'Operation',\n",
       "              '_operation': None,\n",
       "              '__init__': <function Operation.Operation.__init__(self, name)>,\n",
       "              'evaluate': <function Operation.Operation.evaluate(self, a, b)>,\n",
       "              '__dict__': <attribute '__dict__' of 'Operation' objects>,\n",
       "              '__weakref__': <attribute '__weakref__' of 'Operation' objects>,\n",
       "              '__doc__': None})"
      ]
     },
     "execution_count": 63,
     "metadata": {},
     "output_type": "execute_result"
    }
   ],
   "source": [
    "Operation.__dict__"
   ]
  },
  {
   "cell_type": "code",
   "execution_count": 64,
   "metadata": {},
   "outputs": [],
   "source": [
    "Operation??"
   ]
  },
  {
   "cell_type": "code",
   "execution_count": 65,
   "metadata": {},
   "outputs": [
    {
     "name": "stdout",
     "output_type": "stream",
     "text": [
      "<Operation.Operation object at 0x000002076B533320>\n"
     ]
    }
   ],
   "source": [
    "print(o)"
   ]
  },
  {
   "cell_type": "code",
   "execution_count": 66,
   "metadata": {},
   "outputs": [
    {
     "data": {
      "text/plain": [
       "Operation.Operation"
      ]
     },
     "execution_count": 66,
     "metadata": {},
     "output_type": "execute_result"
    }
   ],
   "source": [
    "'''\n",
    "module.class 的一份子\n",
    "'''\n",
    "type(o)"
   ]
  },
  {
   "cell_type": "code",
   "execution_count": 67,
   "metadata": {},
   "outputs": [
    {
     "name": "stdout",
     "output_type": "stream",
     "text": [
      "Help on Operation in module Operation object:\n",
      "\n",
      "class Operation(builtins.object)\n",
      " |  Operation(name)\n",
      " |  \n",
      " |  Methods defined here:\n",
      " |  \n",
      " |  __init__(self, name)\n",
      " |      Initialize self.  See help(type(self)) for accurate signature.\n",
      " |  \n",
      " |  evaluate(self, a, b)\n",
      " |  \n",
      " |  ----------------------------------------------------------------------\n",
      " |  Data descriptors defined here:\n",
      " |  \n",
      " |  __dict__\n",
      " |      dictionary for instance variables (if defined)\n",
      " |  \n",
      " |  __weakref__\n",
      " |      list of weak references to the object (if defined)\n",
      "\n"
     ]
    }
   ],
   "source": [
    "'''\n",
    "這是摘要一個物件的方法\n",
    "'''\n",
    "help(o)"
   ]
  },
  {
   "cell_type": "code",
   "execution_count": 68,
   "metadata": {},
   "outputs": [
    {
     "data": {
      "text/plain": [
       "dict_keys(['_operation'])"
      ]
     },
     "execution_count": 68,
     "metadata": {},
     "output_type": "execute_result"
    }
   ],
   "source": [
    "'''\n",
    "如果要看 values，也就是 instnace variables\n",
    "'''\n",
    "o.__dict__.keys()"
   ]
  },
  {
   "cell_type": "code",
   "execution_count": 69,
   "metadata": {},
   "outputs": [
    {
     "data": {
      "text/plain": [
       "{'_operation': 'add'}"
      ]
     },
     "execution_count": 69,
     "metadata": {},
     "output_type": "execute_result"
    }
   ],
   "source": [
    "o.__dict__"
   ]
  },
  {
   "cell_type": "markdown",
   "metadata": {},
   "source": [
    "## How to Get a List of Class Attributes in Python\n",
    "http://www.blog.pythonlibrary.org/2013/01/11/how-to-get-a-list-of-class-attributes/"
   ]
  },
  {
   "cell_type": "code",
   "execution_count": 70,
   "metadata": {},
   "outputs": [
    {
     "data": {
      "text/plain": [
       "'add'"
      ]
     },
     "execution_count": 70,
     "metadata": {},
     "output_type": "execute_result"
    }
   ],
   "source": [
    "o._operation"
   ]
  },
  {
   "cell_type": "code",
   "execution_count": 71,
   "metadata": {},
   "outputs": [
    {
     "name": "stdout",
     "output_type": "stream",
     "text": [
      "Variable     Type          Data/Info\n",
      "------------------------------------\n",
      "Calculator   type          <class 'calculator.Calculator.Calculator'>\n",
      "Operation    type          <class 'Operation.Operation'>\n",
      "c            Calculator    <calculator.Calculator.Ca<...>ct at 0x000002076B5847B8>\n",
      "c2           Calculator    <calculator.Calculator.Ca<...>ct at 0x000002076B30FD68>\n",
      "multiply     Operation     <Operation.Operation obje<...>ct at 0x000002076B30FD30>\n",
      "o            Operation     <Operation.Operation obje<...>ct at 0x000002076B533320>\n"
     ]
    }
   ],
   "source": [
    "%whos"
   ]
  },
  {
   "cell_type": "code",
   "execution_count": 72,
   "metadata": {},
   "outputs": [
    {
     "data": {
      "text/plain": [
       "True"
      ]
     },
     "execution_count": 72,
     "metadata": {},
     "output_type": "execute_result"
    }
   ],
   "source": [
    "isinstance(o, Operation)"
   ]
  },
  {
   "cell_type": "code",
   "execution_count": 73,
   "metadata": {},
   "outputs": [
    {
     "data": {
      "text/plain": [
       "'add'"
      ]
     },
     "execution_count": 73,
     "metadata": {},
     "output_type": "execute_result"
    }
   ],
   "source": [
    "o._operation"
   ]
  },
  {
   "cell_type": "markdown",
   "metadata": {},
   "source": [
    "## 在指定 add 的運算條件下，對兩個數作運算"
   ]
  },
  {
   "cell_type": "code",
   "execution_count": 74,
   "metadata": {},
   "outputs": [
    {
     "data": {
      "text/plain": [
       "12"
      ]
     },
     "execution_count": 74,
     "metadata": {},
     "output_type": "execute_result"
    }
   ],
   "source": [
    "o.evaluate(3, 9)"
   ]
  },
  {
   "cell_type": "code",
   "execution_count": null,
   "metadata": {},
   "outputs": [],
   "source": []
  },
  {
   "cell_type": "markdown",
   "metadata": {},
   "source": [
    "## 我們來介紹一個最簡單的計算器，\n",
    "\n",
    "1. 還沒使用之前，它會顯示一個數: _input_list\n",
    "2. 你可以輸入：放入 _input_list 中\n",
    "    - 數字 (value) -運算 (operation) -數字-運算-數字-計算 (evaluate)\n",
    "    - enter_value()\n",
    "    - enter_operation()\n",
    "2. 所有輸入的字串都會先存起來，放在 _input_list 中\n",
    "3. 直到 evaluate() 才一次算完"
   ]
  },
  {
   "cell_type": "code",
   "execution_count": 78,
   "metadata": {},
   "outputs": [
    {
     "name": "stdout",
     "output_type": "stream",
     "text": [
      " 磁碟區 D 中的磁碟是 新增磁碟區\n",
      " 磁碟區序號:  E422-9B08\n",
      "\n",
      " D:\\Google雲端硬碟\\GettingStartedWithPythonAndRaspberryPi-book_release\\Chapter04\\calculator 的目錄\n",
      "\n",
      "2019/09/26  下午 04:45    <DIR>          .\n",
      "2019/09/26  下午 04:45    <DIR>          ..\n",
      "2018/03/13  上午 03:09                 0 __init__.py\n",
      "2018/04/05  下午 04:32               109 __init__.pyc\n",
      "2019/10/01  上午 07:48    <DIR>          __pycache__\n",
      "2018/03/13  上午 03:09             1,050 Calculator.py\n",
      "2018/04/04  下午 07:03             1,610 Calculator.pyc\n",
      "2018/03/13  上午 03:09               542 Operation.py\n",
      "2018/04/04  下午 04:09               848 Operation.pyc\n",
      "               6 個檔案           4,159 位元組\n",
      "               3 個目錄  896,144,871,424 位元組可用\n"
     ]
    }
   ],
   "source": [
    "'''\n",
    "我們要用的 script 為 do_calculation.ps，它是放在 Chapter04/ 目錄底下\n",
    "'''\n",
    "%ls"
   ]
  },
  {
   "cell_type": "code",
   "execution_count": 79,
   "metadata": {},
   "outputs": [
    {
     "data": {
      "text/plain": [
       "'D:\\\\Google雲端硬碟\\\\GettingStartedWithPythonAndRaspberryPi-book_release\\\\Chapter04\\\\calculator'"
      ]
     },
     "execution_count": 79,
     "metadata": {},
     "output_type": "execute_result"
    }
   ],
   "source": [
    "%pwd"
   ]
  },
  {
   "cell_type": "code",
   "execution_count": 80,
   "metadata": {},
   "outputs": [
    {
     "name": "stdout",
     "output_type": "stream",
     "text": [
      "D:\\Google雲端硬碟\\GettingStartedWithPythonAndRaspberryPi-book_release\\Chapter04\n"
     ]
    },
    {
     "data": {
      "text/plain": [
       "'D:\\\\Google雲端硬碟\\\\GettingStartedWithPythonAndRaspberryPi-book_release\\\\Chapter04'"
      ]
     },
     "execution_count": 80,
     "metadata": {},
     "output_type": "execute_result"
    }
   ],
   "source": [
    "'''\n",
    "因為目前在 calculator/ ，我們往上移，移到 Chapter04\n",
    "'''\n",
    "%cd \"D:\\Google雲端硬碟\\GettingStartedWithPythonAndRaspberryPi-book_release\\Chapter04\"\n",
    "%pwd"
   ]
  },
  {
   "cell_type": "code",
   "execution_count": 81,
   "metadata": {},
   "outputs": [
    {
     "name": "stdout",
     "output_type": "stream",
     "text": [
      "列出磁碟區 新增磁碟區 的資料夾 PATH\n",
      "磁碟區序號為 E422-9B08\n",
      "D:.\n",
      "├─.ipynb_checkpoints\n",
      "├─calculator\n",
      "│  └─__pycache__\n",
      "└─__pycache__\n"
     ]
    }
   ],
   "source": [
    "!tree"
   ]
  },
  {
   "cell_type": "code",
   "execution_count": 83,
   "metadata": {},
   "outputs": [],
   "source": [
    "'''\n",
    "如果我們要引用 calculator/ 目錄底下的 Calculator.ps 就要像如下這構寫：\n",
    "'''\n",
    "from calculator.Calculator import Calculator # from module import class"
   ]
  },
  {
   "cell_type": "code",
   "execution_count": 84,
   "metadata": {},
   "outputs": [
    {
     "name": "stdout",
     "output_type": "stream",
     "text": [
      "Variable     Type          Data/Info\n",
      "------------------------------------\n",
      "Calculator   type          <class 'calculator.Calculator.Calculator'>\n",
      "Operation    type          <class 'Operation.Operation'>\n",
      "c            Calculator    <calculator.Calculator.Ca<...>ct at 0x000002076B5847B8>\n",
      "c2           Calculator    <calculator.Calculator.Ca<...>ct at 0x000002076B30FD68>\n",
      "multiply     Operation     <Operation.Operation obje<...>ct at 0x000002076B30FD30>\n",
      "o            Operation     <Operation.Operation obje<...>ct at 0x000002076B533320>\n"
     ]
    }
   ],
   "source": [
    "%whos"
   ]
  },
  {
   "cell_type": "code",
   "execution_count": 85,
   "metadata": {},
   "outputs": [],
   "source": [
    "c1 = Calculator()"
   ]
  },
  {
   "cell_type": "code",
   "execution_count": 86,
   "metadata": {},
   "outputs": [
    {
     "data": {
      "text/plain": [
       "[1.0,\n",
       " <Operation.Operation at 0x2076a5a4ba8>,\n",
       " 9.0,\n",
       " <Operation.Operation at 0x2076a5a4b00>,\n",
       " 5.0,\n",
       " <Operation.Operation at 0x2076a5a4b70>,\n",
       " 20.0]"
      ]
     },
     "execution_count": 86,
     "metadata": {},
     "output_type": "execute_result"
    }
   ],
   "source": [
    "c1._input_list"
   ]
  },
  {
   "cell_type": "code",
   "execution_count": 87,
   "metadata": {},
   "outputs": [
    {
     "data": {
      "text/plain": [
       "{}"
      ]
     },
     "execution_count": 87,
     "metadata": {},
     "output_type": "execute_result"
    }
   ],
   "source": [
    "c1.__dict__"
   ]
  },
  {
   "cell_type": "code",
   "execution_count": 88,
   "metadata": {},
   "outputs": [
    {
     "name": "stdout",
     "output_type": "stream",
     "text": [
      "Help on class Calculator in module calculator.Calculator:\n",
      "\n",
      "class Calculator(builtins.object)\n",
      " |  Methods defined here:\n",
      " |  \n",
      " |  all_clear(self)\n",
      " |  \n",
      " |  enter_operation(self, operation_name)\n",
      " |  \n",
      " |  enter_value(self, value)\n",
      " |  \n",
      " |  evaluate(self)\n",
      " |  \n",
      " |  get_result(self)\n",
      " |  \n",
      " |  ----------------------------------------------------------------------\n",
      " |  Data descriptors defined here:\n",
      " |  \n",
      " |  __dict__\n",
      " |      dictionary for instance variables (if defined)\n",
      " |  \n",
      " |  __weakref__\n",
      " |      list of weak references to the object (if defined)\n",
      "\n"
     ]
    }
   ],
   "source": [
    "help(Calculator)"
   ]
  },
  {
   "cell_type": "code",
   "execution_count": 89,
   "metadata": {},
   "outputs": [
    {
     "data": {
      "text/plain": [
       "mappingproxy({'__module__': 'calculator.Calculator',\n",
       "              '_input_list': [1.0,\n",
       "               <Operation.Operation at 0x2076a5a4ba8>,\n",
       "               9.0,\n",
       "               <Operation.Operation at 0x2076a5a4b00>,\n",
       "               5.0,\n",
       "               <Operation.Operation at 0x2076a5a4b70>,\n",
       "               20.0],\n",
       "              '_result': 0.0,\n",
       "              'enter_value': <function calculator.Calculator.Calculator.enter_value(self, value)>,\n",
       "              'enter_operation': <function calculator.Calculator.Calculator.enter_operation(self, operation_name)>,\n",
       "              'evaluate': <function calculator.Calculator.Calculator.evaluate(self)>,\n",
       "              'get_result': <function calculator.Calculator.Calculator.get_result(self)>,\n",
       "              'all_clear': <function calculator.Calculator.Calculator.all_clear(self)>,\n",
       "              '__dict__': <attribute '__dict__' of 'Calculator' objects>,\n",
       "              '__weakref__': <attribute '__weakref__' of 'Calculator' objects>,\n",
       "              '__doc__': None})"
      ]
     },
     "execution_count": 89,
     "metadata": {},
     "output_type": "execute_result"
    }
   ],
   "source": [
    "Calculator.__dict__"
   ]
  },
  {
   "cell_type": "code",
   "execution_count": 90,
   "metadata": {},
   "outputs": [
    {
     "data": {
      "text/plain": [
       "0.0"
      ]
     },
     "execution_count": 90,
     "metadata": {},
     "output_type": "execute_result"
    }
   ],
   "source": [
    "c1._result"
   ]
  },
  {
   "cell_type": "code",
   "execution_count": 91,
   "metadata": {},
   "outputs": [],
   "source": [
    "c = Calculator()"
   ]
  },
  {
   "cell_type": "code",
   "execution_count": 92,
   "metadata": {},
   "outputs": [
    {
     "data": {
      "text/plain": [
       "{}"
      ]
     },
     "execution_count": 92,
     "metadata": {},
     "output_type": "execute_result"
    }
   ],
   "source": [
    "c1.__dict__"
   ]
  },
  {
   "cell_type": "code",
   "execution_count": 93,
   "metadata": {},
   "outputs": [
    {
     "data": {
      "text/plain": [
       "[1.0,\n",
       " <Operation.Operation at 0x2076a5a4ba8>,\n",
       " 9.0,\n",
       " <Operation.Operation at 0x2076a5a4b00>,\n",
       " 5.0,\n",
       " <Operation.Operation at 0x2076a5a4b70>,\n",
       " 20.0]"
      ]
     },
     "execution_count": 93,
     "metadata": {},
     "output_type": "execute_result"
    }
   ],
   "source": [
    "c._input_list"
   ]
  },
  {
   "cell_type": "code",
   "execution_count": 94,
   "metadata": {},
   "outputs": [
    {
     "name": "stdout",
     "output_type": "stream",
     "text": [
      "Variable     Type          Data/Info\n",
      "------------------------------------\n",
      "Calculator   type          <class 'calculator.Calculator.Calculator'>\n",
      "Operation    type          <class 'Operation.Operation'>\n",
      "c            Calculator    <calculator.Calculator.Ca<...>ct at 0x000002076B31B3C8>\n",
      "c1           Calculator    <calculator.Calculator.Ca<...>ct at 0x000002076B31B0B8>\n",
      "c2           Calculator    <calculator.Calculator.Ca<...>ct at 0x000002076B30FD68>\n",
      "multiply     Operation     <Operation.Operation obje<...>ct at 0x000002076B30FD30>\n",
      "o            Operation     <Operation.Operation obje<...>ct at 0x000002076B533320>\n"
     ]
    }
   ],
   "source": [
    "%whos"
   ]
  },
  {
   "cell_type": "code",
   "execution_count": 95,
   "metadata": {},
   "outputs": [
    {
     "data": {
      "text/plain": [
       "{}"
      ]
     },
     "execution_count": 95,
     "metadata": {},
     "output_type": "execute_result"
    }
   ],
   "source": [
    "c.__dict__"
   ]
  },
  {
   "cell_type": "code",
   "execution_count": 96,
   "metadata": {},
   "outputs": [
    {
     "data": {
      "text/plain": [
       "[1.0,\n",
       " <Operation.Operation at 0x2076a5a4ba8>,\n",
       " 9.0,\n",
       " <Operation.Operation at 0x2076a5a4b00>,\n",
       " 5.0,\n",
       " <Operation.Operation at 0x2076a5a4b70>,\n",
       " 20.0]"
      ]
     },
     "execution_count": 96,
     "metadata": {},
     "output_type": "execute_result"
    }
   ],
   "source": [
    "c._input_list"
   ]
  },
  {
   "cell_type": "code",
   "execution_count": 97,
   "metadata": {},
   "outputs": [
    {
     "name": "stdout",
     "output_type": "stream",
     "text": [
      "Help on Calculator in module calculator.Calculator object:\n",
      "\n",
      "class Calculator(builtins.object)\n",
      " |  Methods defined here:\n",
      " |  \n",
      " |  all_clear(self)\n",
      " |  \n",
      " |  enter_operation(self, operation_name)\n",
      " |  \n",
      " |  enter_value(self, value)\n",
      " |  \n",
      " |  evaluate(self)\n",
      " |  \n",
      " |  get_result(self)\n",
      " |  \n",
      " |  ----------------------------------------------------------------------\n",
      " |  Data descriptors defined here:\n",
      " |  \n",
      " |  __dict__\n",
      " |      dictionary for instance variables (if defined)\n",
      " |  \n",
      " |  __weakref__\n",
      " |      list of weak references to the object (if defined)\n",
      "\n"
     ]
    }
   ],
   "source": [
    "help(c)"
   ]
  },
  {
   "cell_type": "code",
   "execution_count": 98,
   "metadata": {},
   "outputs": [
    {
     "data": {
      "text/plain": [
       "0.0"
      ]
     },
     "execution_count": 98,
     "metadata": {},
     "output_type": "execute_result"
    }
   ],
   "source": [
    "c._result"
   ]
  },
  {
   "cell_type": "code",
   "execution_count": 99,
   "metadata": {},
   "outputs": [
    {
     "data": {
      "text/plain": [
       "dict_keys([])"
      ]
     },
     "execution_count": 99,
     "metadata": {},
     "output_type": "execute_result"
    }
   ],
   "source": [
    "c.__dict__.keys()"
   ]
  },
  {
   "cell_type": "code",
   "execution_count": 100,
   "metadata": {},
   "outputs": [
    {
     "ename": "RuntimeError",
     "evalue": "Must enter an operation next",
     "output_type": "error",
     "traceback": [
      "\u001b[1;31m---------------------------------------------------------------------------\u001b[0m",
      "\u001b[1;31mRuntimeError\u001b[0m                              Traceback (most recent call last)",
      "\u001b[1;32m<ipython-input-100-4b6cd06e8b4c>\u001b[0m in \u001b[0;36m<module>\u001b[1;34m\u001b[0m\n\u001b[1;32m----> 1\u001b[1;33m \u001b[0mc\u001b[0m\u001b[1;33m.\u001b[0m\u001b[0menter_value\u001b[0m\u001b[1;33m(\u001b[0m\u001b[1;36m1\u001b[0m\u001b[1;33m)\u001b[0m\u001b[1;33m\u001b[0m\u001b[1;33m\u001b[0m\u001b[0m\n\u001b[0m",
      "\u001b[1;32mD:\\Google雲端硬碟\\GettingStartedWithPythonAndRaspberryPi-book_release\\Chapter04\\calculator\\Calculator.py\u001b[0m in \u001b[0;36menter_value\u001b[1;34m(self, value)\u001b[0m\n\u001b[0;32m      7\u001b[0m     \u001b[1;32mdef\u001b[0m \u001b[0menter_value\u001b[0m\u001b[1;33m(\u001b[0m\u001b[0mself\u001b[0m\u001b[1;33m,\u001b[0m \u001b[0mvalue\u001b[0m\u001b[1;33m)\u001b[0m\u001b[1;33m:\u001b[0m\u001b[1;33m\u001b[0m\u001b[1;33m\u001b[0m\u001b[0m\n\u001b[0;32m      8\u001b[0m         \u001b[1;32mif\u001b[0m \u001b[0mlen\u001b[0m\u001b[1;33m(\u001b[0m\u001b[0mself\u001b[0m\u001b[1;33m.\u001b[0m\u001b[0m_input_list\u001b[0m\u001b[1;33m)\u001b[0m \u001b[1;33m>\u001b[0m \u001b[1;36m0\u001b[0m \u001b[1;32mand\u001b[0m \u001b[1;32mnot\u001b[0m \u001b[0misinstance\u001b[0m\u001b[1;33m(\u001b[0m\u001b[0mself\u001b[0m\u001b[1;33m.\u001b[0m\u001b[0m_input_list\u001b[0m\u001b[1;33m[\u001b[0m\u001b[1;33m-\u001b[0m\u001b[1;36m1\u001b[0m\u001b[1;33m]\u001b[0m\u001b[1;33m,\u001b[0m \u001b[0mOperation\u001b[0m\u001b[1;33m)\u001b[0m\u001b[1;33m:\u001b[0m\u001b[1;33m\u001b[0m\u001b[1;33m\u001b[0m\u001b[0m\n\u001b[1;32m----> 9\u001b[1;33m             \u001b[1;32mraise\u001b[0m \u001b[0mRuntimeError\u001b[0m\u001b[1;33m(\u001b[0m\u001b[1;34m\"Must enter an operation next\"\u001b[0m\u001b[1;33m)\u001b[0m\u001b[1;33m\u001b[0m\u001b[1;33m\u001b[0m\u001b[0m\n\u001b[0m\u001b[0;32m     10\u001b[0m         \u001b[0mself\u001b[0m\u001b[1;33m.\u001b[0m\u001b[0m_input_list\u001b[0m\u001b[1;33m.\u001b[0m\u001b[0mappend\u001b[0m\u001b[1;33m(\u001b[0m\u001b[0mfloat\u001b[0m\u001b[1;33m(\u001b[0m\u001b[0mvalue\u001b[0m\u001b[1;33m)\u001b[0m\u001b[1;33m)\u001b[0m\u001b[1;33m\u001b[0m\u001b[1;33m\u001b[0m\u001b[0m\n\u001b[0;32m     11\u001b[0m \u001b[1;33m\u001b[0m\u001b[0m\n",
      "\u001b[1;31mRuntimeError\u001b[0m: Must enter an operation next"
     ]
    }
   ],
   "source": [
    "c.enter_value(1)"
   ]
  },
  {
   "cell_type": "code",
   "execution_count": 101,
   "metadata": {},
   "outputs": [
    {
     "data": {
      "text/plain": [
       "[1.0,\n",
       " <Operation.Operation at 0x2076a5a4ba8>,\n",
       " 9.0,\n",
       " <Operation.Operation at 0x2076a5a4b00>,\n",
       " 5.0,\n",
       " <Operation.Operation at 0x2076a5a4b70>,\n",
       " 20.0]"
      ]
     },
     "execution_count": 101,
     "metadata": {},
     "output_type": "execute_result"
    }
   ],
   "source": [
    "c._input_list"
   ]
  },
  {
   "cell_type": "code",
   "execution_count": 102,
   "metadata": {},
   "outputs": [
    {
     "data": {
      "text/plain": [
       "{}"
      ]
     },
     "execution_count": 102,
     "metadata": {},
     "output_type": "execute_result"
    }
   ],
   "source": [
    "c.__dict__"
   ]
  },
  {
   "cell_type": "code",
   "execution_count": 103,
   "metadata": {},
   "outputs": [],
   "source": [
    "c.all_clear()"
   ]
  },
  {
   "cell_type": "code",
   "execution_count": 104,
   "metadata": {},
   "outputs": [
    {
     "data": {
      "text/plain": [
       "{'_input_list': [], '_result': 0.0}"
      ]
     },
     "execution_count": 104,
     "metadata": {},
     "output_type": "execute_result"
    }
   ],
   "source": [
    "c.__dict__"
   ]
  },
  {
   "cell_type": "code",
   "execution_count": 105,
   "metadata": {},
   "outputs": [
    {
     "data": {
      "text/plain": [
       "mappingproxy({'__module__': 'calculator.Calculator',\n",
       "              '_input_list': [1.0,\n",
       "               <Operation.Operation at 0x2076a5a4ba8>,\n",
       "               9.0,\n",
       "               <Operation.Operation at 0x2076a5a4b00>,\n",
       "               5.0,\n",
       "               <Operation.Operation at 0x2076a5a4b70>,\n",
       "               20.0],\n",
       "              '_result': 0.0,\n",
       "              'enter_value': <function calculator.Calculator.Calculator.enter_value(self, value)>,\n",
       "              'enter_operation': <function calculator.Calculator.Calculator.enter_operation(self, operation_name)>,\n",
       "              'evaluate': <function calculator.Calculator.Calculator.evaluate(self)>,\n",
       "              'get_result': <function calculator.Calculator.Calculator.get_result(self)>,\n",
       "              'all_clear': <function calculator.Calculator.Calculator.all_clear(self)>,\n",
       "              '__dict__': <attribute '__dict__' of 'Calculator' objects>,\n",
       "              '__weakref__': <attribute '__weakref__' of 'Calculator' objects>,\n",
       "              '__doc__': None})"
      ]
     },
     "execution_count": 105,
     "metadata": {},
     "output_type": "execute_result"
    }
   ],
   "source": [
    "Calculator.__dict__"
   ]
  },
  {
   "cell_type": "code",
   "execution_count": 106,
   "metadata": {},
   "outputs": [
    {
     "data": {
      "text/plain": [
       "[]"
      ]
     },
     "execution_count": 106,
     "metadata": {},
     "output_type": "execute_result"
    }
   ],
   "source": [
    "c._input_list"
   ]
  },
  {
   "cell_type": "code",
   "execution_count": 107,
   "metadata": {},
   "outputs": [
    {
     "data": {
      "text/plain": [
       "{'_input_list': [], '_result': 0.0}"
      ]
     },
     "execution_count": 107,
     "metadata": {},
     "output_type": "execute_result"
    }
   ],
   "source": [
    "c.__dict__"
   ]
  },
  {
   "cell_type": "code",
   "execution_count": 108,
   "metadata": {},
   "outputs": [],
   "source": [
    "%more do_calculation.py"
   ]
  },
  {
   "cell_type": "code",
   "execution_count": 109,
   "metadata": {},
   "outputs": [
    {
     "ename": "RuntimeError",
     "evalue": "Must enter an operation next",
     "output_type": "error",
     "traceback": [
      "\u001b[1;31m---------------------------------------------------------------------------\u001b[0m",
      "\u001b[1;31mRuntimeError\u001b[0m                              Traceback (most recent call last)",
      "\u001b[1;32mD:\\Google雲端硬碟\\GettingStartedWithPythonAndRaspberryPi-book_release\\Chapter04\\do_calculation.py\u001b[0m in \u001b[0;36m<module>\u001b[1;34m\u001b[0m\n\u001b[0;32m      5\u001b[0m \u001b[0mc\u001b[0m \u001b[1;33m=\u001b[0m \u001b[0mCalculator\u001b[0m\u001b[1;33m(\u001b[0m\u001b[1;33m)\u001b[0m\u001b[1;33m\u001b[0m\u001b[1;33m\u001b[0m\u001b[0m\n\u001b[0;32m      6\u001b[0m \u001b[1;33m\u001b[0m\u001b[0m\n\u001b[1;32m----> 7\u001b[1;33m \u001b[0mc\u001b[0m\u001b[1;33m.\u001b[0m\u001b[0menter_value\u001b[0m\u001b[1;33m(\u001b[0m\u001b[1;36m1\u001b[0m\u001b[1;33m)\u001b[0m\u001b[1;33m\u001b[0m\u001b[1;33m\u001b[0m\u001b[0m\n\u001b[0m\u001b[0;32m      8\u001b[0m \u001b[0mc\u001b[0m\u001b[1;33m.\u001b[0m\u001b[0menter_operation\u001b[0m\u001b[1;33m(\u001b[0m\u001b[1;34m\"add\"\u001b[0m\u001b[1;33m)\u001b[0m\u001b[1;33m\u001b[0m\u001b[1;33m\u001b[0m\u001b[0m\n\u001b[0;32m      9\u001b[0m \u001b[0mc\u001b[0m\u001b[1;33m.\u001b[0m\u001b[0menter_value\u001b[0m\u001b[1;33m(\u001b[0m\u001b[1;36m9\u001b[0m\u001b[1;33m)\u001b[0m\u001b[1;33m\u001b[0m\u001b[1;33m\u001b[0m\u001b[0m\n",
      "\u001b[1;32mD:\\Google雲端硬碟\\GettingStartedWithPythonAndRaspberryPi-book_release\\Chapter04\\calculator\\Calculator.py\u001b[0m in \u001b[0;36menter_value\u001b[1;34m(self, value)\u001b[0m\n\u001b[0;32m      7\u001b[0m     \u001b[1;32mdef\u001b[0m \u001b[0menter_value\u001b[0m\u001b[1;33m(\u001b[0m\u001b[0mself\u001b[0m\u001b[1;33m,\u001b[0m \u001b[0mvalue\u001b[0m\u001b[1;33m)\u001b[0m\u001b[1;33m:\u001b[0m\u001b[1;33m\u001b[0m\u001b[1;33m\u001b[0m\u001b[0m\n\u001b[0;32m      8\u001b[0m         \u001b[1;32mif\u001b[0m \u001b[0mlen\u001b[0m\u001b[1;33m(\u001b[0m\u001b[0mself\u001b[0m\u001b[1;33m.\u001b[0m\u001b[0m_input_list\u001b[0m\u001b[1;33m)\u001b[0m \u001b[1;33m>\u001b[0m \u001b[1;36m0\u001b[0m \u001b[1;32mand\u001b[0m \u001b[1;32mnot\u001b[0m \u001b[0misinstance\u001b[0m\u001b[1;33m(\u001b[0m\u001b[0mself\u001b[0m\u001b[1;33m.\u001b[0m\u001b[0m_input_list\u001b[0m\u001b[1;33m[\u001b[0m\u001b[1;33m-\u001b[0m\u001b[1;36m1\u001b[0m\u001b[1;33m]\u001b[0m\u001b[1;33m,\u001b[0m \u001b[0mOperation\u001b[0m\u001b[1;33m)\u001b[0m\u001b[1;33m:\u001b[0m\u001b[1;33m\u001b[0m\u001b[1;33m\u001b[0m\u001b[0m\n\u001b[1;32m----> 9\u001b[1;33m             \u001b[1;32mraise\u001b[0m \u001b[0mRuntimeError\u001b[0m\u001b[1;33m(\u001b[0m\u001b[1;34m\"Must enter an operation next\"\u001b[0m\u001b[1;33m)\u001b[0m\u001b[1;33m\u001b[0m\u001b[1;33m\u001b[0m\u001b[0m\n\u001b[0m\u001b[0;32m     10\u001b[0m         \u001b[0mself\u001b[0m\u001b[1;33m.\u001b[0m\u001b[0m_input_list\u001b[0m\u001b[1;33m.\u001b[0m\u001b[0mappend\u001b[0m\u001b[1;33m(\u001b[0m\u001b[0mfloat\u001b[0m\u001b[1;33m(\u001b[0m\u001b[0mvalue\u001b[0m\u001b[1;33m)\u001b[0m\u001b[1;33m)\u001b[0m\u001b[1;33m\u001b[0m\u001b[1;33m\u001b[0m\u001b[0m\n\u001b[0;32m     11\u001b[0m \u001b[1;33m\u001b[0m\u001b[0m\n",
      "\u001b[1;31mRuntimeError\u001b[0m: Must enter an operation next"
     ]
    }
   ],
   "source": [
    "%run do_calculation.py"
   ]
  },
  {
   "cell_type": "code",
   "execution_count": 110,
   "metadata": {},
   "outputs": [
    {
     "data": {
      "text/plain": [
       "[1.0,\n",
       " <Operation.Operation at 0x2076a5a4ba8>,\n",
       " 9.0,\n",
       " <Operation.Operation at 0x2076a5a4b00>,\n",
       " 5.0,\n",
       " <Operation.Operation at 0x2076a5a4b70>,\n",
       " 20.0]"
      ]
     },
     "execution_count": 110,
     "metadata": {},
     "output_type": "execute_result"
    }
   ],
   "source": [
    "c._input_list"
   ]
  },
  {
   "cell_type": "code",
   "execution_count": 111,
   "metadata": {},
   "outputs": [],
   "source": [
    "c.enter_operation(\"divide\")"
   ]
  },
  {
   "cell_type": "code",
   "execution_count": 112,
   "metadata": {},
   "outputs": [
    {
     "data": {
      "text/plain": [
       "[1.0,\n",
       " <Operation.Operation at 0x2076a5a4ba8>,\n",
       " 9.0,\n",
       " <Operation.Operation at 0x2076a5a4b00>,\n",
       " 5.0,\n",
       " <Operation.Operation at 0x2076a5a4b70>,\n",
       " 20.0,\n",
       " <Operation.Operation at 0x2076b585358>]"
      ]
     },
     "execution_count": 112,
     "metadata": {},
     "output_type": "execute_result"
    }
   ],
   "source": [
    "c._input_list"
   ]
  },
  {
   "cell_type": "code",
   "execution_count": 113,
   "metadata": {},
   "outputs": [
    {
     "data": {
      "text/plain": [
       "dict_keys([])"
      ]
     },
     "execution_count": 113,
     "metadata": {},
     "output_type": "execute_result"
    }
   ],
   "source": [
    "c.__dict__.keys()"
   ]
  },
  {
   "cell_type": "code",
   "execution_count": 114,
   "metadata": {},
   "outputs": [
    {
     "data": {
      "text/plain": [
       "{}"
      ]
     },
     "execution_count": 114,
     "metadata": {},
     "output_type": "execute_result"
    }
   ],
   "source": [
    "c.__dict__"
   ]
  },
  {
   "cell_type": "code",
   "execution_count": 115,
   "metadata": {},
   "outputs": [],
   "source": [
    "c.enter_value(7)"
   ]
  },
  {
   "cell_type": "code",
   "execution_count": 116,
   "metadata": {},
   "outputs": [
    {
     "data": {
      "text/plain": [
       "[1.0,\n",
       " <Operation.Operation at 0x2076a5a4ba8>,\n",
       " 9.0,\n",
       " <Operation.Operation at 0x2076a5a4b00>,\n",
       " 5.0,\n",
       " <Operation.Operation at 0x2076a5a4b70>,\n",
       " 20.0,\n",
       " <Operation.Operation at 0x2076b585358>,\n",
       " 7.0]"
      ]
     },
     "execution_count": 116,
     "metadata": {},
     "output_type": "execute_result"
    }
   ],
   "source": [
    "# 注意在 list 中的  elelement 是一個 object\n",
    "c._input_list"
   ]
  },
  {
   "cell_type": "code",
   "execution_count": 117,
   "metadata": {},
   "outputs": [
    {
     "name": "stdout",
     "output_type": "stream",
     "text": [
      "0.35714285714285715\n"
     ]
    }
   ],
   "source": [
    "print(c.evaluate())"
   ]
  },
  {
   "cell_type": "code",
   "execution_count": 118,
   "metadata": {},
   "outputs": [
    {
     "data": {
      "text/plain": [
       "[1.0,\n",
       " <Operation.Operation at 0x2076a5a4ba8>,\n",
       " 9.0,\n",
       " <Operation.Operation at 0x2076a5a4b00>,\n",
       " 5.0,\n",
       " <Operation.Operation at 0x2076a5a4b70>,\n",
       " 20.0,\n",
       " <Operation.Operation at 0x2076b585358>,\n",
       " 7.0]"
      ]
     },
     "execution_count": 118,
     "metadata": {},
     "output_type": "execute_result"
    }
   ],
   "source": [
    "'''\n",
    "即使算完之後，仍然保留 _input_list 內的內容\n",
    "'''\n",
    "c._input_list"
   ]
  },
  {
   "cell_type": "code",
   "execution_count": 119,
   "metadata": {},
   "outputs": [
    {
     "data": {
      "text/plain": [
       "0.35714285714285715"
      ]
     },
     "execution_count": 119,
     "metadata": {},
     "output_type": "execute_result"
    }
   ],
   "source": [
    "'''\n",
    "算完之後的結果放在 _result 中\n",
    "'''\n",
    "c._result"
   ]
  },
  {
   "cell_type": "code",
   "execution_count": 120,
   "metadata": {},
   "outputs": [],
   "source": [
    "c.all_clear()"
   ]
  },
  {
   "cell_type": "code",
   "execution_count": 121,
   "metadata": {},
   "outputs": [
    {
     "data": {
      "text/plain": [
       "{'_result': 0.0, '_input_list': []}"
      ]
     },
     "execution_count": 121,
     "metadata": {},
     "output_type": "execute_result"
    }
   ],
   "source": [
    "c.__dict__"
   ]
  },
  {
   "cell_type": "markdown",
   "metadata": {},
   "source": [
    "### 我們來看一下是怎麼算的？\n",
    "```python:\n",
    "    def evaluate(self):\n",
    "        self._result = self._input_list[0]\n",
    "        for idx in range(1, len(self._input_list), 2):\n",
    "            operation = self._input_list[idx]\n",
    "            next_value = self._input_list[idx + 1]\n",
    "            self._result = operation.evaluate(self._result, next_value)\n",
    "        return self._result\n",
    "```"
   ]
  },
  {
   "cell_type": "code",
   "execution_count": 122,
   "metadata": {},
   "outputs": [],
   "source": [
    "Calculator.evaluate??"
   ]
  },
  {
   "cell_type": "code",
   "execution_count": 123,
   "metadata": {},
   "outputs": [],
   "source": [
    "Calculator??"
   ]
  },
  {
   "cell_type": "code",
   "execution_count": null,
   "metadata": {},
   "outputs": [],
   "source": []
  },
  {
   "cell_type": "markdown",
   "metadata": {},
   "source": [
    "## 另外定義一個 Calculator2 的類別：\n",
    "## 主要是要看每次計算的過程"
   ]
  },
  {
   "cell_type": "code",
   "execution_count": 125,
   "metadata": {},
   "outputs": [],
   "source": [
    "from Operation import Operation\n",
    "\n",
    "'''\n",
    "主要是看每次 enter_value 或是 enter_operation 之後\n",
    "self._input_list 的內容，\n",
    "所以增加一個 print() 的指令。\n",
    "'''\n",
    "\n",
    "class Calculator2(object):\n",
    "    _input_list = list()\n",
    "    _result = 0.0\n",
    "\n",
    "    def enter_value(self, value):\n",
    "        if len(self._input_list) > 0 and not isinstance(self._input_list[-1], Operation):\n",
    "            raise RuntimeError(\"Must enter an operation next\")\n",
    "        self._input_list.append(float(value))\n",
    "        print(self._input_list) \n",
    "\n",
    "    def enter_operation(self, operation_name):\n",
    "        if len(self._input_list) == 0 or isinstance(self._input_list[-1], Operation):\n",
    "            raise RuntimeError(\"Must enter a value next\")\n",
    "        self._input_list.append(Operation(operation_name))\n",
    "        print(self._input_list)\n",
    "\n",
    "    def evaluate(self):\n",
    "        self._result = self._input_list[0] # 1 + 2 * 3 /5 = \n",
    "        # print \"The complete input string is: \" + str(self._input_list)\n",
    "        for idx in range(1, len(self._input_list), 2):\n",
    "            print(\"\\n\")\n",
    "            print(idx)\n",
    "            pl = [self._result]\n",
    "            pl.extend(self._input_list[(idx):]) # 前想已經算過的就不要了，只留到目前的結果\n",
    "            print(pl) # 接下來是要計算這個還沒算完的算式\n",
    "            #print(self._result)\n",
    "            #print(self._input_list[(idx):])\n",
    "            operation = self._input_list[idx] \n",
    "            next_value = self._input_list[idx + 1]\n",
    "            self._result = operation.evaluate(self._result, next_value)\n",
    "            #print(self._input_list)\n",
    "\n",
    "        return self._result\n",
    "\n",
    "    def get_result(self):\n",
    "        return self._result\n",
    "     \n",
    "\n",
    "    def all_clear(self):\n",
    "        self._input_list = list()\n",
    "        self._result = 0.0"
   ]
  },
  {
   "cell_type": "code",
   "execution_count": 126,
   "metadata": {},
   "outputs": [
    {
     "name": "stdout",
     "output_type": "stream",
     "text": [
      "Help on class Calculator2 in module __main__:\n",
      "\n",
      "class Calculator2(builtins.object)\n",
      " |  Methods defined here:\n",
      " |  \n",
      " |  all_clear(self)\n",
      " |  \n",
      " |  enter_operation(self, operation_name)\n",
      " |  \n",
      " |  enter_value(self, value)\n",
      " |  \n",
      " |  evaluate(self)\n",
      " |  \n",
      " |  get_result(self)\n",
      " |  \n",
      " |  ----------------------------------------------------------------------\n",
      " |  Data descriptors defined here:\n",
      " |  \n",
      " |  __dict__\n",
      " |      dictionary for instance variables (if defined)\n",
      " |  \n",
      " |  __weakref__\n",
      " |      list of weak references to the object (if defined)\n",
      "\n"
     ]
    }
   ],
   "source": [
    "help(Calculator2)"
   ]
  },
  {
   "cell_type": "code",
   "execution_count": 127,
   "metadata": {},
   "outputs": [],
   "source": [
    "'''\n",
    "我們新造這個可以隨時對外報告它的 instance variable 的值\n",
    "'''\n",
    "c2 = Calculator2()"
   ]
  },
  {
   "cell_type": "code",
   "execution_count": 128,
   "metadata": {},
   "outputs": [
    {
     "data": {
      "text/plain": [
       "[]"
      ]
     },
     "execution_count": 128,
     "metadata": {},
     "output_type": "execute_result"
    }
   ],
   "source": [
    "c2._input_list"
   ]
  },
  {
   "cell_type": "code",
   "execution_count": 129,
   "metadata": {},
   "outputs": [
    {
     "data": {
      "text/plain": [
       "0.0"
      ]
     },
     "execution_count": 129,
     "metadata": {},
     "output_type": "execute_result"
    }
   ],
   "source": [
    "c2._result"
   ]
  },
  {
   "cell_type": "code",
   "execution_count": 130,
   "metadata": {},
   "outputs": [
    {
     "name": "stdout",
     "output_type": "stream",
     "text": [
      "Help on Calculator2 in module __main__ object:\n",
      "\n",
      "class Calculator2(builtins.object)\n",
      " |  Methods defined here:\n",
      " |  \n",
      " |  all_clear(self)\n",
      " |  \n",
      " |  enter_operation(self, operation_name)\n",
      " |  \n",
      " |  enter_value(self, value)\n",
      " |  \n",
      " |  evaluate(self)\n",
      " |  \n",
      " |  get_result(self)\n",
      " |  \n",
      " |  ----------------------------------------------------------------------\n",
      " |  Data descriptors defined here:\n",
      " |  \n",
      " |  __dict__\n",
      " |      dictionary for instance variables (if defined)\n",
      " |  \n",
      " |  __weakref__\n",
      " |      list of weak references to the object (if defined)\n",
      "\n"
     ]
    }
   ],
   "source": [
    "help(c2)"
   ]
  },
  {
   "cell_type": "markdown",
   "metadata": {},
   "source": [
    "## 先來看輸入存入的 value operation value operation value"
   ]
  },
  {
   "cell_type": "code",
   "execution_count": 131,
   "metadata": {},
   "outputs": [
    {
     "name": "stdout",
     "output_type": "stream",
     "text": [
      "[9.0]\n"
     ]
    }
   ],
   "source": [
    "c2.enter_value(9)"
   ]
  },
  {
   "cell_type": "code",
   "execution_count": 132,
   "metadata": {},
   "outputs": [
    {
     "data": {
      "text/plain": [
       "[9.0]"
      ]
     },
     "execution_count": 132,
     "metadata": {},
     "output_type": "execute_result"
    }
   ],
   "source": [
    "c2._input_list"
   ]
  },
  {
   "cell_type": "code",
   "execution_count": 133,
   "metadata": {},
   "outputs": [
    {
     "name": "stdout",
     "output_type": "stream",
     "text": [
      "[9.0, <Operation.Operation object at 0x000002076B6958D0>]\n"
     ]
    }
   ],
   "source": [
    "c2.enter_operation(\"divide\")"
   ]
  },
  {
   "cell_type": "code",
   "execution_count": 134,
   "metadata": {},
   "outputs": [
    {
     "name": "stdout",
     "output_type": "stream",
     "text": [
      "[9.0, <Operation.Operation object at 0x000002076B6958D0>, 19.0]\n"
     ]
    }
   ],
   "source": [
    "c2.enter_value(19)"
   ]
  },
  {
   "cell_type": "code",
   "execution_count": 135,
   "metadata": {},
   "outputs": [
    {
     "name": "stdout",
     "output_type": "stream",
     "text": [
      "\n",
      "\n",
      "1\n",
      "[9.0, <Operation.Operation object at 0x000002076B6958D0>, 19.0]\n"
     ]
    },
    {
     "data": {
      "text/plain": [
       "0.47368421052631576"
      ]
     },
     "execution_count": 135,
     "metadata": {},
     "output_type": "execute_result"
    }
   ],
   "source": [
    "c2.evaluate()"
   ]
  },
  {
   "cell_type": "code",
   "execution_count": 136,
   "metadata": {},
   "outputs": [
    {
     "name": "stdout",
     "output_type": "stream",
     "text": [
      "[9.0, <Operation.Operation object at 0x000002076B6958D0>, 19.0, <Operation.Operation object at 0x000002076B695B70>]\n"
     ]
    }
   ],
   "source": [
    "c2.enter_operation(\"multiply\")"
   ]
  },
  {
   "cell_type": "code",
   "execution_count": 137,
   "metadata": {},
   "outputs": [
    {
     "name": "stdout",
     "output_type": "stream",
     "text": [
      "[9.0, <Operation.Operation object at 0x000002076B6958D0>, 19.0, <Operation.Operation object at 0x000002076B695B70>, 0.47368421052631576]\n"
     ]
    }
   ],
   "source": [
    "c2.enter_value(0.47368421052631576)"
   ]
  },
  {
   "cell_type": "code",
   "execution_count": 138,
   "metadata": {},
   "outputs": [
    {
     "name": "stdout",
     "output_type": "stream",
     "text": [
      "\n",
      "\n",
      "1\n",
      "[9.0, <Operation.Operation object at 0x000002076B6958D0>, 19.0, <Operation.Operation object at 0x000002076B695B70>, 0.47368421052631576]\n",
      "\n",
      "\n",
      "3\n",
      "[0.47368421052631576, <Operation.Operation object at 0x000002076B695B70>, 0.47368421052631576]\n"
     ]
    },
    {
     "data": {
      "text/plain": [
       "0.22437673130193903"
      ]
     },
     "execution_count": 138,
     "metadata": {},
     "output_type": "execute_result"
    }
   ],
   "source": [
    "c2.evaluate()"
   ]
  },
  {
   "cell_type": "markdown",
   "metadata": {},
   "source": [
    "# Using the module"
   ]
  },
  {
   "cell_type": "markdown",
   "metadata": {},
   "source": [
    "## 我們接下來寫一個調用這個 Calculator 類別的 script 腳本"
   ]
  },
  {
   "cell_type": "code",
   "execution_count": 139,
   "metadata": {},
   "outputs": [
    {
     "name": "stdout",
     "output_type": "stream",
     "text": [
      "2.5\n"
     ]
    }
   ],
   "source": [
    "'''\n",
    "我們想要作的計算是 1 + 9 * 5 / 20 =\n",
    "'''\n",
    "from calculator.Calculator import Calculator\n",
    "c = Calculator()\n",
    "c.all_clear() # 這是我們新加的\n",
    "c.enter_value(1)\n",
    "c.enter_operation(\"add\")\n",
    "c.enter_value(9)\n",
    "c.enter_operation(\"multiply\")\n",
    "c.enter_value(5)\n",
    "c.enter_operation(\"divide\")\n",
    "c.enter_value(20)\n",
    "print(c.evaluate())"
   ]
  },
  {
   "cell_type": "code",
   "execution_count": 140,
   "metadata": {},
   "outputs": [
    {
     "data": {
      "text/plain": [
       "[1.0,\n",
       " <Operation.Operation at 0x2076b6ab208>,\n",
       " 9.0,\n",
       " <Operation.Operation at 0x2076b6ab278>,\n",
       " 5.0,\n",
       " <Operation.Operation at 0x2076b6ab1d0>,\n",
       " 20.0]"
      ]
     },
     "execution_count": 140,
     "metadata": {},
     "output_type": "execute_result"
    }
   ],
   "source": [
    "c._input_list"
   ]
  },
  {
   "cell_type": "code",
   "execution_count": 141,
   "metadata": {},
   "outputs": [
    {
     "data": {
      "text/plain": [
       "2.5"
      ]
     },
     "execution_count": 141,
     "metadata": {},
     "output_type": "execute_result"
    }
   ],
   "source": [
    "c.get_result()"
   ]
  },
  {
   "cell_type": "code",
   "execution_count": 142,
   "metadata": {},
   "outputs": [
    {
     "data": {
      "text/plain": [
       "2.5"
      ]
     },
     "execution_count": 142,
     "metadata": {},
     "output_type": "execute_result"
    }
   ],
   "source": [
    "c.evaluate()"
   ]
  },
  {
   "cell_type": "code",
   "execution_count": 143,
   "metadata": {},
   "outputs": [
    {
     "data": {
      "text/plain": [
       "[1.0,\n",
       " <Operation.Operation at 0x2076b6ab208>,\n",
       " 9.0,\n",
       " <Operation.Operation at 0x2076b6ab278>,\n",
       " 5.0,\n",
       " <Operation.Operation at 0x2076b6ab1d0>,\n",
       " 20.0]"
      ]
     },
     "execution_count": 143,
     "metadata": {},
     "output_type": "execute_result"
    }
   ],
   "source": [
    "c._input_list"
   ]
  },
  {
   "cell_type": "code",
   "execution_count": 144,
   "metadata": {},
   "outputs": [],
   "source": [
    "c.all_clear()"
   ]
  },
  {
   "cell_type": "code",
   "execution_count": 145,
   "metadata": {},
   "outputs": [
    {
     "data": {
      "text/plain": [
       "[]"
      ]
     },
     "execution_count": 145,
     "metadata": {},
     "output_type": "execute_result"
    }
   ],
   "source": [
    "c._input_list"
   ]
  },
  {
   "cell_type": "code",
   "execution_count": 146,
   "metadata": {},
   "outputs": [],
   "source": [
    "del c"
   ]
  },
  {
   "cell_type": "code",
   "execution_count": 147,
   "metadata": {},
   "outputs": [
    {
     "name": "stdout",
     "output_type": "stream",
     "text": [
      "Variable      Type           Data/Info\n",
      "--------------------------------------\n",
      "Calculator    type           <class 'calculator.Calculator.Calculator'>\n",
      "Calculator2   type           <class '__main__.Calculator2'>\n",
      "Operation     type           <class 'Operation.Operation'>\n",
      "c1            Calculator     <calculator.Calculator.Ca<...>ct at 0x000002076B31B0B8>\n",
      "c2            Calculator2    <__main__.Calculator2 obj<...>ct at 0x000002076B54F0F0>\n",
      "multiply      Operation      <Operation.Operation obje<...>ct at 0x000002076B30FD30>\n",
      "o             Operation      <Operation.Operation obje<...>ct at 0x000002076B533320>\n"
     ]
    }
   ],
   "source": [
    "%whos"
   ]
  },
  {
   "cell_type": "code",
   "execution_count": 148,
   "metadata": {},
   "outputs": [
    {
     "ename": "IndexError",
     "evalue": "list index out of range",
     "output_type": "error",
     "traceback": [
      "\u001b[1;31m---------------------------------------------------------------------------\u001b[0m",
      "\u001b[1;31mIndexError\u001b[0m                                Traceback (most recent call last)",
      "\u001b[1;32m<ipython-input-148-bd0c07e78271>\u001b[0m in \u001b[0;36m<module>\u001b[1;34m\u001b[0m\n\u001b[0;32m     14\u001b[0m \u001b[0mc\u001b[0m\u001b[1;33m.\u001b[0m\u001b[0menter_value\u001b[0m\u001b[1;33m(\u001b[0m\u001b[1;36m20\u001b[0m\u001b[1;33m)\u001b[0m\u001b[1;33m\u001b[0m\u001b[1;33m\u001b[0m\u001b[0m\n\u001b[0;32m     15\u001b[0m \u001b[0mc\u001b[0m\u001b[1;33m.\u001b[0m\u001b[0menter_operation\u001b[0m\u001b[1;33m(\u001b[0m\u001b[1;34m\"multiply\"\u001b[0m\u001b[1;33m)\u001b[0m \u001b[1;31m# 這是故意最後以 operator 結尾，而不符合語法\u001b[0m\u001b[1;33m\u001b[0m\u001b[1;33m\u001b[0m\u001b[0m\n\u001b[1;32m---> 16\u001b[1;33m \u001b[0mprint\u001b[0m\u001b[1;33m(\u001b[0m\u001b[0mc\u001b[0m\u001b[1;33m.\u001b[0m\u001b[0mevaluate\u001b[0m\u001b[1;33m(\u001b[0m\u001b[1;33m)\u001b[0m\u001b[1;33m)\u001b[0m\u001b[1;33m\u001b[0m\u001b[1;33m\u001b[0m\u001b[0m\n\u001b[0m",
      "\u001b[1;32mD:\\Google雲端硬碟\\GettingStartedWithPythonAndRaspberryPi-book_release\\Chapter04\\calculator\\Calculator.py\u001b[0m in \u001b[0;36mevaluate\u001b[1;34m(self)\u001b[0m\n\u001b[0;32m     19\u001b[0m         \u001b[1;32mfor\u001b[0m \u001b[0midx\u001b[0m \u001b[1;32min\u001b[0m \u001b[0mrange\u001b[0m\u001b[1;33m(\u001b[0m\u001b[1;36m1\u001b[0m\u001b[1;33m,\u001b[0m \u001b[0mlen\u001b[0m\u001b[1;33m(\u001b[0m\u001b[0mself\u001b[0m\u001b[1;33m.\u001b[0m\u001b[0m_input_list\u001b[0m\u001b[1;33m)\u001b[0m\u001b[1;33m,\u001b[0m \u001b[1;36m2\u001b[0m\u001b[1;33m)\u001b[0m\u001b[1;33m:\u001b[0m\u001b[1;33m\u001b[0m\u001b[1;33m\u001b[0m\u001b[0m\n\u001b[0;32m     20\u001b[0m             \u001b[0moperation\u001b[0m \u001b[1;33m=\u001b[0m \u001b[0mself\u001b[0m\u001b[1;33m.\u001b[0m\u001b[0m_input_list\u001b[0m\u001b[1;33m[\u001b[0m\u001b[0midx\u001b[0m\u001b[1;33m]\u001b[0m\u001b[1;33m\u001b[0m\u001b[1;33m\u001b[0m\u001b[0m\n\u001b[1;32m---> 21\u001b[1;33m             \u001b[0mnext_value\u001b[0m \u001b[1;33m=\u001b[0m \u001b[0mself\u001b[0m\u001b[1;33m.\u001b[0m\u001b[0m_input_list\u001b[0m\u001b[1;33m[\u001b[0m\u001b[0midx\u001b[0m \u001b[1;33m+\u001b[0m \u001b[1;36m1\u001b[0m\u001b[1;33m]\u001b[0m\u001b[1;33m\u001b[0m\u001b[1;33m\u001b[0m\u001b[0m\n\u001b[0m\u001b[0;32m     22\u001b[0m             \u001b[0mself\u001b[0m\u001b[1;33m.\u001b[0m\u001b[0m_result\u001b[0m \u001b[1;33m=\u001b[0m \u001b[0moperation\u001b[0m\u001b[1;33m.\u001b[0m\u001b[0mevaluate\u001b[0m\u001b[1;33m(\u001b[0m\u001b[0mself\u001b[0m\u001b[1;33m.\u001b[0m\u001b[0m_result\u001b[0m\u001b[1;33m,\u001b[0m \u001b[0mnext_value\u001b[0m\u001b[1;33m)\u001b[0m\u001b[1;33m\u001b[0m\u001b[1;33m\u001b[0m\u001b[0m\n\u001b[0;32m     23\u001b[0m \u001b[1;33m\u001b[0m\u001b[0m\n",
      "\u001b[1;31mIndexError\u001b[0m: list index out of range"
     ]
    }
   ],
   "source": [
    "'''\n",
    "我們故意輸入錯誤看會如何？\n",
    "1 + 9 * 5 / 20 * =\n",
    "'''\n",
    "from calculator.Calculator import Calculator\n",
    "c = Calculator()\n",
    "c.all_clear()\n",
    "c.enter_value(1)\n",
    "c.enter_operation(\"add\")\n",
    "c.enter_value(9)\n",
    "c.enter_operation(\"multiply\")\n",
    "c.enter_value(5)\n",
    "c.enter_operation(\"divide\")\n",
    "c.enter_value(20)\n",
    "c.enter_operation(\"multiply\") # 這是故意最後以 operator 結尾，而不符合語法\n",
    "print(c.evaluate())"
   ]
  },
  {
   "cell_type": "markdown",
   "metadata": {},
   "source": [
    "## Homework \\#2：\n",
    "\n",
    "### 寫一個程式，可以透過 command line 輸入以 {+，-，*，\\\\，(，)} 以及數字組合成的計算式子，然後在按上 \"=\" 之後，算出結果。\n",
    "---"
   ]
  },
  {
   "cell_type": "code",
   "execution_count": null,
   "metadata": {},
   "outputs": [],
   "source": []
  }
 ],
 "metadata": {
  "kernelspec": {
   "display_name": "Python 3",
   "language": "python",
   "name": "python3"
  },
  "language_info": {
   "codemirror_mode": {
    "name": "ipython",
    "version": 3
   },
   "file_extension": ".py",
   "mimetype": "text/x-python",
   "name": "python",
   "nbconvert_exporter": "python",
   "pygments_lexer": "ipython3",
   "version": "3.7.1"
  }
 },
 "nbformat": 4,
 "nbformat_minor": 2
}
