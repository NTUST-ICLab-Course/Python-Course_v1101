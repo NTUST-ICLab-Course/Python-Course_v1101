{
 "cells": [
  {
   "cell_type": "markdown",
   "metadata": {},
   "source": [
    "# Chapter 4: Object Oriented Programming and Thread\n",
    "2020-10-12\n",
    "\n",
    "Content:\n",
    "1. Using classes to make a calculator\n",
    "- python裡面所有的類別最原始就是 object (instance)\n",
    "- instance attributes and class attributes\n",
    "- importing Modules and Exploring The Standard Library\n",
    "- running a python.py within jupyter notebook\n",
    "- checking properties of an instance (object) and a class\n",
    "- implementing a calculator that performs simple arithmetic operations\n",
    "\n",
    "2. Inheritance and Abstract Classes\n",
    "- python 的類別可以繼承超過一個以上的父類別\n",
    "- 有關於繼承、覆寫、抽象類別、介面\n",
    "- python 所定義的介面，只要在沒有完整定義的 function 裏加一行聲明即可，否則就會有錯誤，如：\n",
    "    + ```python:\n",
    "    def evaluate(self):\n",
    "        raise NotImplementedError();\n",
    "    ```\n",
    "3. Logging, Thread, and Lock\n",
    "- 有關於 logging 的使用\n",
    "- 關於time這個模組的使用\n",
    "- 在教多工序 (thread) 之前，最好先有一個所謂單一執行緒的程式執行\n",
    "- 在執行環境中關於套件、模組、以及類別的引用\n",
    "- 有關於多工執行緒\n",
    "- 關於免同時競寫衝突 lock 的使用"
   ]
  },
  {
   "cell_type": "code",
   "execution_count": null,
   "metadata": {},
   "outputs": [],
   "source": []
  }
 ],
 "metadata": {
  "kernelspec": {
   "display_name": "Python 3",
   "language": "python",
   "name": "python3"
  },
  "language_info": {
   "codemirror_mode": {
    "name": "ipython",
    "version": 3
   },
   "file_extension": ".py",
   "mimetype": "text/x-python",
   "name": "python",
   "nbconvert_exporter": "python",
   "pygments_lexer": "ipython3",
   "version": "3.7.1"
  }
 },
 "nbformat": 4,
 "nbformat_minor": 2
}
