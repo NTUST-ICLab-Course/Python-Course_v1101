{
 "cells": [
  {
   "cell_type": "markdown",
   "metadata": {},
   "source": [
    "# Chapter 4: Object Oriented Programming\n",
    "\n",
    "## 2. Inheritance\n",
    "- python 的類別可以繼承超過一個以上的父類別\n",
    "- 有關於繼承、覆寫、抽象類別、介面\n",
    "- python 所定義的介面，只要在沒有完整定義的 function 裏加一行聲明即可，否則就會有錯誤\n",
    "    + ```python:\n",
    "    def evaluate(self):\n",
    "        raise NotImplementedError();\n",
    "    ```\n",
    "\n",
    "2020-10-12"
   ]
  },
  {
   "cell_type": "code",
   "execution_count": 1,
   "metadata": {},
   "outputs": [
    {
     "data": {
      "text/plain": [
       "'D:\\\\Google雲端硬碟\\\\GettingStartedWithPythonAndRaspberryPi-book_release'"
      ]
     },
     "execution_count": 1,
     "metadata": {},
     "output_type": "execute_result"
    }
   ],
   "source": [
    "'''\n",
    "我在家裏的 google drive 與在學校桌機的 google drive，一個是用 D:\\\\Google 雲端硬碟\\\\；\n",
    "另一個是用 D:\\Google Drive\\\n",
    "→ 我需要寫一個簡單的 if 判斷來決定\n",
    "'''\n",
    "pwd = %pwd\n",
    "if \"雲端硬碟\" in pwd:\n",
    "    course_package = \"D:\\Google雲端硬碟\\GettingStartedWithPythonAndRaspberryPi-book_release\"\n",
    "else:\n",
    "    course_package = \"D:\\Google Drive\\GettingStartedWithPythonAndRaspberryPi-book_release\"\n",
    "\n",
    "course_package"
   ]
  },
  {
   "cell_type": "code",
   "execution_count": 2,
   "metadata": {},
   "outputs": [
    {
     "data": {
      "text/plain": [
       "'D:\\\\Google雲端硬碟\\\\GettingStartedWithPythonAndRaspberryPi-book_release'"
      ]
     },
     "execution_count": 2,
     "metadata": {},
     "output_type": "execute_result"
    }
   ],
   "source": [
    "import os\n",
    "os.chdir(course_package)\n",
    "#%cd course_package\n",
    "%pwd"
   ]
  },
  {
   "cell_type": "code",
   "execution_count": 3,
   "metadata": {},
   "outputs": [
    {
     "name": "stdout",
     "output_type": "stream",
     "text": [
      "D:\\Google雲端硬碟\\GettingStartedWithPythonAndRaspberryPi-book_release\\Chapter04\n"
     ]
    }
   ],
   "source": [
    "'''\n",
    "先將目錄搬到 Chapter04 底下。\n",
    "實際執行要設在你放檔案的目錄底下\n",
    "'''\n",
    "%cd Chapter04"
   ]
  },
  {
   "cell_type": "markdown",
   "metadata": {},
   "source": [
    "## 我們用一個「二元運算」的實現來說明繼承以及覆寫的概念\n",
    "- 運算子 (operand) 指的是像：純數(1,2,3..)\n",
    "- 運算元 (operator) 指的是像：加(+), 減(-), 乘(\\*), 除(/), 等\n",
    "\n",
    "舉例：3 + 4 的式子中，3 和 4 為 operand；而 + 為 operator。"
   ]
  },
  {
   "cell_type": "markdown",
   "metadata": {},
   "source": [
    "# Inheritance 這是物件導向程式語言中重要的概念！\n",
    "\n",
    "## 在 python 裏，\n",
    "- 一個類別可以繼承超過一個的父輩\n",
    "- 也有類似 Java 中的 abstract class，這也是要透過繼承的子輩，實現後才可以使用"
   ]
  },
  {
   "cell_type": "markdown",
   "metadata": {},
   "source": [
    "## Everything you need to know about Classes in Python! (Object Oriented Programming Tutorial)\n",
    "https://www.youtube.com/watch?v=tmY6FEF8f1o"
   ]
  },
  {
   "cell_type": "code",
   "execution_count": 4,
   "metadata": {},
   "outputs": [
    {
     "data": {
      "text/html": [
       "<iframe width=\"560\" height=\"315\" src=\"https://www.youtube.com/embed/tmY6FEF8f1o\" frameborder=\"0\" allow=\"accelerometer; autoplay; clipboard-write; encrypted-media; gyroscope; picture-in-picture\" allowfullscreen></iframe>\n"
      ],
      "text/plain": [
       "<IPython.core.display.HTML object>"
      ]
     },
     "metadata": {},
     "output_type": "display_data"
    }
   ],
   "source": [
    "%%HTML\n",
    "<iframe width=\"560\" height=\"315\" src=\"https://www.youtube.com/embed/tmY6FEF8f1o\" frameborder=\"0\" allow=\"accelerometer; autoplay; clipboard-write; encrypted-media; gyroscope; picture-in-picture\" allowfullscreen></iframe>"
   ]
  },
  {
   "cell_type": "code",
   "execution_count": 5,
   "metadata": {},
   "outputs": [
    {
     "name": "stdout",
     "output_type": "stream",
     "text": [
      " 磁碟區 D 中的磁碟是 新增磁碟區\n",
      " 磁碟區序號:  E422-9B08\n",
      "\n",
      " D:\\Google雲端硬碟\\GettingStartedWithPythonAndRaspberryPi-book_release\\Chapter04 的目錄\n",
      "\n",
      "2020/10/12  下午 04:44    <DIR>          .\n",
      "2020/10/12  下午 04:44    <DIR>          ..\n",
      "2020/10/12  上午 08:56    <DIR>          .ipynb_checkpoints\n",
      "2018/03/13  上午 03:09                 0 __init__.py\n",
      "2018/03/13  上午 03:09               108 __init__.pyc\n",
      "2019/09/26  下午 04:45    <DIR>          __pycache__\n",
      "2020/10/12  下午 04:07           107,279 §04_01_Using classes to make a calculator.ipynb\n",
      "2020/10/12  下午 04:44            20,272 §04_02_Inheritance.ipynb\n",
      "2020/10/12  下午 04:19    <DIR>          calculator\n",
      "2020/10/12  下午 01:33             1,992 Chapter_04_Read_me.ipynb\n",
      "2020/10/09  下午 10:35            46,233 Chapter04_01_ClassAndObject.ipynb\n",
      "2020/10/10  上午 12:05           107,279 Chapter04_01_Making a Calculator.ipynb\n",
      "2020/10/12  下午 02:12            91,257 Chapter04_03_Thread and Lock.ipynb\n",
      "2020/10/11  下午 01:01            98,029 Chapter04_03_Thread.ipynb\n",
      "2019/09/28  上午 10:01               260 do_calculation.py\n",
      "2019/03/25  上午 08:18               989 Inheritance.py\n",
      "2019/03/25  上午 10:58             1,644 Inheritance.pyc\n",
      "2020/10/11  下午 01:28               237 logging.txt\n",
      "2020/10/06  下午 11:17           108,981 ?04 Corey Schafer Python OOP Tutorials.ipynb\n",
      "2019/09/29  下午 08:45               651 readmeCh04.txt\n",
      "2020/10/09  上午 09:51            25,548 Supplemented materials from Corey Shafer's YouTube.ipynb\n",
      "2019/04/01  上午 05:25               907 Threading.py\n",
      "2019/10/14  上午 08:22             1,040 Threading.pyc\n",
      "2019/04/01  上午 05:32             1,183 Threading_Locks.py\n",
      "2019/03/30  下午 03:19             1,276 Threading_Locks.pyc\n",
      "              20 個檔案         615,165 位元組\n",
      "               5 個目錄  896,144,871,424 位元組可用\n"
     ]
    }
   ],
   "source": [
    "%ls"
   ]
  },
  {
   "cell_type": "code",
   "execution_count": 6,
   "metadata": {},
   "outputs": [],
   "source": [
    "import Inheritance"
   ]
  },
  {
   "cell_type": "code",
   "execution_count": 7,
   "metadata": {},
   "outputs": [
    {
     "name": "stdout",
     "output_type": "stream",
     "text": [
      "Variable         Type      Data/Info\n",
      "------------------------------------\n",
      "Inheritance      module    <module 'Inheritance' fro<...>apter04\\\\Inheritance.py'>\n",
      "course_package   str       D:\\Google雲端硬碟\\GettingStar<...>dRaspberryPi-book_release\n",
      "os               module    <module 'os' from 'C:\\\\Us<...>\\\\Anaconda3\\\\lib\\\\os.py'>\n",
      "pwd              str       D:\\Google雲端硬碟\\GettingStar<...>Pi-book_release\\Chapter04\n"
     ]
    }
   ],
   "source": [
    "%whos"
   ]
  },
  {
   "cell_type": "code",
   "execution_count": 8,
   "metadata": {},
   "outputs": [],
   "source": [
    "?Inheritance"
   ]
  },
  {
   "cell_type": "code",
   "execution_count": 9,
   "metadata": {},
   "outputs": [],
   "source": [
    "Inheritance??"
   ]
  },
  {
   "cell_type": "markdown",
   "metadata": {},
   "source": [
    "## 我們看最下面有幾行程式，應該是屬於 script \n",
    "\n",
    "add = Addition()\n",
    "\n",
    "add.set_left_operand(5.0)\n",
    "\n",
    "add.set_right_operand(10.0)\n",
    "\n",
    "print (add.evaluate())\n",
    "\n",
    "\n",
    "sub = Subtraction()\n",
    "\n",
    "sub.set_left_operand(50.0)\n",
    "\n",
    "sub.set_right_operand(23.0)\n",
    "\n",
    "print (sub.evaluate())\n"
   ]
  },
  {
   "cell_type": "code",
   "execution_count": 10,
   "metadata": {},
   "outputs": [],
   "source": [
    "'''\n",
    "為了保持單純性，我們只留下 class 的定義\n",
    "\n",
    "以下等效：\n",
    "%run inheritance.py\n",
    "'''\n",
    "class Function(object):\n",
    "\n",
    "    def evaluate(self):\n",
    "        raise NotImplementedError();\n",
    "\n",
    "\n",
    "class BinaryOperation(object):\n",
    "\n",
    "    _left_operand = 0.0\n",
    "    _right_operand = 0.0\n",
    "\n",
    "    def set_left_operand(self, value):\n",
    "        if not isinstance(value, float):\n",
    "            raise ValueError(\"Value must be a float\")\n",
    "        self._left_operand = value\n",
    "\n",
    "    def set_right_operand(self, value):\n",
    "        if not isinstance(value, float):\n",
    "            raise ValueError(\"Value must be a float\")\n",
    "        self._right_operand = value\n",
    "\n",
    "\n",
    "class Addition(Function, BinaryOperation):\n",
    "\n",
    "    def evaluate(self):  # OVERRIDE 覆關\n",
    "       return self._left_operand + self._right_operand\n",
    "\n",
    "\n",
    "class Subtraction(Function, BinaryOperation):\n",
    "\n",
    "    def evaluate(self):\n",
    "        return self._left_operand - self._right_operand"
   ]
  },
  {
   "cell_type": "code",
   "execution_count": 11,
   "metadata": {},
   "outputs": [
    {
     "name": "stdout",
     "output_type": "stream",
     "text": [
      "Variable          Type      Data/Info\n",
      "-------------------------------------\n",
      "Addition          type      <class '__main__.Addition'>\n",
      "BinaryOperation   type      <class '__main__.BinaryOperation'>\n",
      "Function          type      <class '__main__.Function'>\n",
      "Inheritance       module    <module 'Inheritance' fro<...>apter04\\\\Inheritance.py'>\n",
      "Subtraction       type      <class '__main__.Subtraction'>\n",
      "course_package    str       D:\\Google雲端硬碟\\GettingStar<...>dRaspberryPi-book_release\n",
      "os                module    <module 'os' from 'C:\\\\Us<...>\\\\Anaconda3\\\\lib\\\\os.py'>\n",
      "pwd               str       D:\\Google雲端硬碟\\GettingStar<...>Pi-book_release\\Chapter04\n"
     ]
    }
   ],
   "source": [
    "%whos"
   ]
  },
  {
   "cell_type": "code",
   "execution_count": 13,
   "metadata": {},
   "outputs": [
    {
     "data": {
      "text/plain": [
       "mappingproxy({'__module__': '__main__',\n",
       "              '_left_operand': 0.0,\n",
       "              '_right_operand': 0.0,\n",
       "              'set_left_operand': <function __main__.BinaryOperation.set_left_operand(self, value)>,\n",
       "              'set_right_operand': <function __main__.BinaryOperation.set_right_operand(self, value)>,\n",
       "              '__dict__': <attribute '__dict__' of 'BinaryOperation' objects>,\n",
       "              '__weakref__': <attribute '__weakref__' of 'BinaryOperation' objects>,\n",
       "              '__doc__': None})"
      ]
     },
     "execution_count": 13,
     "metadata": {},
     "output_type": "execute_result"
    }
   ],
   "source": [
    "BinaryOperation.__dict__"
   ]
  },
  {
   "cell_type": "code",
   "execution_count": 14,
   "metadata": {},
   "outputs": [
    {
     "data": {
      "text/plain": [
       "mappingproxy({'__module__': '__main__',\n",
       "              'evaluate': <function __main__.Addition.evaluate(self)>,\n",
       "              '__doc__': None})"
      ]
     },
     "execution_count": 14,
     "metadata": {},
     "output_type": "execute_result"
    }
   ],
   "source": [
    "Addition.__dict__"
   ]
  },
  {
   "cell_type": "code",
   "execution_count": 15,
   "metadata": {},
   "outputs": [
    {
     "name": "stdout",
     "output_type": "stream",
     "text": [
      "Help on class Addition in module __main__:\n",
      "\n",
      "class Addition(Function, BinaryOperation)\n",
      " |  Method resolution order:\n",
      " |      Addition\n",
      " |      Function\n",
      " |      BinaryOperation\n",
      " |      builtins.object\n",
      " |  \n",
      " |  Methods defined here:\n",
      " |  \n",
      " |  evaluate(self)\n",
      " |  \n",
      " |  ----------------------------------------------------------------------\n",
      " |  Data descriptors inherited from Function:\n",
      " |  \n",
      " |  __dict__\n",
      " |      dictionary for instance variables (if defined)\n",
      " |  \n",
      " |  __weakref__\n",
      " |      list of weak references to the object (if defined)\n",
      " |  \n",
      " |  ----------------------------------------------------------------------\n",
      " |  Methods inherited from BinaryOperation:\n",
      " |  \n",
      " |  set_left_operand(self, value)\n",
      " |  \n",
      " |  set_right_operand(self, value)\n",
      "\n"
     ]
    }
   ],
   "source": [
    "help(Addition)"
   ]
  },
  {
   "cell_type": "code",
   "execution_count": null,
   "metadata": {},
   "outputs": [],
   "source": []
  },
  {
   "cell_type": "code",
   "execution_count": 16,
   "metadata": {},
   "outputs": [],
   "source": [
    "??Inheritance.Function"
   ]
  },
  {
   "cell_type": "markdown",
   "metadata": {},
   "source": [
    "```python:\n",
    "class Function(object):\n",
    "\n",
    "    def evaluate(self):\n",
    "        raise NotImplementedError();\n",
    "```"
   ]
  },
  {
   "cell_type": "code",
   "execution_count": 17,
   "metadata": {},
   "outputs": [],
   "source": [
    "# from Inheritance import *"
   ]
  },
  {
   "cell_type": "markdown",
   "metadata": {},
   "source": [
    "## 在 Python 中，沒有實現具體內容的 method\n",
    "是以 \n",
    "    ```python:\n",
    "    def evaluate(self):\n",
    "        raise NotImplementedError();\n",
    "    ```\n",
    "    \n",
    "    的這行指令作交待。\n",
    "\n",
    "## 物件導向的概念中，沒有實現的 method，以 Java 為例有：\n",
    "- 所謂的 abstract class，中間保留關鍵 method 讓後續的繼承子類別實現；而\n",
    "- 所謂的 interface，主要是規範現實功能的 signature，讓宣告要 implement 的類別按此 signature 去實現。\n",
    "\n",
    "兩者都是定義的 class 中有沒有實現的 method，(也稱之為 abstract method)。\n",
    "- *在 Java 裏，在沒有完整定義的 method 前加上 abstract 以作識別。*\n",
    "- 但是在 python 裏，以上兩種都是用 raise NotImplementedError() 的這行指令作交待。"
   ]
  },
  {
   "cell_type": "code",
   "execution_count": 18,
   "metadata": {},
   "outputs": [],
   "source": [
    "'''\n",
    "可以 instantiate 一個 Function 類別\n",
    "'''\n",
    "f = Function()"
   ]
  },
  {
   "cell_type": "code",
   "execution_count": 19,
   "metadata": {},
   "outputs": [
    {
     "ename": "NotImplementedError",
     "evalue": "",
     "output_type": "error",
     "traceback": [
      "\u001b[1;31m---------------------------------------------------------------------------\u001b[0m",
      "\u001b[1;31mNotImplementedError\u001b[0m                       Traceback (most recent call last)",
      "\u001b[1;32m<ipython-input-19-e3b8a29a89cf>\u001b[0m in \u001b[0;36m<module>\u001b[1;34m\u001b[0m\n\u001b[0;32m      3\u001b[0m \u001b[0m只能夠等所屬類別的子類\u001b[0m \u001b[0m實現完之後\u001b[0m\u001b[0;31m，\u001b[0m\u001b[0m呼叫子輩來使用\u001b[0m\u001b[0;31m。\u001b[0m\u001b[1;33m\u001b[0m\u001b[1;33m\u001b[0m\u001b[0m\n\u001b[0;32m      4\u001b[0m '''\n\u001b[1;32m----> 5\u001b[1;33m \u001b[0mf\u001b[0m\u001b[1;33m.\u001b[0m\u001b[0mevaluate\u001b[0m\u001b[1;33m(\u001b[0m\u001b[1;33m)\u001b[0m\u001b[1;33m\u001b[0m\u001b[1;33m\u001b[0m\u001b[0m\n\u001b[0m",
      "\u001b[1;32m<ipython-input-10-ea1010686c5e>\u001b[0m in \u001b[0;36mevaluate\u001b[1;34m(self)\u001b[0m\n\u001b[0;32m      8\u001b[0m \u001b[1;33m\u001b[0m\u001b[0m\n\u001b[0;32m      9\u001b[0m     \u001b[1;32mdef\u001b[0m \u001b[0mevaluate\u001b[0m\u001b[1;33m(\u001b[0m\u001b[0mself\u001b[0m\u001b[1;33m)\u001b[0m\u001b[1;33m:\u001b[0m\u001b[1;33m\u001b[0m\u001b[1;33m\u001b[0m\u001b[0m\n\u001b[1;32m---> 10\u001b[1;33m         \u001b[1;32mraise\u001b[0m \u001b[0mNotImplementedError\u001b[0m\u001b[1;33m(\u001b[0m\u001b[1;33m)\u001b[0m\u001b[1;33m;\u001b[0m\u001b[1;33m\u001b[0m\u001b[1;33m\u001b[0m\u001b[0m\n\u001b[0m\u001b[0;32m     11\u001b[0m \u001b[1;33m\u001b[0m\u001b[0m\n\u001b[0;32m     12\u001b[0m \u001b[1;33m\u001b[0m\u001b[0m\n",
      "\u001b[1;31mNotImplementedError\u001b[0m: "
     ]
    }
   ],
   "source": [
    "'''\n",
    "對於沒有實現的 method，不可以呼叫，否則會出錯。\n",
    "只能夠等所屬類別的子類 實現完之後，呼叫子輩來使用。\n",
    "'''\n",
    "f.evaluate()"
   ]
  },
  {
   "cell_type": "markdown",
   "metadata": {},
   "source": [
    "##  我們定義一個(子)類別繼承這個界面 (Function)"
   ]
  },
  {
   "cell_type": "code",
   "execution_count": 20,
   "metadata": {},
   "outputs": [],
   "source": [
    "??Inheritance.BinaryOperation"
   ]
  },
  {
   "cell_type": "code",
   "execution_count": 21,
   "metadata": {},
   "outputs": [],
   "source": [
    "'''\n",
    "以下我把對應 script 的 codes 給 comment 掉\n",
    "'''\n",
    "??Inheritance"
   ]
  },
  {
   "cell_type": "markdown",
   "metadata": {},
   "source": [
    "## 每次要看 code 的內容有點麻煩，以下這個 inspect module 是用來看 source code 內容"
   ]
  },
  {
   "cell_type": "code",
   "execution_count": 22,
   "metadata": {},
   "outputs": [],
   "source": [
    "import inspect"
   ]
  },
  {
   "cell_type": "code",
   "execution_count": 23,
   "metadata": {},
   "outputs": [
    {
     "data": {
      "text/plain": [
       "(['class Function(object):  # interface\\n',\n",
       "  '\\n',\n",
       "  '    def evaluate(self):\\n',\n",
       "  '        raise NotImplementedError();\\n'],\n",
       " 3)"
      ]
     },
     "execution_count": 23,
     "metadata": {},
     "output_type": "execute_result"
    }
   ],
   "source": [
    "inspect.getsourcelines(Inheritance.Function) "
   ]
  },
  {
   "cell_type": "code",
   "execution_count": 24,
   "metadata": {},
   "outputs": [
    {
     "data": {
      "text/plain": [
       "'class Function(object):  # interface\\n\\n    def evaluate(self):\\n        raise NotImplementedError();\\n'"
      ]
     },
     "execution_count": 24,
     "metadata": {},
     "output_type": "execute_result"
    }
   ],
   "source": [
    "inspect.getsource(Inheritance.Function)"
   ]
  },
  {
   "cell_type": "code",
   "execution_count": 25,
   "metadata": {},
   "outputs": [
    {
     "name": "stdout",
     "output_type": "stream",
     "text": [
      "class Function(object):  # interface\n",
      "\n",
      "    def evaluate(self):\n",
      "        raise NotImplementedError();\n",
      "\n"
     ]
    }
   ],
   "source": [
    "print(inspect.getsource(Inheritance.Function))"
   ]
  },
  {
   "cell_type": "code",
   "execution_count": 26,
   "metadata": {},
   "outputs": [
    {
     "name": "stdout",
     "output_type": "stream",
     "text": [
      "class Addition(Function, BinaryOperation):\n",
      "\n",
      "    def evaluate(self):\n",
      "       return self._left_operand + self._right_operand\n",
      "\n"
     ]
    }
   ],
   "source": [
    "print(inspect.getsource(Inheritance.Addition))"
   ]
  },
  {
   "cell_type": "code",
   "execution_count": 27,
   "metadata": {},
   "outputs": [
    {
     "name": "stdout",
     "output_type": "stream",
     "text": [
      "Help on class Addition in module __main__:\n",
      "\n",
      "class Addition(Function, BinaryOperation)\n",
      " |  Method resolution order:\n",
      " |      Addition\n",
      " |      Function\n",
      " |      BinaryOperation\n",
      " |      builtins.object\n",
      " |  \n",
      " |  Methods defined here:\n",
      " |  \n",
      " |  evaluate(self)\n",
      " |  \n",
      " |  ----------------------------------------------------------------------\n",
      " |  Data descriptors inherited from Function:\n",
      " |  \n",
      " |  __dict__\n",
      " |      dictionary for instance variables (if defined)\n",
      " |  \n",
      " |  __weakref__\n",
      " |      list of weak references to the object (if defined)\n",
      " |  \n",
      " |  ----------------------------------------------------------------------\n",
      " |  Methods inherited from BinaryOperation:\n",
      " |  \n",
      " |  set_left_operand(self, value)\n",
      " |  \n",
      " |  set_right_operand(self, value)\n",
      "\n"
     ]
    }
   ],
   "source": [
    "'''\n",
    "請注意看它的族譜：Method resolution order\n",
    "'''\n",
    "help(Addition)"
   ]
  },
  {
   "cell_type": "code",
   "execution_count": 28,
   "metadata": {},
   "outputs": [
    {
     "name": "stdout",
     "output_type": "stream",
     "text": [
      "class BinaryOperation(object):\n",
      "\n",
      "    _left_operand = 0.0\n",
      "    _right_operand = 0.0\n",
      "\n",
      "    def set_left_operand(self, value):\n",
      "        if not isinstance(value, float):\n",
      "            raise ValueError(\"Value must be a float\")\n",
      "        self._left_operand = value\n",
      "\n",
      "    def set_right_operand(self, value):\n",
      "        if not isinstance(value, float):\n",
      "            raise ValueError(\"Value must be a float\")\n",
      "        self._right_operand = value\n",
      "\n"
     ]
    }
   ],
   "source": [
    "print(inspect.getsource(Inheritance.BinaryOperation))"
   ]
  },
  {
   "cell_type": "code",
   "execution_count": 29,
   "metadata": {},
   "outputs": [
    {
     "name": "stdout",
     "output_type": "stream",
     "text": [
      "Help on class BinaryOperation in module __main__:\n",
      "\n",
      "class BinaryOperation(builtins.object)\n",
      " |  Methods defined here:\n",
      " |  \n",
      " |  set_left_operand(self, value)\n",
      " |  \n",
      " |  set_right_operand(self, value)\n",
      " |  \n",
      " |  ----------------------------------------------------------------------\n",
      " |  Data descriptors defined here:\n",
      " |  \n",
      " |  __dict__\n",
      " |      dictionary for instance variables (if defined)\n",
      " |  \n",
      " |  __weakref__\n",
      " |      list of weak references to the object (if defined)\n",
      "\n"
     ]
    }
   ],
   "source": [
    "help(BinaryOperation)"
   ]
  },
  {
   "cell_type": "code",
   "execution_count": 30,
   "metadata": {},
   "outputs": [
    {
     "name": "stdout",
     "output_type": "stream",
     "text": [
      "Help on class Subtraction in module __main__:\n",
      "\n",
      "class Subtraction(Function, BinaryOperation)\n",
      " |  Method resolution order:\n",
      " |      Subtraction\n",
      " |      Function\n",
      " |      BinaryOperation\n",
      " |      builtins.object\n",
      " |  \n",
      " |  Methods defined here:\n",
      " |  \n",
      " |  evaluate(self)\n",
      " |  \n",
      " |  ----------------------------------------------------------------------\n",
      " |  Data descriptors inherited from Function:\n",
      " |  \n",
      " |  __dict__\n",
      " |      dictionary for instance variables (if defined)\n",
      " |  \n",
      " |  __weakref__\n",
      " |      list of weak references to the object (if defined)\n",
      " |  \n",
      " |  ----------------------------------------------------------------------\n",
      " |  Methods inherited from BinaryOperation:\n",
      " |  \n",
      " |  set_left_operand(self, value)\n",
      " |  \n",
      " |  set_right_operand(self, value)\n",
      "\n"
     ]
    }
   ],
   "source": [
    "help(Subtraction)"
   ]
  },
  {
   "cell_type": "code",
   "execution_count": 31,
   "metadata": {},
   "outputs": [],
   "source": [
    "'''\n",
    "運算子 (operand) 指的是像：加(+), 減(-), 乘(*), 除(/), 等\n",
    "運算元 (oerator) 指的是像：純數(1,2,3..)\n",
    "\n",
    "BinaryOperation 指的是涉及兩個運算元的運算子\n",
    "\n",
    "'''\n",
    "class BinaryOperation(object):\n",
    "\n",
    "    _left_operand = 0.0\n",
    "    _right_operand = 0.0\n",
    "\n",
    "    def set_left_operand(self, value):\n",
    "        if not isinstance(value, float):\n",
    "            raise ValueError(\"Value must be a float\")\n",
    "        self._left_operand = value\n",
    "\n",
    "    def set_right_operand(self, value):\n",
    "        if not isinstance(value, float):\n",
    "            raise ValueError(\"Value must be a float\")\n",
    "        self._right_operand = value"
   ]
  },
  {
   "cell_type": "markdown",
   "metadata": {},
   "source": [
    "## python 的 class 可以繼承超過一個 superclass\n",
    "## 這個跟 Java 只能繼承一個父類別不一樣！"
   ]
  },
  {
   "cell_type": "code",
   "execution_count": null,
   "metadata": {},
   "outputs": [],
   "source": [
    "help(BinaryOperation)"
   ]
  },
  {
   "cell_type": "code",
   "execution_count": 32,
   "metadata": {},
   "outputs": [
    {
     "name": "stdout",
     "output_type": "stream",
     "text": [
      "class Addition(Function, BinaryOperation):\n",
      "\n",
      "    def evaluate(self):\n",
      "       return self._left_operand + self._right_operand\n",
      "\n"
     ]
    }
   ],
   "source": [
    "print(inspect.getsource(Inheritance.Addition))"
   ]
  },
  {
   "cell_type": "code",
   "execution_count": 33,
   "metadata": {},
   "outputs": [],
   "source": [
    "??Inheritance.Addition"
   ]
  },
  {
   "cell_type": "code",
   "execution_count": 34,
   "metadata": {},
   "outputs": [],
   "source": [
    "??Inheritance.Function"
   ]
  },
  {
   "cell_type": "code",
   "execution_count": 35,
   "metadata": {},
   "outputs": [],
   "source": [
    "f = Function()"
   ]
  },
  {
   "cell_type": "code",
   "execution_count": 36,
   "metadata": {},
   "outputs": [
    {
     "ename": "NotImplementedError",
     "evalue": "",
     "output_type": "error",
     "traceback": [
      "\u001b[1;31m---------------------------------------------------------------------------\u001b[0m",
      "\u001b[1;31mNotImplementedError\u001b[0m                       Traceback (most recent call last)",
      "\u001b[1;32m<ipython-input-36-9526196f2877>\u001b[0m in \u001b[0;36m<module>\u001b[1;34m\u001b[0m\n\u001b[0;32m      5\u001b[0m \u001b[0m這是對應\u001b[0m \u001b[0mJava\u001b[0m \u001b[0m中\u001b[0m \u001b[0mInterface\u001b[0m \u001b[0m與\u001b[0m \u001b[0mAbstract\u001b[0m \u001b[1;32mclass\u001b[0m \u001b[0m的概念\u001b[0m\u001b[0;31m。\u001b[0m\u001b[1;33m\u001b[0m\u001b[1;33m\u001b[0m\u001b[0m\n\u001b[0;32m      6\u001b[0m '''\n\u001b[1;32m----> 7\u001b[1;33m \u001b[0mf\u001b[0m\u001b[1;33m.\u001b[0m\u001b[0mevaluate\u001b[0m\u001b[1;33m(\u001b[0m\u001b[1;33m)\u001b[0m\u001b[1;33m\u001b[0m\u001b[1;33m\u001b[0m\u001b[0m\n\u001b[0m",
      "\u001b[1;32m<ipython-input-10-ea1010686c5e>\u001b[0m in \u001b[0;36mevaluate\u001b[1;34m(self)\u001b[0m\n\u001b[0;32m      8\u001b[0m \u001b[1;33m\u001b[0m\u001b[0m\n\u001b[0;32m      9\u001b[0m     \u001b[1;32mdef\u001b[0m \u001b[0mevaluate\u001b[0m\u001b[1;33m(\u001b[0m\u001b[0mself\u001b[0m\u001b[1;33m)\u001b[0m\u001b[1;33m:\u001b[0m\u001b[1;33m\u001b[0m\u001b[1;33m\u001b[0m\u001b[0m\n\u001b[1;32m---> 10\u001b[1;33m         \u001b[1;32mraise\u001b[0m \u001b[0mNotImplementedError\u001b[0m\u001b[1;33m(\u001b[0m\u001b[1;33m)\u001b[0m\u001b[1;33m;\u001b[0m\u001b[1;33m\u001b[0m\u001b[1;33m\u001b[0m\u001b[0m\n\u001b[0m\u001b[0;32m     11\u001b[0m \u001b[1;33m\u001b[0m\u001b[0m\n\u001b[0;32m     12\u001b[0m \u001b[1;33m\u001b[0m\u001b[0m\n",
      "\u001b[1;31mNotImplementedError\u001b[0m: "
     ]
    }
   ],
   "source": [
    "'''\n",
    "注意，這個 Function 並沒有實現 evaluate(self) 這個 method 的內容；\n",
    "這是由 NotImplementedError() 知道。\n",
    "如果呼叫的話，就會出錯。\n",
    "這是對應 Java 中 Interface 與 Abstract class 的概念。\n",
    "'''\n",
    "f.evaluate()"
   ]
  },
  {
   "cell_type": "code",
   "execution_count": 37,
   "metadata": {},
   "outputs": [],
   "source": [
    "'''\n",
    "主要的功能是填入兩個之後要被運算的實數，\n",
    "至於要怎麼算，還得具體實際。\n",
    "'''\n",
    "b = BinaryOperation()"
   ]
  },
  {
   "cell_type": "code",
   "execution_count": 38,
   "metadata": {},
   "outputs": [
    {
     "data": {
      "text/plain": [
       "<__main__.BinaryOperation at 0x1c558f15a58>"
      ]
     },
     "execution_count": 38,
     "metadata": {},
     "output_type": "execute_result"
    }
   ],
   "source": [
    "b"
   ]
  },
  {
   "cell_type": "code",
   "execution_count": 39,
   "metadata": {},
   "outputs": [
    {
     "ename": "ValueError",
     "evalue": "Value must be a float",
     "output_type": "error",
     "traceback": [
      "\u001b[1;31m---------------------------------------------------------------------------\u001b[0m",
      "\u001b[1;31mValueError\u001b[0m                                Traceback (most recent call last)",
      "\u001b[1;32m<ipython-input-39-9bb818826db1>\u001b[0m in \u001b[0;36m<module>\u001b[1;34m\u001b[0m\n\u001b[0;32m      2\u001b[0m \u001b[0m規定輸入的值要為實數\u001b[0m\u001b[1;33m\u001b[0m\u001b[1;33m\u001b[0m\u001b[0m\n\u001b[0;32m      3\u001b[0m '''\n\u001b[1;32m----> 4\u001b[1;33m \u001b[0mb\u001b[0m\u001b[1;33m.\u001b[0m\u001b[0mset_left_operand\u001b[0m\u001b[1;33m(\u001b[0m\u001b[1;36m3\u001b[0m\u001b[1;33m)\u001b[0m\u001b[1;33m\u001b[0m\u001b[1;33m\u001b[0m\u001b[0m\n\u001b[0m",
      "\u001b[1;32m<ipython-input-31-b4b2ac3280cc>\u001b[0m in \u001b[0;36mset_left_operand\u001b[1;34m(self, value)\u001b[0m\n\u001b[0;32m     13\u001b[0m     \u001b[1;32mdef\u001b[0m \u001b[0mset_left_operand\u001b[0m\u001b[1;33m(\u001b[0m\u001b[0mself\u001b[0m\u001b[1;33m,\u001b[0m \u001b[0mvalue\u001b[0m\u001b[1;33m)\u001b[0m\u001b[1;33m:\u001b[0m\u001b[1;33m\u001b[0m\u001b[1;33m\u001b[0m\u001b[0m\n\u001b[0;32m     14\u001b[0m         \u001b[1;32mif\u001b[0m \u001b[1;32mnot\u001b[0m \u001b[0misinstance\u001b[0m\u001b[1;33m(\u001b[0m\u001b[0mvalue\u001b[0m\u001b[1;33m,\u001b[0m \u001b[0mfloat\u001b[0m\u001b[1;33m)\u001b[0m\u001b[1;33m:\u001b[0m\u001b[1;33m\u001b[0m\u001b[1;33m\u001b[0m\u001b[0m\n\u001b[1;32m---> 15\u001b[1;33m             \u001b[1;32mraise\u001b[0m \u001b[0mValueError\u001b[0m\u001b[1;33m(\u001b[0m\u001b[1;34m\"Value must be a float\"\u001b[0m\u001b[1;33m)\u001b[0m\u001b[1;33m\u001b[0m\u001b[1;33m\u001b[0m\u001b[0m\n\u001b[0m\u001b[0;32m     16\u001b[0m         \u001b[0mself\u001b[0m\u001b[1;33m.\u001b[0m\u001b[0m_left_operand\u001b[0m \u001b[1;33m=\u001b[0m \u001b[0mvalue\u001b[0m\u001b[1;33m\u001b[0m\u001b[1;33m\u001b[0m\u001b[0m\n\u001b[0;32m     17\u001b[0m \u001b[1;33m\u001b[0m\u001b[0m\n",
      "\u001b[1;31mValueError\u001b[0m: Value must be a float"
     ]
    }
   ],
   "source": [
    "'''\n",
    "規定輸入的值要為實數\n",
    "'''\n",
    "b.set_left_operand(3)"
   ]
  },
  {
   "cell_type": "code",
   "execution_count": 40,
   "metadata": {},
   "outputs": [],
   "source": [
    "b.set_left_operand(3.0)"
   ]
  },
  {
   "cell_type": "code",
   "execution_count": 41,
   "metadata": {},
   "outputs": [],
   "source": [
    "#b.__dict__.keys()"
   ]
  },
  {
   "cell_type": "code",
   "execution_count": 42,
   "metadata": {},
   "outputs": [
    {
     "data": {
      "text/plain": [
       "3.0"
      ]
     },
     "execution_count": 42,
     "metadata": {},
     "output_type": "execute_result"
    }
   ],
   "source": [
    "b._left_operand"
   ]
  },
  {
   "cell_type": "code",
   "execution_count": 43,
   "metadata": {},
   "outputs": [
    {
     "data": {
      "text/plain": [
       "{'_left_operand': 3.0}"
      ]
     },
     "execution_count": 43,
     "metadata": {},
     "output_type": "execute_result"
    }
   ],
   "source": [
    "b.__dict__"
   ]
  },
  {
   "cell_type": "code",
   "execution_count": 44,
   "metadata": {},
   "outputs": [
    {
     "data": {
      "text/plain": [
       "mappingproxy({'__module__': '__main__',\n",
       "              '_left_operand': 0.0,\n",
       "              '_right_operand': 0.0,\n",
       "              'set_left_operand': <function __main__.BinaryOperation.set_left_operand(self, value)>,\n",
       "              'set_right_operand': <function __main__.BinaryOperation.set_right_operand(self, value)>,\n",
       "              '__dict__': <attribute '__dict__' of 'BinaryOperation' objects>,\n",
       "              '__weakref__': <attribute '__weakref__' of 'BinaryOperation' objects>,\n",
       "              '__doc__': None})"
      ]
     },
     "execution_count": 44,
     "metadata": {},
     "output_type": "execute_result"
    }
   ],
   "source": [
    "BinaryOperation.__dict__"
   ]
  },
  {
   "cell_type": "code",
   "execution_count": 45,
   "metadata": {},
   "outputs": [],
   "source": [
    "class Add(Function, BinaryOperation):\n",
    "    def eva(self):\n",
    "        return self._left_operand + self._right_operand\n"
   ]
  },
  {
   "cell_type": "code",
   "execution_count": 46,
   "metadata": {},
   "outputs": [],
   "source": [
    "add = Add()"
   ]
  },
  {
   "cell_type": "code",
   "execution_count": 47,
   "metadata": {},
   "outputs": [
    {
     "data": {
      "text/plain": [
       "<__main__.Add at 0x1c558f09390>"
      ]
     },
     "execution_count": 47,
     "metadata": {},
     "output_type": "execute_result"
    }
   ],
   "source": [
    "add"
   ]
  },
  {
   "cell_type": "code",
   "execution_count": 48,
   "metadata": {},
   "outputs": [],
   "source": [
    "add.set_left_operand(3.0)"
   ]
  },
  {
   "cell_type": "code",
   "execution_count": 49,
   "metadata": {},
   "outputs": [],
   "source": [
    "add.set_right_operand(4.9)"
   ]
  },
  {
   "cell_type": "code",
   "execution_count": 50,
   "metadata": {},
   "outputs": [
    {
     "data": {
      "text/plain": [
       "{'_left_operand': 3.0, '_right_operand': 4.9}"
      ]
     },
     "execution_count": 50,
     "metadata": {},
     "output_type": "execute_result"
    }
   ],
   "source": [
    "add.__dict__"
   ]
  },
  {
   "cell_type": "code",
   "execution_count": 51,
   "metadata": {},
   "outputs": [
    {
     "data": {
      "text/plain": [
       "7.9"
      ]
     },
     "execution_count": 51,
     "metadata": {},
     "output_type": "execute_result"
    }
   ],
   "source": [
    "add.eva()"
   ]
  },
  {
   "cell_type": "code",
   "execution_count": 52,
   "metadata": {},
   "outputs": [
    {
     "ename": "NotImplementedError",
     "evalue": "",
     "output_type": "error",
     "traceback": [
      "\u001b[1;31m---------------------------------------------------------------------------\u001b[0m",
      "\u001b[1;31mNotImplementedError\u001b[0m                       Traceback (most recent call last)",
      "\u001b[1;32m<ipython-input-52-7e2497db4313>\u001b[0m in \u001b[0;36m<module>\u001b[1;34m\u001b[0m\n\u001b[1;32m----> 1\u001b[1;33m \u001b[0madd\u001b[0m\u001b[1;33m.\u001b[0m\u001b[0mevaluate\u001b[0m\u001b[1;33m(\u001b[0m\u001b[1;33m)\u001b[0m\u001b[1;33m\u001b[0m\u001b[1;33m\u001b[0m\u001b[0m\n\u001b[0m",
      "\u001b[1;32m<ipython-input-10-ea1010686c5e>\u001b[0m in \u001b[0;36mevaluate\u001b[1;34m(self)\u001b[0m\n\u001b[0;32m      8\u001b[0m \u001b[1;33m\u001b[0m\u001b[0m\n\u001b[0;32m      9\u001b[0m     \u001b[1;32mdef\u001b[0m \u001b[0mevaluate\u001b[0m\u001b[1;33m(\u001b[0m\u001b[0mself\u001b[0m\u001b[1;33m)\u001b[0m\u001b[1;33m:\u001b[0m\u001b[1;33m\u001b[0m\u001b[1;33m\u001b[0m\u001b[0m\n\u001b[1;32m---> 10\u001b[1;33m         \u001b[1;32mraise\u001b[0m \u001b[0mNotImplementedError\u001b[0m\u001b[1;33m(\u001b[0m\u001b[1;33m)\u001b[0m\u001b[1;33m;\u001b[0m\u001b[1;33m\u001b[0m\u001b[1;33m\u001b[0m\u001b[0m\n\u001b[0m\u001b[0;32m     11\u001b[0m \u001b[1;33m\u001b[0m\u001b[0m\n\u001b[0;32m     12\u001b[0m \u001b[1;33m\u001b[0m\u001b[0m\n",
      "\u001b[1;31mNotImplementedError\u001b[0m: "
     ]
    }
   ],
   "source": [
    "add.evaluate()"
   ]
  },
  {
   "cell_type": "code",
   "execution_count": null,
   "metadata": {},
   "outputs": [],
   "source": []
  },
  {
   "cell_type": "markdown",
   "metadata": {},
   "source": [
    "## 我們可以看得到它的定義，但不能將它當作可用的 class"
   ]
  },
  {
   "cell_type": "markdown",
   "metadata": {},
   "source": [
    "## 我們現在寫一個 script 來調用這個 class 所洐生出來的兩個運算"
   ]
  },
  {
   "cell_type": "code",
   "execution_count": 54,
   "metadata": {},
   "outputs": [
    {
     "name": "stdout",
     "output_type": "stream",
     "text": [
      "15.0\n"
     ]
    }
   ],
   "source": [
    "add = Addition()\n",
    "add.set_left_operand(5.0)\n",
    "add.set_right_operand(10.0)\n",
    "print(add.evaluate())"
   ]
  },
  {
   "cell_type": "code",
   "execution_count": 55,
   "metadata": {},
   "outputs": [
    {
     "data": {
      "text/plain": [
       "{'_left_operand': 5.0, '_right_operand': 10.0}"
      ]
     },
     "execution_count": 55,
     "metadata": {},
     "output_type": "execute_result"
    }
   ],
   "source": [
    "add.__dict__"
   ]
  },
  {
   "cell_type": "code",
   "execution_count": 56,
   "metadata": {},
   "outputs": [
    {
     "name": "stdout",
     "output_type": "stream",
     "text": [
      "27.0\n"
     ]
    }
   ],
   "source": [
    "sub = Subtraction()\n",
    "sub.set_left_operand(50.0)\n",
    "sub.set_right_operand(23.0)\n",
    "print(sub.evaluate())"
   ]
  },
  {
   "cell_type": "code",
   "execution_count": 57,
   "metadata": {},
   "outputs": [
    {
     "data": {
      "text/plain": [
       "{'_left_operand': 50.0, '_right_operand': 23.0}"
      ]
     },
     "execution_count": 57,
     "metadata": {},
     "output_type": "execute_result"
    }
   ],
   "source": [
    "sub.__dict__"
   ]
  },
  {
   "cell_type": "code",
   "execution_count": null,
   "metadata": {},
   "outputs": [],
   "source": []
  },
  {
   "cell_type": "markdown",
   "metadata": {},
   "source": [
    "先給大家心理建設，這種繼承的概念在物件導向的語言中常被使用，我們接下來介紹怎麼繼承別人寫好更厲害的類別，來完成更偉大的工作。"
   ]
  }
 ],
 "metadata": {
  "kernelspec": {
   "display_name": "Python 3",
   "language": "python",
   "name": "python3"
  },
  "language_info": {
   "codemirror_mode": {
    "name": "ipython",
    "version": 3
   },
   "file_extension": ".py",
   "mimetype": "text/x-python",
   "name": "python",
   "nbconvert_exporter": "python",
   "pygments_lexer": "ipython3",
   "version": "3.7.1"
  }
 },
 "nbformat": 4,
 "nbformat_minor": 2
}
