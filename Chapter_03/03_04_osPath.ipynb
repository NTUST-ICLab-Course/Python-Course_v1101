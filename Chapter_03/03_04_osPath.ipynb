{
 "cells": [
  {
   "cell_type": "markdown",
   "metadata": {},
   "source": [
    "# Chapter 3: Working with Data Structures and I/O"
   ]
  },
  {
   "cell_type": "markdown",
   "metadata": {},
   "source": [
    "# 4. The os.path module\n",
    "*以下是在 Windows 的環境上執行的結果*"
   ]
  },
  {
   "cell_type": "markdown",
   "metadata": {},
   "source": [
    "__[file operation](https://www.programiz.com/python-programming/file-operation)__"
   ]
  },
  {
   "cell_type": "markdown",
   "metadata": {},
   "source": [
    "## *Corey Schafer Python Tutorial*\n",
    "## Python Tutorial: OS Module - Use Underlying Operating System Functionality\n",
    "https://www.youtube.com/watch?v=tJxcKyFMTGo&t=252s"
   ]
  },
  {
   "cell_type": "code",
   "execution_count": 1,
   "metadata": {},
   "outputs": [
    {
     "data": {
      "text/html": [
       "<iframe width=\"560\" height=\"315\" src=\"https://www.youtube.com/embed/tJxcKyFMTGo\" frameborder=\"0\" allow=\"accelerometer; autoplay; clipboard-write; encrypted-media; gyroscope; picture-in-picture\" allowfullscreen></iframe>\n"
      ],
      "text/plain": [
       "<IPython.core.display.HTML object>"
      ]
     },
     "metadata": {},
     "output_type": "display_data"
    }
   ],
   "source": [
    "%%HTML\n",
    "<iframe width=\"560\" height=\"315\" src=\"https://www.youtube.com/embed/tJxcKyFMTGo\" frameborder=\"0\" allow=\"accelerometer; autoplay; clipboard-write; encrypted-media; gyroscope; picture-in-picture\" allowfullscreen></iframe>"
   ]
  },
  {
   "cell_type": "code",
   "execution_count": 2,
   "metadata": {},
   "outputs": [
    {
     "data": {
      "application/json": {
       "cell": {
        "!": "OSMagics",
        "HTML": "Other",
        "SVG": "Other",
        "bash": "Other",
        "capture": "ExecutionMagics",
        "cmd": "Other",
        "debug": "ExecutionMagics",
        "file": "Other",
        "html": "DisplayMagics",
        "javascript": "DisplayMagics",
        "js": "DisplayMagics",
        "latex": "DisplayMagics",
        "markdown": "DisplayMagics",
        "perl": "Other",
        "prun": "ExecutionMagics",
        "pypy": "Other",
        "python": "Other",
        "python2": "Other",
        "python3": "Other",
        "ruby": "Other",
        "script": "ScriptMagics",
        "sh": "Other",
        "svg": "DisplayMagics",
        "sx": "OSMagics",
        "system": "OSMagics",
        "time": "ExecutionMagics",
        "timeit": "ExecutionMagics",
        "writefile": "OSMagics"
       },
       "line": {
        "alias": "OSMagics",
        "alias_magic": "BasicMagics",
        "autoawait": "AsyncMagics",
        "autocall": "AutoMagics",
        "automagic": "AutoMagics",
        "autosave": "KernelMagics",
        "bookmark": "OSMagics",
        "cd": "OSMagics",
        "clear": "KernelMagics",
        "cls": "KernelMagics",
        "colors": "BasicMagics",
        "conda": "PackagingMagics",
        "config": "ConfigMagics",
        "connect_info": "KernelMagics",
        "copy": "Other",
        "ddir": "Other",
        "debug": "ExecutionMagics",
        "dhist": "OSMagics",
        "dirs": "OSMagics",
        "doctest_mode": "BasicMagics",
        "echo": "Other",
        "ed": "Other",
        "edit": "KernelMagics",
        "env": "OSMagics",
        "gui": "BasicMagics",
        "hist": "Other",
        "history": "HistoryMagics",
        "killbgscripts": "ScriptMagics",
        "ldir": "Other",
        "less": "KernelMagics",
        "load": "CodeMagics",
        "load_ext": "ExtensionMagics",
        "loadpy": "CodeMagics",
        "logoff": "LoggingMagics",
        "logon": "LoggingMagics",
        "logstart": "LoggingMagics",
        "logstate": "LoggingMagics",
        "logstop": "LoggingMagics",
        "ls": "Other",
        "lsmagic": "BasicMagics",
        "macro": "ExecutionMagics",
        "magic": "BasicMagics",
        "matplotlib": "PylabMagics",
        "mkdir": "Other",
        "more": "KernelMagics",
        "notebook": "BasicMagics",
        "page": "BasicMagics",
        "pastebin": "CodeMagics",
        "pdb": "ExecutionMagics",
        "pdef": "NamespaceMagics",
        "pdoc": "NamespaceMagics",
        "pfile": "NamespaceMagics",
        "pinfo": "NamespaceMagics",
        "pinfo2": "NamespaceMagics",
        "pip": "PackagingMagics",
        "popd": "OSMagics",
        "pprint": "BasicMagics",
        "precision": "BasicMagics",
        "prun": "ExecutionMagics",
        "psearch": "NamespaceMagics",
        "psource": "NamespaceMagics",
        "pushd": "OSMagics",
        "pwd": "OSMagics",
        "pycat": "OSMagics",
        "pylab": "PylabMagics",
        "qtconsole": "KernelMagics",
        "quickref": "BasicMagics",
        "recall": "HistoryMagics",
        "rehashx": "OSMagics",
        "reload_ext": "ExtensionMagics",
        "ren": "Other",
        "rep": "Other",
        "rerun": "HistoryMagics",
        "reset": "NamespaceMagics",
        "reset_selective": "NamespaceMagics",
        "rmdir": "Other",
        "run": "ExecutionMagics",
        "save": "CodeMagics",
        "sc": "OSMagics",
        "set_env": "OSMagics",
        "store": "StoreMagics",
        "sx": "OSMagics",
        "system": "OSMagics",
        "tb": "ExecutionMagics",
        "time": "ExecutionMagics",
        "timeit": "ExecutionMagics",
        "unalias": "OSMagics",
        "unload_ext": "ExtensionMagics",
        "who": "NamespaceMagics",
        "who_ls": "NamespaceMagics",
        "whos": "NamespaceMagics",
        "xdel": "NamespaceMagics",
        "xmode": "BasicMagics"
       }
      },
      "text/plain": [
       "Available line magics:\n",
       "%alias  %alias_magic  %autoawait  %autocall  %automagic  %autosave  %bookmark  %cd  %clear  %cls  %colors  %conda  %config  %connect_info  %copy  %ddir  %debug  %dhist  %dirs  %doctest_mode  %echo  %ed  %edit  %env  %gui  %hist  %history  %killbgscripts  %ldir  %less  %load  %load_ext  %loadpy  %logoff  %logon  %logstart  %logstate  %logstop  %ls  %lsmagic  %macro  %magic  %matplotlib  %mkdir  %more  %notebook  %page  %pastebin  %pdb  %pdef  %pdoc  %pfile  %pinfo  %pinfo2  %pip  %popd  %pprint  %precision  %prun  %psearch  %psource  %pushd  %pwd  %pycat  %pylab  %qtconsole  %quickref  %recall  %rehashx  %reload_ext  %ren  %rep  %rerun  %reset  %reset_selective  %rmdir  %run  %save  %sc  %set_env  %store  %sx  %system  %tb  %time  %timeit  %unalias  %unload_ext  %who  %who_ls  %whos  %xdel  %xmode\n",
       "\n",
       "Available cell magics:\n",
       "%%!  %%HTML  %%SVG  %%bash  %%capture  %%cmd  %%debug  %%file  %%html  %%javascript  %%js  %%latex  %%markdown  %%perl  %%prun  %%pypy  %%python  %%python2  %%python3  %%ruby  %%script  %%sh  %%svg  %%sx  %%system  %%time  %%timeit  %%writefile\n",
       "\n",
       "Automagic is ON, % prefix IS NOT needed for line magics."
      ]
     },
     "execution_count": 2,
     "metadata": {},
     "output_type": "execute_result"
    }
   ],
   "source": [
    "'''\n",
    "不需要離開 jupyter notebook 即可執行 kernel 的指令\n",
    "'''\n",
    "%lsmagic"
   ]
  },
  {
   "cell_type": "code",
   "execution_count": 3,
   "metadata": {},
   "outputs": [
    {
     "data": {
      "text/plain": [
       "'D:\\\\Google雲端硬碟\\\\GettingStartedWithPythonAndRaspberryPi-book_release\\\\Chapter03'"
      ]
     },
     "execution_count": 3,
     "metadata": {},
     "output_type": "execute_result"
    }
   ],
   "source": [
    "%pwd"
   ]
  },
  {
   "cell_type": "code",
   "execution_count": 4,
   "metadata": {},
   "outputs": [
    {
     "data": {
      "text/plain": [
       "'D:\\\\Google雲端硬碟\\\\GettingStartedWithPythonAndRaspberryPi-book_release\\\\Chapter03'"
      ]
     },
     "execution_count": 4,
     "metadata": {},
     "output_type": "execute_result"
    }
   ],
   "source": [
    "dir = \"D:\\Google雲端硬碟\\GettingStartedWithPythonAndRaspberryPi-book_release\\Chapter03\"\n",
    "dir"
   ]
  },
  {
   "cell_type": "code",
   "execution_count": 6,
   "metadata": {},
   "outputs": [
    {
     "data": {
      "text/plain": [
       "'D:\\\\Google雲端硬碟\\\\GettingStartedWithPythonAndRaspberryPi-book_release\\\\Chapter03'"
      ]
     },
     "execution_count": 6,
     "metadata": {},
     "output_type": "execute_result"
    }
   ],
   "source": [
    "dir2 = \"D:\\\\Google雲端硬碟\\\\GettingStartedWithPythonAndRaspberryPi-book_release\\\\Chapter03\"\n",
    "dir2"
   ]
  },
  {
   "cell_type": "code",
   "execution_count": 7,
   "metadata": {},
   "outputs": [
    {
     "data": {
      "text/plain": [
       "'D:\\\\Google雲端硬碟\\\\GettingStartedWithPythonAndRaspberryPi-book_release\\\\Chapter03'"
      ]
     },
     "execution_count": 7,
     "metadata": {},
     "output_type": "execute_result"
    }
   ],
   "source": [
    "import os\n",
    "os.getcwd()"
   ]
  },
  {
   "cell_type": "markdown",
   "metadata": {},
   "source": [
    "在 windows 作業系統中的慣例，路徑是用 \\ 來分層，\n",
    "但不幸的是，這與 unix 為基礎的作業系統中，目錄的分層是用 /，方向不同。\n",
    "如，在 windows 底下：\n",
    "\n",
    "D:\\Google Drive\\●Ⓞ物聯網課程\n",
    "\n",
    "*但其實，如果用 / 來表示目錄的分層，也是可以的。"
   ]
  },
  {
   "cell_type": "code",
   "execution_count": 9,
   "metadata": {},
   "outputs": [],
   "source": [
    "os.chdir(\n",
    "\"D:/Google雲端硬碟/GettingStartedWithPythonAndRaspberryPi-book_release/Chapter03\")"
   ]
  },
  {
   "cell_type": "code",
   "execution_count": 10,
   "metadata": {},
   "outputs": [
    {
     "data": {
      "text/plain": [
       "'D:\\\\Google雲端硬碟\\\\GettingStartedWithPythonAndRaspberryPi-book_release\\\\Chapter03'"
      ]
     },
     "execution_count": 10,
     "metadata": {},
     "output_type": "execute_result"
    }
   ],
   "source": [
    "os.getcwd()"
   ]
  },
  {
   "cell_type": "code",
   "execution_count": 11,
   "metadata": {},
   "outputs": [],
   "source": [
    "#help(os)"
   ]
  },
  {
   "cell_type": "code",
   "execution_count": 12,
   "metadata": {},
   "outputs": [
    {
     "name": "stdout",
     "output_type": "stream",
     "text": [
      "D:\\Google雲端硬碟\\GettingStartedWithPythonAndRaspberryPi-book_release\\Chapter03\n"
     ]
    }
   ],
   "source": [
    "'''\n",
    "\\ (back slash) 剛好是被用來當作 escape character\n",
    "所以真要表示 \\ 時，就得前面加一個用來 escape 的 \\\n",
    "\n",
    "但在 print() 的時候，系統就會知道\n",
    "\n",
    "'''\n",
    "print(os.getcwd())\n"
   ]
  },
  {
   "cell_type": "code",
   "execution_count": 15,
   "metadata": {},
   "outputs": [
    {
     "data": {
      "text/plain": [
       "'C:\\\\Users\\\\Sheng-Luen Cheng'"
      ]
     },
     "execution_count": 15,
     "metadata": {},
     "output_type": "execute_result"
    }
   ],
   "source": [
    "'''\n",
    "通常在 linux 作業系統中， home directory 的路徑是用 ~ 來代替\n",
    "'''\n",
    "import os.path\n",
    "homedir = os.path.expanduser(\"~\")\n",
    "homedir\n",
    "# C:\\Users\\Sheng-Luen Cheng"
   ]
  },
  {
   "cell_type": "code",
   "execution_count": 16,
   "metadata": {},
   "outputs": [
    {
     "name": "stdout",
     "output_type": "stream",
     "text": [
      "C:\\Users\\Sheng-Luen Cheng\n"
     ]
    }
   ],
   "source": [
    "'''\n",
    "因為 \\ 是代表 escape 的特殊字符，所以真的要代表 \\ 時，要用 \\\\ 表示\n",
    "'''\n",
    "print(homedir)"
   ]
  },
  {
   "cell_type": "code",
   "execution_count": 17,
   "metadata": {},
   "outputs": [],
   "source": [
    "#help(os)"
   ]
  },
  {
   "cell_type": "code",
   "execution_count": 19,
   "metadata": {},
   "outputs": [],
   "source": [
    "os.chdir(\n",
    "\"D:/Google雲端硬碟/GettingStartedWithPythonAndRaspberryPi-book_release/Chapter03\")"
   ]
  },
  {
   "cell_type": "code",
   "execution_count": 20,
   "metadata": {},
   "outputs": [
    {
     "data": {
      "text/plain": [
       "'D:\\\\Google雲端硬碟\\\\GettingStartedWithPythonAndRaspberryPi-book_release\\\\Chapter03'"
      ]
     },
     "execution_count": 20,
     "metadata": {},
     "output_type": "execute_result"
    }
   ],
   "source": [
    "os.getcwd()"
   ]
  },
  {
   "cell_type": "code",
   "execution_count": 21,
   "metadata": {},
   "outputs": [
    {
     "name": "stdout",
     "output_type": "stream",
     "text": [
      " 磁碟區 D 中的磁碟是 新增磁碟區\n",
      " 磁碟區序號:  E422-9B08\n",
      "\n",
      " D:\\Google雲端硬碟\\GettingStartedWithPythonAndRaspberryPi-book_release\\Chapter03 的目錄\n",
      "\n",
      "2020/09/28  下午 05:00    <DIR>          .\n",
      "2020/09/28  下午 05:00    <DIR>          ..\n",
      "2019/03/11  下午 12:19           247,888 .ipynb\n",
      "2020/09/23  上午 11:18    <DIR>          .ipynb_checkpoints\n",
      "2020/09/27  上午 08:23            82,198 Ch03Drill.ipynb\n",
      "2019/09/30  上午 10:15               460 Ch03_readme.txt\n",
      "2020/09/27  下午 08:44            93,397 changeToCourseDirectory.ipynb\n",
      "2018/03/31  下午 04:38            11,296 Chapter3byChung-CleanCopy.py\n",
      "2018/03/26  上午 08:38            13,611 Chapter3byChung.py\n",
      "2020/09/22  下午 08:04           195,475 Chapter_03_by_Chung_py3_2019.ipynb\n",
      "2020/09/20  下午 04:16             2,644 Chapter_03_complimentary_Corey_Shafer.ipynb\n",
      "2020/09/28  下午 01:42             1,124 Chapter_03_Read_me.ipynb\n",
      "2018/03/13  上午 03:09               796 Dictionary_Operations.py\n",
      "2018/03/13  上午 03:09               107 Dictionary_Set.py\n",
      "2018/03/13  上午 03:09               107 Dictionary_Simple.py\n",
      "2020/09/27  下午 07:39        45,793,118 fileObject.ipynb\n",
      "2018/03/13  上午 03:09               544 File_Objects.py\n",
      "2019/06/10  下午 12:21             4,759 hw8_330.py\n",
      "2018/03/13  上午 03:09               280 Lists_Append.py\n",
      "2018/03/13  上午 03:09               465 Lists_ConditionalGenerator.py\n",
      "2018/03/13  上午 03:09               642 Lists_ModificationGenerator.py\n",
      "2018/03/13  上午 03:09               592 Lists_Operations.py\n",
      "2018/03/13  上午 03:09                84 Lists_Simple.py\n",
      "2018/03/31  下午 03:53            10,597 newChapter3byChung.py\n",
      "2020/09/27  下午 02:11             3,491 news.txt\n",
      "2020/09/27  下午 02:16             3,491 news1.txt\n",
      "2018/03/13  上午 03:09             1,102 os_path.py\n",
      "2020/09/26  下午 10:58                24 SampleFile.txt\n",
      "2020/09/26  下午 10:58               204 SampleFile3.txt\n",
      "2018/03/13  上午 03:09               224 Sets_Create.py\n",
      "2018/03/13  上午 03:09               158 Sets_Frozen.py\n",
      "2018/03/13  上午 03:09               512 Sets_Operations.py\n",
      "2020/09/27  下午 02:48            86,140 test.htm\n",
      "2020/09/27  下午 02:57               182 test.txt\n",
      "2020/09/27  下午 03:15                17 testw.txt\n",
      "2018/03/13  上午 03:09               297 Tuples.py\n",
      "2020/09/28  下午 02:39            53,161 §03_01_List.ipynb\n",
      "2020/09/28  下午 04:11            27,580 §03_02_Dictionary.ipynb\n",
      "2020/09/28  下午 04:40            60,490 §03_03_Set_FrozenSet_Tuple.ipynb\n",
      "2020/09/28  下午 05:00            13,735 §03_04_osPath.ipynb\n",
      "2020/09/26  下午 10:59            52,175 §03_05_ReadingAndWritingToFiles.ipynb\n",
      "2020/09/22  下午 08:34           195,478 §03_Complete_2020_Fall.ipynb\n",
      "2020/09/27  下午 09:12            30,122 病歷500句子 (1).txt\n",
      "2019/09/22  下午 03:50            20,419 病歷500句子.txt\n",
      "              41 個檔案      47,009,186 位元組\n",
      "               3 個目錄  896,126,509,056 位元組可用\n"
     ]
    }
   ],
   "source": [
    "!dir"
   ]
  },
  {
   "cell_type": "code",
   "execution_count": null,
   "metadata": {},
   "outputs": [],
   "source": []
  }
 ],
 "metadata": {
  "kernelspec": {
   "display_name": "Python 3",
   "language": "python",
   "name": "python3"
  },
  "language_info": {
   "codemirror_mode": {
    "name": "ipython",
    "version": 3
   },
   "file_extension": ".py",
   "mimetype": "text/x-python",
   "name": "python",
   "nbconvert_exporter": "python",
   "pygments_lexer": "ipython3",
   "version": "3.7.1"
  }
 },
 "nbformat": 4,
 "nbformat_minor": 2
}
