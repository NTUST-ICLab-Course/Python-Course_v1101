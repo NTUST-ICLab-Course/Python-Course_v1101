{
 "cells": [
  {
   "cell_type": "markdown",
   "metadata": {},
   "source": [
    "# Chapter 2. Understanding Control Flow and Data Types\n",
    "\n",
    "## Content\n",
    "====\n",
    "1. Strongly dynamic typed language\n",
    "2. Numerical types and operations\n",
    "3. String Manipulations\n",
    "    - String operations\n",
    "    - String formatting\n",
    "4. Control flow operators\n",
    "    - if\n",
    "    - for\n",
    "    - while\n",
    "5. Functions\n",
    "    - Positional arguments\n",
    "    - Default arguments\n",
    "    - Keyword arguments\n"
   ]
  }
 ],
 "metadata": {
  "kernelspec": {
   "display_name": "Python 3",
   "language": "python",
   "name": "python3"
  },
  "language_info": {
   "codemirror_mode": {
    "name": "ipython",
    "version": 3
   },
   "file_extension": ".py",
   "mimetype": "text/x-python",
   "name": "python",
   "nbconvert_exporter": "python",
   "pygments_lexer": "ipython3",
   "version": "3.7.1"
  }
 },
 "nbformat": 4,
 "nbformat_minor": 2
}
