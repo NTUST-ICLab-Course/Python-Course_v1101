{
 "cells": [
  {
   "cell_type": "markdown",
   "metadata": {},
   "source": [
    "Chapter 2. Understanding Control Flow and Data Types\n",
    "====\n",
    "## 4. Control Flow Operators"
   ]
  },
  {
   "cell_type": "markdown",
   "metadata": {},
   "source": [
    "## *Corey Schafer Python Tutorial*\n",
    "## Python Tutorial for Beginners 7: Loops and Iterations - For/While Loops\n",
    "https://www.youtube.com/watch?v=6iF8Xb7Z3wQ&list=PL-osiE80TeTt2d9bfVyTiXJA-UTHn6WwU&index=7"
   ]
  },
  {
   "cell_type": "code",
   "execution_count": 1,
   "metadata": {},
   "outputs": [
    {
     "data": {
      "text/html": [
       "<iframe width=\"560\" height=\"315\" src=\"https://www.youtube.com/embed/6iF8Xb7Z3wQ\" frameborder=\"0\" allow=\"accelerometer; autoplay; clipboard-write; encrypted-media; gyroscope; picture-in-picture\" allowfullscreen></iframe>\n"
      ],
      "text/plain": [
       "<IPython.core.display.HTML object>"
      ]
     },
     "metadata": {},
     "output_type": "display_data"
    }
   ],
   "source": [
    "%%HTML\n",
    "<iframe width=\"560\" height=\"315\" src=\"https://www.youtube.com/embed/6iF8Xb7Z3wQ\" frameborder=\"0\" allow=\"accelerometer; autoplay; clipboard-write; encrypted-media; gyroscope; picture-in-picture\" allowfullscreen></iframe>"
   ]
  },
  {
   "cell_type": "code",
   "execution_count": 3,
   "metadata": {},
   "outputs": [
    {
     "name": "stdout",
     "output_type": "stream",
     "text": [
      "Lose!\n"
     ]
    }
   ],
   "source": [
    "import random\n",
    "if random.randint(1, 100) % 2 == 1:\n",
    "    print(\"Win!\")\n",
    "else:\n",
    "    print(\"Lose!\")"
   ]
  },
  {
   "cell_type": "code",
   "execution_count": 4,
   "metadata": {},
   "outputs": [
    {
     "name": "stdout",
     "output_type": "stream",
     "text": [
      "Lose!\n"
     ]
    }
   ],
   "source": [
    "import random\n",
    "if random.randint(1, 100) % 2 == 1:\n",
    "    print(\"Win!\")\n",
    "else:\n",
    "    print(\"Lose!\")"
   ]
  },
  {
   "cell_type": "code",
   "execution_count": 5,
   "metadata": {},
   "outputs": [
    {
     "name": "stdout",
     "output_type": "stream",
     "text": [
      "Win! (after 1 losses)\n"
     ]
    }
   ],
   "source": [
    "times_lost = 0\n",
    "while random.randint(1, 100) % 2 == 0:\n",
    "    times_lost += 1\n",
    "print(\"Win! (after %d losses)\" % (times_lost))"
   ]
  },
  {
   "cell_type": "code",
   "execution_count": 10,
   "metadata": {},
   "outputs": [
    {
     "name": "stdout",
     "output_type": "stream",
     "text": [
      "Win! (after 3 losses)\n"
     ]
    }
   ],
   "source": [
    "times_lost = 0\n",
    "while random.randint(1, 100) % 2 == 0:\n",
    "    times_lost += 1\n",
    "print(\"Win! (after %d losses)\" % (times_lost))"
   ]
  },
  {
   "cell_type": "code",
   "execution_count": 14,
   "metadata": {},
   "outputs": [
    {
     "name": "stdout",
     "output_type": "stream",
     "text": [
      "Small Win!\n"
     ]
    }
   ],
   "source": [
    "# three-way\n",
    "import random\n",
    "number = random.randint(0, 3)\n",
    "if number == 2:\n",
    "    print(\"Big Win!\")\n",
    "elif number == 1:\n",
    "    print(\"Small Win!\")\n",
    "else: # default\n",
    "    print(\"Lose!\")"
   ]
  },
  {
   "cell_type": "code",
   "execution_count": 20,
   "metadata": {},
   "outputs": [
    {
     "name": "stdout",
     "output_type": "stream",
     "text": [
      "Big Win!\n"
     ]
    }
   ],
   "source": [
    "import random\n",
    "number = random.randint(0, 3)\n",
    "if number == 2:\n",
    "    print(\"Big Win!\")\n",
    "elif number == 1:\n",
    "    print(\"Small Win!\")\n",
    "else:\n",
    "    print(\"Lose!\")"
   ]
  },
  {
   "cell_type": "markdown",
   "metadata": {},
   "source": [
    "**因為是隨機的，每次執行的結果可能會不一樣**"
   ]
  },
  {
   "cell_type": "markdown",
   "metadata": {},
   "source": [
    "## Iteration 有兩種\n",
    "- for loop\n",
    "- while"
   ]
  },
  {
   "cell_type": "code",
   "execution_count": 8,
   "metadata": {},
   "outputs": [
    {
     "name": "stdout",
     "output_type": "stream",
     "text": [
      "Hello Sakuya\n",
      "Hello Youmu\n",
      "Hello Reisen\n"
     ]
    }
   ],
   "source": [
    "people = [\"Sakuya\", \"Youmu\", \"Reisen\"]\n",
    "for person in people:\n",
    "    print(\"Hello %s\" % (person))"
   ]
  },
  {
   "cell_type": "code",
   "execution_count": 21,
   "metadata": {},
   "outputs": [
    {
     "name": "stdout",
     "output_type": "stream",
     "text": [
      "0\n",
      "1\n",
      "2\n",
      "3\n",
      "4\n"
     ]
    }
   ],
   "source": [
    "for i in range(5): # start with 0\n",
    "    print(i)"
   ]
  },
  {
   "cell_type": "code",
   "execution_count": 22,
   "metadata": {},
   "outputs": [
    {
     "name": "stdout",
     "output_type": "stream",
     "text": [
      "8\n",
      "9\n",
      "10\n",
      "11\n"
     ]
    }
   ],
   "source": [
    "for i in range(8, 12):\n",
    "    print(i)"
   ]
  },
  {
   "cell_type": "code",
   "execution_count": 23,
   "metadata": {},
   "outputs": [
    {
     "name": "stdout",
     "output_type": "stream",
     "text": [
      "Starting 0.0\n",
      "Starting 0.1\n",
      "Starting 0.2\n",
      "Starting 0.3\n",
      "Starting 0.4\n",
      "Starting 0.5\n",
      "Starting 0.6\n",
      "Starting 0.7\n",
      "Starting 0.8\n",
      "Starting 0.9\n",
      "Finishing 0.9\n",
      "Starting 1.0\n",
      "Starting 1.1\n",
      "Starting 1.2\n",
      "Starting 1.3\n",
      "Starting 1.4\n",
      "Starting 1.5\n",
      "Starting 1.6\n",
      "Starting 1.7\n",
      "Starting 1.8\n",
      "Starting 1.9\n",
      "Finishing 1.9\n"
     ]
    }
   ],
   "source": [
    "# loop with inner loop\n",
    "for i in range(2):\n",
    "    for j in range(10):\n",
    "        print(\"Starting %d.%d\" % (i, j))\n",
    "    print(\"Finishing %d.%d\" % (i, j))"
   ]
  },
  {
   "cell_type": "code",
   "execution_count": 24,
   "metadata": {},
   "outputs": [
    {
     "name": "stdout",
     "output_type": "stream",
     "text": [
      "Starting 0.0\n",
      "Starting 0.1\n",
      "Starting 0.2\n",
      "Starting 0.3\n",
      "Starting 0.4\n",
      "Starting 0.5\n",
      "Starting 0.6\n",
      "Starting 0.7\n",
      "Starting 0.8\n",
      "Starting 0.9\n",
      "Finishing 0.9\n",
      "Starting 1.0\n",
      "Starting 1.1\n",
      "Starting 1.2\n",
      "Starting 1.3\n",
      "Starting 1.4\n",
      "Starting 1.5\n",
      "Starting 1.6\n",
      "Starting 1.7\n",
      "Starting 1.8\n",
      "Starting 1.9\n",
      "Finishing 1.9\n"
     ]
    }
   ],
   "source": [
    "# loop with inner loop\n",
    "for i in range(2):\n",
    "    for j in range(10):\n",
    "        print(\"Starting %d.%d\" % (i, j))\n",
    "       # if j > 5:\n",
    "       #     break # from the current loop\n",
    "    print(\"Finishing %d.%d\" % (i, j))"
   ]
  },
  {
   "cell_type": "markdown",
   "metadata": {},
   "source": [
    "## 在 loop 中，\n",
    "- break\n",
    "- continue\n",
    "\n",
    "的使用"
   ]
  },
  {
   "cell_type": "code",
   "execution_count": 25,
   "metadata": {},
   "outputs": [
    {
     "name": "stdout",
     "output_type": "stream",
     "text": [
      "Starting 0.0\n",
      "Starting 0.1\n",
      "Starting 0.2\n",
      "Starting 0.3\n",
      "Starting 0.4\n",
      "Starting 0.5\n",
      "Starting 0.6\n",
      "Finishing 0.6\n",
      "Starting 1.0\n",
      "Starting 1.1\n",
      "Starting 1.2\n",
      "Starting 1.3\n",
      "Starting 1.4\n",
      "Starting 1.5\n",
      "Starting 1.6\n",
      "Finishing 1.6\n"
     ]
    }
   ],
   "source": [
    "for i in range(2):\n",
    "    for j in range(10):\n",
    "        print(\"Starting %d.%d\" % (i, j))\n",
    "        if j > 5:\n",
    "            break # from the current loop\n",
    "    print(\"Finishing %d.%d\" % (i, j))"
   ]
  },
  {
   "cell_type": "code",
   "execution_count": 26,
   "metadata": {},
   "outputs": [
    {
     "name": "stdout",
     "output_type": "stream",
     "text": [
      "Starting #0\n",
      "Finishing #0\n",
      "Starting #1\n",
      "Finishing #1\n",
      "Starting #2\n",
      "Finishing #2\n",
      "Starting #3\n",
      "Finishing #3\n",
      "Starting #4\n",
      "Finishing #4\n",
      "Starting #5\n",
      "Finishing #5\n",
      "Starting #6\n",
      "Finishing #6\n",
      "Starting #7\n",
      "Finishing #7\n",
      "Starting #8\n",
      "Finishing #8\n",
      "Starting #9\n",
      "Finishing #9\n"
     ]
    }
   ],
   "source": [
    "for i in range(10):\n",
    "    print(\"Starting #%d\" % (i))\n",
    "    #if i % 2 == 1:\n",
    "    #    continue # skip the rest codes and continue on the next incremented index\n",
    "    print(\"Finishing #%d\" % (i))"
   ]
  },
  {
   "cell_type": "code",
   "execution_count": 28,
   "metadata": {},
   "outputs": [
    {
     "name": "stdout",
     "output_type": "stream",
     "text": [
      "Starting #0\n",
      "Finishing #0\n",
      "Starting #1\n",
      "Starting #2\n",
      "Finishing #2\n",
      "Starting #3\n",
      "Starting #4\n",
      "Finishing #4\n",
      "Starting #5\n",
      "Starting #6\n",
      "Finishing #6\n",
      "Starting #7\n",
      "Starting #8\n",
      "Finishing #8\n",
      "Starting #9\n"
     ]
    }
   ],
   "source": [
    "for i in range(10):\n",
    "    print(\"Starting #%d\" % (i))\n",
    "    if i % 2 == 1:\n",
    "        continue # skip the rest codes and continue on the next incremented index\n",
    "    print(\"Finishing #%d\" % (i))"
   ]
  },
  {
   "cell_type": "markdown",
   "metadata": {},
   "source": [
    "## **Additional materials**\n",
    "## Selection\n",
    "http://python4java.necaise.org/Fundamentals/SelectionStatements"
   ]
  },
  {
   "cell_type": "markdown",
   "metadata": {},
   "source": [
    "## Repeatition\n",
    "http://python4java.necaise.org/Fundamentals/RepetitionStatements"
   ]
  }
 ],
 "metadata": {
  "kernelspec": {
   "display_name": "Python 3",
   "language": "python",
   "name": "python3"
  },
  "language_info": {
   "codemirror_mode": {
    "name": "ipython",
    "version": 3
   },
   "file_extension": ".py",
   "mimetype": "text/x-python",
   "name": "python",
   "nbconvert_exporter": "python",
   "pygments_lexer": "ipython3",
   "version": "3.7.1"
  }
 },
 "nbformat": 4,
 "nbformat_minor": 2
}
