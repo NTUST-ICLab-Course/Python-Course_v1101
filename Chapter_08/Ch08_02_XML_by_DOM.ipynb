{
 "cells": [
  {
   "cell_type": "markdown",
   "metadata": {},
   "source": [
    "# Chapter 8: Extracting Data from the Internet\n",
    "## Part 2: Parsing XML APIs by DOM\n",
    "\n",
    "2020-12-07 \\\n",
    "鍾修改 2019-11-30 \\\n",
    "士超改為 Python3 2019-04-25 \\\n",
    "逸勳協助準備 2018-05-22 "
   ]
  },
  {
   "cell_type": "markdown",
   "metadata": {},
   "source": [
    "## 可延伸標記式語言（英語：Extensible Markup Language，簡稱：XML）\n",
    "https://zh.wikipedia.org/wiki/XML"
   ]
  },
  {
   "cell_type": "markdown",
   "metadata": {},
   "source": [
    "![XML介紹](http://www.ukoln.ac.uk/metadata/dcmi/dc-elem-prop/image/Slide1.png)"
   ]
  },
  {
   "cell_type": "markdown",
   "metadata": {},
   "source": [
    "### 來看一下台北的天氣\n",
    "https://openweathermap.org/city/1668341\n",
    "\n",
    "### 但相同的資訊可由以下的 url 取得：\n",
    "http://api.openweathermap.org/data/2.5/forecast?q=Taipei,%20TW&mode=xml&appid=d1deefb25fb63cf70eea21a43dad94f7"
   ]
  },
  {
   "cell_type": "markdown",
   "metadata": {},
   "source": [
    "# Parsing XML APIs\n",
    "\n",
    "XML 的格式的網頁有兩種 API 的方法解讀：\n",
    "\n",
    "1. DOM (Document Object Model): **You load the whole thing into memory** - it's a massive memory hog. You can blow memory with even medium sized documents. But you can use xpath and traverse the tree etc.\n",
    "\n",
    "2. SAX (Simple API for XML): Is a stream-based processor. **You only have a tiny part in memory at any time and you \"sniff\" the XML stream by implementing callback code for events like tagStarted() etc**. It uses almost no memory, but you can't do \"DOM\" stuff, like use xpath or traverse trees."
   ]
  },
  {
   "cell_type": "markdown",
   "metadata": {},
   "source": [
    "## What is the difference between SAX and DOM?\n",
    "https://stackoverflow.com/questions/6828703/what-is-the-difference-between-sax-and-dom \\\n",
    "**SAX is event-based and DOM is tree model**\n",
    "\n",
    "In SAX, events are triggered when the XML is being parsed. When the parser is parsing the XML, and encounters a tag starting (e.g. <something>), then it triggers the tagStarted event (actual name of event might differ). Similarly when the end of the tag is met while parsing (</something>), it triggers tagEnded. Using a SAX parser implies you need to handle these events and make sense of the data returned with each event.\n",
    "\n",
    "In DOM, there are no events triggered while parsing. The entire XML is parsed and a DOM tree (of the nodes in the XML) is generated and returned. Once parsed, the user can navigate the tree to access the various data previously embedded in the various nodes in the XML.\n",
    "\n",
    "In general, DOM is easier to use but has an overhead of parsing the entire XML before you can start using it."
   ]
  },
  {
   "cell_type": "markdown",
   "metadata": {},
   "source": [
    "## 先來看一下氣象網站：\n",
    "\n",
    "1. https://openweathermap.org/\n",
    "2. https://home.openweathermap.org/api_keys (申請 key)\n",
    "\n",
    "XML API(氣象資訊) example URL is :\n",
    "\n",
    "(台北)\n",
    "\n",
    "http://api.openweathermap.org/data/2.5/forecast?q=Taipei,%20TW&mode=xml&appid=d1deefb25fb63cf70eea21a43dad94f7\n",
    "\n",
    "(英國)\n",
    "\n",
    "http://api.openweathermap.org/data/2.5/forecast?q=Harwell,UK&mode=xml&appid=d1deefb25fb63cf70eea21a43dad94f7\n",
    "\n",
    "我申請的\n",
    "\n",
    "b6eb3df55f5965071b75ed8ee2d14aa9"
   ]
  },
  {
   "cell_type": "markdown",
   "metadata": {},
   "source": [
    "## 使用 xmlviewer 來看 XML 的網頁內容：\n",
    "https://codebeautify.org/xmlviewer\n",
    "使用 \"Load URL\" \\\n",
    "http://api.openweathermap.org/data/2.5/forecast?q=Taipei,%20TW&mode=xml&appid=d1deefb25fb63cf70eea21a43dad94f7"
   ]
  },
  {
   "cell_type": "markdown",
   "metadata": {},
   "source": [
    "## The DOM(Document Object Model) method\n",
    "\n",
    "## *Corey Schafer Python Tutorial*: Web Scraping with Requests-HTML\n",
    "https://www.youtube.com/watch?v=a6fIbtFB46g"
   ]
  },
  {
   "cell_type": "code",
   "execution_count": 1,
   "metadata": {},
   "outputs": [
    {
     "data": {
      "text/html": [
       "<iframe width=\"560\" height=\"315\" src=\"https://www.youtube.com/embed/a6fIbtFB46g\" frameborder=\"0\" allow=\"accelerometer; autoplay; clipboard-write; encrypted-media; gyroscope; picture-in-picture\" allowfullscreen></iframe>\n"
      ],
      "text/plain": [
       "<IPython.core.display.HTML object>"
      ]
     },
     "metadata": {},
     "output_type": "display_data"
    }
   ],
   "source": [
    "%%HTML\n",
    "<iframe width=\"560\" height=\"315\" src=\"https://www.youtube.com/embed/a6fIbtFB46g\" frameborder=\"0\" allow=\"accelerometer; autoplay; clipboard-write; encrypted-media; gyroscope; picture-in-picture\" allowfullscreen></iframe>"
   ]
  },
  {
   "cell_type": "markdown",
   "metadata": {},
   "source": [
    "## Parsing XML with Python (DevNet)\n",
    "https://www.youtube.com/watch?v=oE4AhcpXRsY"
   ]
  },
  {
   "cell_type": "code",
   "execution_count": 2,
   "metadata": {
    "scrolled": true
   },
   "outputs": [
    {
     "data": {
      "text/html": [
       "<iframe width=\"560\" height=\"315\" src=\"https://www.youtube.com/embed/oE4AhcpXRsY\" frameborder=\"0\" allow=\"accelerometer; autoplay; clipboard-write; encrypted-media; gyroscope; picture-in-picture\" allowfullscreen></iframe>\n"
      ],
      "text/plain": [
       "<IPython.core.display.HTML object>"
      ]
     },
     "metadata": {},
     "output_type": "display_data"
    }
   ],
   "source": [
    "%%HTML\n",
    "<iframe width=\"560\" height=\"315\" src=\"https://www.youtube.com/embed/oE4AhcpXRsY\" frameborder=\"0\" allow=\"accelerometer; autoplay; clipboard-write; encrypted-media; gyroscope; picture-in-picture\" allowfullscreen></iframe>"
   ]
  },
  {
   "cell_type": "markdown",
   "metadata": {},
   "source": [
    "# Parsing XML APIs 的三種方法：\n",
    "1. DOM (02_要講的)\n",
    "2. SAX (03_要講的)\n",
    "3. ElementTree (04_要講的，課本沒教的)"
   ]
  },
  {
   "cell_type": "markdown",
   "metadata": {},
   "source": [
    "## Python XML Parser Tutorial: Read xml file example(Minidom, ElementTree)\n",
    "https://www.guru99.com/manipulating-xml-with-python.html"
   ]
  },
  {
   "cell_type": "markdown",
   "metadata": {},
   "source": [
    "![XML介紹](http://www.ukoln.ac.uk/metadata/dcmi/dc-elem-prop/image/Slide1.png)"
   ]
  },
  {
   "cell_type": "markdown",
   "metadata": {},
   "source": [
    "## 關於 XML 的進一步資料\n",
    "\n",
    "https://zh.wikipedia.org/wiki/XML  (請打開這個網址)\n",
    "\n",
    "1. 標記（Markup）與內容（content）\n",
    "2. 標籤（Tag）\n",
    "    - start-tag，如<section>;\n",
    "    - end-tag，如</section>;\n",
    "    - empty-element tag，如<line-break />.\n",
    "3. 元素（Element）\n",
    "    - 在start-tag與匹配的end-tag之間 <greeting>Hello, world!</greeting>. \n",
    "    - <line-break />.\n",
    "4. attributes\n",
    "    - 在start-tag或empty-element tag內部的「名字-值對」。例如：\\<img src=\"madonna.jpg\" alt=\"Madonna\" />"
   ]
  },
  {
   "cell_type": "markdown",
   "metadata": {},
   "source": [
    "## The DOM (Document Object Model) methods:\n",
    "\n",
    "1. getElementsByTagName() 將有 tag 的資料全放入一個 list 裏\n",
    "2. getElementsByTagName('name')[0].childNodes[0] 將 list 中的第一筆，撥掉 tag 後的第一筆資料\n",
    "3. getElementsByTagName('name')[0].childNodes[0].data 取出其 data\n",
    "4. getAttribute() 找到屬性的內容"
   ]
  },
  {
   "cell_type": "markdown",
   "metadata": {},
   "source": [
    "## python weather_xml_dom.py Taipei,TW"
   ]
  },
  {
   "cell_type": "code",
   "execution_count": 3,
   "metadata": {},
   "outputs": [],
   "source": [
    "from datetime import datetime # 之後會轉變預測的時間表示法\n",
    "import urllib\n",
    "from string import Template\n",
    "import sys\n",
    "import xml.dom.minidom # 這個是 dom 的 module\n",
    "\n",
    "URL_TEMLATE = Template('http://api.openweathermap.org/data/2.5/forecast?q=${location}&mode=xml&appid=d1deefb25fb63cf70eea21a43dad94f7')\n",
    "# 注意：後想的 appid=d1deefb25fb63cf70eea21a43dad94f7 是另外加上去的！\n"
   ]
  },
  {
   "cell_type": "code",
   "execution_count": 4,
   "metadata": {},
   "outputs": [
    {
     "data": {
      "text/plain": [
       "'http://api.openweathermap.org/data/2.5/forecast?q=Taipei,TW&mode=xml&appid=d1deefb25fb63cf70eea21a43dad94f7'"
      ]
     },
     "execution_count": 4,
     "metadata": {},
     "output_type": "execute_result"
    }
   ],
   "source": [
    "# search_location = sys.argv[1]\n",
    "search_location = \"Taipei,TW\"\n",
    "\n",
    "api_url = URL_TEMLATE.substitute(location=search_location)\n",
    "api_url"
   ]
  },
  {
   "cell_type": "code",
   "execution_count": 5,
   "metadata": {
    "collapsed": true
   },
   "outputs": [
    {
     "data": {
      "text/plain": [
       "b'<?xml version=\"1.0\" encoding=\"UTF-8\"?>\\n<weatherdata><location><name>Taipei</name><type></type><country>TW</country><timezone>28800</timezone><location altitude=\"0\" latitude=\"25.0478\" longitude=\"121.5319\" geobase=\"geonames\" geobaseid=\"1668341\"></location></location><credit></credit><meta><lastupdate></lastupdate><calctime>0</calctime><nextupdate></nextupdate></meta><sun rise=\"2020-12-07T22:27:02\" set=\"2020-12-08T09:04:49\"></sun><forecast><time from=\"2020-12-08T06:00:00\" to=\"2020-12-08T09:00:00\"><symbol number=\"500\" name=\"light rain\" var=\"10d\"></symbol><precipitation probability=\"0.79\" unit=\"3h\" value=\"0.95\" type=\"rain\"></precipitation><windDirection deg=\"59\" code=\"ENE\" name=\"East-northeast\"></windDirection><windSpeed mps=\"5.7\" unit=\"m/s\" name=\"Moderate breeze\"></windSpeed><temperature unit=\"kelvin\" value=\"291.23\" min=\"291.2\" max=\"291.23\"></temperature><feels_like value=\"289.11\" unit=\"kelvin\"></feels_like><pressure unit=\"hPa\" value=\"1020\"></pressure><humidity value=\"86\" unit=\"%\"></humidity><clouds value=\"overcast clouds\" all=\"87\" unit=\"%\"></clouds><visibility value=\"10000\"></visibility></time><time from=\"2020-12-08T09:00:00\" to=\"2020-12-08T12:00:00\"><symbol number=\"500\" name=\"light rain\" var=\"10n\"></symbol><precipitation probability=\"0.82\" unit=\"3h\" value=\"0.41\" type=\"rain\"></precipitation><windDirection deg=\"62\" code=\"ENE\" name=\"East-northeast\"></windDirection><windSpeed mps=\"5.11\" unit=\"m/s\" name=\"Gentle Breeze\"></windSpeed><temperature unit=\"kelvin\" value=\"291.41\" min=\"291.41\" max=\"291.45\"></temperature><feels_like value=\"289.63\" unit=\"kelvin\"></feels_like><pressure unit=\"hPa\" value=\"1020\"></pressure><humidity value=\"84\" unit=\"%\"></humidity><clouds value=\"overcast clouds\" all=\"95\" unit=\"%\"></clouds><visibility value=\"10000\"></visibility></time><time from=\"2020-12-08T12:00:00\" to=\"2020-12-08T15:00:00\"><symbol number=\"500\" name=\"light rain\" var=\"10n\"></symbol><precipitation probability=\"0.83\" unit=\"3h\" value=\"0.86\" type=\"rain\"></precipitation><windDirection deg=\"59\" code=\"ENE\" name=\"East-northeast\"></windDirection><windSpeed mps=\"5.5\" unit=\"m/s\" name=\"Moderate breeze\"></windSpeed><temperature unit=\"kelvin\" value=\"291.84\" min=\"291.84\" max=\"291.88\"></temperature><feels_like value=\"290.09\" unit=\"kelvin\"></feels_like><pressure unit=\"hPa\" value=\"1019\"></pressure><humidity value=\"86\" unit=\"%\"></humidity><clouds value=\"overcast clouds\" all=\"97\" unit=\"%\"></clouds><visibility value=\"10000\"></visibility></time><time from=\"2020-12-08T15:00:00\" to=\"2020-12-08T18:00:00\"><symbol number=\"500\" name=\"light rain\" var=\"10n\"></symbol><precipitation probability=\"0.87\" unit=\"3h\" value=\"1.21\" type=\"rain\"></precipitation><windDirection deg=\"65\" code=\"ENE\" name=\"East-northeast\"></windDirection><windSpeed mps=\"5.06\" unit=\"m/s\" name=\"Gentle Breeze\"></windSpeed><temperature unit=\"kelvin\" value=\"291.84\" min=\"291.84\" max=\"291.84\"></temperature><feels_like value=\"290.33\" unit=\"kelvin\"></feels_like><pressure unit=\"hPa\" value=\"1018\"></pressure><humidity value=\"85\" unit=\"%\"></humidity><clouds value=\"overcast clouds\" all=\"100\" unit=\"%\"></clouds><visibility value=\"8796\"></visibility></time><time from=\"2020-12-08T18:00:00\" to=\"2020-12-08T21:00:00\"><symbol number=\"501\" name=\"moderate rain\" var=\"10n\"></symbol><precipitation probability=\"0.93\" unit=\"3h\" value=\"3.42\" type=\"rain\"></precipitation><windDirection deg=\"69\" code=\"ENE\" name=\"East-northeast\"></windDirection><windSpeed mps=\"5.85\" unit=\"m/s\" name=\"Moderate breeze\"></windSpeed><temperature unit=\"kelvin\" value=\"291.8\" min=\"291.8\" max=\"291.8\"></temperature><feels_like value=\"289.79\" unit=\"kelvin\"></feels_like><pressure unit=\"hPa\" value=\"1018\"></pressure><humidity value=\"86\" unit=\"%\"></humidity><clouds value=\"overcast clouds\" all=\"100\" unit=\"%\"></clouds><visibility value=\"10000\"></visibility></time><time from=\"2020-12-08T21:00:00\" to=\"2020-12-09T00:00:00\"><symbol number=\"500\" name=\"light rain\" var=\"10d\"></symbol><precipitation probability=\"1\" unit=\"3h\" value=\"0.92\" type=\"rain\"></precipitation><windDirection deg=\"73\" code=\"ENE\" name=\"East-northeast\"></windDirection><windSpeed mps=\"4.83\" unit=\"m/s\" name=\"Gentle Breeze\"></windSpeed><temperature unit=\"kelvin\" value=\"292.25\" min=\"292.25\" max=\"292.25\"></temperature><feels_like value=\"291.06\" unit=\"kelvin\"></feels_like><pressure unit=\"hPa\" value=\"1020\"></pressure><humidity value=\"85\" unit=\"%\"></humidity><clouds value=\"overcast clouds\" all=\"100\" unit=\"%\"></clouds><visibility value=\"10000\"></visibility></time><time from=\"2020-12-09T00:00:00\" to=\"2020-12-09T03:00:00\"><symbol number=\"500\" name=\"light rain\" var=\"10d\"></symbol><precipitation probability=\"0.9\" unit=\"3h\" value=\"1.21\" type=\"rain\"></precipitation><windDirection deg=\"73\" code=\"ENE\" name=\"East-northeast\"></windDirection><windSpeed mps=\"5.81\" unit=\"m/s\" name=\"Moderate breeze\"></windSpeed><temperature unit=\"kelvin\" value=\"292.4\" min=\"292.4\" max=\"292.4\"></temperature><feels_like value=\"290.5\" unit=\"kelvin\"></feels_like><pressure unit=\"hPa\" value=\"1019\"></pressure><humidity value=\"84\" unit=\"%\"></humidity><clouds value=\"overcast clouds\" all=\"100\" unit=\"%\"></clouds><visibility value=\"10000\"></visibility></time><time from=\"2020-12-09T03:00:00\" to=\"2020-12-09T06:00:00\"><symbol number=\"500\" name=\"light rain\" var=\"10d\"></symbol><precipitation probability=\"0.88\" unit=\"3h\" value=\"0.22\" type=\"rain\"></precipitation><windDirection deg=\"83\" code=\"E\" name=\"East\"></windDirection><windSpeed mps=\"5.26\" unit=\"m/s\" name=\"Gentle Breeze\"></windSpeed><temperature unit=\"kelvin\" value=\"293.33\" min=\"293.33\" max=\"293.33\"></temperature><feels_like value=\"291.8\" unit=\"kelvin\"></feels_like><pressure unit=\"hPa\" value=\"1017\"></pressure><humidity value=\"79\" unit=\"%\"></humidity><clouds value=\"overcast clouds\" all=\"100\" unit=\"%\"></clouds><visibility value=\"10000\"></visibility></time><time from=\"2020-12-09T06:00:00\" to=\"2020-12-09T09:00:00\"><symbol number=\"500\" name=\"light rain\" var=\"10d\"></symbol><precipitation probability=\"0.5\" unit=\"3h\" value=\"0.49\" type=\"rain\"></precipitation><windDirection deg=\"84\" code=\"E\" name=\"East\"></windDirection><windSpeed mps=\"4.57\" unit=\"m/s\" name=\"Gentle Breeze\"></windSpeed><temperature unit=\"kelvin\" value=\"293\" min=\"293\" max=\"293\"></temperature><feels_like value=\"292.13\" unit=\"kelvin\"></feels_like><pressure unit=\"hPa\" value=\"1017\"></pressure><humidity value=\"83\" unit=\"%\"></humidity><clouds value=\"overcast clouds\" all=\"99\" unit=\"%\"></clouds><visibility value=\"10000\"></visibility></time><time from=\"2020-12-09T09:00:00\" to=\"2020-12-09T12:00:00\"><symbol number=\"500\" name=\"light rain\" var=\"10n\"></symbol><precipitation probability=\"0.54\" unit=\"3h\" value=\"0.15\" type=\"rain\"></precipitation><windDirection deg=\"73\" code=\"ENE\" name=\"East-northeast\"></windDirection><windSpeed mps=\"4.36\" unit=\"m/s\" name=\"Gentle Breeze\"></windSpeed><temperature unit=\"kelvin\" value=\"293.23\" min=\"293.23\" max=\"293.23\"></temperature><feels_like value=\"292.83\" unit=\"kelvin\"></feels_like><pressure unit=\"hPa\" value=\"1018\"></pressure><humidity value=\"86\" unit=\"%\"></humidity><clouds value=\"overcast clouds\" all=\"91\" unit=\"%\"></clouds><visibility value=\"10000\"></visibility></time><time from=\"2020-12-09T12:00:00\" to=\"2020-12-09T15:00:00\"><symbol number=\"500\" name=\"light rain\" var=\"10n\"></symbol><precipitation probability=\"0.52\" unit=\"3h\" value=\"0.23\" type=\"rain\"></precipitation><windDirection deg=\"73\" code=\"ENE\" name=\"East-northeast\"></windDirection><windSpeed mps=\"4.35\" unit=\"m/s\" name=\"Gentle Breeze\"></windSpeed><temperature unit=\"kelvin\" value=\"293.48\" min=\"293.48\" max=\"293.48\"></temperature><feels_like value=\"293.35\" unit=\"kelvin\"></feels_like><pressure unit=\"hPa\" value=\"1018\"></pressure><humidity value=\"88\" unit=\"%\"></humidity><clouds value=\"overcast clouds\" all=\"99\" unit=\"%\"></clouds><visibility value=\"10000\"></visibility></time><time from=\"2020-12-09T15:00:00\" to=\"2020-12-09T18:00:00\"><symbol number=\"500\" name=\"light rain\" var=\"10n\"></symbol><precipitation probability=\"0.56\" unit=\"3h\" value=\"0.41\" type=\"rain\"></precipitation><windDirection deg=\"66\" code=\"ENE\" name=\"East-northeast\"></windDirection><windSpeed mps=\"3.35\" unit=\"m/s\" name=\"Light breeze\"></windSpeed><temperature unit=\"kelvin\" value=\"293.59\" min=\"293.59\" max=\"293.59\"></temperature><feels_like value=\"294.28\" unit=\"kelvin\"></feels_like><pressure unit=\"hPa\" value=\"1016\"></pressure><humidity value=\"89\" unit=\"%\"></humidity><clouds value=\"overcast clouds\" all=\"94\" unit=\"%\"></clouds><visibility value=\"10000\"></visibility></time><time from=\"2020-12-09T18:00:00\" to=\"2020-12-09T21:00:00\"><symbol number=\"500\" name=\"light rain\" var=\"10n\"></symbol><precipitation probability=\"0.75\" unit=\"3h\" value=\"1.04\" type=\"rain\"></precipitation><windDirection deg=\"47\" code=\"NE\" name=\"NorthEast\"></windDirection><windSpeed mps=\"3.34\" unit=\"m/s\" name=\"Light breeze\"></windSpeed><temperature unit=\"kelvin\" value=\"293.42\" min=\"293.42\" max=\"293.42\"></temperature><feels_like value=\"294.13\" unit=\"kelvin\"></feels_like><pressure unit=\"hPa\" value=\"1016\"></pressure><humidity value=\"90\" unit=\"%\"></humidity><clouds value=\"overcast clouds\" all=\"98\" unit=\"%\"></clouds><visibility value=\"5100\"></visibility></time><time from=\"2020-12-09T21:00:00\" to=\"2020-12-10T00:00:00\"><symbol number=\"500\" name=\"light rain\" var=\"10d\"></symbol><precipitation probability=\"0.76\" unit=\"3h\" value=\"0.87\" type=\"rain\"></precipitation><windDirection deg=\"45\" code=\"NE\" name=\"NorthEast\"></windDirection><windSpeed mps=\"3.55\" unit=\"m/s\" name=\"Gentle Breeze\"></windSpeed><temperature unit=\"kelvin\" value=\"293.57\" min=\"293.57\" max=\"293.57\"></temperature><feels_like value=\"294.11\" unit=\"kelvin\"></feels_like><pressure unit=\"hPa\" value=\"1018\"></pressure><humidity value=\"89\" unit=\"%\"></humidity><clouds value=\"overcast clouds\" all=\"99\" unit=\"%\"></clouds><visibility value=\"5243\"></visibility></time><time from=\"2020-12-10T00:00:00\" to=\"2020-12-10T03:00:00\"><symbol number=\"500\" name=\"light rain\" var=\"10d\"></symbol><precipitation probability=\"0.8\" unit=\"3h\" value=\"0.94\" type=\"rain\"></precipitation><windDirection deg=\"36\" code=\"NE\" name=\"NorthEast\"></windDirection><windSpeed mps=\"3.91\" unit=\"m/s\" name=\"Gentle Breeze\"></windSpeed><temperature unit=\"kelvin\" value=\"293.67\" min=\"293.67\" max=\"293.67\"></temperature><feels_like value=\"293.93\" unit=\"kelvin\"></feels_like><pressure unit=\"hPa\" value=\"1017\"></pressure><humidity value=\"88\" unit=\"%\"></humidity><clouds value=\"overcast clouds\" all=\"100\" unit=\"%\"></clouds><visibility value=\"6595\"></visibility></time><time from=\"2020-12-10T03:00:00\" to=\"2020-12-10T06:00:00\"><symbol number=\"500\" name=\"light rain\" var=\"10d\"></symbol><precipitation probability=\"0.8\" unit=\"3h\" value=\"1.41\" type=\"rain\"></precipitation><windDirection deg=\"32\" code=\"NNE\" name=\"North-northeast\"></windDirection><windSpeed mps=\"3.57\" unit=\"m/s\" name=\"Gentle Breeze\"></windSpeed><temperature unit=\"kelvin\" value=\"293.56\" min=\"293.56\" max=\"293.56\"></temperature><feels_like value=\"293.93\" unit=\"kelvin\"></feels_like><pressure unit=\"hPa\" value=\"1016\"></pressure><humidity value=\"87\" unit=\"%\"></humidity><clouds value=\"overcast clouds\" all=\"100\" unit=\"%\"></clouds><visibility value=\"10000\"></visibility></time><time from=\"2020-12-10T06:00:00\" to=\"2020-12-10T09:00:00\"><symbol number=\"500\" name=\"light rain\" var=\"10d\"></symbol><precipitation probability=\"0.67\" unit=\"3h\" value=\"1.46\" type=\"rain\"></precipitation><windDirection deg=\"51\" code=\"NE\" name=\"NorthEast\"></windDirection><windSpeed mps=\"3.72\" unit=\"m/s\" name=\"Gentle Breeze\"></windSpeed><temperature unit=\"kelvin\" value=\"293.18\" min=\"293.18\" max=\"293.18\"></temperature><feels_like value=\"293.28\" unit=\"kelvin\"></feels_like><pressure unit=\"hPa\" value=\"1016\"></pressure><humidity value=\"87\" unit=\"%\"></humidity><clouds value=\"overcast clouds\" all=\"100\" unit=\"%\"></clouds><visibility value=\"8380\"></visibility></time><time from=\"2020-12-10T09:00:00\" to=\"2020-12-10T12:00:00\"><symbol number=\"500\" name=\"light rain\" var=\"10n\"></symbol><precipitation probability=\"0.59\" unit=\"3h\" value=\"0.85\" type=\"rain\"></precipitation><windDirection deg=\"65\" code=\"ENE\" name=\"East-northeast\"></windDirection><windSpeed mps=\"4.54\" unit=\"m/s\" name=\"Gentle Breeze\"></windSpeed><temperature unit=\"kelvin\" value=\"292.95\" min=\"292.95\" max=\"292.95\"></temperature><feels_like value=\"292.31\" unit=\"kelvin\"></feels_like><pressure unit=\"hPa\" value=\"1018\"></pressure><humidity value=\"86\" unit=\"%\"></humidity><clouds value=\"overcast clouds\" all=\"100\" unit=\"%\"></clouds><visibility value=\"10000\"></visibility></time><time from=\"2020-12-10T12:00:00\" to=\"2020-12-10T15:00:00\"><symbol number=\"500\" name=\"light rain\" var=\"10n\"></symbol><precipitation probability=\"0.6\" unit=\"3h\" value=\"0.41\" type=\"rain\"></precipitation><windDirection deg=\"64\" code=\"ENE\" name=\"East-northeast\"></windDirection><windSpeed mps=\"4.45\" unit=\"m/s\" name=\"Gentle Breeze\"></windSpeed><temperature unit=\"kelvin\" value=\"292.9\" min=\"292.9\" max=\"292.9\"></temperature><feels_like value=\"292.38\" unit=\"kelvin\"></feels_like><pressure unit=\"hPa\" value=\"1018\"></pressure><humidity value=\"87\" unit=\"%\"></humidity><clouds value=\"overcast clouds\" all=\"100\" unit=\"%\"></clouds><visibility value=\"10000\"></visibility></time><time from=\"2020-12-10T15:00:00\" to=\"2020-12-10T18:00:00\"><symbol number=\"500\" name=\"light rain\" var=\"10n\"></symbol><precipitation probability=\"0.51\" unit=\"3h\" value=\"0.15\" type=\"rain\"></precipitation><windDirection deg=\"62\" code=\"ENE\" name=\"East-northeast\"></windDirection><windSpeed mps=\"4.04\" unit=\"m/s\" name=\"Gentle Breeze\"></windSpeed><temperature unit=\"kelvin\" value=\"292.8\" min=\"292.8\" max=\"292.8\"></temperature><feels_like value=\"292.45\" unit=\"kelvin\"></feels_like><pressure unit=\"hPa\" value=\"1017\"></pressure><humidity value=\"86\" unit=\"%\"></humidity><clouds value=\"overcast clouds\" all=\"98\" unit=\"%\"></clouds><visibility value=\"10000\"></visibility></time><time from=\"2020-12-10T18:00:00\" to=\"2020-12-10T21:00:00\"><symbol number=\"500\" name=\"light rain\" var=\"10n\"></symbol><precipitation probability=\"0.51\" unit=\"3h\" value=\"0.14\" type=\"rain\"></precipitation><windDirection deg=\"63\" code=\"ENE\" name=\"East-northeast\"></windDirection><windSpeed mps=\"4.3\" unit=\"m/s\" name=\"Gentle Breeze\"></windSpeed><temperature unit=\"kelvin\" value=\"292.55\" min=\"292.55\" max=\"292.55\"></temperature><feels_like value=\"291.92\" unit=\"kelvin\"></feels_like><pressure unit=\"hPa\" value=\"1016\"></pressure><humidity value=\"86\" unit=\"%\"></humidity><clouds value=\"overcast clouds\" all=\"99\" unit=\"%\"></clouds><visibility value=\"10000\"></visibility></time><time from=\"2020-12-10T21:00:00\" to=\"2020-12-11T00:00:00\"><symbol number=\"500\" name=\"light rain\" var=\"10d\"></symbol><precipitation probability=\"0.39\" unit=\"3h\" value=\"0.14\" type=\"rain\"></precipitation><windDirection deg=\"72\" code=\"ENE\" name=\"East-northeast\"></windDirection><windSpeed mps=\"4.19\" unit=\"m/s\" name=\"Gentle Breeze\"></windSpeed><temperature unit=\"kelvin\" value=\"292.82\" min=\"292.82\" max=\"292.82\"></temperature><feels_like value=\"292.37\" unit=\"kelvin\"></feels_like><pressure unit=\"hPa\" value=\"1017\"></pressure><humidity value=\"86\" unit=\"%\"></humidity><clouds value=\"overcast clouds\" all=\"100\" unit=\"%\"></clouds><visibility value=\"10000\"></visibility></time><time from=\"2020-12-11T00:00:00\" to=\"2020-12-11T03:00:00\"><symbol number=\"804\" name=\"overcast clouds\" var=\"04d\"></symbol><precipitation probability=\"0.26\"></precipitation><windDirection deg=\"82\" code=\"E\" name=\"East\"></windDirection><windSpeed mps=\"4.24\" unit=\"m/s\" name=\"Gentle Breeze\"></windSpeed><temperature unit=\"kelvin\" value=\"294.47\" min=\"294.47\" max=\"294.47\"></temperature><feels_like value=\"294.26\" unit=\"kelvin\"></feels_like><pressure unit=\"hPa\" value=\"1017\"></pressure><humidity value=\"81\" unit=\"%\"></humidity><clouds value=\"overcast clouds\" all=\"94\" unit=\"%\"></clouds><visibility value=\"10000\"></visibility></time><time from=\"2020-12-11T03:00:00\" to=\"2020-12-11T06:00:00\"><symbol number=\"803\" name=\"broken clouds\" var=\"04d\"></symbol><precipitation probability=\"0.18\"></precipitation><windDirection deg=\"75\" code=\"ENE\" name=\"East-northeast\"></windDirection><windSpeed mps=\"4.45\" unit=\"m/s\" name=\"Gentle Breeze\"></windSpeed><temperature unit=\"kelvin\" value=\"296.11\" min=\"296.11\" max=\"296.11\"></temperature><feels_like value=\"295.91\" unit=\"kelvin\"></feels_like><pressure unit=\"hPa\" value=\"1015\"></pressure><humidity value=\"75\" unit=\"%\"></humidity><clouds value=\"broken clouds\" all=\"78\" unit=\"%\"></clouds><visibility value=\"10000\"></visibility></time><time from=\"2020-12-11T06:00:00\" to=\"2020-12-11T09:00:00\"><symbol number=\"804\" name=\"overcast clouds\" var=\"04d\"></symbol><precipitation probability=\"0.23\"></precipitation><windDirection deg=\"64\" code=\"ENE\" name=\"East-northeast\"></windDirection><windSpeed mps=\"3.88\" unit=\"m/s\" name=\"Gentle Breeze\"></windSpeed><temperature unit=\"kelvin\" value=\"294.69\" min=\"294.69\" max=\"294.69\"></temperature><feels_like value=\"295\" unit=\"kelvin\"></feels_like><pressure unit=\"hPa\" value=\"1015\"></pressure><humidity value=\"83\" unit=\"%\"></humidity><clouds value=\"overcast clouds\" all=\"85\" unit=\"%\"></clouds><visibility value=\"10000\"></visibility></time><time from=\"2020-12-11T09:00:00\" to=\"2020-12-11T12:00:00\"><symbol number=\"500\" name=\"light rain\" var=\"10n\"></symbol><precipitation probability=\"0.35\" unit=\"3h\" value=\"0.22\" type=\"rain\"></precipitation><windDirection deg=\"58\" code=\"ENE\" name=\"East-northeast\"></windDirection><windSpeed mps=\"3.82\" unit=\"m/s\" name=\"Gentle Breeze\"></windSpeed><temperature unit=\"kelvin\" value=\"294.06\" min=\"294.06\" max=\"294.06\"></temperature><feels_like value=\"294.39\" unit=\"kelvin\"></feels_like><pressure unit=\"hPa\" value=\"1016\"></pressure><humidity value=\"86\" unit=\"%\"></humidity><clouds value=\"overcast clouds\" all=\"92\" unit=\"%\"></clouds><visibility value=\"10000\"></visibility></time><time from=\"2020-12-11T12:00:00\" to=\"2020-12-11T15:00:00\"><symbol number=\"500\" name=\"light rain\" var=\"10n\"></symbol><precipitation probability=\"0.32\" unit=\"3h\" value=\"0.35\" type=\"rain\"></precipitation><windDirection deg=\"51\" code=\"NE\" name=\"NorthEast\"></windDirection><windSpeed mps=\"3.98\" unit=\"m/s\" name=\"Gentle Breeze\"></windSpeed><temperature unit=\"kelvin\" value=\"293.57\" min=\"293.57\" max=\"293.57\"></temperature><feels_like value=\"293.5\" unit=\"kelvin\"></feels_like><pressure unit=\"hPa\" value=\"1017\"></pressure><humidity value=\"85\" unit=\"%\"></humidity><clouds value=\"overcast clouds\" all=\"95\" unit=\"%\"></clouds><visibility value=\"10000\"></visibility></time><time from=\"2020-12-11T15:00:00\" to=\"2020-12-11T18:00:00\"><symbol number=\"804\" name=\"overcast clouds\" var=\"04n\"></symbol><precipitation probability=\"0.28\"></precipitation><windDirection deg=\"46\" code=\"NE\" name=\"NorthEast\"></windDirection><windSpeed mps=\"3.34\" unit=\"m/s\" name=\"Light breeze\"></windSpeed><temperature unit=\"kelvin\" value=\"293.21\" min=\"293.21\" max=\"293.21\"></temperature><feels_like value=\"293.36\" unit=\"kelvin\"></feels_like><pressure unit=\"hPa\" value=\"1016\"></pressure><humidity value=\"84\" unit=\"%\"></humidity><clouds value=\"overcast clouds\" all=\"97\" unit=\"%\"></clouds><visibility value=\"10000\"></visibility></time><time from=\"2020-12-11T18:00:00\" to=\"2020-12-11T21:00:00\"><symbol number=\"500\" name=\"light rain\" var=\"10n\"></symbol><precipitation probability=\"0.24\" unit=\"3h\" value=\"0.1\" type=\"rain\"></precipitation><windDirection deg=\"36\" code=\"NE\" name=\"NorthEast\"></windDirection><windSpeed mps=\"3\" unit=\"m/s\" name=\"Light breeze\"></windSpeed><temperature unit=\"kelvin\" value=\"292.95\" min=\"292.95\" max=\"292.95\"></temperature><feels_like value=\"293.24\" unit=\"kelvin\"></feels_like><pressure unit=\"hPa\" value=\"1016\"></pressure><humidity value=\"84\" unit=\"%\"></humidity><clouds value=\"overcast clouds\" all=\"100\" unit=\"%\"></clouds><visibility value=\"10000\"></visibility></time><time from=\"2020-12-11T21:00:00\" to=\"2020-12-12T00:00:00\"><symbol number=\"500\" name=\"light rain\" var=\"10d\"></symbol><precipitation probability=\"0.2\" unit=\"3h\" value=\"0.15\" type=\"rain\"></precipitation><windDirection deg=\"53\" code=\"NE\" name=\"NorthEast\"></windDirection><windSpeed mps=\"3.68\" unit=\"m/s\" name=\"Gentle Breeze\"></windSpeed><temperature unit=\"kelvin\" value=\"292.85\" min=\"292.85\" max=\"292.85\"></temperature><feels_like value=\"292.47\" unit=\"kelvin\"></feels_like><pressure unit=\"hPa\" value=\"1018\"></pressure><humidity value=\"82\" unit=\"%\"></humidity><clouds value=\"overcast clouds\" all=\"100\" unit=\"%\"></clouds><visibility value=\"10000\"></visibility></time><time from=\"2020-12-12T00:00:00\" to=\"2020-12-12T03:00:00\"><symbol number=\"804\" name=\"overcast clouds\" var=\"04d\"></symbol><precipitation probability=\"0.3\"></precipitation><windDirection deg=\"55\" code=\"NE\" name=\"NorthEast\"></windDirection><windSpeed mps=\"4.84\" unit=\"m/s\" name=\"Gentle Breeze\"></windSpeed><temperature unit=\"kelvin\" value=\"294.05\" min=\"294.05\" max=\"294.05\"></temperature><feels_like value=\"292.76\" unit=\"kelvin\"></feels_like><pressure unit=\"hPa\" value=\"1017\"></pressure><humidity value=\"75\" unit=\"%\"></humidity><clouds value=\"overcast clouds\" all=\"86\" unit=\"%\"></clouds><visibility value=\"10000\"></visibility></time><time from=\"2020-12-12T03:00:00\" to=\"2020-12-12T06:00:00\"><symbol number=\"500\" name=\"light rain\" var=\"10d\"></symbol><precipitation probability=\"0.27\" unit=\"3h\" value=\"0.23\" type=\"rain\"></precipitation><windDirection deg=\"62\" code=\"ENE\" name=\"East-northeast\"></windDirection><windSpeed mps=\"5.3\" unit=\"m/s\" name=\"Gentle Breeze\"></windSpeed><temperature unit=\"kelvin\" value=\"293.15\" min=\"293.15\" max=\"293.15\"></temperature><feels_like value=\"291.37\" unit=\"kelvin\"></feels_like><pressure unit=\"hPa\" value=\"1015\"></pressure><humidity value=\"77\" unit=\"%\"></humidity><clouds value=\"overcast clouds\" all=\"88\" unit=\"%\"></clouds><visibility value=\"10000\"></visibility></time><time from=\"2020-12-12T06:00:00\" to=\"2020-12-12T09:00:00\"><symbol number=\"804\" name=\"overcast clouds\" var=\"04d\"></symbol><precipitation probability=\"0.22\"></precipitation><windDirection deg=\"66\" code=\"ENE\" name=\"East-northeast\"></windDirection><windSpeed mps=\"5.27\" unit=\"m/s\" name=\"Gentle Breeze\"></windSpeed><temperature unit=\"kelvin\" value=\"292.18\" min=\"292.18\" max=\"292.18\"></temperature><feels_like value=\"290.22\" unit=\"kelvin\"></feels_like><pressure unit=\"hPa\" value=\"1016\"></pressure><humidity value=\"79\" unit=\"%\"></humidity><clouds value=\"overcast clouds\" all=\"99\" unit=\"%\"></clouds><visibility value=\"10000\"></visibility></time><time from=\"2020-12-12T09:00:00\" to=\"2020-12-12T12:00:00\"><symbol number=\"500\" name=\"light rain\" var=\"10n\"></symbol><precipitation probability=\"0.27\" unit=\"3h\" value=\"0.22\" type=\"rain\"></precipitation><windDirection deg=\"64\" code=\"ENE\" name=\"East-northeast\"></windDirection><windSpeed mps=\"5.72\" unit=\"m/s\" name=\"Moderate breeze\"></windSpeed><temperature unit=\"kelvin\" value=\"291.7\" min=\"291.7\" max=\"291.7\"></temperature><feels_like value=\"289.32\" unit=\"kelvin\"></feels_like><pressure unit=\"hPa\" value=\"1018\"></pressure><humidity value=\"80\" unit=\"%\"></humidity><clouds value=\"overcast clouds\" all=\"92\" unit=\"%\"></clouds><visibility value=\"10000\"></visibility></time><time from=\"2020-12-12T12:00:00\" to=\"2020-12-12T15:00:00\"><symbol number=\"500\" name=\"light rain\" var=\"10n\"></symbol><precipitation probability=\"0.26\" unit=\"3h\" value=\"0.1\" type=\"rain\"></precipitation><windDirection deg=\"71\" code=\"ENE\" name=\"East-northeast\"></windDirection><windSpeed mps=\"5.62\" unit=\"m/s\" name=\"Moderate breeze\"></windSpeed><temperature unit=\"kelvin\" value=\"291.22\" min=\"291.22\" max=\"291.22\"></temperature><feels_like value=\"288.68\" unit=\"kelvin\"></feels_like><pressure unit=\"hPa\" value=\"1018\"></pressure><humidity value=\"79\" unit=\"%\"></humidity><clouds value=\"overcast clouds\" all=\"89\" unit=\"%\"></clouds><visibility value=\"10000\"></visibility></time><time from=\"2020-12-12T15:00:00\" to=\"2020-12-12T18:00:00\"><symbol number=\"804\" name=\"overcast clouds\" var=\"04n\"></symbol><precipitation probability=\"0.22\"></precipitation><windDirection deg=\"77\" code=\"ENE\" name=\"East-northeast\"></windDirection><windSpeed mps=\"4.72\" unit=\"m/s\" name=\"Gentle Breeze\"></windSpeed><temperature unit=\"kelvin\" value=\"291.16\" min=\"291.16\" max=\"291.16\"></temperature><feels_like value=\"289.16\" unit=\"kelvin\"></feels_like><pressure unit=\"hPa\" value=\"1017\"></pressure><humidity value=\"78\" unit=\"%\"></humidity><clouds value=\"overcast clouds\" all=\"86\" unit=\"%\"></clouds><visibility value=\"10000\"></visibility></time><time from=\"2020-12-12T18:00:00\" to=\"2020-12-12T21:00:00\"><symbol number=\"802\" name=\"scattered clouds\" var=\"03n\"></symbol><precipitation probability=\"0.1\"></precipitation><windDirection deg=\"71\" code=\"ENE\" name=\"East-northeast\"></windDirection><windSpeed mps=\"3.84\" unit=\"m/s\" name=\"Gentle Breeze\"></windSpeed><temperature unit=\"kelvin\" value=\"290.84\" min=\"290.84\" max=\"290.84\"></temperature><feels_like value=\"289.42\" unit=\"kelvin\"></feels_like><pressure unit=\"hPa\" value=\"1017\"></pressure><humidity value=\"79\" unit=\"%\"></humidity><clouds value=\"broken clouds\" all=\"50\" unit=\"%\"></clouds><visibility value=\"10000\"></visibility></time><time from=\"2020-12-12T21:00:00\" to=\"2020-12-13T00:00:00\"><symbol number=\"803\" name=\"broken clouds\" var=\"04d\"></symbol><precipitation probability=\"0.06\"></precipitation><windDirection deg=\"70\" code=\"ENE\" name=\"East-northeast\"></windDirection><windSpeed mps=\"4.37\" unit=\"m/s\" name=\"Gentle Breeze\"></windSpeed><temperature unit=\"kelvin\" value=\"291.73\" min=\"291.73\" max=\"291.73\"></temperature><feels_like value=\"289.89\" unit=\"kelvin\"></feels_like><pressure unit=\"hPa\" value=\"1019\"></pressure><humidity value=\"74\" unit=\"%\"></humidity><clouds value=\"broken clouds\" all=\"62\" unit=\"%\"></clouds><visibility value=\"10000\"></visibility></time><time from=\"2020-12-13T00:00:00\" to=\"2020-12-13T03:00:00\"><symbol number=\"803\" name=\"broken clouds\" var=\"04d\"></symbol><precipitation probability=\"0\"></precipitation><windDirection deg=\"63\" code=\"ENE\" name=\"East-northeast\"></windDirection><windSpeed mps=\"4.71\" unit=\"m/s\" name=\"Gentle Breeze\"></windSpeed><temperature unit=\"kelvin\" value=\"292.47\" min=\"292.47\" max=\"292.47\"></temperature><feels_like value=\"290.41\" unit=\"kelvin\"></feels_like><pressure unit=\"hPa\" value=\"1019\"></pressure><humidity value=\"71\" unit=\"%\"></humidity><clouds value=\"broken clouds\" all=\"84\" unit=\"%\"></clouds><visibility value=\"10000\"></visibility></time><time from=\"2020-12-13T03:00:00\" to=\"2020-12-13T06:00:00\"><symbol number=\"804\" name=\"overcast clouds\" var=\"04d\"></symbol><precipitation probability=\"0\"></precipitation><windDirection deg=\"60\" code=\"ENE\" name=\"East-northeast\"></windDirection><windSpeed mps=\"4.6\" unit=\"m/s\" name=\"Gentle Breeze\"></windSpeed><temperature unit=\"kelvin\" value=\"292.1\" min=\"292.1\" max=\"292.1\"></temperature><feels_like value=\"290.07\" unit=\"kelvin\"></feels_like><pressure unit=\"hPa\" value=\"1018\"></pressure><humidity value=\"72\" unit=\"%\"></humidity><clouds value=\"overcast clouds\" all=\"91\" unit=\"%\"></clouds><visibility value=\"10000\"></visibility></time></forecast></weatherdata>'"
      ]
     },
     "execution_count": 5,
     "metadata": {},
     "output_type": "execute_result"
    }
   ],
   "source": [
    "response = urllib.request.urlopen(api_url)\n",
    "xml_response = response.read()\n",
    "xml_response"
   ]
  },
  {
   "cell_type": "code",
   "execution_count": 6,
   "metadata": {},
   "outputs": [
    {
     "data": {
      "text/plain": [
       "bytes"
      ]
     },
     "execution_count": 6,
     "metadata": {},
     "output_type": "execute_result"
    }
   ],
   "source": [
    "type(xml_response)"
   ]
  },
  {
   "cell_type": "markdown",
   "metadata": {},
   "source": [
    "## https://codebeautify.org/xmlviewer"
   ]
  },
  {
   "cell_type": "markdown",
   "metadata": {},
   "source": [
    "## 現在來看內含台北天氣預報的 xml 格式的資料：\n",
    "\n",
    "http://api.openweathermap.org/data/2.5/forecast?q=Taipei,TW&mode=xml&appid=d1deefb25fb63cf70eea21a43dad94f7"
   ]
  },
  {
   "cell_type": "markdown",
   "metadata": {},
   "source": [
    "### 當作對照參考，以下是 json 格式\n",
    "http://api.openweathermap.org/data/2.5/forecast?q=Taipei,TW&mode=json&appid=d1deefb25fb63cf70eea21a43dad94f7"
   ]
  },
  {
   "cell_type": "code",
   "execution_count": 7,
   "metadata": {},
   "outputs": [
    {
     "data": {
      "text/plain": [
       "xml.dom.minidom.Document"
      ]
     },
     "execution_count": 7,
     "metadata": {},
     "output_type": "execute_result"
    }
   ],
   "source": [
    "# 將讀回來 bytes (string) 的資料先塞到一個 DOMTree 內\n",
    "DOMTree = xml.dom.minidom.parseString(xml_response)\n",
    "type(DOMTree)"
   ]
  },
  {
   "cell_type": "code",
   "execution_count": 8,
   "metadata": {},
   "outputs": [
    {
     "data": {
      "text/plain": [
       "<xml.dom.minidom.Document at 0x1e6b0b0a228>"
      ]
     },
     "execution_count": 8,
     "metadata": {},
     "output_type": "execute_result"
    }
   ],
   "source": [
    "DOMTree"
   ]
  },
  {
   "cell_type": "code",
   "execution_count": 9,
   "metadata": {
    "collapsed": true
   },
   "outputs": [
    {
     "name": "stdout",
     "output_type": "stream",
     "text": [
      "Help on Document in module xml.dom.minidom object:\n",
      "\n",
      "class Document(Node, xml.dom.xmlbuilder.DocumentLS)\n",
      " |  Class giving the NodeType constants.\n",
      " |  \n",
      " |  Method resolution order:\n",
      " |      Document\n",
      " |      Node\n",
      " |      xml.dom.Node\n",
      " |      xml.dom.xmlbuilder.DocumentLS\n",
      " |      builtins.object\n",
      " |  \n",
      " |  Methods defined here:\n",
      " |  \n",
      " |  __init__(self)\n",
      " |      Initialize self.  See help(type(self)) for accurate signature.\n",
      " |  \n",
      " |  appendChild(self, node)\n",
      " |  \n",
      " |  cloneNode(self, deep)\n",
      " |  \n",
      " |  createAttribute(self, qName)\n",
      " |  \n",
      " |  createAttributeNS(self, namespaceURI, qualifiedName)\n",
      " |  \n",
      " |  createCDATASection(self, data)\n",
      " |  \n",
      " |  createComment(self, data)\n",
      " |  \n",
      " |  createDocumentFragment(self)\n",
      " |  \n",
      " |  createElement(self, tagName)\n",
      " |  \n",
      " |  createElementNS(self, namespaceURI, qualifiedName)\n",
      " |  \n",
      " |  createProcessingInstruction(self, target, data)\n",
      " |  \n",
      " |  createTextNode(self, data)\n",
      " |  \n",
      " |  getElementById(self, id)\n",
      " |  \n",
      " |  getElementsByTagName(self, name)\n",
      " |  \n",
      " |  getElementsByTagNameNS(self, namespaceURI, localName)\n",
      " |  \n",
      " |  importNode(self, node, deep)\n",
      " |  \n",
      " |  isSupported(self, feature, version)\n",
      " |  \n",
      " |  removeChild(self, oldChild)\n",
      " |  \n",
      " |  renameNode(self, n, namespaceURI, name)\n",
      " |  \n",
      " |  unlink(self)\n",
      " |  \n",
      " |  writexml(self, writer, indent='', addindent='', newl='', encoding=None)\n",
      " |  \n",
      " |  ----------------------------------------------------------------------\n",
      " |  Data descriptors defined here:\n",
      " |  \n",
      " |  childNodes\n",
      " |  \n",
      " |  doctype\n",
      " |  \n",
      " |  documentElement\n",
      " |      Top-level element of this document.\n",
      " |  \n",
      " |  ----------------------------------------------------------------------\n",
      " |  Data and other attributes defined here:\n",
      " |  \n",
      " |  actualEncoding = None\n",
      " |  \n",
      " |  attributes = None\n",
      " |  \n",
      " |  documentURI = None\n",
      " |  \n",
      " |  encoding = None\n",
      " |  \n",
      " |  errorHandler = None\n",
      " |  \n",
      " |  implementation = <xml.dom.minidom.DOMImplementation object>\n",
      " |  \n",
      " |  nextSibling = None\n",
      " |  \n",
      " |  nodeName = '#document'\n",
      " |  \n",
      " |  nodeType = 9\n",
      " |  \n",
      " |  nodeValue = None\n",
      " |  \n",
      " |  parentNode = None\n",
      " |  \n",
      " |  previousSibling = None\n",
      " |  \n",
      " |  standalone = None\n",
      " |  \n",
      " |  strictErrorChecking = False\n",
      " |  \n",
      " |  version = None\n",
      " |  \n",
      " |  ----------------------------------------------------------------------\n",
      " |  Methods inherited from Node:\n",
      " |  \n",
      " |  __bool__(self)\n",
      " |  \n",
      " |  __enter__(self)\n",
      " |      # A Node is its own context manager, to ensure that an unlink() call occurs.\n",
      " |      # This is similar to how a file object works.\n",
      " |  \n",
      " |  __exit__(self, et, ev, tb)\n",
      " |  \n",
      " |  getInterface(self, feature)\n",
      " |  \n",
      " |  getUserData(self, key)\n",
      " |  \n",
      " |  hasChildNodes(self)\n",
      " |  \n",
      " |  insertBefore(self, newChild, refChild)\n",
      " |  \n",
      " |  isSameNode(self, other)\n",
      " |  \n",
      " |  normalize(self)\n",
      " |  \n",
      " |  replaceChild(self, newChild, oldChild)\n",
      " |  \n",
      " |  setUserData(self, key, data, handler)\n",
      " |  \n",
      " |  toprettyxml(self, indent='\\t', newl='\\n', encoding=None)\n",
      " |  \n",
      " |  toxml(self, encoding=None)\n",
      " |  \n",
      " |  ----------------------------------------------------------------------\n",
      " |  Data descriptors inherited from Node:\n",
      " |  \n",
      " |  __dict__\n",
      " |      dictionary for instance variables (if defined)\n",
      " |  \n",
      " |  __weakref__\n",
      " |      list of weak references to the object (if defined)\n",
      " |  \n",
      " |  firstChild\n",
      " |      First child node, or None.\n",
      " |  \n",
      " |  lastChild\n",
      " |      Last child node, or None.\n",
      " |  \n",
      " |  localName\n",
      " |      Namespace-local name of this node.\n",
      " |  \n",
      " |  ----------------------------------------------------------------------\n",
      " |  Data and other attributes inherited from Node:\n",
      " |  \n",
      " |  namespaceURI = None\n",
      " |  \n",
      " |  ownerDocument = None\n",
      " |  \n",
      " |  prefix = None\n",
      " |  \n",
      " |  ----------------------------------------------------------------------\n",
      " |  Data and other attributes inherited from xml.dom.Node:\n",
      " |  \n",
      " |  ATTRIBUTE_NODE = 2\n",
      " |  \n",
      " |  CDATA_SECTION_NODE = 4\n",
      " |  \n",
      " |  COMMENT_NODE = 8\n",
      " |  \n",
      " |  DOCUMENT_FRAGMENT_NODE = 11\n",
      " |  \n",
      " |  DOCUMENT_NODE = 9\n",
      " |  \n",
      " |  DOCUMENT_TYPE_NODE = 10\n",
      " |  \n",
      " |  ELEMENT_NODE = 1\n",
      " |  \n",
      " |  ENTITY_NODE = 6\n",
      " |  \n",
      " |  ENTITY_REFERENCE_NODE = 5\n",
      " |  \n",
      " |  NOTATION_NODE = 12\n",
      " |  \n",
      " |  PROCESSING_INSTRUCTION_NODE = 7\n",
      " |  \n",
      " |  TEXT_NODE = 3\n",
      " |  \n",
      " |  ----------------------------------------------------------------------\n",
      " |  Methods inherited from xml.dom.xmlbuilder.DocumentLS:\n",
      " |  \n",
      " |  abort(self)\n",
      " |  \n",
      " |  load(self, uri)\n",
      " |  \n",
      " |  loadXML(self, source)\n",
      " |  \n",
      " |  saveXML(self, snode)\n",
      " |  \n",
      " |  ----------------------------------------------------------------------\n",
      " |  Data and other attributes inherited from xml.dom.xmlbuilder.DocumentLS:\n",
      " |  \n",
      " |  async_ = False\n",
      "\n"
     ]
    }
   ],
   "source": [
    "help(DOMTree)"
   ]
  },
  {
   "cell_type": "code",
   "execution_count": 10,
   "metadata": {},
   "outputs": [
    {
     "data": {
      "text/plain": [
       "[<DOM Element: weatherdata at 0x1e6b0ab3178>]"
      ]
     },
     "execution_count": 10,
     "metadata": {},
     "output_type": "execute_result"
    }
   ],
   "source": [
    "# childNodes 將當下 DOM Element 裏的 nodes 給列在一個 list 裏\n",
    "DOMTree.childNodes"
   ]
  },
  {
   "cell_type": "code",
   "execution_count": 11,
   "metadata": {},
   "outputs": [
    {
     "data": {
      "text/plain": [
       "xml.dom.minidom.Element"
      ]
     },
     "execution_count": 11,
     "metadata": {},
     "output_type": "execute_result"
    }
   ],
   "source": [
    "'''\n",
    "Top-level element of this document.\n",
    "一般 xml 最上層就是一個 node\n",
    "'''\n",
    "weather_data = DOMTree.documentElement #這是根節點\n",
    "type(weather_data)"
   ]
  },
  {
   "cell_type": "code",
   "execution_count": 12,
   "metadata": {},
   "outputs": [
    {
     "data": {
      "text/plain": [
       "<DOM Element: weatherdata at 0x1e6b0ab3178>"
      ]
     },
     "execution_count": 12,
     "metadata": {},
     "output_type": "execute_result"
    }
   ],
   "source": [
    "weather_data"
   ]
  },
  {
   "cell_type": "code",
   "execution_count": 13,
   "metadata": {
    "scrolled": true
   },
   "outputs": [
    {
     "name": "stdout",
     "output_type": "stream",
     "text": [
      "Help on Element in module xml.dom.minidom object:\n",
      "\n",
      "class Element(Node)\n",
      " |  Element(tagName, namespaceURI=None, prefix=None, localName=None)\n",
      " |  \n",
      " |  Class giving the NodeType constants.\n",
      " |  \n",
      " |  Method resolution order:\n",
      " |      Element\n",
      " |      Node\n",
      " |      xml.dom.Node\n",
      " |      builtins.object\n",
      " |  \n",
      " |  Methods defined here:\n",
      " |  \n",
      " |  __init__(self, tagName, namespaceURI=None, prefix=None, localName=None)\n",
      " |      Initialize self.  See help(type(self)) for accurate signature.\n",
      " |  \n",
      " |  __repr__(self)\n",
      " |      Return repr(self).\n",
      " |  \n",
      " |  getAttribute(self, attname)\n",
      " |  \n",
      " |  getAttributeNS(self, namespaceURI, localName)\n",
      " |  \n",
      " |  getAttributeNode(self, attrname)\n",
      " |  \n",
      " |  getAttributeNodeNS(self, namespaceURI, localName)\n",
      " |  \n",
      " |  getElementsByTagName(self, name)\n",
      " |  \n",
      " |  getElementsByTagNameNS(self, namespaceURI, localName)\n",
      " |  \n",
      " |  hasAttribute(self, name)\n",
      " |  \n",
      " |  hasAttributeNS(self, namespaceURI, localName)\n",
      " |  \n",
      " |  hasAttributes(self)\n",
      " |  \n",
      " |  removeAttribute(self, name)\n",
      " |  \n",
      " |  removeAttributeNS(self, namespaceURI, localName)\n",
      " |  \n",
      " |  removeAttributeNode(self, node)\n",
      " |  \n",
      " |  removeAttributeNodeNS = removeAttributeNode(self, node)\n",
      " |  \n",
      " |  setAttribute(self, attname, value)\n",
      " |  \n",
      " |  setAttributeNS(self, namespaceURI, qualifiedName, value)\n",
      " |  \n",
      " |  setAttributeNode(self, attr)\n",
      " |  \n",
      " |  setAttributeNodeNS = setAttributeNode(self, attr)\n",
      " |  \n",
      " |  setIdAttribute(self, name)\n",
      " |  \n",
      " |  setIdAttributeNS(self, namespaceURI, localName)\n",
      " |  \n",
      " |  setIdAttributeNode(self, idAttr)\n",
      " |  \n",
      " |  unlink(self)\n",
      " |  \n",
      " |  writexml(self, writer, indent='', addindent='', newl='')\n",
      " |  \n",
      " |  ----------------------------------------------------------------------\n",
      " |  Data descriptors defined here:\n",
      " |  \n",
      " |  attributes\n",
      " |      NamedNodeMap of attributes on the element.\n",
      " |  \n",
      " |  childNodes\n",
      " |  \n",
      " |  localName\n",
      " |      Namespace-local name of this element.\n",
      " |  \n",
      " |  namespaceURI\n",
      " |  \n",
      " |  nextSibling\n",
      " |  \n",
      " |  nodeName\n",
      " |  \n",
      " |  ownerDocument\n",
      " |  \n",
      " |  parentNode\n",
      " |  \n",
      " |  prefix\n",
      " |  \n",
      " |  previousSibling\n",
      " |  \n",
      " |  tagName\n",
      " |  \n",
      " |  ----------------------------------------------------------------------\n",
      " |  Data and other attributes defined here:\n",
      " |  \n",
      " |  nodeType = 1\n",
      " |  \n",
      " |  nodeValue = None\n",
      " |  \n",
      " |  schemaType = <TypeInfo None>\n",
      " |  \n",
      " |  ----------------------------------------------------------------------\n",
      " |  Methods inherited from Node:\n",
      " |  \n",
      " |  __bool__(self)\n",
      " |  \n",
      " |  __enter__(self)\n",
      " |      # A Node is its own context manager, to ensure that an unlink() call occurs.\n",
      " |      # This is similar to how a file object works.\n",
      " |  \n",
      " |  __exit__(self, et, ev, tb)\n",
      " |  \n",
      " |  appendChild(self, node)\n",
      " |  \n",
      " |  cloneNode(self, deep)\n",
      " |  \n",
      " |  getInterface(self, feature)\n",
      " |  \n",
      " |  getUserData(self, key)\n",
      " |  \n",
      " |  hasChildNodes(self)\n",
      " |  \n",
      " |  insertBefore(self, newChild, refChild)\n",
      " |  \n",
      " |  isSameNode(self, other)\n",
      " |  \n",
      " |  isSupported(self, feature, version)\n",
      " |  \n",
      " |  normalize(self)\n",
      " |  \n",
      " |  removeChild(self, oldChild)\n",
      " |  \n",
      " |  replaceChild(self, newChild, oldChild)\n",
      " |  \n",
      " |  setUserData(self, key, data, handler)\n",
      " |  \n",
      " |  toprettyxml(self, indent='\\t', newl='\\n', encoding=None)\n",
      " |  \n",
      " |  toxml(self, encoding=None)\n",
      " |  \n",
      " |  ----------------------------------------------------------------------\n",
      " |  Data descriptors inherited from Node:\n",
      " |  \n",
      " |  __dict__\n",
      " |      dictionary for instance variables (if defined)\n",
      " |  \n",
      " |  __weakref__\n",
      " |      list of weak references to the object (if defined)\n",
      " |  \n",
      " |  firstChild\n",
      " |      First child node, or None.\n",
      " |  \n",
      " |  lastChild\n",
      " |      Last child node, or None.\n",
      " |  \n",
      " |  ----------------------------------------------------------------------\n",
      " |  Data and other attributes inherited from xml.dom.Node:\n",
      " |  \n",
      " |  ATTRIBUTE_NODE = 2\n",
      " |  \n",
      " |  CDATA_SECTION_NODE = 4\n",
      " |  \n",
      " |  COMMENT_NODE = 8\n",
      " |  \n",
      " |  DOCUMENT_FRAGMENT_NODE = 11\n",
      " |  \n",
      " |  DOCUMENT_NODE = 9\n",
      " |  \n",
      " |  DOCUMENT_TYPE_NODE = 10\n",
      " |  \n",
      " |  ELEMENT_NODE = 1\n",
      " |  \n",
      " |  ENTITY_NODE = 6\n",
      " |  \n",
      " |  ENTITY_REFERENCE_NODE = 5\n",
      " |  \n",
      " |  NOTATION_NODE = 12\n",
      " |  \n",
      " |  PROCESSING_INSTRUCTION_NODE = 7\n",
      " |  \n",
      " |  TEXT_NODE = 3\n",
      "\n"
     ]
    }
   ],
   "source": [
    "help(weather_data)"
   ]
  },
  {
   "cell_type": "code",
   "execution_count": 14,
   "metadata": {
    "scrolled": true
   },
   "outputs": [
    {
     "name": "stdout",
     "output_type": "stream",
     "text": [
      "<DOM Element: weatherdata at 0x1e6b0ab3178>\n"
     ]
    }
   ],
   "source": [
    "'''\n",
    "沒什麼美化的效果\n",
    "'''\n",
    "import pprint\n",
    "pprint.pprint(weather_data)"
   ]
  },
  {
   "cell_type": "code",
   "execution_count": 15,
   "metadata": {},
   "outputs": [
    {
     "data": {
      "text/plain": [
       "[<DOM Element: location at 0x1e6b0ab3210>,\n",
       " <DOM Element: credit at 0x1e6b0ab35a0>,\n",
       " <DOM Element: meta at 0x1e6b0ab3638>,\n",
       " <DOM Element: sun at 0x1e6b0ab3898>,\n",
       " <DOM Element: forecast at 0x1e6b0ab3930>]"
      ]
     },
     "execution_count": 15,
     "metadata": {},
     "output_type": "execute_result"
    }
   ],
   "source": [
    "weather_data.childNodes"
   ]
  },
  {
   "cell_type": "code",
   "execution_count": 16,
   "metadata": {},
   "outputs": [
    {
     "data": {
      "text/plain": [
       "[<DOM Element: location at 0x1e6b0ab3210>,\n",
       " <DOM Element: location at 0x1e6b0ab3508>]"
      ]
     },
     "execution_count": 16,
     "metadata": {},
     "output_type": "execute_result"
    }
   ],
   "source": [
    "'''\n",
    "getElementsByTagName() 將有此 tag 的內容全放在一個 list 裏\n",
    "每一筆都是 DOM Element\n",
    "'''\n",
    "weather_data.getElementsByTagName('location')"
   ]
  },
  {
   "cell_type": "code",
   "execution_count": 19,
   "metadata": {},
   "outputs": [
    {
     "name": "stdout",
     "output_type": "stream",
     "text": [
      "<DOM Element: location at 0x1e6b0ab3210>\n"
     ]
    }
   ],
   "source": [
    "import pprint\n",
    "pprint.pprint(weather_data.getElementsByTagName('location')[0])"
   ]
  },
  {
   "cell_type": "code",
   "execution_count": 20,
   "metadata": {},
   "outputs": [],
   "source": [
    "'''\n",
    "取出第一筆\n",
    "'''\n",
    "location = weather_data.getElementsByTagName('location')[0]"
   ]
  },
  {
   "cell_type": "code",
   "execution_count": 21,
   "metadata": {},
   "outputs": [
    {
     "data": {
      "text/plain": [
       "<DOM Element: location at 0x1e6b0ab3210>"
      ]
     },
     "execution_count": 21,
     "metadata": {},
     "output_type": "execute_result"
    }
   ],
   "source": [
    "location"
   ]
  },
  {
   "cell_type": "markdown",
   "metadata": {},
   "source": [
    "### 以下是 location 的整個 element：一共有 5 個 childNodes\n",
    "```XML\n",
    "<location>\n",
    "<name>Taipei</name>\n",
    "<type/>\n",
    "<country>TW</country>\n",
    "<timezone>28800</timezone>\n",
    "<location altitude=\"0\" latitude=\"25.0478\" longitude=\"121.5319\" geobase=\"geonames\" geobaseid=\"1668341\"/>\n",
    "</location>\n",
    "```"
   ]
  },
  {
   "cell_type": "code",
   "execution_count": 22,
   "metadata": {},
   "outputs": [
    {
     "data": {
      "text/plain": [
       "xml.dom.minidom.Element"
      ]
     },
     "execution_count": 22,
     "metadata": {},
     "output_type": "execute_result"
    }
   ],
   "source": [
    "type(location)"
   ]
  },
  {
   "cell_type": "code",
   "execution_count": 23,
   "metadata": {},
   "outputs": [
    {
     "data": {
      "text/plain": [
       "[<DOM Element: name at 0x1e6b0ab32a8>,\n",
       " <DOM Element: type at 0x1e6b0ab3340>,\n",
       " <DOM Element: country at 0x1e6b0ab33d8>,\n",
       " <DOM Element: timezone at 0x1e6b0ab3470>,\n",
       " <DOM Element: location at 0x1e6b0ab3508>]"
      ]
     },
     "execution_count": 23,
     "metadata": {},
     "output_type": "execute_result"
    }
   ],
   "source": [
    "'''\n",
    "每一個 DOM Element 底下的 sub-branch 可以用 childNodes 取出\n",
    "'''\n",
    "location.childNodes"
   ]
  },
  {
   "cell_type": "code",
   "execution_count": 24,
   "metadata": {},
   "outputs": [
    {
     "data": {
      "text/plain": [
       "[<DOM Element: name at 0x1e6b0ab32a8>]"
      ]
     },
     "execution_count": 24,
     "metadata": {},
     "output_type": "execute_result"
    }
   ],
   "source": [
    "'''\n",
    "回傳的結果還是存入 list 裏\n",
    "'''\n",
    "location.getElementsByTagName('name')"
   ]
  },
  {
   "cell_type": "code",
   "execution_count": 25,
   "metadata": {},
   "outputs": [
    {
     "data": {
      "text/plain": [
       "<DOM Element: name at 0x1e6b0ab32a8>"
      ]
     },
     "execution_count": 25,
     "metadata": {},
     "output_type": "execute_result"
    }
   ],
   "source": [
    "# 從 list 中取出第幾個來\n",
    "location.getElementsByTagName('name')[0]"
   ]
  },
  {
   "cell_type": "code",
   "execution_count": 26,
   "metadata": {},
   "outputs": [
    {
     "data": {
      "text/plain": [
       "[<DOM Text node \"'Taipei'\">]"
      ]
     },
     "execution_count": 26,
     "metadata": {},
     "output_type": "execute_result"
    }
   ],
   "source": [
    "'''\n",
    "在 DOM Element 底下的 choldNodes 是一個包含所有子樹枝的 list\n",
    "'''\n",
    "location.getElementsByTagName('name')[0].childNodes"
   ]
  },
  {
   "cell_type": "code",
   "execution_count": 27,
   "metadata": {},
   "outputs": [
    {
     "data": {
      "text/plain": [
       "<DOM Text node \"'Taipei'\">"
      ]
     },
     "execution_count": 27,
     "metadata": {},
     "output_type": "execute_result"
    }
   ],
   "source": [
    "'''\n",
    "撥掉 tag 之後的內容有可能馬上就是 data，但也有可能是下一層的 tag：一致使用 childNodes[] 取出來\n",
    "'''\n",
    "location.getElementsByTagName('name')[0].childNodes[0]"
   ]
  },
  {
   "cell_type": "code",
   "execution_count": 28,
   "metadata": {},
   "outputs": [
    {
     "data": {
      "text/plain": [
       "'Taipei'"
      ]
     },
     "execution_count": 28,
     "metadata": {},
     "output_type": "execute_result"
    }
   ],
   "source": [
    "'''\n",
    "<DOM Text node \"'Taipei'\"> 再用 .data 取出這個 Text 的內容\n",
    "'''\n",
    "location.getElementsByTagName('name')[0].childNodes[0].data"
   ]
  },
  {
   "cell_type": "code",
   "execution_count": 29,
   "metadata": {},
   "outputs": [
    {
     "data": {
      "text/plain": [
       "'Taipei'"
      ]
     },
     "execution_count": 29,
     "metadata": {},
     "output_type": "execute_result"
    }
   ],
   "source": [
    "# 上面三個指令一口氣作完\n",
    "location_name = location.getElementsByTagName('name')[0].childNodes[0].data\n",
    "location_name"
   ]
  },
  {
   "cell_type": "code",
   "execution_count": 30,
   "metadata": {},
   "outputs": [
    {
     "data": {
      "text/plain": [
       "'TW'"
      ]
     },
     "execution_count": 30,
     "metadata": {},
     "output_type": "execute_result"
    }
   ],
   "source": [
    "location_country = location.getElementsByTagName('country')[0].childNodes[0].data\n",
    "location_country"
   ]
  },
  {
   "cell_type": "code",
   "execution_count": 31,
   "metadata": {},
   "outputs": [
    {
     "data": {
      "text/plain": [
       "[<DOM Element: location at 0x1e6b0ab3210>,\n",
       " <DOM Element: location at 0x1e6b0ab3508>]"
      ]
     },
     "execution_count": 31,
     "metadata": {},
     "output_type": "execute_result"
    }
   ],
   "source": [
    "weather_data.getElementsByTagName('location')"
   ]
  },
  {
   "cell_type": "code",
   "execution_count": 32,
   "metadata": {},
   "outputs": [],
   "source": [
    "# ？那另外一個 location 在哪裏？\n",
    "location_1 = weather_data.getElementsByTagName('location')[1]"
   ]
  },
  {
   "cell_type": "code",
   "execution_count": 33,
   "metadata": {},
   "outputs": [
    {
     "data": {
      "text/plain": [
       "xml.dom.minidom.Element"
      ]
     },
     "execution_count": 33,
     "metadata": {},
     "output_type": "execute_result"
    }
   ],
   "source": [
    "type(location_1)"
   ]
  },
  {
   "cell_type": "code",
   "execution_count": 34,
   "metadata": {},
   "outputs": [
    {
     "name": "stdout",
     "output_type": "stream",
     "text": [
      "<DOM Element: location at 0x1e6b0ab3508>\n"
     ]
    }
   ],
   "source": [
    "print(location_1)"
   ]
  },
  {
   "cell_type": "markdown",
   "metadata": {},
   "source": [
    "### 以下是 location_1：是包含 5 個 attributes 的 tag\n",
    "```XML\n",
    "<location altitude=\"0\" latitude=\"25.0478\" longitude=\"121.5319\" geobase=\"geonames\" geobaseid=\"1668341\"/>\n",
    "```"
   ]
  },
  {
   "cell_type": "code",
   "execution_count": 37,
   "metadata": {},
   "outputs": [
    {
     "data": {
      "text/plain": [
       "[('altitude', '0'),\n",
       " ('latitude', '25.0478'),\n",
       " ('longitude', '121.5319'),\n",
       " ('geobase', 'geonames'),\n",
       " ('geobaseid', '1668341')]"
      ]
     },
     "execution_count": 37,
     "metadata": {},
     "output_type": "execute_result"
    }
   ],
   "source": [
    "# attributes.items()\n",
    "location_1.attributes.items()"
   ]
  },
  {
   "cell_type": "code",
   "execution_count": 35,
   "metadata": {},
   "outputs": [
    {
     "data": {
      "text/plain": [
       "'25.0478'"
      ]
     },
     "execution_count": 35,
     "metadata": {},
     "output_type": "execute_result"
    }
   ],
   "source": [
    "# getAttribute() 這是用來取得 attribute 的 value 的方法\n",
    "location_1.getAttribute(\"latitude\")"
   ]
  },
  {
   "cell_type": "code",
   "execution_count": 38,
   "metadata": {},
   "outputs": [
    {
     "data": {
      "text/plain": [
       "[<DOM Element: time at 0x1e6b0ab39c8>,\n",
       " <DOM Element: time at 0x1e6b0b370e0>,\n",
       " <DOM Element: time at 0x1e6b0b37768>,\n",
       " <DOM Element: time at 0x1e6b0b37df0>,\n",
       " <DOM Element: time at 0x1e6b0b41508>,\n",
       " <DOM Element: time at 0x1e6b0b41b90>,\n",
       " <DOM Element: time at 0x1e6b0b4b2a8>,\n",
       " <DOM Element: time at 0x1e6b0b4b930>,\n",
       " <DOM Element: time at 0x1e6b0b56048>,\n",
       " <DOM Element: time at 0x1e6b0b566d0>,\n",
       " <DOM Element: time at 0x1e6b0b56d58>,\n",
       " <DOM Element: time at 0x1e6b0b61470>,\n",
       " <DOM Element: time at 0x1e6b0b61af8>,\n",
       " <DOM Element: time at 0x1e6b0b6c210>,\n",
       " <DOM Element: time at 0x1e6b0b6c898>,\n",
       " <DOM Element: time at 0x1e6b0b6cf20>,\n",
       " <DOM Element: time at 0x1e6b0b77638>,\n",
       " <DOM Element: time at 0x1e6b0b77cc0>,\n",
       " <DOM Element: time at 0x1e6b0b833d8>,\n",
       " <DOM Element: time at 0x1e6b0b83a60>,\n",
       " <DOM Element: time at 0x1e6b0b8e178>,\n",
       " <DOM Element: time at 0x1e6b0b8e800>,\n",
       " <DOM Element: time at 0x1e6b0b8ee88>,\n",
       " <DOM Element: time at 0x1e6b0b995a0>,\n",
       " <DOM Element: time at 0x1e6b0b99c28>,\n",
       " <DOM Element: time at 0x1e6b0ba5340>,\n",
       " <DOM Element: time at 0x1e6b0ba59c8>,\n",
       " <DOM Element: time at 0x1e6b0bb00e0>,\n",
       " <DOM Element: time at 0x1e6b0bb0768>,\n",
       " <DOM Element: time at 0x1e6b0bb0df0>,\n",
       " <DOM Element: time at 0x1e6b0bbd508>,\n",
       " <DOM Element: time at 0x1e6b0bbdb90>,\n",
       " <DOM Element: time at 0x1e6b0bc82a8>,\n",
       " <DOM Element: time at 0x1e6b0bc8930>,\n",
       " <DOM Element: time at 0x1e6b0bd4048>,\n",
       " <DOM Element: time at 0x1e6b0bd46d0>,\n",
       " <DOM Element: time at 0x1e6b0bd4d58>,\n",
       " <DOM Element: time at 0x1e6b0be0470>,\n",
       " <DOM Element: time at 0x1e6b0be0af8>,\n",
       " <DOM Element: time at 0x1e6b0bea210>]"
      ]
     },
     "execution_count": 38,
     "metadata": {},
     "output_type": "execute_result"
    }
   ],
   "source": [
    "# 首先，我要對 xml 檔案中藏了什麼資料，藏在哪裏有概念\n",
    "# getElementsByTagName() 好處是不用管它藏在第幾層，總是會找得到它\n",
    "weather_data.getElementsByTagName('time') "
   ]
  },
  {
   "cell_type": "code",
   "execution_count": 39,
   "metadata": {},
   "outputs": [
    {
     "data": {
      "text/plain": [
       "40"
      ]
     },
     "execution_count": 39,
     "metadata": {},
     "output_type": "execute_result"
    }
   ],
   "source": [
    "'''\n",
    "要知道它的個數\n",
    "'''\n",
    "len(weather_data.getElementsByTagName('time')) "
   ]
  },
  {
   "cell_type": "code",
   "execution_count": 40,
   "metadata": {},
   "outputs": [
    {
     "data": {
      "text/plain": [
       "<DOM Element: time at 0x1e6b0ab39c8>"
      ]
     },
     "execution_count": 40,
     "metadata": {},
     "output_type": "execute_result"
    }
   ],
   "source": [
    "weather_data.getElementsByTagName('time')[0]"
   ]
  },
  {
   "cell_type": "markdown",
   "metadata": {},
   "source": [
    "## 以下是其內容：\n",
    "```XML\n",
    "<time from=\"2020-12-08T06:00:00\" to=\"2020-12-08T09:00:00\">\n",
    "<symbol number=\"500\" name=\"light rain\" var=\"10d\"/>\n",
    "<precipitation probability=\"0.79\" unit=\"3h\" value=\"0.95\" type=\"rain\"/>\n",
    "<windDirection deg=\"59\" code=\"ENE\" name=\"East-northeast\"/>\n",
    "<windSpeed mps=\"5.7\" unit=\"m/s\" name=\"Moderate breeze\"/>\n",
    "<temperature unit=\"kelvin\" value=\"291.62\" min=\"291.2\" max=\"291.62\"/>\n",
    "<feels_like value=\"290.07\" unit=\"kelvin\"/>\n",
    "<pressure unit=\"hPa\" value=\"1020\"/>\n",
    "<humidity value=\"92\" unit=\"%\"/>\n",
    "<clouds value=\"overcast clouds\" all=\"87\" unit=\"%\"/>\n",
    "<visibility value=\"10000\"/>\n",
    "</time>\n",
    "```"
   ]
  },
  {
   "cell_type": "code",
   "execution_count": 41,
   "metadata": {},
   "outputs": [
    {
     "data": {
      "text/plain": [
       "[<DOM Element: symbol at 0x1e6b0ab3a60>,\n",
       " <DOM Element: precipitation at 0x1e6b0ab3af8>,\n",
       " <DOM Element: windDirection at 0x1e6b0ab3b90>,\n",
       " <DOM Element: windSpeed at 0x1e6b0ab3c28>,\n",
       " <DOM Element: temperature at 0x1e6b0ab3cc0>,\n",
       " <DOM Element: feels_like at 0x1e6b0ab3d58>,\n",
       " <DOM Element: pressure at 0x1e6b0ab3df0>,\n",
       " <DOM Element: humidity at 0x1e6b0ab3e88>,\n",
       " <DOM Element: clouds at 0x1e6b0ab3f20>,\n",
       " <DOM Element: visibility at 0x1e6b0b37048>]"
      ]
     },
     "execution_count": 41,
     "metadata": {},
     "output_type": "execute_result"
    }
   ],
   "source": [
    "'''\n",
    "對於 DOM Element 使用 childNodes 即可得到以下的 sub-branch\n",
    "'''\n",
    "weather_data.getElementsByTagName('time')[0].childNodes"
   ]
  },
  {
   "cell_type": "code",
   "execution_count": 42,
   "metadata": {},
   "outputs": [
    {
     "data": {
      "text/plain": [
       "<DOM Element: symbol at 0x1e6b0ab3a60>"
      ]
     },
     "execution_count": 42,
     "metadata": {},
     "output_type": "execute_result"
    }
   ],
   "source": [
    "'''\n",
    "選出其中的第幾個 DOM，使用 childNodes[0]\n",
    "'''\n",
    "weather_data.getElementsByTagName('time')[0].childNodes[0]"
   ]
  },
  {
   "cell_type": "code",
   "execution_count": 43,
   "metadata": {},
   "outputs": [
    {
     "data": {
      "text/plain": [
       "[<DOM Element: temperature at 0x1e6b0ab3cc0>,\n",
       " <DOM Element: temperature at 0x1e6b0b373d8>,\n",
       " <DOM Element: temperature at 0x1e6b0b37a60>,\n",
       " <DOM Element: temperature at 0x1e6b0b41178>,\n",
       " <DOM Element: temperature at 0x1e6b0b41800>,\n",
       " <DOM Element: temperature at 0x1e6b0b41e88>,\n",
       " <DOM Element: temperature at 0x1e6b0b4b5a0>,\n",
       " <DOM Element: temperature at 0x1e6b0b4bc28>,\n",
       " <DOM Element: temperature at 0x1e6b0b56340>,\n",
       " <DOM Element: temperature at 0x1e6b0b569c8>,\n",
       " <DOM Element: temperature at 0x1e6b0b610e0>,\n",
       " <DOM Element: temperature at 0x1e6b0b61768>,\n",
       " <DOM Element: temperature at 0x1e6b0b61df0>,\n",
       " <DOM Element: temperature at 0x1e6b0b6c508>,\n",
       " <DOM Element: temperature at 0x1e6b0b6cb90>,\n",
       " <DOM Element: temperature at 0x1e6b0b772a8>,\n",
       " <DOM Element: temperature at 0x1e6b0b77930>,\n",
       " <DOM Element: temperature at 0x1e6b0b83048>,\n",
       " <DOM Element: temperature at 0x1e6b0b836d0>,\n",
       " <DOM Element: temperature at 0x1e6b0b83d58>,\n",
       " <DOM Element: temperature at 0x1e6b0b8e470>,\n",
       " <DOM Element: temperature at 0x1e6b0b8eaf8>,\n",
       " <DOM Element: temperature at 0x1e6b0b99210>,\n",
       " <DOM Element: temperature at 0x1e6b0b99898>,\n",
       " <DOM Element: temperature at 0x1e6b0b99f20>,\n",
       " <DOM Element: temperature at 0x1e6b0ba5638>,\n",
       " <DOM Element: temperature at 0x1e6b0ba5cc0>,\n",
       " <DOM Element: temperature at 0x1e6b0bb03d8>,\n",
       " <DOM Element: temperature at 0x1e6b0bb0a60>,\n",
       " <DOM Element: temperature at 0x1e6b0bbd178>,\n",
       " <DOM Element: temperature at 0x1e6b0bbd800>,\n",
       " <DOM Element: temperature at 0x1e6b0bbde88>,\n",
       " <DOM Element: temperature at 0x1e6b0bc85a0>,\n",
       " <DOM Element: temperature at 0x1e6b0bc8c28>,\n",
       " <DOM Element: temperature at 0x1e6b0bd4340>,\n",
       " <DOM Element: temperature at 0x1e6b0bd49c8>,\n",
       " <DOM Element: temperature at 0x1e6b0be00e0>,\n",
       " <DOM Element: temperature at 0x1e6b0be0768>,\n",
       " <DOM Element: temperature at 0x1e6b0be0df0>,\n",
       " <DOM Element: temperature at 0x1e6b0bea508>]"
      ]
     },
     "execution_count": 43,
     "metadata": {},
     "output_type": "execute_result"
    }
   ],
   "source": [
    "'''\n",
    "要提取出 DOM Element 的 tag 中 attributes 內容用：attributes.items()\n",
    "'''\n",
    "weather_data.getElementsByTagName('temperature')"
   ]
  },
  {
   "cell_type": "markdown",
   "metadata": {},
   "source": [
    "## 這是 temperature 的內容：\n",
    "```XML\n",
    "<temperature unit=\"kelvin\" value=\"291.88\" min=\"291.54\" max=\"291.88\"/>\n",
    "```"
   ]
  },
  {
   "cell_type": "code",
   "execution_count": 44,
   "metadata": {},
   "outputs": [
    {
     "data": {
      "text/plain": [
       "[('unit', 'kelvin'), ('value', '291.23'), ('min', '291.2'), ('max', '291.23')]"
      ]
     },
     "execution_count": 44,
     "metadata": {},
     "output_type": "execute_result"
    }
   ],
   "source": [
    "'''\n",
    "要提取出 DOM Element 的 tag 中 attributes 包括 (key, value) 的內容用：attributes.items()\n",
    "'''\n",
    "weather_data.getElementsByTagName('temperature')[0].attributes.items()"
   ]
  },
  {
   "cell_type": "code",
   "execution_count": 45,
   "metadata": {},
   "outputs": [
    {
     "data": {
      "text/plain": [
       "'291.23'"
      ]
     },
     "execution_count": 45,
     "metadata": {},
     "output_type": "execute_result"
    }
   ],
   "source": [
    "# 但要特別取出某個 attribute 中符合某 key 的 value 時：\n",
    "weather_data.getElementsByTagName('temperature')[0].getAttribute(\"value\")"
   ]
  },
  {
   "cell_type": "code",
   "execution_count": 46,
   "metadata": {},
   "outputs": [
    {
     "data": {
      "text/plain": [
       "<xml.dom.minidom.NamedNodeMap at 0x1e6b0c94c08>"
      ]
     },
     "execution_count": 46,
     "metadata": {},
     "output_type": "execute_result"
    }
   ],
   "source": [
    "'''\n",
    "要找到 tag 內的 attributes\n",
    "'''\n",
    "weather_data.getElementsByTagName('time')[0].childNodes[0].attributes"
   ]
  },
  {
   "cell_type": "code",
   "execution_count": 47,
   "metadata": {},
   "outputs": [
    {
     "data": {
      "text/plain": [
       "[('number', '500'), ('name', 'light rain'), ('var', '10d')]"
      ]
     },
     "execution_count": 47,
     "metadata": {},
     "output_type": "execute_result"
    }
   ],
   "source": [
    "'''\n",
    "要找到 tag 內的 attributes, 並看到內容\n",
    "'''\n",
    "weather_data.getElementsByTagName('time')[0].childNodes[0].attributes.items()"
   ]
  },
  {
   "cell_type": "markdown",
   "metadata": {},
   "source": [
    "```XML\n",
    "<symbol number=\"500\" name=\"light rain\" var=\"10d\"/>\n",
    "```"
   ]
  },
  {
   "cell_type": "code",
   "execution_count": 48,
   "metadata": {},
   "outputs": [
    {
     "data": {
      "text/plain": [
       "list"
      ]
     },
     "execution_count": 48,
     "metadata": {},
     "output_type": "execute_result"
    }
   ],
   "source": [
    "type(weather_data.getElementsByTagName('time')[0].childNodes[0].attributes.items())"
   ]
  },
  {
   "cell_type": "code",
   "execution_count": 49,
   "metadata": {},
   "outputs": [],
   "source": [
    "'''\n",
    "以下是將 tag 內的 attributes 存成 Python dictionary \n",
    "'''\n",
    "attributes = dict(weather_data.getElementsByTagName('time')[0].childNodes[0].attributes.items())"
   ]
  },
  {
   "cell_type": "code",
   "execution_count": 50,
   "metadata": {},
   "outputs": [
    {
     "data": {
      "text/plain": [
       "{'number': '500', 'name': 'light rain', 'var': '10d'}"
      ]
     },
     "execution_count": 50,
     "metadata": {},
     "output_type": "execute_result"
    }
   ],
   "source": [
    "attributes"
   ]
  },
  {
   "cell_type": "code",
   "execution_count": 51,
   "metadata": {},
   "outputs": [
    {
     "data": {
      "text/plain": [
       "'light rain'"
      ]
     },
     "execution_count": 51,
     "metadata": {},
     "output_type": "execute_result"
    }
   ],
   "source": [
    "'''\n",
    "使用 \"name\" 當 key 找出相對應的值\n",
    "'''\n",
    "attributes[\"name\"]"
   ]
  },
  {
   "cell_type": "code",
   "execution_count": 52,
   "metadata": {},
   "outputs": [
    {
     "data": {
      "text/plain": [
       "'light rain'"
      ]
     },
     "execution_count": 52,
     "metadata": {},
     "output_type": "execute_result"
    }
   ],
   "source": [
    "'''\n",
    "第一個 time 的 tag: weather_data.getElementsByTagName('time')[0].\n",
    "底下有好幾根下一層的樹枝\n",
    "如果取第一枝樹枝是 symbol: weather_data.getElementsByTagName('time')[0].childNodes[0]\n",
    "然後再這 symbol 裏找 name 屬性的值: .getAttribute('name')\n",
    "'''\n",
    "weather_data.getElementsByTagName('time')[0].childNodes[0].getAttribute('name')"
   ]
  },
  {
   "cell_type": "code",
   "execution_count": 53,
   "metadata": {},
   "outputs": [
    {
     "data": {
      "text/plain": [
       "40"
      ]
     },
     "execution_count": 53,
     "metadata": {},
     "output_type": "execute_result"
    }
   ],
   "source": [
    "'''\n",
    "把所有以 time 為 tag 的資料拿下來\n",
    "'''\n",
    "forecasts = weather_data.getElementsByTagName('time')\n",
    "len(forecasts)"
   ]
  },
  {
   "cell_type": "code",
   "execution_count": 54,
   "metadata": {},
   "outputs": [
    {
     "data": {
      "text/plain": [
       "xml.dom.minicompat.NodeList"
      ]
     },
     "execution_count": 54,
     "metadata": {},
     "output_type": "execute_result"
    }
   ],
   "source": [
    "type(forecasts)"
   ]
  },
  {
   "cell_type": "code",
   "execution_count": 55,
   "metadata": {},
   "outputs": [
    {
     "data": {
      "text/plain": [
       "<DOM Element: time at 0x1e6b0ab39c8>"
      ]
     },
     "execution_count": 55,
     "metadata": {},
     "output_type": "execute_result"
    }
   ],
   "source": [
    "forecast = forecasts[0]\n",
    "forecast"
   ]
  },
  {
   "cell_type": "markdown",
   "metadata": {},
   "source": [
    "## weather_data.getElementsByTagName('time')[0] 的內容：\n",
    "```XML\n",
    "<time from=\"2020-12-06T06:00:00\" to=\"2020-12-06T09:00:00\">\n",
    "<symbol number=\"500\" name=\"light rain\" var=\"10d\"/>\n",
    "<precipitation probability=\"0.36\" unit=\"3h\" value=\"0.11\" type=\"rain\"/>\n",
    "<windDirection deg=\"68\" code=\"ENE\" name=\"East-northeast\"/>\n",
    "<windSpeed mps=\"5.62\" unit=\"m/s\" name=\"Moderate breeze\"/>\n",
    "<temperature unit=\"kelvin\" value=\"292.54\" min=\"292.25\" max=\"292.54\"/>\n",
    "<feels_like value=\"291.13\" unit=\"kelvin\"/>\n",
    "<pressure unit=\"hPa\" value=\"1019\"/>\n",
    "<humidity value=\"88\" unit=\"%\"/>\n",
    "<clouds value=\"broken clouds\" all=\"75\" unit=\"%\"/>\n",
    "<visibility value=\"10000\"/>\n",
    "</time>\n",
    "```"
   ]
  },
  {
   "cell_type": "code",
   "execution_count": 56,
   "metadata": {},
   "outputs": [
    {
     "data": {
      "text/plain": [
       "'2020-12-08T06:00:00'"
      ]
     },
     "execution_count": 56,
     "metadata": {},
     "output_type": "execute_result"
    }
   ],
   "source": [
    "'''\n",
    "注意看是拿下以 time 為 tag 的第一根小樹枝，\n",
    "然後取其屬性 from 的值\n",
    "'''\n",
    "forecast = forecasts[0]\n",
    "api_time_string = forecast.getAttribute('from')\n",
    "api_time_string"
   ]
  },
  {
   "cell_type": "code",
   "execution_count": 57,
   "metadata": {},
   "outputs": [
    {
     "data": {
      "text/plain": [
       "'06:00 08 December'"
      ]
     },
     "execution_count": 57,
     "metadata": {},
     "output_type": "execute_result"
    }
   ],
   "source": [
    "'''\n",
    "以下主要是要作時間格式的轉換\n",
    "'''\n",
    "time = datetime.strptime(api_time_string, '%Y-%m-%dT%H:%M:%S')\n",
    "time_string = datetime.strftime(time, '%H:%M %d %B')\n",
    "time_string"
   ]
  },
  {
   "cell_type": "code",
   "execution_count": 58,
   "metadata": {},
   "outputs": [
    {
     "data": {
      "text/plain": [
       "<DOM Element: symbol at 0x1e6b0ab3a60>"
      ]
     },
     "execution_count": 58,
     "metadata": {},
     "output_type": "execute_result"
    }
   ],
   "source": [
    "'''\n",
    "即使只有一個 symbol，也要用 getElementByTagName，然後再 [0] 取出\n",
    "'''\n",
    "forecast.getElementsByTagName('symbol')[0]"
   ]
  },
  {
   "cell_type": "code",
   "execution_count": 59,
   "metadata": {},
   "outputs": [
    {
     "data": {
      "text/plain": [
       "[<DOM Element: symbol at 0x1e6b0ab3a60>]"
      ]
     },
     "execution_count": 59,
     "metadata": {},
     "output_type": "execute_result"
    }
   ],
   "source": [
    "forecast.getElementsByTagName('symbol')"
   ]
  },
  {
   "cell_type": "code",
   "execution_count": 60,
   "metadata": {},
   "outputs": [
    {
     "data": {
      "text/plain": [
       "[('number', '500'), ('name', 'light rain'), ('var', '10d')]"
      ]
     },
     "execution_count": 60,
     "metadata": {},
     "output_type": "execute_result"
    }
   ],
   "source": [
    "forecast.getElementsByTagName('symbol')[0].attributes.items()"
   ]
  },
  {
   "cell_type": "code",
   "execution_count": 61,
   "metadata": {},
   "outputs": [
    {
     "data": {
      "text/plain": [
       "'light rain'"
      ]
     },
     "execution_count": 61,
     "metadata": {},
     "output_type": "execute_result"
    }
   ],
   "source": [
    "'''\n",
    "取出 tag 內屬性 name 的值\n",
    "'''\n",
    "overview = forecast.getElementsByTagName('symbol')[0]\n",
    "overview_string = overview.getAttribute('name')\n",
    "overview_string"
   ]
  },
  {
   "cell_type": "code",
   "execution_count": 63,
   "metadata": {},
   "outputs": [
    {
     "data": {
      "text/plain": [
       "'18.1'"
      ]
     },
     "execution_count": 63,
     "metadata": {},
     "output_type": "execute_result"
    }
   ],
   "source": [
    "# 因為溫度給的是 K氏溫度，我們得先減掉 273.15 台會變攝氏溫度\n",
    "temperature = forecast.getElementsByTagName('temperature')[0]\n",
    "temperature_string = '?'\n",
    "if temperature.hasAttribute('value'):\n",
    "    temperature_string = '%.1f' % (float(temperature.getAttribute('value')) - 273.15)  # 華氏轉攝氏\n",
    "temperature_string"
   ]
  },
  {
   "cell_type": "code",
   "execution_count": 64,
   "metadata": {},
   "outputs": [
    {
     "name": "stdout",
     "output_type": "stream",
     "text": [
      "5 day forecast for Taipei, TW.\n",
      "\n",
      "06:00 08 December: light rain, 18.1°C\n",
      "09:00 08 December: light rain, 18.3°C\n",
      "12:00 08 December: light rain, 18.7°C\n",
      "15:00 08 December: light rain, 18.7°C\n",
      "18:00 08 December: moderate rain, 18.7°C\n",
      "21:00 08 December: light rain, 19.1°C\n",
      "00:00 09 December: light rain, 19.2°C\n",
      "03:00 09 December: light rain, 20.2°C\n",
      "06:00 09 December: light rain, 19.9°C\n",
      "09:00 09 December: light rain, 20.1°C\n",
      "12:00 09 December: light rain, 20.3°C\n",
      "15:00 09 December: light rain, 20.4°C\n",
      "18:00 09 December: light rain, 20.3°C\n",
      "21:00 09 December: light rain, 20.4°C\n",
      "00:00 10 December: light rain, 20.5°C\n",
      "03:00 10 December: light rain, 20.4°C\n",
      "06:00 10 December: light rain, 20.0°C\n",
      "09:00 10 December: light rain, 19.8°C\n",
      "12:00 10 December: light rain, 19.8°C\n",
      "15:00 10 December: light rain, 19.7°C\n",
      "18:00 10 December: light rain, 19.4°C\n",
      "21:00 10 December: light rain, 19.7°C\n",
      "00:00 11 December: overcast clouds, 21.3°C\n",
      "03:00 11 December: broken clouds, 23.0°C\n",
      "06:00 11 December: overcast clouds, 21.5°C\n",
      "09:00 11 December: light rain, 20.9°C\n",
      "12:00 11 December: light rain, 20.4°C\n",
      "15:00 11 December: overcast clouds, 20.1°C\n",
      "18:00 11 December: light rain, 19.8°C\n",
      "21:00 11 December: light rain, 19.7°C\n",
      "00:00 12 December: overcast clouds, 20.9°C\n",
      "03:00 12 December: light rain, 20.0°C\n",
      "06:00 12 December: overcast clouds, 19.0°C\n",
      "09:00 12 December: light rain, 18.6°C\n",
      "12:00 12 December: light rain, 18.1°C\n",
      "15:00 12 December: overcast clouds, 18.0°C\n",
      "18:00 12 December: scattered clouds, 17.7°C\n",
      "21:00 12 December: broken clouds, 18.6°C\n",
      "00:00 13 December: broken clouds, 19.3°C\n",
      "03:00 13 December: overcast clouds, 19.0°C\n"
     ]
    }
   ],
   "source": [
    "print('5 day forecast for %s, %s.\\n' % (location_name, location_country))\n",
    "\n",
    "forecasts = weather_data.getElementsByTagName('time')\n",
    "for forecast in forecasts:\n",
    "    api_time_string = forecast.getAttribute('from')\n",
    "    time = datetime.strptime(api_time_string, '%Y-%m-%dT%H:%M:%S')\n",
    "    time_string = datetime.strftime(time, '%H:%M %d %B')\n",
    "\n",
    "    overview = forecast.getElementsByTagName('symbol')[0]\n",
    "    overview_string = overview.getAttribute('name')\n",
    "\n",
    "    temperature = forecast.getElementsByTagName('temperature')[0]\n",
    "    temperature_string = '?'\n",
    "    if temperature.hasAttribute('value'):\n",
    "        # Convert from Kelvin to Celsius\n",
    "        # (I'm sure the API is wrong when it claims the unit is already Celsius)\n",
    "        # <temperature unit=\"kelvin\" value=\"299.38\" min=\"297.327\" max=\"299.38\"/>\n",
    "\n",
    "        temperature_string = '%.1f' % (float(temperature.getAttribute('value')) - 273.15)\n",
    "\n",
    "    print(u'%s: %s, %s°C' % (\n",
    "            time_string,\n",
    "            overview_string,\n",
    "            temperature_string))"
   ]
  },
  {
   "cell_type": "code",
   "execution_count": null,
   "metadata": {},
   "outputs": [],
   "source": []
  }
 ],
 "metadata": {
  "kernelspec": {
   "display_name": "Python 3",
   "language": "python",
   "name": "python3"
  },
  "language_info": {
   "codemirror_mode": {
    "name": "ipython",
    "version": 3
   },
   "file_extension": ".py",
   "mimetype": "text/x-python",
   "name": "python",
   "nbconvert_exporter": "python",
   "pygments_lexer": "ipython3",
   "version": "3.7.1"
  }
 },
 "nbformat": 4,
 "nbformat_minor": 2
}
