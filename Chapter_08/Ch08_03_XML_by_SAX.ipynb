{
 "cells": [
  {
   "cell_type": "markdown",
   "metadata": {},
   "source": [
    "# Chapter 8: Extracting Data from the Internet\n",
    "## Part 3: Parsing XML APIs by SAX + *regular expression: re*\n",
    "\n",
    "2020-12-08 \\\n",
    "鍾修改 2019-11-30 \\\n",
    "士超改為 Python3 2019-04-25 \\\n",
    "逸勳協助準備 2018-05-22 "
   ]
  },
  {
   "cell_type": "markdown",
   "metadata": {},
   "source": [
    "# Parsing XML APIs 的四種方法：\n",
    "1. DOM (02_要講的)\n",
    "2. SAX (03_要講的)\n",
    "3. *regular expression (regex) (帶過)*\n",
    "3. ElementTree (04_要講的，課本沒教的)"
   ]
  },
  {
   "cell_type": "markdown",
   "metadata": {},
   "source": [
    "# Parsing XML APIs\n",
    "\n",
    "XML 的格式的網頁有兩種 API 的方法解讀：\n",
    "\n",
    "1. DOM (Document Object Model): You load **the whole thing into memory** - it's a massive memory hog. You can blow memory with even medium sized documents. But you can use xpath and traverse the tree etc.\n",
    "\n",
    "2. SAX (Simple API for XML): Is a **stream-based processor**. You only have a tiny part in memory at any time and you \"sniff\" the XML stream by implementing callback code for events like tagStarted() etc. It uses almost no memory, but you can't do \"DOM\" stuff, like use xpath or traverse trees."
   ]
  },
  {
   "cell_type": "markdown",
   "metadata": {},
   "source": [
    "## What is the difference between SAX and DOM?\n",
    "https://stackoverflow.com/questions/6828703/what-is-the-difference-between-sax-and-dom\n",
    "\n",
    "**SAX is event-based and DOM is tree model**\n",
    "\n",
    "In SAX, events are triggered when the XML is being parsed. When the parser is parsing the XML, and encounters a tag starting (e.g. <something>), then it triggers the tagStarted event (actual name of event might differ). Similarly when the end of the tag is met while parsing (</something>), it triggers tagEnded. Using a SAX parser implies you need to handle these events and make sense of the data returned with each event.\n",
    "\n",
    "In DOM, there are no events triggered while parsing. The entire XML is parsed and a DOM tree (of the nodes in the XML) is generated and returned. Once parsed, the user can navigate the tree to access the various data previously embedded in the various nodes in the XML.\n",
    "\n",
    "In general, DOM is easier to use but has an overhead of parsing the entire XML before you can start using it."
   ]
  },
  {
   "cell_type": "markdown",
   "metadata": {},
   "source": [
    "## 來看一下氣象資料的 XML 的網頁內容：\n",
    "https://codebeautify.org/xmlviewer\n",
    "使用 \"Load URL\" \\\n",
    "http://api.openweathermap.org/data/2.5/forecast?q=Taipei,%20TW&mode=xml&appid=d1deefb25fb63cf70eea21a43dad94f7"
   ]
  },
  {
   "cell_type": "markdown",
   "metadata": {},
   "source": [
    "![XML介紹](http://www.ukoln.ac.uk/metadata/dcmi/dc-elem-prop/image/Slide1.png)"
   ]
  },
  {
   "cell_type": "markdown",
   "metadata": {},
   "source": [
    "# The SAX(Simple API for XML) method\n",
    "\n",
    "## python weather_xml_sax.py Taipei,TW "
   ]
  },
  {
   "cell_type": "markdown",
   "metadata": {},
   "source": [
    "## 摸擬一下我們查看 xml 格式的內容時，怎麼準備我們想要的報告輸出？\n",
    "1. 先找到城市、國家\n",
    "2. 然後把 40 個時段的：時間、天氣示意符號、溫度\n",
    "點取出來。\n",
    "\n",
    "**我們先試跑一下 xml 檔**，當逐行讀內容時，我們會特別去找相對應的 tag，並從相關的tag 中的 attributes 找出所要的資料。"
   ]
  },
  {
   "cell_type": "markdown",
   "metadata": {},
   "source": [
    "## 歸納：當解析 (parse) XML 文檔時，最重要的動作是：\n",
    "1. 每看到有新的 tag，注意是否我們的讀取資料的 tag 出現了\n",
    "2. 每次看到有標示為資料的欄位時，看有沒有我們要的資料\n",
    "3. 看到有 tag 的結束時，就可以將沒用到的 tag 整段忽視掉\n",
    "4. 而在這過程中，要有一個 tag buffer 提醒我，目前解析到整顆樹的那個位置：也就是記住從最高層那個 node 的 tag 到達當下的 tag，而中間沒有用到的，則不會出現在這 tag buffer 中。"
   ]
  },
  {
   "cell_type": "markdown",
   "metadata": {},
   "source": [
    "```XML\n",
    "<weatherdata>\n",
    "<location>\n",
    "<name>Taipei</name>\n",
    "<type/>\n",
    "<country>TW</country>\n",
    "<timezone>28800</timezone>\n",
    "<location altitude=\"0\" latitude=\"25.0478\" longitude=\"121.5319\" geobase=\"geonames\" geobaseid=\"1668341\"/>\n",
    "</location>\n",
    "```"
   ]
  },
  {
   "cell_type": "markdown",
   "metadata": {},
   "source": [
    "```XML\n",
    "<time from=\"2020-12-06T06:00:00\" to=\"2020-12-06T09:00:00\">\n",
    "<symbol number=\"500\" name=\"light rain\" var=\"10d\"/>\n",
    "<precipitation probability=\"0.36\" unit=\"3h\" value=\"0.11\" type=\"rain\"/>\n",
    "<windDirection deg=\"68\" code=\"ENE\" name=\"East-northeast\"/>\n",
    "<windSpeed mps=\"5.62\" unit=\"m/s\" name=\"Moderate breeze\"/>\n",
    "<temperature unit=\"kelvin\" value=\"292.54\" min=\"292.25\" max=\"292.54\"/>\n",
    "<feels_like value=\"291.13\" unit=\"kelvin\"/>\n",
    "<pressure unit=\"hPa\" value=\"1019\"/>\n",
    "<humidity value=\"88\" unit=\"%\"/>\n",
    "<clouds value=\"broken clouds\" all=\"75\" unit=\"%\"/>\n",
    "<visibility value=\"10000\"/>\n",
    "</time>\n",
    "```"
   ]
  },
  {
   "cell_type": "code",
   "execution_count": 1,
   "metadata": {},
   "outputs": [],
   "source": [
    "from datetime import datetime\n",
    "import urllib\n",
    "import xml.sax # SAX module\n",
    "from string import Template\n",
    "import sys"
   ]
  },
  {
   "cell_type": "code",
   "execution_count": 3,
   "metadata": {
    "scrolled": true
   },
   "outputs": [
    {
     "name": "stdout",
     "output_type": "stream",
     "text": [
      "Help on class ContentHandler in module xml.sax.handler:\n",
      "\n",
      "class ContentHandler(builtins.object)\n",
      " |  Interface for receiving logical document content events.\n",
      " |  \n",
      " |  This is the main callback interface in SAX, and the one most\n",
      " |  important to applications. The order of events in this interface\n",
      " |  mirrors the order of the information in the document.\n",
      " |  \n",
      " |  Methods defined here:\n",
      " |  \n",
      " |  __init__(self)\n",
      " |      Initialize self.  See help(type(self)) for accurate signature.\n",
      " |  \n",
      " |  characters(self, content)\n",
      " |      Receive notification of character data.\n",
      " |      \n",
      " |      The Parser will call this method to report each chunk of\n",
      " |      character data. SAX parsers may return all contiguous\n",
      " |      character data in a single chunk, or they may split it into\n",
      " |      several chunks; however, all of the characters in any single\n",
      " |      event must come from the same external entity so that the\n",
      " |      Locator provides useful information.\n",
      " |  \n",
      " |  endDocument(self)\n",
      " |      Receive notification of the end of a document.\n",
      " |      \n",
      " |      The SAX parser will invoke this method only once, and it will\n",
      " |      be the last method invoked during the parse. The parser shall\n",
      " |      not invoke this method until it has either abandoned parsing\n",
      " |      (because of an unrecoverable error) or reached the end of\n",
      " |      input.\n",
      " |  \n",
      " |  endElement(self, name)\n",
      " |      Signals the end of an element in non-namespace mode.\n",
      " |      \n",
      " |      The name parameter contains the name of the element type, just\n",
      " |      as with the startElement event.\n",
      " |  \n",
      " |  endElementNS(self, name, qname)\n",
      " |      Signals the end of an element in namespace mode.\n",
      " |      \n",
      " |      The name parameter contains the name of the element type, just\n",
      " |      as with the startElementNS event.\n",
      " |  \n",
      " |  endPrefixMapping(self, prefix)\n",
      " |      End the scope of a prefix-URI mapping.\n",
      " |      \n",
      " |      See startPrefixMapping for details. This event will always\n",
      " |      occur after the corresponding endElement event, but the order\n",
      " |      of endPrefixMapping events is not otherwise guaranteed.\n",
      " |  \n",
      " |  ignorableWhitespace(self, whitespace)\n",
      " |      Receive notification of ignorable whitespace in element content.\n",
      " |      \n",
      " |      Validating Parsers must use this method to report each chunk\n",
      " |      of ignorable whitespace (see the W3C XML 1.0 recommendation,\n",
      " |      section 2.10): non-validating parsers may also use this method\n",
      " |      if they are capable of parsing and using content models.\n",
      " |      \n",
      " |      SAX parsers may return all contiguous whitespace in a single\n",
      " |      chunk, or they may split it into several chunks; however, all\n",
      " |      of the characters in any single event must come from the same\n",
      " |      external entity, so that the Locator provides useful\n",
      " |      information.\n",
      " |  \n",
      " |  processingInstruction(self, target, data)\n",
      " |      Receive notification of a processing instruction.\n",
      " |      \n",
      " |      The Parser will invoke this method once for each processing\n",
      " |      instruction found: note that processing instructions may occur\n",
      " |      before or after the main document element.\n",
      " |      \n",
      " |      A SAX parser should never report an XML declaration (XML 1.0,\n",
      " |      section 2.8) or a text declaration (XML 1.0, section 4.3.1)\n",
      " |      using this method.\n",
      " |  \n",
      " |  setDocumentLocator(self, locator)\n",
      " |      Called by the parser to give the application a locator for\n",
      " |      locating the origin of document events.\n",
      " |      \n",
      " |      SAX parsers are strongly encouraged (though not absolutely\n",
      " |      required) to supply a locator: if it does so, it must supply\n",
      " |      the locator to the application by invoking this method before\n",
      " |      invoking any of the other methods in the DocumentHandler\n",
      " |      interface.\n",
      " |      \n",
      " |      The locator allows the application to determine the end\n",
      " |      position of any document-related event, even if the parser is\n",
      " |      not reporting an error. Typically, the application will use\n",
      " |      this information for reporting its own errors (such as\n",
      " |      character content that does not match an application's\n",
      " |      business rules). The information returned by the locator is\n",
      " |      probably not sufficient for use with a search engine.\n",
      " |      \n",
      " |      Note that the locator will return correct information only\n",
      " |      during the invocation of the events in this interface. The\n",
      " |      application should not attempt to use it at any other time.\n",
      " |  \n",
      " |  skippedEntity(self, name)\n",
      " |      Receive notification of a skipped entity.\n",
      " |      \n",
      " |      The Parser will invoke this method once for each entity\n",
      " |      skipped. Non-validating processors may skip entities if they\n",
      " |      have not seen the declarations (because, for example, the\n",
      " |      entity was declared in an external DTD subset). All processors\n",
      " |      may skip external entities, depending on the values of the\n",
      " |      http://xml.org/sax/features/external-general-entities and the\n",
      " |      http://xml.org/sax/features/external-parameter-entities\n",
      " |      properties.\n",
      " |  \n",
      " |  startDocument(self)\n",
      " |      Receive notification of the beginning of a document.\n",
      " |      \n",
      " |      The SAX parser will invoke this method only once, before any\n",
      " |      other methods in this interface or in DTDHandler (except for\n",
      " |      setDocumentLocator).\n",
      " |  \n",
      " |  startElement(self, name, attrs)\n",
      " |      Signals the start of an element in non-namespace mode.\n",
      " |      \n",
      " |      The name parameter contains the raw XML 1.0 name of the\n",
      " |      element type as a string and the attrs parameter holds an\n",
      " |      instance of the Attributes class containing the attributes of\n",
      " |      the element.\n",
      " |  \n",
      " |  startElementNS(self, name, qname, attrs)\n",
      " |      Signals the start of an element in namespace mode.\n",
      " |      \n",
      " |      The name parameter contains the name of the element type as a\n",
      " |      (uri, localname) tuple, the qname parameter the raw XML 1.0\n",
      " |      name used in the source document, and the attrs parameter\n",
      " |      holds an instance of the Attributes class containing the\n",
      " |      attributes of the element.\n",
      " |      \n",
      " |      The uri part of the name tuple is None for elements which have\n",
      " |      no namespace.\n",
      " |  \n",
      " |  startPrefixMapping(self, prefix, uri)\n",
      " |      Begin the scope of a prefix-URI Namespace mapping.\n",
      " |      \n",
      " |      The information from this event is not necessary for normal\n",
      " |      Namespace processing: the SAX XML reader will automatically\n",
      " |      replace prefixes for element and attribute names when the\n",
      " |      http://xml.org/sax/features/namespaces feature is true (the\n",
      " |      default).\n",
      " |      \n",
      " |      There are cases, however, when applications need to use\n",
      " |      prefixes in character data or in attribute values, where they\n",
      " |      cannot safely be expanded automatically; the\n",
      " |      start/endPrefixMapping event supplies the information to the\n",
      " |      application to expand prefixes in those contexts itself, if\n",
      " |      necessary.\n",
      " |      \n",
      " |      Note that start/endPrefixMapping events are not guaranteed to\n",
      " |      be properly nested relative to each-other: all\n",
      " |      startPrefixMapping events will occur before the corresponding\n",
      " |      startElement event, and all endPrefixMapping events will occur\n",
      " |      after the corresponding endElement event, but their order is\n",
      " |      not guaranteed.\n",
      " |  \n",
      " |  ----------------------------------------------------------------------\n",
      " |  Data descriptors defined here:\n",
      " |  \n",
      " |  __dict__\n",
      " |      dictionary for instance variables (if defined)\n",
      " |  \n",
      " |  __weakref__\n",
      " |      list of weak references to the object (if defined)\n",
      "\n"
     ]
    }
   ],
   "source": [
    "help(xml.sax.ContentHandler)"
   ]
  },
  {
   "cell_type": "code",
   "execution_count": 4,
   "metadata": {},
   "outputs": [],
   "source": [
    "'''\n",
    "繼承 sax.ContentHandler\n",
    "'''\n",
    "class WeatherHandler(xml.sax.ContentHandler):  \n",
    "\n",
    "    def __init__(self):\n",
    "        self._tag_buffer = list() # 記住一路下來 tag 的族譜\n",
    "\n",
    "        self._location_name = '?'\n",
    "        self._location_country = '?'\n",
    "\n",
    "        self._time_string= ''\n",
    "        self._overview_string = ''\n",
    "        self._temperature_string = ''\n",
    "\n",
    "    ###  遇到XML開始標籤時調用，不僅是當下的 tag 還有內含的 attribute\n",
    "    def startElement(self, tag, attributes):\n",
    "        self._tag_buffer.append(tag)\n",
    "        if self._tag_buffer[-2:] == ['weatherdata', 'location']:\n",
    "            self._location_name = '?'\n",
    "            self._location_country = '?'\n",
    "\n",
    "        elif self._tag_buffer[-2:] == ['forecast', 'time']:\n",
    "            time = datetime.strptime(attributes['from'], '%Y-%m-%dT%H:%M:%S')\n",
    "            self._time_string = datetime.strftime(time, '%H:%M %d %B')\n",
    "\n",
    "            self._overview_string = '?'\n",
    "            self._temperature_string = '?'\n",
    "\n",
    "        elif self._tag_buffer[-2:] == ['time', 'symbol']:\n",
    "            if 'name' in attributes:\n",
    "                self._overview_string = attributes['name']\n",
    "\n",
    "        elif self._tag_buffer[-2:] == ['time', 'temperature']:\n",
    "            if 'value' in attributes:\n",
    "                self._temperature_string = '%.1f' % (float(attributes['value']) - 273.15)\n",
    "\n",
    "    ###  遇到XML結束標籤時調用\n",
    "    def endElement(self, tag):\n",
    "        if self._tag_buffer[-2:] == ['weatherdata', 'location']:\n",
    "            print('5 day forecast for %s, %s.\\n' % (self._location_name, self._location_country))\n",
    "\n",
    "        elif self._tag_buffer[-2:] == ['forecast', 'time']:\n",
    "            print(u'%s: %s, %s°C' % (\n",
    "                    self._time_string,\n",
    "                    self._overview_string,\n",
    "                    self._temperature_string))\n",
    "\n",
    "        self._tag_buffer.pop()\n",
    "\n",
    "    ###  遇到XML元素內容時調用，主要是讀取 content 的內容\n",
    "    def characters(self, content):\n",
    "        if self._tag_buffer[-2:] == ['location', 'name']:\n",
    "            self._location_name = content\n",
    "\n",
    "        elif self._tag_buffer[-2:] == ['location', 'country']:\n",
    "            self._location_country = content"
   ]
  },
  {
   "cell_type": "code",
   "execution_count": 5,
   "metadata": {},
   "outputs": [
    {
     "data": {
      "text/plain": [
       "'http://api.openweathermap.org/data/2.5/forecast?q=Taipei,TW&mode=xml&appid=d1deefb25fb63cf70eea21a43dad94f7'"
      ]
     },
     "execution_count": 5,
     "metadata": {},
     "output_type": "execute_result"
    }
   ],
   "source": [
    "URL_TEMLATE = Template('http://api.openweathermap.org/data/2.5/forecast?q=${location}&mode=xml&appid=d1deefb25fb63cf70eea21a43dad94f7')\n",
    "\n",
    "# search_location = sys.argv[1]\n",
    "search_location = \"Taipei,TW\"\n",
    "\n",
    "api_url = URL_TEMLATE.substitute(location=search_location)\n",
    "api_url"
   ]
  },
  {
   "cell_type": "code",
   "execution_count": 6,
   "metadata": {},
   "outputs": [],
   "source": [
    "response = urllib.request.urlopen(api_url)\n",
    "xml_response = response.read()"
   ]
  },
  {
   "cell_type": "code",
   "execution_count": 7,
   "metadata": {},
   "outputs": [
    {
     "name": "stdout",
     "output_type": "stream",
     "text": [
      "b'<?xml version=\"1.0\" encoding=\"UTF-8\"?>\\n<weatherdata><location><name>Taipei</name><type></type><country>TW</country><timezone>28800</timezone><location altitude=\"0\" latitude=\"25.0478\" longitude=\"121.5319\" geobase=\"geonames\" geobaseid=\"1668341\"></location></location><credit></credit><meta><lastupdate></lastupdate><calctime>0</calctime><nextupdate></nextupdate></meta><sun rise=\"2020-12-08T22:27:42\" set=\"2020-12-09T09:05:02\"></sun><forecast><time from=\"2020-12-09T06:00:00\" to=\"2020-12-09T09:00:00\"><symbol number=\"500\" name=\"light rain\" var=\"10d\"></symbol><precipitation probability=\"0.74\" unit=\"3h\" value=\"0.57\" type=\"rain\"></precipitation><windDirection deg=\"71\" code=\"ENE\" name=\"East-northeast\"></windDirection><windSpeed mps=\"4.47\" unit=\"m/s\" name=\"Gentle Breeze\"></windSpeed><temperature unit=\"kelvin\" value=\"293.14\" min=\"292.73\" max=\"293.14\"></temperature><feels_like value=\"292.93\" unit=\"kelvin\"></feels_like><pressure unit=\"hPa\" value=\"1016\"></pressure><humidity value=\"90\" unit=\"%\"></humidity><clouds value=\"overcast clouds\" all=\"87\" unit=\"%\"></clouds><visibility value=\"10000\"></visibility></time><time from=\"2020-12-09T09:00:00\" to=\"2020-12-09T12:00:00\"><symbol number=\"500\" name=\"light rain\" var=\"10n\"></symbol><precipitation probability=\"0.8\" unit=\"3h\" value=\"0.27\" type=\"rain\"></precipitation><windDirection deg=\"73\" code=\"ENE\" name=\"East-northeast\"></windDirection><windSpeed mps=\"4.41\" unit=\"m/s\" name=\"Gentle Breeze\"></windSpeed><temperature unit=\"kelvin\" value=\"293.09\" min=\"292.97\" max=\"293.09\"></temperature><feels_like value=\"292.67\" unit=\"kelvin\"></feels_like><pressure unit=\"hPa\" value=\"1018\"></pressure><humidity value=\"87\" unit=\"%\"></humidity><clouds value=\"overcast clouds\" all=\"94\" unit=\"%\"></clouds><visibility value=\"10000\"></visibility></time><time from=\"2020-12-09T12:00:00\" to=\"2020-12-09T15:00:00\"><symbol number=\"500\" name=\"light rain\" var=\"10n\"></symbol><precipitation probability=\"0.78\" unit=\"3h\" value=\"0.18\" type=\"rain\"></precipitation><windDirection deg=\"77\" code=\"ENE\" name=\"East-northeast\"></windDirection><windSpeed mps=\"3.3\" unit=\"m/s\" name=\"Light breeze\"></windSpeed><temperature unit=\"kelvin\" value=\"293.25\" min=\"293.23\" max=\"293.25\"></temperature><feels_like value=\"293.75\" unit=\"kelvin\"></feels_like><pressure unit=\"hPa\" value=\"1017\"></pressure><humidity value=\"88\" unit=\"%\"></humidity><clouds value=\"overcast clouds\" all=\"90\" unit=\"%\"></clouds><visibility value=\"10000\"></visibility></time><time from=\"2020-12-09T15:00:00\" to=\"2020-12-09T18:00:00\"><symbol number=\"500\" name=\"light rain\" var=\"10n\"></symbol><precipitation probability=\"0.89\" unit=\"3h\" value=\"0.93\" type=\"rain\"></precipitation><windDirection deg=\"68\" code=\"ENE\" name=\"East-northeast\"></windDirection><windSpeed mps=\"2.93\" unit=\"m/s\" name=\"Light breeze\"></windSpeed><temperature unit=\"kelvin\" value=\"293.4\" min=\"293.4\" max=\"293.4\"></temperature><feels_like value=\"294.38\" unit=\"kelvin\"></feels_like><pressure unit=\"hPa\" value=\"1016\"></pressure><humidity value=\"90\" unit=\"%\"></humidity><clouds value=\"overcast clouds\" all=\"96\" unit=\"%\"></clouds><visibility value=\"10000\"></visibility></time><time from=\"2020-12-09T18:00:00\" to=\"2020-12-09T21:00:00\"><symbol number=\"500\" name=\"light rain\" var=\"10n\"></symbol><precipitation probability=\"0.72\" unit=\"3h\" value=\"1.13\" type=\"rain\"></precipitation><windDirection deg=\"30\" code=\"NNE\" name=\"North-northeast\"></windDirection><windSpeed mps=\"2.63\" unit=\"m/s\" name=\"Light breeze\"></windSpeed><temperature unit=\"kelvin\" value=\"293.38\" min=\"293.38\" max=\"293.38\"></temperature><feels_like value=\"294.64\" unit=\"kelvin\"></feels_like><pressure unit=\"hPa\" value=\"1016\"></pressure><humidity value=\"91\" unit=\"%\"></humidity><clouds value=\"overcast clouds\" all=\"100\" unit=\"%\"></clouds><visibility value=\"4801\"></visibility></time><time from=\"2020-12-09T21:00:00\" to=\"2020-12-10T00:00:00\"><symbol number=\"500\" name=\"light rain\" var=\"10d\"></symbol><precipitation probability=\"0.76\" unit=\"3h\" value=\"1.12\" type=\"rain\"></precipitation><windDirection deg=\"45\" code=\"NE\" name=\"NorthEast\"></windDirection><windSpeed mps=\"3.54\" unit=\"m/s\" name=\"Gentle Breeze\"></windSpeed><temperature unit=\"kelvin\" value=\"293.5\" min=\"293.5\" max=\"293.5\"></temperature><feels_like value=\"293.94\" unit=\"kelvin\"></feels_like><pressure unit=\"hPa\" value=\"1018\"></pressure><humidity value=\"88\" unit=\"%\"></humidity><clouds value=\"overcast clouds\" all=\"99\" unit=\"%\"></clouds><visibility value=\"8829\"></visibility></time><time from=\"2020-12-10T00:00:00\" to=\"2020-12-10T03:00:00\"><symbol number=\"500\" name=\"light rain\" var=\"10d\"></symbol><precipitation probability=\"0.81\" unit=\"3h\" value=\"1.08\" type=\"rain\"></precipitation><windDirection deg=\"53\" code=\"NE\" name=\"NorthEast\"></windDirection><windSpeed mps=\"3.69\" unit=\"m/s\" name=\"Gentle Breeze\"></windSpeed><temperature unit=\"kelvin\" value=\"293.74\" min=\"293.74\" max=\"293.74\"></temperature><feels_like value=\"294.1\" unit=\"kelvin\"></feels_like><pressure unit=\"hPa\" value=\"1017\"></pressure><humidity value=\"87\" unit=\"%\"></humidity><clouds value=\"overcast clouds\" all=\"99\" unit=\"%\"></clouds><visibility value=\"9230\"></visibility></time><time from=\"2020-12-10T03:00:00\" to=\"2020-12-10T06:00:00\"><symbol number=\"500\" name=\"light rain\" var=\"10d\"></symbol><precipitation probability=\"0.89\" unit=\"3h\" value=\"0.74\" type=\"rain\"></precipitation><windDirection deg=\"49\" code=\"NE\" name=\"NorthEast\"></windDirection><windSpeed mps=\"3.84\" unit=\"m/s\" name=\"Gentle Breeze\"></windSpeed><temperature unit=\"kelvin\" value=\"293.63\" min=\"293.63\" max=\"293.63\"></temperature><feels_like value=\"293.84\" unit=\"kelvin\"></feels_like><pressure unit=\"hPa\" value=\"1016\"></pressure><humidity value=\"87\" unit=\"%\"></humidity><clouds value=\"overcast clouds\" all=\"100\" unit=\"%\"></clouds><visibility value=\"10000\"></visibility></time><time from=\"2020-12-10T06:00:00\" to=\"2020-12-10T09:00:00\"><symbol number=\"500\" name=\"light rain\" var=\"10d\"></symbol><precipitation probability=\"0.73\" unit=\"3h\" value=\"0.84\" type=\"rain\"></precipitation><windDirection deg=\"51\" code=\"NE\" name=\"NorthEast\"></windDirection><windSpeed mps=\"4.17\" unit=\"m/s\" name=\"Gentle Breeze\"></windSpeed><temperature unit=\"kelvin\" value=\"293.38\" min=\"293.38\" max=\"293.38\"></temperature><feels_like value=\"293.17\" unit=\"kelvin\"></feels_like><pressure unit=\"hPa\" value=\"1016\"></pressure><humidity value=\"86\" unit=\"%\"></humidity><clouds value=\"overcast clouds\" all=\"98\" unit=\"%\"></clouds><visibility value=\"10000\"></visibility></time><time from=\"2020-12-10T09:00:00\" to=\"2020-12-10T12:00:00\"><symbol number=\"500\" name=\"light rain\" var=\"10n\"></symbol><precipitation probability=\"0.68\" unit=\"3h\" value=\"0.66\" type=\"rain\"></precipitation><windDirection deg=\"68\" code=\"ENE\" name=\"East-northeast\"></windDirection><windSpeed mps=\"4.48\" unit=\"m/s\" name=\"Gentle Breeze\"></windSpeed><temperature unit=\"kelvin\" value=\"293.11\" min=\"293.11\" max=\"293.11\"></temperature><feels_like value=\"292.58\" unit=\"kelvin\"></feels_like><pressure unit=\"hPa\" value=\"1018\"></pressure><humidity value=\"86\" unit=\"%\"></humidity><clouds value=\"overcast clouds\" all=\"99\" unit=\"%\"></clouds><visibility value=\"10000\"></visibility></time><time from=\"2020-12-10T12:00:00\" to=\"2020-12-10T15:00:00\"><symbol number=\"500\" name=\"light rain\" var=\"10n\"></symbol><precipitation probability=\"0.46\" unit=\"3h\" value=\"0.29\" type=\"rain\"></precipitation><windDirection deg=\"71\" code=\"ENE\" name=\"East-northeast\"></windDirection><windSpeed mps=\"4.39\" unit=\"m/s\" name=\"Gentle Breeze\"></windSpeed><temperature unit=\"kelvin\" value=\"292.99\" min=\"292.99\" max=\"292.99\"></temperature><feels_like value=\"292.47\" unit=\"kelvin\"></feels_like><pressure unit=\"hPa\" value=\"1018\"></pressure><humidity value=\"86\" unit=\"%\"></humidity><clouds value=\"overcast clouds\" all=\"100\" unit=\"%\"></clouds><visibility value=\"10000\"></visibility></time><time from=\"2020-12-10T15:00:00\" to=\"2020-12-10T18:00:00\"><symbol number=\"500\" name=\"light rain\" var=\"10n\"></symbol><precipitation probability=\"0.42\" unit=\"3h\" value=\"0.19\" type=\"rain\"></precipitation><windDirection deg=\"66\" code=\"ENE\" name=\"East-northeast\"></windDirection><windSpeed mps=\"3.89\" unit=\"m/s\" name=\"Gentle Breeze\"></windSpeed><temperature unit=\"kelvin\" value=\"292.94\" min=\"292.94\" max=\"292.94\"></temperature><feels_like value=\"292.83\" unit=\"kelvin\"></feels_like><pressure unit=\"hPa\" value=\"1016\"></pressure><humidity value=\"87\" unit=\"%\"></humidity><clouds value=\"overcast clouds\" all=\"96\" unit=\"%\"></clouds><visibility value=\"10000\"></visibility></time><time from=\"2020-12-10T18:00:00\" to=\"2020-12-10T21:00:00\"><symbol number=\"500\" name=\"light rain\" var=\"10n\"></symbol><precipitation probability=\"0.58\" unit=\"3h\" value=\"0.12\" type=\"rain\"></precipitation><windDirection deg=\"63\" code=\"ENE\" name=\"East-northeast\"></windDirection><windSpeed mps=\"3.66\" unit=\"m/s\" name=\"Gentle Breeze\"></windSpeed><temperature unit=\"kelvin\" value=\"292.92\" min=\"292.92\" max=\"292.92\"></temperature><feels_like value=\"292.88\" unit=\"kelvin\"></feels_like><pressure unit=\"hPa\" value=\"1016\"></pressure><humidity value=\"86\" unit=\"%\"></humidity><clouds value=\"overcast clouds\" all=\"96\" unit=\"%\"></clouds><visibility value=\"10000\"></visibility></time><time from=\"2020-12-10T21:00:00\" to=\"2020-12-11T00:00:00\"><symbol number=\"500\" name=\"light rain\" var=\"10d\"></symbol><precipitation probability=\"0.54\" unit=\"3h\" value=\"0.26\" type=\"rain\"></precipitation><windDirection deg=\"71\" code=\"ENE\" name=\"East-northeast\"></windDirection><windSpeed mps=\"3.42\" unit=\"m/s\" name=\"Gentle Breeze\"></windSpeed><temperature unit=\"kelvin\" value=\"293.17\" min=\"293.17\" max=\"293.17\"></temperature><feels_like value=\"293.4\" unit=\"kelvin\"></feels_like><pressure unit=\"hPa\" value=\"1017\"></pressure><humidity value=\"86\" unit=\"%\"></humidity><clouds value=\"overcast clouds\" all=\"98\" unit=\"%\"></clouds><visibility value=\"10000\"></visibility></time><time from=\"2020-12-11T00:00:00\" to=\"2020-12-11T03:00:00\"><symbol number=\"804\" name=\"overcast clouds\" var=\"04d\"></symbol><precipitation probability=\"0.28\"></precipitation><windDirection deg=\"60\" code=\"ENE\" name=\"East-northeast\"></windDirection><windSpeed mps=\"3.37\" unit=\"m/s\" name=\"Light breeze\"></windSpeed><temperature unit=\"kelvin\" value=\"293.95\" min=\"293.95\" max=\"293.95\"></temperature><feels_like value=\"294.38\" unit=\"kelvin\"></feels_like><pressure unit=\"hPa\" value=\"1017\"></pressure><humidity value=\"84\" unit=\"%\"></humidity><clouds value=\"overcast clouds\" all=\"99\" unit=\"%\"></clouds><visibility value=\"10000\"></visibility></time><time from=\"2020-12-11T03:00:00\" to=\"2020-12-11T06:00:00\"><symbol number=\"804\" name=\"overcast clouds\" var=\"04d\"></symbol><precipitation probability=\"0.32\"></precipitation><windDirection deg=\"58\" code=\"ENE\" name=\"East-northeast\"></windDirection><windSpeed mps=\"3.84\" unit=\"m/s\" name=\"Gentle Breeze\"></windSpeed><temperature unit=\"kelvin\" value=\"294.26\" min=\"294.26\" max=\"294.26\"></temperature><feels_like value=\"294.41\" unit=\"kelvin\"></feels_like><pressure unit=\"hPa\" value=\"1014\"></pressure><humidity value=\"83\" unit=\"%\"></humidity><clouds value=\"overcast clouds\" all=\"99\" unit=\"%\"></clouds><visibility value=\"10000\"></visibility></time><time from=\"2020-12-11T06:00:00\" to=\"2020-12-11T09:00:00\"><symbol number=\"804\" name=\"overcast clouds\" var=\"04d\"></symbol><precipitation probability=\"0.41\"></precipitation><windDirection deg=\"56\" code=\"NE\" name=\"NorthEast\"></windDirection><windSpeed mps=\"3.48\" unit=\"m/s\" name=\"Gentle Breeze\"></windSpeed><temperature unit=\"kelvin\" value=\"293.6\" min=\"293.6\" max=\"293.6\"></temperature><feels_like value=\"293.89\" unit=\"kelvin\"></feels_like><pressure unit=\"hPa\" value=\"1015\"></pressure><humidity value=\"85\" unit=\"%\"></humidity><clouds value=\"overcast clouds\" all=\"100\" unit=\"%\"></clouds><visibility value=\"10000\"></visibility></time><time from=\"2020-12-11T09:00:00\" to=\"2020-12-11T12:00:00\"><symbol number=\"500\" name=\"light rain\" var=\"10n\"></symbol><precipitation probability=\"0.45\" unit=\"3h\" value=\"0.27\" type=\"rain\"></precipitation><windDirection deg=\"51\" code=\"NE\" name=\"NorthEast\"></windDirection><windSpeed mps=\"2.86\" unit=\"m/s\" name=\"Light breeze\"></windSpeed><temperature unit=\"kelvin\" value=\"293.6\" min=\"293.6\" max=\"293.6\"></temperature><feels_like value=\"294.48\" unit=\"kelvin\"></feels_like><pressure unit=\"hPa\" value=\"1016\"></pressure><humidity value=\"87\" unit=\"%\"></humidity><clouds value=\"overcast clouds\" all=\"100\" unit=\"%\"></clouds><visibility value=\"10000\"></visibility></time><time from=\"2020-12-11T12:00:00\" to=\"2020-12-11T15:00:00\"><symbol number=\"500\" name=\"light rain\" var=\"10n\"></symbol><precipitation probability=\"0.49\" unit=\"3h\" value=\"0.45\" type=\"rain\"></precipitation><windDirection deg=\"51\" code=\"NE\" name=\"NorthEast\"></windDirection><windSpeed mps=\"2.43\" unit=\"m/s\" name=\"Light breeze\"></windSpeed><temperature unit=\"kelvin\" value=\"293.55\" min=\"293.55\" max=\"293.55\"></temperature><feels_like value=\"294.79\" unit=\"kelvin\"></feels_like><pressure unit=\"hPa\" value=\"1017\"></pressure><humidity value=\"88\" unit=\"%\"></humidity><clouds value=\"overcast clouds\" all=\"100\" unit=\"%\"></clouds><visibility value=\"10000\"></visibility></time><time from=\"2020-12-11T15:00:00\" to=\"2020-12-11T18:00:00\"><symbol number=\"500\" name=\"light rain\" var=\"10n\"></symbol><precipitation probability=\"0.45\" unit=\"3h\" value=\"0.9\" type=\"rain\"></precipitation><windDirection deg=\"24\" code=\"NNE\" name=\"North-northeast\"></windDirection><windSpeed mps=\"2.67\" unit=\"m/s\" name=\"Light breeze\"></windSpeed><temperature unit=\"kelvin\" value=\"293.25\" min=\"293.25\" max=\"293.25\"></temperature><feels_like value=\"294.2\" unit=\"kelvin\"></feels_like><pressure unit=\"hPa\" value=\"1016\"></pressure><humidity value=\"88\" unit=\"%\"></humidity><clouds value=\"overcast clouds\" all=\"100\" unit=\"%\"></clouds><visibility value=\"7975\"></visibility></time><time from=\"2020-12-11T18:00:00\" to=\"2020-12-11T21:00:00\"><symbol number=\"500\" name=\"light rain\" var=\"10n\"></symbol><precipitation probability=\"0.47\" unit=\"3h\" value=\"0.37\" type=\"rain\"></precipitation><windDirection deg=\"29\" code=\"NNE\" name=\"North-northeast\"></windDirection><windSpeed mps=\"2.33\" unit=\"m/s\" name=\"Light breeze\"></windSpeed><temperature unit=\"kelvin\" value=\"292.97\" min=\"292.97\" max=\"292.97\"></temperature><feels_like value=\"293.88\" unit=\"kelvin\"></feels_like><pressure unit=\"hPa\" value=\"1016\"></pressure><humidity value=\"86\" unit=\"%\"></humidity><clouds value=\"overcast clouds\" all=\"100\" unit=\"%\"></clouds><visibility value=\"10000\"></visibility></time><time from=\"2020-12-11T21:00:00\" to=\"2020-12-12T00:00:00\"><symbol number=\"500\" name=\"light rain\" var=\"10d\"></symbol><precipitation probability=\"0.36\" unit=\"3h\" value=\"0.15\" type=\"rain\"></precipitation><windDirection deg=\"46\" code=\"NE\" name=\"NorthEast\"></windDirection><windSpeed mps=\"2.9\" unit=\"m/s\" name=\"Light breeze\"></windSpeed><temperature unit=\"kelvin\" value=\"292.85\" min=\"292.85\" max=\"292.85\"></temperature><feels_like value=\"293.09\" unit=\"kelvin\"></feels_like><pressure unit=\"hPa\" value=\"1017\"></pressure><humidity value=\"83\" unit=\"%\"></humidity><clouds value=\"overcast clouds\" all=\"100\" unit=\"%\"></clouds><visibility value=\"10000\"></visibility></time><time from=\"2020-12-12T00:00:00\" to=\"2020-12-12T03:00:00\"><symbol number=\"500\" name=\"light rain\" var=\"10d\"></symbol><precipitation probability=\"0.46\" unit=\"3h\" value=\"0.2\" type=\"rain\"></precipitation><windDirection deg=\"53\" code=\"NE\" name=\"NorthEast\"></windDirection><windSpeed mps=\"3.92\" unit=\"m/s\" name=\"Gentle Breeze\"></windSpeed><temperature unit=\"kelvin\" value=\"293.35\" min=\"293.35\" max=\"293.35\"></temperature><feels_like value=\"292.76\" unit=\"kelvin\"></feels_like><pressure unit=\"hPa\" value=\"1017\"></pressure><humidity value=\"79\" unit=\"%\"></humidity><clouds value=\"overcast clouds\" all=\"97\" unit=\"%\"></clouds><visibility value=\"10000\"></visibility></time><time from=\"2020-12-12T03:00:00\" to=\"2020-12-12T06:00:00\"><symbol number=\"500\" name=\"light rain\" var=\"10d\"></symbol><precipitation probability=\"0.46\" unit=\"3h\" value=\"0.39\" type=\"rain\"></precipitation><windDirection deg=\"50\" code=\"NE\" name=\"NorthEast\"></windDirection><windSpeed mps=\"4.99\" unit=\"m/s\" name=\"Gentle Breeze\"></windSpeed><temperature unit=\"kelvin\" value=\"292.38\" min=\"292.38\" max=\"292.38\"></temperature><feels_like value=\"290.76\" unit=\"kelvin\"></feels_like><pressure unit=\"hPa\" value=\"1015\"></pressure><humidity value=\"80\" unit=\"%\"></humidity><clouds value=\"overcast clouds\" all=\"99\" unit=\"%\"></clouds><visibility value=\"10000\"></visibility></time><time from=\"2020-12-12T06:00:00\" to=\"2020-12-12T09:00:00\"><symbol number=\"500\" name=\"light rain\" var=\"10d\"></symbol><precipitation probability=\"0.27\" unit=\"3h\" value=\"0.26\" type=\"rain\"></precipitation><windDirection deg=\"56\" code=\"NE\" name=\"NorthEast\"></windDirection><windSpeed mps=\"5.45\" unit=\"m/s\" name=\"Gentle Breeze\"></windSpeed><temperature unit=\"kelvin\" value=\"291.53\" min=\"291.53\" max=\"291.53\"></temperature><feels_like value=\"289.28\" unit=\"kelvin\"></feels_like><pressure unit=\"hPa\" value=\"1016\"></pressure><humidity value=\"80\" unit=\"%\"></humidity><clouds value=\"overcast clouds\" all=\"96\" unit=\"%\"></clouds><visibility value=\"10000\"></visibility></time><time from=\"2020-12-12T09:00:00\" to=\"2020-12-12T12:00:00\"><symbol number=\"500\" name=\"light rain\" var=\"10n\"></symbol><precipitation probability=\"0.31\" unit=\"3h\" value=\"0.24\" type=\"rain\"></precipitation><windDirection deg=\"57\" code=\"ENE\" name=\"East-northeast\"></windDirection><windSpeed mps=\"5.43\" unit=\"m/s\" name=\"Gentle Breeze\"></windSpeed><temperature unit=\"kelvin\" value=\"291.15\" min=\"291.15\" max=\"291.15\"></temperature><feels_like value=\"288.72\" unit=\"kelvin\"></feels_like><pressure unit=\"hPa\" value=\"1017\"></pressure><humidity value=\"79\" unit=\"%\"></humidity><clouds value=\"overcast clouds\" all=\"98\" unit=\"%\"></clouds><visibility value=\"10000\"></visibility></time><time from=\"2020-12-12T12:00:00\" to=\"2020-12-12T15:00:00\"><symbol number=\"500\" name=\"light rain\" var=\"10n\"></symbol><precipitation probability=\"0.39\" unit=\"3h\" value=\"0.1\" type=\"rain\"></precipitation><windDirection deg=\"68\" code=\"ENE\" name=\"East-northeast\"></windDirection><windSpeed mps=\"5.03\" unit=\"m/s\" name=\"Gentle Breeze\"></windSpeed><temperature unit=\"kelvin\" value=\"290.88\" min=\"290.88\" max=\"290.88\"></temperature><feels_like value=\"288.64\" unit=\"kelvin\"></feels_like><pressure unit=\"hPa\" value=\"1017\"></pressure><humidity value=\"79\" unit=\"%\"></humidity><clouds value=\"overcast clouds\" all=\"100\" unit=\"%\"></clouds><visibility value=\"10000\"></visibility></time><time from=\"2020-12-12T15:00:00\" to=\"2020-12-12T18:00:00\"><symbol number=\"500\" name=\"light rain\" var=\"10n\"></symbol><precipitation probability=\"0.34\" unit=\"3h\" value=\"0.14\" type=\"rain\"></precipitation><windDirection deg=\"68\" code=\"ENE\" name=\"East-northeast\"></windDirection><windSpeed mps=\"4.27\" unit=\"m/s\" name=\"Gentle Breeze\"></windSpeed><temperature unit=\"kelvin\" value=\"290.99\" min=\"290.99\" max=\"290.99\"></temperature><feels_like value=\"289.38\" unit=\"kelvin\"></feels_like><pressure unit=\"hPa\" value=\"1016\"></pressure><humidity value=\"80\" unit=\"%\"></humidity><clouds value=\"overcast clouds\" all=\"100\" unit=\"%\"></clouds><visibility value=\"10000\"></visibility></time><time from=\"2020-12-12T18:00:00\" to=\"2020-12-12T21:00:00\"><symbol number=\"804\" name=\"overcast clouds\" var=\"04n\"></symbol><precipitation probability=\"0.1\"></precipitation><windDirection deg=\"71\" code=\"ENE\" name=\"East-northeast\"></windDirection><windSpeed mps=\"3.76\" unit=\"m/s\" name=\"Gentle Breeze\"></windSpeed><temperature unit=\"kelvin\" value=\"290.97\" min=\"290.97\" max=\"290.97\"></temperature><feels_like value=\"289.71\" unit=\"kelvin\"></feels_like><pressure unit=\"hPa\" value=\"1016\"></pressure><humidity value=\"80\" unit=\"%\"></humidity><clouds value=\"overcast clouds\" all=\"99\" unit=\"%\"></clouds><visibility value=\"10000\"></visibility></time><time from=\"2020-12-12T21:00:00\" to=\"2020-12-13T00:00:00\"><symbol number=\"804\" name=\"overcast clouds\" var=\"04d\"></symbol><precipitation probability=\"0.06\"></precipitation><windDirection deg=\"78\" code=\"ENE\" name=\"East-northeast\"></windDirection><windSpeed mps=\"3.43\" unit=\"m/s\" name=\"Gentle Breeze\"></windSpeed><temperature unit=\"kelvin\" value=\"291.51\" min=\"291.51\" max=\"291.51\"></temperature><feels_like value=\"290.53\" unit=\"kelvin\"></feels_like><pressure unit=\"hPa\" value=\"1018\"></pressure><humidity value=\"78\" unit=\"%\"></humidity><clouds value=\"overcast clouds\" all=\"93\" unit=\"%\"></clouds><visibility value=\"10000\"></visibility></time><time from=\"2020-12-13T00:00:00\" to=\"2020-12-13T03:00:00\"><symbol number=\"803\" name=\"broken clouds\" var=\"04d\"></symbol><precipitation probability=\"0.06\"></precipitation><windDirection deg=\"71\" code=\"ENE\" name=\"East-northeast\"></windDirection><windSpeed mps=\"4.35\" unit=\"m/s\" name=\"Gentle Breeze\"></windSpeed><temperature unit=\"kelvin\" value=\"293.53\" min=\"293.53\" max=\"293.53\"></temperature><feels_like value=\"292\" unit=\"kelvin\"></feels_like><pressure unit=\"hPa\" value=\"1018\"></pressure><humidity value=\"70\" unit=\"%\"></humidity><clouds value=\"broken clouds\" all=\"81\" unit=\"%\"></clouds><visibility value=\"10000\"></visibility></time><time from=\"2020-12-13T03:00:00\" to=\"2020-12-13T06:00:00\"><symbol number=\"804\" name=\"overcast clouds\" var=\"04d\"></symbol><precipitation probability=\"0.06\"></precipitation><windDirection deg=\"63\" code=\"ENE\" name=\"East-northeast\"></windDirection><windSpeed mps=\"4.67\" unit=\"m/s\" name=\"Gentle Breeze\"></windSpeed><temperature unit=\"kelvin\" value=\"293.05\" min=\"293.05\" max=\"293.05\"></temperature><feels_like value=\"291.44\" unit=\"kelvin\"></feels_like><pressure unit=\"hPa\" value=\"1016\"></pressure><humidity value=\"74\" unit=\"%\"></humidity><clouds value=\"overcast clouds\" all=\"88\" unit=\"%\"></clouds><visibility value=\"10000\"></visibility></time><time from=\"2020-12-13T06:00:00\" to=\"2020-12-13T09:00:00\"><symbol number=\"804\" name=\"overcast clouds\" var=\"04d\"></symbol><precipitation probability=\"0.26\"></precipitation><windDirection deg=\"61\" code=\"ENE\" name=\"East-northeast\"></windDirection><windSpeed mps=\"4.69\" unit=\"m/s\" name=\"Gentle Breeze\"></windSpeed><temperature unit=\"kelvin\" value=\"291.9\" min=\"291.9\" max=\"291.9\"></temperature><feels_like value=\"290.17\" unit=\"kelvin\"></feels_like><pressure unit=\"hPa\" value=\"1017\"></pressure><humidity value=\"78\" unit=\"%\"></humidity><clouds value=\"overcast clouds\" all=\"99\" unit=\"%\"></clouds><visibility value=\"10000\"></visibility></time><time from=\"2020-12-13T09:00:00\" to=\"2020-12-13T12:00:00\"><symbol number=\"500\" name=\"light rain\" var=\"10n\"></symbol><precipitation probability=\"0.39\" unit=\"3h\" value=\"0.1\" type=\"rain\"></precipitation><windDirection deg=\"60\" code=\"ENE\" name=\"East-northeast\"></windDirection><windSpeed mps=\"5.41\" unit=\"m/s\" name=\"Gentle Breeze\"></windSpeed><temperature unit=\"kelvin\" value=\"291.55\" min=\"291.55\" max=\"291.55\"></temperature><feels_like value=\"289.13\" unit=\"kelvin\"></feels_like><pressure unit=\"hPa\" value=\"1019\"></pressure><humidity value=\"77\" unit=\"%\"></humidity><clouds value=\"overcast clouds\" all=\"99\" unit=\"%\"></clouds><visibility value=\"10000\"></visibility></time><time from=\"2020-12-13T12:00:00\" to=\"2020-12-13T15:00:00\"><symbol number=\"500\" name=\"light rain\" var=\"10n\"></symbol><precipitation probability=\"0.37\" unit=\"3h\" value=\"0.25\" type=\"rain\"></precipitation><windDirection deg=\"58\" code=\"ENE\" name=\"East-northeast\"></windDirection><windSpeed mps=\"5.65\" unit=\"m/s\" name=\"Moderate breeze\"></windSpeed><temperature unit=\"kelvin\" value=\"291.12\" min=\"291.12\" max=\"291.12\"></temperature><feels_like value=\"288.46\" unit=\"kelvin\"></feels_like><pressure unit=\"hPa\" value=\"1020\"></pressure><humidity value=\"78\" unit=\"%\"></humidity><clouds value=\"overcast clouds\" all=\"100\" unit=\"%\"></clouds><visibility value=\"10000\"></visibility></time><time from=\"2020-12-13T15:00:00\" to=\"2020-12-13T18:00:00\"><symbol number=\"500\" name=\"light rain\" var=\"10n\"></symbol><precipitation probability=\"0.31\" unit=\"3h\" value=\"0.44\" type=\"rain\"></precipitation><windDirection deg=\"61\" code=\"ENE\" name=\"East-northeast\"></windDirection><windSpeed mps=\"5.42\" unit=\"m/s\" name=\"Gentle Breeze\"></windSpeed><temperature unit=\"kelvin\" value=\"290.88\" min=\"290.88\" max=\"290.88\"></temperature><feels_like value=\"288.3\" unit=\"kelvin\"></feels_like><pressure unit=\"hPa\" value=\"1020\"></pressure><humidity value=\"78\" unit=\"%\"></humidity><clouds value=\"overcast clouds\" all=\"100\" unit=\"%\"></clouds><visibility value=\"10000\"></visibility></time><time from=\"2020-12-13T18:00:00\" to=\"2020-12-13T21:00:00\"><symbol number=\"500\" name=\"light rain\" var=\"10n\"></symbol><precipitation probability=\"0.44\" unit=\"3h\" value=\"0.94\" type=\"rain\"></precipitation><windDirection deg=\"58\" code=\"ENE\" name=\"East-northeast\"></windDirection><windSpeed mps=\"5.9\" unit=\"m/s\" name=\"Moderate breeze\"></windSpeed><temperature unit=\"kelvin\" value=\"290.25\" min=\"290.25\" max=\"290.25\"></temperature><feels_like value=\"287.19\" unit=\"kelvin\"></feels_like><pressure unit=\"hPa\" value=\"1021\"></pressure><humidity value=\"79\" unit=\"%\"></humidity><clouds value=\"overcast clouds\" all=\"100\" unit=\"%\"></clouds><visibility value=\"10000\"></visibility></time><time from=\"2020-12-13T21:00:00\" to=\"2020-12-14T00:00:00\"><symbol number=\"500\" name=\"light rain\" var=\"10d\"></symbol><precipitation probability=\"0.42\" unit=\"3h\" value=\"0.84\" type=\"rain\"></precipitation><windDirection deg=\"62\" code=\"ENE\" name=\"East-northeast\"></windDirection><windSpeed mps=\"5.65\" unit=\"m/s\" name=\"Moderate breeze\"></windSpeed><temperature unit=\"kelvin\" value=\"290.26\" min=\"290.26\" max=\"290.26\"></temperature><feels_like value=\"287.25\" unit=\"kelvin\"></feels_like><pressure unit=\"hPa\" value=\"1023\"></pressure><humidity value=\"77\" unit=\"%\"></humidity><clouds value=\"overcast clouds\" all=\"100\" unit=\"%\"></clouds><visibility value=\"10000\"></visibility></time><time from=\"2020-12-14T00:00:00\" to=\"2020-12-14T03:00:00\"><symbol number=\"500\" name=\"light rain\" var=\"10d\"></symbol><precipitation probability=\"0.42\" unit=\"3h\" value=\"0.44\" type=\"rain\"></precipitation><windDirection deg=\"69\" code=\"ENE\" name=\"East-northeast\"></windDirection><windSpeed mps=\"5.74\" unit=\"m/s\" name=\"Moderate breeze\"></windSpeed><temperature unit=\"kelvin\" value=\"290.84\" min=\"290.84\" max=\"290.84\"></temperature><feels_like value=\"287.69\" unit=\"kelvin\"></feels_like><pressure unit=\"hPa\" value=\"1022\"></pressure><humidity value=\"73\" unit=\"%\"></humidity><clouds value=\"overcast clouds\" all=\"94\" unit=\"%\"></clouds><visibility value=\"10000\"></visibility></time><time from=\"2020-12-14T03:00:00\" to=\"2020-12-14T06:00:00\"><symbol number=\"500\" name=\"light rain\" var=\"10d\"></symbol><precipitation probability=\"0.38\" unit=\"3h\" value=\"0.16\" type=\"rain\"></precipitation><windDirection deg=\"69\" code=\"ENE\" name=\"East-northeast\"></windDirection><windSpeed mps=\"6\" unit=\"m/s\" name=\"Moderate breeze\"></windSpeed><temperature unit=\"kelvin\" value=\"291.44\" min=\"291.44\" max=\"291.44\"></temperature><feels_like value=\"288.22\" unit=\"kelvin\"></feels_like><pressure unit=\"hPa\" value=\"1021\"></pressure><humidity value=\"72\" unit=\"%\"></humidity><clouds value=\"overcast clouds\" all=\"90\" unit=\"%\"></clouds><visibility value=\"10000\"></visibility></time></forecast></weatherdata>'\n"
     ]
    }
   ],
   "source": [
    "print(xml_response)"
   ]
  },
  {
   "cell_type": "markdown",
   "metadata": {},
   "source": [
    "以下只列出部份，其中只列 time[0] \n",
    "```json\n",
    "<weatherdata>\n",
    "    <location>\n",
    "        <name>Taipei</name>\n",
    "        <type/>\n",
    "        <country>TW</country>\n",
    "        <timezone>28800</timezone>\n",
    "        <location altitude=\"0\" latitude=\"25.0375\" longitude=\"121.5637\" geobase=\"geonames\" geobaseid=\"1668341\"/>\n",
    "    </location>\n",
    "    <credit/>\n",
    "    <meta>\n",
    "        <lastupdate/>\n",
    "        <calctime>0</calctime>\n",
    "        <nextupdate/>\n",
    "    </meta>\n",
    "<sun rise=\"2019-11-30T22:21:33\" set=\"2019-12-01T09:03:52\"/>\n",
    "<forecast>\n",
    "    <time from=\"2019-11-30T15:00:00\" to=\"2019-11-30T18:00:00\">\n",
    "        <symbol number=\"800\" name=\"clear sky\" var=\"01n\"/>\n",
    "        <precipitation/>\n",
    "        <windDirection deg=\"138\" code=\"SE\" name=\"SouthEast\"/>\n",
    "        <windSpeed mps=\"1.12\" unit=\"m/s\" name=\"Calm\"/>\n",
    "        <temperature unit=\"kelvin\" value=\"291.92\" min=\"291.15\" max=\"291.92\"/>\n",
    "        <pressure unit=\"hPa\" value=\"1018\"/>\n",
    "        <humidity value=\"84\" unit=\"%\"/>\n",
    "        <clouds value=\"clear sky\" all=\"1\" unit=\"%\"/>\n",
    "    </time>\n",
    "    </forecast>\n",
    "</weatherdata>\n",
    "```"
   ]
  },
  {
   "cell_type": "code",
   "execution_count": 8,
   "metadata": {},
   "outputs": [
    {
     "name": "stdout",
     "output_type": "stream",
     "text": [
      "5 day forecast for Taipei, TW.\n",
      "\n",
      "06:00 09 December: light rain, 20.0°C\n",
      "09:00 09 December: light rain, 19.9°C\n",
      "12:00 09 December: light rain, 20.1°C\n",
      "15:00 09 December: light rain, 20.2°C\n",
      "18:00 09 December: light rain, 20.2°C\n",
      "21:00 09 December: light rain, 20.4°C\n",
      "00:00 10 December: light rain, 20.6°C\n",
      "03:00 10 December: light rain, 20.5°C\n",
      "06:00 10 December: light rain, 20.2°C\n",
      "09:00 10 December: light rain, 20.0°C\n",
      "12:00 10 December: light rain, 19.8°C\n",
      "15:00 10 December: light rain, 19.8°C\n",
      "18:00 10 December: light rain, 19.8°C\n",
      "21:00 10 December: light rain, 20.0°C\n",
      "00:00 11 December: overcast clouds, 20.8°C\n",
      "03:00 11 December: overcast clouds, 21.1°C\n",
      "06:00 11 December: overcast clouds, 20.5°C\n",
      "09:00 11 December: light rain, 20.5°C\n",
      "12:00 11 December: light rain, 20.4°C\n",
      "15:00 11 December: light rain, 20.1°C\n",
      "18:00 11 December: light rain, 19.8°C\n",
      "21:00 11 December: light rain, 19.7°C\n",
      "00:00 12 December: light rain, 20.2°C\n",
      "03:00 12 December: light rain, 19.2°C\n",
      "06:00 12 December: light rain, 18.4°C\n",
      "09:00 12 December: light rain, 18.0°C\n",
      "12:00 12 December: light rain, 17.7°C\n",
      "15:00 12 December: light rain, 17.8°C\n",
      "18:00 12 December: overcast clouds, 17.8°C\n",
      "21:00 12 December: overcast clouds, 18.4°C\n",
      "00:00 13 December: broken clouds, 20.4°C\n",
      "03:00 13 December: overcast clouds, 19.9°C\n",
      "06:00 13 December: overcast clouds, 18.8°C\n",
      "09:00 13 December: light rain, 18.4°C\n",
      "12:00 13 December: light rain, 18.0°C\n",
      "15:00 13 December: light rain, 17.7°C\n",
      "18:00 13 December: light rain, 17.1°C\n",
      "21:00 13 December: light rain, 17.1°C\n",
      "00:00 14 December: light rain, 17.7°C\n",
      "03:00 14 December: light rain, 18.3°C\n"
     ]
    }
   ],
   "source": [
    "'''\n",
    "需要針對特定的 爬文需求建這個繼承 handler 的類別\n",
    "'''\n",
    "content_handler = WeatherHandler()  \n",
    "\n",
    "xml.sax.parseString(xml_response, content_handler)"
   ]
  },
  {
   "cell_type": "markdown",
   "metadata": {},
   "source": [
    "### Python Tutorial: re Module - How to Write and Match Regular Expressions (Regex)\n",
    "https://www.youtube.com/watch?v=K8L6KVGG-7o"
   ]
  },
  {
   "cell_type": "code",
   "execution_count": 9,
   "metadata": {},
   "outputs": [
    {
     "data": {
      "text/html": [
       "<iframe width=\"560\" height=\"315\" src=\"https://www.youtube.com/embed/K8L6KVGG-7o\" frameborder=\"0\" allow=\"accelerometer; autoplay; clipboard-write; encrypted-media; gyroscope; picture-in-picture\" allowfullscreen></iframe>\n"
      ],
      "text/plain": [
       "<IPython.core.display.HTML object>"
      ]
     },
     "metadata": {},
     "output_type": "display_data"
    }
   ],
   "source": [
    "%%HTML\n",
    "<iframe width=\"560\" height=\"315\" src=\"https://www.youtube.com/embed/K8L6KVGG-7o\" frameborder=\"0\" allow=\"accelerometer; autoplay; clipboard-write; encrypted-media; gyroscope; picture-in-picture\" allowfullscreen></iframe>"
   ]
  },
  {
   "cell_type": "markdown",
   "metadata": {},
   "source": [
    "## 以下是我用 regular expression 來測一下，開頭 < 到結尾 > 間的內容"
   ]
  },
  {
   "cell_type": "code",
   "execution_count": 12,
   "metadata": {},
   "outputs": [],
   "source": [
    "import re\n",
    "temperatures = re.findall(r'<temperature .*?>', str(xml_response))"
   ]
  },
  {
   "cell_type": "code",
   "execution_count": 13,
   "metadata": {},
   "outputs": [
    {
     "data": {
      "text/plain": [
       "40"
      ]
     },
     "execution_count": 13,
     "metadata": {},
     "output_type": "execute_result"
    }
   ],
   "source": [
    "len(temperatures)"
   ]
  },
  {
   "cell_type": "code",
   "execution_count": 14,
   "metadata": {},
   "outputs": [
    {
     "name": "stdout",
     "output_type": "stream",
     "text": [
      "<temperature unit=\"kelvin\" value=\"293.14\" min=\"292.73\" max=\"293.14\">\n",
      "<temperature unit=\"kelvin\" value=\"293.09\" min=\"292.97\" max=\"293.09\">\n",
      "<temperature unit=\"kelvin\" value=\"293.25\" min=\"293.23\" max=\"293.25\">\n",
      "<temperature unit=\"kelvin\" value=\"293.4\" min=\"293.4\" max=\"293.4\">\n",
      "<temperature unit=\"kelvin\" value=\"293.38\" min=\"293.38\" max=\"293.38\">\n",
      "<temperature unit=\"kelvin\" value=\"293.5\" min=\"293.5\" max=\"293.5\">\n",
      "<temperature unit=\"kelvin\" value=\"293.74\" min=\"293.74\" max=\"293.74\">\n",
      "<temperature unit=\"kelvin\" value=\"293.63\" min=\"293.63\" max=\"293.63\">\n",
      "<temperature unit=\"kelvin\" value=\"293.38\" min=\"293.38\" max=\"293.38\">\n",
      "<temperature unit=\"kelvin\" value=\"293.11\" min=\"293.11\" max=\"293.11\">\n",
      "<temperature unit=\"kelvin\" value=\"292.99\" min=\"292.99\" max=\"292.99\">\n",
      "<temperature unit=\"kelvin\" value=\"292.94\" min=\"292.94\" max=\"292.94\">\n",
      "<temperature unit=\"kelvin\" value=\"292.92\" min=\"292.92\" max=\"292.92\">\n",
      "<temperature unit=\"kelvin\" value=\"293.17\" min=\"293.17\" max=\"293.17\">\n",
      "<temperature unit=\"kelvin\" value=\"293.95\" min=\"293.95\" max=\"293.95\">\n",
      "<temperature unit=\"kelvin\" value=\"294.26\" min=\"294.26\" max=\"294.26\">\n",
      "<temperature unit=\"kelvin\" value=\"293.6\" min=\"293.6\" max=\"293.6\">\n",
      "<temperature unit=\"kelvin\" value=\"293.6\" min=\"293.6\" max=\"293.6\">\n",
      "<temperature unit=\"kelvin\" value=\"293.55\" min=\"293.55\" max=\"293.55\">\n",
      "<temperature unit=\"kelvin\" value=\"293.25\" min=\"293.25\" max=\"293.25\">\n",
      "<temperature unit=\"kelvin\" value=\"292.97\" min=\"292.97\" max=\"292.97\">\n",
      "<temperature unit=\"kelvin\" value=\"292.85\" min=\"292.85\" max=\"292.85\">\n",
      "<temperature unit=\"kelvin\" value=\"293.35\" min=\"293.35\" max=\"293.35\">\n",
      "<temperature unit=\"kelvin\" value=\"292.38\" min=\"292.38\" max=\"292.38\">\n",
      "<temperature unit=\"kelvin\" value=\"291.53\" min=\"291.53\" max=\"291.53\">\n",
      "<temperature unit=\"kelvin\" value=\"291.15\" min=\"291.15\" max=\"291.15\">\n",
      "<temperature unit=\"kelvin\" value=\"290.88\" min=\"290.88\" max=\"290.88\">\n",
      "<temperature unit=\"kelvin\" value=\"290.99\" min=\"290.99\" max=\"290.99\">\n",
      "<temperature unit=\"kelvin\" value=\"290.97\" min=\"290.97\" max=\"290.97\">\n",
      "<temperature unit=\"kelvin\" value=\"291.51\" min=\"291.51\" max=\"291.51\">\n",
      "<temperature unit=\"kelvin\" value=\"293.53\" min=\"293.53\" max=\"293.53\">\n",
      "<temperature unit=\"kelvin\" value=\"293.05\" min=\"293.05\" max=\"293.05\">\n",
      "<temperature unit=\"kelvin\" value=\"291.9\" min=\"291.9\" max=\"291.9\">\n",
      "<temperature unit=\"kelvin\" value=\"291.55\" min=\"291.55\" max=\"291.55\">\n",
      "<temperature unit=\"kelvin\" value=\"291.12\" min=\"291.12\" max=\"291.12\">\n",
      "<temperature unit=\"kelvin\" value=\"290.88\" min=\"290.88\" max=\"290.88\">\n",
      "<temperature unit=\"kelvin\" value=\"290.25\" min=\"290.25\" max=\"290.25\">\n",
      "<temperature unit=\"kelvin\" value=\"290.26\" min=\"290.26\" max=\"290.26\">\n",
      "<temperature unit=\"kelvin\" value=\"290.84\" min=\"290.84\" max=\"290.84\">\n",
      "<temperature unit=\"kelvin\" value=\"291.44\" min=\"291.44\" max=\"291.44\">\n"
     ]
    }
   ],
   "source": [
    "for tem in temperatures:\n",
    "    print(tem)"
   ]
  },
  {
   "cell_type": "code",
   "execution_count": 15,
   "metadata": {},
   "outputs": [
    {
     "name": "stdout",
     "output_type": "stream",
     "text": [
      "<time from=\"2020-12-09T06:00:00\" to=\"2020-12-09T09:00:00\">\n",
      "<time from=\"2020-12-09T09:00:00\" to=\"2020-12-09T12:00:00\">\n",
      "<time from=\"2020-12-09T12:00:00\" to=\"2020-12-09T15:00:00\">\n",
      "<time from=\"2020-12-09T15:00:00\" to=\"2020-12-09T18:00:00\">\n",
      "<time from=\"2020-12-09T18:00:00\" to=\"2020-12-09T21:00:00\">\n",
      "<time from=\"2020-12-09T21:00:00\" to=\"2020-12-10T00:00:00\">\n",
      "<time from=\"2020-12-10T00:00:00\" to=\"2020-12-10T03:00:00\">\n",
      "<time from=\"2020-12-10T03:00:00\" to=\"2020-12-10T06:00:00\">\n",
      "<time from=\"2020-12-10T06:00:00\" to=\"2020-12-10T09:00:00\">\n",
      "<time from=\"2020-12-10T09:00:00\" to=\"2020-12-10T12:00:00\">\n",
      "<time from=\"2020-12-10T12:00:00\" to=\"2020-12-10T15:00:00\">\n",
      "<time from=\"2020-12-10T15:00:00\" to=\"2020-12-10T18:00:00\">\n",
      "<time from=\"2020-12-10T18:00:00\" to=\"2020-12-10T21:00:00\">\n",
      "<time from=\"2020-12-10T21:00:00\" to=\"2020-12-11T00:00:00\">\n",
      "<time from=\"2020-12-11T00:00:00\" to=\"2020-12-11T03:00:00\">\n",
      "<time from=\"2020-12-11T03:00:00\" to=\"2020-12-11T06:00:00\">\n",
      "<time from=\"2020-12-11T06:00:00\" to=\"2020-12-11T09:00:00\">\n",
      "<time from=\"2020-12-11T09:00:00\" to=\"2020-12-11T12:00:00\">\n",
      "<time from=\"2020-12-11T12:00:00\" to=\"2020-12-11T15:00:00\">\n",
      "<time from=\"2020-12-11T15:00:00\" to=\"2020-12-11T18:00:00\">\n",
      "<time from=\"2020-12-11T18:00:00\" to=\"2020-12-11T21:00:00\">\n",
      "<time from=\"2020-12-11T21:00:00\" to=\"2020-12-12T00:00:00\">\n",
      "<time from=\"2020-12-12T00:00:00\" to=\"2020-12-12T03:00:00\">\n",
      "<time from=\"2020-12-12T03:00:00\" to=\"2020-12-12T06:00:00\">\n",
      "<time from=\"2020-12-12T06:00:00\" to=\"2020-12-12T09:00:00\">\n",
      "<time from=\"2020-12-12T09:00:00\" to=\"2020-12-12T12:00:00\">\n",
      "<time from=\"2020-12-12T12:00:00\" to=\"2020-12-12T15:00:00\">\n",
      "<time from=\"2020-12-12T15:00:00\" to=\"2020-12-12T18:00:00\">\n",
      "<time from=\"2020-12-12T18:00:00\" to=\"2020-12-12T21:00:00\">\n",
      "<time from=\"2020-12-12T21:00:00\" to=\"2020-12-13T00:00:00\">\n",
      "<time from=\"2020-12-13T00:00:00\" to=\"2020-12-13T03:00:00\">\n",
      "<time from=\"2020-12-13T03:00:00\" to=\"2020-12-13T06:00:00\">\n",
      "<time from=\"2020-12-13T06:00:00\" to=\"2020-12-13T09:00:00\">\n",
      "<time from=\"2020-12-13T09:00:00\" to=\"2020-12-13T12:00:00\">\n",
      "<time from=\"2020-12-13T12:00:00\" to=\"2020-12-13T15:00:00\">\n",
      "<time from=\"2020-12-13T15:00:00\" to=\"2020-12-13T18:00:00\">\n",
      "<time from=\"2020-12-13T18:00:00\" to=\"2020-12-13T21:00:00\">\n",
      "<time from=\"2020-12-13T21:00:00\" to=\"2020-12-14T00:00:00\">\n",
      "<time from=\"2020-12-14T00:00:00\" to=\"2020-12-14T03:00:00\">\n",
      "<time from=\"2020-12-14T03:00:00\" to=\"2020-12-14T06:00:00\">\n"
     ]
    }
   ],
   "source": [
    "import re\n",
    "time = re.findall(r'<time .*?>', str(xml_response))\n",
    "len(time)\n",
    "for tem in time:\n",
    "    print(tem)"
   ]
  },
  {
   "cell_type": "code",
   "execution_count": 16,
   "metadata": {},
   "outputs": [],
   "source": [
    "name = re.findall(r'<name>(.*?)</name>', str(xml_response))"
   ]
  },
  {
   "cell_type": "code",
   "execution_count": 17,
   "metadata": {},
   "outputs": [
    {
     "data": {
      "text/plain": [
       "['Taipei']"
      ]
     },
     "execution_count": 17,
     "metadata": {},
     "output_type": "execute_result"
    }
   ],
   "source": [
    "name"
   ]
  },
  {
   "cell_type": "code",
   "execution_count": 18,
   "metadata": {},
   "outputs": [
    {
     "name": "stdout",
     "output_type": "stream",
     "text": [
      "Taipei\n"
     ]
    }
   ],
   "source": [
    "print(name[0])"
   ]
  },
  {
   "cell_type": "code",
   "execution_count": 19,
   "metadata": {},
   "outputs": [
    {
     "name": "stdout",
     "output_type": "stream",
     "text": [
      "TW\n"
     ]
    }
   ],
   "source": [
    "country = re.findall(r'<country>(.*?)</country>', str(xml_response))\n",
    "print(country[0])"
   ]
  },
  {
   "cell_type": "markdown",
   "metadata": {},
   "source": [
    "### Python正則表達式最全詳解！你學會了嗎？\n",
    "\n",
    "原文網址：https://kknews.cc/code/n6ayvyg.html\n",
    "https://kknews.cc/zh-tw/code/n6ayvyg.html"
   ]
  }
 ],
 "metadata": {
  "kernelspec": {
   "display_name": "Python 3",
   "language": "python",
   "name": "python3"
  },
  "language_info": {
   "codemirror_mode": {
    "name": "ipython",
    "version": 3
   },
   "file_extension": ".py",
   "mimetype": "text/x-python",
   "name": "python",
   "nbconvert_exporter": "python",
   "pygments_lexer": "ipython3",
   "version": "3.7.4"
  }
 },
 "nbformat": 4,
 "nbformat_minor": 2
}
