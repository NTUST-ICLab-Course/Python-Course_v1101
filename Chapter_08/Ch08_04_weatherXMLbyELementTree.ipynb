{
 "cells": [
  {
   "cell_type": "markdown",
   "metadata": {},
   "source": [
    "# Chapter 8: Extracting Data from the Internet\n",
    "## 04: 用 ElementTree 在 Python 中解析 weather data in XML format \n",
    "\n",
    "2020-12-13, 2019-05-05\n",
    "\n",
    "###  參考「用 ElementTree 在 Python 中解析 XML」\n",
    "\n",
    "https://pycoders-weekly-chinese.readthedocs.io/en/latest/issue6/processing-xml-in-python-with-element-tree.html"
   ]
  },
  {
   "cell_type": "markdown",
   "metadata": {},
   "source": [
    "### 应该使用哪个 XML 库？¶\n",
    "Python 有非常非常多的工具来处理 XML。在这个部分我想对 Python 所提供的包进行一个简单的浏览，并且解释为什么 ElementTree 是你最应该用的那一个。\n",
    "\n",
    "xml.dom.* 模块 － 是 W3C DOM API 的实现。如果你有处理 DOM API 的需要，那么这个模块适合你。注意：在 xml.dom 包里面有许多模块，注意它们之间的不同。\n",
    "\n",
    "xml.sax.* 模块 － 是 SAX API 的实现。这个模块牺牲了便捷性来换取速度和内存占用。SAX 是一个基于事件的 API，这就意味着它可以“在空中”(on the fly)处理庞大数量的的文档，不用完全加载进内存(见注释1)。\n",
    "\n",
    "xml.parser.expat － 是一个直接的，低级一点的基于 C 的 expat 的语法分析器(见注释2)。 expat 接口基于事件反馈，有点像 SAX 但又不太像，因为它的接口并不是完全规范于 expat 库的。\n",
    "\n",
    "最后，**我们来看看 xml.etree.ElementTree (以下简称 ET)**S。它提供了轻量级的 Python 式的 API ，它由一个 C 实现来提供。相对于 DOM 来说，ET 快了很多(见注释3)而且有很多令人愉悦的 API 可以使用。相对于 SAX 来说，ET 也有 ET.iterparse 提供了 “在空中” 的处理方式，没有必要加载整个文档到内存。ET 的性能的平均值和 SAX 差不多，但是 API 的效率更高一点而且使用起来很方便。我一会儿会给你们看演示。"
   ]
  },
  {
   "cell_type": "code",
   "execution_count": 1,
   "metadata": {},
   "outputs": [],
   "source": [
    "import xml.etree.ElementTree as ET"
   ]
  },
  {
   "cell_type": "markdown",
   "metadata": {},
   "source": [
    "## xml.etree.ElementTree — The ElementTree XML API\n",
    "https://docs.python.org/3/library/xml.etree.elementtree.html"
   ]
  },
  {
   "cell_type": "code",
   "execution_count": 2,
   "metadata": {},
   "outputs": [],
   "source": [
    "# 多行資料的輸入\n",
    "countryXML='''<?xml version=\"1.0\"?>\n",
    "<data>\n",
    "    <country name=\"Liechtenstein\"> <!-- 列支敦士登 -->\n",
    "        <rank>1</rank>\n",
    "        <year>2008</year>\n",
    "        <gdppc>141100</gdppc>\n",
    "        <neighbor name=\"Austria\" direction=\"E\"/>\n",
    "        <neighbor name=\"Switzerland\" direction=\"W\"/>\n",
    "    </country>\n",
    "    <country name=\"Singapore\">\n",
    "        <rank>4</rank>\n",
    "        <year>2011</year>\n",
    "        <gdppc>59900</gdppc>\n",
    "        <neighbor name=\"Malaysia\" direction=\"N\"/>\n",
    "    </country>\n",
    "    <country name=\"Panama\">\n",
    "        <rank>68</rank>\n",
    "        <year>2011</year>\n",
    "        <gdppc>13600</gdppc>\n",
    "        <neighbor name=\"Costa Rica\" direction=\"W\"/>\n",
    "        <neighbor name=\"Colombia\" direction=\"E\"/>\n",
    "    </country>\n",
    "</data>'''"
   ]
  },
  {
   "cell_type": "markdown",
   "metadata": {},
   "source": [
    "### 比較好看的呈現法：\n",
    "```XML\n",
    "<?xml version=\"1.0\"?>\n",
    "<data>\n",
    "    <country name=\"Liechtenstein\">\n",
    "        <rank>1</rank>\n",
    "        <year>2008</year>\n",
    "        <gdppc>141100</gdppc>\n",
    "        <neighbor name=\"Austria\" direction=\"E\"/>\n",
    "        <neighbor name=\"Switzerland\" direction=\"W\"/>\n",
    "    </country>\n",
    "    <country name=\"Singapore\">\n",
    "        <rank>4</rank>\n",
    "        <year>2011</year>\n",
    "        <gdppc>59900</gdppc>\n",
    "        <neighbor name=\"Malaysia\" direction=\"N\"/>\n",
    "    </country>\n",
    "    <country name=\"Panama\">\n",
    "        <rank>68</rank>\n",
    "        <year>2011</year>\n",
    "        <gdppc>13600</gdppc>\n",
    "        <neighbor name=\"Costa Rica\" direction=\"W\"/>\n",
    "        <neighbor name=\"Colombia\" direction=\"E\"/>\n",
    "    </country>\n",
    "</data>\n",
    "```"
   ]
  },
  {
   "cell_type": "code",
   "execution_count": 3,
   "metadata": {},
   "outputs": [],
   "source": [
    "# 整棵樹的頭就是 data 為標籤的 root 節點\n",
    "countryTree = ET.fromstring(countryXML)"
   ]
  },
  {
   "cell_type": "code",
   "execution_count": 4,
   "metadata": {},
   "outputs": [
    {
     "data": {
      "text/plain": [
       "xml.etree.ElementTree.Element"
      ]
     },
     "execution_count": 4,
     "metadata": {},
     "output_type": "execute_result"
    }
   ],
   "source": [
    "type(countryTree)"
   ]
  },
  {
   "cell_type": "markdown",
   "metadata": {},
   "source": [
    "![XML介紹](http://www.ukoln.ac.uk/metadata/dcmi/dc-elem-prop/image/Slide1.png)"
   ]
  },
  {
   "cell_type": "code",
   "execution_count": 5,
   "metadata": {},
   "outputs": [
    {
     "data": {
      "text/plain": [
       "('data', {}, '\\n    ')"
      ]
     },
     "execution_count": 5,
     "metadata": {},
     "output_type": "execute_result"
    }
   ],
   "source": [
    "countryTree.tag, countryTree.attrib, countryTree.text"
   ]
  },
  {
   "cell_type": "code",
   "execution_count": 6,
   "metadata": {},
   "outputs": [
    {
     "name": "stdout",
     "output_type": "stream",
     "text": [
      "country {'name': 'Liechtenstein'}\n",
      "country {'name': 'Singapore'}\n",
      "country {'name': 'Panama'}\n"
     ]
    }
   ],
   "source": [
    "# 每個 node 都可看成是一個內含若干 children 的 list\n",
    "for child in countryTree:\n",
    "    print(child.tag, child.attrib)"
   ]
  },
  {
   "cell_type": "code",
   "execution_count": 7,
   "metadata": {},
   "outputs": [
    {
     "name": "stdout",
     "output_type": "stream",
     "text": [
      "country {'name': 'Liechtenstein'}  \n",
      "        \n",
      "country {'name': 'Singapore'} \n",
      "        \n",
      "country {'name': 'Panama'} \n",
      "        \n"
     ]
    }
   ],
   "source": [
    "for child in countryTree:\n",
    "    print(child.tag, child.attrib, child.text)"
   ]
  },
  {
   "cell_type": "code",
   "execution_count": 8,
   "metadata": {},
   "outputs": [
    {
     "name": "stdout",
     "output_type": "stream",
     "text": [
      "Help on Element object:\n",
      "\n",
      "class Element(builtins.object)\n",
      " |  Methods defined here:\n",
      " |  \n",
      " |  __copy__(self, /)\n",
      " |  \n",
      " |  __deepcopy__(self, memo, /)\n",
      " |  \n",
      " |  __delitem__(self, key, /)\n",
      " |      Delete self[key].\n",
      " |  \n",
      " |  __getattribute__(self, name, /)\n",
      " |      Return getattr(self, name).\n",
      " |  \n",
      " |  __getitem__(self, key, /)\n",
      " |      Return self[key].\n",
      " |  \n",
      " |  __getstate__(self, /)\n",
      " |  \n",
      " |  __init__(self, /, *args, **kwargs)\n",
      " |      Initialize self.  See help(type(self)) for accurate signature.\n",
      " |  \n",
      " |  __len__(self, /)\n",
      " |      Return len(self).\n",
      " |  \n",
      " |  __repr__(self, /)\n",
      " |      Return repr(self).\n",
      " |  \n",
      " |  __setitem__(self, key, value, /)\n",
      " |      Set self[key] to value.\n",
      " |  \n",
      " |  __setstate__(self, state, /)\n",
      " |  \n",
      " |  __sizeof__(self, /)\n",
      " |      Size of object in memory, in bytes.\n",
      " |  \n",
      " |  append(self, subelement, /)\n",
      " |  \n",
      " |  clear(self, /)\n",
      " |  \n",
      " |  extend(self, elements, /)\n",
      " |  \n",
      " |  find(self, /, path, namespaces=None)\n",
      " |  \n",
      " |  findall(self, /, path, namespaces=None)\n",
      " |  \n",
      " |  findtext(self, /, path, default=None, namespaces=None)\n",
      " |  \n",
      " |  get(self, /, key, default=None)\n",
      " |  \n",
      " |  getchildren(self, /)\n",
      " |  \n",
      " |  getiterator(self, /, tag=None)\n",
      " |  \n",
      " |  insert(self, index, subelement, /)\n",
      " |  \n",
      " |  items(self, /)\n",
      " |  \n",
      " |  iter(self, /, tag=None)\n",
      " |  \n",
      " |  iterfind(self, /, path, namespaces=None)\n",
      " |  \n",
      " |  itertext(self, /)\n",
      " |  \n",
      " |  keys(self, /)\n",
      " |  \n",
      " |  makeelement(self, tag, attrib, /)\n",
      " |  \n",
      " |  remove(self, subelement, /)\n",
      " |  \n",
      " |  set(self, key, value, /)\n",
      " |  \n",
      " |  ----------------------------------------------------------------------\n",
      " |  Static methods defined here:\n",
      " |  \n",
      " |  __new__(*args, **kwargs) from builtins.type\n",
      " |      Create and return a new object.  See help(type) for accurate signature.\n",
      " |  \n",
      " |  ----------------------------------------------------------------------\n",
      " |  Data descriptors defined here:\n",
      " |  \n",
      " |  attrib\n",
      " |      A dictionary containing the element's attributes\n",
      " |  \n",
      " |  tag\n",
      " |      A string identifying what kind of data this element represents\n",
      " |  \n",
      " |  tail\n",
      " |      A string of text directly after the end tag, or None\n",
      " |  \n",
      " |  text\n",
      " |      A string of text directly after the start tag, or None\n",
      "\n"
     ]
    }
   ],
   "source": [
    "help(countryTree)"
   ]
  },
  {
   "cell_type": "code",
   "execution_count": 9,
   "metadata": {},
   "outputs": [
    {
     "name": "stdout",
     "output_type": "stream",
     "text": [
      "neighbor {'name': 'Austria', 'direction': 'E'}\n",
      "neighbor {'name': 'Switzerland', 'direction': 'W'}\n",
      "neighbor {'name': 'Malaysia', 'direction': 'N'}\n",
      "neighbor {'name': 'Costa Rica', 'direction': 'W'}\n",
      "neighbor {'name': 'Colombia', 'direction': 'E'}\n"
     ]
    }
   ],
   "source": [
    "# 這個 element 中所有有 \"neighbor\" tag 的 lelement\n",
    "for neighbor in countryTree.iter('neighbor'):\n",
    "    print(neighbor.tag, neighbor.attrib)"
   ]
  },
  {
   "cell_type": "code",
   "execution_count": 13,
   "metadata": {},
   "outputs": [
    {
     "name": "stdout",
     "output_type": "stream",
     "text": [
      "<class 'dict'>\n",
      "<class 'dict'>\n",
      "<class 'dict'>\n",
      "<class 'dict'>\n",
      "<class 'dict'>\n"
     ]
    }
   ],
   "source": [
    "# 這個 element 中所有有 \"neighbor\" tag 的 lelement\n",
    "for neighbor in countryTree.iter('neighbor'):\n",
    "    print(type(neighbor.attrib))"
   ]
  },
  {
   "cell_type": "code",
   "execution_count": 10,
   "metadata": {},
   "outputs": [
    {
     "name": "stdout",
     "output_type": "stream",
     "text": [
      "Austria\n",
      "Switzerland\n",
      "Malaysia\n",
      "Costa Rica\n",
      "Colombia\n"
     ]
    }
   ],
   "source": [
    "# 直接就取 attribute 中對應 name 的 value\n",
    "for neighbor in countryTree.iter('neighbor'):\n",
    "    print(neighbor.get(\"name\"))"
   ]
  },
  {
   "cell_type": "code",
   "execution_count": 14,
   "metadata": {},
   "outputs": [
    {
     "data": {
      "text/plain": [
       "<Element 'data' at 0x0000021EE016D098>"
      ]
     },
     "execution_count": 14,
     "metadata": {},
     "output_type": "execute_result"
    }
   ],
   "source": [
    "countryTree"
   ]
  },
  {
   "cell_type": "code",
   "execution_count": 15,
   "metadata": {},
   "outputs": [
    {
     "name": "stdout",
     "output_type": "stream",
     "text": [
      "<data>\n",
      "    <country name=\"Liechtenstein\"> \n",
      "        <rank>1</rank>\n",
      "        <year>2008</year>\n",
      "        <gdppc>141100</gdppc>\n",
      "        <neighbor direction=\"E\" name=\"Austria\" />\n",
      "        <neighbor direction=\"W\" name=\"Switzerland\" />\n",
      "    </country>\n",
      "    <country name=\"Singapore\">\n",
      "        <rank>4</rank>\n",
      "        <year>2011</year>\n",
      "        <gdppc>59900</gdppc>\n",
      "        <neighbor direction=\"N\" name=\"Malaysia\" />\n",
      "    </country>\n",
      "    <country name=\"Panama\">\n",
      "        <rank>68</rank>\n",
      "        <year>2011</year>\n",
      "        <gdppc>13600</gdppc>\n",
      "        <neighbor direction=\"W\" name=\"Costa Rica\" />\n",
      "        <neighbor direction=\"E\" name=\"Colombia\" />\n",
      "    </country>\n",
      "</data>\n"
     ]
    }
   ],
   "source": [
    "# 將 element 印出來\n",
    "ET.dump(countryTree)"
   ]
  },
  {
   "cell_type": "code",
   "execution_count": 16,
   "metadata": {},
   "outputs": [
    {
     "data": {
      "text/plain": [
       "<Element 'country' at 0x0000021EE016D048>"
      ]
     },
     "execution_count": 16,
     "metadata": {},
     "output_type": "execute_result"
    }
   ],
   "source": [
    "# 找到以 country 為 tag 的『第一筆』資料，為一個 element，而不是 lisst\n",
    "countryTree.find(\"country\")  "
   ]
  },
  {
   "cell_type": "code",
   "execution_count": 17,
   "metadata": {},
   "outputs": [
    {
     "name": "stdout",
     "output_type": "stream",
     "text": [
      "<country name=\"Liechtenstein\"> \n",
      "        <rank>1</rank>\n",
      "        <year>2008</year>\n",
      "        <gdppc>141100</gdppc>\n",
      "        <neighbor direction=\"E\" name=\"Austria\" />\n",
      "        <neighbor direction=\"W\" name=\"Switzerland\" />\n",
      "    </country>\n",
      "    \n"
     ]
    }
   ],
   "source": [
    "ET.dump(countryTree.find(\"country\") )"
   ]
  },
  {
   "cell_type": "code",
   "execution_count": 18,
   "metadata": {},
   "outputs": [
    {
     "data": {
      "text/plain": [
       "[<Element 'country' at 0x0000021EE016D048>,\n",
       " <Element 'country' at 0x0000021EE016D548>,\n",
       " <Element 'country' at 0x0000021EE016D6D8>]"
      ]
     },
     "execution_count": 18,
     "metadata": {},
     "output_type": "execute_result"
    }
   ],
   "source": [
    "# 在整個 element 中找出有 tag 為 'country' 的 element\n",
    "# 結果為一個　list\n",
    "countryTree.findall('country')"
   ]
  },
  {
   "cell_type": "code",
   "execution_count": 19,
   "metadata": {},
   "outputs": [
    {
     "data": {
      "text/plain": [
       "list"
      ]
     },
     "execution_count": 19,
     "metadata": {},
     "output_type": "execute_result"
    }
   ],
   "source": [
    "type(countryTree.findall('country'))"
   ]
  },
  {
   "cell_type": "code",
   "execution_count": 20,
   "metadata": {},
   "outputs": [
    {
     "data": {
      "text/plain": [
       "' \\n        '"
      ]
     },
     "execution_count": 20,
     "metadata": {},
     "output_type": "execute_result"
    }
   ],
   "source": [
    "# 找到以 country 為 tag 的資料\n",
    "countryTree.find(\"country\").text  "
   ]
  },
  {
   "cell_type": "code",
   "execution_count": 21,
   "metadata": {},
   "outputs": [
    {
     "data": {
      "text/plain": [
       "{'name': 'Liechtenstein'}"
      ]
     },
     "execution_count": 21,
     "metadata": {},
     "output_type": "execute_result"
    }
   ],
   "source": [
    "# 找到以 country 為 tag 的資料\n",
    "countryTree.find(\"country\").attrib"
   ]
  },
  {
   "cell_type": "code",
   "execution_count": 22,
   "metadata": {},
   "outputs": [
    {
     "data": {
      "text/plain": [
       "dict"
      ]
     },
     "execution_count": 22,
     "metadata": {},
     "output_type": "execute_result"
    }
   ],
   "source": [
    "# 其實它就是一個 python 的 dictionary\n",
    "type(countryTree.find(\"country\").attrib)"
   ]
  },
  {
   "cell_type": "code",
   "execution_count": 23,
   "metadata": {},
   "outputs": [
    {
     "data": {
      "text/plain": [
       "'Liechtenstein'"
      ]
     },
     "execution_count": 23,
     "metadata": {},
     "output_type": "execute_result"
    }
   ],
   "source": [
    "# 找到以 country 為 tag 且 attribute 為 \"name\" 的 value\n",
    "countryTree.find('country').get(\"name\")  "
   ]
  },
  {
   "cell_type": "code",
   "execution_count": 24,
   "metadata": {},
   "outputs": [
    {
     "name": "stdout",
     "output_type": "stream",
     "text": [
      "Liechtenstein 1\n",
      "Singapore 4\n",
      "Panama 68\n"
     ]
    }
   ],
   "source": [
    "for country in countryTree.findall('country'):\n",
    "    rank = country.find('rank').text\n",
    "    name = country.get('name')\n",
    "    print(name, rank)"
   ]
  },
  {
   "cell_type": "markdown",
   "metadata": {},
   "source": [
    "## 我們來分析一下從 openweathermap 拿下來的 xml 檔"
   ]
  },
  {
   "cell_type": "code",
   "execution_count": 25,
   "metadata": {},
   "outputs": [],
   "source": [
    "import xml.etree.ElementTree as ET\n",
    "import urllib\n",
    "url = 'http://api.openweathermap.org/data/2.5/forecast?q=Taipei,TW&mode=xml&appid=d1deefb25fb63cf70eea21a43dad94f7'"
   ]
  },
  {
   "cell_type": "markdown",
   "metadata": {},
   "source": [
    "### XML viewer\n",
    "https://codebeautify.org/xmlviewer\n",
    "\n",
    "http://api.openweathermap.org/data/2.5/forecast?q=Taipei,TW&mode=xml&appid=d1deefb25fb63cf70eea21a43dad94f7"
   ]
  },
  {
   "cell_type": "code",
   "execution_count": 26,
   "metadata": {},
   "outputs": [],
   "source": [
    "response = urllib.request.urlopen(url)\n",
    "xml_response = response.read()\n",
    "# xml_response"
   ]
  },
  {
   "cell_type": "code",
   "execution_count": 27,
   "metadata": {},
   "outputs": [
    {
     "data": {
      "text/plain": [
       "bytes"
      ]
     },
     "execution_count": 27,
     "metadata": {},
     "output_type": "execute_result"
    }
   ],
   "source": [
    "type(xml_response)"
   ]
  },
  {
   "cell_type": "code",
   "execution_count": 28,
   "metadata": {},
   "outputs": [],
   "source": [
    "weatherXML = ET.fromstring(xml_response)"
   ]
  },
  {
   "cell_type": "code",
   "execution_count": 29,
   "metadata": {},
   "outputs": [
    {
     "data": {
      "text/plain": [
       "xml.etree.ElementTree.Element"
      ]
     },
     "execution_count": 29,
     "metadata": {},
     "output_type": "execute_result"
    }
   ],
   "source": [
    "type(weatherXML)"
   ]
  },
  {
   "cell_type": "code",
   "execution_count": 30,
   "metadata": {
    "collapsed": true
   },
   "outputs": [
    {
     "name": "stdout",
     "output_type": "stream",
     "text": [
      "<weatherdata><location><name>Taipei</name><type /><country>TW</country><timezone>28800</timezone><location altitude=\"0\" geobase=\"geonames\" geobaseid=\"1668341\" latitude=\"25.0478\" longitude=\"121.5319\" /></location><credit /><meta><lastupdate /><calctime>0</calctime><nextupdate /></meta><sun rise=\"2020-12-13T22:30:49\" set=\"2020-12-14T09:06:26\" /><forecast><time from=\"2020-12-14T00:00:00\" to=\"2020-12-14T03:00:00\"><symbol name=\"light rain\" number=\"500\" var=\"10d\" /><precipitation probability=\"0.72\" type=\"rain\" unit=\"3h\" value=\"0.64\" /><windDirection code=\"NE\" deg=\"54\" name=\"NorthEast\" /><windSpeed mps=\"5.46\" name=\"Gentle Breeze\" unit=\"m/s\" /><temperature max=\"290.33\" min=\"289.88\" unit=\"kelvin\" value=\"290.33\" /><feels_like unit=\"kelvin\" value=\"287.67\" /><pressure unit=\"hPa\" value=\"1021\" /><humidity unit=\"%\" value=\"80\" /><clouds all=\"87\" unit=\"%\" value=\"overcast clouds\" /><visibility value=\"10000\" /></time><time from=\"2020-12-14T03:00:00\" to=\"2020-12-14T06:00:00\"><symbol name=\"light rain\" number=\"500\" var=\"10d\" /><precipitation probability=\"0.76\" type=\"rain\" unit=\"3h\" value=\"1.58\" /><windDirection code=\"NE\" deg=\"46\" name=\"NorthEast\" /><windSpeed mps=\"5.64\" name=\"Moderate breeze\" unit=\"m/s\" /><temperature max=\"289.57\" min=\"289.24\" unit=\"kelvin\" value=\"289.57\" /><feels_like unit=\"kelvin\" value=\"286.54\" /><pressure unit=\"hPa\" value=\"1020\" /><humidity unit=\"%\" value=\"80\" /><clouds all=\"95\" unit=\"%\" value=\"overcast clouds\" /><visibility value=\"10000\" /></time><time from=\"2020-12-14T06:00:00\" to=\"2020-12-14T09:00:00\"><symbol name=\"light rain\" number=\"500\" var=\"10d\" /><precipitation probability=\"0.79\" type=\"rain\" unit=\"3h\" value=\"1.25\" /><windDirection code=\"NE\" deg=\"42\" name=\"NorthEast\" /><windSpeed mps=\"5.47\" name=\"Gentle Breeze\" unit=\"m/s\" /><temperature max=\"289.17\" min=\"289.06\" unit=\"kelvin\" value=\"289.17\" /><feels_like unit=\"kelvin\" value=\"286.2\" /><pressure unit=\"hPa\" value=\"1022\" /><humidity unit=\"%\" value=\"81\" /><clouds all=\"98\" unit=\"%\" value=\"overcast clouds\" /><visibility value=\"10000\" /></time><time from=\"2020-12-14T09:00:00\" to=\"2020-12-14T12:00:00\"><symbol name=\"light rain\" number=\"500\" var=\"10n\" /><precipitation probability=\"0.76\" type=\"rain\" unit=\"3h\" value=\"2\" /><windDirection code=\"NE\" deg=\"47\" name=\"NorthEast\" /><windSpeed mps=\"5.53\" name=\"Moderate breeze\" unit=\"m/s\" /><temperature max=\"288.46\" min=\"288.44\" unit=\"kelvin\" value=\"288.46\" /><feels_like unit=\"kelvin\" value=\"285.17\" /><pressure unit=\"hPa\" value=\"1024\" /><humidity unit=\"%\" value=\"80\" /><clouds all=\"100\" unit=\"%\" value=\"overcast clouds\" /><visibility value=\"10000\" /></time><time from=\"2020-12-14T12:00:00\" to=\"2020-12-14T15:00:00\"><symbol name=\"light rain\" number=\"500\" var=\"10n\" /><precipitation probability=\"0.76\" type=\"rain\" unit=\"3h\" value=\"1.3\" /><windDirection code=\"ENE\" deg=\"57\" name=\"East-northeast\" /><windSpeed mps=\"5.05\" name=\"Gentle Breeze\" unit=\"m/s\" /><temperature max=\"288.83\" min=\"288.83\" unit=\"kelvin\" value=\"288.83\" /><feels_like unit=\"kelvin\" value=\"286.11\" /><pressure unit=\"hPa\" value=\"1024\" /><humidity unit=\"%\" value=\"82\" /><clouds all=\"100\" unit=\"%\" value=\"overcast clouds\" /><visibility value=\"10000\" /></time><time from=\"2020-12-14T15:00:00\" to=\"2020-12-14T18:00:00\"><symbol name=\"light rain\" number=\"500\" var=\"10n\" /><precipitation probability=\"0.83\" type=\"rain\" unit=\"3h\" value=\"1.84\" /><windDirection code=\"NE\" deg=\"50\" name=\"NorthEast\" /><windSpeed mps=\"5.16\" name=\"Gentle Breeze\" unit=\"m/s\" /><temperature max=\"288.79\" min=\"288.79\" unit=\"kelvin\" value=\"288.79\" /><feels_like unit=\"kelvin\" value=\"285.98\" /><pressure unit=\"hPa\" value=\"1024\" /><humidity unit=\"%\" value=\"82\" /><clouds all=\"100\" unit=\"%\" value=\"overcast clouds\" /><visibility value=\"10000\" /></time><time from=\"2020-12-14T18:00:00\" to=\"2020-12-14T21:00:00\"><symbol name=\"light rain\" number=\"500\" var=\"10n\" /><precipitation probability=\"0.83\" type=\"rain\" unit=\"3h\" value=\"2.05\" /><windDirection code=\"NE\" deg=\"49\" name=\"NorthEast\" /><windSpeed mps=\"4.94\" name=\"Gentle Breeze\" unit=\"m/s\" /><temperature max=\"288.74\" min=\"288.74\" unit=\"kelvin\" value=\"288.74\" /><feels_like unit=\"kelvin\" value=\"286.06\" /><pressure unit=\"hPa\" value=\"1024\" /><humidity unit=\"%\" value=\"82\" /><clouds all=\"100\" unit=\"%\" value=\"overcast clouds\" /><visibility value=\"10000\" /></time><time from=\"2020-12-14T21:00:00\" to=\"2020-12-15T00:00:00\"><symbol name=\"light rain\" number=\"500\" var=\"10d\" /><precipitation probability=\"0.83\" type=\"rain\" unit=\"3h\" value=\"1.67\" /><windDirection code=\"ENE\" deg=\"60\" name=\"East-northeast\" /><windSpeed mps=\"4.98\" name=\"Gentle Breeze\" unit=\"m/s\" /><temperature max=\"288.89\" min=\"288.89\" unit=\"kelvin\" value=\"288.89\" /><feels_like unit=\"kelvin\" value=\"286.23\" /><pressure unit=\"hPa\" value=\"1025\" /><humidity unit=\"%\" value=\"82\" /><clouds all=\"100\" unit=\"%\" value=\"overcast clouds\" /><visibility value=\"10000\" /></time><time from=\"2020-12-15T00:00:00\" to=\"2020-12-15T03:00:00\"><symbol name=\"light rain\" number=\"500\" var=\"10d\" /><precipitation probability=\"0.79\" type=\"rain\" unit=\"3h\" value=\"0.64\" /><windDirection code=\"ENE\" deg=\"59\" name=\"East-northeast\" /><windSpeed mps=\"4.96\" name=\"Gentle Breeze\" unit=\"m/s\" /><temperature max=\"289.45\" min=\"289.45\" unit=\"kelvin\" value=\"289.45\" /><feels_like unit=\"kelvin\" value=\"286.86\" /><pressure unit=\"hPa\" value=\"1025\" /><humidity unit=\"%\" value=\"80\" /><clouds all=\"100\" unit=\"%\" value=\"overcast clouds\" /><visibility value=\"10000\" /></time><time from=\"2020-12-15T03:00:00\" to=\"2020-12-15T06:00:00\"><symbol name=\"light rain\" number=\"500\" var=\"10d\" /><precipitation probability=\"0.79\" type=\"rain\" unit=\"3h\" value=\"0.75\" /><windDirection code=\"NE\" deg=\"53\" name=\"NorthEast\" /><windSpeed mps=\"4.74\" name=\"Gentle Breeze\" unit=\"m/s\" /><temperature max=\"289.35\" min=\"289.35\" unit=\"kelvin\" value=\"289.35\" /><feels_like unit=\"kelvin\" value=\"286.94\" /><pressure unit=\"hPa\" value=\"1023\" /><humidity unit=\"%\" value=\"81\" /><clouds all=\"100\" unit=\"%\" value=\"overcast clouds\" /><visibility value=\"10000\" /></time><time from=\"2020-12-15T06:00:00\" to=\"2020-12-15T09:00:00\"><symbol name=\"light rain\" number=\"500\" var=\"10d\" /><precipitation probability=\"0.79\" type=\"rain\" unit=\"3h\" value=\"1.05\" /><windDirection code=\"NE\" deg=\"54\" name=\"NorthEast\" /><windSpeed mps=\"5.25\" name=\"Gentle Breeze\" unit=\"m/s\" /><temperature max=\"289.39\" min=\"289.39\" unit=\"kelvin\" value=\"289.39\" /><feels_like unit=\"kelvin\" value=\"286.7\" /><pressure unit=\"hPa\" value=\"1023\" /><humidity unit=\"%\" value=\"82\" /><clouds all=\"100\" unit=\"%\" value=\"overcast clouds\" /><visibility value=\"10000\" /></time><time from=\"2020-12-15T09:00:00\" to=\"2020-12-15T12:00:00\"><symbol name=\"light rain\" number=\"500\" var=\"10n\" /><precipitation probability=\"0.79\" type=\"rain\" unit=\"3h\" value=\"1.36\" /><windDirection code=\"ENE\" deg=\"62\" name=\"East-northeast\" /><windSpeed mps=\"5.29\" name=\"Gentle Breeze\" unit=\"m/s\" /><temperature max=\"289.5\" min=\"289.5\" unit=\"kelvin\" value=\"289.5\" /><feels_like unit=\"kelvin\" value=\"286.82\" /><pressure unit=\"hPa\" value=\"1025\" /><humidity unit=\"%\" value=\"82\" /><clouds all=\"100\" unit=\"%\" value=\"overcast clouds\" /><visibility value=\"10000\" /></time><time from=\"2020-12-15T12:00:00\" to=\"2020-12-15T15:00:00\"><symbol name=\"light rain\" number=\"500\" var=\"10n\" /><precipitation probability=\"0.79\" type=\"rain\" unit=\"3h\" value=\"1.03\" /><windDirection code=\"ENE\" deg=\"62\" name=\"East-northeast\" /><windSpeed mps=\"5.12\" name=\"Gentle Breeze\" unit=\"m/s\" /><temperature max=\"289.49\" min=\"289.49\" unit=\"kelvin\" value=\"289.49\" /><feels_like unit=\"kelvin\" value=\"286.98\" /><pressure unit=\"hPa\" value=\"1025\" /><humidity unit=\"%\" value=\"83\" /><clouds all=\"100\" unit=\"%\" value=\"overcast clouds\" /><visibility value=\"10000\" /></time><time from=\"2020-12-15T15:00:00\" to=\"2020-12-15T18:00:00\"><symbol name=\"light rain\" number=\"500\" var=\"10n\" /><precipitation probability=\"0.82\" type=\"rain\" unit=\"3h\" value=\"1.57\" /><windDirection code=\"ENE\" deg=\"59\" name=\"East-northeast\" /><windSpeed mps=\"4.99\" name=\"Gentle Breeze\" unit=\"m/s\" /><temperature max=\"289.28\" min=\"289.28\" unit=\"kelvin\" value=\"289.28\" /><feels_like unit=\"kelvin\" value=\"286.86\" /><pressure unit=\"hPa\" value=\"1024\" /><humidity unit=\"%\" value=\"84\" /><clouds all=\"100\" unit=\"%\" value=\"overcast clouds\" /><visibility value=\"10000\" /></time><time from=\"2020-12-15T18:00:00\" to=\"2020-12-15T21:00:00\"><symbol name=\"moderate rain\" number=\"501\" var=\"10n\" /><precipitation probability=\"0.83\" type=\"rain\" unit=\"3h\" value=\"3.27\" /><windDirection code=\"NE\" deg=\"49\" name=\"NorthEast\" /><windSpeed mps=\"4.82\" name=\"Gentle Breeze\" unit=\"m/s\" /><temperature max=\"289.06\" min=\"289.06\" unit=\"kelvin\" value=\"289.06\" /><feels_like unit=\"kelvin\" value=\"286.75\" /><pressure unit=\"hPa\" value=\"1024\" /><humidity unit=\"%\" value=\"85\" /><clouds all=\"100\" unit=\"%\" value=\"overcast clouds\" /><visibility value=\"7070\" /></time><time from=\"2020-12-15T21:00:00\" to=\"2020-12-16T00:00:00\"><symbol name=\"light rain\" number=\"500\" var=\"10d\" /><precipitation probability=\"0.86\" type=\"rain\" unit=\"3h\" value=\"2.8\" /><windDirection code=\"NE\" deg=\"54\" name=\"NorthEast\" /><windSpeed mps=\"5.73\" name=\"Moderate breeze\" unit=\"m/s\" /><temperature max=\"288.96\" min=\"288.96\" unit=\"kelvin\" value=\"288.96\" /><feels_like unit=\"kelvin\" value=\"285.86\" /><pressure unit=\"hPa\" value=\"1026\" /><humidity unit=\"%\" value=\"83\" /><clouds all=\"100\" unit=\"%\" value=\"overcast clouds\" /><visibility value=\"10000\" /></time><time from=\"2020-12-16T00:00:00\" to=\"2020-12-16T03:00:00\"><symbol name=\"light rain\" number=\"500\" var=\"10d\" /><precipitation probability=\"0.79\" type=\"rain\" unit=\"3h\" value=\"1.36\" /><windDirection code=\"ENE\" deg=\"58\" name=\"East-northeast\" /><windSpeed mps=\"5.66\" name=\"Moderate breeze\" unit=\"m/s\" /><temperature max=\"289.26\" min=\"289.26\" unit=\"kelvin\" value=\"289.26\" /><feels_like unit=\"kelvin\" value=\"286.18\" /><pressure unit=\"hPa\" value=\"1026\" /><humidity unit=\"%\" value=\"81\" /><clouds all=\"100\" unit=\"%\" value=\"overcast clouds\" /><visibility value=\"10000\" /></time><time from=\"2020-12-16T03:00:00\" to=\"2020-12-16T06:00:00\"><symbol name=\"light rain\" number=\"500\" var=\"10d\" /><precipitation probability=\"0.79\" type=\"rain\" unit=\"3h\" value=\"0.98\" /><windDirection code=\"NE\" deg=\"55\" name=\"NorthEast\" /><windSpeed mps=\"5.32\" name=\"Gentle Breeze\" unit=\"m/s\" /><temperature max=\"289.56\" min=\"289.56\" unit=\"kelvin\" value=\"289.56\" /><feels_like unit=\"kelvin\" value=\"286.69\" /><pressure unit=\"hPa\" value=\"1024\" /><humidity unit=\"%\" value=\"79\" /><clouds all=\"99\" unit=\"%\" value=\"overcast clouds\" /><visibility value=\"10000\" /></time><time from=\"2020-12-16T06:00:00\" to=\"2020-12-16T09:00:00\"><symbol name=\"light rain\" number=\"500\" var=\"10d\" /><precipitation probability=\"0.75\" type=\"rain\" unit=\"3h\" value=\"0.94\" /><windDirection code=\"ENE\" deg=\"61\" name=\"East-northeast\" /><windSpeed mps=\"5.32\" name=\"Gentle Breeze\" unit=\"m/s\" /><temperature max=\"289.16\" min=\"289.16\" unit=\"kelvin\" value=\"289.16\" /><feels_like unit=\"kelvin\" value=\"286.29\" /><pressure unit=\"hPa\" value=\"1024\" /><humidity unit=\"%\" value=\"81\" /><clouds all=\"100\" unit=\"%\" value=\"overcast clouds\" /><visibility value=\"10000\" /></time><time from=\"2020-12-16T09:00:00\" to=\"2020-12-16T12:00:00\"><symbol name=\"light rain\" number=\"500\" var=\"10n\" /><precipitation probability=\"0.75\" type=\"rain\" unit=\"3h\" value=\"0.92\" /><windDirection code=\"ENE\" deg=\"65\" name=\"East-northeast\" /><windSpeed mps=\"5.83\" name=\"Moderate breeze\" unit=\"m/s\" /><temperature max=\"289.05\" min=\"289.05\" unit=\"kelvin\" value=\"289.05\" /><feels_like unit=\"kelvin\" value=\"285.79\" /><pressure unit=\"hPa\" value=\"1025\" /><humidity unit=\"%\" value=\"81\" /><clouds all=\"100\" unit=\"%\" value=\"overcast clouds\" /><visibility value=\"10000\" /></time><time from=\"2020-12-16T12:00:00\" to=\"2020-12-16T15:00:00\"><symbol name=\"light rain\" number=\"500\" var=\"10n\" /><precipitation probability=\"0.75\" type=\"rain\" unit=\"3h\" value=\"1.19\" /><windDirection code=\"ENE\" deg=\"67\" name=\"East-northeast\" /><windSpeed mps=\"5.18\" name=\"Gentle Breeze\" unit=\"m/s\" /><temperature max=\"288.94\" min=\"288.94\" unit=\"kelvin\" value=\"288.94\" /><feels_like unit=\"kelvin\" value=\"286.1\" /><pressure unit=\"hPa\" value=\"1025\" /><humidity unit=\"%\" value=\"81\" /><clouds all=\"100\" unit=\"%\" value=\"overcast clouds\" /><visibility value=\"10000\" /></time><time from=\"2020-12-16T15:00:00\" to=\"2020-12-16T18:00:00\"><symbol name=\"light rain\" number=\"500\" var=\"10n\" /><precipitation probability=\"0.79\" type=\"rain\" unit=\"3h\" value=\"1.19\" /><windDirection code=\"ENE\" deg=\"70\" name=\"East-northeast\" /><windSpeed mps=\"4.92\" name=\"Gentle Breeze\" unit=\"m/s\" /><temperature max=\"288.85\" min=\"288.85\" unit=\"kelvin\" value=\"288.85\" /><feels_like unit=\"kelvin\" value=\"286.16\" /><pressure unit=\"hPa\" value=\"1024\" /><humidity unit=\"%\" value=\"81\" /><clouds all=\"100\" unit=\"%\" value=\"overcast clouds\" /><visibility value=\"10000\" /></time><time from=\"2020-12-16T18:00:00\" to=\"2020-12-16T21:00:00\"><symbol name=\"light rain\" number=\"500\" var=\"10n\" /><precipitation probability=\"0.83\" type=\"rain\" unit=\"3h\" value=\"2.63\" /><windDirection code=\"ENE\" deg=\"59\" name=\"East-northeast\" /><windSpeed mps=\"5.23\" name=\"Gentle Breeze\" unit=\"m/s\" /><temperature max=\"288.96\" min=\"288.96\" unit=\"kelvin\" value=\"288.96\" /><feels_like unit=\"kelvin\" value=\"286.27\" /><pressure unit=\"hPa\" value=\"1024\" /><humidity unit=\"%\" value=\"84\" /><clouds all=\"100\" unit=\"%\" value=\"overcast clouds\" /><visibility value=\"10000\" /></time><time from=\"2020-12-16T21:00:00\" to=\"2020-12-17T00:00:00\"><symbol name=\"light rain\" number=\"500\" var=\"10d\" /><precipitation probability=\"0.79\" type=\"rain\" unit=\"3h\" value=\"1.89\" /><windDirection code=\"ENE\" deg=\"67\" name=\"East-northeast\" /><windSpeed mps=\"4.8\" name=\"Gentle Breeze\" unit=\"m/s\" /><temperature max=\"289.16\" min=\"289.16\" unit=\"kelvin\" value=\"289.16\" /><feels_like unit=\"kelvin\" value=\"286.71\" /><pressure unit=\"hPa\" value=\"1025\" /><humidity unit=\"%\" value=\"82\" /><clouds all=\"100\" unit=\"%\" value=\"overcast clouds\" /><visibility value=\"10000\" /></time><time from=\"2020-12-17T00:00:00\" to=\"2020-12-17T03:00:00\"><symbol name=\"light rain\" number=\"500\" var=\"10d\" /><precipitation probability=\"0.75\" type=\"rain\" unit=\"3h\" value=\"1.48\" /><windDirection code=\"ENE\" deg=\"63\" name=\"East-northeast\" /><windSpeed mps=\"5.03\" name=\"Gentle Breeze\" unit=\"m/s\" /><temperature max=\"289.34\" min=\"289.34\" unit=\"kelvin\" value=\"289.34\" /><feels_like unit=\"kelvin\" value=\"286.85\" /><pressure unit=\"hPa\" value=\"1025\" /><humidity unit=\"%\" value=\"83\" /><clouds all=\"100\" unit=\"%\" value=\"overcast clouds\" /><visibility value=\"10000\" /></time><time from=\"2020-12-17T03:00:00\" to=\"2020-12-17T06:00:00\"><symbol name=\"light rain\" number=\"500\" var=\"10d\" /><precipitation probability=\"0.75\" type=\"rain\" unit=\"3h\" value=\"1.46\" /><windDirection code=\"ENE\" deg=\"69\" name=\"East-northeast\" /><windSpeed mps=\"5.17\" name=\"Gentle Breeze\" unit=\"m/s\" /><temperature max=\"289.28\" min=\"289.28\" unit=\"kelvin\" value=\"289.28\" /><feels_like unit=\"kelvin\" value=\"286.61\" /><pressure unit=\"hPa\" value=\"1023\" /><humidity unit=\"%\" value=\"82\" /><clouds all=\"100\" unit=\"%\" value=\"overcast clouds\" /><visibility value=\"10000\" /></time><time from=\"2020-12-17T06:00:00\" to=\"2020-12-17T09:00:00\"><symbol name=\"light rain\" number=\"500\" var=\"10d\" /><precipitation probability=\"0.47\" type=\"rain\" unit=\"3h\" value=\"0.47\" /><windDirection code=\"ENE\" deg=\"72\" name=\"East-northeast\" /><windSpeed mps=\"4.84\" name=\"Gentle Breeze\" unit=\"m/s\" /><temperature max=\"289.46\" min=\"289.46\" unit=\"kelvin\" value=\"289.46\" /><feels_like unit=\"kelvin\" value=\"286.96\" /><pressure unit=\"hPa\" value=\"1023\" /><humidity unit=\"%\" value=\"80\" /><clouds all=\"100\" unit=\"%\" value=\"overcast clouds\" /><visibility value=\"10000\" /></time><time from=\"2020-12-17T09:00:00\" to=\"2020-12-17T12:00:00\"><symbol name=\"light rain\" number=\"500\" var=\"10n\" /><precipitation probability=\"0.57\" type=\"rain\" unit=\"3h\" value=\"0.23\" /><windDirection code=\"E\" deg=\"81\" name=\"East\" /><windSpeed mps=\"4.39\" name=\"Gentle Breeze\" unit=\"m/s\" /><temperature max=\"289.86\" min=\"289.86\" unit=\"kelvin\" value=\"289.86\" /><feels_like unit=\"kelvin\" value=\"287.74\" /><pressure unit=\"hPa\" value=\"1024\" /><humidity unit=\"%\" value=\"79\" /><clouds all=\"100\" unit=\"%\" value=\"overcast clouds\" /><visibility value=\"10000\" /></time><time from=\"2020-12-17T12:00:00\" to=\"2020-12-17T15:00:00\"><symbol name=\"light rain\" number=\"500\" var=\"10n\" /><precipitation probability=\"0.56\" type=\"rain\" unit=\"3h\" value=\"0.3\" /><windDirection code=\"E\" deg=\"85\" name=\"East\" /><windSpeed mps=\"4.55\" name=\"Gentle Breeze\" unit=\"m/s\" /><temperature max=\"290.13\" min=\"290.13\" unit=\"kelvin\" value=\"290.13\" /><feels_like unit=\"kelvin\" value=\"288.11\" /><pressure unit=\"hPa\" value=\"1024\" /><humidity unit=\"%\" value=\"81\" /><clouds all=\"88\" unit=\"%\" value=\"overcast clouds\" /><visibility value=\"10000\" /></time><time from=\"2020-12-17T15:00:00\" to=\"2020-12-17T18:00:00\"><symbol name=\"light rain\" number=\"500\" var=\"10n\" /><precipitation probability=\"0.64\" type=\"rain\" unit=\"3h\" value=\"0.64\" /><windDirection code=\"E\" deg=\"83\" name=\"East\" /><windSpeed mps=\"4.71\" name=\"Gentle Breeze\" unit=\"m/s\" /><temperature max=\"290.38\" min=\"290.38\" unit=\"kelvin\" value=\"290.38\" /><feels_like unit=\"kelvin\" value=\"288.52\" /><pressure unit=\"hPa\" value=\"1023\" /><humidity unit=\"%\" value=\"84\" /><clouds all=\"93\" unit=\"%\" value=\"overcast clouds\" /><visibility value=\"10000\" /></time><time from=\"2020-12-17T18:00:00\" to=\"2020-12-17T21:00:00\"><symbol name=\"light rain\" number=\"500\" var=\"10n\" /><precipitation probability=\"0.68\" type=\"rain\" unit=\"3h\" value=\"1.92\" /><windDirection code=\"ENE\" deg=\"74\" name=\"East-northeast\" /><windSpeed mps=\"5.17\" name=\"Gentle Breeze\" unit=\"m/s\" /><temperature max=\"290.69\" min=\"290.69\" unit=\"kelvin\" value=\"290.69\" /><feels_like unit=\"kelvin\" value=\"288.75\" /><pressure unit=\"hPa\" value=\"1022\" /><humidity unit=\"%\" value=\"86\" /><clouds all=\"100\" unit=\"%\" value=\"overcast clouds\" /><visibility value=\"10000\" /></time><time from=\"2020-12-17T21:00:00\" to=\"2020-12-18T00:00:00\"><symbol name=\"light rain\" number=\"500\" var=\"10d\" /><precipitation probability=\"0.75\" type=\"rain\" unit=\"3h\" value=\"2.62\" /><windDirection code=\"E\" deg=\"79\" name=\"East\" /><windSpeed mps=\"5.32\" name=\"Gentle Breeze\" unit=\"m/s\" /><temperature max=\"290.94\" min=\"290.94\" unit=\"kelvin\" value=\"290.94\" /><feels_like unit=\"kelvin\" value=\"288.98\" /><pressure unit=\"hPa\" value=\"1024\" /><humidity unit=\"%\" value=\"86\" /><clouds all=\"100\" unit=\"%\" value=\"overcast clouds\" /><visibility value=\"10000\" /></time><time from=\"2020-12-18T00:00:00\" to=\"2020-12-18T03:00:00\"><symbol name=\"light rain\" number=\"500\" var=\"10d\" /><precipitation probability=\"0.71\" type=\"rain\" unit=\"3h\" value=\"0.81\" /><windDirection code=\"ENE\" deg=\"77\" name=\"East-northeast\" /><windSpeed mps=\"4.84\" name=\"Gentle Breeze\" unit=\"m/s\" /><temperature max=\"291.76\" min=\"291.76\" unit=\"kelvin\" value=\"291.76\" /><feels_like unit=\"kelvin\" value=\"290.16\" /><pressure unit=\"hPa\" value=\"1023\" /><humidity unit=\"%\" value=\"82\" /><clouds all=\"96\" unit=\"%\" value=\"overcast clouds\" /><visibility value=\"10000\" /></time><time from=\"2020-12-18T03:00:00\" to=\"2020-12-18T06:00:00\"><symbol name=\"light rain\" number=\"500\" var=\"10d\" /><precipitation probability=\"0.71\" type=\"rain\" unit=\"3h\" value=\"0.63\" /><windDirection code=\"E\" deg=\"81\" name=\"East\" /><windSpeed mps=\"5\" name=\"Gentle Breeze\" unit=\"m/s\" /><temperature max=\"292.77\" min=\"292.77\" unit=\"kelvin\" value=\"292.77\" /><feels_like unit=\"kelvin\" value=\"291.21\" /><pressure unit=\"hPa\" value=\"1021\" /><humidity unit=\"%\" value=\"79\" /><clouds all=\"87\" unit=\"%\" value=\"overcast clouds\" /><visibility value=\"10000\" /></time><time from=\"2020-12-18T06:00:00\" to=\"2020-12-18T09:00:00\"><symbol name=\"light rain\" number=\"500\" var=\"10d\" /><precipitation probability=\"0.7\" type=\"rain\" unit=\"3h\" value=\"1.31\" /><windDirection code=\"ENE\" deg=\"75\" name=\"East-northeast\" /><windSpeed mps=\"5.19\" name=\"Gentle Breeze\" unit=\"m/s\" /><temperature max=\"291.82\" min=\"291.82\" unit=\"kelvin\" value=\"291.82\" /><feels_like unit=\"kelvin\" value=\"290.14\" /><pressure unit=\"hPa\" value=\"1021\" /><humidity unit=\"%\" value=\"84\" /><clouds all=\"77\" unit=\"%\" value=\"broken clouds\" /><visibility value=\"10000\" /></time><time from=\"2020-12-18T09:00:00\" to=\"2020-12-18T12:00:00\"><symbol name=\"light rain\" number=\"500\" var=\"10n\" /><precipitation probability=\"0.64\" type=\"rain\" unit=\"3h\" value=\"1.9\" /><windDirection code=\"ENE\" deg=\"73\" name=\"East-northeast\" /><windSpeed mps=\"5.26\" name=\"Gentle Breeze\" unit=\"m/s\" /><temperature max=\"291.79\" min=\"291.79\" unit=\"kelvin\" value=\"291.79\" /><feels_like unit=\"kelvin\" value=\"290.05\" /><pressure unit=\"hPa\" value=\"1023\" /><humidity unit=\"%\" value=\"84\" /><clouds all=\"89\" unit=\"%\" value=\"overcast clouds\" /><visibility value=\"10000\" /></time><time from=\"2020-12-18T12:00:00\" to=\"2020-12-18T15:00:00\"><symbol name=\"light rain\" number=\"500\" var=\"10n\" /><precipitation probability=\"0.62\" type=\"rain\" unit=\"3h\" value=\"2.81\" /><windDirection code=\"ENE\" deg=\"67\" name=\"East-northeast\" /><windSpeed mps=\"5.16\" name=\"Gentle Breeze\" unit=\"m/s\" /><temperature max=\"291.68\" min=\"291.68\" unit=\"kelvin\" value=\"291.68\" /><feels_like unit=\"kelvin\" value=\"290.11\" /><pressure unit=\"hPa\" value=\"1023\" /><humidity unit=\"%\" value=\"86\" /><clouds all=\"100\" unit=\"%\" value=\"overcast clouds\" /><visibility value=\"10000\" /></time><time from=\"2020-12-18T15:00:00\" to=\"2020-12-18T18:00:00\"><symbol name=\"moderate rain\" number=\"501\" var=\"10n\" /><precipitation probability=\"0.62\" type=\"rain\" unit=\"3h\" value=\"3.33\" /><windDirection code=\"ENE\" deg=\"60\" name=\"East-northeast\" /><windSpeed mps=\"4.93\" name=\"Gentle Breeze\" unit=\"m/s\" /><temperature max=\"291.73\" min=\"291.73\" unit=\"kelvin\" value=\"291.73\" /><feels_like unit=\"kelvin\" value=\"290.41\" /><pressure unit=\"hPa\" value=\"1022\" /><humidity unit=\"%\" value=\"87\" /><clouds all=\"100\" unit=\"%\" value=\"overcast clouds\" /><visibility value=\"10000\" /></time><time from=\"2020-12-18T18:00:00\" to=\"2020-12-18T21:00:00\"><symbol name=\"light rain\" number=\"500\" var=\"10n\" /><precipitation probability=\"0.58\" type=\"rain\" unit=\"3h\" value=\"2.25\" /><windDirection code=\"NE\" deg=\"49\" name=\"NorthEast\" /><windSpeed mps=\"4.18\" name=\"Gentle Breeze\" unit=\"m/s\" /><temperature max=\"291.51\" min=\"291.51\" unit=\"kelvin\" value=\"291.51\" /><feels_like unit=\"kelvin\" value=\"290.56\" /><pressure unit=\"hPa\" value=\"1022\" /><humidity unit=\"%\" value=\"86\" /><clouds all=\"99\" unit=\"%\" value=\"overcast clouds\" /><visibility value=\"10000\" /></time><time from=\"2020-12-18T21:00:00\" to=\"2020-12-19T00:00:00\"><symbol name=\"light rain\" number=\"500\" var=\"10d\" /><precipitation probability=\"0.71\" type=\"rain\" unit=\"3h\" value=\"1.35\" /><windDirection code=\"NE\" deg=\"55\" name=\"NorthEast\" /><windSpeed mps=\"4.1\" name=\"Gentle Breeze\" unit=\"m/s\" /><temperature max=\"291.67\" min=\"291.67\" unit=\"kelvin\" value=\"291.67\" /><feels_like unit=\"kelvin\" value=\"290.7\" /><pressure unit=\"hPa\" value=\"1023\" /><humidity unit=\"%\" value=\"84\" /><clouds all=\"96\" unit=\"%\" value=\"overcast clouds\" /><visibility value=\"10000\" /></time></forecast></weatherdata>\n"
     ]
    }
   ],
   "source": [
    "ET.dump(weatherXML)"
   ]
  },
  {
   "cell_type": "code",
   "execution_count": 31,
   "metadata": {
    "collapsed": true
   },
   "outputs": [
    {
     "name": "stdout",
     "output_type": "stream",
     "text": [
      "<weatherdata><location><name>Taipei</name><type /><country>TW</country><timezone>28800</timezone><location altitude=\"0\" geobase=\"geonames\" geobaseid=\"1668341\" latitude=\"25.0478\" longitude=\"121.5319\" /></location><credit /><meta><lastupdate /><calctime>0</calctime><nextupdate /></meta><sun rise=\"2020-12-13T22:30:49\" set=\"2020-12-14T09:06:26\" /><forecast><time from=\"2020-12-14T00:00:00\" to=\"2020-12-14T03:00:00\"><symbol name=\"light rain\" number=\"500\" var=\"10d\" /><precipitation probability=\"0.72\" type=\"rain\" unit=\"3h\" value=\"0.64\" /><windDirection code=\"NE\" deg=\"54\" name=\"NorthEast\" /><windSpeed mps=\"5.46\" name=\"Gentle Breeze\" unit=\"m/s\" /><temperature max=\"290.33\" min=\"289.88\" unit=\"kelvin\" value=\"290.33\" /><feels_like unit=\"kelvin\" value=\"287.67\" /><pressure unit=\"hPa\" value=\"1021\" /><humidity unit=\"%\" value=\"80\" /><clouds all=\"87\" unit=\"%\" value=\"overcast clouds\" /><visibility value=\"10000\" /></time><time from=\"2020-12-14T03:00:00\" to=\"2020-12-14T06:00:00\"><symbol name=\"light rain\" number=\"500\" var=\"10d\" /><precipitation probability=\"0.76\" type=\"rain\" unit=\"3h\" value=\"1.58\" /><windDirection code=\"NE\" deg=\"46\" name=\"NorthEast\" /><windSpeed mps=\"5.64\" name=\"Moderate breeze\" unit=\"m/s\" /><temperature max=\"289.57\" min=\"289.24\" unit=\"kelvin\" value=\"289.57\" /><feels_like unit=\"kelvin\" value=\"286.54\" /><pressure unit=\"hPa\" value=\"1020\" /><humidity unit=\"%\" value=\"80\" /><clouds all=\"95\" unit=\"%\" value=\"overcast clouds\" /><visibility value=\"10000\" /></time><time from=\"2020-12-14T06:00:00\" to=\"2020-12-14T09:00:00\"><symbol name=\"light rain\" number=\"500\" var=\"10d\" /><precipitation probability=\"0.79\" type=\"rain\" unit=\"3h\" value=\"1.25\" /><windDirection code=\"NE\" deg=\"42\" name=\"NorthEast\" /><windSpeed mps=\"5.47\" name=\"Gentle Breeze\" unit=\"m/s\" /><temperature max=\"289.17\" min=\"289.06\" unit=\"kelvin\" value=\"289.17\" /><feels_like unit=\"kelvin\" value=\"286.2\" /><pressure unit=\"hPa\" value=\"1022\" /><humidity unit=\"%\" value=\"81\" /><clouds all=\"98\" unit=\"%\" value=\"overcast clouds\" /><visibility value=\"10000\" /></time><time from=\"2020-12-14T09:00:00\" to=\"2020-12-14T12:00:00\"><symbol name=\"light rain\" number=\"500\" var=\"10n\" /><precipitation probability=\"0.76\" type=\"rain\" unit=\"3h\" value=\"2\" /><windDirection code=\"NE\" deg=\"47\" name=\"NorthEast\" /><windSpeed mps=\"5.53\" name=\"Moderate breeze\" unit=\"m/s\" /><temperature max=\"288.46\" min=\"288.44\" unit=\"kelvin\" value=\"288.46\" /><feels_like unit=\"kelvin\" value=\"285.17\" /><pressure unit=\"hPa\" value=\"1024\" /><humidity unit=\"%\" value=\"80\" /><clouds all=\"100\" unit=\"%\" value=\"overcast clouds\" /><visibility value=\"10000\" /></time><time from=\"2020-12-14T12:00:00\" to=\"2020-12-14T15:00:00\"><symbol name=\"light rain\" number=\"500\" var=\"10n\" /><precipitation probability=\"0.76\" type=\"rain\" unit=\"3h\" value=\"1.3\" /><windDirection code=\"ENE\" deg=\"57\" name=\"East-northeast\" /><windSpeed mps=\"5.05\" name=\"Gentle Breeze\" unit=\"m/s\" /><temperature max=\"288.83\" min=\"288.83\" unit=\"kelvin\" value=\"288.83\" /><feels_like unit=\"kelvin\" value=\"286.11\" /><pressure unit=\"hPa\" value=\"1024\" /><humidity unit=\"%\" value=\"82\" /><clouds all=\"100\" unit=\"%\" value=\"overcast clouds\" /><visibility value=\"10000\" /></time><time from=\"2020-12-14T15:00:00\" to=\"2020-12-14T18:00:00\"><symbol name=\"light rain\" number=\"500\" var=\"10n\" /><precipitation probability=\"0.83\" type=\"rain\" unit=\"3h\" value=\"1.84\" /><windDirection code=\"NE\" deg=\"50\" name=\"NorthEast\" /><windSpeed mps=\"5.16\" name=\"Gentle Breeze\" unit=\"m/s\" /><temperature max=\"288.79\" min=\"288.79\" unit=\"kelvin\" value=\"288.79\" /><feels_like unit=\"kelvin\" value=\"285.98\" /><pressure unit=\"hPa\" value=\"1024\" /><humidity unit=\"%\" value=\"82\" /><clouds all=\"100\" unit=\"%\" value=\"overcast clouds\" /><visibility value=\"10000\" /></time><time from=\"2020-12-14T18:00:00\" to=\"2020-12-14T21:00:00\"><symbol name=\"light rain\" number=\"500\" var=\"10n\" /><precipitation probability=\"0.83\" type=\"rain\" unit=\"3h\" value=\"2.05\" /><windDirection code=\"NE\" deg=\"49\" name=\"NorthEast\" /><windSpeed mps=\"4.94\" name=\"Gentle Breeze\" unit=\"m/s\" /><temperature max=\"288.74\" min=\"288.74\" unit=\"kelvin\" value=\"288.74\" /><feels_like unit=\"kelvin\" value=\"286.06\" /><pressure unit=\"hPa\" value=\"1024\" /><humidity unit=\"%\" value=\"82\" /><clouds all=\"100\" unit=\"%\" value=\"overcast clouds\" /><visibility value=\"10000\" /></time><time from=\"2020-12-14T21:00:00\" to=\"2020-12-15T00:00:00\"><symbol name=\"light rain\" number=\"500\" var=\"10d\" /><precipitation probability=\"0.83\" type=\"rain\" unit=\"3h\" value=\"1.67\" /><windDirection code=\"ENE\" deg=\"60\" name=\"East-northeast\" /><windSpeed mps=\"4.98\" name=\"Gentle Breeze\" unit=\"m/s\" /><temperature max=\"288.89\" min=\"288.89\" unit=\"kelvin\" value=\"288.89\" /><feels_like unit=\"kelvin\" value=\"286.23\" /><pressure unit=\"hPa\" value=\"1025\" /><humidity unit=\"%\" value=\"82\" /><clouds all=\"100\" unit=\"%\" value=\"overcast clouds\" /><visibility value=\"10000\" /></time><time from=\"2020-12-15T00:00:00\" to=\"2020-12-15T03:00:00\"><symbol name=\"light rain\" number=\"500\" var=\"10d\" /><precipitation probability=\"0.79\" type=\"rain\" unit=\"3h\" value=\"0.64\" /><windDirection code=\"ENE\" deg=\"59\" name=\"East-northeast\" /><windSpeed mps=\"4.96\" name=\"Gentle Breeze\" unit=\"m/s\" /><temperature max=\"289.45\" min=\"289.45\" unit=\"kelvin\" value=\"289.45\" /><feels_like unit=\"kelvin\" value=\"286.86\" /><pressure unit=\"hPa\" value=\"1025\" /><humidity unit=\"%\" value=\"80\" /><clouds all=\"100\" unit=\"%\" value=\"overcast clouds\" /><visibility value=\"10000\" /></time><time from=\"2020-12-15T03:00:00\" to=\"2020-12-15T06:00:00\"><symbol name=\"light rain\" number=\"500\" var=\"10d\" /><precipitation probability=\"0.79\" type=\"rain\" unit=\"3h\" value=\"0.75\" /><windDirection code=\"NE\" deg=\"53\" name=\"NorthEast\" /><windSpeed mps=\"4.74\" name=\"Gentle Breeze\" unit=\"m/s\" /><temperature max=\"289.35\" min=\"289.35\" unit=\"kelvin\" value=\"289.35\" /><feels_like unit=\"kelvin\" value=\"286.94\" /><pressure unit=\"hPa\" value=\"1023\" /><humidity unit=\"%\" value=\"81\" /><clouds all=\"100\" unit=\"%\" value=\"overcast clouds\" /><visibility value=\"10000\" /></time><time from=\"2020-12-15T06:00:00\" to=\"2020-12-15T09:00:00\"><symbol name=\"light rain\" number=\"500\" var=\"10d\" /><precipitation probability=\"0.79\" type=\"rain\" unit=\"3h\" value=\"1.05\" /><windDirection code=\"NE\" deg=\"54\" name=\"NorthEast\" /><windSpeed mps=\"5.25\" name=\"Gentle Breeze\" unit=\"m/s\" /><temperature max=\"289.39\" min=\"289.39\" unit=\"kelvin\" value=\"289.39\" /><feels_like unit=\"kelvin\" value=\"286.7\" /><pressure unit=\"hPa\" value=\"1023\" /><humidity unit=\"%\" value=\"82\" /><clouds all=\"100\" unit=\"%\" value=\"overcast clouds\" /><visibility value=\"10000\" /></time><time from=\"2020-12-15T09:00:00\" to=\"2020-12-15T12:00:00\"><symbol name=\"light rain\" number=\"500\" var=\"10n\" /><precipitation probability=\"0.79\" type=\"rain\" unit=\"3h\" value=\"1.36\" /><windDirection code=\"ENE\" deg=\"62\" name=\"East-northeast\" /><windSpeed mps=\"5.29\" name=\"Gentle Breeze\" unit=\"m/s\" /><temperature max=\"289.5\" min=\"289.5\" unit=\"kelvin\" value=\"289.5\" /><feels_like unit=\"kelvin\" value=\"286.82\" /><pressure unit=\"hPa\" value=\"1025\" /><humidity unit=\"%\" value=\"82\" /><clouds all=\"100\" unit=\"%\" value=\"overcast clouds\" /><visibility value=\"10000\" /></time><time from=\"2020-12-15T12:00:00\" to=\"2020-12-15T15:00:00\"><symbol name=\"light rain\" number=\"500\" var=\"10n\" /><precipitation probability=\"0.79\" type=\"rain\" unit=\"3h\" value=\"1.03\" /><windDirection code=\"ENE\" deg=\"62\" name=\"East-northeast\" /><windSpeed mps=\"5.12\" name=\"Gentle Breeze\" unit=\"m/s\" /><temperature max=\"289.49\" min=\"289.49\" unit=\"kelvin\" value=\"289.49\" /><feels_like unit=\"kelvin\" value=\"286.98\" /><pressure unit=\"hPa\" value=\"1025\" /><humidity unit=\"%\" value=\"83\" /><clouds all=\"100\" unit=\"%\" value=\"overcast clouds\" /><visibility value=\"10000\" /></time><time from=\"2020-12-15T15:00:00\" to=\"2020-12-15T18:00:00\"><symbol name=\"light rain\" number=\"500\" var=\"10n\" /><precipitation probability=\"0.82\" type=\"rain\" unit=\"3h\" value=\"1.57\" /><windDirection code=\"ENE\" deg=\"59\" name=\"East-northeast\" /><windSpeed mps=\"4.99\" name=\"Gentle Breeze\" unit=\"m/s\" /><temperature max=\"289.28\" min=\"289.28\" unit=\"kelvin\" value=\"289.28\" /><feels_like unit=\"kelvin\" value=\"286.86\" /><pressure unit=\"hPa\" value=\"1024\" /><humidity unit=\"%\" value=\"84\" /><clouds all=\"100\" unit=\"%\" value=\"overcast clouds\" /><visibility value=\"10000\" /></time><time from=\"2020-12-15T18:00:00\" to=\"2020-12-15T21:00:00\"><symbol name=\"moderate rain\" number=\"501\" var=\"10n\" /><precipitation probability=\"0.83\" type=\"rain\" unit=\"3h\" value=\"3.27\" /><windDirection code=\"NE\" deg=\"49\" name=\"NorthEast\" /><windSpeed mps=\"4.82\" name=\"Gentle Breeze\" unit=\"m/s\" /><temperature max=\"289.06\" min=\"289.06\" unit=\"kelvin\" value=\"289.06\" /><feels_like unit=\"kelvin\" value=\"286.75\" /><pressure unit=\"hPa\" value=\"1024\" /><humidity unit=\"%\" value=\"85\" /><clouds all=\"100\" unit=\"%\" value=\"overcast clouds\" /><visibility value=\"7070\" /></time><time from=\"2020-12-15T21:00:00\" to=\"2020-12-16T00:00:00\"><symbol name=\"light rain\" number=\"500\" var=\"10d\" /><precipitation probability=\"0.86\" type=\"rain\" unit=\"3h\" value=\"2.8\" /><windDirection code=\"NE\" deg=\"54\" name=\"NorthEast\" /><windSpeed mps=\"5.73\" name=\"Moderate breeze\" unit=\"m/s\" /><temperature max=\"288.96\" min=\"288.96\" unit=\"kelvin\" value=\"288.96\" /><feels_like unit=\"kelvin\" value=\"285.86\" /><pressure unit=\"hPa\" value=\"1026\" /><humidity unit=\"%\" value=\"83\" /><clouds all=\"100\" unit=\"%\" value=\"overcast clouds\" /><visibility value=\"10000\" /></time><time from=\"2020-12-16T00:00:00\" to=\"2020-12-16T03:00:00\"><symbol name=\"light rain\" number=\"500\" var=\"10d\" /><precipitation probability=\"0.79\" type=\"rain\" unit=\"3h\" value=\"1.36\" /><windDirection code=\"ENE\" deg=\"58\" name=\"East-northeast\" /><windSpeed mps=\"5.66\" name=\"Moderate breeze\" unit=\"m/s\" /><temperature max=\"289.26\" min=\"289.26\" unit=\"kelvin\" value=\"289.26\" /><feels_like unit=\"kelvin\" value=\"286.18\" /><pressure unit=\"hPa\" value=\"1026\" /><humidity unit=\"%\" value=\"81\" /><clouds all=\"100\" unit=\"%\" value=\"overcast clouds\" /><visibility value=\"10000\" /></time><time from=\"2020-12-16T03:00:00\" to=\"2020-12-16T06:00:00\"><symbol name=\"light rain\" number=\"500\" var=\"10d\" /><precipitation probability=\"0.79\" type=\"rain\" unit=\"3h\" value=\"0.98\" /><windDirection code=\"NE\" deg=\"55\" name=\"NorthEast\" /><windSpeed mps=\"5.32\" name=\"Gentle Breeze\" unit=\"m/s\" /><temperature max=\"289.56\" min=\"289.56\" unit=\"kelvin\" value=\"289.56\" /><feels_like unit=\"kelvin\" value=\"286.69\" /><pressure unit=\"hPa\" value=\"1024\" /><humidity unit=\"%\" value=\"79\" /><clouds all=\"99\" unit=\"%\" value=\"overcast clouds\" /><visibility value=\"10000\" /></time><time from=\"2020-12-16T06:00:00\" to=\"2020-12-16T09:00:00\"><symbol name=\"light rain\" number=\"500\" var=\"10d\" /><precipitation probability=\"0.75\" type=\"rain\" unit=\"3h\" value=\"0.94\" /><windDirection code=\"ENE\" deg=\"61\" name=\"East-northeast\" /><windSpeed mps=\"5.32\" name=\"Gentle Breeze\" unit=\"m/s\" /><temperature max=\"289.16\" min=\"289.16\" unit=\"kelvin\" value=\"289.16\" /><feels_like unit=\"kelvin\" value=\"286.29\" /><pressure unit=\"hPa\" value=\"1024\" /><humidity unit=\"%\" value=\"81\" /><clouds all=\"100\" unit=\"%\" value=\"overcast clouds\" /><visibility value=\"10000\" /></time><time from=\"2020-12-16T09:00:00\" to=\"2020-12-16T12:00:00\"><symbol name=\"light rain\" number=\"500\" var=\"10n\" /><precipitation probability=\"0.75\" type=\"rain\" unit=\"3h\" value=\"0.92\" /><windDirection code=\"ENE\" deg=\"65\" name=\"East-northeast\" /><windSpeed mps=\"5.83\" name=\"Moderate breeze\" unit=\"m/s\" /><temperature max=\"289.05\" min=\"289.05\" unit=\"kelvin\" value=\"289.05\" /><feels_like unit=\"kelvin\" value=\"285.79\" /><pressure unit=\"hPa\" value=\"1025\" /><humidity unit=\"%\" value=\"81\" /><clouds all=\"100\" unit=\"%\" value=\"overcast clouds\" /><visibility value=\"10000\" /></time><time from=\"2020-12-16T12:00:00\" to=\"2020-12-16T15:00:00\"><symbol name=\"light rain\" number=\"500\" var=\"10n\" /><precipitation probability=\"0.75\" type=\"rain\" unit=\"3h\" value=\"1.19\" /><windDirection code=\"ENE\" deg=\"67\" name=\"East-northeast\" /><windSpeed mps=\"5.18\" name=\"Gentle Breeze\" unit=\"m/s\" /><temperature max=\"288.94\" min=\"288.94\" unit=\"kelvin\" value=\"288.94\" /><feels_like unit=\"kelvin\" value=\"286.1\" /><pressure unit=\"hPa\" value=\"1025\" /><humidity unit=\"%\" value=\"81\" /><clouds all=\"100\" unit=\"%\" value=\"overcast clouds\" /><visibility value=\"10000\" /></time><time from=\"2020-12-16T15:00:00\" to=\"2020-12-16T18:00:00\"><symbol name=\"light rain\" number=\"500\" var=\"10n\" /><precipitation probability=\"0.79\" type=\"rain\" unit=\"3h\" value=\"1.19\" /><windDirection code=\"ENE\" deg=\"70\" name=\"East-northeast\" /><windSpeed mps=\"4.92\" name=\"Gentle Breeze\" unit=\"m/s\" /><temperature max=\"288.85\" min=\"288.85\" unit=\"kelvin\" value=\"288.85\" /><feels_like unit=\"kelvin\" value=\"286.16\" /><pressure unit=\"hPa\" value=\"1024\" /><humidity unit=\"%\" value=\"81\" /><clouds all=\"100\" unit=\"%\" value=\"overcast clouds\" /><visibility value=\"10000\" /></time><time from=\"2020-12-16T18:00:00\" to=\"2020-12-16T21:00:00\"><symbol name=\"light rain\" number=\"500\" var=\"10n\" /><precipitation probability=\"0.83\" type=\"rain\" unit=\"3h\" value=\"2.63\" /><windDirection code=\"ENE\" deg=\"59\" name=\"East-northeast\" /><windSpeed mps=\"5.23\" name=\"Gentle Breeze\" unit=\"m/s\" /><temperature max=\"288.96\" min=\"288.96\" unit=\"kelvin\" value=\"288.96\" /><feels_like unit=\"kelvin\" value=\"286.27\" /><pressure unit=\"hPa\" value=\"1024\" /><humidity unit=\"%\" value=\"84\" /><clouds all=\"100\" unit=\"%\" value=\"overcast clouds\" /><visibility value=\"10000\" /></time><time from=\"2020-12-16T21:00:00\" to=\"2020-12-17T00:00:00\"><symbol name=\"light rain\" number=\"500\" var=\"10d\" /><precipitation probability=\"0.79\" type=\"rain\" unit=\"3h\" value=\"1.89\" /><windDirection code=\"ENE\" deg=\"67\" name=\"East-northeast\" /><windSpeed mps=\"4.8\" name=\"Gentle Breeze\" unit=\"m/s\" /><temperature max=\"289.16\" min=\"289.16\" unit=\"kelvin\" value=\"289.16\" /><feels_like unit=\"kelvin\" value=\"286.71\" /><pressure unit=\"hPa\" value=\"1025\" /><humidity unit=\"%\" value=\"82\" /><clouds all=\"100\" unit=\"%\" value=\"overcast clouds\" /><visibility value=\"10000\" /></time><time from=\"2020-12-17T00:00:00\" to=\"2020-12-17T03:00:00\"><symbol name=\"light rain\" number=\"500\" var=\"10d\" /><precipitation probability=\"0.75\" type=\"rain\" unit=\"3h\" value=\"1.48\" /><windDirection code=\"ENE\" deg=\"63\" name=\"East-northeast\" /><windSpeed mps=\"5.03\" name=\"Gentle Breeze\" unit=\"m/s\" /><temperature max=\"289.34\" min=\"289.34\" unit=\"kelvin\" value=\"289.34\" /><feels_like unit=\"kelvin\" value=\"286.85\" /><pressure unit=\"hPa\" value=\"1025\" /><humidity unit=\"%\" value=\"83\" /><clouds all=\"100\" unit=\"%\" value=\"overcast clouds\" /><visibility value=\"10000\" /></time><time from=\"2020-12-17T03:00:00\" to=\"2020-12-17T06:00:00\"><symbol name=\"light rain\" number=\"500\" var=\"10d\" /><precipitation probability=\"0.75\" type=\"rain\" unit=\"3h\" value=\"1.46\" /><windDirection code=\"ENE\" deg=\"69\" name=\"East-northeast\" /><windSpeed mps=\"5.17\" name=\"Gentle Breeze\" unit=\"m/s\" /><temperature max=\"289.28\" min=\"289.28\" unit=\"kelvin\" value=\"289.28\" /><feels_like unit=\"kelvin\" value=\"286.61\" /><pressure unit=\"hPa\" value=\"1023\" /><humidity unit=\"%\" value=\"82\" /><clouds all=\"100\" unit=\"%\" value=\"overcast clouds\" /><visibility value=\"10000\" /></time><time from=\"2020-12-17T06:00:00\" to=\"2020-12-17T09:00:00\"><symbol name=\"light rain\" number=\"500\" var=\"10d\" /><precipitation probability=\"0.47\" type=\"rain\" unit=\"3h\" value=\"0.47\" /><windDirection code=\"ENE\" deg=\"72\" name=\"East-northeast\" /><windSpeed mps=\"4.84\" name=\"Gentle Breeze\" unit=\"m/s\" /><temperature max=\"289.46\" min=\"289.46\" unit=\"kelvin\" value=\"289.46\" /><feels_like unit=\"kelvin\" value=\"286.96\" /><pressure unit=\"hPa\" value=\"1023\" /><humidity unit=\"%\" value=\"80\" /><clouds all=\"100\" unit=\"%\" value=\"overcast clouds\" /><visibility value=\"10000\" /></time><time from=\"2020-12-17T09:00:00\" to=\"2020-12-17T12:00:00\"><symbol name=\"light rain\" number=\"500\" var=\"10n\" /><precipitation probability=\"0.57\" type=\"rain\" unit=\"3h\" value=\"0.23\" /><windDirection code=\"E\" deg=\"81\" name=\"East\" /><windSpeed mps=\"4.39\" name=\"Gentle Breeze\" unit=\"m/s\" /><temperature max=\"289.86\" min=\"289.86\" unit=\"kelvin\" value=\"289.86\" /><feels_like unit=\"kelvin\" value=\"287.74\" /><pressure unit=\"hPa\" value=\"1024\" /><humidity unit=\"%\" value=\"79\" /><clouds all=\"100\" unit=\"%\" value=\"overcast clouds\" /><visibility value=\"10000\" /></time><time from=\"2020-12-17T12:00:00\" to=\"2020-12-17T15:00:00\"><symbol name=\"light rain\" number=\"500\" var=\"10n\" /><precipitation probability=\"0.56\" type=\"rain\" unit=\"3h\" value=\"0.3\" /><windDirection code=\"E\" deg=\"85\" name=\"East\" /><windSpeed mps=\"4.55\" name=\"Gentle Breeze\" unit=\"m/s\" /><temperature max=\"290.13\" min=\"290.13\" unit=\"kelvin\" value=\"290.13\" /><feels_like unit=\"kelvin\" value=\"288.11\" /><pressure unit=\"hPa\" value=\"1024\" /><humidity unit=\"%\" value=\"81\" /><clouds all=\"88\" unit=\"%\" value=\"overcast clouds\" /><visibility value=\"10000\" /></time><time from=\"2020-12-17T15:00:00\" to=\"2020-12-17T18:00:00\"><symbol name=\"light rain\" number=\"500\" var=\"10n\" /><precipitation probability=\"0.64\" type=\"rain\" unit=\"3h\" value=\"0.64\" /><windDirection code=\"E\" deg=\"83\" name=\"East\" /><windSpeed mps=\"4.71\" name=\"Gentle Breeze\" unit=\"m/s\" /><temperature max=\"290.38\" min=\"290.38\" unit=\"kelvin\" value=\"290.38\" /><feels_like unit=\"kelvin\" value=\"288.52\" /><pressure unit=\"hPa\" value=\"1023\" /><humidity unit=\"%\" value=\"84\" /><clouds all=\"93\" unit=\"%\" value=\"overcast clouds\" /><visibility value=\"10000\" /></time><time from=\"2020-12-17T18:00:00\" to=\"2020-12-17T21:00:00\"><symbol name=\"light rain\" number=\"500\" var=\"10n\" /><precipitation probability=\"0.68\" type=\"rain\" unit=\"3h\" value=\"1.92\" /><windDirection code=\"ENE\" deg=\"74\" name=\"East-northeast\" /><windSpeed mps=\"5.17\" name=\"Gentle Breeze\" unit=\"m/s\" /><temperature max=\"290.69\" min=\"290.69\" unit=\"kelvin\" value=\"290.69\" /><feels_like unit=\"kelvin\" value=\"288.75\" /><pressure unit=\"hPa\" value=\"1022\" /><humidity unit=\"%\" value=\"86\" /><clouds all=\"100\" unit=\"%\" value=\"overcast clouds\" /><visibility value=\"10000\" /></time><time from=\"2020-12-17T21:00:00\" to=\"2020-12-18T00:00:00\"><symbol name=\"light rain\" number=\"500\" var=\"10d\" /><precipitation probability=\"0.75\" type=\"rain\" unit=\"3h\" value=\"2.62\" /><windDirection code=\"E\" deg=\"79\" name=\"East\" /><windSpeed mps=\"5.32\" name=\"Gentle Breeze\" unit=\"m/s\" /><temperature max=\"290.94\" min=\"290.94\" unit=\"kelvin\" value=\"290.94\" /><feels_like unit=\"kelvin\" value=\"288.98\" /><pressure unit=\"hPa\" value=\"1024\" /><humidity unit=\"%\" value=\"86\" /><clouds all=\"100\" unit=\"%\" value=\"overcast clouds\" /><visibility value=\"10000\" /></time><time from=\"2020-12-18T00:00:00\" to=\"2020-12-18T03:00:00\"><symbol name=\"light rain\" number=\"500\" var=\"10d\" /><precipitation probability=\"0.71\" type=\"rain\" unit=\"3h\" value=\"0.81\" /><windDirection code=\"ENE\" deg=\"77\" name=\"East-northeast\" /><windSpeed mps=\"4.84\" name=\"Gentle Breeze\" unit=\"m/s\" /><temperature max=\"291.76\" min=\"291.76\" unit=\"kelvin\" value=\"291.76\" /><feels_like unit=\"kelvin\" value=\"290.16\" /><pressure unit=\"hPa\" value=\"1023\" /><humidity unit=\"%\" value=\"82\" /><clouds all=\"96\" unit=\"%\" value=\"overcast clouds\" /><visibility value=\"10000\" /></time><time from=\"2020-12-18T03:00:00\" to=\"2020-12-18T06:00:00\"><symbol name=\"light rain\" number=\"500\" var=\"10d\" /><precipitation probability=\"0.71\" type=\"rain\" unit=\"3h\" value=\"0.63\" /><windDirection code=\"E\" deg=\"81\" name=\"East\" /><windSpeed mps=\"5\" name=\"Gentle Breeze\" unit=\"m/s\" /><temperature max=\"292.77\" min=\"292.77\" unit=\"kelvin\" value=\"292.77\" /><feels_like unit=\"kelvin\" value=\"291.21\" /><pressure unit=\"hPa\" value=\"1021\" /><humidity unit=\"%\" value=\"79\" /><clouds all=\"87\" unit=\"%\" value=\"overcast clouds\" /><visibility value=\"10000\" /></time><time from=\"2020-12-18T06:00:00\" to=\"2020-12-18T09:00:00\"><symbol name=\"light rain\" number=\"500\" var=\"10d\" /><precipitation probability=\"0.7\" type=\"rain\" unit=\"3h\" value=\"1.31\" /><windDirection code=\"ENE\" deg=\"75\" name=\"East-northeast\" /><windSpeed mps=\"5.19\" name=\"Gentle Breeze\" unit=\"m/s\" /><temperature max=\"291.82\" min=\"291.82\" unit=\"kelvin\" value=\"291.82\" /><feels_like unit=\"kelvin\" value=\"290.14\" /><pressure unit=\"hPa\" value=\"1021\" /><humidity unit=\"%\" value=\"84\" /><clouds all=\"77\" unit=\"%\" value=\"broken clouds\" /><visibility value=\"10000\" /></time><time from=\"2020-12-18T09:00:00\" to=\"2020-12-18T12:00:00\"><symbol name=\"light rain\" number=\"500\" var=\"10n\" /><precipitation probability=\"0.64\" type=\"rain\" unit=\"3h\" value=\"1.9\" /><windDirection code=\"ENE\" deg=\"73\" name=\"East-northeast\" /><windSpeed mps=\"5.26\" name=\"Gentle Breeze\" unit=\"m/s\" /><temperature max=\"291.79\" min=\"291.79\" unit=\"kelvin\" value=\"291.79\" /><feels_like unit=\"kelvin\" value=\"290.05\" /><pressure unit=\"hPa\" value=\"1023\" /><humidity unit=\"%\" value=\"84\" /><clouds all=\"89\" unit=\"%\" value=\"overcast clouds\" /><visibility value=\"10000\" /></time><time from=\"2020-12-18T12:00:00\" to=\"2020-12-18T15:00:00\"><symbol name=\"light rain\" number=\"500\" var=\"10n\" /><precipitation probability=\"0.62\" type=\"rain\" unit=\"3h\" value=\"2.81\" /><windDirection code=\"ENE\" deg=\"67\" name=\"East-northeast\" /><windSpeed mps=\"5.16\" name=\"Gentle Breeze\" unit=\"m/s\" /><temperature max=\"291.68\" min=\"291.68\" unit=\"kelvin\" value=\"291.68\" /><feels_like unit=\"kelvin\" value=\"290.11\" /><pressure unit=\"hPa\" value=\"1023\" /><humidity unit=\"%\" value=\"86\" /><clouds all=\"100\" unit=\"%\" value=\"overcast clouds\" /><visibility value=\"10000\" /></time><time from=\"2020-12-18T15:00:00\" to=\"2020-12-18T18:00:00\"><symbol name=\"moderate rain\" number=\"501\" var=\"10n\" /><precipitation probability=\"0.62\" type=\"rain\" unit=\"3h\" value=\"3.33\" /><windDirection code=\"ENE\" deg=\"60\" name=\"East-northeast\" /><windSpeed mps=\"4.93\" name=\"Gentle Breeze\" unit=\"m/s\" /><temperature max=\"291.73\" min=\"291.73\" unit=\"kelvin\" value=\"291.73\" /><feels_like unit=\"kelvin\" value=\"290.41\" /><pressure unit=\"hPa\" value=\"1022\" /><humidity unit=\"%\" value=\"87\" /><clouds all=\"100\" unit=\"%\" value=\"overcast clouds\" /><visibility value=\"10000\" /></time><time from=\"2020-12-18T18:00:00\" to=\"2020-12-18T21:00:00\"><symbol name=\"light rain\" number=\"500\" var=\"10n\" /><precipitation probability=\"0.58\" type=\"rain\" unit=\"3h\" value=\"2.25\" /><windDirection code=\"NE\" deg=\"49\" name=\"NorthEast\" /><windSpeed mps=\"4.18\" name=\"Gentle Breeze\" unit=\"m/s\" /><temperature max=\"291.51\" min=\"291.51\" unit=\"kelvin\" value=\"291.51\" /><feels_like unit=\"kelvin\" value=\"290.56\" /><pressure unit=\"hPa\" value=\"1022\" /><humidity unit=\"%\" value=\"86\" /><clouds all=\"99\" unit=\"%\" value=\"overcast clouds\" /><visibility value=\"10000\" /></time><time from=\"2020-12-18T21:00:00\" to=\"2020-12-19T00:00:00\"><symbol name=\"light rain\" number=\"500\" var=\"10d\" /><precipitation probability=\"0.71\" type=\"rain\" unit=\"3h\" value=\"1.35\" /><windDirection code=\"NE\" deg=\"55\" name=\"NorthEast\" /><windSpeed mps=\"4.1\" name=\"Gentle Breeze\" unit=\"m/s\" /><temperature max=\"291.67\" min=\"291.67\" unit=\"kelvin\" value=\"291.67\" /><feels_like unit=\"kelvin\" value=\"290.7\" /><pressure unit=\"hPa\" value=\"1023\" /><humidity unit=\"%\" value=\"84\" /><clouds all=\"96\" unit=\"%\" value=\"overcast clouds\" /><visibility value=\"10000\" /></time></forecast></weatherdata>\n",
      "None\n"
     ]
    }
   ],
   "source": [
    "# 其實沒有更好看 → XML viewer 或是用 beautifulsoup 來看\n",
    "import pprint\n",
    "pprint.pprint(ET.dump(weatherXML))"
   ]
  },
  {
   "cell_type": "code",
   "execution_count": 32,
   "metadata": {},
   "outputs": [
    {
     "name": "stdout",
     "output_type": "stream",
     "text": [
      "<Element 'weatherdata' at 0x0000021EE01EE138>\n"
     ]
    }
   ],
   "source": [
    "print(weatherXML)"
   ]
  },
  {
   "cell_type": "markdown",
   "metadata": {},
   "source": [
    "## xml.etree.ElementTree — The ElementTree XML API\n",
    "https://docs.python.org/3/library/xml.etree.elementtree.html"
   ]
  },
  {
   "cell_type": "code",
   "execution_count": 33,
   "metadata": {},
   "outputs": [
    {
     "data": {
      "text/plain": [
       "5"
      ]
     },
     "execution_count": 33,
     "metadata": {},
     "output_type": "execute_result"
    }
   ],
   "source": [
    "# 這個 element 可以直接算裏面的元素個數\n",
    "len(weatherXML)"
   ]
  },
  {
   "cell_type": "code",
   "execution_count": 34,
   "metadata": {},
   "outputs": [
    {
     "name": "stdout",
     "output_type": "stream",
     "text": [
      "location {}\n",
      "credit {}\n",
      "meta {}\n",
      "sun {'rise': '2020-12-13T22:30:49', 'set': '2020-12-14T09:06:26'}\n",
      "forecast {}\n"
     ]
    }
   ],
   "source": [
    "for child in weatherXML:\n",
    "    print(child.tag, child.attrib)"
   ]
  },
  {
   "cell_type": "code",
   "execution_count": 35,
   "metadata": {},
   "outputs": [
    {
     "name": "stdout",
     "output_type": "stream",
     "text": [
      "Help on _element_iterator object:\n",
      "\n",
      "class _element_iterator(builtins.object)\n",
      " |  Methods defined here:\n",
      " |  \n",
      " |  __iter__(self, /)\n",
      " |      Implement iter(self).\n",
      " |  \n",
      " |  __next__(self, /)\n",
      " |      Implement next(self).\n",
      "\n"
     ]
    }
   ],
   "source": [
    "help(weatherXML.iter())"
   ]
  },
  {
   "cell_type": "markdown",
   "metadata": {},
   "source": [
    "### Python Iterators\n",
    "An iterator is an object that contains a countable number of values.  \\\n",
    "An iterator is an object that can be iterated upon, meaning that you can traverse through all the values. \\\n",
    "Technically, in Python, an iterator is an object which implements the iterator protocol, which consist of the methods __iter__() and __next__()."
   ]
  },
  {
   "cell_type": "code",
   "execution_count": 36,
   "metadata": {},
   "outputs": [
    {
     "name": "stdout",
     "output_type": "stream",
     "text": [
      "weatherdata {}\n",
      "location {}\n",
      "name {}\n",
      "type {}\n",
      "country {}\n",
      "timezone {}\n",
      "location {'altitude': '0', 'latitude': '25.0478', 'longitude': '121.5319', 'geobase': 'geonames', 'geobaseid': '1668341'}\n",
      "credit {}\n",
      "meta {}\n",
      "lastupdate {}\n",
      "calctime {}\n",
      "nextupdate {}\n",
      "sun {'rise': '2020-12-13T22:30:49', 'set': '2020-12-14T09:06:26'}\n",
      "forecast {}\n",
      "time {'from': '2020-12-14T00:00:00', 'to': '2020-12-14T03:00:00'}\n",
      "symbol {'number': '500', 'name': 'light rain', 'var': '10d'}\n",
      "precipitation {'probability': '0.72', 'unit': '3h', 'value': '0.64', 'type': 'rain'}\n",
      "windDirection {'deg': '54', 'code': 'NE', 'name': 'NorthEast'}\n",
      "windSpeed {'mps': '5.46', 'unit': 'm/s', 'name': 'Gentle Breeze'}\n",
      "temperature {'unit': 'kelvin', 'value': '290.33', 'min': '289.88', 'max': '290.33'}\n",
      "feels_like {'value': '287.67', 'unit': 'kelvin'}\n",
      "pressure {'unit': 'hPa', 'value': '1021'}\n",
      "humidity {'value': '80', 'unit': '%'}\n",
      "clouds {'value': 'overcast clouds', 'all': '87', 'unit': '%'}\n",
      "visibility {'value': '10000'}\n",
      "time {'from': '2020-12-14T03:00:00', 'to': '2020-12-14T06:00:00'}\n",
      "symbol {'number': '500', 'name': 'light rain', 'var': '10d'}\n",
      "precipitation {'probability': '0.76', 'unit': '3h', 'value': '1.58', 'type': 'rain'}\n",
      "windDirection {'deg': '46', 'code': 'NE', 'name': 'NorthEast'}\n",
      "windSpeed {'mps': '5.64', 'unit': 'm/s', 'name': 'Moderate breeze'}\n",
      "temperature {'unit': 'kelvin', 'value': '289.57', 'min': '289.24', 'max': '289.57'}\n",
      "feels_like {'value': '286.54', 'unit': 'kelvin'}\n",
      "pressure {'unit': 'hPa', 'value': '1020'}\n",
      "humidity {'value': '80', 'unit': '%'}\n",
      "clouds {'value': 'overcast clouds', 'all': '95', 'unit': '%'}\n",
      "visibility {'value': '10000'}\n",
      "time {'from': '2020-12-14T06:00:00', 'to': '2020-12-14T09:00:00'}\n",
      "symbol {'number': '500', 'name': 'light rain', 'var': '10d'}\n",
      "precipitation {'probability': '0.79', 'unit': '3h', 'value': '1.25', 'type': 'rain'}\n",
      "windDirection {'deg': '42', 'code': 'NE', 'name': 'NorthEast'}\n",
      "windSpeed {'mps': '5.47', 'unit': 'm/s', 'name': 'Gentle Breeze'}\n",
      "temperature {'unit': 'kelvin', 'value': '289.17', 'min': '289.06', 'max': '289.17'}\n",
      "feels_like {'value': '286.2', 'unit': 'kelvin'}\n",
      "pressure {'unit': 'hPa', 'value': '1022'}\n",
      "humidity {'value': '81', 'unit': '%'}\n",
      "clouds {'value': 'overcast clouds', 'all': '98', 'unit': '%'}\n",
      "visibility {'value': '10000'}\n",
      "time {'from': '2020-12-14T09:00:00', 'to': '2020-12-14T12:00:00'}\n",
      "symbol {'number': '500', 'name': 'light rain', 'var': '10n'}\n",
      "precipitation {'probability': '0.76', 'unit': '3h', 'value': '2', 'type': 'rain'}\n",
      "windDirection {'deg': '47', 'code': 'NE', 'name': 'NorthEast'}\n",
      "windSpeed {'mps': '5.53', 'unit': 'm/s', 'name': 'Moderate breeze'}\n",
      "temperature {'unit': 'kelvin', 'value': '288.46', 'min': '288.44', 'max': '288.46'}\n",
      "feels_like {'value': '285.17', 'unit': 'kelvin'}\n",
      "pressure {'unit': 'hPa', 'value': '1024'}\n",
      "humidity {'value': '80', 'unit': '%'}\n",
      "clouds {'value': 'overcast clouds', 'all': '100', 'unit': '%'}\n",
      "visibility {'value': '10000'}\n",
      "time {'from': '2020-12-14T12:00:00', 'to': '2020-12-14T15:00:00'}\n",
      "symbol {'number': '500', 'name': 'light rain', 'var': '10n'}\n",
      "precipitation {'probability': '0.76', 'unit': '3h', 'value': '1.3', 'type': 'rain'}\n",
      "windDirection {'deg': '57', 'code': 'ENE', 'name': 'East-northeast'}\n",
      "windSpeed {'mps': '5.05', 'unit': 'm/s', 'name': 'Gentle Breeze'}\n",
      "temperature {'unit': 'kelvin', 'value': '288.83', 'min': '288.83', 'max': '288.83'}\n",
      "feels_like {'value': '286.11', 'unit': 'kelvin'}\n",
      "pressure {'unit': 'hPa', 'value': '1024'}\n",
      "humidity {'value': '82', 'unit': '%'}\n",
      "clouds {'value': 'overcast clouds', 'all': '100', 'unit': '%'}\n",
      "visibility {'value': '10000'}\n",
      "time {'from': '2020-12-14T15:00:00', 'to': '2020-12-14T18:00:00'}\n",
      "symbol {'number': '500', 'name': 'light rain', 'var': '10n'}\n",
      "precipitation {'probability': '0.83', 'unit': '3h', 'value': '1.84', 'type': 'rain'}\n",
      "windDirection {'deg': '50', 'code': 'NE', 'name': 'NorthEast'}\n",
      "windSpeed {'mps': '5.16', 'unit': 'm/s', 'name': 'Gentle Breeze'}\n",
      "temperature {'unit': 'kelvin', 'value': '288.79', 'min': '288.79', 'max': '288.79'}\n",
      "feels_like {'value': '285.98', 'unit': 'kelvin'}\n",
      "pressure {'unit': 'hPa', 'value': '1024'}\n",
      "humidity {'value': '82', 'unit': '%'}\n",
      "clouds {'value': 'overcast clouds', 'all': '100', 'unit': '%'}\n",
      "visibility {'value': '10000'}\n",
      "time {'from': '2020-12-14T18:00:00', 'to': '2020-12-14T21:00:00'}\n",
      "symbol {'number': '500', 'name': 'light rain', 'var': '10n'}\n",
      "precipitation {'probability': '0.83', 'unit': '3h', 'value': '2.05', 'type': 'rain'}\n",
      "windDirection {'deg': '49', 'code': 'NE', 'name': 'NorthEast'}\n",
      "windSpeed {'mps': '4.94', 'unit': 'm/s', 'name': 'Gentle Breeze'}\n",
      "temperature {'unit': 'kelvin', 'value': '288.74', 'min': '288.74', 'max': '288.74'}\n",
      "feels_like {'value': '286.06', 'unit': 'kelvin'}\n",
      "pressure {'unit': 'hPa', 'value': '1024'}\n",
      "humidity {'value': '82', 'unit': '%'}\n",
      "clouds {'value': 'overcast clouds', 'all': '100', 'unit': '%'}\n",
      "visibility {'value': '10000'}\n",
      "time {'from': '2020-12-14T21:00:00', 'to': '2020-12-15T00:00:00'}\n",
      "symbol {'number': '500', 'name': 'light rain', 'var': '10d'}\n",
      "precipitation {'probability': '0.83', 'unit': '3h', 'value': '1.67', 'type': 'rain'}\n",
      "windDirection {'deg': '60', 'code': 'ENE', 'name': 'East-northeast'}\n",
      "windSpeed {'mps': '4.98', 'unit': 'm/s', 'name': 'Gentle Breeze'}\n",
      "temperature {'unit': 'kelvin', 'value': '288.89', 'min': '288.89', 'max': '288.89'}\n",
      "feels_like {'value': '286.23', 'unit': 'kelvin'}\n",
      "pressure {'unit': 'hPa', 'value': '1025'}\n",
      "humidity {'value': '82', 'unit': '%'}\n",
      "clouds {'value': 'overcast clouds', 'all': '100', 'unit': '%'}\n",
      "visibility {'value': '10000'}\n",
      "time {'from': '2020-12-15T00:00:00', 'to': '2020-12-15T03:00:00'}\n",
      "symbol {'number': '500', 'name': 'light rain', 'var': '10d'}\n",
      "precipitation {'probability': '0.79', 'unit': '3h', 'value': '0.64', 'type': 'rain'}\n",
      "windDirection {'deg': '59', 'code': 'ENE', 'name': 'East-northeast'}\n",
      "windSpeed {'mps': '4.96', 'unit': 'm/s', 'name': 'Gentle Breeze'}\n",
      "temperature {'unit': 'kelvin', 'value': '289.45', 'min': '289.45', 'max': '289.45'}\n",
      "feels_like {'value': '286.86', 'unit': 'kelvin'}\n",
      "pressure {'unit': 'hPa', 'value': '1025'}\n",
      "humidity {'value': '80', 'unit': '%'}\n",
      "clouds {'value': 'overcast clouds', 'all': '100', 'unit': '%'}\n",
      "visibility {'value': '10000'}\n",
      "time {'from': '2020-12-15T03:00:00', 'to': '2020-12-15T06:00:00'}\n",
      "symbol {'number': '500', 'name': 'light rain', 'var': '10d'}\n",
      "precipitation {'probability': '0.79', 'unit': '3h', 'value': '0.75', 'type': 'rain'}\n",
      "windDirection {'deg': '53', 'code': 'NE', 'name': 'NorthEast'}\n",
      "windSpeed {'mps': '4.74', 'unit': 'm/s', 'name': 'Gentle Breeze'}\n",
      "temperature {'unit': 'kelvin', 'value': '289.35', 'min': '289.35', 'max': '289.35'}\n",
      "feels_like {'value': '286.94', 'unit': 'kelvin'}\n",
      "pressure {'unit': 'hPa', 'value': '1023'}\n",
      "humidity {'value': '81', 'unit': '%'}\n",
      "clouds {'value': 'overcast clouds', 'all': '100', 'unit': '%'}\n",
      "visibility {'value': '10000'}\n",
      "time {'from': '2020-12-15T06:00:00', 'to': '2020-12-15T09:00:00'}\n",
      "symbol {'number': '500', 'name': 'light rain', 'var': '10d'}\n",
      "precipitation {'probability': '0.79', 'unit': '3h', 'value': '1.05', 'type': 'rain'}\n",
      "windDirection {'deg': '54', 'code': 'NE', 'name': 'NorthEast'}\n",
      "windSpeed {'mps': '5.25', 'unit': 'm/s', 'name': 'Gentle Breeze'}\n",
      "temperature {'unit': 'kelvin', 'value': '289.39', 'min': '289.39', 'max': '289.39'}\n",
      "feels_like {'value': '286.7', 'unit': 'kelvin'}\n",
      "pressure {'unit': 'hPa', 'value': '1023'}\n",
      "humidity {'value': '82', 'unit': '%'}\n",
      "clouds {'value': 'overcast clouds', 'all': '100', 'unit': '%'}\n",
      "visibility {'value': '10000'}\n",
      "time {'from': '2020-12-15T09:00:00', 'to': '2020-12-15T12:00:00'}\n",
      "symbol {'number': '500', 'name': 'light rain', 'var': '10n'}\n",
      "precipitation {'probability': '0.79', 'unit': '3h', 'value': '1.36', 'type': 'rain'}\n",
      "windDirection {'deg': '62', 'code': 'ENE', 'name': 'East-northeast'}\n",
      "windSpeed {'mps': '5.29', 'unit': 'm/s', 'name': 'Gentle Breeze'}\n",
      "temperature {'unit': 'kelvin', 'value': '289.5', 'min': '289.5', 'max': '289.5'}\n",
      "feels_like {'value': '286.82', 'unit': 'kelvin'}\n",
      "pressure {'unit': 'hPa', 'value': '1025'}\n",
      "humidity {'value': '82', 'unit': '%'}\n",
      "clouds {'value': 'overcast clouds', 'all': '100', 'unit': '%'}\n",
      "visibility {'value': '10000'}\n",
      "time {'from': '2020-12-15T12:00:00', 'to': '2020-12-15T15:00:00'}\n",
      "symbol {'number': '500', 'name': 'light rain', 'var': '10n'}\n",
      "precipitation {'probability': '0.79', 'unit': '3h', 'value': '1.03', 'type': 'rain'}\n",
      "windDirection {'deg': '62', 'code': 'ENE', 'name': 'East-northeast'}\n",
      "windSpeed {'mps': '5.12', 'unit': 'm/s', 'name': 'Gentle Breeze'}\n",
      "temperature {'unit': 'kelvin', 'value': '289.49', 'min': '289.49', 'max': '289.49'}\n",
      "feels_like {'value': '286.98', 'unit': 'kelvin'}\n",
      "pressure {'unit': 'hPa', 'value': '1025'}\n",
      "humidity {'value': '83', 'unit': '%'}\n",
      "clouds {'value': 'overcast clouds', 'all': '100', 'unit': '%'}\n",
      "visibility {'value': '10000'}\n",
      "time {'from': '2020-12-15T15:00:00', 'to': '2020-12-15T18:00:00'}\n",
      "symbol {'number': '500', 'name': 'light rain', 'var': '10n'}\n",
      "precipitation {'probability': '0.82', 'unit': '3h', 'value': '1.57', 'type': 'rain'}\n",
      "windDirection {'deg': '59', 'code': 'ENE', 'name': 'East-northeast'}\n",
      "windSpeed {'mps': '4.99', 'unit': 'm/s', 'name': 'Gentle Breeze'}\n",
      "temperature {'unit': 'kelvin', 'value': '289.28', 'min': '289.28', 'max': '289.28'}\n",
      "feels_like {'value': '286.86', 'unit': 'kelvin'}\n",
      "pressure {'unit': 'hPa', 'value': '1024'}\n",
      "humidity {'value': '84', 'unit': '%'}\n",
      "clouds {'value': 'overcast clouds', 'all': '100', 'unit': '%'}\n",
      "visibility {'value': '10000'}\n",
      "time {'from': '2020-12-15T18:00:00', 'to': '2020-12-15T21:00:00'}\n",
      "symbol {'number': '501', 'name': 'moderate rain', 'var': '10n'}\n",
      "precipitation {'probability': '0.83', 'unit': '3h', 'value': '3.27', 'type': 'rain'}\n",
      "windDirection {'deg': '49', 'code': 'NE', 'name': 'NorthEast'}\n",
      "windSpeed {'mps': '4.82', 'unit': 'm/s', 'name': 'Gentle Breeze'}\n",
      "temperature {'unit': 'kelvin', 'value': '289.06', 'min': '289.06', 'max': '289.06'}\n",
      "feels_like {'value': '286.75', 'unit': 'kelvin'}\n",
      "pressure {'unit': 'hPa', 'value': '1024'}\n",
      "humidity {'value': '85', 'unit': '%'}\n",
      "clouds {'value': 'overcast clouds', 'all': '100', 'unit': '%'}\n",
      "visibility {'value': '7070'}\n",
      "time {'from': '2020-12-15T21:00:00', 'to': '2020-12-16T00:00:00'}\n",
      "symbol {'number': '500', 'name': 'light rain', 'var': '10d'}\n",
      "precipitation {'probability': '0.86', 'unit': '3h', 'value': '2.8', 'type': 'rain'}\n",
      "windDirection {'deg': '54', 'code': 'NE', 'name': 'NorthEast'}\n",
      "windSpeed {'mps': '5.73', 'unit': 'm/s', 'name': 'Moderate breeze'}\n",
      "temperature {'unit': 'kelvin', 'value': '288.96', 'min': '288.96', 'max': '288.96'}\n",
      "feels_like {'value': '285.86', 'unit': 'kelvin'}\n",
      "pressure {'unit': 'hPa', 'value': '1026'}\n",
      "humidity {'value': '83', 'unit': '%'}\n",
      "clouds {'value': 'overcast clouds', 'all': '100', 'unit': '%'}\n",
      "visibility {'value': '10000'}\n",
      "time {'from': '2020-12-16T00:00:00', 'to': '2020-12-16T03:00:00'}\n",
      "symbol {'number': '500', 'name': 'light rain', 'var': '10d'}\n",
      "precipitation {'probability': '0.79', 'unit': '3h', 'value': '1.36', 'type': 'rain'}\n",
      "windDirection {'deg': '58', 'code': 'ENE', 'name': 'East-northeast'}\n",
      "windSpeed {'mps': '5.66', 'unit': 'm/s', 'name': 'Moderate breeze'}\n",
      "temperature {'unit': 'kelvin', 'value': '289.26', 'min': '289.26', 'max': '289.26'}\n",
      "feels_like {'value': '286.18', 'unit': 'kelvin'}\n",
      "pressure {'unit': 'hPa', 'value': '1026'}\n",
      "humidity {'value': '81', 'unit': '%'}\n",
      "clouds {'value': 'overcast clouds', 'all': '100', 'unit': '%'}\n",
      "visibility {'value': '10000'}\n",
      "time {'from': '2020-12-16T03:00:00', 'to': '2020-12-16T06:00:00'}\n",
      "symbol {'number': '500', 'name': 'light rain', 'var': '10d'}\n",
      "precipitation {'probability': '0.79', 'unit': '3h', 'value': '0.98', 'type': 'rain'}\n",
      "windDirection {'deg': '55', 'code': 'NE', 'name': 'NorthEast'}\n",
      "windSpeed {'mps': '5.32', 'unit': 'm/s', 'name': 'Gentle Breeze'}\n",
      "temperature {'unit': 'kelvin', 'value': '289.56', 'min': '289.56', 'max': '289.56'}\n",
      "feels_like {'value': '286.69', 'unit': 'kelvin'}\n",
      "pressure {'unit': 'hPa', 'value': '1024'}\n",
      "humidity {'value': '79', 'unit': '%'}\n",
      "clouds {'value': 'overcast clouds', 'all': '99', 'unit': '%'}\n",
      "visibility {'value': '10000'}\n",
      "time {'from': '2020-12-16T06:00:00', 'to': '2020-12-16T09:00:00'}\n",
      "symbol {'number': '500', 'name': 'light rain', 'var': '10d'}\n",
      "precipitation {'probability': '0.75', 'unit': '3h', 'value': '0.94', 'type': 'rain'}\n",
      "windDirection {'deg': '61', 'code': 'ENE', 'name': 'East-northeast'}\n",
      "windSpeed {'mps': '5.32', 'unit': 'm/s', 'name': 'Gentle Breeze'}\n",
      "temperature {'unit': 'kelvin', 'value': '289.16', 'min': '289.16', 'max': '289.16'}\n",
      "feels_like {'value': '286.29', 'unit': 'kelvin'}\n",
      "pressure {'unit': 'hPa', 'value': '1024'}\n",
      "humidity {'value': '81', 'unit': '%'}\n",
      "clouds {'value': 'overcast clouds', 'all': '100', 'unit': '%'}\n",
      "visibility {'value': '10000'}\n",
      "time {'from': '2020-12-16T09:00:00', 'to': '2020-12-16T12:00:00'}\n",
      "symbol {'number': '500', 'name': 'light rain', 'var': '10n'}\n",
      "precipitation {'probability': '0.75', 'unit': '3h', 'value': '0.92', 'type': 'rain'}\n",
      "windDirection {'deg': '65', 'code': 'ENE', 'name': 'East-northeast'}\n",
      "windSpeed {'mps': '5.83', 'unit': 'm/s', 'name': 'Moderate breeze'}\n",
      "temperature {'unit': 'kelvin', 'value': '289.05', 'min': '289.05', 'max': '289.05'}\n",
      "feels_like {'value': '285.79', 'unit': 'kelvin'}\n",
      "pressure {'unit': 'hPa', 'value': '1025'}\n",
      "humidity {'value': '81', 'unit': '%'}\n",
      "clouds {'value': 'overcast clouds', 'all': '100', 'unit': '%'}\n",
      "visibility {'value': '10000'}\n",
      "time {'from': '2020-12-16T12:00:00', 'to': '2020-12-16T15:00:00'}\n",
      "symbol {'number': '500', 'name': 'light rain', 'var': '10n'}\n",
      "precipitation {'probability': '0.75', 'unit': '3h', 'value': '1.19', 'type': 'rain'}\n",
      "windDirection {'deg': '67', 'code': 'ENE', 'name': 'East-northeast'}\n",
      "windSpeed {'mps': '5.18', 'unit': 'm/s', 'name': 'Gentle Breeze'}\n",
      "temperature {'unit': 'kelvin', 'value': '288.94', 'min': '288.94', 'max': '288.94'}\n",
      "feels_like {'value': '286.1', 'unit': 'kelvin'}\n",
      "pressure {'unit': 'hPa', 'value': '1025'}\n",
      "humidity {'value': '81', 'unit': '%'}\n",
      "clouds {'value': 'overcast clouds', 'all': '100', 'unit': '%'}\n",
      "visibility {'value': '10000'}\n",
      "time {'from': '2020-12-16T15:00:00', 'to': '2020-12-16T18:00:00'}\n",
      "symbol {'number': '500', 'name': 'light rain', 'var': '10n'}\n",
      "precipitation {'probability': '0.79', 'unit': '3h', 'value': '1.19', 'type': 'rain'}\n",
      "windDirection {'deg': '70', 'code': 'ENE', 'name': 'East-northeast'}\n",
      "windSpeed {'mps': '4.92', 'unit': 'm/s', 'name': 'Gentle Breeze'}\n",
      "temperature {'unit': 'kelvin', 'value': '288.85', 'min': '288.85', 'max': '288.85'}\n",
      "feels_like {'value': '286.16', 'unit': 'kelvin'}\n",
      "pressure {'unit': 'hPa', 'value': '1024'}\n",
      "humidity {'value': '81', 'unit': '%'}\n",
      "clouds {'value': 'overcast clouds', 'all': '100', 'unit': '%'}\n",
      "visibility {'value': '10000'}\n",
      "time {'from': '2020-12-16T18:00:00', 'to': '2020-12-16T21:00:00'}\n",
      "symbol {'number': '500', 'name': 'light rain', 'var': '10n'}\n",
      "precipitation {'probability': '0.83', 'unit': '3h', 'value': '2.63', 'type': 'rain'}\n",
      "windDirection {'deg': '59', 'code': 'ENE', 'name': 'East-northeast'}\n",
      "windSpeed {'mps': '5.23', 'unit': 'm/s', 'name': 'Gentle Breeze'}\n",
      "temperature {'unit': 'kelvin', 'value': '288.96', 'min': '288.96', 'max': '288.96'}\n",
      "feels_like {'value': '286.27', 'unit': 'kelvin'}\n",
      "pressure {'unit': 'hPa', 'value': '1024'}\n",
      "humidity {'value': '84', 'unit': '%'}\n",
      "clouds {'value': 'overcast clouds', 'all': '100', 'unit': '%'}\n",
      "visibility {'value': '10000'}\n",
      "time {'from': '2020-12-16T21:00:00', 'to': '2020-12-17T00:00:00'}\n",
      "symbol {'number': '500', 'name': 'light rain', 'var': '10d'}\n",
      "precipitation {'probability': '0.79', 'unit': '3h', 'value': '1.89', 'type': 'rain'}\n",
      "windDirection {'deg': '67', 'code': 'ENE', 'name': 'East-northeast'}\n",
      "windSpeed {'mps': '4.8', 'unit': 'm/s', 'name': 'Gentle Breeze'}\n",
      "temperature {'unit': 'kelvin', 'value': '289.16', 'min': '289.16', 'max': '289.16'}\n",
      "feels_like {'value': '286.71', 'unit': 'kelvin'}\n",
      "pressure {'unit': 'hPa', 'value': '1025'}\n",
      "humidity {'value': '82', 'unit': '%'}\n",
      "clouds {'value': 'overcast clouds', 'all': '100', 'unit': '%'}\n",
      "visibility {'value': '10000'}\n",
      "time {'from': '2020-12-17T00:00:00', 'to': '2020-12-17T03:00:00'}\n",
      "symbol {'number': '500', 'name': 'light rain', 'var': '10d'}\n",
      "precipitation {'probability': '0.75', 'unit': '3h', 'value': '1.48', 'type': 'rain'}\n",
      "windDirection {'deg': '63', 'code': 'ENE', 'name': 'East-northeast'}\n",
      "windSpeed {'mps': '5.03', 'unit': 'm/s', 'name': 'Gentle Breeze'}\n",
      "temperature {'unit': 'kelvin', 'value': '289.34', 'min': '289.34', 'max': '289.34'}\n",
      "feels_like {'value': '286.85', 'unit': 'kelvin'}\n",
      "pressure {'unit': 'hPa', 'value': '1025'}\n",
      "humidity {'value': '83', 'unit': '%'}\n",
      "clouds {'value': 'overcast clouds', 'all': '100', 'unit': '%'}\n",
      "visibility {'value': '10000'}\n",
      "time {'from': '2020-12-17T03:00:00', 'to': '2020-12-17T06:00:00'}\n",
      "symbol {'number': '500', 'name': 'light rain', 'var': '10d'}\n",
      "precipitation {'probability': '0.75', 'unit': '3h', 'value': '1.46', 'type': 'rain'}\n",
      "windDirection {'deg': '69', 'code': 'ENE', 'name': 'East-northeast'}\n",
      "windSpeed {'mps': '5.17', 'unit': 'm/s', 'name': 'Gentle Breeze'}\n",
      "temperature {'unit': 'kelvin', 'value': '289.28', 'min': '289.28', 'max': '289.28'}\n",
      "feels_like {'value': '286.61', 'unit': 'kelvin'}\n",
      "pressure {'unit': 'hPa', 'value': '1023'}\n",
      "humidity {'value': '82', 'unit': '%'}\n",
      "clouds {'value': 'overcast clouds', 'all': '100', 'unit': '%'}\n",
      "visibility {'value': '10000'}\n",
      "time {'from': '2020-12-17T06:00:00', 'to': '2020-12-17T09:00:00'}\n",
      "symbol {'number': '500', 'name': 'light rain', 'var': '10d'}\n",
      "precipitation {'probability': '0.47', 'unit': '3h', 'value': '0.47', 'type': 'rain'}\n",
      "windDirection {'deg': '72', 'code': 'ENE', 'name': 'East-northeast'}\n",
      "windSpeed {'mps': '4.84', 'unit': 'm/s', 'name': 'Gentle Breeze'}\n",
      "temperature {'unit': 'kelvin', 'value': '289.46', 'min': '289.46', 'max': '289.46'}\n",
      "feels_like {'value': '286.96', 'unit': 'kelvin'}\n",
      "pressure {'unit': 'hPa', 'value': '1023'}\n",
      "humidity {'value': '80', 'unit': '%'}\n",
      "clouds {'value': 'overcast clouds', 'all': '100', 'unit': '%'}\n",
      "visibility {'value': '10000'}\n",
      "time {'from': '2020-12-17T09:00:00', 'to': '2020-12-17T12:00:00'}\n",
      "symbol {'number': '500', 'name': 'light rain', 'var': '10n'}\n",
      "precipitation {'probability': '0.57', 'unit': '3h', 'value': '0.23', 'type': 'rain'}\n",
      "windDirection {'deg': '81', 'code': 'E', 'name': 'East'}\n",
      "windSpeed {'mps': '4.39', 'unit': 'm/s', 'name': 'Gentle Breeze'}\n",
      "temperature {'unit': 'kelvin', 'value': '289.86', 'min': '289.86', 'max': '289.86'}\n",
      "feels_like {'value': '287.74', 'unit': 'kelvin'}\n",
      "pressure {'unit': 'hPa', 'value': '1024'}\n",
      "humidity {'value': '79', 'unit': '%'}\n",
      "clouds {'value': 'overcast clouds', 'all': '100', 'unit': '%'}\n",
      "visibility {'value': '10000'}\n",
      "time {'from': '2020-12-17T12:00:00', 'to': '2020-12-17T15:00:00'}\n",
      "symbol {'number': '500', 'name': 'light rain', 'var': '10n'}\n",
      "precipitation {'probability': '0.56', 'unit': '3h', 'value': '0.3', 'type': 'rain'}\n",
      "windDirection {'deg': '85', 'code': 'E', 'name': 'East'}\n",
      "windSpeed {'mps': '4.55', 'unit': 'm/s', 'name': 'Gentle Breeze'}\n",
      "temperature {'unit': 'kelvin', 'value': '290.13', 'min': '290.13', 'max': '290.13'}\n",
      "feels_like {'value': '288.11', 'unit': 'kelvin'}\n",
      "pressure {'unit': 'hPa', 'value': '1024'}\n",
      "humidity {'value': '81', 'unit': '%'}\n",
      "clouds {'value': 'overcast clouds', 'all': '88', 'unit': '%'}\n",
      "visibility {'value': '10000'}\n",
      "time {'from': '2020-12-17T15:00:00', 'to': '2020-12-17T18:00:00'}\n",
      "symbol {'number': '500', 'name': 'light rain', 'var': '10n'}\n",
      "precipitation {'probability': '0.64', 'unit': '3h', 'value': '0.64', 'type': 'rain'}\n",
      "windDirection {'deg': '83', 'code': 'E', 'name': 'East'}\n",
      "windSpeed {'mps': '4.71', 'unit': 'm/s', 'name': 'Gentle Breeze'}\n",
      "temperature {'unit': 'kelvin', 'value': '290.38', 'min': '290.38', 'max': '290.38'}\n",
      "feels_like {'value': '288.52', 'unit': 'kelvin'}\n",
      "pressure {'unit': 'hPa', 'value': '1023'}\n",
      "humidity {'value': '84', 'unit': '%'}\n",
      "clouds {'value': 'overcast clouds', 'all': '93', 'unit': '%'}\n",
      "visibility {'value': '10000'}\n",
      "time {'from': '2020-12-17T18:00:00', 'to': '2020-12-17T21:00:00'}\n",
      "symbol {'number': '500', 'name': 'light rain', 'var': '10n'}\n",
      "precipitation {'probability': '0.68', 'unit': '3h', 'value': '1.92', 'type': 'rain'}\n",
      "windDirection {'deg': '74', 'code': 'ENE', 'name': 'East-northeast'}\n",
      "windSpeed {'mps': '5.17', 'unit': 'm/s', 'name': 'Gentle Breeze'}\n",
      "temperature {'unit': 'kelvin', 'value': '290.69', 'min': '290.69', 'max': '290.69'}\n",
      "feels_like {'value': '288.75', 'unit': 'kelvin'}\n",
      "pressure {'unit': 'hPa', 'value': '1022'}\n",
      "humidity {'value': '86', 'unit': '%'}\n",
      "clouds {'value': 'overcast clouds', 'all': '100', 'unit': '%'}\n",
      "visibility {'value': '10000'}\n",
      "time {'from': '2020-12-17T21:00:00', 'to': '2020-12-18T00:00:00'}\n",
      "symbol {'number': '500', 'name': 'light rain', 'var': '10d'}\n",
      "precipitation {'probability': '0.75', 'unit': '3h', 'value': '2.62', 'type': 'rain'}\n",
      "windDirection {'deg': '79', 'code': 'E', 'name': 'East'}\n",
      "windSpeed {'mps': '5.32', 'unit': 'm/s', 'name': 'Gentle Breeze'}\n",
      "temperature {'unit': 'kelvin', 'value': '290.94', 'min': '290.94', 'max': '290.94'}\n",
      "feels_like {'value': '288.98', 'unit': 'kelvin'}\n",
      "pressure {'unit': 'hPa', 'value': '1024'}\n",
      "humidity {'value': '86', 'unit': '%'}\n",
      "clouds {'value': 'overcast clouds', 'all': '100', 'unit': '%'}\n",
      "visibility {'value': '10000'}\n",
      "time {'from': '2020-12-18T00:00:00', 'to': '2020-12-18T03:00:00'}\n",
      "symbol {'number': '500', 'name': 'light rain', 'var': '10d'}\n",
      "precipitation {'probability': '0.71', 'unit': '3h', 'value': '0.81', 'type': 'rain'}\n",
      "windDirection {'deg': '77', 'code': 'ENE', 'name': 'East-northeast'}\n",
      "windSpeed {'mps': '4.84', 'unit': 'm/s', 'name': 'Gentle Breeze'}\n",
      "temperature {'unit': 'kelvin', 'value': '291.76', 'min': '291.76', 'max': '291.76'}\n",
      "feels_like {'value': '290.16', 'unit': 'kelvin'}\n",
      "pressure {'unit': 'hPa', 'value': '1023'}\n",
      "humidity {'value': '82', 'unit': '%'}\n",
      "clouds {'value': 'overcast clouds', 'all': '96', 'unit': '%'}\n",
      "visibility {'value': '10000'}\n",
      "time {'from': '2020-12-18T03:00:00', 'to': '2020-12-18T06:00:00'}\n",
      "symbol {'number': '500', 'name': 'light rain', 'var': '10d'}\n",
      "precipitation {'probability': '0.71', 'unit': '3h', 'value': '0.63', 'type': 'rain'}\n",
      "windDirection {'deg': '81', 'code': 'E', 'name': 'East'}\n",
      "windSpeed {'mps': '5', 'unit': 'm/s', 'name': 'Gentle Breeze'}\n",
      "temperature {'unit': 'kelvin', 'value': '292.77', 'min': '292.77', 'max': '292.77'}\n",
      "feels_like {'value': '291.21', 'unit': 'kelvin'}\n",
      "pressure {'unit': 'hPa', 'value': '1021'}\n",
      "humidity {'value': '79', 'unit': '%'}\n",
      "clouds {'value': 'overcast clouds', 'all': '87', 'unit': '%'}\n",
      "visibility {'value': '10000'}\n",
      "time {'from': '2020-12-18T06:00:00', 'to': '2020-12-18T09:00:00'}\n",
      "symbol {'number': '500', 'name': 'light rain', 'var': '10d'}\n",
      "precipitation {'probability': '0.7', 'unit': '3h', 'value': '1.31', 'type': 'rain'}\n",
      "windDirection {'deg': '75', 'code': 'ENE', 'name': 'East-northeast'}\n",
      "windSpeed {'mps': '5.19', 'unit': 'm/s', 'name': 'Gentle Breeze'}\n",
      "temperature {'unit': 'kelvin', 'value': '291.82', 'min': '291.82', 'max': '291.82'}\n",
      "feels_like {'value': '290.14', 'unit': 'kelvin'}\n",
      "pressure {'unit': 'hPa', 'value': '1021'}\n",
      "humidity {'value': '84', 'unit': '%'}\n",
      "clouds {'value': 'broken clouds', 'all': '77', 'unit': '%'}\n",
      "visibility {'value': '10000'}\n",
      "time {'from': '2020-12-18T09:00:00', 'to': '2020-12-18T12:00:00'}\n",
      "symbol {'number': '500', 'name': 'light rain', 'var': '10n'}\n",
      "precipitation {'probability': '0.64', 'unit': '3h', 'value': '1.9', 'type': 'rain'}\n",
      "windDirection {'deg': '73', 'code': 'ENE', 'name': 'East-northeast'}\n",
      "windSpeed {'mps': '5.26', 'unit': 'm/s', 'name': 'Gentle Breeze'}\n",
      "temperature {'unit': 'kelvin', 'value': '291.79', 'min': '291.79', 'max': '291.79'}\n",
      "feels_like {'value': '290.05', 'unit': 'kelvin'}\n",
      "pressure {'unit': 'hPa', 'value': '1023'}\n",
      "humidity {'value': '84', 'unit': '%'}\n",
      "clouds {'value': 'overcast clouds', 'all': '89', 'unit': '%'}\n",
      "visibility {'value': '10000'}\n",
      "time {'from': '2020-12-18T12:00:00', 'to': '2020-12-18T15:00:00'}\n",
      "symbol {'number': '500', 'name': 'light rain', 'var': '10n'}\n",
      "precipitation {'probability': '0.62', 'unit': '3h', 'value': '2.81', 'type': 'rain'}\n",
      "windDirection {'deg': '67', 'code': 'ENE', 'name': 'East-northeast'}\n",
      "windSpeed {'mps': '5.16', 'unit': 'm/s', 'name': 'Gentle Breeze'}\n",
      "temperature {'unit': 'kelvin', 'value': '291.68', 'min': '291.68', 'max': '291.68'}\n",
      "feels_like {'value': '290.11', 'unit': 'kelvin'}\n",
      "pressure {'unit': 'hPa', 'value': '1023'}\n",
      "humidity {'value': '86', 'unit': '%'}\n",
      "clouds {'value': 'overcast clouds', 'all': '100', 'unit': '%'}\n",
      "visibility {'value': '10000'}\n",
      "time {'from': '2020-12-18T15:00:00', 'to': '2020-12-18T18:00:00'}\n",
      "symbol {'number': '501', 'name': 'moderate rain', 'var': '10n'}\n",
      "precipitation {'probability': '0.62', 'unit': '3h', 'value': '3.33', 'type': 'rain'}\n",
      "windDirection {'deg': '60', 'code': 'ENE', 'name': 'East-northeast'}\n",
      "windSpeed {'mps': '4.93', 'unit': 'm/s', 'name': 'Gentle Breeze'}\n",
      "temperature {'unit': 'kelvin', 'value': '291.73', 'min': '291.73', 'max': '291.73'}\n",
      "feels_like {'value': '290.41', 'unit': 'kelvin'}\n",
      "pressure {'unit': 'hPa', 'value': '1022'}\n",
      "humidity {'value': '87', 'unit': '%'}\n",
      "clouds {'value': 'overcast clouds', 'all': '100', 'unit': '%'}\n",
      "visibility {'value': '10000'}\n",
      "time {'from': '2020-12-18T18:00:00', 'to': '2020-12-18T21:00:00'}\n",
      "symbol {'number': '500', 'name': 'light rain', 'var': '10n'}\n",
      "precipitation {'probability': '0.58', 'unit': '3h', 'value': '2.25', 'type': 'rain'}\n",
      "windDirection {'deg': '49', 'code': 'NE', 'name': 'NorthEast'}\n",
      "windSpeed {'mps': '4.18', 'unit': 'm/s', 'name': 'Gentle Breeze'}\n",
      "temperature {'unit': 'kelvin', 'value': '291.51', 'min': '291.51', 'max': '291.51'}\n",
      "feels_like {'value': '290.56', 'unit': 'kelvin'}\n",
      "pressure {'unit': 'hPa', 'value': '1022'}\n",
      "humidity {'value': '86', 'unit': '%'}\n",
      "clouds {'value': 'overcast clouds', 'all': '99', 'unit': '%'}\n",
      "visibility {'value': '10000'}\n",
      "time {'from': '2020-12-18T21:00:00', 'to': '2020-12-19T00:00:00'}\n",
      "symbol {'number': '500', 'name': 'light rain', 'var': '10d'}\n",
      "precipitation {'probability': '0.71', 'unit': '3h', 'value': '1.35', 'type': 'rain'}\n",
      "windDirection {'deg': '55', 'code': 'NE', 'name': 'NorthEast'}\n",
      "windSpeed {'mps': '4.1', 'unit': 'm/s', 'name': 'Gentle Breeze'}\n",
      "temperature {'unit': 'kelvin', 'value': '291.67', 'min': '291.67', 'max': '291.67'}\n",
      "feels_like {'value': '290.7', 'unit': 'kelvin'}\n",
      "pressure {'unit': 'hPa', 'value': '1023'}\n",
      "humidity {'value': '84', 'unit': '%'}\n",
      "clouds {'value': 'overcast clouds', 'all': '96', 'unit': '%'}\n",
      "visibility {'value': '10000'}\n"
     ]
    }
   ],
   "source": [
    "# 把整個 weatherXML 整棵樹的 tag 按 deep-first search 的方式走一遍\n",
    "for elem in weatherXML.iter():\n",
    "    print(elem.tag, elem.attrib)"
   ]
  },
  {
   "cell_type": "code",
   "execution_count": 37,
   "metadata": {},
   "outputs": [
    {
     "name": "stdout",
     "output_type": "stream",
     "text": [
      "temperature {'unit': 'kelvin', 'value': '290.33', 'min': '289.88', 'max': '290.33'}\n",
      "temperature {'unit': 'kelvin', 'value': '289.57', 'min': '289.24', 'max': '289.57'}\n",
      "temperature {'unit': 'kelvin', 'value': '289.17', 'min': '289.06', 'max': '289.17'}\n",
      "temperature {'unit': 'kelvin', 'value': '288.46', 'min': '288.44', 'max': '288.46'}\n",
      "temperature {'unit': 'kelvin', 'value': '288.83', 'min': '288.83', 'max': '288.83'}\n",
      "temperature {'unit': 'kelvin', 'value': '288.79', 'min': '288.79', 'max': '288.79'}\n",
      "temperature {'unit': 'kelvin', 'value': '288.74', 'min': '288.74', 'max': '288.74'}\n",
      "temperature {'unit': 'kelvin', 'value': '288.89', 'min': '288.89', 'max': '288.89'}\n",
      "temperature {'unit': 'kelvin', 'value': '289.45', 'min': '289.45', 'max': '289.45'}\n",
      "temperature {'unit': 'kelvin', 'value': '289.35', 'min': '289.35', 'max': '289.35'}\n",
      "temperature {'unit': 'kelvin', 'value': '289.39', 'min': '289.39', 'max': '289.39'}\n",
      "temperature {'unit': 'kelvin', 'value': '289.5', 'min': '289.5', 'max': '289.5'}\n",
      "temperature {'unit': 'kelvin', 'value': '289.49', 'min': '289.49', 'max': '289.49'}\n",
      "temperature {'unit': 'kelvin', 'value': '289.28', 'min': '289.28', 'max': '289.28'}\n",
      "temperature {'unit': 'kelvin', 'value': '289.06', 'min': '289.06', 'max': '289.06'}\n",
      "temperature {'unit': 'kelvin', 'value': '288.96', 'min': '288.96', 'max': '288.96'}\n",
      "temperature {'unit': 'kelvin', 'value': '289.26', 'min': '289.26', 'max': '289.26'}\n",
      "temperature {'unit': 'kelvin', 'value': '289.56', 'min': '289.56', 'max': '289.56'}\n",
      "temperature {'unit': 'kelvin', 'value': '289.16', 'min': '289.16', 'max': '289.16'}\n",
      "temperature {'unit': 'kelvin', 'value': '289.05', 'min': '289.05', 'max': '289.05'}\n",
      "temperature {'unit': 'kelvin', 'value': '288.94', 'min': '288.94', 'max': '288.94'}\n",
      "temperature {'unit': 'kelvin', 'value': '288.85', 'min': '288.85', 'max': '288.85'}\n",
      "temperature {'unit': 'kelvin', 'value': '288.96', 'min': '288.96', 'max': '288.96'}\n",
      "temperature {'unit': 'kelvin', 'value': '289.16', 'min': '289.16', 'max': '289.16'}\n",
      "temperature {'unit': 'kelvin', 'value': '289.34', 'min': '289.34', 'max': '289.34'}\n",
      "temperature {'unit': 'kelvin', 'value': '289.28', 'min': '289.28', 'max': '289.28'}\n",
      "temperature {'unit': 'kelvin', 'value': '289.46', 'min': '289.46', 'max': '289.46'}\n",
      "temperature {'unit': 'kelvin', 'value': '289.86', 'min': '289.86', 'max': '289.86'}\n",
      "temperature {'unit': 'kelvin', 'value': '290.13', 'min': '290.13', 'max': '290.13'}\n",
      "temperature {'unit': 'kelvin', 'value': '290.38', 'min': '290.38', 'max': '290.38'}\n",
      "temperature {'unit': 'kelvin', 'value': '290.69', 'min': '290.69', 'max': '290.69'}\n",
      "temperature {'unit': 'kelvin', 'value': '290.94', 'min': '290.94', 'max': '290.94'}\n",
      "temperature {'unit': 'kelvin', 'value': '291.76', 'min': '291.76', 'max': '291.76'}\n",
      "temperature {'unit': 'kelvin', 'value': '292.77', 'min': '292.77', 'max': '292.77'}\n",
      "temperature {'unit': 'kelvin', 'value': '291.82', 'min': '291.82', 'max': '291.82'}\n",
      "temperature {'unit': 'kelvin', 'value': '291.79', 'min': '291.79', 'max': '291.79'}\n",
      "temperature {'unit': 'kelvin', 'value': '291.68', 'min': '291.68', 'max': '291.68'}\n",
      "temperature {'unit': 'kelvin', 'value': '291.73', 'min': '291.73', 'max': '291.73'}\n",
      "temperature {'unit': 'kelvin', 'value': '291.51', 'min': '291.51', 'max': '291.51'}\n",
      "temperature {'unit': 'kelvin', 'value': '291.67', 'min': '291.67', 'max': '291.67'}\n"
     ]
    }
   ],
   "source": [
    "# 可以定 tag = \"temperature\" 的條件\n",
    "for elem in weatherXML.iter(\"temperature\"):\n",
    "    print(elem.tag, elem.attrib)"
   ]
  },
  {
   "cell_type": "code",
   "execution_count": 38,
   "metadata": {},
   "outputs": [
    {
     "name": "stdout",
     "output_type": "stream",
     "text": [
      "1 temperature {'unit': 'kelvin', 'value': '290.33', 'min': '289.88', 'max': '290.33'}\n",
      "2 temperature {'unit': 'kelvin', 'value': '289.57', 'min': '289.24', 'max': '289.57'}\n",
      "3 temperature {'unit': 'kelvin', 'value': '289.17', 'min': '289.06', 'max': '289.17'}\n",
      "4 temperature {'unit': 'kelvin', 'value': '288.46', 'min': '288.44', 'max': '288.46'}\n",
      "5 temperature {'unit': 'kelvin', 'value': '288.83', 'min': '288.83', 'max': '288.83'}\n",
      "6 temperature {'unit': 'kelvin', 'value': '288.79', 'min': '288.79', 'max': '288.79'}\n",
      "7 temperature {'unit': 'kelvin', 'value': '288.74', 'min': '288.74', 'max': '288.74'}\n",
      "8 temperature {'unit': 'kelvin', 'value': '288.89', 'min': '288.89', 'max': '288.89'}\n",
      "9 temperature {'unit': 'kelvin', 'value': '289.45', 'min': '289.45', 'max': '289.45'}\n",
      "10 temperature {'unit': 'kelvin', 'value': '289.35', 'min': '289.35', 'max': '289.35'}\n",
      "11 temperature {'unit': 'kelvin', 'value': '289.39', 'min': '289.39', 'max': '289.39'}\n",
      "12 temperature {'unit': 'kelvin', 'value': '289.5', 'min': '289.5', 'max': '289.5'}\n",
      "13 temperature {'unit': 'kelvin', 'value': '289.49', 'min': '289.49', 'max': '289.49'}\n",
      "14 temperature {'unit': 'kelvin', 'value': '289.28', 'min': '289.28', 'max': '289.28'}\n",
      "15 temperature {'unit': 'kelvin', 'value': '289.06', 'min': '289.06', 'max': '289.06'}\n",
      "16 temperature {'unit': 'kelvin', 'value': '288.96', 'min': '288.96', 'max': '288.96'}\n",
      "17 temperature {'unit': 'kelvin', 'value': '289.26', 'min': '289.26', 'max': '289.26'}\n",
      "18 temperature {'unit': 'kelvin', 'value': '289.56', 'min': '289.56', 'max': '289.56'}\n",
      "19 temperature {'unit': 'kelvin', 'value': '289.16', 'min': '289.16', 'max': '289.16'}\n",
      "20 temperature {'unit': 'kelvin', 'value': '289.05', 'min': '289.05', 'max': '289.05'}\n",
      "21 temperature {'unit': 'kelvin', 'value': '288.94', 'min': '288.94', 'max': '288.94'}\n",
      "22 temperature {'unit': 'kelvin', 'value': '288.85', 'min': '288.85', 'max': '288.85'}\n",
      "23 temperature {'unit': 'kelvin', 'value': '288.96', 'min': '288.96', 'max': '288.96'}\n",
      "24 temperature {'unit': 'kelvin', 'value': '289.16', 'min': '289.16', 'max': '289.16'}\n",
      "25 temperature {'unit': 'kelvin', 'value': '289.34', 'min': '289.34', 'max': '289.34'}\n",
      "26 temperature {'unit': 'kelvin', 'value': '289.28', 'min': '289.28', 'max': '289.28'}\n",
      "27 temperature {'unit': 'kelvin', 'value': '289.46', 'min': '289.46', 'max': '289.46'}\n",
      "28 temperature {'unit': 'kelvin', 'value': '289.86', 'min': '289.86', 'max': '289.86'}\n",
      "29 temperature {'unit': 'kelvin', 'value': '290.13', 'min': '290.13', 'max': '290.13'}\n",
      "30 temperature {'unit': 'kelvin', 'value': '290.38', 'min': '290.38', 'max': '290.38'}\n",
      "31 temperature {'unit': 'kelvin', 'value': '290.69', 'min': '290.69', 'max': '290.69'}\n",
      "32 temperature {'unit': 'kelvin', 'value': '290.94', 'min': '290.94', 'max': '290.94'}\n",
      "33 temperature {'unit': 'kelvin', 'value': '291.76', 'min': '291.76', 'max': '291.76'}\n",
      "34 temperature {'unit': 'kelvin', 'value': '292.77', 'min': '292.77', 'max': '292.77'}\n",
      "35 temperature {'unit': 'kelvin', 'value': '291.82', 'min': '291.82', 'max': '291.82'}\n",
      "36 temperature {'unit': 'kelvin', 'value': '291.79', 'min': '291.79', 'max': '291.79'}\n",
      "37 temperature {'unit': 'kelvin', 'value': '291.68', 'min': '291.68', 'max': '291.68'}\n",
      "38 temperature {'unit': 'kelvin', 'value': '291.73', 'min': '291.73', 'max': '291.73'}\n",
      "39 temperature {'unit': 'kelvin', 'value': '291.51', 'min': '291.51', 'max': '291.51'}\n",
      "40 temperature {'unit': 'kelvin', 'value': '291.67', 'min': '291.67', 'max': '291.67'}\n"
     ]
    }
   ],
   "source": [
    "# 可以定 tag = \"temperature\" 的條件\n",
    "# 利用 enumerate() 可以補上第幾個的資訊\n",
    "for index, elem in enumerate(weatherXML.iter(\"temperature\"), start = 1):\n",
    "    print(index, elem.tag, elem.attrib)"
   ]
  },
  {
   "cell_type": "code",
   "execution_count": 39,
   "metadata": {},
   "outputs": [
    {
     "name": "stdout",
     "output_type": "stream",
     "text": [
      "0 290.33\n",
      "1 289.57\n",
      "2 289.17\n",
      "3 288.46\n",
      "4 288.83\n",
      "5 288.79\n",
      "6 288.74\n",
      "7 288.89\n",
      "8 289.45\n",
      "9 289.35\n",
      "10 289.39\n",
      "11 289.5\n",
      "12 289.49\n",
      "13 289.28\n",
      "14 289.06\n",
      "15 288.96\n",
      "16 289.26\n",
      "17 289.56\n",
      "18 289.16\n",
      "19 289.05\n",
      "20 288.94\n",
      "21 288.85\n",
      "22 288.96\n",
      "23 289.16\n",
      "24 289.34\n",
      "25 289.28\n",
      "26 289.46\n",
      "27 289.86\n",
      "28 290.13\n",
      "29 290.38\n",
      "30 290.69\n",
      "31 290.94\n",
      "32 291.76\n",
      "33 292.77\n",
      "34 291.82\n",
      "35 291.79\n",
      "36 291.68\n",
      "37 291.73\n",
      "38 291.51\n",
      "39 291.67\n"
     ]
    }
   ],
   "source": [
    "# 可以定 tag = \"temperature\" 的條件\n",
    "# 直接取出我們要的 value 的值\n",
    "for index, elem in enumerate(weatherXML.iter(\"temperature\")):\n",
    "    print(index, elem.get(\"value\"))"
   ]
  },
  {
   "cell_type": "code",
   "execution_count": 40,
   "metadata": {},
   "outputs": [
    {
     "data": {
      "text/plain": [
       "<Element 'forecast' at 0x0000021EE01EE548>"
      ]
     },
     "execution_count": 40,
     "metadata": {},
     "output_type": "execute_result"
    }
   ],
   "source": [
    "# 真正 5 天共 40 筆的資料存在 'forecast' 裏\n",
    "weatherXML[4]"
   ]
  },
  {
   "cell_type": "code",
   "execution_count": 41,
   "metadata": {},
   "outputs": [
    {
     "name": "stdout",
     "output_type": "stream",
     "text": [
      "time {'from': '2020-12-14T00:00:00', 'to': '2020-12-14T03:00:00'}\n",
      "time {'from': '2020-12-14T03:00:00', 'to': '2020-12-14T06:00:00'}\n",
      "time {'from': '2020-12-14T06:00:00', 'to': '2020-12-14T09:00:00'}\n",
      "time {'from': '2020-12-14T09:00:00', 'to': '2020-12-14T12:00:00'}\n",
      "time {'from': '2020-12-14T12:00:00', 'to': '2020-12-14T15:00:00'}\n",
      "time {'from': '2020-12-14T15:00:00', 'to': '2020-12-14T18:00:00'}\n",
      "time {'from': '2020-12-14T18:00:00', 'to': '2020-12-14T21:00:00'}\n",
      "time {'from': '2020-12-14T21:00:00', 'to': '2020-12-15T00:00:00'}\n",
      "time {'from': '2020-12-15T00:00:00', 'to': '2020-12-15T03:00:00'}\n",
      "time {'from': '2020-12-15T03:00:00', 'to': '2020-12-15T06:00:00'}\n",
      "time {'from': '2020-12-15T06:00:00', 'to': '2020-12-15T09:00:00'}\n",
      "time {'from': '2020-12-15T09:00:00', 'to': '2020-12-15T12:00:00'}\n",
      "time {'from': '2020-12-15T12:00:00', 'to': '2020-12-15T15:00:00'}\n",
      "time {'from': '2020-12-15T15:00:00', 'to': '2020-12-15T18:00:00'}\n",
      "time {'from': '2020-12-15T18:00:00', 'to': '2020-12-15T21:00:00'}\n",
      "time {'from': '2020-12-15T21:00:00', 'to': '2020-12-16T00:00:00'}\n",
      "time {'from': '2020-12-16T00:00:00', 'to': '2020-12-16T03:00:00'}\n",
      "time {'from': '2020-12-16T03:00:00', 'to': '2020-12-16T06:00:00'}\n",
      "time {'from': '2020-12-16T06:00:00', 'to': '2020-12-16T09:00:00'}\n",
      "time {'from': '2020-12-16T09:00:00', 'to': '2020-12-16T12:00:00'}\n",
      "time {'from': '2020-12-16T12:00:00', 'to': '2020-12-16T15:00:00'}\n",
      "time {'from': '2020-12-16T15:00:00', 'to': '2020-12-16T18:00:00'}\n",
      "time {'from': '2020-12-16T18:00:00', 'to': '2020-12-16T21:00:00'}\n",
      "time {'from': '2020-12-16T21:00:00', 'to': '2020-12-17T00:00:00'}\n",
      "time {'from': '2020-12-17T00:00:00', 'to': '2020-12-17T03:00:00'}\n",
      "time {'from': '2020-12-17T03:00:00', 'to': '2020-12-17T06:00:00'}\n",
      "time {'from': '2020-12-17T06:00:00', 'to': '2020-12-17T09:00:00'}\n",
      "time {'from': '2020-12-17T09:00:00', 'to': '2020-12-17T12:00:00'}\n",
      "time {'from': '2020-12-17T12:00:00', 'to': '2020-12-17T15:00:00'}\n",
      "time {'from': '2020-12-17T15:00:00', 'to': '2020-12-17T18:00:00'}\n",
      "time {'from': '2020-12-17T18:00:00', 'to': '2020-12-17T21:00:00'}\n",
      "time {'from': '2020-12-17T21:00:00', 'to': '2020-12-18T00:00:00'}\n",
      "time {'from': '2020-12-18T00:00:00', 'to': '2020-12-18T03:00:00'}\n",
      "time {'from': '2020-12-18T03:00:00', 'to': '2020-12-18T06:00:00'}\n",
      "time {'from': '2020-12-18T06:00:00', 'to': '2020-12-18T09:00:00'}\n",
      "time {'from': '2020-12-18T09:00:00', 'to': '2020-12-18T12:00:00'}\n",
      "time {'from': '2020-12-18T12:00:00', 'to': '2020-12-18T15:00:00'}\n",
      "time {'from': '2020-12-18T15:00:00', 'to': '2020-12-18T18:00:00'}\n",
      "time {'from': '2020-12-18T18:00:00', 'to': '2020-12-18T21:00:00'}\n",
      "time {'from': '2020-12-18T21:00:00', 'to': '2020-12-19T00:00:00'}\n"
     ]
    }
   ],
   "source": [
    "for elem in weatherXML[4]:\n",
    "    print(elem.tag, elem.attrib)"
   ]
  },
  {
   "cell_type": "code",
   "execution_count": 42,
   "metadata": {},
   "outputs": [
    {
     "name": "stdout",
     "output_type": "stream",
     "text": [
      "time {'from': '2020-12-14T00:00:00', 'to': '2020-12-14T03:00:00'}\n",
      "time {'from': '2020-12-14T03:00:00', 'to': '2020-12-14T06:00:00'}\n",
      "time {'from': '2020-12-14T06:00:00', 'to': '2020-12-14T09:00:00'}\n",
      "time {'from': '2020-12-14T09:00:00', 'to': '2020-12-14T12:00:00'}\n",
      "time {'from': '2020-12-14T12:00:00', 'to': '2020-12-14T15:00:00'}\n",
      "time {'from': '2020-12-14T15:00:00', 'to': '2020-12-14T18:00:00'}\n",
      "time {'from': '2020-12-14T18:00:00', 'to': '2020-12-14T21:00:00'}\n",
      "time {'from': '2020-12-14T21:00:00', 'to': '2020-12-15T00:00:00'}\n",
      "time {'from': '2020-12-15T00:00:00', 'to': '2020-12-15T03:00:00'}\n",
      "time {'from': '2020-12-15T03:00:00', 'to': '2020-12-15T06:00:00'}\n",
      "time {'from': '2020-12-15T06:00:00', 'to': '2020-12-15T09:00:00'}\n",
      "time {'from': '2020-12-15T09:00:00', 'to': '2020-12-15T12:00:00'}\n",
      "time {'from': '2020-12-15T12:00:00', 'to': '2020-12-15T15:00:00'}\n",
      "time {'from': '2020-12-15T15:00:00', 'to': '2020-12-15T18:00:00'}\n",
      "time {'from': '2020-12-15T18:00:00', 'to': '2020-12-15T21:00:00'}\n",
      "time {'from': '2020-12-15T21:00:00', 'to': '2020-12-16T00:00:00'}\n",
      "time {'from': '2020-12-16T00:00:00', 'to': '2020-12-16T03:00:00'}\n",
      "time {'from': '2020-12-16T03:00:00', 'to': '2020-12-16T06:00:00'}\n",
      "time {'from': '2020-12-16T06:00:00', 'to': '2020-12-16T09:00:00'}\n",
      "time {'from': '2020-12-16T09:00:00', 'to': '2020-12-16T12:00:00'}\n",
      "time {'from': '2020-12-16T12:00:00', 'to': '2020-12-16T15:00:00'}\n",
      "time {'from': '2020-12-16T15:00:00', 'to': '2020-12-16T18:00:00'}\n",
      "time {'from': '2020-12-16T18:00:00', 'to': '2020-12-16T21:00:00'}\n",
      "time {'from': '2020-12-16T21:00:00', 'to': '2020-12-17T00:00:00'}\n",
      "time {'from': '2020-12-17T00:00:00', 'to': '2020-12-17T03:00:00'}\n",
      "time {'from': '2020-12-17T03:00:00', 'to': '2020-12-17T06:00:00'}\n",
      "time {'from': '2020-12-17T06:00:00', 'to': '2020-12-17T09:00:00'}\n",
      "time {'from': '2020-12-17T09:00:00', 'to': '2020-12-17T12:00:00'}\n",
      "time {'from': '2020-12-17T12:00:00', 'to': '2020-12-17T15:00:00'}\n",
      "time {'from': '2020-12-17T15:00:00', 'to': '2020-12-17T18:00:00'}\n",
      "time {'from': '2020-12-17T18:00:00', 'to': '2020-12-17T21:00:00'}\n",
      "time {'from': '2020-12-17T21:00:00', 'to': '2020-12-18T00:00:00'}\n",
      "time {'from': '2020-12-18T00:00:00', 'to': '2020-12-18T03:00:00'}\n",
      "time {'from': '2020-12-18T03:00:00', 'to': '2020-12-18T06:00:00'}\n",
      "time {'from': '2020-12-18T06:00:00', 'to': '2020-12-18T09:00:00'}\n",
      "time {'from': '2020-12-18T09:00:00', 'to': '2020-12-18T12:00:00'}\n",
      "time {'from': '2020-12-18T12:00:00', 'to': '2020-12-18T15:00:00'}\n",
      "time {'from': '2020-12-18T15:00:00', 'to': '2020-12-18T18:00:00'}\n",
      "time {'from': '2020-12-18T18:00:00', 'to': '2020-12-18T21:00:00'}\n",
      "time {'from': '2020-12-18T21:00:00', 'to': '2020-12-19T00:00:00'}\n"
     ]
    }
   ],
   "source": [
    "# 這和我一開始就從整棵樹取的 \"time\" tag 的 element 效果一樣\n",
    "for elem in weatherXML.iter(\"time\"):\n",
    "    print(elem.tag, elem.attrib)"
   ]
  },
  {
   "cell_type": "code",
   "execution_count": 43,
   "metadata": {},
   "outputs": [
    {
     "data": {
      "text/plain": [
       "('forecast', {})"
      ]
     },
     "execution_count": 43,
     "metadata": {},
     "output_type": "execute_result"
    }
   ],
   "source": [
    " weatherXML[4].tag,  weatherXML[4].attrib"
   ]
  },
  {
   "cell_type": "code",
   "execution_count": 44,
   "metadata": {},
   "outputs": [
    {
     "name": "stdout",
     "output_type": "stream",
     "text": [
      "<time from=\"2020-12-14T00:00:00\" to=\"2020-12-14T03:00:00\"><symbol name=\"light rain\" number=\"500\" var=\"10d\" /><precipitation probability=\"0.72\" type=\"rain\" unit=\"3h\" value=\"0.64\" /><windDirection code=\"NE\" deg=\"54\" name=\"NorthEast\" /><windSpeed mps=\"5.46\" name=\"Gentle Breeze\" unit=\"m/s\" /><temperature max=\"290.33\" min=\"289.88\" unit=\"kelvin\" value=\"290.33\" /><feels_like unit=\"kelvin\" value=\"287.67\" /><pressure unit=\"hPa\" value=\"1021\" /><humidity unit=\"%\" value=\"80\" /><clouds all=\"87\" unit=\"%\" value=\"overcast clouds\" /><visibility value=\"10000\" /></time>\n"
     ]
    }
   ],
   "source": [
    "# 這是 40 筆的 time 中的 [0] 筆\n",
    "ET.dump(weatherXML[4][0])"
   ]
  },
  {
   "cell_type": "code",
   "execution_count": 45,
   "metadata": {},
   "outputs": [
    {
     "data": {
      "text/plain": [
       "<Element 'time' at 0x0000021EE01EE598>"
      ]
     },
     "execution_count": 45,
     "metadata": {},
     "output_type": "execute_result"
    }
   ],
   "source": [
    "weatherXML[4][0]"
   ]
  },
  {
   "cell_type": "code",
   "execution_count": 46,
   "metadata": {
    "collapsed": true
   },
   "outputs": [
    {
     "name": "stdout",
     "output_type": "stream",
     "text": [
      "Help on Element object:\n",
      "\n",
      "class Element(builtins.object)\n",
      " |  Methods defined here:\n",
      " |  \n",
      " |  __copy__(self, /)\n",
      " |  \n",
      " |  __deepcopy__(self, memo, /)\n",
      " |  \n",
      " |  __delitem__(self, key, /)\n",
      " |      Delete self[key].\n",
      " |  \n",
      " |  __getattribute__(self, name, /)\n",
      " |      Return getattr(self, name).\n",
      " |  \n",
      " |  __getitem__(self, key, /)\n",
      " |      Return self[key].\n",
      " |  \n",
      " |  __getstate__(self, /)\n",
      " |  \n",
      " |  __init__(self, /, *args, **kwargs)\n",
      " |      Initialize self.  See help(type(self)) for accurate signature.\n",
      " |  \n",
      " |  __len__(self, /)\n",
      " |      Return len(self).\n",
      " |  \n",
      " |  __repr__(self, /)\n",
      " |      Return repr(self).\n",
      " |  \n",
      " |  __setitem__(self, key, value, /)\n",
      " |      Set self[key] to value.\n",
      " |  \n",
      " |  __setstate__(self, state, /)\n",
      " |  \n",
      " |  __sizeof__(self, /)\n",
      " |      Size of object in memory, in bytes.\n",
      " |  \n",
      " |  append(self, subelement, /)\n",
      " |  \n",
      " |  clear(self, /)\n",
      " |  \n",
      " |  extend(self, elements, /)\n",
      " |  \n",
      " |  find(self, /, path, namespaces=None)\n",
      " |  \n",
      " |  findall(self, /, path, namespaces=None)\n",
      " |  \n",
      " |  findtext(self, /, path, default=None, namespaces=None)\n",
      " |  \n",
      " |  get(self, /, key, default=None)\n",
      " |  \n",
      " |  getchildren(self, /)\n",
      " |  \n",
      " |  getiterator(self, /, tag=None)\n",
      " |  \n",
      " |  insert(self, index, subelement, /)\n",
      " |  \n",
      " |  items(self, /)\n",
      " |  \n",
      " |  iter(self, /, tag=None)\n",
      " |  \n",
      " |  iterfind(self, /, path, namespaces=None)\n",
      " |  \n",
      " |  itertext(self, /)\n",
      " |  \n",
      " |  keys(self, /)\n",
      " |  \n",
      " |  makeelement(self, tag, attrib, /)\n",
      " |  \n",
      " |  remove(self, subelement, /)\n",
      " |  \n",
      " |  set(self, key, value, /)\n",
      " |  \n",
      " |  ----------------------------------------------------------------------\n",
      " |  Static methods defined here:\n",
      " |  \n",
      " |  __new__(*args, **kwargs) from builtins.type\n",
      " |      Create and return a new object.  See help(type) for accurate signature.\n",
      " |  \n",
      " |  ----------------------------------------------------------------------\n",
      " |  Data descriptors defined here:\n",
      " |  \n",
      " |  attrib\n",
      " |      A dictionary containing the element's attributes\n",
      " |  \n",
      " |  tag\n",
      " |      A string identifying what kind of data this element represents\n",
      " |  \n",
      " |  tail\n",
      " |      A string of text directly after the end tag, or None\n",
      " |  \n",
      " |  text\n",
      " |      A string of text directly after the start tag, or None\n",
      "\n"
     ]
    }
   ],
   "source": [
    "help(weatherXML[4][0])"
   ]
  },
  {
   "cell_type": "code",
   "execution_count": null,
   "metadata": {},
   "outputs": [],
   "source": []
  },
  {
   "cell_type": "code",
   "execution_count": 47,
   "metadata": {},
   "outputs": [
    {
     "name": "stdout",
     "output_type": "stream",
     "text": [
      "temperature 290.33 None\n",
      "temperature 289.57 None\n",
      "temperature 289.17 None\n",
      "temperature 288.46 None\n",
      "temperature 288.83 None\n",
      "temperature 288.79 None\n",
      "temperature 288.74 None\n",
      "temperature 288.89 None\n",
      "temperature 289.45 None\n",
      "temperature 289.35 None\n",
      "temperature 289.39 None\n",
      "temperature 289.5 None\n",
      "temperature 289.49 None\n",
      "temperature 289.28 None\n",
      "temperature 289.06 None\n",
      "temperature 288.96 None\n",
      "temperature 289.26 None\n",
      "temperature 289.56 None\n",
      "temperature 289.16 None\n",
      "temperature 289.05 None\n",
      "temperature 288.94 None\n",
      "temperature 288.85 None\n",
      "temperature 288.96 None\n",
      "temperature 289.16 None\n",
      "temperature 289.34 None\n",
      "temperature 289.28 None\n",
      "temperature 289.46 None\n",
      "temperature 289.86 None\n",
      "temperature 290.13 None\n",
      "temperature 290.38 None\n",
      "temperature 290.69 None\n",
      "temperature 290.94 None\n",
      "temperature 291.76 None\n",
      "temperature 292.77 None\n",
      "temperature 291.82 None\n",
      "temperature 291.79 None\n",
      "temperature 291.68 None\n",
      "temperature 291.73 None\n",
      "temperature 291.51 None\n",
      "temperature 291.67 None\n"
     ]
    }
   ],
   "source": [
    "# 也可以有類似 directory 中 path 的概念：XPath 來取 element\n",
    "for elem in weatherXML[4].iterfind('time/temperature'):\n",
    "    print(elem.tag, elem.attrib[\"value\"], elem.text)"
   ]
  },
  {
   "cell_type": "code",
   "execution_count": 48,
   "metadata": {},
   "outputs": [
    {
     "name": "stdout",
     "output_type": "stream",
     "text": [
      "time {'from': '2020-12-14T00:00:00', 'to': '2020-12-14T03:00:00'} None\n",
      "time {'from': '2020-12-14T03:00:00', 'to': '2020-12-14T06:00:00'} None\n",
      "time {'from': '2020-12-14T06:00:00', 'to': '2020-12-14T09:00:00'} None\n",
      "time {'from': '2020-12-14T09:00:00', 'to': '2020-12-14T12:00:00'} None\n",
      "time {'from': '2020-12-14T12:00:00', 'to': '2020-12-14T15:00:00'} None\n",
      "time {'from': '2020-12-14T15:00:00', 'to': '2020-12-14T18:00:00'} None\n",
      "time {'from': '2020-12-14T18:00:00', 'to': '2020-12-14T21:00:00'} None\n",
      "time {'from': '2020-12-14T21:00:00', 'to': '2020-12-15T00:00:00'} None\n",
      "time {'from': '2020-12-15T00:00:00', 'to': '2020-12-15T03:00:00'} None\n",
      "time {'from': '2020-12-15T03:00:00', 'to': '2020-12-15T06:00:00'} None\n",
      "time {'from': '2020-12-15T06:00:00', 'to': '2020-12-15T09:00:00'} None\n",
      "time {'from': '2020-12-15T09:00:00', 'to': '2020-12-15T12:00:00'} None\n",
      "time {'from': '2020-12-15T12:00:00', 'to': '2020-12-15T15:00:00'} None\n",
      "time {'from': '2020-12-15T15:00:00', 'to': '2020-12-15T18:00:00'} None\n",
      "time {'from': '2020-12-15T18:00:00', 'to': '2020-12-15T21:00:00'} None\n",
      "time {'from': '2020-12-15T21:00:00', 'to': '2020-12-16T00:00:00'} None\n",
      "time {'from': '2020-12-16T00:00:00', 'to': '2020-12-16T03:00:00'} None\n",
      "time {'from': '2020-12-16T03:00:00', 'to': '2020-12-16T06:00:00'} None\n",
      "time {'from': '2020-12-16T06:00:00', 'to': '2020-12-16T09:00:00'} None\n",
      "time {'from': '2020-12-16T09:00:00', 'to': '2020-12-16T12:00:00'} None\n",
      "time {'from': '2020-12-16T12:00:00', 'to': '2020-12-16T15:00:00'} None\n",
      "time {'from': '2020-12-16T15:00:00', 'to': '2020-12-16T18:00:00'} None\n",
      "time {'from': '2020-12-16T18:00:00', 'to': '2020-12-16T21:00:00'} None\n",
      "time {'from': '2020-12-16T21:00:00', 'to': '2020-12-17T00:00:00'} None\n",
      "time {'from': '2020-12-17T00:00:00', 'to': '2020-12-17T03:00:00'} None\n",
      "time {'from': '2020-12-17T03:00:00', 'to': '2020-12-17T06:00:00'} None\n",
      "time {'from': '2020-12-17T06:00:00', 'to': '2020-12-17T09:00:00'} None\n",
      "time {'from': '2020-12-17T09:00:00', 'to': '2020-12-17T12:00:00'} None\n",
      "time {'from': '2020-12-17T12:00:00', 'to': '2020-12-17T15:00:00'} None\n",
      "time {'from': '2020-12-17T15:00:00', 'to': '2020-12-17T18:00:00'} None\n",
      "time {'from': '2020-12-17T18:00:00', 'to': '2020-12-17T21:00:00'} None\n",
      "time {'from': '2020-12-17T21:00:00', 'to': '2020-12-18T00:00:00'} None\n",
      "time {'from': '2020-12-18T00:00:00', 'to': '2020-12-18T03:00:00'} None\n",
      "time {'from': '2020-12-18T03:00:00', 'to': '2020-12-18T06:00:00'} None\n",
      "time {'from': '2020-12-18T06:00:00', 'to': '2020-12-18T09:00:00'} None\n",
      "time {'from': '2020-12-18T09:00:00', 'to': '2020-12-18T12:00:00'} None\n",
      "time {'from': '2020-12-18T12:00:00', 'to': '2020-12-18T15:00:00'} None\n",
      "time {'from': '2020-12-18T15:00:00', 'to': '2020-12-18T18:00:00'} None\n",
      "time {'from': '2020-12-18T18:00:00', 'to': '2020-12-18T21:00:00'} None\n",
      "time {'from': '2020-12-18T21:00:00', 'to': '2020-12-19T00:00:00'} None\n"
     ]
    }
   ],
   "source": [
    "for elem in weatherXML[4]:\n",
    "    print(elem.tag, elem.attrib, elem.text)"
   ]
  },
  {
   "cell_type": "code",
   "execution_count": 49,
   "metadata": {},
   "outputs": [
    {
     "name": "stdout",
     "output_type": "stream",
     "text": [
      "symbol {'number': '500', 'name': 'light rain', 'var': '10d'} None\n",
      "precipitation {'probability': '0.72', 'unit': '3h', 'value': '0.64', 'type': 'rain'} None\n",
      "windDirection {'deg': '54', 'code': 'NE', 'name': 'NorthEast'} None\n",
      "windSpeed {'mps': '5.46', 'unit': 'm/s', 'name': 'Gentle Breeze'} None\n",
      "temperature {'unit': 'kelvin', 'value': '290.33', 'min': '289.88', 'max': '290.33'} None\n",
      "feels_like {'value': '287.67', 'unit': 'kelvin'} None\n",
      "pressure {'unit': 'hPa', 'value': '1021'} None\n",
      "humidity {'value': '80', 'unit': '%'} None\n",
      "clouds {'value': 'overcast clouds', 'all': '87', 'unit': '%'} None\n",
      "visibility {'value': '10000'} None\n"
     ]
    }
   ],
   "source": [
    "# 每一個 3小時時段的預測內容：\n",
    "for elem in weatherXML[4][0]:\n",
    "    print(elem.tag, elem.attrib, elem.text)"
   ]
  },
  {
   "cell_type": "code",
   "execution_count": 50,
   "metadata": {},
   "outputs": [
    {
     "name": "stdout",
     "output_type": "stream",
     "text": [
      "symbol {'number': '500', 'name': 'light rain', 'var': '10d'} None\n",
      "precipitation {'probability': '0.76', 'unit': '3h', 'value': '1.58', 'type': 'rain'} None\n",
      "windDirection {'deg': '46', 'code': 'NE', 'name': 'NorthEast'} None\n",
      "windSpeed {'mps': '5.64', 'unit': 'm/s', 'name': 'Moderate breeze'} None\n",
      "temperature {'unit': 'kelvin', 'value': '289.57', 'min': '289.24', 'max': '289.57'} None\n",
      "feels_like {'value': '286.54', 'unit': 'kelvin'} None\n",
      "pressure {'unit': 'hPa', 'value': '1020'} None\n",
      "humidity {'value': '80', 'unit': '%'} None\n",
      "clouds {'value': 'overcast clouds', 'all': '95', 'unit': '%'} None\n",
      "visibility {'value': '10000'} None\n"
     ]
    }
   ],
   "source": [
    "for elem in weatherXML[4][1]:\n",
    "    print(elem.tag, elem.attrib, elem.text)"
   ]
  },
  {
   "cell_type": "code",
   "execution_count": 51,
   "metadata": {},
   "outputs": [],
   "source": [
    "# weatherXML[4]\n",
    "result = weatherXML.find(\"forecast\")"
   ]
  },
  {
   "cell_type": "code",
   "execution_count": 52,
   "metadata": {},
   "outputs": [
    {
     "data": {
      "text/plain": [
       "40"
      ]
     },
     "execution_count": 52,
     "metadata": {},
     "output_type": "execute_result"
    }
   ],
   "source": [
    "len(result)"
   ]
  },
  {
   "cell_type": "code",
   "execution_count": 54,
   "metadata": {},
   "outputs": [
    {
     "name": "stdout",
     "output_type": "stream",
     "text": [
      "time {'from': '2020-12-14T00:00:00', 'to': '2020-12-14T03:00:00'}\n",
      "time {'from': '2020-12-14T03:00:00', 'to': '2020-12-14T06:00:00'}\n",
      "time {'from': '2020-12-14T06:00:00', 'to': '2020-12-14T09:00:00'}\n",
      "time {'from': '2020-12-14T09:00:00', 'to': '2020-12-14T12:00:00'}\n",
      "time {'from': '2020-12-14T12:00:00', 'to': '2020-12-14T15:00:00'}\n",
      "time {'from': '2020-12-14T15:00:00', 'to': '2020-12-14T18:00:00'}\n",
      "time {'from': '2020-12-14T18:00:00', 'to': '2020-12-14T21:00:00'}\n",
      "time {'from': '2020-12-14T21:00:00', 'to': '2020-12-15T00:00:00'}\n",
      "time {'from': '2020-12-15T00:00:00', 'to': '2020-12-15T03:00:00'}\n",
      "time {'from': '2020-12-15T03:00:00', 'to': '2020-12-15T06:00:00'}\n",
      "time {'from': '2020-12-15T06:00:00', 'to': '2020-12-15T09:00:00'}\n",
      "time {'from': '2020-12-15T09:00:00', 'to': '2020-12-15T12:00:00'}\n",
      "time {'from': '2020-12-15T12:00:00', 'to': '2020-12-15T15:00:00'}\n",
      "time {'from': '2020-12-15T15:00:00', 'to': '2020-12-15T18:00:00'}\n",
      "time {'from': '2020-12-15T18:00:00', 'to': '2020-12-15T21:00:00'}\n",
      "time {'from': '2020-12-15T21:00:00', 'to': '2020-12-16T00:00:00'}\n",
      "time {'from': '2020-12-16T00:00:00', 'to': '2020-12-16T03:00:00'}\n",
      "time {'from': '2020-12-16T03:00:00', 'to': '2020-12-16T06:00:00'}\n",
      "time {'from': '2020-12-16T06:00:00', 'to': '2020-12-16T09:00:00'}\n",
      "time {'from': '2020-12-16T09:00:00', 'to': '2020-12-16T12:00:00'}\n",
      "time {'from': '2020-12-16T12:00:00', 'to': '2020-12-16T15:00:00'}\n",
      "time {'from': '2020-12-16T15:00:00', 'to': '2020-12-16T18:00:00'}\n",
      "time {'from': '2020-12-16T18:00:00', 'to': '2020-12-16T21:00:00'}\n",
      "time {'from': '2020-12-16T21:00:00', 'to': '2020-12-17T00:00:00'}\n",
      "time {'from': '2020-12-17T00:00:00', 'to': '2020-12-17T03:00:00'}\n",
      "time {'from': '2020-12-17T03:00:00', 'to': '2020-12-17T06:00:00'}\n",
      "time {'from': '2020-12-17T06:00:00', 'to': '2020-12-17T09:00:00'}\n",
      "time {'from': '2020-12-17T09:00:00', 'to': '2020-12-17T12:00:00'}\n",
      "time {'from': '2020-12-17T12:00:00', 'to': '2020-12-17T15:00:00'}\n",
      "time {'from': '2020-12-17T15:00:00', 'to': '2020-12-17T18:00:00'}\n",
      "time {'from': '2020-12-17T18:00:00', 'to': '2020-12-17T21:00:00'}\n",
      "time {'from': '2020-12-17T21:00:00', 'to': '2020-12-18T00:00:00'}\n",
      "time {'from': '2020-12-18T00:00:00', 'to': '2020-12-18T03:00:00'}\n",
      "time {'from': '2020-12-18T03:00:00', 'to': '2020-12-18T06:00:00'}\n",
      "time {'from': '2020-12-18T06:00:00', 'to': '2020-12-18T09:00:00'}\n",
      "time {'from': '2020-12-18T09:00:00', 'to': '2020-12-18T12:00:00'}\n",
      "time {'from': '2020-12-18T12:00:00', 'to': '2020-12-18T15:00:00'}\n",
      "time {'from': '2020-12-18T15:00:00', 'to': '2020-12-18T18:00:00'}\n",
      "time {'from': '2020-12-18T18:00:00', 'to': '2020-12-18T21:00:00'}\n",
      "time {'from': '2020-12-18T21:00:00', 'to': '2020-12-19T00:00:00'}\n"
     ]
    }
   ],
   "source": [
    "for item in weatherXML.find(\"forecast\"):\n",
    "    print(item.tag, item.attrib)"
   ]
  },
  {
   "cell_type": "code",
   "execution_count": 55,
   "metadata": {},
   "outputs": [
    {
     "data": {
      "text/plain": [
       "<Element 'symbol' at 0x0000021EE01EE958>"
      ]
     },
     "execution_count": 55,
     "metadata": {},
     "output_type": "execute_result"
    }
   ],
   "source": [
    "weatherXML[4][1].find(\"symbol\")"
   ]
  },
  {
   "cell_type": "code",
   "execution_count": 56,
   "metadata": {},
   "outputs": [
    {
     "data": {
      "text/plain": [
       "<Element 'symbol' at 0x0000021EE01EE958>"
      ]
     },
     "execution_count": 56,
     "metadata": {},
     "output_type": "execute_result"
    }
   ],
   "source": [
    "weatherXML.find(\"forecast\")[1].find(\"symbol\")"
   ]
  },
  {
   "cell_type": "code",
   "execution_count": 57,
   "metadata": {},
   "outputs": [
    {
     "data": {
      "text/plain": [
       "'light rain'"
      ]
     },
     "execution_count": 57,
     "metadata": {},
     "output_type": "execute_result"
    }
   ],
   "source": [
    "weatherXML.find(\"forecast\")[1].find(\"symbol\").get(\"name\")"
   ]
  },
  {
   "cell_type": "code",
   "execution_count": 58,
   "metadata": {},
   "outputs": [
    {
     "data": {
      "text/plain": [
       "[<Element 'forecast' at 0x0000021EE01EE548>]"
      ]
     },
     "execution_count": 58,
     "metadata": {},
     "output_type": "execute_result"
    }
   ],
   "source": [
    "# findall() 回傳一個 list\n",
    "weatherXML.findall(\"forecast\")"
   ]
  },
  {
   "cell_type": "code",
   "execution_count": 59,
   "metadata": {},
   "outputs": [
    {
     "name": "stdout",
     "output_type": "stream",
     "text": [
      "symbol {'number': '500', 'name': 'light rain', 'var': '10d'}\n",
      "symbol {'number': '500', 'name': 'light rain', 'var': '10d'}\n",
      "symbol {'number': '500', 'name': 'light rain', 'var': '10d'}\n",
      "symbol {'number': '500', 'name': 'light rain', 'var': '10n'}\n",
      "symbol {'number': '500', 'name': 'light rain', 'var': '10n'}\n",
      "symbol {'number': '500', 'name': 'light rain', 'var': '10n'}\n",
      "symbol {'number': '500', 'name': 'light rain', 'var': '10n'}\n",
      "symbol {'number': '500', 'name': 'light rain', 'var': '10d'}\n",
      "symbol {'number': '500', 'name': 'light rain', 'var': '10d'}\n",
      "symbol {'number': '500', 'name': 'light rain', 'var': '10d'}\n",
      "symbol {'number': '500', 'name': 'light rain', 'var': '10d'}\n",
      "symbol {'number': '500', 'name': 'light rain', 'var': '10n'}\n",
      "symbol {'number': '500', 'name': 'light rain', 'var': '10n'}\n",
      "symbol {'number': '500', 'name': 'light rain', 'var': '10n'}\n",
      "symbol {'number': '501', 'name': 'moderate rain', 'var': '10n'}\n",
      "symbol {'number': '500', 'name': 'light rain', 'var': '10d'}\n",
      "symbol {'number': '500', 'name': 'light rain', 'var': '10d'}\n",
      "symbol {'number': '500', 'name': 'light rain', 'var': '10d'}\n",
      "symbol {'number': '500', 'name': 'light rain', 'var': '10d'}\n",
      "symbol {'number': '500', 'name': 'light rain', 'var': '10n'}\n",
      "symbol {'number': '500', 'name': 'light rain', 'var': '10n'}\n",
      "symbol {'number': '500', 'name': 'light rain', 'var': '10n'}\n",
      "symbol {'number': '500', 'name': 'light rain', 'var': '10n'}\n",
      "symbol {'number': '500', 'name': 'light rain', 'var': '10d'}\n",
      "symbol {'number': '500', 'name': 'light rain', 'var': '10d'}\n",
      "symbol {'number': '500', 'name': 'light rain', 'var': '10d'}\n",
      "symbol {'number': '500', 'name': 'light rain', 'var': '10d'}\n",
      "symbol {'number': '500', 'name': 'light rain', 'var': '10n'}\n",
      "symbol {'number': '500', 'name': 'light rain', 'var': '10n'}\n",
      "symbol {'number': '500', 'name': 'light rain', 'var': '10n'}\n",
      "symbol {'number': '500', 'name': 'light rain', 'var': '10n'}\n",
      "symbol {'number': '500', 'name': 'light rain', 'var': '10d'}\n",
      "symbol {'number': '500', 'name': 'light rain', 'var': '10d'}\n",
      "symbol {'number': '500', 'name': 'light rain', 'var': '10d'}\n",
      "symbol {'number': '500', 'name': 'light rain', 'var': '10d'}\n",
      "symbol {'number': '500', 'name': 'light rain', 'var': '10n'}\n",
      "symbol {'number': '500', 'name': 'light rain', 'var': '10n'}\n",
      "symbol {'number': '501', 'name': 'moderate rain', 'var': '10n'}\n",
      "symbol {'number': '500', 'name': 'light rain', 'var': '10n'}\n",
      "symbol {'number': '500', 'name': 'light rain', 'var': '10d'}\n"
     ]
    }
   ],
   "source": [
    "for elem in weatherXML.iter(\"symbol\"):\n",
    "    print(elem.tag, elem.attrib)"
   ]
  },
  {
   "cell_type": "code",
   "execution_count": 63,
   "metadata": {},
   "outputs": [
    {
     "name": "stdout",
     "output_type": "stream",
     "text": [
      "symbol light rain\n",
      "symbol light rain\n",
      "symbol light rain\n",
      "symbol light rain\n",
      "symbol light rain\n",
      "symbol light rain\n",
      "symbol light rain\n",
      "symbol light rain\n",
      "symbol light rain\n",
      "symbol light rain\n",
      "symbol light rain\n",
      "symbol light rain\n",
      "symbol light rain\n",
      "symbol light rain\n",
      "symbol moderate rain\n",
      "symbol light rain\n",
      "symbol light rain\n",
      "symbol light rain\n",
      "symbol light rain\n",
      "symbol light rain\n",
      "symbol light rain\n",
      "symbol light rain\n",
      "symbol light rain\n",
      "symbol light rain\n",
      "symbol light rain\n",
      "symbol light rain\n",
      "symbol light rain\n",
      "symbol light rain\n",
      "symbol light rain\n",
      "symbol light rain\n",
      "symbol light rain\n",
      "symbol light rain\n",
      "symbol light rain\n",
      "symbol light rain\n",
      "symbol light rain\n",
      "symbol light rain\n",
      "symbol light rain\n",
      "symbol moderate rain\n",
      "symbol light rain\n",
      "symbol light rain\n"
     ]
    }
   ],
   "source": [
    "for elem in weatherXML.iter(\"symbol\"):\n",
    "    print(elem.tag, elem.get('name'))"
   ]
  },
  {
   "cell_type": "code",
   "execution_count": 64,
   "metadata": {},
   "outputs": [
    {
     "name": "stdout",
     "output_type": "stream",
     "text": [
      "symbol {'number': '500', 'name': 'light rain', 'var': '10d'} None\n",
      "symbol {'number': '500', 'name': 'light rain', 'var': '10d'} None\n",
      "symbol {'number': '500', 'name': 'light rain', 'var': '10d'} None\n",
      "symbol {'number': '500', 'name': 'light rain', 'var': '10n'} None\n",
      "symbol {'number': '500', 'name': 'light rain', 'var': '10n'} None\n",
      "symbol {'number': '500', 'name': 'light rain', 'var': '10n'} None\n",
      "symbol {'number': '500', 'name': 'light rain', 'var': '10n'} None\n",
      "symbol {'number': '500', 'name': 'light rain', 'var': '10d'} None\n",
      "symbol {'number': '500', 'name': 'light rain', 'var': '10d'} None\n",
      "symbol {'number': '500', 'name': 'light rain', 'var': '10d'} None\n",
      "symbol {'number': '500', 'name': 'light rain', 'var': '10d'} None\n",
      "symbol {'number': '500', 'name': 'light rain', 'var': '10n'} None\n",
      "symbol {'number': '500', 'name': 'light rain', 'var': '10n'} None\n",
      "symbol {'number': '500', 'name': 'light rain', 'var': '10n'} None\n",
      "symbol {'number': '501', 'name': 'moderate rain', 'var': '10n'} None\n",
      "symbol {'number': '500', 'name': 'light rain', 'var': '10d'} None\n",
      "symbol {'number': '500', 'name': 'light rain', 'var': '10d'} None\n",
      "symbol {'number': '500', 'name': 'light rain', 'var': '10d'} None\n",
      "symbol {'number': '500', 'name': 'light rain', 'var': '10d'} None\n",
      "symbol {'number': '500', 'name': 'light rain', 'var': '10n'} None\n",
      "symbol {'number': '500', 'name': 'light rain', 'var': '10n'} None\n",
      "symbol {'number': '500', 'name': 'light rain', 'var': '10n'} None\n",
      "symbol {'number': '500', 'name': 'light rain', 'var': '10n'} None\n",
      "symbol {'number': '500', 'name': 'light rain', 'var': '10d'} None\n",
      "symbol {'number': '500', 'name': 'light rain', 'var': '10d'} None\n",
      "symbol {'number': '500', 'name': 'light rain', 'var': '10d'} None\n",
      "symbol {'number': '500', 'name': 'light rain', 'var': '10d'} None\n",
      "symbol {'number': '500', 'name': 'light rain', 'var': '10n'} None\n",
      "symbol {'number': '500', 'name': 'light rain', 'var': '10n'} None\n",
      "symbol {'number': '500', 'name': 'light rain', 'var': '10n'} None\n",
      "symbol {'number': '500', 'name': 'light rain', 'var': '10n'} None\n",
      "symbol {'number': '500', 'name': 'light rain', 'var': '10d'} None\n",
      "symbol {'number': '500', 'name': 'light rain', 'var': '10d'} None\n",
      "symbol {'number': '500', 'name': 'light rain', 'var': '10d'} None\n",
      "symbol {'number': '500', 'name': 'light rain', 'var': '10d'} None\n",
      "symbol {'number': '500', 'name': 'light rain', 'var': '10n'} None\n",
      "symbol {'number': '500', 'name': 'light rain', 'var': '10n'} None\n",
      "symbol {'number': '501', 'name': 'moderate rain', 'var': '10n'} None\n",
      "symbol {'number': '500', 'name': 'light rain', 'var': '10n'} None\n",
      "symbol {'number': '500', 'name': 'light rain', 'var': '10d'} None\n"
     ]
    }
   ],
   "source": [
    "for elem in weatherXML[4].iter(\"symbol\"):\n",
    "    print(elem.tag, elem.attrib, elem.text)"
   ]
  },
  {
   "cell_type": "code",
   "execution_count": 65,
   "metadata": {},
   "outputs": [
    {
     "data": {
      "text/plain": [
       "<Element 'symbol' at 0x0000021EE01EE958>"
      ]
     },
     "execution_count": 65,
     "metadata": {},
     "output_type": "execute_result"
    }
   ],
   "source": [
    "weatherXML[4][1].find(\"symbol\")"
   ]
  },
  {
   "cell_type": "code",
   "execution_count": 66,
   "metadata": {},
   "outputs": [],
   "source": [
    "weatherXML[4][1].find(\"symbol\").text"
   ]
  },
  {
   "cell_type": "code",
   "execution_count": 67,
   "metadata": {},
   "outputs": [
    {
     "data": {
      "text/plain": [
       "'light rain'"
      ]
     },
     "execution_count": 67,
     "metadata": {},
     "output_type": "execute_result"
    }
   ],
   "source": [
    "weatherXML[4][1].find(\"symbol\").get(\"name\")"
   ]
  },
  {
   "cell_type": "code",
   "execution_count": 68,
   "metadata": {},
   "outputs": [
    {
     "data": {
      "text/plain": [
       "'time'"
      ]
     },
     "execution_count": 68,
     "metadata": {},
     "output_type": "execute_result"
    }
   ],
   "source": [
    "weatherXML[4][1].tag"
   ]
  },
  {
   "cell_type": "code",
   "execution_count": 69,
   "metadata": {},
   "outputs": [
    {
     "data": {
      "text/plain": [
       "[<Element 'time' at 0x0000021EE01EE598>,\n",
       " <Element 'time' at 0x0000021EE01EE908>,\n",
       " <Element 'time' at 0x0000021EE01EEC78>,\n",
       " <Element 'time' at 0x0000021EE01F9048>,\n",
       " <Element 'time' at 0x0000021EE01F93B8>,\n",
       " <Element 'time' at 0x0000021EE01F9728>,\n",
       " <Element 'time' at 0x0000021EE01F9A98>,\n",
       " <Element 'time' at 0x0000021EE01F9E08>,\n",
       " <Element 'time' at 0x0000021EE01FE1D8>,\n",
       " <Element 'time' at 0x0000021EE01FE548>,\n",
       " <Element 'time' at 0x0000021EE01FE8B8>,\n",
       " <Element 'time' at 0x0000021EE01FEC28>,\n",
       " <Element 'time' at 0x0000021EE01FEF98>,\n",
       " <Element 'time' at 0x0000021EE0204368>,\n",
       " <Element 'time' at 0x0000021EE02046D8>,\n",
       " <Element 'time' at 0x0000021EE0204A48>,\n",
       " <Element 'time' at 0x0000021EE0204DB8>,\n",
       " <Element 'time' at 0x0000021EE020B188>,\n",
       " <Element 'time' at 0x0000021EE020B4A8>,\n",
       " <Element 'time' at 0x0000021EE020B818>,\n",
       " <Element 'time' at 0x0000021EE020BB88>,\n",
       " <Element 'time' at 0x0000021EE020BEF8>,\n",
       " <Element 'time' at 0x0000021EE02112C8>,\n",
       " <Element 'time' at 0x0000021EE0211638>,\n",
       " <Element 'time' at 0x0000021EE02119A8>,\n",
       " <Element 'time' at 0x0000021EE0211D18>,\n",
       " <Element 'time' at 0x0000021EE02170E8>,\n",
       " <Element 'time' at 0x0000021EE0217458>,\n",
       " <Element 'time' at 0x0000021EE02177C8>,\n",
       " <Element 'time' at 0x0000021EE0217B38>,\n",
       " <Element 'time' at 0x0000021EE0217EA8>,\n",
       " <Element 'time' at 0x0000021EE021E278>,\n",
       " <Element 'time' at 0x0000021EE021E5E8>,\n",
       " <Element 'time' at 0x0000021EE021E958>,\n",
       " <Element 'time' at 0x0000021EE021ECC8>,\n",
       " <Element 'time' at 0x0000021EE0225098>,\n",
       " <Element 'time' at 0x0000021EE0225408>,\n",
       " <Element 'time' at 0x0000021EE0225778>,\n",
       " <Element 'time' at 0x0000021EE0225AE8>,\n",
       " <Element 'time' at 0x0000021EE0225E58>]"
      ]
     },
     "execution_count": 69,
     "metadata": {},
     "output_type": "execute_result"
    }
   ],
   "source": [
    "weatherXML[4].findall(\"time\")"
   ]
  },
  {
   "cell_type": "code",
   "execution_count": 70,
   "metadata": {},
   "outputs": [
    {
     "data": {
      "text/plain": [
       "<Element 'time' at 0x0000021EE01EE598>"
      ]
     },
     "execution_count": 70,
     "metadata": {},
     "output_type": "execute_result"
    }
   ],
   "source": [
    "weatherXML[4].find(\"time\")"
   ]
  },
  {
   "cell_type": "code",
   "execution_count": null,
   "metadata": {},
   "outputs": [],
   "source": []
  }
 ],
 "metadata": {
  "kernelspec": {
   "display_name": "Python 3",
   "language": "python",
   "name": "python3"
  },
  "language_info": {
   "codemirror_mode": {
    "name": "ipython",
    "version": 3
   },
   "file_extension": ".py",
   "mimetype": "text/x-python",
   "name": "python",
   "nbconvert_exporter": "python",
   "pygments_lexer": "ipython3",
   "version": "3.7.1"
  }
 },
 "nbformat": 4,
 "nbformat_minor": 2
}
