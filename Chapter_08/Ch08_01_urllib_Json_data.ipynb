{
 "cells": [
  {
   "cell_type": "markdown",
   "metadata": {},
   "source": [
    "# Chapter 8: Extracting Data from the Internet\n",
    "## 01: urllib and json data (Extracting json  Data from the Internet)\n",
    "Content:\n",
    "1. urllib to download data\n",
    "2. json module for json string to dictionary or vice vesa\n",
    "\n",
    "2020-12-6\n",
    "鍾修改 2019-11-24\\\n",
    "士超改為 Python3 2019-04-25\\\n",
    "逸勳協助準備 2018-05-22"
   ]
  },
  {
   "cell_type": "markdown",
   "metadata": {},
   "source": [
    "## Python Requests Tutorial: Request Web Pages, Download Images, POST Data, Read JSON, and More\n",
    "https://www.youtube.com/watch?v=tb8gHvYlCFs"
   ]
  },
  {
   "cell_type": "code",
   "execution_count": 1,
   "metadata": {},
   "outputs": [
    {
     "data": {
      "text/html": [
       "<iframe width=\"560\" height=\"315\" src=\"https://www.youtube.com/embed/tb8gHvYlCFs\" frameborder=\"0\" allow=\"accelerometer; autoplay; clipboard-write; encrypted-media; gyroscope; picture-in-picture\" allowfullscreen></iframe>\n"
      ],
      "text/plain": [
       "<IPython.core.display.HTML object>"
      ]
     },
     "metadata": {},
     "output_type": "display_data"
    }
   ],
   "source": [
    "%%HTML\n",
    "<iframe width=\"560\" height=\"315\" src=\"https://www.youtube.com/embed/tb8gHvYlCFs\" frameborder=\"0\" allow=\"accelerometer; autoplay; clipboard-write; encrypted-media; gyroscope; picture-in-picture\" allowfullscreen></iframe>"
   ]
  },
  {
   "cell_type": "markdown",
   "metadata": {},
   "source": [
    "# Using urllib to download data"
   ]
  },
  {
   "cell_type": "code",
   "execution_count": 3,
   "metadata": {},
   "outputs": [
    {
     "data": {
      "text/plain": [
       "bytes"
      ]
     },
     "execution_count": 3,
     "metadata": {},
     "output_type": "execute_result"
    }
   ],
   "source": [
    "# 如何用 urllib 打開 url 網頁，並下載資料\n",
    "import urllib \n",
    "import sys\n",
    "\n",
    "url = 'http://google.com'\n",
    "request = urllib.request # module\n",
    "response = request.urlopen(url)\n",
    "data = response.read()\n",
    "type(data)"
   ]
  },
  {
   "cell_type": "code",
   "execution_count": 4,
   "metadata": {
    "scrolled": true
   },
   "outputs": [
    {
     "name": "stdout",
     "output_type": "stream",
     "text": [
      "b'<!doctype html><html itemscope=\"\" itemtype=\"http://schema.org/WebPage\" lang=\"zh-TW\"><head><meta content=\"text/html; charset=UTF-8\" http-equiv=\"Content-Type\"><meta content=\"/logos/doodles/2020/december-holidays-days-2-30-6753651837108830.3-law.gif\" itemprop=\"image\"><meta content=\"December Holidays\" property=\"twitter:title\"><meta content=\"December Holidays 2020 #GoogleDoodle\" property=\"twitter:description\"><meta content=\"December Holidays 2020 #GoogleDoodle\" property=\"og:description\"><meta content=\"summary_large_image\" property=\"twitter:card\"><meta content=\"@GoogleDoodles\" property=\"twitter:site\"><meta content=\"https://www.google.com/logos/doodles/2020/december-holidays-days-2-30-6753651837108830.3-2xa.gif\" property=\"twitter:image\"><meta content=\"https://www.google.com/logos/doodles/2020/december-holidays-days-2-30-6753651837108830.3-2xa.gif\" property=\"og:image\"><meta content=\"1100\" property=\"og:image:width\"><meta content=\"440\" property=\"og:image:height\"><meta content=\"https://www.google.com/logos/doodles/2020/december-holidays-days-2-30-6753651837108830.3-2xa.gif\" property=\"og:url\"><meta content=\"video.other\" property=\"og:type\"><title>Google</title><script nonce=\"hBEkJblswZQWuOcTUPISuA==\">(function(){window.google={kEI:\\'zC3PX-LKCob70gTH27XACQ\\',kEXPI:\\'0,18168,183994,1157247,730,224,755,4349,207,3117,87,10,1226,364,1499,817,383,246,5,306,1048,223,425,653,2799,314,3,65,769,217,1263,3451,408,7,2269,1114900,1197728,555,6,328978,13677,4855,32691,16115,17444,1953,9287,9188,8384,4859,1361,9290,3021,4747,8000,4841,4998,7931,5297,2054,920,873,4192,2784,3646,14527,4518,2777,919,2277,8,2796,1593,1279,2212,530,149,1103,842,515,1466,56,4258,312,1137,2,2063,606,2023,1777,520,1704,243,2229,93,328,1284,2943,2247,3599,3228,2844,9,5597,6755,4454,642,7540,337,3748,1180,108,3407,908,2,941,2614,2397,7468,3277,3,346,230,970,865,4624,149,5990,7985,4,1448,80,2304,217,1019,271,874,405,1860,1816,666,447,41,1214,2429,17,446,460,1553,4069,1036,1315,3,3280,1426,69,2415,200,2811,1753,2658,1213,3030,518,912,564,464,225,429,32,1303,2551,139,3094,990,52,3030,256,2213,1592,713,638,666,828,130,469,2,573,388,527,93,1792,262,1024,327,2360,55,744,211,2172,1458,773,2,940,260,230,587,11,687,44,665,337,522,2,833,451,1359,2320,2077,397,7,52,479,511,2,47,33,561,1262,59,363,414,7,333,23,19,17,241,708,1587,566,6,908,3,1527,1341,657,16,1,336,613,90,2,386,237,337,1413,107,384,151,980,545,404,532,39,442,1,613,91,251,4,694,155,63,221,3,198,1153,1444,462,1906,1570,70,513,138,297,5726570,3506,364,5997182,2800864,549,333,444,1,2,80,1,900,896,1,9,2,2551,1,748,200,736,4,559,1,4265,1,1,2,1017,9,305,3299,248,595,1,1574,610,60,6,3,110,26,1,2,5,12,16,7,1,23957828,2742284\\',kBL:\\'iDo1\\'};google.sn=\\'webhp\\';google.kHL=\\'zh-TW\\';})();(function(){\\ngoogle.lc=[];google.li=0;google.getEI=function(a){for(var b;a&&(!a.getAttribute||!(b=a.getAttribute(\"eid\")));)a=a.parentNode;return b||google.kEI};google.getLEI=function(a){for(var b=null;a&&(!a.getAttribute||!(b=a.getAttribute(\"leid\")));)a=a.parentNode;return b};google.ml=function(){return null};google.time=function(){return Date.now()};google.log=function(a,b,c,d,g){if(c=google.logUrl(a,b,c,d,g)){a=new Image;var e=google.lc,f=google.li;e[f]=a;a.onerror=a.onload=a.onabort=function(){delete e[f]};a.src=c;google.li=f+1}};google.logUrl=function(a,b,c,d,g){var e=\"\",f=google.ls||\"\";c||-1!=b.search(\"&ei=\")||(e=\"&ei=\"+google.getEI(d),-1==b.search(\"&lei=\")&&(d=google.getLEI(d))&&(e+=\"&lei=\"+d));d=\"\";!c&&google.cshid&&-1==b.search(\"&cshid=\")&&\"slh\"!=a&&(d=\"&cshid=\"+google.cshid);c=c||\"/\"+(g||\"gen_204\")+\"?atyp=i&ct=\"+a+\"&cad=\"+b+e+f+\"&zx=\"+google.time()+d;/^http:/i.test(c)&&\"https:\"==window.location.protocol&&(google.ml(Error(\"a\"),!1,{src:c,glmm:1}),c=\"\");return c};}).call(this);(function(){google.y={};google.x=function(a,b){if(a)var c=a.id;else{do c=Math.random();while(google.y[c])}google.y[c]=[a,b];return!1};google.lm=[];google.plm=function(a){google.lm.push.apply(google.lm,a)};google.lq=[];google.load=function(a,b,c){google.lq.push([[a],b,c])};google.loadAll=function(a,b){google.lq.push([a,b])};}).call(this);google.f={};(function(){\\ndocument.documentElement.addEventListener(\"submit\",function(b){var a;if(a=b.target){var c=a.getAttribute(\"data-submitfalse\");a=\"1\"==c||\"q\"==c&&!a.elements.q.value?!0:!1}else a=!1;a&&(b.preventDefault(),b.stopPropagation())},!0);document.documentElement.addEventListener(\"click\",function(b){var a;a:{for(a=b.target;a&&a!=document.documentElement;a=a.parentElement)if(\"A\"==a.tagName){a=\"1\"==a.getAttribute(\"data-nohref\");break a}a=!1}a&&b.preventDefault()},!0);}).call(this);\\nvar a=window.location,b=a.href.indexOf(\"#\");if(0<=b){var c=a.href.substring(b+1);/(^|&)q=/.test(c)&&-1==c.indexOf(\"#\")&&a.replace(\"/search?\"+c.replace(/(^|&)fp=[^&]*/g,\"\")+\"&cad=h\")};</script><style>#gbar,#guser{font-size:13px;padding-top:1px !important;}#gbar{height:22px}#guser{padding-bottom:7px !important;text-align:right}.gbh,.gbd{border-top:1px solid #c9d7f1;font-size:1px}.gbh{height:0;position:absolute;top:24px;width:100%}@media all{.gb1{height:22px;margin-right:.5em;vertical-align:top}#gbar{float:left}}a.gb1,a.gb4{text-decoration:underline !important}a.gb1,a.gb4{color:#00c !important}.gbi .gb4{color:#dd8e27 !important}.gbf .gb4{color:#900 !important}\\n</style><style>body,td,a,p,.h{font-family:arial,sans-serif}body{margin:0;overflow-y:scroll}#gog{padding:3px 8px 0}td{line-height:.8em}.gac_m td{line-height:17px}form{margin-bottom:20px}.h{color:#1558d6}em{color:#c5221f;font-style:normal;font-weight:normal}a em{text-decoration:underline}.lst{height:25px;width:496px}.gsfi,.lst{font:18px arial,sans-serif}.gsfs{font:17px arial,sans-serif}.ds{display:inline-box;display:inline-block;margin:3px 0 4px;margin-left:4px}input{font-family:inherit}body{background:#fff;color:#000}a{color:#4b11a8;text-decoration:none}a:hover,a:active{text-decoration:underline}.fl a{color:#1558d6}a:visited{color:#4b11a8}.sblc{padding-top:5px}.sblc a{display:block;margin:2px 0;margin-left:13px;font-size:11px}.lsbb{background:#f8f9fa;border:solid 1px;border-color:#dadce0 #70757a #70757a #dadce0;height:30px}.lsbb{display:block}#WqQANb a{display:inline-block;margin:0 12px}.lsb{background:url(/images/nav_logo229.png) 0 -261px repeat-x;border:none;color:#000;cursor:pointer;height:30px;margin:0;outline:0;font:15px arial,sans-serif;vertical-align:top}.lsb:active{background:#dadce0}.lst:focus{outline:none}</style><script nonce=\"hBEkJblswZQWuOcTUPISuA==\"></script></head><body bgcolor=\"#fff\"><script nonce=\"hBEkJblswZQWuOcTUPISuA==\">(function(){var src=\\'/images/nav_logo229.png\\';var iesg=false;document.body.onload = function(){window.n && window.n();if (document.images){new Image().src=src;}\\nif (!iesg){document.f&&document.f.q.focus();document.gbqf&&document.gbqf.q.focus();}\\n}\\n})();</script><div id=\"mngb\"><div id=gbar><nobr><b class=gb1>&#25628;&#23563;</b> <a class=gb1 href=\"http://www.google.com.tw/imghp?hl=zh-TW&tab=wi\">&#22294;&#29255;</a> <a class=gb1 href=\"http://maps.google.com.tw/maps?hl=zh-TW&tab=wl\">&#22320;&#22294;</a> <a class=gb1 href=\"https://play.google.com/?hl=zh-TW&tab=w8\">Play</a> <a class=gb1 href=\"http://www.youtube.com/?gl=TW&tab=w1\">YouTube</a> <a class=gb1 href=\"https://news.google.com/?tab=wn\">&#26032;&#32862;</a> <a class=gb1 href=\"https://mail.google.com/mail/?tab=wm\">Gmail</a> <a class=gb1 href=\"https://drive.google.com/?tab=wo\">&#38642;&#31471;&#30828;&#30879;</a> <a class=gb1 style=\"text-decoration:none\" href=\"https://www.google.com.tw/intl/zh-TW/about/products?tab=wh\"><u>&#26356;&#22810;</u> &raquo;</a></nobr></div><div id=guser width=100%><nobr><span id=gbn class=gbi></span><span id=gbf class=gbf></span><span id=gbe></span><a href=\"http://www.google.com.tw/history/optout?hl=zh-TW\" class=gb4>&#32178;&#38913;&#35352;&#37636;</a> | <a  href=\"/preferences?hl=zh-TW\" class=gb4>&#35373;&#23450;</a> | <a target=_top id=gb_70 href=\"https://accounts.google.com/ServiceLogin?hl=zh-TW&passive=true&continue=http://www.google.com/&ec=GAZAAQ\" class=gb4>&#30331;&#20837;</a></nobr></div><div class=gbh style=left:0></div><div class=gbh style=right:0></div></div><center><br clear=\"all\" id=\"lgpd\"><div id=\"lga\"><a href=\"/search?ie=UTF-8&amp;q=December+global+holidays&amp;oi=ddle&amp;ct=173710363&amp;hl=en&amp;sa=X&amp;ved=0ahUKEwji4MLk8L3tAhWGvZQKHcdtDZgQPQgD\"><img alt=\"December Holidays\" border=\"0\" height=\"180\" src=\"/logos/doodles/2020/december-holidays-days-2-30-6753651837108830.3-law.gif\" title=\"December Holidays\" width=\"500\" id=\"hplogo\"><br></a><br></div><form action=\"/search\" name=\"f\"><table cellpadding=\"0\" cellspacing=\"0\"><tr valign=\"top\"><td width=\"25%\">&nbsp;</td><td align=\"center\" nowrap=\"\"><input name=\"ie\" value=\"ISO-8859-1\" type=\"hidden\"><input value=\"zh-TW\" name=\"hl\" type=\"hidden\"><input name=\"source\" type=\"hidden\" value=\"hp\"><input name=\"biw\" type=\"hidden\"><input name=\"bih\" type=\"hidden\"><div class=\"ds\" style=\"height:32px;margin:4px 0\"><input class=\"lst\" style=\"margin:0;padding:5px 8px 0 6px;vertical-align:top;color:#000\" autocomplete=\"off\" value=\"\" title=\"Google &#25628;&#23563;\" maxlength=\"2048\" name=\"q\" size=\"57\"></div><br style=\"line-height:0\"><span class=\"ds\"><span class=\"lsbb\"><input class=\"lsb\" value=\"Google &#25628;&#23563;\" name=\"btnG\" type=\"submit\"></span></span><span class=\"ds\"><span class=\"lsbb\"><input class=\"lsb\" id=\"tsuid1\" value=\"&#22909;&#25163;&#27683;\" name=\"btnI\" type=\"submit\"><script nonce=\"hBEkJblswZQWuOcTUPISuA==\">(function(){var id=\\'tsuid1\\';document.getElementById(id).onclick = function(){if (this.form.q.value){this.checked = 1;if (this.form.iflsig)this.form.iflsig.disabled = false;}\\nelse top.location=\\'/doodles/\\';};})();</script><input value=\"AINFCbYAAAAAX8873F_CK9HBGqO_UaEQkqN6293u0eBS\" name=\"iflsig\" type=\"hidden\"></span></span></td><td class=\"fl sblc\" align=\"left\" nowrap=\"\" width=\"25%\"><a href=\"/advanced_search?hl=zh-TW&amp;authuser=0\">&#36914;&#38542;&#25628;&#23563;</a></td></tr></table><input id=\"gbv\" name=\"gbv\" type=\"hidden\" value=\"1\"><script nonce=\"hBEkJblswZQWuOcTUPISuA==\">(function(){var a,b=\"1\";if(document&&document.getElementById)if(\"undefined\"!=typeof XMLHttpRequest)b=\"2\";else if(\"undefined\"!=typeof ActiveXObject){var c,d,e=[\"MSXML2.XMLHTTP.6.0\",\"MSXML2.XMLHTTP.3.0\",\"MSXML2.XMLHTTP\",\"Microsoft.XMLHTTP\"];for(c=0;d=e[c++];)try{new ActiveXObject(d),b=\"2\"}catch(h){}}a=b;if(\"2\"==a&&-1==location.search.indexOf(\"&gbv=2\")){var f=google.gbvu,g=document.getElementById(\"gbv\");g&&(g.value=a);f&&window.setTimeout(function(){location.href=f},0)};}).call(this);</script></form><div id=\"gac_scont\"></div><div style=\"font-size:83%;min-height:3.5em\"><br></div><span id=\"footer\"><div style=\"font-size:10pt\"><div style=\"margin:19px auto;text-align:center\" id=\"WqQANb\"><a href=\"/intl/zh-TW/ads/\">&#24291;&#21578;&#26381;&#21209;</a><a href=\"http://www.google.com.tw/intl/zh-TW/services/\">&#21830;&#26989;&#35299;&#27770;&#26041;&#26696;</a><a href=\"/intl/zh-TW/about.html\">&#38364;&#26044; Google</a><a href=\"http://www.google.com/setprefdomain?prefdom=TW&amp;prev=http://www.google.com.tw/&amp;sig=K_-eJjN6UV0K754qaus75KhK4NWrg%3D\">Google.com.tw</a></div></div><p style=\"font-size:8pt;color:#70757a\">&copy; 2020 - <a href=\"/intl/zh-TW/policies/privacy/\">&#38577;&#31169;&#27402;</a> - <a href=\"/intl/zh-TW/policies/terms/\">&#26381;&#21209;&#26781;&#27454;</a></p></span></center><script nonce=\"hBEkJblswZQWuOcTUPISuA==\">(function(){window.google.cdo={height:0,width:0};(function(){var a=window.innerWidth,b=window.innerHeight;if(!a||!b){var c=window.document,d=\"CSS1Compat\"==c.compatMode?c.documentElement:c.body;a=d.clientWidth;b=d.clientHeight}a&&b&&(a!=google.cdo.width||b!=google.cdo.height)&&google.log(\"\",\"\",\"/client_204?&atyp=i&biw=\"+a+\"&bih=\"+b+\"&ei=\"+google.kEI);}).call(this);})();(function(){var u=\\'/xjs/_/js/k\\\\x3dxjs.hp.en.Ru5yzHkKH1M.O/m\\\\x3dsb_he,d/am\\\\x3dAHiCOA/d\\\\x3d1/rs\\\\x3dACT90oGTbNV092KIX-PhymyDFR5sMEyREA\\';\\nvar c=this||self,e=/^[\\\\w+/_-]+[=]{0,2}$/,f=null,g=function(a){return(a=a.querySelector&&a.querySelector(\"script[nonce]\"))&&(a=a.nonce||a.getAttribute(\"nonce\"))&&e.test(a)?a:\"\"},h=function(a){return a};var l;var n=function(a,b){this.a=b===m?a:\"\"},m={};setTimeout(function(){var a=document;var b=\"SCRIPT\";\"application/xhtml+xml\"===a.contentType&&(b=b.toLowerCase());b=a.createElement(b);a=u;if(void 0===l){var d=null;var k=c.trustedTypes;if(k&&k.createPolicy){try{d=k.createPolicy(\"goog#html\",{createHTML:h,createScript:h,createScriptURL:h})}catch(p){c.console&&c.console.error(p.message)}l=d}else l=d}a=(d=l)?d.createScriptURL(a):a;a=new n(a,m);b.src=a instanceof n&&a.constructor===n?a.a:\"type_error:TrustedResourceUrl\";(a=b.ownerDocument&&b.ownerDocument.defaultView)&&\\na!=c?a=g(a.document):(null===f&&(f=g(c.document)),a=f);a&&b.setAttribute(\"nonce\",a);google.timers&&google.timers.load&&google.tick&&google.tick(\"load\",\"xjsls\");document.body.appendChild(b)},0);})();(function(){window.google.xjsu=\\'/xjs/_/js/k\\\\x3dxjs.hp.en.Ru5yzHkKH1M.O/m\\\\x3dsb_he,d/am\\\\x3dAHiCOA/d\\\\x3d1/rs\\\\x3dACT90oGTbNV092KIX-PhymyDFR5sMEyREA\\';})();function _DumpException(e){throw e;}\\nfunction _F_installCss(c){}\\n(function(){google.jl={dw:false,em:[],emw:false,lls:\\'default\\',pdt:0,snet:true,uwp:true};})();(function(){var pmc=\\'{\\\\x22d\\\\x22:{},\\\\x22sb_he\\\\x22:{\\\\x22agen\\\\x22:true,\\\\x22cgen\\\\x22:true,\\\\x22client\\\\x22:\\\\x22heirloom-hp\\\\x22,\\\\x22dh\\\\x22:true,\\\\x22dhqt\\\\x22:true,\\\\x22ds\\\\x22:\\\\x22\\\\x22,\\\\x22ffql\\\\x22:\\\\x22zh-TW\\\\x22,\\\\x22fl\\\\x22:true,\\\\x22host\\\\x22:\\\\x22google.com\\\\x22,\\\\x22isbh\\\\x22:28,\\\\x22jsonp\\\\x22:true,\\\\x22msgs\\\\x22:{\\\\x22cibl\\\\x22:\\\\x22&#28165;&#38500;&#25628;&#23563;\\\\x22,\\\\x22dym\\\\x22:\\\\x22&#24744;&#26159;&#19981;&#26159;&#35201;&#26597;&#65306;\\\\x22,\\\\x22lcky\\\\x22:\\\\x22&#22909;&#25163;&#27683;\\\\x22,\\\\x22lml\\\\x22:\\\\x22&#30637;&#35299;&#35443;&#24773;\\\\x22,\\\\x22oskt\\\\x22:\\\\x22&#36664;&#20837;&#24037;&#20855;\\\\x22,\\\\x22psrc\\\\x22:\\\\x22&#24050;&#24478;&#24744;&#30340;&#12300;\\\\\\\\u003Ca href\\\\x3d\\\\\\\\\\\\x22/history\\\\\\\\\\\\x22\\\\\\\\u003E&#32178;&#38913;&#35352;&#37636;\\\\\\\\u003C/a\\\\\\\\u003E&#12301;&#20013;&#31227;&#38500;&#36889;&#31558;&#25628;&#23563;&#35352;&#37636;\\\\x22,\\\\x22psrl\\\\x22:\\\\x22&#31227;&#38500;\\\\x22,\\\\x22sbit\\\\x22:\\\\x22&#20197;&#22294;&#25628;&#23563;\\\\x22,\\\\x22srch\\\\x22:\\\\x22Google &#25628;&#23563;\\\\x22},\\\\x22nrft\\\\x22:false,\\\\x22ovr\\\\x22:{},\\\\x22pq\\\\x22:\\\\x22\\\\x22,\\\\x22refpd\\\\x22:true,\\\\x22refspre\\\\x22:true,\\\\x22rfs\\\\x22:[],\\\\x22sbas\\\\x22:\\\\x220 3px 8px 0 rgba(0,0,0,0.2),0 0 0 1px rgba(0,0,0,0.08)\\\\x22,\\\\x22sbpl\\\\x22:16,\\\\x22sbpr\\\\x22:16,\\\\x22scd\\\\x22:10,\\\\x22stok\\\\x22:\\\\x22WG5PpJo9hpcGR7rJjCWARTBiWAU\\\\x22,\\\\x22uhde\\\\x22:false}}\\';google.pmc=JSON.parse(pmc);})();</script>        </body></html>'\n"
     ]
    }
   ],
   "source": [
    "print(data)"
   ]
  },
  {
   "cell_type": "markdown",
   "metadata": {},
   "source": [
    "# Parsing JSON APIs"
   ]
  },
  {
   "cell_type": "markdown",
   "metadata": {},
   "source": [
    "### url 本身是一個 JSON 的 api 介面：\n",
    "https://api.exchangerate-api.com/v4/latest/JPY"
   ]
  },
  {
   "cell_type": "markdown",
   "metadata": {},
   "source": [
    "```json\n",
    "{\"base\":\"JPY\",\"date\":\"2020-12-06\",\"time_last_updated\":1607213051,\"rates\":{\"JPY\":1,\"AED\":0.035352,\"ARS\":0.785249,\"AUD\":0.012944,\"BGN\":0.015467,\"BRL\":0.049567,\"BSD\":0.009627,\"CAD\":0.012348,\"CHF\":0.008566,\"CLP\":7.228111,\"CNY\":0.062857,\"COP\":32.909091,\"CZK\":0.209537,\"DKK\":0.058911,\"DOP\":0.558642,\"EGP\":0.150426,\"EUR\":0.007915,\"FJD\":0.019994,\"GBP\":0.007138,\"GTQ\":0.075088,\"HKD\":0.074536,\"HRK\":0.05965,\"HUF\":2.833069,\"IDR\":137.030255,\"ILS\":0.031403,\"INR\":0.710006,\"ISK\":1.205827,\"KRW\":10.458147,\"KZT\":4.067416,\"MVR\":0.148135,\"MXN\":0.190559,\"MYR\":0.03912,\"NOK\":0.084346,\"NZD\":0.013629,\"PAB\":0.009627,\"PEN\":0.034541,\"PHP\":0.462257,\"PKR\":1.537155,\"PLN\":0.035399,\"PYG\":65.818182,\"RON\":0.038544,\"RUB\":0.713921,\"SAR\":0.036098,\"SEK\":0.081185,\"SGD\":0.012824,\"THB\":0.29027,\"TRY\":0.074839,\"TWD\":0.272572,\"UAH\":0.271594,\"USD\":0.009613,\"UYU\":0.409271,\"ZAR\":0.146083}}\n",
    "```"
   ]
  },
  {
   "cell_type": "markdown",
   "metadata": {},
   "source": [
    "### 以下可以更清楚看得到 json 的內容：\n",
    "https://codebeautify.org/jsonviewer\n",
    "\n",
    "https://jsonformatter.org/json-parser"
   ]
  },
  {
   "cell_type": "markdown",
   "metadata": {},
   "source": [
    "##  有時會在 url 中看到 json 格式的資料。json 可想成是 \"字串化\" 的 python dictionary 的字串\n",
    "## 在 python 中，\n",
    "1. 可以將 json 格式的資料轉成 python dictionary (因為在 python 中 dictionary 比較容易處理); \n",
    "2. 也可以將原本  dictionary 轉換成 json 格式的資料"
   ]
  },
  {
   "cell_type": "code",
   "execution_count": 5,
   "metadata": {},
   "outputs": [
    {
     "data": {
      "text/plain": [
       "{'a': 1, 'b': 'Hi', 'c': 0.5}"
      ]
     },
     "execution_count": 5,
     "metadata": {},
     "output_type": "execute_result"
    }
   ],
   "source": [
    "dicta = {\"a\" : 1, \"b\" : \"Hi\", \"c\" : 0.5}\n",
    "dicta"
   ]
  },
  {
   "cell_type": "code",
   "execution_count": 6,
   "metadata": {},
   "outputs": [
    {
     "data": {
      "text/plain": [
       "dict"
      ]
     },
     "execution_count": 6,
     "metadata": {},
     "output_type": "execute_result"
    }
   ],
   "source": [
    "type(dicta)"
   ]
  },
  {
   "cell_type": "code",
   "execution_count": 7,
   "metadata": {},
   "outputs": [
    {
     "data": {
      "text/plain": [
       "1"
      ]
     },
     "execution_count": 7,
     "metadata": {},
     "output_type": "execute_result"
    }
   ],
   "source": [
    "dicta[\"a\"]"
   ]
  },
  {
   "cell_type": "code",
   "execution_count": 8,
   "metadata": {},
   "outputs": [],
   "source": [
    "dictb = {\"a\" : 1, \"b\" : \"Hi\", \"c\" : 0.5, \"dicta\" : {\"a\" : 1, \"b\" : \"Hi\", \"c\" : 0.5} }"
   ]
  },
  {
   "cell_type": "code",
   "execution_count": null,
   "metadata": {},
   "outputs": [],
   "source": [
    "#pprint.pprint(dictb)"
   ]
  },
  {
   "cell_type": "code",
   "execution_count": 9,
   "metadata": {},
   "outputs": [
    {
     "data": {
      "text/plain": [
       "str"
      ]
     },
     "execution_count": 9,
     "metadata": {},
     "output_type": "execute_result"
    }
   ],
   "source": [
    "# json.dumps() 是將 dictionary 轉為 str\n",
    "import json\n",
    "dictb_jason = json.dumps(dictb)\n",
    "type(dictb_jason)"
   ]
  },
  {
   "cell_type": "code",
   "execution_count": 10,
   "metadata": {},
   "outputs": [
    {
     "name": "stdout",
     "output_type": "stream",
     "text": [
      "{\"a\": 1, \"b\": \"Hi\", \"c\": 0.5, \"dicta\": {\"a\": 1, \"b\": \"Hi\", \"c\": 0.5}}\n"
     ]
    }
   ],
   "source": [
    "print(dictb_jason)"
   ]
  },
  {
   "cell_type": "code",
   "execution_count": 11,
   "metadata": {},
   "outputs": [
    {
     "data": {
      "text/plain": [
       "{'a': 1, 'b': 'Hi', 'c': 0.5}"
      ]
     },
     "execution_count": 11,
     "metadata": {},
     "output_type": "execute_result"
    }
   ],
   "source": [
    "dictb[\"dicta\"]"
   ]
  },
  {
   "cell_type": "code",
   "execution_count": 12,
   "metadata": {},
   "outputs": [
    {
     "data": {
      "text/plain": [
       "dict"
      ]
     },
     "execution_count": 12,
     "metadata": {},
     "output_type": "execute_result"
    }
   ],
   "source": [
    "type(dictb[\"dicta\"])"
   ]
  },
  {
   "cell_type": "code",
   "execution_count": 13,
   "metadata": {},
   "outputs": [
    {
     "data": {
      "text/plain": [
       "'{\"a\" : 1, \"b\" : \"Hi\", \"c\" : 0.5}'"
      ]
     },
     "execution_count": 13,
     "metadata": {},
     "output_type": "execute_result"
    }
   ],
   "source": [
    "stra = '{\"a\" : 1, \"b\" : \"Hi\", \"c\" : 0.5}'\n",
    "stra"
   ]
  },
  {
   "cell_type": "code",
   "execution_count": 14,
   "metadata": {},
   "outputs": [
    {
     "data": {
      "text/plain": [
       "str"
      ]
     },
     "execution_count": 14,
     "metadata": {},
     "output_type": "execute_result"
    }
   ],
   "source": [
    "type(stra)"
   ]
  },
  {
   "cell_type": "code",
   "execution_count": 15,
   "metadata": {},
   "outputs": [
    {
     "ename": "TypeError",
     "evalue": "string indices must be integers",
     "output_type": "error",
     "traceback": [
      "\u001b[1;31m---------------------------------------------------------------------------\u001b[0m",
      "\u001b[1;31mTypeError\u001b[0m                                 Traceback (most recent call last)",
      "\u001b[1;32m<ipython-input-15-23a20e7efac9>\u001b[0m in \u001b[0;36m<module>\u001b[1;34m\u001b[0m\n\u001b[0;32m      1\u001b[0m \u001b[1;31m# 以下的執行會出錯\u001b[0m\u001b[1;33m\u001b[0m\u001b[1;33m\u001b[0m\u001b[1;33m\u001b[0m\u001b[0m\n\u001b[1;32m----> 2\u001b[1;33m \u001b[0mstra\u001b[0m\u001b[1;33m[\u001b[0m\u001b[1;34m\"a\"\u001b[0m\u001b[1;33m]\u001b[0m\u001b[1;33m\u001b[0m\u001b[1;33m\u001b[0m\u001b[0m\n\u001b[0m",
      "\u001b[1;31mTypeError\u001b[0m: string indices must be integers"
     ]
    }
   ],
   "source": [
    "# 以下的執行會出錯\n",
    "stra[\"a\"]"
   ]
  },
  {
   "cell_type": "markdown",
   "metadata": {},
   "source": [
    "## 也可以將原本  dictionary 轉換成 json 格式的資料"
   ]
  },
  {
   "cell_type": "code",
   "execution_count": 17,
   "metadata": {},
   "outputs": [],
   "source": [
    "import json\n",
    "string = '{\"a\" : 1, \"b\" : \"Hi\", \"c\" : 0.5}' # 注意此與 dictionary 之不同處"
   ]
  },
  {
   "cell_type": "code",
   "execution_count": 18,
   "metadata": {},
   "outputs": [
    {
     "data": {
      "text/plain": [
       "str"
      ]
     },
     "execution_count": 18,
     "metadata": {},
     "output_type": "execute_result"
    }
   ],
   "source": [
    "type(string)"
   ]
  },
  {
   "cell_type": "code",
   "execution_count": 19,
   "metadata": {},
   "outputs": [
    {
     "name": "stdout",
     "output_type": "stream",
     "text": [
      "{'a': 1, 'b': 'Hi', 'c': 0.5}\n"
     ]
    }
   ],
   "source": [
    "# json.load() 是將 string 轉換成 python dictionary\n",
    "result = json.loads(string)  # 將string轉換為dictionary\n",
    "print(result)"
   ]
  },
  {
   "cell_type": "code",
   "execution_count": 20,
   "metadata": {},
   "outputs": [
    {
     "data": {
      "text/plain": [
       "dict"
      ]
     },
     "execution_count": 20,
     "metadata": {},
     "output_type": "execute_result"
    }
   ],
   "source": [
    "type(result)"
   ]
  },
  {
   "cell_type": "code",
   "execution_count": 21,
   "metadata": {},
   "outputs": [
    {
     "data": {
      "text/plain": [
       "1"
      ]
     },
     "execution_count": 21,
     "metadata": {},
     "output_type": "execute_result"
    }
   ],
   "source": [
    "result[\"a\"]"
   ]
  },
  {
   "cell_type": "code",
   "execution_count": 22,
   "metadata": {},
   "outputs": [
    {
     "data": {
      "text/plain": [
       "'Hi'"
      ]
     },
     "execution_count": 22,
     "metadata": {},
     "output_type": "execute_result"
    }
   ],
   "source": [
    "result[\"b\"]"
   ]
  },
  {
   "cell_type": "code",
   "execution_count": 23,
   "metadata": {},
   "outputs": [
    {
     "data": {
      "text/plain": [
       "0.5"
      ]
     },
     "execution_count": 23,
     "metadata": {},
     "output_type": "execute_result"
    }
   ],
   "source": [
    "result[\"c\"]"
   ]
  },
  {
   "cell_type": "markdown",
   "metadata": {},
   "source": [
    "# 匯率轉換 API"
   ]
  },
  {
   "cell_type": "markdown",
   "metadata": {},
   "source": [
    "原本課本上介紹的API現在有付費版本，免費版本只能取得以歐元為基底的匯率(ref from: https://github.com/fixerAPI/fixer#readme )：\n",
    "\n",
    "http://data.fixer.io/latest?access_key=0f845fe3c897d0bcfeaf70eeb4413b77&symbols=JPY,EUR\n",
    "\n",
    "我有申請\n",
    "http://data.fixer.io/latest?access_key=c6bf339076dc1e45dfac8c3eb03e1808&symbols=JPY,EUR"
   ]
  },
  {
   "cell_type": "markdown",
   "metadata": {},
   "source": [
    "### 網路上另外找到的匯率轉換API接口：European Central Bank\n",
    "\n",
    "https://exchangeratesapi.io/\n",
    "\n",
    "https://github.com/exchangeratesapi/exchangeratesapi \n",
    "\n",
    "以下可以看得到三種貨幣與其他貨幣的轉換匯率：\n",
    "\n",
    "1. https://api.exchangerate-api.com/v4/latest/JPY (日元)\n",
    "2. https://api.exchangeratesapi.io/latest?base=USD (美元)\n",
    "3. https://api.exchangeratesapi.io/latest?base=CNY (人民幣)\n",
    "4. https://api.exchangeratesapi.io/history?start_at=2020-01-01&end_at=2020-12-04&base=USD (一段期間內的匯率變動)"
   ]
  },
  {
   "cell_type": "markdown",
   "metadata": {},
   "source": [
    "https://api.exchangerate-api.com/v4/latest/USD\n",
    "\n",
    "```json\n",
    "{\"base\":\"USD\",\"date\":\"2020-12-06\",\"time_last_updated\":1607213051,\"rates\":{\"USD\":1,\"AED\":3.672021,\"ARS\":81.565076,\"AUD\":1.346432,\"BGN\":1.608188,\"BRL\":5.154163,\"BSD\":1,\"CAD\":1.283386,\"CHF\":0.890804,\"CLP\":751.156706,\"CNY\":6.531445,\"COP\":3418.318182,\"CZK\":21.787167,\"DKK\":6.121812,\"DOP\":58.027006,\"EGP\":15.624974,\"EUR\":0.823238,\"FJD\":2.0768,\"GBP\":0.742531,\"GTQ\":7.799523,\"HKD\":7.750546,\"HRK\":6.202249,\"HUF\":294.659334,\"IDR\":14248.732795,\"ILS\":3.266499,\"INR\":73.789185,\"ISK\":125.356265,\"JPY\":104.026778,\"KRW\":1085.86167,\"KZT\":422.488764,\"MVR\":15.41,\"MXN\":19.823195,\"MYR\":4.061957,\"NOK\":8.773826,\"NZD\":1.418614,\"PAB\":1,\"PEN\":3.592082,\"PHP\":48.055722,\"PKR\":159.666667,\"PLN\":3.679744,\"PYG\":6836.636364,\"RON\":4.006975,\"RUB\":74.172059,\"SAR\":3.750415,\"SEK\":8.443579,\"SGD\":1.332801,\"THB\":30.161193,\"TRY\":7.78665,\"TWD\":28.265763,\"UAH\":28.224539,\"UYU\":42.511588,\"ZAR\":15.197103}}\n",
    "```"
   ]
  },
  {
   "cell_type": "code",
   "execution_count": 24,
   "metadata": {},
   "outputs": [],
   "source": [
    "import urllib\n",
    "import json  # 將 json 格式轉為 python 中的 dictionary\n",
    "from string import Template\n",
    "import sys\n",
    "\n",
    "# 課本原本查詢的網頁，因為現在要付費了，所以不用：\n",
    "# only EUR base is available to use for a free account\n",
    "# URL_TEMLATE = Template('http://data.fixer.io/latest?access_key=${access_key}&symbols=${to_curr}') \n",
    "# access_key = '0f845fe3c897d0bcfeaf70eeb4413b77'\n",
    "\n",
    "# 我們改用另外那個免費的：another api for free\n",
    "URL_TEMLATE = Template('https://api.exchangerate-api.com/v4/latest/${from_curr}') \n",
    "#https://api.exchangeratesapi.io/latest/base=USD"
   ]
  },
  {
   "cell_type": "code",
   "execution_count": 25,
   "metadata": {},
   "outputs": [
    {
     "name": "stdout",
     "output_type": "stream",
     "text": [
      "https://api.exchangerate-api.com/v4/latest/usd\n"
     ]
    }
   ],
   "source": [
    "# 先下載看看\n",
    "api_url = URL_TEMLATE.substitute(from_curr=\"usd\") # https://api.exchangerate-api.com/v4/latest/usd\n",
    "print(api_url)"
   ]
  },
  {
   "cell_type": "markdown",
   "metadata": {},
   "source": [
    "### https://api.exchangerate-api.com/v4/latest/usd (比較新)\n",
    "\n",
    "### https://api.exchangeratesapi.io/latest?base=USD (較舊)"
   ]
  },
  {
   "cell_type": "code",
   "execution_count": 26,
   "metadata": {},
   "outputs": [
    {
     "data": {
      "text/plain": [
       "bytes"
      ]
     },
     "execution_count": 26,
     "metadata": {},
     "output_type": "execute_result"
    }
   ],
   "source": [
    "response = urllib.request.urlopen(api_url)\n",
    "json_response = response.read()\n",
    "type(json_response)"
   ]
  },
  {
   "cell_type": "code",
   "execution_count": 27,
   "metadata": {},
   "outputs": [
    {
     "data": {
      "text/plain": [
       "b'{\"base\":\"USD\",\"date\":\"2020-12-08\",\"time_last_updated\":1607385841,\"rates\":{\"USD\":1,\"AED\":3.671955,\"ARS\":81.616812,\"AUD\":1.348765,\"BGN\":1.614198,\"BRL\":5.12954,\"BSD\":1,\"CAD\":1.280694,\"CHF\":0.890921,\"CLP\":745.619491,\"CNY\":6.532102,\"COP\":3398.227273,\"CZK\":21.857086,\"DKK\":6.139679,\"DOP\":57.819799,\"EGP\":15.637105,\"EUR\":0.824978,\"FJD\":2.070426,\"GBP\":0.749812,\"GTQ\":7.811201,\"HKD\":7.750356,\"HRK\":6.223142,\"HUF\":296.539543,\"IDR\":14285.442014,\"ILS\":3.26439,\"INR\":73.873704,\"ISK\":125.721077,\"JPY\":104.110938,\"KRW\":1085.188423,\"KZT\":420.005618,\"MVR\":15.41,\"MXN\":19.861076,\"MYR\":4.069267,\"NOK\":8.77673,\"NZD\":1.421726,\"PAB\":1,\"PEN\":3.594179,\"PHP\":48.12166,\"PKR\":159.405117,\"PLN\":3.686138,\"PYG\":6796.454545,\"RON\":4.018902,\"RUB\":74.004978,\"SAR\":3.750961,\"SEK\":8.422958,\"SGD\":1.336287,\"THB\":30.216281,\"TRY\":7.822365,\"TWD\":28.229882,\"UAH\":28.178508,\"UYU\":42.55037,\"ZAR\":15.182871}}'"
      ]
     },
     "execution_count": 27,
     "metadata": {},
     "output_type": "execute_result"
    }
   ],
   "source": [
    "json_response"
   ]
  },
  {
   "cell_type": "code",
   "execution_count": 28,
   "metadata": {},
   "outputs": [
    {
     "name": "stdout",
     "output_type": "stream",
     "text": [
      "b'{\"base\":\"USD\",\"date\":\"2020-12-08\",\"time_last_updated\":1607385841,\"rates\":{\"USD\":1,\"AED\":3.671955,\"ARS\":81.616812,\"AUD\":1.348765,\"BGN\":1.614198,\"BRL\":5.12954,\"BSD\":1,\"CAD\":1.280694,\"CHF\":0.890921,\"CLP\":745.619491,\"CNY\":6.532102,\"COP\":3398.227273,\"CZK\":21.857086,\"DKK\":6.139679,\"DOP\":57.819799,\"EGP\":15.637105,\"EUR\":0.824978,\"FJD\":2.070426,\"GBP\":0.749812,\"GTQ\":7.811201,\"HKD\":7.750356,\"HRK\":6.223142,\"HUF\":296.539543,\"IDR\":14285.442014,\"ILS\":3.26439,\"INR\":73.873704,\"ISK\":125.721077,\"JPY\":104.110938,\"KRW\":1085.188423,\"KZT\":420.005618,\"MVR\":15.41,\"MXN\":19.861076,\"MYR\":4.069267,\"NOK\":8.77673,\"NZD\":1.421726,\"PAB\":1,\"PEN\":3.594179,\"PHP\":48.12166,\"PKR\":159.405117,\"PLN\":3.686138,\"PYG\":6796.454545,\"RON\":4.018902,\"RUB\":74.004978,\"SAR\":3.750961,\"SEK\":8.422958,\"SGD\":1.336287,\"THB\":30.216281,\"TRY\":7.822365,\"TWD\":28.229882,\"UAH\":28.178508,\"UYU\":42.55037,\"ZAR\":15.182871}}'\n"
     ]
    }
   ],
   "source": [
    "print(json_response)"
   ]
  },
  {
   "cell_type": "code",
   "execution_count": 29,
   "metadata": {},
   "outputs": [
    {
     "data": {
      "text/plain": [
       "dict"
      ]
     },
     "execution_count": 29,
     "metadata": {},
     "output_type": "execute_result"
    }
   ],
   "source": [
    "result = json.loads(json_response) # 結果存成一個 dictionary\n",
    "type(result)"
   ]
  },
  {
   "cell_type": "code",
   "execution_count": 30,
   "metadata": {},
   "outputs": [
    {
     "name": "stdout",
     "output_type": "stream",
     "text": [
      "{'base': 'USD', 'date': '2020-12-08', 'time_last_updated': 1607385841, 'rates': {'USD': 1, 'AED': 3.671955, 'ARS': 81.616812, 'AUD': 1.348765, 'BGN': 1.614198, 'BRL': 5.12954, 'BSD': 1, 'CAD': 1.280694, 'CHF': 0.890921, 'CLP': 745.619491, 'CNY': 6.532102, 'COP': 3398.227273, 'CZK': 21.857086, 'DKK': 6.139679, 'DOP': 57.819799, 'EGP': 15.637105, 'EUR': 0.824978, 'FJD': 2.070426, 'GBP': 0.749812, 'GTQ': 7.811201, 'HKD': 7.750356, 'HRK': 6.223142, 'HUF': 296.539543, 'IDR': 14285.442014, 'ILS': 3.26439, 'INR': 73.873704, 'ISK': 125.721077, 'JPY': 104.110938, 'KRW': 1085.188423, 'KZT': 420.005618, 'MVR': 15.41, 'MXN': 19.861076, 'MYR': 4.069267, 'NOK': 8.77673, 'NZD': 1.421726, 'PAB': 1, 'PEN': 3.594179, 'PHP': 48.12166, 'PKR': 159.405117, 'PLN': 3.686138, 'PYG': 6796.454545, 'RON': 4.018902, 'RUB': 74.004978, 'SAR': 3.750961, 'SEK': 8.422958, 'SGD': 1.336287, 'THB': 30.216281, 'TRY': 7.822365, 'TWD': 28.229882, 'UAH': 28.178508, 'UYU': 42.55037, 'ZAR': 15.182871}}\n"
     ]
    }
   ],
   "source": [
    "print(result)"
   ]
  },
  {
   "cell_type": "markdown",
   "metadata": {},
   "source": [
    "## pprint — Data pretty printer\n",
    "## 引入一個比較好可以檢視 dictionary data 的方法\n",
    "https://docs.python.org/3/library/pprint.html"
   ]
  },
  {
   "cell_type": "code",
   "execution_count": 31,
   "metadata": {},
   "outputs": [
    {
     "name": "stdout",
     "output_type": "stream",
     "text": [
      "{'base': 'USD',\n",
      " 'date': '2020-12-08',\n",
      " 'rates': {'AED': 3.671955,\n",
      "           'ARS': 81.616812,\n",
      "           'AUD': 1.348765,\n",
      "           'BGN': 1.614198,\n",
      "           'BRL': 5.12954,\n",
      "           'BSD': 1,\n",
      "           'CAD': 1.280694,\n",
      "           'CHF': 0.890921,\n",
      "           'CLP': 745.619491,\n",
      "           'CNY': 6.532102,\n",
      "           'COP': 3398.227273,\n",
      "           'CZK': 21.857086,\n",
      "           'DKK': 6.139679,\n",
      "           'DOP': 57.819799,\n",
      "           'EGP': 15.637105,\n",
      "           'EUR': 0.824978,\n",
      "           'FJD': 2.070426,\n",
      "           'GBP': 0.749812,\n",
      "           'GTQ': 7.811201,\n",
      "           'HKD': 7.750356,\n",
      "           'HRK': 6.223142,\n",
      "           'HUF': 296.539543,\n",
      "           'IDR': 14285.442014,\n",
      "           'ILS': 3.26439,\n",
      "           'INR': 73.873704,\n",
      "           'ISK': 125.721077,\n",
      "           'JPY': 104.110938,\n",
      "           'KRW': 1085.188423,\n",
      "           'KZT': 420.005618,\n",
      "           'MVR': 15.41,\n",
      "           'MXN': 19.861076,\n",
      "           'MYR': 4.069267,\n",
      "           'NOK': 8.77673,\n",
      "           'NZD': 1.421726,\n",
      "           'PAB': 1,\n",
      "           'PEN': 3.594179,\n",
      "           'PHP': 48.12166,\n",
      "           'PKR': 159.405117,\n",
      "           'PLN': 3.686138,\n",
      "           'PYG': 6796.454545,\n",
      "           'RON': 4.018902,\n",
      "           'RUB': 74.004978,\n",
      "           'SAR': 3.750961,\n",
      "           'SEK': 8.422958,\n",
      "           'SGD': 1.336287,\n",
      "           'THB': 30.216281,\n",
      "           'TRY': 7.822365,\n",
      "           'TWD': 28.229882,\n",
      "           'UAH': 28.178508,\n",
      "           'USD': 1,\n",
      "           'UYU': 42.55037,\n",
      "           'ZAR': 15.182871},\n",
      " 'time_last_updated': 1607385841}\n"
     ]
    }
   ],
   "source": [
    "import pprint # pretty printer\n",
    "pprint.pprint(result)"
   ]
  },
  {
   "cell_type": "code",
   "execution_count": 32,
   "metadata": {},
   "outputs": [
    {
     "name": "stdout",
     "output_type": "stream",
     "text": [
      "base\n",
      "date\n",
      "time_last_updated\n",
      "rates\n"
     ]
    }
   ],
   "source": [
    "for key in result.keys():\n",
    "    print(key)"
   ]
  },
  {
   "cell_type": "code",
   "execution_count": 33,
   "metadata": {},
   "outputs": [
    {
     "data": {
      "text/plain": [
       "{'USD': 1,\n",
       " 'AED': 3.671955,\n",
       " 'ARS': 81.616812,\n",
       " 'AUD': 1.348765,\n",
       " 'BGN': 1.614198,\n",
       " 'BRL': 5.12954,\n",
       " 'BSD': 1,\n",
       " 'CAD': 1.280694,\n",
       " 'CHF': 0.890921,\n",
       " 'CLP': 745.619491,\n",
       " 'CNY': 6.532102,\n",
       " 'COP': 3398.227273,\n",
       " 'CZK': 21.857086,\n",
       " 'DKK': 6.139679,\n",
       " 'DOP': 57.819799,\n",
       " 'EGP': 15.637105,\n",
       " 'EUR': 0.824978,\n",
       " 'FJD': 2.070426,\n",
       " 'GBP': 0.749812,\n",
       " 'GTQ': 7.811201,\n",
       " 'HKD': 7.750356,\n",
       " 'HRK': 6.223142,\n",
       " 'HUF': 296.539543,\n",
       " 'IDR': 14285.442014,\n",
       " 'ILS': 3.26439,\n",
       " 'INR': 73.873704,\n",
       " 'ISK': 125.721077,\n",
       " 'JPY': 104.110938,\n",
       " 'KRW': 1085.188423,\n",
       " 'KZT': 420.005618,\n",
       " 'MVR': 15.41,\n",
       " 'MXN': 19.861076,\n",
       " 'MYR': 4.069267,\n",
       " 'NOK': 8.77673,\n",
       " 'NZD': 1.421726,\n",
       " 'PAB': 1,\n",
       " 'PEN': 3.594179,\n",
       " 'PHP': 48.12166,\n",
       " 'PKR': 159.405117,\n",
       " 'PLN': 3.686138,\n",
       " 'PYG': 6796.454545,\n",
       " 'RON': 4.018902,\n",
       " 'RUB': 74.004978,\n",
       " 'SAR': 3.750961,\n",
       " 'SEK': 8.422958,\n",
       " 'SGD': 1.336287,\n",
       " 'THB': 30.216281,\n",
       " 'TRY': 7.822365,\n",
       " 'TWD': 28.229882,\n",
       " 'UAH': 28.178508,\n",
       " 'UYU': 42.55037,\n",
       " 'ZAR': 15.182871}"
      ]
     },
     "execution_count": 33,
     "metadata": {},
     "output_type": "execute_result"
    }
   ],
   "source": [
    "result[\"rates\"]"
   ]
  },
  {
   "cell_type": "code",
   "execution_count": 34,
   "metadata": {},
   "outputs": [
    {
     "data": {
      "text/plain": [
       "6.532102"
      ]
     },
     "execution_count": 34,
     "metadata": {},
     "output_type": "execute_result"
    }
   ],
   "source": [
    "result[\"rates\"][\"CNY\"]"
   ]
  },
  {
   "cell_type": "code",
   "execution_count": 35,
   "metadata": {},
   "outputs": [
    {
     "data": {
      "text/plain": [
       "6.532102"
      ]
     },
     "execution_count": 35,
     "metadata": {},
     "output_type": "execute_result"
    }
   ],
   "source": [
    "result[\"rates\"].get(\"CNY\")"
   ]
  },
  {
   "cell_type": "code",
   "execution_count": 36,
   "metadata": {},
   "outputs": [
    {
     "data": {
      "text/plain": [
       "6.532102"
      ]
     },
     "execution_count": 36,
     "metadata": {},
     "output_type": "execute_result"
    }
   ],
   "source": [
    "result.get(\"rates\").get(\"CNY\")"
   ]
  },
  {
   "cell_type": "code",
   "execution_count": 42,
   "metadata": {},
   "outputs": [],
   "source": [
    "def get_rates(from_curr, to_currs): ## to_currs 是一個 list \n",
    "    \"\"\"\n",
    "    Get the conversion rates for a set of currencies.\n",
    "\n",
    "    @param from_curr The starting currency symbol\n",
    "    @param to_currs List of symbols to get rates for\n",
    "    @return Dictionary of symbols to rates\n",
    "    \"\"\"\n",
    "\n",
    "    api_url = URL_TEMLATE.substitute(from_curr=from_curr)\n",
    "\n",
    "    response = urllib.request.urlopen(api_url)\n",
    "\n",
    "    json_response = response.read()\n",
    "    result = json.loads(json_response) # 結果存成一個 dictionary\n",
    "\n",
    "    return [result['rates'].get(curr) for curr in to_currs]"
   ]
  },
  {
   "cell_type": "code",
   "execution_count": 43,
   "metadata": {},
   "outputs": [
    {
     "data": {
      "text/plain": [
       "[None, None, None]"
      ]
     },
     "execution_count": 43,
     "metadata": {},
     "output_type": "execute_result"
    }
   ],
   "source": [
    "# 注意最後一個參數必須要是一個 list，否則會被拆成 string 中的各字母\n",
    "get_rates(\"JPY\", 'USD') "
   ]
  },
  {
   "cell_type": "code",
   "execution_count": 44,
   "metadata": {},
   "outputs": [
    {
     "name": "stdout",
     "output_type": "stream",
     "text": [
      "U\n",
      "S\n",
      "D\n"
     ]
    }
   ],
   "source": [
    "for curr in \"USD\":\n",
    "    print(curr)"
   ]
  },
  {
   "cell_type": "code",
   "execution_count": 45,
   "metadata": {},
   "outputs": [
    {
     "data": {
      "text/plain": [
       "[0.009605]"
      ]
     },
     "execution_count": 45,
     "metadata": {},
     "output_type": "execute_result"
    }
   ],
   "source": [
    "get_rates(\"JPY\", [\"USD\"])"
   ]
  },
  {
   "cell_type": "code",
   "execution_count": 46,
   "metadata": {},
   "outputs": [
    {
     "data": {
      "text/plain": [
       "[6.532102, 0.824978, 28.229882]"
      ]
     },
     "execution_count": 46,
     "metadata": {},
     "output_type": "execute_result"
    }
   ],
   "source": [
    "get_rates(\"USD\", [\"CNY\", \"EUR\", \"TWD\"])"
   ]
  },
  {
   "cell_type": "code",
   "execution_count": 47,
   "metadata": {},
   "outputs": [],
   "source": [
    "def convert(from_value, from_curr, to_currs): # 將多少錢的原幣值 轉換成 (可能為數種的) 其他幣值\n",
    "    \"\"\"\n",
    "    Converts a value in one currency to several others.\n",
    "\n",
    "    @param from_value Value in starting currency\n",
    "    @param from_curr The starting currency symbol\n",
    "    @param to_currs List of symbols to convert to\n",
    "    @return List of conversions\n",
    "    \"\"\"\n",
    "\n",
    "    rates = get_rates(from_curr, to_currs)\n",
    "\n",
    "    conversions = list()\n",
    "    for i, symbol in enumerate(to_currs):\n",
    "        new_value = rates[i] * from_value\n",
    "        conversion = {'symbol':symbol,\n",
    "                      'rate': rates[i],\n",
    "                      'value': new_value}\n",
    "        conversions.append(conversion)\n",
    "\n",
    "    return conversions"
   ]
  },
  {
   "cell_type": "code",
   "execution_count": 48,
   "metadata": {},
   "outputs": [
    {
     "data": {
      "text/plain": [
       "[{'symbol': 'USD', 'rate': 0.035423, 'value': 3.5423000000000004}]"
      ]
     },
     "execution_count": 48,
     "metadata": {},
     "output_type": "execute_result"
    }
   ],
   "source": [
    "convert(100, 'TWD', [\"USD\"])"
   ]
  },
  {
   "cell_type": "code",
   "execution_count": 49,
   "metadata": {},
   "outputs": [
    {
     "data": {
      "text/plain": [
       "[{'symbol': 'USD', 'rate': 0.035423, 'value': 3.5423000000000004},\n",
       " {'symbol': 'EUR', 'rate': 0.029189, 'value': 2.9189},\n",
       " {'symbol': 'JPY', 'rate': 3.689049, 'value': 368.9049},\n",
       " {'symbol': 'CNY', 'rate': 0.231167, 'value': 23.1167}]"
      ]
     },
     "execution_count": 49,
     "metadata": {},
     "output_type": "execute_result"
    }
   ],
   "source": [
    "convert(100, 'TWD', [\"USD\", \"EUR\", \"JPY\", \"CNY\"])"
   ]
  },
  {
   "cell_type": "markdown",
   "metadata": {},
   "source": [
    "## 課本上原本是要在 command line 上打以下的指令：\n",
    "\n",
    "### python currency_converter.py 345.452 GBP in usd jpy cad eur\n"
   ]
  },
  {
   "cell_type": "code",
   "execution_count": 50,
   "metadata": {},
   "outputs": [],
   "source": [
    "def process_cli(params):\n",
    "    \"\"\"\n",
    "    Performs a conversion to several other currencies based on command line\n",
    "    arguments.\n",
    "\n",
    "    @param params Parameters from command line (excluding first index)\n",
    "    \"\"\"\n",
    "\n",
    "    value_to_convert = float(params[0])\n",
    "    start_currency = params[1].upper()\n",
    "    conversion_currencies = [curr.upper() for curr in params[3:]]\n",
    "    conversions = convert(value_to_convert,\n",
    "                          start_currency,\n",
    "                          conversion_currencies)\n",
    "\n",
    "    print('%.2f %s in:' % (value_to_convert, start_currency))\n",
    "\n",
    "    print('CURRENCY\\tRATE\\t\\tVALUE')\n",
    "    for c in conversions:\n",
    "        print('%s\\t\\t%.2f\\t\\t%.2f' % (c['symbol'], c['rate'], c['value']))"
   ]
  },
  {
   "cell_type": "code",
   "execution_count": 53,
   "metadata": {},
   "outputs": [
    {
     "name": "stdout",
     "output_type": "stream",
     "text": [
      "10000.00 TWD in:\n",
      "CURRENCY\tRATE\t\tVALUE\n",
      "USD\t\t0.04\t\t354.23\n",
      "JPY\t\t3.69\t\t36890.49\n",
      "CAD\t\t0.05\t\t453.59\n",
      "EUR\t\t0.03\t\t291.89\n",
      "CNY\t\t0.23\t\t2311.67\n"
     ]
    }
   ],
   "source": [
    "# process_cli(sys.argv[1:])\n",
    "process_cli([10_000, 'TWD', 'in', 'usd', 'jpy', 'cad', 'Eur', 'CNY'])"
   ]
  },
  {
   "cell_type": "code",
   "execution_count": 52,
   "metadata": {},
   "outputs": [
    {
     "name": "stdout",
     "output_type": "stream",
     "text": [
      "345.45 GBP in:\n",
      "CURRENCY\tRATE\t\tVALUE\n",
      "USD\t\t1.33\t\t460.73\n",
      "JPY\t\t139.09\t\t48049.22\n",
      "CAD\t\t1.71\t\t590.96\n",
      "EUR\t\t1.10\t\t380.83\n"
     ]
    }
   ],
   "source": [
    "! python currency_converter.py 345.452 GBP in usd jpy cad eur"
   ]
  },
  {
   "cell_type": "code",
   "execution_count": null,
   "metadata": {},
   "outputs": [],
   "source": []
  }
 ],
 "metadata": {
  "kernelspec": {
   "display_name": "Python 3",
   "language": "python",
   "name": "python3"
  },
  "language_info": {
   "codemirror_mode": {
    "name": "ipython",
    "version": 3
   },
   "file_extension": ".py",
   "mimetype": "text/x-python",
   "name": "python",
   "nbconvert_exporter": "python",
   "pygments_lexer": "ipython3",
   "version": "3.7.1"
  }
 },
 "nbformat": 4,
 "nbformat_minor": 2
}
