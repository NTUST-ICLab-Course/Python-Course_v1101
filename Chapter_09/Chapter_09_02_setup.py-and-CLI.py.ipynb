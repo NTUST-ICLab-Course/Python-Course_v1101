{
 "cells": [
  {
   "cell_type": "markdown",
   "metadata": {},
   "source": [
    "# Chapter 09: -2- setup.py and CLI.py for the entry point\n",
    "2020-11-16\n",
    "\n",
    "Content:\n",
    "1. UML diagram of the unitconver package\n",
    "2. **setup.py and CLI.py for the entry point (and argParse module)**\n",
    "3. UnitTable.py and the unit_tables directory (and lambda function)\n",
    "4. Converter.py (and importlib module)\n",
    "5. Putting all of them together!"
   ]
  },
  {
   "cell_type": "markdown",
   "metadata": {},
   "source": [
    "## 幾個重要的概念：\n",
    "\n",
    "1. Chapter 05 用 os.argv[**]\n",
    "2. Chapter 09 用 argparse 的方法：提供 positional/optional argument，之後作相對應的處理，其中並包括預測的 -h 等 help 的選項"
   ]
  },
  {
   "cell_type": "code",
   "execution_count": 1,
   "metadata": {},
   "outputs": [],
   "source": [
    "import os\n",
    "course_directory = 'D:\\\\Google雲端硬碟\\\\GettingStartedWithPythonAndRaspberryPi-book_release'\n",
    "os.chdir(course_directory + \"/Chapter09/unitconverter\")"
   ]
  },
  {
   "cell_type": "code",
   "execution_count": null,
   "metadata": {
    "scrolled": true
   },
   "outputs": [],
   "source": [
    "\"\"\"\n",
    "setup.py for unitconverter\n",
    "這不可以執行，但我列出來，方便參考。\n",
    "\"\"\"\n",
    "from setuptools import setup\n",
    "\n",
    "setup(\n",
    "    name='unitconverter',\n",
    "    version='0.1.0',\n",
    "    entry_points={\n",
    "        'console_scripts': ['unitconvert=unitconverter.CLI:run_cli'],\n",
    "    },\n",
    "    description='Command line tool for unit conversion',\n",
    "    classifiers=[\n",
    "        'Natural Language :: English',\n",
    "        'Programming Language :: Python :: 3.5',\n",
    "        'Programming Language :: Python :: 3.6',\n",
    "        'Programming Language :: Python :: 3.7',\n",
    "    ],\n",
    "    author='Dan Nixon',\n",
    "    packages=['unitconverter', 'unitconverter.unit_tables'],\n",
    "    include_package_data=True,\n",
    "    zip_safe=False)"
   ]
  },
  {
   "cell_type": "code",
   "execution_count": 2,
   "metadata": {},
   "outputs": [
    {
     "name": "stdout",
     "output_type": "stream",
     "text": [
      "usage: unitconvert [-h] TABLE {list,convert} ...\n",
      "\n",
      "Tool for converting units\n",
      "\n",
      "positional arguments:\n",
      "  TABLE           Unit table to use in conversion\n",
      "  {list,convert}  operation to be performed\n",
      "\n",
      "optional arguments:\n",
      "  -h, --help      show this help message and exit\n"
     ]
    }
   ],
   "source": [
    "!unitconvert -h"
   ]
  },
  {
   "cell_type": "markdown",
   "metadata": {},
   "source": [
    "## 相關關鍵字介紹：\n",
    "- positional arguments\n",
    "- optional arguments (就是有用 --全稱，或是 -簡寫 標註的參數)\n",
    "- parser\n",
    "- subparser\n",
    "\n",
    "### For example: unitconvert time list -m\n",
    "- unitconvert: entry point\n",
    "- time: parser argument\n",
    "- list: one of the subparsers (covert is the other one in this case)\n",
    "- -m: optional argument of the designated subparser"
   ]
  },
  {
   "cell_type": "markdown",
   "metadata": {},
   "source": [
    "## 撰寫 unitconverter 的 Command-line Interface 程式\n",
    "\n",
    "Command-line Interface(CLI) 的設定全部都包含在 CLI.py 中，\\\n",
    "CLI 指令供分為兩層\n",
    "\n",
    "1. 第一層 (parser) 用於選擇所需要的unit_table的類型\n",
    "2. *第二層 (subparser) 用於選擇*：\n",
    "    + {列出 table 中單位的 list 模式} 或 \n",
    "        - list 模式用於顯示選定的 unit_table 可以轉換的所有單位的名稱\n",
    "    + {進入使用 convert 的模式}\n",
    "        - conversion 模式用於單位的轉換"
   ]
  },
  {
   "cell_type": "code",
   "execution_count": null,
   "metadata": {},
   "outputs": [],
   "source": [
    "'''\n",
    "CLI.py 內容：  \n",
    "'''\n",
    "\n",
    "import argparse\n",
    "import inspect\n",
    "from unitconverter.Converter import get_table, convert_units\n",
    "\n",
    "\n",
    "def run_cli():\n",
    "    parser = argparse.ArgumentParser(description='Tool for converting units')\n",
    "\n",
    "    parser.add_argument(\n",
    "        'table',\n",
    "        metavar='TABLE',\n",
    "        action='store',\n",
    "        type=str,\n",
    "        help='Unit table to use in conversion'\n",
    "    )\n",
    "\n",
    "    \"\"\"\n",
    "    這是 unitconvert 以及上述 table 之後，第二層要解碼的部份，\n",
    "    這又分為兩個：\n",
    "    1. list\n",
    "    2. convert\n",
    "    我們安排一個 which 變數來記錄是哪一個。\n",
    "    \"\"\"\n",
    "    subparsers = parser.add_subparsers(help='operation to be performed')\n",
    "\n",
    "    '''\n",
    "    以下考慮 -m, --method 的選項，要作什麼事\n",
    "    \n",
    "    Unit table energy can convert between the units:\n",
    "    kcal (x * 0.00023884589663)\n",
    "    cal (x * 0.23900573614)\n",
    "    btu (x * 0.00094781707775)\n",
    "    ev (x * 6241506480000000000.0)\n",
    "    wh (x * 0.00027777777778)\n",
    "    j (base unit)\n",
    "    hph (x * 3.7250614123e-7)\n",
    "    '''\n",
    "    \n",
    "    list_table_parser = subparsers.add_parser('list')\n",
    "    list_table_parser.set_defaults(which='list')\n",
    "\n",
    "    list_table_parser.add_argument(\n",
    "        '-m', '--method',\n",
    "        action='store_true',\n",
    "        help='Also output the conversion method from the base unit'\n",
    "    )\n",
    "    \n",
    "    '''\n",
    "    以下考慮 convert 時，要作什麼事\n",
    "    \n",
    "    usage: unitconvert TABLE convert [-h] VALUE FROM TO [TO ...]\n",
    "\n",
    "    positional arguments:\n",
    "      VALUE       The value to convert\n",
    "      FROM        Unit to convert from\n",
    "      TO          Unit(s) to convert to\n",
    "\n",
    "    optional arguments:\n",
    "      -h, --help  show this help message and exit\n",
    "    '''\n",
    "\n",
    "    conversion_parser = subparsers.add_parser('convert')\n",
    "    conversion_parser.set_defaults(which='convert')\n",
    "\n",
    "    conversion_parser.add_argument(\n",
    "        'value',\n",
    "        metavar='VALUE',\n",
    "        type=float,\n",
    "        action='store',\n",
    "        help='The value to convert'\n",
    "    )\n",
    "\n",
    "    conversion_parser.add_argument(\n",
    "        'from_unit',\n",
    "        metavar='FROM',\n",
    "        action='store',\n",
    "        type=str,\n",
    "        help='Unit to convert from'\n",
    "    )\n",
    "\n",
    "    conversion_parser.add_argument(\n",
    "        'to_units',\n",
    "        metavar='TO',\n",
    "        action='store',\n",
    "        nargs='+', # 個數可以有很多個，但至少會有一個\n",
    "        type=str,\n",
    "        help='Unit(s) to convert to'\n",
    "    )\n",
    "\n",
    "    \"\"\"\n",
    "    以下這個指令 parser.parse_args() 是最重要的，\n",
    "    將 CLI 輸入的參數按指定的名稱取出，\n",
    "    然後，就可以作判斷，要作怎樣的反應。\n",
    "    \"\"\"\n",
    "    props = parser.parse_args()\n",
    "\n",
    "    if props.which == 'list':\n",
    "        _run_unit_list(props)\n",
    "    elif props.which == 'convert':\n",
    "        _run_conversion(props)\n",
    "\n",
    "\n",
    "def _run_unit_list(props):\n",
    "    \"\"\"\n",
    "    Runs the command line interface for unit listing mode.\n",
    "\n",
    "    @param props Properties parsed by argparse\n",
    "    \"\"\"\n",
    "\n",
    "    table = get_table(props.table)\n",
    "    print('Unit table %s can convert between the units:' % props.table)\n",
    "    for unit in table.get_units():\n",
    "        if props.method:\n",
    "            if unit == table.base_unit:\n",
    "                formula = 'base unit'\n",
    "            else:\n",
    "                conversion = inspect.getsource(table.from_base_unit[unit])\n",
    "                \"\"\"\n",
    "                self.from_base_unit['radian'] = lambda x: x * 0.0174532925\n",
    "                \"\"\"\n",
    "                formula = conversion[conversion.index(':') + 1:conversion.index('\\n')].strip() # 這是要將一開頭的 [lambda x:] 給去掉\n",
    "            print('%s (%s)' % (unit, formula))\n",
    "        else:\n",
    "            print(unit)\n",
    "\n",
    "\n",
    "def _run_conversion(props):\n",
    "    \"\"\"\n",
    "    Runs the command line interface for unit conversion mode.\n",
    "\n",
    "    @param props Properties parsed by argparse\n",
    "    \"\"\"\n",
    "\n",
    "    results = convert_units(table_name=props.table,\n",
    "                            value=props.value,\n",
    "                            value_unit=props.from_unit,\n",
    "                            targets=props.to_units)\n",
    "\n",
    "    for result in results:\n",
    "        print('%f %s = %f %s' % (props.value, props.from_unit,\n",
    "                                 result['converted_value'],\n",
    "                                 result['dest_unit']))"
   ]
  },
  {
   "cell_type": "code",
   "execution_count": null,
   "metadata": {},
   "outputs": [],
   "source": []
  },
  {
   "cell_type": "code",
   "execution_count": 5,
   "metadata": {},
   "outputs": [
    {
     "name": "stdout",
     "output_type": "stream",
     "text": [
      "usage: unitconvert [-h] TABLE {list,convert} ...\n",
      "\n",
      "Tool for converting units\n",
      "\n",
      "positional arguments:\n",
      "  TABLE           Unit table to use in conversion\n",
      "  {list,convert}  operation to be performed\n",
      "\n",
      "optional arguments:\n",
      "  -h, --help      show this help message and exit\n"
     ]
    }
   ],
   "source": [
    "'''\n",
    "比較常看到的方式 -h 或是 --help\n",
    "'''\n",
    "!unitconvert -h"
   ]
  },
  {
   "cell_type": "code",
   "execution_count": 6,
   "metadata": {},
   "outputs": [
    {
     "name": "stderr",
     "output_type": "stream",
     "text": [
      "Traceback (most recent call last):\n",
      "  File \"C:\\Users\\Public\\Anaconda3\\Scripts\\unitconvert-script.py\", line 33, in <module>\n",
      "    sys.exit(load_entry_point('unitconverter==0.1.0', 'console_scripts', 'unitconvert')())\n",
      "  File \"C:\\Users\\Public\\Anaconda3\\lib\\site-packages\\unitconverter-0.1.0-py3.7.egg\\unitconverter\\CLI.py\", line 113, in run_cli\n",
      "    if props.which == 'list':\n",
      "AttributeError: 'Namespace' object has no attribute 'which'\n"
     ]
    }
   ],
   "source": [
    "!unitconvert TABLE"
   ]
  },
  {
   "cell_type": "code",
   "execution_count": 7,
   "metadata": {},
   "outputs": [
    {
     "name": "stderr",
     "output_type": "stream",
     "text": [
      "Traceback (most recent call last):\n",
      "  File \"C:\\Users\\Public\\Anaconda3\\Scripts\\unitconvert-script.py\", line 33, in <module>\n",
      "    sys.exit(load_entry_point('unitconverter==0.1.0', 'console_scripts', 'unitconvert')())\n",
      "  File \"C:\\Users\\Public\\Anaconda3\\lib\\site-packages\\unitconverter-0.1.0-py3.7.egg\\unitconverter\\CLI.py\", line 113, in run_cli\n",
      "    if props.which == 'list':\n",
      "AttributeError: 'Namespace' object has no attribute 'which'\n"
     ]
    }
   ],
   "source": [
    "'''\n",
    "在 package 名稱之後，\n",
    "1. 馬上要加上一個 argument，這個 TABLE 是一定要的，\n",
    "   這個 TABLE 是代稱，其實有好幾個選擇，然後，\n",
    "2. 要限定第二個參數，也就是  {list,convert}  operation to be performed \n",
    "   存入 which，否則 which 沒指定，就沒辦法往下作\n",
    "3. 再根據 which 決定如何往下指定進一步的參數\n",
    "'''\n",
    "!unitconvert length"
   ]
  },
  {
   "cell_type": "code",
   "execution_count": 8,
   "metadata": {},
   "outputs": [
    {
     "name": "stdout",
     "output_type": "stream",
     "text": [
      "Unit table length can convert between the units:\n",
      "mil\n",
      "yd\n",
      "in\n",
      "ft\n",
      "m\n",
      "um\n",
      "mm\n",
      "mi\n",
      "cm\n"
     ]
    }
   ],
   "source": [
    "!unitconvert length list"
   ]
  },
  {
   "cell_type": "code",
   "execution_count": 9,
   "metadata": {},
   "outputs": [
    {
     "name": "stdout",
     "output_type": "stream",
     "text": [
      "usage: unitconvert TABLE list [-h] [-m]\n",
      "\n",
      "optional arguments:\n",
      "  -h, --help    show this help message and exit\n",
      "  -m, --method  Also output the conversion method from the base unit\n"
     ]
    }
   ],
   "source": [
    "!unitconvert length list -h"
   ]
  },
  {
   "cell_type": "code",
   "execution_count": 10,
   "metadata": {},
   "outputs": [
    {
     "name": "stdout",
     "output_type": "stream",
     "text": [
      "Unit table length can convert between the units:\n",
      "cm (x * 100.0)\n",
      "um (x * 1000000.0)\n",
      "mi (x * 0.00062137)\n",
      "in (x * 39.370)\n",
      "m (base unit)\n",
      "mil (x * 39370.078740158)\n",
      "yd (x * 1.0936)\n",
      "ft (x * 3.2808)\n",
      "mm (x * 1000.0)\n"
     ]
    }
   ],
   "source": [
    "'''\n",
    "以 -開頭或是以 --開頭的即為 optional argument\n",
    "'''\n",
    "!unitconvert length list -m"
   ]
  },
  {
   "cell_type": "code",
   "execution_count": 11,
   "metadata": {},
   "outputs": [
    {
     "name": "stdout",
     "output_type": "stream",
     "text": [
      "Unit table energy can convert between the units:\n",
      "ev (x * 6241506480000000000.0)\n",
      "hph (x * 3.7250614123e-7)\n",
      "j (base unit)\n",
      "kcal (x * 0.00023884589663)\n",
      "wh (x * 0.00027777777778)\n",
      "cal (x * 0.23900573614)\n",
      "btu (x * 0.00094781707775)\n"
     ]
    }
   ],
   "source": [
    "'''\n",
    "以 -開頭或是以 --開頭的即為 optional argument\n",
    "'''\n",
    "!unitconvert energy list -m"
   ]
  },
  {
   "cell_type": "code",
   "execution_count": 12,
   "metadata": {},
   "outputs": [
    {
     "name": "stderr",
     "output_type": "stream",
     "text": [
      "usage: unitconvert TABLE convert [-h] VALUE FROM TO [TO ...]\n",
      "unitconvert TABLE convert: error: the following arguments are required: VALUE, FROM, TO\n"
     ]
    }
   ],
   "source": [
    "'''\n",
    "我們來試第二個 positional argument: convert\n",
    "'''\n",
    "!unitconvert time convert"
   ]
  },
  {
   "cell_type": "code",
   "execution_count": 13,
   "metadata": {},
   "outputs": [
    {
     "name": "stdout",
     "output_type": "stream",
     "text": [
      "usage: unitconvert TABLE convert [-h] VALUE FROM TO [TO ...]\n",
      "\n",
      "positional arguments:\n",
      "  VALUE       The value to convert\n",
      "  FROM        Unit to convert from\n",
      "  TO          Unit(s) to convert to\n",
      "\n",
      "optional arguments:\n",
      "  -h, --help  show this help message and exit\n"
     ]
    }
   ],
   "source": [
    "!unitconvert time convert -h"
   ]
  },
  {
   "cell_type": "code",
   "execution_count": 14,
   "metadata": {},
   "outputs": [
    {
     "name": "stderr",
     "output_type": "stream",
     "text": [
      "Traceback (most recent call last):\n",
      "  File \"C:\\Users\\Public\\Anaconda3\\Scripts\\unitconvert-script.py\", line 33, in <module>\n",
      "    sys.exit(load_entry_point('unitconverter==0.1.0', 'console_scripts', 'unitconvert')())\n",
      "  File \"C:\\Users\\Public\\Anaconda3\\lib\\site-packages\\unitconverter-0.1.0-py3.7.egg\\unitconverter\\CLI.py\", line 113, in run_cli\n",
      "    if props.which == 'list':\n",
      "AttributeError: 'Namespace' object has no attribute 'which'\n"
     ]
    }
   ],
   "source": [
    "'''\n",
    "我們再來試不同的 TABLE\n",
    "'''\n",
    "! unitconvert energy "
   ]
  },
  {
   "cell_type": "code",
   "execution_count": 15,
   "metadata": {},
   "outputs": [
    {
     "name": "stdout",
     "output_type": "stream",
     "text": [
      "Unit table energy can convert between the units:\n",
      "j\n",
      "hph\n",
      "kcal\n",
      "cal\n",
      "wh\n",
      "ev\n",
      "btu\n"
     ]
    }
   ],
   "source": [
    "! unitconvert energy list"
   ]
  },
  {
   "cell_type": "code",
   "execution_count": 16,
   "metadata": {},
   "outputs": [
    {
     "name": "stdout",
     "output_type": "stream",
     "text": [
      "usage: unitconvert TABLE convert [-h] VALUE FROM TO [TO ...]\n",
      "\n",
      "positional arguments:\n",
      "  VALUE       The value to convert\n",
      "  FROM        Unit to convert from\n",
      "  TO          Unit(s) to convert to\n",
      "\n",
      "optional arguments:\n",
      "  -h, --help  show this help message and exit\n"
     ]
    }
   ],
   "source": [
    "!unitconvert energy convert -h"
   ]
  },
  {
   "cell_type": "code",
   "execution_count": 17,
   "metadata": {},
   "outputs": [
    {
     "name": "stdout",
     "output_type": "stream",
     "text": [
      "Unit table energy can convert between the units:\n",
      "btu\n",
      "j\n",
      "cal\n",
      "wh\n",
      "ev\n",
      "hph\n",
      "kcal\n"
     ]
    }
   ],
   "source": [
    "!unitconvert energy list"
   ]
  },
  {
   "cell_type": "code",
   "execution_count": 18,
   "metadata": {},
   "outputs": [
    {
     "name": "stdout",
     "output_type": "stream",
     "text": [
      "1.000000 wh = 3600.000000 j\n",
      "1.000000 wh = 22469423327820245893120.000000 ev\n",
      "1.000000 wh = 3.412141 btu\n"
     ]
    }
   ],
   "source": [
    "'''\n",
    "試：unitconvert TABLE convert: error: the following arguments are required: VALUE, FROM, TO\n",
    "'''\n",
    "!unitconvert energy convert 1 wh j ev btu"
   ]
  },
  {
   "cell_type": "code",
   "execution_count": 19,
   "metadata": {},
   "outputs": [
    {
     "name": "stdout",
     "output_type": "stream",
     "text": [
      "usage: unitconvert TABLE list [-h] [-m]\n",
      "\n",
      "optional arguments:\n",
      "  -h, --help    show this help message and exit\n",
      "  -m, --method  Also output the conversion method from the base unit\n"
     ]
    }
   ],
   "source": [
    "! unitconvert energy list -h"
   ]
  },
  {
   "cell_type": "code",
   "execution_count": 20,
   "metadata": {},
   "outputs": [
    {
     "name": "stdout",
     "output_type": "stream",
     "text": [
      "Unit table energy can convert between the units:\n",
      "kcal (x * 0.00023884589663)\n",
      "hph (x * 3.7250614123e-7)\n",
      "wh (x * 0.00027777777778)\n",
      "cal (x * 0.23900573614)\n",
      "btu (x * 0.00094781707775)\n",
      "ev (x * 6241506480000000000.0)\n",
      "j (base unit)\n"
     ]
    }
   ],
   "source": [
    "'''\n",
    "每個單位的 joule 要轉換成其他單位的算法\n",
    "'''\n",
    "! unitconvert energy list -m"
   ]
  },
  {
   "cell_type": "code",
   "execution_count": 21,
   "metadata": {},
   "outputs": [
    {
     "name": "stdout",
     "output_type": "stream",
     "text": [
      "usage: unitconvert [-h] TABLE {list,convert} ...\n",
      "\n",
      "Tool for converting units\n",
      "\n",
      "positional arguments:\n",
      "  TABLE           Unit table to use in conversion\n",
      "  {list,convert}  operation to be performed\n",
      "\n",
      "optional arguments:\n",
      "  -h, --help      show this help message and exit\n"
     ]
    }
   ],
   "source": [
    "! unitconvert -h energy convert"
   ]
  },
  {
   "cell_type": "code",
   "execution_count": 22,
   "metadata": {},
   "outputs": [
    {
     "name": "stdout",
     "output_type": "stream",
     "text": [
      "usage: unitconvert TABLE convert [-h] VALUE FROM TO [TO ...]\n",
      "\n",
      "positional arguments:\n",
      "  VALUE       The value to convert\n",
      "  FROM        Unit to convert from\n",
      "  TO          Unit(s) to convert to\n",
      "\n",
      "optional arguments:\n",
      "  -h, --help  show this help message and exit\n"
     ]
    }
   ],
   "source": [
    "! unitconvert energy convert -h"
   ]
  },
  {
   "cell_type": "code",
   "execution_count": 23,
   "metadata": {},
   "outputs": [
    {
     "name": "stdout",
     "output_type": "stream",
     "text": [
      "1000.000000 j = 0.277778 wh\n",
      "1000.000000 j = 0.238846 kcal\n"
     ]
    }
   ],
   "source": [
    "'''\n",
    "以下是把 多少單位的 from  轉換成多少單位的 to\n",
    "'''\n",
    "! unitconvert energy convert 1000 j wh kcal"
   ]
  },
  {
   "cell_type": "markdown",
   "metadata": {},
   "source": [
    "## python argparse 的介紹 (python 的引數)\n",
    "https://medium.com/@sean22492249/python-argpase-的介紹-python-的引數-26d54db52b1f"
   ]
  }
 ],
 "metadata": {
  "gist": {
   "data": {
    "description": "Ch09/Untitled.ipynb",
    "public": false
   },
   "id": ""
  },
  "kernelspec": {
   "display_name": "Python 3",
   "language": "python",
   "name": "python3"
  },
  "language_info": {
   "codemirror_mode": {
    "name": "ipython",
    "version": 3
   },
   "file_extension": ".py",
   "mimetype": "text/x-python",
   "name": "python",
   "nbconvert_exporter": "python",
   "pygments_lexer": "ipython3",
   "version": "3.7.1"
  }
 },
 "nbformat": 4,
 "nbformat_minor": 2
}
