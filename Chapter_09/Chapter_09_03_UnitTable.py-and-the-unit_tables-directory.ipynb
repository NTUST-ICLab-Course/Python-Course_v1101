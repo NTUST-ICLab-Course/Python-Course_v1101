{
 "cells": [
  {
   "cell_type": "markdown",
   "metadata": {},
   "source": [
    "# Chapter 09: -3- UnitTable.py and the unit_tables directory\n",
    "2020-11-17\n",
    "\n",
    "Content:\n",
    "1. UML diagram of the unitconver package\n",
    "2. setup.py and CLI.py for the entry point (and argParse module)\n",
    "3. **UnitTable.py and the unit_tables directory (and lambda function)**\n",
    "4. Converter.py (and importlib module)\n",
    "5. Putting all of them together!"
   ]
  },
  {
   "cell_type": "markdown",
   "metadata": {},
   "source": [
    "## 幾個重要的概念：\n",
    "1. lambda function: 同一名稱的 function 可透過一個「樣式」的調整參數，而有不同的面貌\n",
    "2. **import importlib**: 如何載入一個 py 檔的 module\n",
    "3. **getattr()** 如何從一個 module 中，取出其中定義的一個 class 的 type，然後利用在 **type 後馬上補上()** 就可 instantiate 一個相對應的物件\n",
    "\n",
    "**以上 3. 和 4. 是 run-time 實現：**\n",
    "```python:\n",
    "from unitconverter.unit_tables.time import time\n",
    "a_time_table = time()\n",
    "```\n",
    "4. 取得物件之後，會將其定義在這物件中，內藏的 lambda function 給取出來作運算。"
   ]
  },
  {
   "cell_type": "markdown",
   "metadata": {},
   "source": [
    "## -3- 先看基礎物件的 UnitTable.py\n",
    "1. 在 unit_tables 資料夾內，含定義了各種不同單位類型的類別，所有的這些物件都繼承了UnitTable 這個 class\n",
    "2. 在class UnitTable中有下列這些 attributes:\n",
    "   + self.base_unit = None\n",
    "   + self.to_base_unit = {}   # 字典\n",
    "   + self.from_base_unit = {} # 字典\n",
    "3. 在class UnitTable中有下列這些 methods：\n",
    "    + convert: 用於單位轉換\n",
    "    + get_units: 回傳所有支援的單位名稱"
   ]
  },
  {
   "cell_type": "code",
   "execution_count": 1,
   "metadata": {},
   "outputs": [],
   "source": [
    "import os\n",
    "course_directory = 'D:\\\\Google雲端硬碟\\\\GettingStartedWithPythonAndRaspberryPi-book_release'\n",
    "os.chdir(course_directory + \"/Chapter09/unitconverter\")"
   ]
  },
  {
   "cell_type": "code",
   "execution_count": 2,
   "metadata": {},
   "outputs": [
    {
     "name": "stdout",
     "output_type": "stream",
     "text": [
      "Unit table time can convert between the units:\n",
      "m\n",
      "ms\n",
      "h\n",
      "us\n",
      "ns\n",
      "y\n",
      "s\n",
      "d\n"
     ]
    }
   ],
   "source": [
    "!unitconvert time list"
   ]
  },
  {
   "cell_type": "code",
   "execution_count": 3,
   "metadata": {},
   "outputs": [
    {
     "name": "stdout",
     "output_type": "stream",
     "text": [
      "Unit table time can convert between the units:\n",
      "ms (x * 1000.0)\n",
      "y (x / 3.15569e7)\n",
      "d (x / 86400.0)\n",
      "ns (x * 1000000000.0)\n",
      "s (base unit)\n",
      "us (x * 1000000.0)\n",
      "h (x / 3600.0)\n",
      "m (x / 60.0)\n"
     ]
    }
   ],
   "source": [
    "!unitconvert time list -m"
   ]
  },
  {
   "cell_type": "code",
   "execution_count": 4,
   "metadata": {},
   "outputs": [
    {
     "name": "stdout",
     "output_type": "stream",
     "text": [
      "300.000000 d = 0.821373 y\n",
      "300.000000 d = 25920000000.000000 ms\n",
      "300.000000 d = 7200.000000 h\n",
      "300.000000 d = 25920000.000000 s\n"
     ]
    }
   ],
   "source": [
    "!unitconvert time convert 300 d y ms h s"
   ]
  },
  {
   "cell_type": "code",
   "execution_count": 5,
   "metadata": {},
   "outputs": [
    {
     "name": "stdout",
     "output_type": "stream",
     "text": [
      "1000.000000 j = 0.277778 wh\n",
      "1000.000000 j = 0.238846 kcal\n",
      "1000.000000 j = 0.000373 hph\n"
     ]
    }
   ],
   "source": [
    "! unitconvert energy convert 1000 j wh kcal hph"
   ]
  },
  {
   "cell_type": "code",
   "execution_count": null,
   "metadata": {
    "ExecuteTime": {
     "end_time": "2018-05-28T15:09:11.928000Z",
     "start_time": "2018-05-28T15:09:11.908000Z"
    },
    "code_folding": [
     0,
     6,
     12,
     34
    ]
   },
   "outputs": [],
   "source": [
    "'''\n",
    "再來看 UnitTable.py 中，\n",
    "所有要轉換的 Table 都是繼承這個 UnitTable \n",
    "'''\n",
    "class UnitTable(object):\n",
    "    \"\"\"\n",
    "    A class to manage conversion of units for the same quantity (e.g. length,\n",
    "    volume, mass)\n",
    "    \"\"\"\n",
    "\n",
    "    def __init__(self):\n",
    "        self.base_unit = None\n",
    "        self.to_base_unit = {}   # 字典\n",
    "        self.from_base_unit = {} # 字典\n",
    "\n",
    "\n",
    "    def convert(self, source, dest, value):\n",
    "        \"\"\"\n",
    "        Converts a value in one unit to another.\n",
    "\n",
    "        @param source The source unit\n",
    "        @param dest The destination unit\n",
    "        @param value The value to convert\n",
    "        @return The value in the destination unit\n",
    "        \"\"\"\n",
    "\n",
    "        if not (self.can_convert(source) and self.can_convert(dest)):\n",
    "            raise ValueError('Cannot convert given units')\n",
    "\n",
    "        if source != self.base_unit:\n",
    "            value = self.to_base_unit[source](value)\n",
    "\n",
    "        if dest != self.base_unit:\n",
    "            value = self.from_base_unit[dest](value)\n",
    "\n",
    "        return value\n",
    "\n",
    "\n",
    "    def get_units(self):\n",
    "        \"\"\"\n",
    "        Returns a list of units that this table can convert.\n",
    "\n",
    "        @return List of valid units\n",
    "        \"\"\"\n",
    "\n",
    "        convertable_units = set(self.to_base_unit.keys()) & set(self.from_base_unit.keys())\n",
    "        convertable_units.add(self.base_unit)\n",
    "        return convertable_units\n",
    "    \n",
    "    def can_convert(self, unit):\n",
    "        \"\"\"\n",
    "        Checks to see if this table can convert a given unit.\n",
    "\n",
    "        @param unit Name of unit to check\n",
    "        @return Boolean indicating if this unit can be converted\n",
    "        \"\"\"\n",
    "\n",
    "        return unit.lower() in self.get_units()\n"
   ]
  },
  {
   "cell_type": "code",
   "execution_count": 6,
   "metadata": {},
   "outputs": [],
   "source": [
    "from unitconverter.UnitTable import UnitTable"
   ]
  },
  {
   "cell_type": "code",
   "execution_count": 7,
   "metadata": {},
   "outputs": [
    {
     "name": "stdout",
     "output_type": "stream",
     "text": [
      "Help on class UnitTable in module unitconverter.UnitTable:\n",
      "\n",
      "class UnitTable(builtins.object)\n",
      " |  A class to manage conversion of units for the same quantity (e.g. length,\n",
      " |  volume, mass)\n",
      " |  \n",
      " |  Methods defined here:\n",
      " |  \n",
      " |  __init__(self)\n",
      " |      Initialize self.  See help(type(self)) for accurate signature.\n",
      " |  \n",
      " |  can_convert(self, unit)\n",
      " |      Checks to see if this table can convert a given unit.\n",
      " |      \n",
      " |      @param unit Name of unit to check\n",
      " |      @return Boolean indicating if this unit can be converted\n",
      " |  \n",
      " |  convert(self, source, dest, value)\n",
      " |      Converts a value in one unit to another.\n",
      " |      \n",
      " |      @param source The source unit\n",
      " |      @param dest The destination unit\n",
      " |      @param value The value to convert\n",
      " |      @return The value in the destination unit\n",
      " |  \n",
      " |  get_units(self)\n",
      " |      Returns a list of units that this table can convert.\n",
      " |      \n",
      " |      @return List of valid units\n",
      " |  \n",
      " |  ----------------------------------------------------------------------\n",
      " |  Data descriptors defined here:\n",
      " |  \n",
      " |  __dict__\n",
      " |      dictionary for instance variables (if defined)\n",
      " |  \n",
      " |  __weakref__\n",
      " |      list of weak references to the object (if defined)\n",
      "\n"
     ]
    }
   ],
   "source": [
    "help(UnitTable)"
   ]
  },
  {
   "cell_type": "markdown",
   "metadata": {},
   "source": [
    "## 不同單位間的轉換：source  → destination 的計算流程：\n",
    "中間有 base 當橋接的流程：\n",
    "1. {source}  → to_base_unit → {base_unit} \n",
    "2. {base_unit} → from_base_unit → {destination} \n",
    "\n",
    "我們看一下在 unit_tables 底下各個 table 中所定義的兩種  lamda function\n",
    "1. to_base_unit\n",
    "2. from_base_unit"
   ]
  },
  {
   "cell_type": "code",
   "execution_count": 8,
   "metadata": {
    "scrolled": true
   },
   "outputs": [],
   "source": [
    "'''\n",
    "當作繼承 UnitTable 的子輩，以下是 time.py 的內容\n",
    "'''\n",
    "from unitconverter import UnitTable\n",
    "\n",
    "class time(UnitTable.UnitTable): ## 繼承 UnitTable\n",
    "\n",
    "    def __init__(self):\n",
    "        UnitTable.UnitTable.__init__(self)\n",
    "\n",
    "        \n",
    "        # Base unit is second\n",
    "        self.base_unit = 's'\n",
    "\n",
    "        # Minute\n",
    "        self.to_base_unit['m']     = lambda x: x * 60.0\n",
    "        self.from_base_unit['m']   = lambda x: x / 60.0\n",
    "        \n",
    "        #  使用時的語法：     value = self.to_base_unit[source](value)\n",
    "        #  to_ 與 from_ 為倒數關係\n",
    "\n",
    "        # Hour\n",
    "        self.to_base_unit['h']     = lambda x: x * 3600.0\n",
    "        self.from_base_unit['h']   = lambda x: x / 3600.0\n",
    "\n",
    "        # Day\n",
    "        self.to_base_unit['d']     = lambda x: x * 86400.0\n",
    "        self.from_base_unit['d']   = lambda x: x / 86400.0\n",
    "\n",
    "        # Year\n",
    "        self.to_base_unit['y']     = lambda x: x * 3.15569e7\n",
    "        self.from_base_unit['y']   = lambda x: x / 3.15569e7\n",
    "\n",
    "        # Millisecond\n",
    "        self.to_base_unit['ms']    = lambda x: x / 1000.0\n",
    "        self.from_base_unit['ms']  = lambda x: x * 1000.0\n",
    "\n",
    "        # Microsecond\n",
    "        self.to_base_unit['us']    = lambda x: x / 1000000.0\n",
    "        self.from_base_unit['us']  = lambda x: x * 1000000.0\n",
    "\n",
    "        # Nanosecond\n",
    "        self.to_base_unit['ns']    = lambda x: x / 1000000000.0\n",
    "        self.from_base_unit['ns']  = lambda x: x * 1000000000.0\n"
   ]
  },
  {
   "cell_type": "code",
   "execution_count": 9,
   "metadata": {},
   "outputs": [],
   "source": [
    "from unitconverter.unit_tables.time import time"
   ]
  },
  {
   "cell_type": "code",
   "execution_count": 10,
   "metadata": {},
   "outputs": [
    {
     "name": "stdout",
     "output_type": "stream",
     "text": [
      "Help on class time in module unitconverter.unit_tables.time:\n",
      "\n",
      "class time(unitconverter.UnitTable.UnitTable)\n",
      " |  A class to manage conversion of units for the same quantity (e.g. length,\n",
      " |  volume, mass)\n",
      " |  \n",
      " |  Method resolution order:\n",
      " |      time\n",
      " |      unitconverter.UnitTable.UnitTable\n",
      " |      builtins.object\n",
      " |  \n",
      " |  Methods defined here:\n",
      " |  \n",
      " |  __init__(self)\n",
      " |      Initialize self.  See help(type(self)) for accurate signature.\n",
      " |  \n",
      " |  ----------------------------------------------------------------------\n",
      " |  Methods inherited from unitconverter.UnitTable.UnitTable:\n",
      " |  \n",
      " |  can_convert(self, unit)\n",
      " |      Checks to see if this table can convert a given unit.\n",
      " |      \n",
      " |      @param unit Name of unit to check\n",
      " |      @return Boolean indicating if this unit can be converted\n",
      " |  \n",
      " |  convert(self, source, dest, value)\n",
      " |      Converts a value in one unit to another.\n",
      " |      \n",
      " |      @param source The source unit\n",
      " |      @param dest The destination unit\n",
      " |      @param value The value to convert\n",
      " |      @return The value in the destination unit\n",
      " |  \n",
      " |  get_units(self)\n",
      " |      Returns a list of units that this table can convert.\n",
      " |      \n",
      " |      @return List of valid units\n",
      " |  \n",
      " |  ----------------------------------------------------------------------\n",
      " |  Data descriptors inherited from unitconverter.UnitTable.UnitTable:\n",
      " |  \n",
      " |  __dict__\n",
      " |      dictionary for instance variables (if defined)\n",
      " |  \n",
      " |  __weakref__\n",
      " |      list of weak references to the object (if defined)\n",
      "\n"
     ]
    }
   ],
   "source": [
    "help(time)"
   ]
  },
  {
   "cell_type": "code",
   "execution_count": 24,
   "metadata": {},
   "outputs": [
    {
     "data": {
      "text/plain": [
       "unitconverter.unit_tables.time.time"
      ]
     },
     "execution_count": 24,
     "metadata": {},
     "output_type": "execute_result"
    }
   ],
   "source": [
    "time"
   ]
  },
  {
   "cell_type": "code",
   "execution_count": 25,
   "metadata": {},
   "outputs": [
    {
     "data": {
      "text/plain": [
       "type"
      ]
     },
     "execution_count": 25,
     "metadata": {},
     "output_type": "execute_result"
    }
   ],
   "source": [
    "type(time)"
   ]
  },
  {
   "cell_type": "code",
   "execution_count": 11,
   "metadata": {},
   "outputs": [],
   "source": [
    "a_time_table = time()"
   ]
  },
  {
   "cell_type": "markdown",
   "metadata": {},
   "source": [
    "## 一旦取得這樣的物件之後，就可以看它的 attributes 以及試它的 methods"
   ]
  },
  {
   "cell_type": "code",
   "execution_count": 12,
   "metadata": {},
   "outputs": [
    {
     "data": {
      "text/plain": [
       "'s'"
      ]
     },
     "execution_count": 12,
     "metadata": {},
     "output_type": "execute_result"
    }
   ],
   "source": [
    "a_time_table.base_unit"
   ]
  },
  {
   "cell_type": "code",
   "execution_count": 13,
   "metadata": {},
   "outputs": [
    {
     "data": {
      "text/plain": [
       "{'m': <function unitconverter.unit_tables.time.time.__init__.<locals>.<lambda>(x)>,\n",
       " 'h': <function unitconverter.unit_tables.time.time.__init__.<locals>.<lambda>(x)>,\n",
       " 'd': <function unitconverter.unit_tables.time.time.__init__.<locals>.<lambda>(x)>,\n",
       " 'y': <function unitconverter.unit_tables.time.time.__init__.<locals>.<lambda>(x)>,\n",
       " 'ms': <function unitconverter.unit_tables.time.time.__init__.<locals>.<lambda>(x)>,\n",
       " 'us': <function unitconverter.unit_tables.time.time.__init__.<locals>.<lambda>(x)>,\n",
       " 'ns': <function unitconverter.unit_tables.time.time.__init__.<locals>.<lambda>(x)>}"
      ]
     },
     "execution_count": 13,
     "metadata": {},
     "output_type": "execute_result"
    }
   ],
   "source": [
    "a_time_table.to_base_unit"
   ]
  },
  {
   "cell_type": "code",
   "execution_count": 14,
   "metadata": {},
   "outputs": [
    {
     "data": {
      "text/plain": [
       "<function unitconverter.unit_tables.time.time.__init__.<locals>.<lambda>(x)>"
      ]
     },
     "execution_count": 14,
     "metadata": {},
     "output_type": "execute_result"
    }
   ],
   "source": [
    "a_time_table.to_base_unit['m']"
   ]
  },
  {
   "cell_type": "code",
   "execution_count": 15,
   "metadata": {},
   "outputs": [
    {
     "data": {
      "text/plain": [
       "60.0"
      ]
     },
     "execution_count": 15,
     "metadata": {},
     "output_type": "execute_result"
    }
   ],
   "source": [
    "a_time_table.to_base_unit['m'](1)"
   ]
  },
  {
   "cell_type": "code",
   "execution_count": 16,
   "metadata": {},
   "outputs": [
    {
     "data": {
      "text/plain": [
       "{'m': <function unitconverter.unit_tables.time.time.__init__.<locals>.<lambda>(x)>,\n",
       " 'h': <function unitconverter.unit_tables.time.time.__init__.<locals>.<lambda>(x)>,\n",
       " 'd': <function unitconverter.unit_tables.time.time.__init__.<locals>.<lambda>(x)>,\n",
       " 'y': <function unitconverter.unit_tables.time.time.__init__.<locals>.<lambda>(x)>,\n",
       " 'ms': <function unitconverter.unit_tables.time.time.__init__.<locals>.<lambda>(x)>,\n",
       " 'us': <function unitconverter.unit_tables.time.time.__init__.<locals>.<lambda>(x)>,\n",
       " 'ns': <function unitconverter.unit_tables.time.time.__init__.<locals>.<lambda>(x)>}"
      ]
     },
     "execution_count": 16,
     "metadata": {},
     "output_type": "execute_result"
    }
   ],
   "source": [
    "a_time_table.from_base_unit"
   ]
  },
  {
   "cell_type": "code",
   "execution_count": 17,
   "metadata": {},
   "outputs": [
    {
     "data": {
      "text/plain": [
       "<function unitconverter.unit_tables.time.time.__init__.<locals>.<lambda>(x)>"
      ]
     },
     "execution_count": 17,
     "metadata": {},
     "output_type": "execute_result"
    }
   ],
   "source": [
    "a_time_table.from_base_unit[\"m\"]"
   ]
  },
  {
   "cell_type": "code",
   "execution_count": 18,
   "metadata": {},
   "outputs": [
    {
     "data": {
      "text/plain": [
       "0.016666666666666666"
      ]
     },
     "execution_count": 18,
     "metadata": {},
     "output_type": "execute_result"
    }
   ],
   "source": [
    "a_time_table.from_base_unit[\"m\"](1)"
   ]
  },
  {
   "cell_type": "code",
   "execution_count": 19,
   "metadata": {},
   "outputs": [
    {
     "data": {
      "text/plain": [
       "{'d', 'h', 'm', 'ms', 'ns', 's', 'us', 'y'}"
      ]
     },
     "execution_count": 19,
     "metadata": {},
     "output_type": "execute_result"
    }
   ],
   "source": [
    "a_time_table.get_units()"
   ]
  },
  {
   "cell_type": "code",
   "execution_count": 20,
   "metadata": {},
   "outputs": [
    {
     "data": {
      "text/plain": [
       "365.24189814814815"
      ]
     },
     "execution_count": 20,
     "metadata": {},
     "output_type": "execute_result"
    }
   ],
   "source": [
    "a_time_table.convert(\"y\", \"d\", 1)"
   ]
  },
  {
   "cell_type": "code",
   "execution_count": 21,
   "metadata": {},
   "outputs": [
    {
     "data": {
      "text/plain": [
       "True"
      ]
     },
     "execution_count": 21,
     "metadata": {},
     "output_type": "execute_result"
    }
   ],
   "source": [
    "a_time_table.can_convert(\"m\")"
   ]
  },
  {
   "cell_type": "code",
   "execution_count": 22,
   "metadata": {},
   "outputs": [
    {
     "name": "stdout",
     "output_type": "stream",
     "text": [
      "Variable           Type      Data/Info\n",
      "--------------------------------------\n",
      "UnitTable          module    <module 'unitconverter.Un<...>converter\\\\UnitTable.py'>\n",
      "a_time_table       time      <unitconverter.unit_table<...>ct at 0x00000216D8FCDA20>\n",
      "course_directory   str       D:\\Google雲端硬碟\\GettingStar<...>dRaspberryPi-book_release\n",
      "os                 module    <module 'os' from 'C:\\\\Us<...>\\\\Anaconda3\\\\lib\\\\os.py'>\n",
      "time               type      <class 'unitconverter.unit_tables.time.time'>\n"
     ]
    }
   ],
   "source": [
    "%whos"
   ]
  },
  {
   "cell_type": "code",
   "execution_count": 26,
   "metadata": {},
   "outputs": [],
   "source": [
    "# 我這邊作了一個小實驗，把 time 給覆寫掉…\n",
    "time = time()"
   ]
  },
  {
   "cell_type": "code",
   "execution_count": 27,
   "metadata": {
    "scrolled": false
   },
   "outputs": [
    {
     "name": "stdout",
     "output_type": "stream",
     "text": [
      "Variable           Type      Data/Info\n",
      "--------------------------------------\n",
      "UnitTable          module    <module 'unitconverter.Un<...>converter\\\\UnitTable.py'>\n",
      "a_time_table       time      <unitconverter.unit_table<...>ct at 0x00000216D8FCDA20>\n",
      "course_directory   str       D:\\Google雲端硬碟\\GettingStar<...>dRaspberryPi-book_release\n",
      "os                 module    <module 'os' from 'C:\\\\Us<...>\\\\Anaconda3\\\\lib\\\\os.py'>\n",
      "time               time      <unitconverter.unit_table<...>ct at 0x00000216D8FDE240>\n"
     ]
    }
   ],
   "source": [
    "# 注意看 time 的轉變\n",
    "%whos"
   ]
  },
  {
   "cell_type": "markdown",
   "metadata": {},
   "source": [
    "## 使用 importlib 的實際考量：\n",
    "unitconverter 在執行時，我們不並知道會被點到那個一 table，\\\n",
    "如果預先先建好各類的 table，恐怕太浪費。\\\n",
    "\n",
    "**與其先 import 好所有的 modules, \\\n",
    "？有沒有可能 run-time import 我們真正的要 module?** \n",
    "\n",
    "所以會想要，在 run-time，針對指名的 table，再 run-time 去建相對應的物件，\\\n",
    "然後就可以從這 table 的物件中，取得相關的 lambda function 等資訊。\n",
    "\n",
    "當然，這需要一開始建置的各 table 的命名，先配合好。\\\n",
    "也就是說，當要作 時間轉換時，我就得先將相關的所有資訊存在一個叫作 time.py 的模組，\\\n",
    "**並且要放在指定有 unit_tables 目錄底下，還有 module 名稱。**"
   ]
  },
  {
   "cell_type": "code",
   "execution_count": 28,
   "metadata": {},
   "outputs": [
    {
     "data": {
      "text/plain": [
       "<module 'unitconverter.unit_tables.time' from 'D:\\\\Google雲端硬碟\\\\GettingStartedWithPythonAndRaspberryPi-book_release\\\\Chapter09\\\\unitconverter\\\\unitconverter\\\\unit_tables\\\\time.py'>"
      ]
     },
     "execution_count": 28,
     "metadata": {},
     "output_type": "execute_result"
    }
   ],
   "source": [
    "\"\"\"\n",
    "run-time import 我所需要的 module\n",
    "\n",
    "以下示例如何取得整個套件中，某個 module 裏的 class，然後 instantiate 一個物件\n",
    "\"\"\"\n",
    "import importlib\n",
    "table_name = \"time\"\n",
    "converter_module = importlib.import_module('unitconverter.unit_tables.%s' \\\n",
    "                                           % table_name)\n",
    "# 等效為 import unitconverter.unit_tables.time\n",
    "converter_module"
   ]
  },
  {
   "cell_type": "code",
   "execution_count": 29,
   "metadata": {},
   "outputs": [
    {
     "name": "stdout",
     "output_type": "stream",
     "text": [
      "Variable           Type      Data/Info\n",
      "--------------------------------------\n",
      "UnitTable          module    <module 'unitconverter.Un<...>converter\\\\UnitTable.py'>\n",
      "a_time_table       time      <unitconverter.unit_table<...>ct at 0x00000216D8FCDA20>\n",
      "converter_module   module    <module 'unitconverter.un<...>r\\\\unit_tables\\\\time.py'>\n",
      "course_directory   str       D:\\Google雲端硬碟\\GettingStar<...>dRaspberryPi-book_release\n",
      "importlib          module    <module 'importlib' from <...>\\importlib\\\\__init__.py'>\n",
      "os                 module    <module 'os' from 'C:\\\\Us<...>\\\\Anaconda3\\\\lib\\\\os.py'>\n",
      "table_name         str       time\n",
      "time               time      <unitconverter.unit_table<...>ct at 0x00000216D8FDE240>\n"
     ]
    }
   ],
   "source": [
    "%whos"
   ]
  },
  {
   "cell_type": "code",
   "execution_count": 32,
   "metadata": {
    "collapsed": true
   },
   "outputs": [
    {
     "data": {
      "text/plain": [
       "{'__name__': 'importlib',\n",
       " '__doc__': 'A pure Python implementation of import.',\n",
       " '__package__': 'importlib',\n",
       " '__loader__': <_frozen_importlib_external.SourceFileLoader at 0x216d675fe48>,\n",
       " '__spec__': ModuleSpec(name='importlib', loader=<_frozen_importlib_external.SourceFileLoader object at 0x00000216D675FE48>, origin='C:\\\\Users\\\\Public\\\\Anaconda3\\\\lib\\\\importlib\\\\__init__.py', submodule_search_locations=['C:\\\\Users\\\\Public\\\\Anaconda3\\\\lib\\\\importlib']),\n",
       " '__path__': ['C:\\\\Users\\\\Public\\\\Anaconda3\\\\lib\\\\importlib'],\n",
       " '__file__': 'C:\\\\Users\\\\Public\\\\Anaconda3\\\\lib\\\\importlib\\\\__init__.py',\n",
       " '__cached__': 'C:\\\\Users\\\\Public\\\\Anaconda3\\\\lib\\\\importlib\\\\__pycache__\\\\__init__.cpython-37.pyc',\n",
       " '__builtins__': {'__name__': 'builtins',\n",
       "  '__doc__': \"Built-in functions, exceptions, and other objects.\\n\\nNoteworthy: None is the `nil' object; Ellipsis represents `...' in slices.\",\n",
       "  '__package__': '',\n",
       "  '__loader__': _frozen_importlib.BuiltinImporter,\n",
       "  '__spec__': ModuleSpec(name='builtins', loader=<class '_frozen_importlib.BuiltinImporter'>),\n",
       "  '__build_class__': <function __build_class__>,\n",
       "  '__import__': <function __import__>,\n",
       "  'abs': <function abs(x, /)>,\n",
       "  'all': <function all(iterable, /)>,\n",
       "  'any': <function any(iterable, /)>,\n",
       "  'ascii': <function ascii(obj, /)>,\n",
       "  'bin': <function bin(number, /)>,\n",
       "  'breakpoint': <function breakpoint>,\n",
       "  'callable': <function callable(obj, /)>,\n",
       "  'chr': <function chr(i, /)>,\n",
       "  'compile': <function compile(source, filename, mode, flags=0, dont_inherit=False, optimize=-1)>,\n",
       "  'delattr': <function delattr(obj, name, /)>,\n",
       "  'dir': <function dir>,\n",
       "  'divmod': <function divmod(x, y, /)>,\n",
       "  'eval': <function eval(source, globals=None, locals=None, /)>,\n",
       "  'exec': <function exec(source, globals=None, locals=None, /)>,\n",
       "  'format': <function format(value, format_spec='', /)>,\n",
       "  'getattr': <function getattr>,\n",
       "  'globals': <function globals()>,\n",
       "  'hasattr': <function hasattr(obj, name, /)>,\n",
       "  'hash': <function hash(obj, /)>,\n",
       "  'hex': <function hex(number, /)>,\n",
       "  'id': <function id(obj, /)>,\n",
       "  'input': <bound method Kernel.raw_input of <ipykernel.ipkernel.IPythonKernel object at 0x00000216D8EE5940>>,\n",
       "  'isinstance': <function isinstance(obj, class_or_tuple, /)>,\n",
       "  'issubclass': <function issubclass(cls, class_or_tuple, /)>,\n",
       "  'iter': <function iter>,\n",
       "  'len': <function len(obj, /)>,\n",
       "  'locals': <function locals()>,\n",
       "  'max': <function max>,\n",
       "  'min': <function min>,\n",
       "  'next': <function next>,\n",
       "  'oct': <function oct(number, /)>,\n",
       "  'ord': <function ord(c, /)>,\n",
       "  'pow': <function pow(x, y, z=None, /)>,\n",
       "  'print': <function print>,\n",
       "  'repr': <function repr(obj, /)>,\n",
       "  'round': <function round(number, ndigits=None)>,\n",
       "  'setattr': <function setattr(obj, name, value, /)>,\n",
       "  'sorted': <function sorted(iterable, /, *, key=None, reverse=False)>,\n",
       "  'sum': <function sum(iterable, start=0, /)>,\n",
       "  'vars': <function vars>,\n",
       "  'None': None,\n",
       "  'Ellipsis': Ellipsis,\n",
       "  'NotImplemented': NotImplemented,\n",
       "  'False': False,\n",
       "  'True': True,\n",
       "  'bool': bool,\n",
       "  'memoryview': memoryview,\n",
       "  'bytearray': bytearray,\n",
       "  'bytes': bytes,\n",
       "  'classmethod': classmethod,\n",
       "  'complex': complex,\n",
       "  'dict': dict,\n",
       "  'enumerate': enumerate,\n",
       "  'filter': filter,\n",
       "  'float': float,\n",
       "  'frozenset': frozenset,\n",
       "  'property': property,\n",
       "  'int': int,\n",
       "  'list': list,\n",
       "  'map': map,\n",
       "  'object': object,\n",
       "  'range': range,\n",
       "  'reversed': reversed,\n",
       "  'set': set,\n",
       "  'slice': slice,\n",
       "  'staticmethod': staticmethod,\n",
       "  'str': str,\n",
       "  'super': super,\n",
       "  'tuple': tuple,\n",
       "  'type': type,\n",
       "  'zip': zip,\n",
       "  '__debug__': True,\n",
       "  'BaseException': BaseException,\n",
       "  'Exception': Exception,\n",
       "  'TypeError': TypeError,\n",
       "  'StopAsyncIteration': StopAsyncIteration,\n",
       "  'StopIteration': StopIteration,\n",
       "  'GeneratorExit': GeneratorExit,\n",
       "  'SystemExit': SystemExit,\n",
       "  'KeyboardInterrupt': KeyboardInterrupt,\n",
       "  'ImportError': ImportError,\n",
       "  'ModuleNotFoundError': ModuleNotFoundError,\n",
       "  'OSError': OSError,\n",
       "  'EnvironmentError': OSError,\n",
       "  'IOError': OSError,\n",
       "  'WindowsError': OSError,\n",
       "  'EOFError': EOFError,\n",
       "  'RuntimeError': RuntimeError,\n",
       "  'RecursionError': RecursionError,\n",
       "  'NotImplementedError': NotImplementedError,\n",
       "  'NameError': NameError,\n",
       "  'UnboundLocalError': UnboundLocalError,\n",
       "  'AttributeError': AttributeError,\n",
       "  'SyntaxError': SyntaxError,\n",
       "  'IndentationError': IndentationError,\n",
       "  'TabError': TabError,\n",
       "  'LookupError': LookupError,\n",
       "  'IndexError': IndexError,\n",
       "  'KeyError': KeyError,\n",
       "  'ValueError': ValueError,\n",
       "  'UnicodeError': UnicodeError,\n",
       "  'UnicodeEncodeError': UnicodeEncodeError,\n",
       "  'UnicodeDecodeError': UnicodeDecodeError,\n",
       "  'UnicodeTranslateError': UnicodeTranslateError,\n",
       "  'AssertionError': AssertionError,\n",
       "  'ArithmeticError': ArithmeticError,\n",
       "  'FloatingPointError': FloatingPointError,\n",
       "  'OverflowError': OverflowError,\n",
       "  'ZeroDivisionError': ZeroDivisionError,\n",
       "  'SystemError': SystemError,\n",
       "  'ReferenceError': ReferenceError,\n",
       "  'MemoryError': MemoryError,\n",
       "  'BufferError': BufferError,\n",
       "  'Warning': Warning,\n",
       "  'UserWarning': UserWarning,\n",
       "  'DeprecationWarning': DeprecationWarning,\n",
       "  'PendingDeprecationWarning': PendingDeprecationWarning,\n",
       "  'SyntaxWarning': SyntaxWarning,\n",
       "  'RuntimeWarning': RuntimeWarning,\n",
       "  'FutureWarning': FutureWarning,\n",
       "  'ImportWarning': ImportWarning,\n",
       "  'UnicodeWarning': UnicodeWarning,\n",
       "  'BytesWarning': BytesWarning,\n",
       "  'ResourceWarning': ResourceWarning,\n",
       "  'ConnectionError': ConnectionError,\n",
       "  'BlockingIOError': BlockingIOError,\n",
       "  'BrokenPipeError': BrokenPipeError,\n",
       "  'ChildProcessError': ChildProcessError,\n",
       "  'ConnectionAbortedError': ConnectionAbortedError,\n",
       "  'ConnectionRefusedError': ConnectionRefusedError,\n",
       "  'ConnectionResetError': ConnectionResetError,\n",
       "  'FileExistsError': FileExistsError,\n",
       "  'FileNotFoundError': FileNotFoundError,\n",
       "  'IsADirectoryError': IsADirectoryError,\n",
       "  'NotADirectoryError': NotADirectoryError,\n",
       "  'InterruptedError': InterruptedError,\n",
       "  'PermissionError': PermissionError,\n",
       "  'ProcessLookupError': ProcessLookupError,\n",
       "  'TimeoutError': TimeoutError,\n",
       "  'open': <function io.open(file, mode='r', buffering=-1, encoding=None, errors=None, newline=None, closefd=True, opener=None)>,\n",
       "  'copyright': Copyright (c) 2001-2018 Python Software Foundation.\n",
       "  All Rights Reserved.\n",
       "  \n",
       "  Copyright (c) 2000 BeOpen.com.\n",
       "  All Rights Reserved.\n",
       "  \n",
       "  Copyright (c) 1995-2001 Corporation for National Research Initiatives.\n",
       "  All Rights Reserved.\n",
       "  \n",
       "  Copyright (c) 1991-1995 Stichting Mathematisch Centrum, Amsterdam.\n",
       "  All Rights Reserved.,\n",
       "  'credits':     Thanks to CWI, CNRI, BeOpen.com, Zope Corporation and a cast of thousands\n",
       "      for supporting Python development.  See www.python.org for more information.,\n",
       "  'license': See https://www.python.org/psf/license/,\n",
       "  'help': Type help() for interactive help, or help(object) for help about object.,\n",
       "  '__IPYTHON__': True,\n",
       "  'display': <function IPython.core.display.display(*objs, include=None, exclude=None, metadata=None, transient=None, display_id=None, **kwargs)>,\n",
       "  'get_ipython': <bound method InteractiveShell.get_ipython of <ipykernel.zmqshell.ZMQInteractiveShell object at 0x00000216D6F6FA58>>},\n",
       " '__all__': ['__import__', 'import_module', 'invalidate_caches', 'reload'],\n",
       " '_imp': <module '_imp' (built-in)>,\n",
       " 'sys': <module 'sys' (built-in)>,\n",
       " '_bootstrap': <module 'importlib._bootstrap' (frozen)>,\n",
       " '_bootstrap_external': <module 'importlib._bootstrap_external' (frozen)>,\n",
       " '_w_long': <function _frozen_importlib_external._w_long(x)>,\n",
       " '_r_long': <function _frozen_importlib_external._r_long(int_bytes)>,\n",
       " 'types': <module 'types' from 'C:\\\\Users\\\\Public\\\\Anaconda3\\\\lib\\\\types.py'>,\n",
       " 'warnings': <module 'warnings' from 'C:\\\\Users\\\\Public\\\\Anaconda3\\\\lib\\\\warnings.py'>,\n",
       " '__import__': <function _frozen_importlib.__import__(name, globals=None, locals=None, fromlist=(), level=0)>,\n",
       " 'invalidate_caches': <function importlib.invalidate_caches()>,\n",
       " 'find_loader': <function importlib.find_loader(name, path=None)>,\n",
       " 'import_module': <function importlib.import_module(name, package=None)>,\n",
       " '_RELOADING': {},\n",
       " 'reload': <function importlib.reload(module)>,\n",
       " 'machinery': <module 'importlib.machinery' from 'C:\\\\Users\\\\Public\\\\Anaconda3\\\\lib\\\\importlib\\\\machinery.py'>,\n",
       " 'abc': <module 'importlib.abc' from 'C:\\\\Users\\\\Public\\\\Anaconda3\\\\lib\\\\importlib\\\\abc.py'>,\n",
       " 'util': <module 'importlib.util' from 'C:\\\\Users\\\\Public\\\\Anaconda3\\\\lib\\\\importlib\\\\util.py'>}"
      ]
     },
     "execution_count": 32,
     "metadata": {},
     "output_type": "execute_result"
    }
   ],
   "source": [
    "importlib.__dict__"
   ]
  },
  {
   "cell_type": "code",
   "execution_count": 33,
   "metadata": {},
   "outputs": [
    {
     "data": {
      "text/plain": [
       "module"
      ]
     },
     "execution_count": 33,
     "metadata": {},
     "output_type": "execute_result"
    }
   ],
   "source": [
    "type(converter_module)"
   ]
  },
  {
   "cell_type": "code",
   "execution_count": 34,
   "metadata": {
    "scrolled": true
   },
   "outputs": [
    {
     "data": {
      "text/plain": [
       "{'__name__': 'unitconverter.unit_tables.time',\n",
       " '__doc__': None,\n",
       " '__package__': 'unitconverter.unit_tables',\n",
       " '__loader__': <_frozen_importlib_external.SourceFileLoader at 0x216d8fcd3c8>,\n",
       " '__spec__': ModuleSpec(name='unitconverter.unit_tables.time', loader=<_frozen_importlib_external.SourceFileLoader object at 0x00000216D8FCD3C8>, origin='D:\\\\Google雲端硬碟\\\\GettingStartedWithPythonAndRaspberryPi-book_release\\\\Chapter09\\\\unitconverter\\\\unitconverter\\\\unit_tables\\\\time.py'),\n",
       " '__file__': 'D:\\\\Google雲端硬碟\\\\GettingStartedWithPythonAndRaspberryPi-book_release\\\\Chapter09\\\\unitconverter\\\\unitconverter\\\\unit_tables\\\\time.py',\n",
       " '__cached__': 'D:\\\\Google雲端硬碟\\\\GettingStartedWithPythonAndRaspberryPi-book_release\\\\Chapter09\\\\unitconverter\\\\unitconverter\\\\unit_tables\\\\__pycache__\\\\time.cpython-37.pyc',\n",
       " '__builtins__': {'__name__': 'builtins',\n",
       "  '__doc__': \"Built-in functions, exceptions, and other objects.\\n\\nNoteworthy: None is the `nil' object; Ellipsis represents `...' in slices.\",\n",
       "  '__package__': '',\n",
       "  '__loader__': _frozen_importlib.BuiltinImporter,\n",
       "  '__spec__': ModuleSpec(name='builtins', loader=<class '_frozen_importlib.BuiltinImporter'>),\n",
       "  '__build_class__': <function __build_class__>,\n",
       "  '__import__': <function __import__>,\n",
       "  'abs': <function abs(x, /)>,\n",
       "  'all': <function all(iterable, /)>,\n",
       "  'any': <function any(iterable, /)>,\n",
       "  'ascii': <function ascii(obj, /)>,\n",
       "  'bin': <function bin(number, /)>,\n",
       "  'breakpoint': <function breakpoint>,\n",
       "  'callable': <function callable(obj, /)>,\n",
       "  'chr': <function chr(i, /)>,\n",
       "  'compile': <function compile(source, filename, mode, flags=0, dont_inherit=False, optimize=-1)>,\n",
       "  'delattr': <function delattr(obj, name, /)>,\n",
       "  'dir': <function dir>,\n",
       "  'divmod': <function divmod(x, y, /)>,\n",
       "  'eval': <function eval(source, globals=None, locals=None, /)>,\n",
       "  'exec': <function exec(source, globals=None, locals=None, /)>,\n",
       "  'format': <function format(value, format_spec='', /)>,\n",
       "  'getattr': <function getattr>,\n",
       "  'globals': <function globals()>,\n",
       "  'hasattr': <function hasattr(obj, name, /)>,\n",
       "  'hash': <function hash(obj, /)>,\n",
       "  'hex': <function hex(number, /)>,\n",
       "  'id': <function id(obj, /)>,\n",
       "  'input': <bound method Kernel.raw_input of <ipykernel.ipkernel.IPythonKernel object at 0x00000216D8EE5940>>,\n",
       "  'isinstance': <function isinstance(obj, class_or_tuple, /)>,\n",
       "  'issubclass': <function issubclass(cls, class_or_tuple, /)>,\n",
       "  'iter': <function iter>,\n",
       "  'len': <function len(obj, /)>,\n",
       "  'locals': <function locals()>,\n",
       "  'max': <function max>,\n",
       "  'min': <function min>,\n",
       "  'next': <function next>,\n",
       "  'oct': <function oct(number, /)>,\n",
       "  'ord': <function ord(c, /)>,\n",
       "  'pow': <function pow(x, y, z=None, /)>,\n",
       "  'print': <function print>,\n",
       "  'repr': <function repr(obj, /)>,\n",
       "  'round': <function round(number, ndigits=None)>,\n",
       "  'setattr': <function setattr(obj, name, value, /)>,\n",
       "  'sorted': <function sorted(iterable, /, *, key=None, reverse=False)>,\n",
       "  'sum': <function sum(iterable, start=0, /)>,\n",
       "  'vars': <function vars>,\n",
       "  'None': None,\n",
       "  'Ellipsis': Ellipsis,\n",
       "  'NotImplemented': NotImplemented,\n",
       "  'False': False,\n",
       "  'True': True,\n",
       "  'bool': bool,\n",
       "  'memoryview': memoryview,\n",
       "  'bytearray': bytearray,\n",
       "  'bytes': bytes,\n",
       "  'classmethod': classmethod,\n",
       "  'complex': complex,\n",
       "  'dict': dict,\n",
       "  'enumerate': enumerate,\n",
       "  'filter': filter,\n",
       "  'float': float,\n",
       "  'frozenset': frozenset,\n",
       "  'property': property,\n",
       "  'int': int,\n",
       "  'list': list,\n",
       "  'map': map,\n",
       "  'object': object,\n",
       "  'range': range,\n",
       "  'reversed': reversed,\n",
       "  'set': set,\n",
       "  'slice': slice,\n",
       "  'staticmethod': staticmethod,\n",
       "  'str': str,\n",
       "  'super': super,\n",
       "  'tuple': tuple,\n",
       "  'type': type,\n",
       "  'zip': zip,\n",
       "  '__debug__': True,\n",
       "  'BaseException': BaseException,\n",
       "  'Exception': Exception,\n",
       "  'TypeError': TypeError,\n",
       "  'StopAsyncIteration': StopAsyncIteration,\n",
       "  'StopIteration': StopIteration,\n",
       "  'GeneratorExit': GeneratorExit,\n",
       "  'SystemExit': SystemExit,\n",
       "  'KeyboardInterrupt': KeyboardInterrupt,\n",
       "  'ImportError': ImportError,\n",
       "  'ModuleNotFoundError': ModuleNotFoundError,\n",
       "  'OSError': OSError,\n",
       "  'EnvironmentError': OSError,\n",
       "  'IOError': OSError,\n",
       "  'WindowsError': OSError,\n",
       "  'EOFError': EOFError,\n",
       "  'RuntimeError': RuntimeError,\n",
       "  'RecursionError': RecursionError,\n",
       "  'NotImplementedError': NotImplementedError,\n",
       "  'NameError': NameError,\n",
       "  'UnboundLocalError': UnboundLocalError,\n",
       "  'AttributeError': AttributeError,\n",
       "  'SyntaxError': SyntaxError,\n",
       "  'IndentationError': IndentationError,\n",
       "  'TabError': TabError,\n",
       "  'LookupError': LookupError,\n",
       "  'IndexError': IndexError,\n",
       "  'KeyError': KeyError,\n",
       "  'ValueError': ValueError,\n",
       "  'UnicodeError': UnicodeError,\n",
       "  'UnicodeEncodeError': UnicodeEncodeError,\n",
       "  'UnicodeDecodeError': UnicodeDecodeError,\n",
       "  'UnicodeTranslateError': UnicodeTranslateError,\n",
       "  'AssertionError': AssertionError,\n",
       "  'ArithmeticError': ArithmeticError,\n",
       "  'FloatingPointError': FloatingPointError,\n",
       "  'OverflowError': OverflowError,\n",
       "  'ZeroDivisionError': ZeroDivisionError,\n",
       "  'SystemError': SystemError,\n",
       "  'ReferenceError': ReferenceError,\n",
       "  'MemoryError': MemoryError,\n",
       "  'BufferError': BufferError,\n",
       "  'Warning': Warning,\n",
       "  'UserWarning': UserWarning,\n",
       "  'DeprecationWarning': DeprecationWarning,\n",
       "  'PendingDeprecationWarning': PendingDeprecationWarning,\n",
       "  'SyntaxWarning': SyntaxWarning,\n",
       "  'RuntimeWarning': RuntimeWarning,\n",
       "  'FutureWarning': FutureWarning,\n",
       "  'ImportWarning': ImportWarning,\n",
       "  'UnicodeWarning': UnicodeWarning,\n",
       "  'BytesWarning': BytesWarning,\n",
       "  'ResourceWarning': ResourceWarning,\n",
       "  'ConnectionError': ConnectionError,\n",
       "  'BlockingIOError': BlockingIOError,\n",
       "  'BrokenPipeError': BrokenPipeError,\n",
       "  'ChildProcessError': ChildProcessError,\n",
       "  'ConnectionAbortedError': ConnectionAbortedError,\n",
       "  'ConnectionRefusedError': ConnectionRefusedError,\n",
       "  'ConnectionResetError': ConnectionResetError,\n",
       "  'FileExistsError': FileExistsError,\n",
       "  'FileNotFoundError': FileNotFoundError,\n",
       "  'IsADirectoryError': IsADirectoryError,\n",
       "  'NotADirectoryError': NotADirectoryError,\n",
       "  'InterruptedError': InterruptedError,\n",
       "  'PermissionError': PermissionError,\n",
       "  'ProcessLookupError': ProcessLookupError,\n",
       "  'TimeoutError': TimeoutError,\n",
       "  'open': <function io.open(file, mode='r', buffering=-1, encoding=None, errors=None, newline=None, closefd=True, opener=None)>,\n",
       "  'copyright': Copyright (c) 2001-2018 Python Software Foundation.\n",
       "  All Rights Reserved.\n",
       "  \n",
       "  Copyright (c) 2000 BeOpen.com.\n",
       "  All Rights Reserved.\n",
       "  \n",
       "  Copyright (c) 1995-2001 Corporation for National Research Initiatives.\n",
       "  All Rights Reserved.\n",
       "  \n",
       "  Copyright (c) 1991-1995 Stichting Mathematisch Centrum, Amsterdam.\n",
       "  All Rights Reserved.,\n",
       "  'credits':     Thanks to CWI, CNRI, BeOpen.com, Zope Corporation and a cast of thousands\n",
       "      for supporting Python development.  See www.python.org for more information.,\n",
       "  'license': See https://www.python.org/psf/license/,\n",
       "  'help': Type help() for interactive help, or help(object) for help about object.,\n",
       "  '__IPYTHON__': True,\n",
       "  'display': <function IPython.core.display.display(*objs, include=None, exclude=None, metadata=None, transient=None, display_id=None, **kwargs)>,\n",
       "  'get_ipython': <bound method InteractiveShell.get_ipython of <ipykernel.zmqshell.ZMQInteractiveShell object at 0x00000216D6F6FA58>>},\n",
       " 'UnitTable': <module 'unitconverter.UnitTable' from 'D:\\\\Google雲端硬碟\\\\GettingStartedWithPythonAndRaspberryPi-book_release\\\\Chapter09\\\\unitconverter\\\\unitconverter\\\\UnitTable.py'>,\n",
       " 'time': unitconverter.unit_tables.time.time}"
      ]
     },
     "execution_count": 34,
     "metadata": {},
     "output_type": "execute_result"
    }
   ],
   "source": [
    "converter_module.__dict__"
   ]
  },
  {
   "cell_type": "code",
   "execution_count": 35,
   "metadata": {},
   "outputs": [
    {
     "data": {
      "text/plain": [
       "dict_keys(['__name__', '__doc__', '__package__', '__loader__', '__spec__', '__file__', '__cached__', '__builtins__', 'UnitTable', 'time'])"
      ]
     },
     "execution_count": 35,
     "metadata": {},
     "output_type": "execute_result"
    }
   ],
   "source": [
    "converter_module.__dict__.keys()"
   ]
  },
  {
   "cell_type": "code",
   "execution_count": 36,
   "metadata": {},
   "outputs": [
    {
     "data": {
      "text/plain": [
       "unitconverter.unit_tables.time.time"
      ]
     },
     "execution_count": 36,
     "metadata": {},
     "output_type": "execute_result"
    }
   ],
   "source": [
    "# 1st \n",
    "converter_module.time"
   ]
  },
  {
   "cell_type": "code",
   "execution_count": 37,
   "metadata": {},
   "outputs": [
    {
     "data": {
      "text/plain": [
       "<module 'unitconverter.UnitTable' from 'D:\\\\Google雲端硬碟\\\\GettingStartedWithPythonAndRaspberryPi-book_release\\\\Chapter09\\\\unitconverter\\\\unitconverter\\\\UnitTable.py'>"
      ]
     },
     "execution_count": 37,
     "metadata": {},
     "output_type": "execute_result"
    }
   ],
   "source": [
    "converter_module.UnitTable"
   ]
  },
  {
   "cell_type": "code",
   "execution_count": 38,
   "metadata": {},
   "outputs": [
    {
     "data": {
      "text/plain": [
       "unitconverter.unit_tables.time.time"
      ]
     },
     "execution_count": 38,
     "metadata": {},
     "output_type": "execute_result"
    }
   ],
   "source": [
    "# 2nd methods\n",
    "converter_module.__dict__[\"time\"]"
   ]
  },
  {
   "cell_type": "code",
   "execution_count": 39,
   "metadata": {},
   "outputs": [
    {
     "name": "stdout",
     "output_type": "stream",
     "text": [
      "Help on built-in function getattr in module builtins:\n",
      "\n",
      "getattr(...)\n",
      "    getattr(object, name[, default]) -> value\n",
      "    \n",
      "    Get a named attribute from an object; getattr(x, 'y') is equivalent to x.y.\n",
      "    When a default argument is given, it is returned when the attribute doesn't\n",
      "    exist; without it, an exception is raised in that case.\n",
      "\n"
     ]
    }
   ],
   "source": [
    "help(getattr)"
   ]
  },
  {
   "cell_type": "markdown",
   "metadata": {},
   "source": [
    "### importlib.import_module() 把指定 package.directory.module 的 .py 程式給找到"
   ]
  },
  {
   "cell_type": "code",
   "execution_count": 41,
   "metadata": {},
   "outputs": [
    {
     "data": {
      "text/plain": [
       "unitconverter.unit_tables.time.time"
      ]
     },
     "execution_count": 41,
     "metadata": {},
     "output_type": "execute_result"
    }
   ],
   "source": [
    "# 3rd methods\n",
    "getattr(converter_module, \"time\")"
   ]
  },
  {
   "cell_type": "code",
   "execution_count": 43,
   "metadata": {},
   "outputs": [
    {
     "data": {
      "text/plain": [
       "unitconverter.unit_tables.time.time"
      ]
     },
     "execution_count": 43,
     "metadata": {},
     "output_type": "execute_result"
    }
   ],
   "source": [
    "converter_class = getattr(converter_module, table_name)\n",
    "converter_class"
   ]
  },
  {
   "cell_type": "code",
   "execution_count": 44,
   "metadata": {},
   "outputs": [
    {
     "data": {
      "text/plain": [
       "<unitconverter.unit_tables.time.time at 0x216dac95d30>"
      ]
     },
     "execution_count": 44,
     "metadata": {},
     "output_type": "execute_result"
    }
   ],
   "source": [
    "c = converter_class()\n",
    "c"
   ]
  },
  {
   "cell_type": "markdown",
   "metadata": {},
   "source": [
    "### getattr() 再把裏面的 \"time\" 的 class 給翻出來，指的是：\n",
    "\n",
    "unitconverter.unit_tables.time.time\n",
    "- unitconverter package 底下\n",
    "- unit_tables 目錄底下的\n",
    "- time.py module 中，所定義的\n",
    "- time class"
   ]
  },
  {
   "cell_type": "code",
   "execution_count": 45,
   "metadata": {},
   "outputs": [
    {
     "data": {
      "text/plain": [
       "type"
      ]
     },
     "execution_count": 45,
     "metadata": {},
     "output_type": "execute_result"
    }
   ],
   "source": [
    "type(converter_class)"
   ]
  },
  {
   "cell_type": "code",
   "execution_count": 46,
   "metadata": {},
   "outputs": [],
   "source": [
    "from unitconverter.UnitTable import UnitTable"
   ]
  },
  {
   "cell_type": "code",
   "execution_count": 47,
   "metadata": {},
   "outputs": [
    {
     "data": {
      "text/plain": [
       "type"
      ]
     },
     "execution_count": 47,
     "metadata": {},
     "output_type": "execute_result"
    }
   ],
   "source": [
    "type(UnitTable)"
   ]
  },
  {
   "cell_type": "markdown",
   "metadata": {},
   "source": [
    "### 神奇的是，它屬於 type 的資料型態，而且我們直接在它後面加上 ()，就會變出一個相對應的 object 來！"
   ]
  },
  {
   "cell_type": "code",
   "execution_count": 48,
   "metadata": {},
   "outputs": [
    {
     "data": {
      "text/plain": [
       "<unitconverter.unit_tables.time.time at 0x216dac95f60>"
      ]
     },
     "execution_count": 48,
     "metadata": {},
     "output_type": "execute_result"
    }
   ],
   "source": [
    "# 我們直接在它後面加上 ()\n",
    "a = converter_class()\n",
    "a"
   ]
  },
  {
   "cell_type": "markdown",
   "metadata": {},
   "source": [
    "### 竟然就可以變出 (instantiate) 一個 time 的 object 來！"
   ]
  },
  {
   "cell_type": "code",
   "execution_count": 49,
   "metadata": {},
   "outputs": [
    {
     "name": "stdout",
     "output_type": "stream",
     "text": [
      "Variable           Type      Data/Info\n",
      "--------------------------------------\n",
      "UnitTable          type      <class 'unitconverter.UnitTable.UnitTable'>\n",
      "a                  time      <unitconverter.unit_table<...>ct at 0x00000216DAC95F60>\n",
      "a_time_table       time      <unitconverter.unit_table<...>ct at 0x00000216D8FCDA20>\n",
      "c                  time      <unitconverter.unit_table<...>ct at 0x00000216DAC95D30>\n",
      "converter_class    type      <class 'unitconverter.unit_tables.time.time'>\n",
      "converter_module   module    <module 'unitconverter.un<...>r\\\\unit_tables\\\\time.py'>\n",
      "course_directory   str       D:\\Google雲端硬碟\\GettingStar<...>dRaspberryPi-book_release\n",
      "importlib          module    <module 'importlib' from <...>\\importlib\\\\__init__.py'>\n",
      "os                 module    <module 'os' from 'C:\\\\Us<...>\\\\Anaconda3\\\\lib\\\\os.py'>\n",
      "table_name         str       time\n",
      "time               time      <unitconverter.unit_table<...>ct at 0x00000216D8FDE240>\n"
     ]
    }
   ],
   "source": [
    "%whos"
   ]
  },
  {
   "cell_type": "code",
   "execution_count": 51,
   "metadata": {},
   "outputs": [],
   "source": [
    "# 如果一開始寫死的話\n",
    "from unitconverter.unit_tables.time import time\n",
    "another_time_object = time()"
   ]
  },
  {
   "cell_type": "code",
   "execution_count": 52,
   "metadata": {},
   "outputs": [],
   "source": [
    "# 課本中寫的指令是用 convert_class, 但我覺得如果後面用了 (), 應該是\n",
    "# object 才對。\n",
    "import importlib\n",
    "table_name = \"time\"\n",
    "converter_module = importlib.import_module('unitconverter.unit_tables.%s' \\\n",
    "                                           % table_name)\n",
    "# 以下是 run-time instantiate 一個　object\n",
    "converter_object = getattr(converter_module, table_name)()"
   ]
  },
  {
   "cell_type": "code",
   "execution_count": 53,
   "metadata": {},
   "outputs": [
    {
     "data": {
      "text/plain": [
       "<unitconverter.unit_tables.time.time at 0x216daceac88>"
      ]
     },
     "execution_count": 53,
     "metadata": {},
     "output_type": "execute_result"
    }
   ],
   "source": [
    "converter_object"
   ]
  },
  {
   "cell_type": "code",
   "execution_count": 54,
   "metadata": {
    "scrolled": true
   },
   "outputs": [
    {
     "name": "stdout",
     "output_type": "stream",
     "text": [
      "Variable              Type      Data/Info\n",
      "-----------------------------------------\n",
      "UnitTable             type      <class 'unitconverter.UnitTable.UnitTable'>\n",
      "a                     time      <unitconverter.unit_table<...>ct at 0x00000216DAC95F60>\n",
      "a_time_table          time      <unitconverter.unit_table<...>ct at 0x00000216D8FCDA20>\n",
      "another_time_object   time      <unitconverter.unit_table<...>ct at 0x00000216DACBC048>\n",
      "c                     time      <unitconverter.unit_table<...>ct at 0x00000216DAC95D30>\n",
      "converter_class       type      <class 'unitconverter.unit_tables.time.time'>\n",
      "converter_module      module    <module 'unitconverter.un<...>r\\\\unit_tables\\\\time.py'>\n",
      "converter_object      time      <unitconverter.unit_table<...>ct at 0x00000216DACEAC88>\n",
      "course_directory      str       D:\\Google雲端硬碟\\GettingStar<...>dRaspberryPi-book_release\n",
      "importlib             module    <module 'importlib' from <...>\\importlib\\\\__init__.py'>\n",
      "os                    module    <module 'os' from 'C:\\\\Us<...>\\\\Anaconda3\\\\lib\\\\os.py'>\n",
      "table_name            str       time\n",
      "time                  type      <class 'unitconverter.unit_tables.time.time'>\n"
     ]
    }
   ],
   "source": [
    "%whos"
   ]
  },
  {
   "cell_type": "code",
   "execution_count": 55,
   "metadata": {},
   "outputs": [
    {
     "data": {
      "text/plain": [
       "{'base_unit': 's',\n",
       " 'to_base_unit': {'m': <function unitconverter.unit_tables.time.time.__init__.<locals>.<lambda>(x)>,\n",
       "  'h': <function unitconverter.unit_tables.time.time.__init__.<locals>.<lambda>(x)>,\n",
       "  'd': <function unitconverter.unit_tables.time.time.__init__.<locals>.<lambda>(x)>,\n",
       "  'y': <function unitconverter.unit_tables.time.time.__init__.<locals>.<lambda>(x)>,\n",
       "  'ms': <function unitconverter.unit_tables.time.time.__init__.<locals>.<lambda>(x)>,\n",
       "  'us': <function unitconverter.unit_tables.time.time.__init__.<locals>.<lambda>(x)>,\n",
       "  'ns': <function unitconverter.unit_tables.time.time.__init__.<locals>.<lambda>(x)>},\n",
       " 'from_base_unit': {'m': <function unitconverter.unit_tables.time.time.__init__.<locals>.<lambda>(x)>,\n",
       "  'h': <function unitconverter.unit_tables.time.time.__init__.<locals>.<lambda>(x)>,\n",
       "  'd': <function unitconverter.unit_tables.time.time.__init__.<locals>.<lambda>(x)>,\n",
       "  'y': <function unitconverter.unit_tables.time.time.__init__.<locals>.<lambda>(x)>,\n",
       "  'ms': <function unitconverter.unit_tables.time.time.__init__.<locals>.<lambda>(x)>,\n",
       "  'us': <function unitconverter.unit_tables.time.time.__init__.<locals>.<lambda>(x)>,\n",
       "  'ns': <function unitconverter.unit_tables.time.time.__init__.<locals>.<lambda>(x)>}}"
      ]
     },
     "execution_count": 55,
     "metadata": {},
     "output_type": "execute_result"
    }
   ],
   "source": [
    "converter_object.__dict__"
   ]
  },
  {
   "cell_type": "code",
   "execution_count": 56,
   "metadata": {},
   "outputs": [
    {
     "data": {
      "text/plain": [
       "unitconverter.unit_tables.time.time"
      ]
     },
     "execution_count": 56,
     "metadata": {},
     "output_type": "execute_result"
    }
   ],
   "source": [
    "type(converter_object)"
   ]
  },
  {
   "cell_type": "code",
   "execution_count": 57,
   "metadata": {},
   "outputs": [
    {
     "data": {
      "text/plain": [
       "<unitconverter.unit_tables.time.time at 0x216daceac88>"
      ]
     },
     "execution_count": 57,
     "metadata": {},
     "output_type": "execute_result"
    }
   ],
   "source": [
    "converter_object"
   ]
  },
  {
   "cell_type": "code",
   "execution_count": 58,
   "metadata": {},
   "outputs": [
    {
     "data": {
      "text/plain": [
       "'s'"
      ]
     },
     "execution_count": 58,
     "metadata": {},
     "output_type": "execute_result"
    }
   ],
   "source": [
    "converter_object.base_unit"
   ]
  },
  {
   "cell_type": "code",
   "execution_count": 59,
   "metadata": {},
   "outputs": [
    {
     "data": {
      "text/plain": [
       "{'d', 'h', 'm', 'ms', 'ns', 's', 'us', 'y'}"
      ]
     },
     "execution_count": 59,
     "metadata": {},
     "output_type": "execute_result"
    }
   ],
   "source": [
    "converter_object.get_units()"
   ]
  },
  {
   "cell_type": "code",
   "execution_count": null,
   "metadata": {},
   "outputs": [],
   "source": []
  }
 ],
 "metadata": {
  "gist": {
   "data": {
    "description": "Ch09/Untitled.ipynb",
    "public": false
   },
   "id": ""
  },
  "kernelspec": {
   "display_name": "Python 3",
   "language": "python",
   "name": "python3"
  },
  "language_info": {
   "codemirror_mode": {
    "name": "ipython",
    "version": 3
   },
   "file_extension": ".py",
   "mimetype": "text/x-python",
   "name": "python",
   "nbconvert_exporter": "python",
   "pygments_lexer": "ipython3",
   "version": "3.7.1"
  }
 },
 "nbformat": 4,
 "nbformat_minor": 2
}
