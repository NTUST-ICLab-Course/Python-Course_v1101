{
 "cells": [
  {
   "cell_type": "markdown",
   "metadata": {},
   "source": [
    "# Chapter 09: -4- Converter.py with importlib and inspect modules\n",
    "2020-11-17\n",
    "\n",
    "Content:\n",
    "1. UML diagram of the unitconver package\n",
    "2. setup.py and CLI.py for the entry point (and argParse module)\n",
    "3. UnitTable.py and the unit_tables directory (and lambda function)\n",
    "4. **Converter.py (and importlib module + inspect module)**\n",
    "5. Putting all of them together!"
   ]
  },
  {
   "cell_type": "markdown",
   "metadata": {},
   "source": [
    "## 幾個重要的概念：\n",
    "1. **import importlib**: 如何載入一個 py 檔的 module\n",
    "2. **getattr()** 如何從一個 module 中，取出其中定義的一個 class 的 type，然後利用在 **type 後馬上補上()** 就可 instantiate 一個相對應的物件\n",
    "3. 取得物件之後，會將其定義在這物件中，內藏在 dictionary 中的 lambda function 給取出來作運算。\n",
    "4. **inspect module** 在我們執要環境中的 modules, classes, methods, functions,...等，一定都是從 code 來的，我們會想要知道其相對應的 code 為何？"
   ]
  },
  {
   "cell_type": "code",
   "execution_count": 1,
   "metadata": {},
   "outputs": [],
   "source": [
    "import os\n",
    "course_directory = 'D:\\\\Google雲端硬碟\\\\GettingStartedWithPythonAndRaspberryPi-book_release'\n",
    "os.chdir(course_directory + \"/Chapter09/unitconverter\")"
   ]
  },
  {
   "cell_type": "code",
   "execution_count": 2,
   "metadata": {},
   "outputs": [
    {
     "name": "stdout",
     "output_type": "stream",
     "text": [
      "Unit table length can convert between the units:\n",
      "um\n",
      "cm\n",
      "mil\n",
      "mm\n",
      "yd\n",
      "mi\n",
      "ft\n",
      "in\n",
      "m\n"
     ]
    }
   ],
   "source": [
    "!unitconvert length list"
   ]
  },
  {
   "cell_type": "code",
   "execution_count": 3,
   "metadata": {},
   "outputs": [
    {
     "name": "stdout",
     "output_type": "stream",
     "text": [
      "Unit table length can convert between the units:\n",
      "mil (x * 39370.078740158)\n",
      "cm (x * 100.0)\n",
      "mi (x * 0.00062137)\n",
      "m (base unit)\n",
      "mm (x * 1000.0)\n",
      "ft (x * 3.2808)\n",
      "in (x * 39.370)\n",
      "um (x * 1000000.0)\n",
      "yd (x * 1.0936)\n"
     ]
    }
   ],
   "source": [
    "!unitconvert length list -m"
   ]
  },
  {
   "cell_type": "code",
   "execution_count": 4,
   "metadata": {},
   "outputs": [
    {
     "name": "stdout",
     "output_type": "stream",
     "text": [
      "1.000000 mi = 1609.347088 m\n",
      "1.000000 mi = 1759.981975 yd\n",
      "1.000000 mi = 5279.945926 ft\n",
      "1.000000 mi = 63359.994850 in\n",
      "1.000000 mi = 160934.708789 cm\n"
     ]
    }
   ],
   "source": [
    "!unitconvert length convert 1 mi m yd ft in cm"
   ]
  },
  {
   "cell_type": "code",
   "execution_count": null,
   "metadata": {},
   "outputs": [],
   "source": [
    "'''\n",
    "這個 CLI 的程式是在 setup 之後，在 console 可以要說明性的 help，長得如下：\n",
    "===\n",
    "usage: unitconvert [-h] TABLE {list,convert} ...\n",
    "\n",
    "Tool for converting units\n",
    "\n",
    "positional arguments:\n",
    "  TABLE           Unit table to use in conversion\n",
    "  {list,convert}  operation to be performed\n",
    "\n",
    "optional arguments:\n",
    "  -h, --help      show this help message and exit\n",
    "  \n",
    "'''\n",
    "\n",
    "import argparse\n",
    "import inspect\n",
    "from unitconverter.Converter import get_table, convert_units\n",
    "\n",
    "\n",
    "def run_cli():\n",
    "    parser = argparse.ArgumentParser(description='Tool for converting units')\n",
    "\n",
    "    parser.add_argument(\n",
    "        'table',\n",
    "        metavar='TABLE',\n",
    "        action='store',\n",
    "        type=str,\n",
    "        help='Unit table to use in conversion'\n",
    "    )\n",
    "\n",
    "    \"\"\"\n",
    "    這是 unitconvert 以及上述 table 之後，第二層要解碼的部份，\n",
    "    這又分為兩個：\n",
    "    1. list\n",
    "    2. convert\n",
    "    我們安排一個 which 變數來記錄是哪一個。\n",
    "    \"\"\"\n",
    "    subparsers = parser.add_subparsers(help='operation to be performed')\n",
    "\n",
    "    '''\n",
    "    以下考慮 -m, --method 的選項，要作什麼事\n",
    "    \n",
    "    Unit table energy can convert between the units:\n",
    "    kcal (x * 0.00023884589663)\n",
    "    cal (x * 0.23900573614)\n",
    "    btu (x * 0.00094781707775)\n",
    "    ev (x * 6241506480000000000.0)\n",
    "    wh (x * 0.00027777777778)\n",
    "    j (base unit)\n",
    "    hph (x * 3.7250614123e-7)\n",
    "    '''\n",
    "    \n",
    "    list_table_parser = subparsers.add_parser('list')\n",
    "    list_table_parser.set_defaults(which='list')\n",
    "\n",
    "    list_table_parser.add_argument(\n",
    "        '-m', '--method',\n",
    "        action='store_true',\n",
    "        help='Also output the conversion method from the base unit'\n",
    "    )\n",
    "    \n",
    "    '''\n",
    "    以下考慮 convert 時，要作什麼事\n",
    "    \n",
    "    usage: unitconvert TABLE convert [-h] VALUE FROM TO [TO ...]\n",
    "\n",
    "    positional arguments:\n",
    "      VALUE       The value to convert\n",
    "      FROM        Unit to convert from\n",
    "      TO          Unit(s) to convert to\n",
    "\n",
    "    optional arguments:\n",
    "      -h, --help  show this help message and exit\n",
    "    '''\n",
    "\n",
    "    conversion_parser = subparsers.add_parser('convert')\n",
    "    conversion_parser.set_defaults(which='convert')\n",
    "\n",
    "    conversion_parser.add_argument(\n",
    "        'value',\n",
    "        metavar='VALUE',\n",
    "        type=float,\n",
    "        action='store',\n",
    "        help='The value to convert'\n",
    "    )\n",
    "\n",
    "    conversion_parser.add_argument(\n",
    "        'from_unit',\n",
    "        metavar='FROM',\n",
    "        action='store',\n",
    "        type=str,\n",
    "        help='Unit to convert from'\n",
    "    )\n",
    "\n",
    "    conversion_parser.add_argument(\n",
    "        'to_units',\n",
    "        metavar='TO',\n",
    "        action='store',\n",
    "        nargs='+', # 個數可以有很多個，但至少會有一個\n",
    "        type=str,\n",
    "        help='Unit(s) to convert to'\n",
    "    )\n",
    "\n",
    "    \"\"\"\n",
    "    以下這個指令 parser.parse_args() 是最重要的，\n",
    "    將 CLI 輸入的參數按指定的名稱取出，\n",
    "    然後，就可以作判斷，要作怎樣的反應。\n",
    "    \"\"\"\n",
    "    props = parser.parse_args()\n",
    "\n",
    "    if props.which == 'list':\n",
    "        _run_unit_list(props)\n",
    "    elif props.which == 'convert':\n",
    "        _run_conversion(props)\n",
    "\n",
    "\n",
    "def _run_unit_list(props):\n",
    "    \"\"\"\n",
    "    Runs the command line interface for unit listing mode.\n",
    "\n",
    "    @param props Properties parsed by argparse\n",
    "    \"\"\"\n",
    "\n",
    "    table = get_table(props.table)\n",
    "    print('Unit table %s can convert between the units:' % props.table)\n",
    "    for unit in table.get_units():\n",
    "        if props.method:\n",
    "            if unit == table.base_unit:\n",
    "                formula = 'base unit'\n",
    "            else:\n",
    "                conversion = inspect.getsource(table.from_base_unit[unit])\n",
    "                \"\"\"\n",
    "                self.from_base_unit['radian'] = lambda x: x * 0.0174532925\n",
    "                \"\"\"\n",
    "                formula = conversion[conversion.index(':') + 1:conversion.index('\\n')].strip() # 這是要將一開頭的 [lambda x:] 給去掉\n",
    "            print('%s (%s)' % (unit, formula))\n",
    "        else:\n",
    "            print(unit)\n",
    "\n",
    "\n",
    "def _run_conversion(props):\n",
    "    \"\"\"\n",
    "    Runs the command line interface for unit conversion mode.\n",
    "\n",
    "    @param props Properties parsed by argparse\n",
    "    \"\"\"\n",
    "\n",
    "    results = convert_units(table_name=props.table,\n",
    "                            value=props.value,\n",
    "                            value_unit=props.from_unit,\n",
    "                            targets=props.to_units)\n",
    "\n",
    "    for result in results:\n",
    "        print('%f %s = %f %s' % (props.value, props.from_unit,\n",
    "                                 result['converted_value'],\n",
    "                                 result['dest_unit']))\n"
   ]
  },
  {
   "cell_type": "markdown",
   "metadata": {},
   "source": [
    "## 將重點放在 {list, convert} 之後的處理：\n",
    "```python:\n",
    "    props = parser.parse_args()\n",
    "\n",
    "    if props.which == 'list':\n",
    "        _run_unit_list(props)\n",
    "    elif props.which == 'convert':\n",
    "        _run_conversion(props)\n",
    "```"
   ]
  },
  {
   "cell_type": "markdown",
   "metadata": {},
   "source": [
    "## 来看看 unitconverter 的核心程式 Converter.py\n",
    " \n",
    " * get_table: 回傳一個 table_name 所指定的 unit_table 物件\n",
    " * convert_units: 把用戶指定的數值轉換為以指定單位表示的形式"
   ]
  },
  {
   "cell_type": "code",
   "execution_count": 5,
   "metadata": {
    "ExecuteTime": {
     "end_time": "2018-05-28T15:40:57.276000Z",
     "start_time": "2018-05-28T15:40:57.260000Z"
    },
    "code_folding": [
     3,
     16
    ]
   },
   "outputs": [],
   "source": [
    "'''\n",
    "以下是 Converter.py 內容\n",
    "'''\n",
    "import importlib\n",
    "\n",
    "def get_table(table_name):\n",
    "    \"\"\"\n",
    "    Returns an instance of a unit table given the name of the table.\n",
    "\n",
    "    @param table_name Name of table to retrieve\n",
    "    @return UnitTable instance\n",
    "    \"\"\"\n",
    "\n",
    "    converter_module = importlib.import_module('unitconverter.unit_tables.%s' % table_name)\n",
    "    converter_class = getattr(converter_module, table_name)()\n",
    "    return converter_class\n",
    "\n",
    "\n",
    "def convert_units(table_name, value, value_unit, targets):\n",
    "    \"\"\"\n",
    "    Converts a given value in a unit to a set of target units.\n",
    "\n",
    "    @param table_name Name of table units are contained in\n",
    "    @param value Value to convert\n",
    "    @param value_unit Unit value is currently in\n",
    "    @param targets List of units to convert to\n",
    "    @return List of conversions\n",
    "    \"\"\"\n",
    "\n",
    "    table = get_table(table_name)\n",
    "\n",
    "    results = list() # 之後會存入每筆為 dictionary 的結果\n",
    "    for target in targets:\n",
    "        result = {'dest_unit': target}\n",
    "        try:\n",
    "            result['converted_value'] = table.convert(value_unit, target, value)\n",
    "        except ValueError:\n",
    "            continue\n",
    "        results.append(result)\n",
    "\n",
    "    return results"
   ]
  },
  {
   "cell_type": "code",
   "execution_count": 6,
   "metadata": {},
   "outputs": [],
   "source": [
    "from unitconverter.Converter import get_table, convert_units\n",
    "## 之後就直接使用 get_table, convert_units，而不再提是從 Converter.ps 中所定義的"
   ]
  },
  {
   "cell_type": "code",
   "execution_count": 7,
   "metadata": {},
   "outputs": [],
   "source": [
    "'''\n",
    "先來看 Converter.py 中比較簡單的：convert_units()\n",
    "'''\n",
    "convert_units??"
   ]
  },
  {
   "cell_type": "code",
   "execution_count": 8,
   "metadata": {},
   "outputs": [
    {
     "data": {
      "text/plain": [
       "[{'dest_unit': 'h', 'converted_value': 24.0},\n",
       " {'dest_unit': 'm', 'converted_value': 1440.0}]"
      ]
     },
     "execution_count": 8,
     "metadata": {},
     "output_type": "execute_result"
    }
   ],
   "source": [
    "'''\n",
    "def convert_units(table_name, value, value_unit, targets):\n",
    "'''\n",
    "convert_units('time', 1, 'd', ['h', 'm'])"
   ]
  },
  {
   "cell_type": "code",
   "execution_count": 9,
   "metadata": {},
   "outputs": [],
   "source": [
    "'''\n",
    "另外一個 get_table 就比較需要說明：\n",
    "from unitconverter.Converter import get_table, convert_units\n",
    "'''\n",
    "?get_table"
   ]
  },
  {
   "cell_type": "markdown",
   "metadata": {},
   "source": [
    "## (非常重要！) Converter.py 中的 get_table() 涉及到：\n",
    "1. 在程式裏面，run-time 讀取另一個 module 程式中的某段相關程式碼\n",
    "2. 針對定義一個類別的 type，如何 instantiate 一個相對應的物件：如 time 的 unitTable\n",
    "3. 再從這個 time 的 unitTable 提取出 lambda function 作 list 或是 convert 之用。"
   ]
  },
  {
   "cell_type": "markdown",
   "metadata": {},
   "source": [
    "```python:\n",
    "def get_table(table_name):\n",
    "    \"\"\"\n",
    "    Returns an instance of a unit table given the name of the table.\n",
    "\n",
    "    @param table_name Name of table to retrieve\n",
    "    @return UnitTable instance\n",
    "    \"\"\"\n",
    "    \n",
    "    \"\"\"\n",
    "    這個 importlib 是從目錄中 import 指定的 module\n",
    "    然後，instantiate 一個這個類別的一個物件，\n",
    "    最後回傳。\n",
    "    \"\"\"\n",
    "\n",
    "    converter_module = importlib.import_module('unitconverter.unit_tables.%s' % table_name)\n",
    "    converter_class = getattr(converter_module, table_name)()\n",
    "    return converter_class\n",
    "```"
   ]
  },
  {
   "cell_type": "markdown",
   "metadata": {},
   "source": [
    "##  **get_table(table_name)** code 中，我們專注以下兩行指令：\n",
    "```python:\n",
    "    converter_module = importlib.import_module('unitconverter.unit_tables.%s' % table_name)\n",
    "    converter_class = getattr(converter_module, table_name)()\n",
    "```"
   ]
  },
  {
   "cell_type": "code",
   "execution_count": 10,
   "metadata": {},
   "outputs": [
    {
     "data": {
      "text/plain": [
       "<unitconverter.unit_tables.time.time at 0x126a5050da0>"
      ]
     },
     "execution_count": 10,
     "metadata": {},
     "output_type": "execute_result"
    }
   ],
   "source": [
    "'''\n",
    "試一下 'time'：回傳是一個 time class 的 object\n",
    "'''\n",
    "get_table('time')"
   ]
  },
  {
   "cell_type": "code",
   "execution_count": 11,
   "metadata": {},
   "outputs": [
    {
     "data": {
      "text/plain": [
       "unitconverter.unit_tables.time.time"
      ]
     },
     "execution_count": 11,
     "metadata": {},
     "output_type": "execute_result"
    }
   ],
   "source": [
    "type(get_table('time'))"
   ]
  },
  {
   "cell_type": "code",
   "execution_count": 12,
   "metadata": {},
   "outputs": [
    {
     "name": "stdout",
     "output_type": "stream",
     "text": [
      "Help on time in module unitconverter.unit_tables.time object:\n",
      "\n",
      "class time(unitconverter.UnitTable.UnitTable)\n",
      " |  A class to manage conversion of units for the same quantity (e.g. length,\n",
      " |  volume, mass)\n",
      " |  \n",
      " |  Method resolution order:\n",
      " |      time\n",
      " |      unitconverter.UnitTable.UnitTable\n",
      " |      builtins.object\n",
      " |  \n",
      " |  Methods defined here:\n",
      " |  \n",
      " |  __init__(self)\n",
      " |      Initialize self.  See help(type(self)) for accurate signature.\n",
      " |  \n",
      " |  ----------------------------------------------------------------------\n",
      " |  Methods inherited from unitconverter.UnitTable.UnitTable:\n",
      " |  \n",
      " |  can_convert(self, unit)\n",
      " |      Checks to see if this table can convert a given unit.\n",
      " |      \n",
      " |      @param unit Name of unit to check\n",
      " |      @return Boolean indicating if this unit can be converted\n",
      " |  \n",
      " |  convert(self, source, dest, value)\n",
      " |      Converts a value in one unit to another.\n",
      " |      \n",
      " |      @param source The source unit\n",
      " |      @param dest The destination unit\n",
      " |      @param value The value to convert\n",
      " |      @return The value in the destination unit\n",
      " |  \n",
      " |  get_units(self)\n",
      " |      Returns a list of units that this table can convert.\n",
      " |      \n",
      " |      @return List of valid units\n",
      " |  \n",
      " |  ----------------------------------------------------------------------\n",
      " |  Data descriptors inherited from unitconverter.UnitTable.UnitTable:\n",
      " |  \n",
      " |  __dict__\n",
      " |      dictionary for instance variables (if defined)\n",
      " |  \n",
      " |  __weakref__\n",
      " |      list of weak references to the object (if defined)\n",
      "\n"
     ]
    }
   ],
   "source": [
    "'''\n",
    "我們針對 get_table() 回傳的值 作 help()\n",
    "'''\n",
    "help(get_table('time'))"
   ]
  },
  {
   "cell_type": "code",
   "execution_count": 13,
   "metadata": {},
   "outputs": [
    {
     "data": {
      "text/plain": [
       "{'d', 'h', 'm', 'ms', 'ns', 's', 'us', 'y'}"
      ]
     },
     "execution_count": 13,
     "metadata": {},
     "output_type": "execute_result"
    }
   ],
   "source": [
    "'''\n",
    "time 這個表格的 object，一共定義幾個單位\n",
    "'''\n",
    "get_table('time').get_units()"
   ]
  },
  {
   "cell_type": "code",
   "execution_count": 14,
   "metadata": {},
   "outputs": [
    {
     "data": {
      "text/plain": [
       "True"
      ]
     },
     "execution_count": 14,
     "metadata": {},
     "output_type": "execute_result"
    }
   ],
   "source": [
    "get_table('time').can_convert(\"m\")"
   ]
  },
  {
   "cell_type": "code",
   "execution_count": 15,
   "metadata": {},
   "outputs": [
    {
     "data": {
      "text/plain": [
       "False"
      ]
     },
     "execution_count": 15,
     "metadata": {},
     "output_type": "execute_result"
    }
   ],
   "source": [
    "get_table('time').can_convert(\"j\")"
   ]
  },
  {
   "cell_type": "code",
   "execution_count": 16,
   "metadata": {},
   "outputs": [
    {
     "data": {
      "text/plain": [
       "<unitconverter.unit_tables.time.time at 0x126a5050eb8>"
      ]
     },
     "execution_count": 16,
     "metadata": {},
     "output_type": "execute_result"
    }
   ],
   "source": [
    "get_table('time')"
   ]
  },
  {
   "cell_type": "code",
   "execution_count": 17,
   "metadata": {},
   "outputs": [
    {
     "data": {
      "text/plain": [
       "{'base_unit': 's',\n",
       " 'to_base_unit': {'m': <function unitconverter.unit_tables.time.time.__init__.<locals>.<lambda>(x)>,\n",
       "  'h': <function unitconverter.unit_tables.time.time.__init__.<locals>.<lambda>(x)>,\n",
       "  'd': <function unitconverter.unit_tables.time.time.__init__.<locals>.<lambda>(x)>,\n",
       "  'y': <function unitconverter.unit_tables.time.time.__init__.<locals>.<lambda>(x)>,\n",
       "  'ms': <function unitconverter.unit_tables.time.time.__init__.<locals>.<lambda>(x)>,\n",
       "  'us': <function unitconverter.unit_tables.time.time.__init__.<locals>.<lambda>(x)>,\n",
       "  'ns': <function unitconverter.unit_tables.time.time.__init__.<locals>.<lambda>(x)>},\n",
       " 'from_base_unit': {'m': <function unitconverter.unit_tables.time.time.__init__.<locals>.<lambda>(x)>,\n",
       "  'h': <function unitconverter.unit_tables.time.time.__init__.<locals>.<lambda>(x)>,\n",
       "  'd': <function unitconverter.unit_tables.time.time.__init__.<locals>.<lambda>(x)>,\n",
       "  'y': <function unitconverter.unit_tables.time.time.__init__.<locals>.<lambda>(x)>,\n",
       "  'ms': <function unitconverter.unit_tables.time.time.__init__.<locals>.<lambda>(x)>,\n",
       "  'us': <function unitconverter.unit_tables.time.time.__init__.<locals>.<lambda>(x)>,\n",
       "  'ns': <function unitconverter.unit_tables.time.time.__init__.<locals>.<lambda>(x)>}}"
      ]
     },
     "execution_count": 17,
     "metadata": {},
     "output_type": "execute_result"
    }
   ],
   "source": [
    "'''\n",
    "對於以上所 instantiated 出來的 time object，\n",
    "有那些最重要的 attributes？\n",
    "'''\n",
    "get_table('time').__dict__"
   ]
  },
  {
   "cell_type": "markdown",
   "metadata": {},
   "source": [
    "##  Converter.py 這僅含 function 定義的 module 中，\n",
    "其 **get_table()** 如何載入一個 py 檔的 module，\\\n",
    "在其為一個 class 時，如何 instantiate 一個相對應的 object？\n",
    "\n",
    "## 眉角在哪？\n",
    "\n",
    "怎麼樣能夠 動態性 (run-time) 地 import module，\n",
    "然後又 instantiate 該類別的一個 object"
   ]
  },
  {
   "cell_type": "code",
   "execution_count": 21,
   "metadata": {},
   "outputs": [
    {
     "data": {
      "text/plain": [
       "<module 'unitconverter.unit_tables.time' from 'D:\\\\Google雲端硬碟\\\\GettingStartedWithPythonAndRaspberryPi-book_release\\\\Chapter09\\\\unitconverter\\\\unitconverter\\\\unit_tables\\\\time.py'>"
      ]
     },
     "execution_count": 21,
     "metadata": {},
     "output_type": "execute_result"
    }
   ],
   "source": [
    "'''\n",
    "使用 importlib.import_module() 將一個 py 結尾的檔案讀入\n",
    "'''\n",
    "converter_module = importlib.import_module('unitconverter.unit_tables.%s' % \"time\")\n",
    "converter_module"
   ]
  },
  {
   "cell_type": "code",
   "execution_count": 22,
   "metadata": {},
   "outputs": [
    {
     "name": "stdout",
     "output_type": "stream",
     "text": [
      "<module 'unitconverter.unit_tables.time' from 'D:\\\\Google雲端硬碟\\\\GettingStartedWithPythonAndRaspberryPi-book_release\\\\Chapter09\\\\unitconverter\\\\unitconverter\\\\unit_tables\\\\time.py'>\n"
     ]
    }
   ],
   "source": [
    "print(converter_module)"
   ]
  },
  {
   "cell_type": "code",
   "execution_count": 23,
   "metadata": {},
   "outputs": [
    {
     "data": {
      "text/plain": [
       "{'__name__': 'unitconverter.unit_tables.time',\n",
       " '__doc__': None,\n",
       " '__package__': 'unitconverter.unit_tables',\n",
       " '__loader__': <_frozen_importlib_external.SourceFileLoader at 0x126a5050588>,\n",
       " '__spec__': ModuleSpec(name='unitconverter.unit_tables.time', loader=<_frozen_importlib_external.SourceFileLoader object at 0x00000126A5050588>, origin='D:\\\\Google雲端硬碟\\\\GettingStartedWithPythonAndRaspberryPi-book_release\\\\Chapter09\\\\unitconverter\\\\unitconverter\\\\unit_tables\\\\time.py'),\n",
       " '__file__': 'D:\\\\Google雲端硬碟\\\\GettingStartedWithPythonAndRaspberryPi-book_release\\\\Chapter09\\\\unitconverter\\\\unitconverter\\\\unit_tables\\\\time.py',\n",
       " '__cached__': 'D:\\\\Google雲端硬碟\\\\GettingStartedWithPythonAndRaspberryPi-book_release\\\\Chapter09\\\\unitconverter\\\\unitconverter\\\\unit_tables\\\\__pycache__\\\\time.cpython-37.pyc',\n",
       " '__builtins__': {'__name__': 'builtins',\n",
       "  '__doc__': \"Built-in functions, exceptions, and other objects.\\n\\nNoteworthy: None is the `nil' object; Ellipsis represents `...' in slices.\",\n",
       "  '__package__': '',\n",
       "  '__loader__': _frozen_importlib.BuiltinImporter,\n",
       "  '__spec__': ModuleSpec(name='builtins', loader=<class '_frozen_importlib.BuiltinImporter'>),\n",
       "  '__build_class__': <function __build_class__>,\n",
       "  '__import__': <function __import__>,\n",
       "  'abs': <function abs(x, /)>,\n",
       "  'all': <function all(iterable, /)>,\n",
       "  'any': <function any(iterable, /)>,\n",
       "  'ascii': <function ascii(obj, /)>,\n",
       "  'bin': <function bin(number, /)>,\n",
       "  'breakpoint': <function breakpoint>,\n",
       "  'callable': <function callable(obj, /)>,\n",
       "  'chr': <function chr(i, /)>,\n",
       "  'compile': <function compile(source, filename, mode, flags=0, dont_inherit=False, optimize=-1)>,\n",
       "  'delattr': <function delattr(obj, name, /)>,\n",
       "  'dir': <function dir>,\n",
       "  'divmod': <function divmod(x, y, /)>,\n",
       "  'eval': <function eval(source, globals=None, locals=None, /)>,\n",
       "  'exec': <function exec(source, globals=None, locals=None, /)>,\n",
       "  'format': <function format(value, format_spec='', /)>,\n",
       "  'getattr': <function getattr>,\n",
       "  'globals': <function globals()>,\n",
       "  'hasattr': <function hasattr(obj, name, /)>,\n",
       "  'hash': <function hash(obj, /)>,\n",
       "  'hex': <function hex(number, /)>,\n",
       "  'id': <function id(obj, /)>,\n",
       "  'input': <bound method Kernel.raw_input of <ipykernel.ipkernel.IPythonKernel object at 0x00000126A4F64AC8>>,\n",
       "  'isinstance': <function isinstance(obj, class_or_tuple, /)>,\n",
       "  'issubclass': <function issubclass(cls, class_or_tuple, /)>,\n",
       "  'iter': <function iter>,\n",
       "  'len': <function len(obj, /)>,\n",
       "  'locals': <function locals()>,\n",
       "  'max': <function max>,\n",
       "  'min': <function min>,\n",
       "  'next': <function next>,\n",
       "  'oct': <function oct(number, /)>,\n",
       "  'ord': <function ord(c, /)>,\n",
       "  'pow': <function pow(x, y, z=None, /)>,\n",
       "  'print': <function print>,\n",
       "  'repr': <function repr(obj, /)>,\n",
       "  'round': <function round(number, ndigits=None)>,\n",
       "  'setattr': <function setattr(obj, name, value, /)>,\n",
       "  'sorted': <function sorted(iterable, /, *, key=None, reverse=False)>,\n",
       "  'sum': <function sum(iterable, start=0, /)>,\n",
       "  'vars': <function vars>,\n",
       "  'None': None,\n",
       "  'Ellipsis': Ellipsis,\n",
       "  'NotImplemented': NotImplemented,\n",
       "  'False': False,\n",
       "  'True': True,\n",
       "  'bool': bool,\n",
       "  'memoryview': memoryview,\n",
       "  'bytearray': bytearray,\n",
       "  'bytes': bytes,\n",
       "  'classmethod': classmethod,\n",
       "  'complex': complex,\n",
       "  'dict': dict,\n",
       "  'enumerate': enumerate,\n",
       "  'filter': filter,\n",
       "  'float': float,\n",
       "  'frozenset': frozenset,\n",
       "  'property': property,\n",
       "  'int': int,\n",
       "  'list': list,\n",
       "  'map': map,\n",
       "  'object': object,\n",
       "  'range': range,\n",
       "  'reversed': reversed,\n",
       "  'set': set,\n",
       "  'slice': slice,\n",
       "  'staticmethod': staticmethod,\n",
       "  'str': str,\n",
       "  'super': super,\n",
       "  'tuple': tuple,\n",
       "  'type': type,\n",
       "  'zip': zip,\n",
       "  '__debug__': True,\n",
       "  'BaseException': BaseException,\n",
       "  'Exception': Exception,\n",
       "  'TypeError': TypeError,\n",
       "  'StopAsyncIteration': StopAsyncIteration,\n",
       "  'StopIteration': StopIteration,\n",
       "  'GeneratorExit': GeneratorExit,\n",
       "  'SystemExit': SystemExit,\n",
       "  'KeyboardInterrupt': KeyboardInterrupt,\n",
       "  'ImportError': ImportError,\n",
       "  'ModuleNotFoundError': ModuleNotFoundError,\n",
       "  'OSError': OSError,\n",
       "  'EnvironmentError': OSError,\n",
       "  'IOError': OSError,\n",
       "  'WindowsError': OSError,\n",
       "  'EOFError': EOFError,\n",
       "  'RuntimeError': RuntimeError,\n",
       "  'RecursionError': RecursionError,\n",
       "  'NotImplementedError': NotImplementedError,\n",
       "  'NameError': NameError,\n",
       "  'UnboundLocalError': UnboundLocalError,\n",
       "  'AttributeError': AttributeError,\n",
       "  'SyntaxError': SyntaxError,\n",
       "  'IndentationError': IndentationError,\n",
       "  'TabError': TabError,\n",
       "  'LookupError': LookupError,\n",
       "  'IndexError': IndexError,\n",
       "  'KeyError': KeyError,\n",
       "  'ValueError': ValueError,\n",
       "  'UnicodeError': UnicodeError,\n",
       "  'UnicodeEncodeError': UnicodeEncodeError,\n",
       "  'UnicodeDecodeError': UnicodeDecodeError,\n",
       "  'UnicodeTranslateError': UnicodeTranslateError,\n",
       "  'AssertionError': AssertionError,\n",
       "  'ArithmeticError': ArithmeticError,\n",
       "  'FloatingPointError': FloatingPointError,\n",
       "  'OverflowError': OverflowError,\n",
       "  'ZeroDivisionError': ZeroDivisionError,\n",
       "  'SystemError': SystemError,\n",
       "  'ReferenceError': ReferenceError,\n",
       "  'MemoryError': MemoryError,\n",
       "  'BufferError': BufferError,\n",
       "  'Warning': Warning,\n",
       "  'UserWarning': UserWarning,\n",
       "  'DeprecationWarning': DeprecationWarning,\n",
       "  'PendingDeprecationWarning': PendingDeprecationWarning,\n",
       "  'SyntaxWarning': SyntaxWarning,\n",
       "  'RuntimeWarning': RuntimeWarning,\n",
       "  'FutureWarning': FutureWarning,\n",
       "  'ImportWarning': ImportWarning,\n",
       "  'UnicodeWarning': UnicodeWarning,\n",
       "  'BytesWarning': BytesWarning,\n",
       "  'ResourceWarning': ResourceWarning,\n",
       "  'ConnectionError': ConnectionError,\n",
       "  'BlockingIOError': BlockingIOError,\n",
       "  'BrokenPipeError': BrokenPipeError,\n",
       "  'ChildProcessError': ChildProcessError,\n",
       "  'ConnectionAbortedError': ConnectionAbortedError,\n",
       "  'ConnectionRefusedError': ConnectionRefusedError,\n",
       "  'ConnectionResetError': ConnectionResetError,\n",
       "  'FileExistsError': FileExistsError,\n",
       "  'FileNotFoundError': FileNotFoundError,\n",
       "  'IsADirectoryError': IsADirectoryError,\n",
       "  'NotADirectoryError': NotADirectoryError,\n",
       "  'InterruptedError': InterruptedError,\n",
       "  'PermissionError': PermissionError,\n",
       "  'ProcessLookupError': ProcessLookupError,\n",
       "  'TimeoutError': TimeoutError,\n",
       "  'open': <function io.open(file, mode='r', buffering=-1, encoding=None, errors=None, newline=None, closefd=True, opener=None)>,\n",
       "  'copyright': Copyright (c) 2001-2018 Python Software Foundation.\n",
       "  All Rights Reserved.\n",
       "  \n",
       "  Copyright (c) 2000 BeOpen.com.\n",
       "  All Rights Reserved.\n",
       "  \n",
       "  Copyright (c) 1995-2001 Corporation for National Research Initiatives.\n",
       "  All Rights Reserved.\n",
       "  \n",
       "  Copyright (c) 1991-1995 Stichting Mathematisch Centrum, Amsterdam.\n",
       "  All Rights Reserved.,\n",
       "  'credits':     Thanks to CWI, CNRI, BeOpen.com, Zope Corporation and a cast of thousands\n",
       "      for supporting Python development.  See www.python.org for more information.,\n",
       "  'license': See https://www.python.org/psf/license/,\n",
       "  'help': Type help() for interactive help, or help(object) for help about object.,\n",
       "  '__IPYTHON__': True,\n",
       "  'display': <function IPython.core.display.display(*objs, include=None, exclude=None, metadata=None, transient=None, display_id=None, **kwargs)>,\n",
       "  'get_ipython': <bound method InteractiveShell.get_ipython of <ipykernel.zmqshell.ZMQInteractiveShell object at 0x00000126A43E33C8>>},\n",
       " 'UnitTable': <module 'unitconverter.UnitTable' from 'D:\\\\Google雲端硬碟\\\\GettingStartedWithPythonAndRaspberryPi-book_release\\\\Chapter09\\\\unitconverter\\\\unitconverter\\\\UnitTable.py'>,\n",
       " 'time': unitconverter.unit_tables.time.time}"
      ]
     },
     "execution_count": 23,
     "metadata": {},
     "output_type": "execute_result"
    }
   ],
   "source": [
    "'''\n",
    "這 module 有很多的屬性，可以用 .__dict__ 讀出來\n",
    "'''\n",
    "converter_module.__dict__"
   ]
  },
  {
   "cell_type": "code",
   "execution_count": 25,
   "metadata": {},
   "outputs": [
    {
     "data": {
      "text/plain": [
       "unitconverter.unit_tables.time.time"
      ]
     },
     "execution_count": 25,
     "metadata": {},
     "output_type": "execute_result"
    }
   ],
   "source": [
    "'''\n",
    "這屬性的條列很像是 dictionary，可以用 key 來查詢\n",
    "得到的結果是一個 class\n",
    "'''\n",
    "a = converter_module.__dict__[\"time\"]\n",
    "a"
   ]
  },
  {
   "cell_type": "code",
   "execution_count": 26,
   "metadata": {},
   "outputs": [
    {
     "name": "stdout",
     "output_type": "stream",
     "text": [
      "<class 'unitconverter.unit_tables.time.time'>\n"
     ]
    }
   ],
   "source": [
    "print(a)"
   ]
  },
  {
   "cell_type": "code",
   "execution_count": 27,
   "metadata": {},
   "outputs": [
    {
     "data": {
      "text/plain": [
       "type"
      ]
     },
     "execution_count": 27,
     "metadata": {},
     "output_type": "execute_result"
    }
   ],
   "source": [
    "type(a)"
   ]
  },
  {
   "cell_type": "code",
   "execution_count": 28,
   "metadata": {},
   "outputs": [
    {
     "data": {
      "text/plain": [
       "<unitconverter.unit_tables.time.time at 0x126a5056978>"
      ]
     },
     "execution_count": 28,
     "metadata": {},
     "output_type": "execute_result"
    }
   ],
   "source": [
    "a()"
   ]
  },
  {
   "cell_type": "code",
   "execution_count": 29,
   "metadata": {},
   "outputs": [
    {
     "data": {
      "text/plain": [
       "<unitconverter.unit_tables.time.time at 0x126a5056da0>"
      ]
     },
     "execution_count": 29,
     "metadata": {},
     "output_type": "execute_result"
    }
   ],
   "source": [
    "'''\n",
    "我們可以直接 instantiate 一個這樣的物件\n",
    "注意後面的 (), 這與我們要 instantiate 一個物件用 time.time() 一樣\n",
    "'''\n",
    "converter_module.__dict__[\"time\"]()"
   ]
  },
  {
   "cell_type": "code",
   "execution_count": 30,
   "metadata": {},
   "outputs": [
    {
     "data": {
      "text/plain": [
       "<unitconverter.unit_tables.time.time at 0x126a5056e10>"
      ]
     },
     "execution_count": 30,
     "metadata": {},
     "output_type": "execute_result"
    }
   ],
   "source": [
    "'''\n",
    "我們將上述的流程寫成指令\n",
    "\n",
    "以下是課本的寫法，用 converter_class，\n",
    "但~\n",
    "其實回傳的是 instance，並不是 class\n",
    "而是一個 type\n",
    "'''\n",
    "converter_class = getattr(converter_module, \"time\")()\n",
    "converter_class"
   ]
  },
  {
   "cell_type": "code",
   "execution_count": 31,
   "metadata": {},
   "outputs": [
    {
     "data": {
      "text/plain": [
       "unitconverter.unit_tables.time.time"
      ]
     },
     "execution_count": 31,
     "metadata": {},
     "output_type": "execute_result"
    }
   ],
   "source": [
    "type(converter_class)\n",
    "# 它是一個 object"
   ]
  },
  {
   "cell_type": "code",
   "execution_count": 32,
   "metadata": {},
   "outputs": [
    {
     "data": {
      "text/plain": [
       "{'base_unit': 's',\n",
       " 'to_base_unit': {'m': <function unitconverter.unit_tables.time.time.__init__.<locals>.<lambda>(x)>,\n",
       "  'h': <function unitconverter.unit_tables.time.time.__init__.<locals>.<lambda>(x)>,\n",
       "  'd': <function unitconverter.unit_tables.time.time.__init__.<locals>.<lambda>(x)>,\n",
       "  'y': <function unitconverter.unit_tables.time.time.__init__.<locals>.<lambda>(x)>,\n",
       "  'ms': <function unitconverter.unit_tables.time.time.__init__.<locals>.<lambda>(x)>,\n",
       "  'us': <function unitconverter.unit_tables.time.time.__init__.<locals>.<lambda>(x)>,\n",
       "  'ns': <function unitconverter.unit_tables.time.time.__init__.<locals>.<lambda>(x)>},\n",
       " 'from_base_unit': {'m': <function unitconverter.unit_tables.time.time.__init__.<locals>.<lambda>(x)>,\n",
       "  'h': <function unitconverter.unit_tables.time.time.__init__.<locals>.<lambda>(x)>,\n",
       "  'd': <function unitconverter.unit_tables.time.time.__init__.<locals>.<lambda>(x)>,\n",
       "  'y': <function unitconverter.unit_tables.time.time.__init__.<locals>.<lambda>(x)>,\n",
       "  'ms': <function unitconverter.unit_tables.time.time.__init__.<locals>.<lambda>(x)>,\n",
       "  'us': <function unitconverter.unit_tables.time.time.__init__.<locals>.<lambda>(x)>,\n",
       "  'ns': <function unitconverter.unit_tables.time.time.__init__.<locals>.<lambda>(x)>}}"
      ]
     },
     "execution_count": 32,
     "metadata": {},
     "output_type": "execute_result"
    }
   ],
   "source": [
    "'''\n",
    "這樣所建置出來的 object 內含的 attributes 可用 __dict__ 得到：\n",
    "'''\n",
    "converter_class.__dict__"
   ]
  },
  {
   "cell_type": "code",
   "execution_count": 33,
   "metadata": {},
   "outputs": [
    {
     "data": {
      "text/plain": [
       "'s'"
      ]
     },
     "execution_count": 33,
     "metadata": {},
     "output_type": "execute_result"
    }
   ],
   "source": [
    "converter_class.base_unit"
   ]
  },
  {
   "cell_type": "markdown",
   "metadata": {},
   "source": [
    "## 接下來看： lambda function 的使用\n",
    "\n",
    "它是一個 function，但這個 function 有一個 key 可當作參數，調整為面向不同的「參數」。\\\n",
    "取決於不同的 source，叫作同名的 self.to_base_unit(value) 會有不同的定義 \\\n",
    "self.to_base_unit\\[source\\](value)"
   ]
  },
  {
   "cell_type": "code",
   "execution_count": 34,
   "metadata": {},
   "outputs": [
    {
     "data": {
      "text/plain": [
       "<function unitconverter.unit_tables.time.time.__init__.<locals>.<lambda>(x)>"
      ]
     },
     "execution_count": 34,
     "metadata": {},
     "output_type": "execute_result"
    }
   ],
   "source": [
    "'''\n",
    "我們看到 converter_class.__dict__ 是一個 dict，\n",
    "對於 converter_class 這個物件的各個 attribute，\n",
    "它都會有一些特性，藏在以 dictionary 的 (key: valuse) 中。\n",
    "\n",
    "而如果用 'to_base_unit' 為 key 去查詢，發現它的值也是一個 dict，\n",
    "裏面記的 key 是各種單位，而 value 則是相對應其轉換至 base 的公式，\n",
    "\n",
    "'to_base_unit': {'m': <function unitconverter.unit_tables.time.time.__init__.<locals>.<lambda>(x)>,\n",
    "  'h': <function unitconverter.unit_tables.time.time.__init__.<locals>.<lambda>(x)>,\n",
    "  'd': <function unitconverter.unit_tables.time.time.__init__.<locals>.<lambda>(x)>,\n",
    "  'y': <function unitconverter.unit_tables.time.time.__init__.<locals>.<lambda>(x)>,\n",
    "  'ms': <function unitconverter.unit_tables.time.time.__init__.<locals>.<lambda>(x)>,\n",
    "  'us': <function unitconverter.unit_tables.time.time.__init__.<locals>.<lambda>(x)>,\n",
    "  'ns': <function unitconverter.unit_tables.time.time.__init__.<locals>.<lambda>(x)>},\n",
    "  \n",
    "這個後面的  [\"d\"] 從上面的 .__dict__ 可看出，是一個 dictionary 的查詢概念\n",
    "'''\n",
    "converter_class.to_base_unit[\"d\"]\n",
    "# 他的查詢結果就是一個 lambda function"
   ]
  },
  {
   "cell_type": "code",
   "execution_count": 36,
   "metadata": {},
   "outputs": [
    {
     "name": "stdout",
     "output_type": "stream",
     "text": [
      "Unit table time can convert between the units:\n",
      "d (x / 86400.0)\n",
      "us (x * 1000000.0)\n",
      "h (x / 3600.0)\n",
      "s (base unit)\n",
      "y (x / 3.15569e7)\n",
      "ms (x * 1000.0)\n",
      "ns (x * 1000000000.0)\n",
      "m (x / 60.0)\n"
     ]
    }
   ],
   "source": [
    "!unitconvert time list -m"
   ]
  },
  {
   "cell_type": "markdown",
   "metadata": {},
   "source": [
    "## inspect module in python\n",
    "**The *inspect* module provides several useful functions to help get information about live objects such as modules, classes, methods, functions, tracebacks, frame objects, and code objects. **\n",
    "\n",
    "在我們執要環境中的 modules, classes, methods, functions,...等，一定都是從 code 來的，我們會想要知道其相對應的 code 為何？ \\\n",
    "→ inspect module\n",
    "\n",
    "## inspect — Inspect live objects\n",
    "https://docs.python.org/3/library/inspect.html\n"
   ]
  },
  {
   "cell_type": "markdown",
   "metadata": {},
   "source": [
    "## Python: Using the inspect module to get line numbers and other information\n",
    "\n",
    "這個教學影片講解程式執行出現錯誤時 traceboack 的資訊是怎麼來的？\n",
    "https://www.youtube.com/watch?v=myTz-ZDkO6Q"
   ]
  },
  {
   "cell_type": "code",
   "execution_count": 37,
   "metadata": {},
   "outputs": [
    {
     "data": {
      "text/html": [
       "<iframe width=\"560\" height=\"315\" src=\"https://www.youtube.com/embed/myTz-ZDkO6Q\" frameborder=\"0\" allow=\"accelerometer; autoplay; clipboard-write; encrypted-media; gyroscope; picture-in-picture\" allowfullscreen></iframe>\n"
      ],
      "text/plain": [
       "<IPython.core.display.HTML object>"
      ]
     },
     "metadata": {},
     "output_type": "display_data"
    }
   ],
   "source": [
    "%%HTML\n",
    "<iframe width=\"560\" height=\"315\" src=\"https://www.youtube.com/embed/myTz-ZDkO6Q\" frameborder=\"0\" allow=\"accelerometer; autoplay; clipboard-write; encrypted-media; gyroscope; picture-in-picture\" allowfullscreen></iframe>"
   ]
  },
  {
   "cell_type": "code",
   "execution_count": 38,
   "metadata": {},
   "outputs": [
    {
     "data": {
      "text/plain": [
       "function"
      ]
     },
     "execution_count": 38,
     "metadata": {},
     "output_type": "execute_result"
    }
   ],
   "source": [
    "type(converter_class.to_base_unit[\"d\"])"
   ]
  },
  {
   "cell_type": "code",
   "execution_count": 41,
   "metadata": {},
   "outputs": [
    {
     "data": {
      "text/plain": [
       "\"        self.to_base_unit['d'] = lambda x: x * 86400.0\\n\""
      ]
     },
     "execution_count": 41,
     "metadata": {},
     "output_type": "execute_result"
    }
   ],
   "source": [
    "# 進去看相對應的程式碼\n",
    "import inspect\n",
    "inspect.getsource(converter_class.to_base_unit[\"d\"])"
   ]
  },
  {
   "cell_type": "code",
   "execution_count": 42,
   "metadata": {},
   "outputs": [
    {
     "data": {
      "text/plain": [
       "'    def convert(self, source, dest, value):\\n        \"\"\"\\n        Converts a value in one unit to another.\\n\\n        @param source The source unit\\n        @param dest The destination unit\\n        @param value The value to convert\\n        @return The value in the destination unit\\n        \"\"\"\\n\\n        if not (self.can_convert(source) and self.can_convert(dest)):\\n            raise ValueError(\\'Cannot convert given units\\')\\n\\n        if source != self.base_unit:\\n            value = self.to_base_unit[source](value)\\n\\n        if dest != self.base_unit:\\n            value = self.from_base_unit[dest](value)\\n\\n        return value\\n'"
      ]
     },
     "execution_count": 42,
     "metadata": {},
     "output_type": "execute_result"
    }
   ],
   "source": [
    "inspect.getsource(converter_class.convert)"
   ]
  },
  {
   "cell_type": "code",
   "execution_count": 43,
   "metadata": {},
   "outputs": [
    {
     "name": "stdout",
     "output_type": "stream",
     "text": [
      "    def convert(self, source, dest, value):\n",
      "        \"\"\"\n",
      "        Converts a value in one unit to another.\n",
      "\n",
      "        @param source The source unit\n",
      "        @param dest The destination unit\n",
      "        @param value The value to convert\n",
      "        @return The value in the destination unit\n",
      "        \"\"\"\n",
      "\n",
      "        if not (self.can_convert(source) and self.can_convert(dest)):\n",
      "            raise ValueError('Cannot convert given units')\n",
      "\n",
      "        if source != self.base_unit:\n",
      "            value = self.to_base_unit[source](value)\n",
      "\n",
      "        if dest != self.base_unit:\n",
      "            value = self.from_base_unit[dest](value)\n",
      "\n",
      "        return value\n",
      "\n"
     ]
    }
   ],
   "source": [
    "print(inspect.getsource(converter_class.convert))"
   ]
  },
  {
   "cell_type": "code",
   "execution_count": 44,
   "metadata": {},
   "outputs": [
    {
     "data": {
      "text/plain": [
       "str"
      ]
     },
     "execution_count": 44,
     "metadata": {},
     "output_type": "execute_result"
    }
   ],
   "source": [
    "type(converter_class.base_unit)"
   ]
  },
  {
   "cell_type": "code",
   "execution_count": 45,
   "metadata": {},
   "outputs": [
    {
     "ename": "TypeError",
     "evalue": "module, class, method, function, traceback, frame, or code object was expected, got str",
     "output_type": "error",
     "traceback": [
      "\u001b[1;31m---------------------------------------------------------------------------\u001b[0m",
      "\u001b[1;31mTypeError\u001b[0m                                 Traceback (most recent call last)",
      "\u001b[1;32m<ipython-input-45-02a7fb73b755>\u001b[0m in \u001b[0;36m<module>\u001b[1;34m\u001b[0m\n\u001b[0;32m      1\u001b[0m \u001b[1;31m# 但如果是 str 的話，就沒辦法看原始碼了\u001b[0m\u001b[1;33m\u001b[0m\u001b[1;33m\u001b[0m\u001b[1;33m\u001b[0m\u001b[0m\n\u001b[1;32m----> 2\u001b[1;33m \u001b[0minspect\u001b[0m\u001b[1;33m.\u001b[0m\u001b[0mgetsource\u001b[0m\u001b[1;33m(\u001b[0m\u001b[0mconverter_class\u001b[0m\u001b[1;33m.\u001b[0m\u001b[0mbase_unit\u001b[0m\u001b[1;33m)\u001b[0m\u001b[1;33m\u001b[0m\u001b[1;33m\u001b[0m\u001b[0m\n\u001b[0m",
      "\u001b[1;32mC:\\Users\\Public\\Anaconda3\\lib\\inspect.py\u001b[0m in \u001b[0;36mgetsource\u001b[1;34m(object)\u001b[0m\n\u001b[0;32m    971\u001b[0m     \u001b[1;32mor\u001b[0m \u001b[0mcode\u001b[0m \u001b[0mobject\u001b[0m\u001b[1;33m.\u001b[0m  \u001b[0mThe\u001b[0m \u001b[0msource\u001b[0m \u001b[0mcode\u001b[0m \u001b[1;32mis\u001b[0m \u001b[0mreturned\u001b[0m \u001b[1;32mas\u001b[0m \u001b[0ma\u001b[0m \u001b[0msingle\u001b[0m \u001b[0mstring\u001b[0m\u001b[1;33m.\u001b[0m  \u001b[0mAn\u001b[0m\u001b[1;33m\u001b[0m\u001b[1;33m\u001b[0m\u001b[0m\n\u001b[0;32m    972\u001b[0m     OSError is raised if the source code cannot be retrieved.\"\"\"\n\u001b[1;32m--> 973\u001b[1;33m     \u001b[0mlines\u001b[0m\u001b[1;33m,\u001b[0m \u001b[0mlnum\u001b[0m \u001b[1;33m=\u001b[0m \u001b[0mgetsourcelines\u001b[0m\u001b[1;33m(\u001b[0m\u001b[0mobject\u001b[0m\u001b[1;33m)\u001b[0m\u001b[1;33m\u001b[0m\u001b[1;33m\u001b[0m\u001b[0m\n\u001b[0m\u001b[0;32m    974\u001b[0m     \u001b[1;32mreturn\u001b[0m \u001b[1;34m''\u001b[0m\u001b[1;33m.\u001b[0m\u001b[0mjoin\u001b[0m\u001b[1;33m(\u001b[0m\u001b[0mlines\u001b[0m\u001b[1;33m)\u001b[0m\u001b[1;33m\u001b[0m\u001b[1;33m\u001b[0m\u001b[0m\n\u001b[0;32m    975\u001b[0m \u001b[1;33m\u001b[0m\u001b[0m\n",
      "\u001b[1;32mC:\\Users\\Public\\Anaconda3\\lib\\inspect.py\u001b[0m in \u001b[0;36mgetsourcelines\u001b[1;34m(object)\u001b[0m\n\u001b[0;32m    953\u001b[0m     raised if the source code cannot be retrieved.\"\"\"\n\u001b[0;32m    954\u001b[0m     \u001b[0mobject\u001b[0m \u001b[1;33m=\u001b[0m \u001b[0munwrap\u001b[0m\u001b[1;33m(\u001b[0m\u001b[0mobject\u001b[0m\u001b[1;33m)\u001b[0m\u001b[1;33m\u001b[0m\u001b[1;33m\u001b[0m\u001b[0m\n\u001b[1;32m--> 955\u001b[1;33m     \u001b[0mlines\u001b[0m\u001b[1;33m,\u001b[0m \u001b[0mlnum\u001b[0m \u001b[1;33m=\u001b[0m \u001b[0mfindsource\u001b[0m\u001b[1;33m(\u001b[0m\u001b[0mobject\u001b[0m\u001b[1;33m)\u001b[0m\u001b[1;33m\u001b[0m\u001b[1;33m\u001b[0m\u001b[0m\n\u001b[0m\u001b[0;32m    956\u001b[0m \u001b[1;33m\u001b[0m\u001b[0m\n\u001b[0;32m    957\u001b[0m     \u001b[1;32mif\u001b[0m \u001b[0mistraceback\u001b[0m\u001b[1;33m(\u001b[0m\u001b[0mobject\u001b[0m\u001b[1;33m)\u001b[0m\u001b[1;33m:\u001b[0m\u001b[1;33m\u001b[0m\u001b[1;33m\u001b[0m\u001b[0m\n",
      "\u001b[1;32mC:\\Users\\Public\\Anaconda3\\lib\\inspect.py\u001b[0m in \u001b[0;36mfindsource\u001b[1;34m(object)\u001b[0m\n\u001b[0;32m    766\u001b[0m     is raised if the source code cannot be retrieved.\"\"\"\n\u001b[0;32m    767\u001b[0m \u001b[1;33m\u001b[0m\u001b[0m\n\u001b[1;32m--> 768\u001b[1;33m     \u001b[0mfile\u001b[0m \u001b[1;33m=\u001b[0m \u001b[0mgetsourcefile\u001b[0m\u001b[1;33m(\u001b[0m\u001b[0mobject\u001b[0m\u001b[1;33m)\u001b[0m\u001b[1;33m\u001b[0m\u001b[1;33m\u001b[0m\u001b[0m\n\u001b[0m\u001b[0;32m    769\u001b[0m     \u001b[1;32mif\u001b[0m \u001b[0mfile\u001b[0m\u001b[1;33m:\u001b[0m\u001b[1;33m\u001b[0m\u001b[1;33m\u001b[0m\u001b[0m\n\u001b[0;32m    770\u001b[0m         \u001b[1;31m# Invalidate cache if needed.\u001b[0m\u001b[1;33m\u001b[0m\u001b[1;33m\u001b[0m\u001b[1;33m\u001b[0m\u001b[0m\n",
      "\u001b[1;32mC:\\Users\\Public\\Anaconda3\\lib\\inspect.py\u001b[0m in \u001b[0;36mgetsourcefile\u001b[1;34m(object)\u001b[0m\n\u001b[0;32m    682\u001b[0m     \u001b[0mReturn\u001b[0m \u001b[1;32mNone\u001b[0m \u001b[1;32mif\u001b[0m \u001b[0mno\u001b[0m \u001b[0mway\u001b[0m \u001b[0mcan\u001b[0m \u001b[0mbe\u001b[0m \u001b[0midentified\u001b[0m \u001b[0mto\u001b[0m \u001b[0mget\u001b[0m \u001b[0mthe\u001b[0m \u001b[0msource\u001b[0m\u001b[1;33m.\u001b[0m\u001b[1;33m\u001b[0m\u001b[1;33m\u001b[0m\u001b[0m\n\u001b[0;32m    683\u001b[0m     \"\"\"\n\u001b[1;32m--> 684\u001b[1;33m     \u001b[0mfilename\u001b[0m \u001b[1;33m=\u001b[0m \u001b[0mgetfile\u001b[0m\u001b[1;33m(\u001b[0m\u001b[0mobject\u001b[0m\u001b[1;33m)\u001b[0m\u001b[1;33m\u001b[0m\u001b[1;33m\u001b[0m\u001b[0m\n\u001b[0m\u001b[0;32m    685\u001b[0m     \u001b[0mall_bytecode_suffixes\u001b[0m \u001b[1;33m=\u001b[0m \u001b[0mimportlib\u001b[0m\u001b[1;33m.\u001b[0m\u001b[0mmachinery\u001b[0m\u001b[1;33m.\u001b[0m\u001b[0mDEBUG_BYTECODE_SUFFIXES\u001b[0m\u001b[1;33m[\u001b[0m\u001b[1;33m:\u001b[0m\u001b[1;33m]\u001b[0m\u001b[1;33m\u001b[0m\u001b[1;33m\u001b[0m\u001b[0m\n\u001b[0;32m    686\u001b[0m     \u001b[0mall_bytecode_suffixes\u001b[0m \u001b[1;33m+=\u001b[0m \u001b[0mimportlib\u001b[0m\u001b[1;33m.\u001b[0m\u001b[0mmachinery\u001b[0m\u001b[1;33m.\u001b[0m\u001b[0mOPTIMIZED_BYTECODE_SUFFIXES\u001b[0m\u001b[1;33m[\u001b[0m\u001b[1;33m:\u001b[0m\u001b[1;33m]\u001b[0m\u001b[1;33m\u001b[0m\u001b[1;33m\u001b[0m\u001b[0m\n",
      "\u001b[1;32mC:\\Users\\Public\\Anaconda3\\lib\\inspect.py\u001b[0m in \u001b[0;36mgetfile\u001b[1;34m(object)\u001b[0m\n\u001b[0;32m    664\u001b[0m     raise TypeError('module, class, method, function, traceback, frame, or '\n\u001b[0;32m    665\u001b[0m                     'code object was expected, got {}'.format(\n\u001b[1;32m--> 666\u001b[1;33m                     type(object).__name__))\n\u001b[0m\u001b[0;32m    667\u001b[0m \u001b[1;33m\u001b[0m\u001b[0m\n\u001b[0;32m    668\u001b[0m \u001b[1;32mdef\u001b[0m \u001b[0mgetmodulename\u001b[0m\u001b[1;33m(\u001b[0m\u001b[0mpath\u001b[0m\u001b[1;33m)\u001b[0m\u001b[1;33m:\u001b[0m\u001b[1;33m\u001b[0m\u001b[1;33m\u001b[0m\u001b[0m\n",
      "\u001b[1;31mTypeError\u001b[0m: module, class, method, function, traceback, frame, or code object was expected, got str"
     ]
    }
   ],
   "source": [
    "# 但如果是 str 的話，就沒辦法看原始碼了\n",
    "inspect.getsource(converter_class.base_unit)"
   ]
  },
  {
   "cell_type": "code",
   "execution_count": 37,
   "metadata": {},
   "outputs": [
    {
     "data": {
      "text/html": [
       "<iframe width=\"560\" height=\"315\" src=\"https://www.youtube.com/embed/myTz-ZDkO6Q\" frameborder=\"0\" allow=\"accelerometer; autoplay; clipboard-write; encrypted-media; gyroscope; picture-in-picture\" allowfullscreen></iframe>\n"
      ],
      "text/plain": [
       "<IPython.core.display.HTML object>"
      ]
     },
     "metadata": {},
     "output_type": "display_data"
    }
   ],
   "source": [
    "%%HTML\n",
    "<iframe width=\"560\" height=\"315\" src=\"https://www.youtube.com/embed/myTz-ZDkO6Q\" frameborder=\"0\" allow=\"accelerometer; autoplay; clipboard-write; encrypted-media; gyroscope; picture-in-picture\" allowfullscreen></iframe>"
   ]
  },
  {
   "cell_type": "code",
   "execution_count": 46,
   "metadata": {},
   "outputs": [
    {
     "data": {
      "text/plain": [
       "86400.0"
      ]
     },
     "execution_count": 46,
     "metadata": {},
     "output_type": "execute_result"
    }
   ],
   "source": [
    "'''\n",
    "一旦取得 lambda function 之後，後面只要用 () 即可置入函數的參數\n",
    "然後，得到答案。\n",
    "'''\n",
    "converter_class.to_base_unit[\"d\"](1)"
   ]
  },
  {
   "cell_type": "code",
   "execution_count": null,
   "metadata": {},
   "outputs": [],
   "source": []
  },
  {
   "cell_type": "markdown",
   "metadata": {},
   "source": [
    "### 說明例：將200 wh 的能量分別轉換為 j, hph的形式"
   ]
  },
  {
   "cell_type": "code",
   "execution_count": 47,
   "metadata": {},
   "outputs": [
    {
     "data": {
      "text/plain": [
       "<unitconverter.unit_tables.energy.energy at 0x126a5057f60>"
      ]
     },
     "execution_count": 47,
     "metadata": {},
     "output_type": "execute_result"
    }
   ],
   "source": [
    "get_table('energy')"
   ]
  },
  {
   "cell_type": "code",
   "execution_count": 48,
   "metadata": {},
   "outputs": [
    {
     "data": {
      "text/plain": [
       "{'base_unit': 'j',\n",
       " 'to_base_unit': {'ev': <function unitconverter.unit_tables.energy.energy.__init__.<locals>.<lambda>(x)>,\n",
       "  'cal': <function unitconverter.unit_tables.energy.energy.__init__.<locals>.<lambda>(x)>,\n",
       "  'kcal': <function unitconverter.unit_tables.energy.energy.__init__.<locals>.<lambda>(x)>,\n",
       "  'hph': <function unitconverter.unit_tables.energy.energy.__init__.<locals>.<lambda>(x)>,\n",
       "  'wh': <function unitconverter.unit_tables.energy.energy.__init__.<locals>.<lambda>(x)>,\n",
       "  'btu': <function unitconverter.unit_tables.energy.energy.__init__.<locals>.<lambda>(x)>},\n",
       " 'from_base_unit': {'ev': <function unitconverter.unit_tables.energy.energy.__init__.<locals>.<lambda>(x)>,\n",
       "  'cal': <function unitconverter.unit_tables.energy.energy.__init__.<locals>.<lambda>(x)>,\n",
       "  'kcal': <function unitconverter.unit_tables.energy.energy.__init__.<locals>.<lambda>(x)>,\n",
       "  'hph': <function unitconverter.unit_tables.energy.energy.__init__.<locals>.<lambda>(x)>,\n",
       "  'wh': <function unitconverter.unit_tables.energy.energy.__init__.<locals>.<lambda>(x)>,\n",
       "  'btu': <function unitconverter.unit_tables.energy.energy.__init__.<locals>.<lambda>(x)>}}"
      ]
     },
     "execution_count": 48,
     "metadata": {},
     "output_type": "execute_result"
    }
   ],
   "source": [
    "get_table('energy').__dict__"
   ]
  },
  {
   "cell_type": "code",
   "execution_count": 49,
   "metadata": {},
   "outputs": [
    {
     "data": {
      "text/plain": [
       "'j'"
      ]
     },
     "execution_count": 49,
     "metadata": {},
     "output_type": "execute_result"
    }
   ],
   "source": [
    "get_table('energy').base_unit"
   ]
  },
  {
   "cell_type": "code",
   "execution_count": 51,
   "metadata": {},
   "outputs": [
    {
     "data": {
      "text/plain": [
       "<function unitconverter.unit_tables.energy.energy.__init__.<locals>.<lambda>(x)>"
      ]
     },
     "execution_count": 51,
     "metadata": {},
     "output_type": "execute_result"
    }
   ],
   "source": [
    "get_table('energy').to_base_unit[\"cal\"]"
   ]
  },
  {
   "cell_type": "code",
   "execution_count": 52,
   "metadata": {},
   "outputs": [
    {
     "data": {
      "text/plain": [
       "\"        self.to_base_unit['cal'] = lambda x: x / 0.23900573614\\n\""
      ]
     },
     "execution_count": 52,
     "metadata": {},
     "output_type": "execute_result"
    }
   ],
   "source": [
    "# 好奇偷看一下\n",
    "inspect.getsource(get_table('energy').to_base_unit[\"cal\"])"
   ]
  },
  {
   "cell_type": "code",
   "execution_count": null,
   "metadata": {},
   "outputs": [],
   "source": []
  },
  {
   "cell_type": "code",
   "execution_count": 53,
   "metadata": {},
   "outputs": [
    {
     "data": {
      "text/plain": [
       "4.183999999959164"
      ]
     },
     "execution_count": 53,
     "metadata": {},
     "output_type": "execute_result"
    }
   ],
   "source": [
    "get_table('energy').to_base_unit[\"cal\"](1)"
   ]
  },
  {
   "cell_type": "code",
   "execution_count": 54,
   "metadata": {},
   "outputs": [
    {
     "data": {
      "text/plain": [
       "{'btu', 'cal', 'ev', 'hph', 'j', 'kcal', 'wh'}"
      ]
     },
     "execution_count": 54,
     "metadata": {},
     "output_type": "execute_result"
    }
   ],
   "source": [
    "'''\n",
    "當然，當作繼承 UnitTable 類別的各個 table，也同時繼承原父輩的各定義的 method，像是：\n",
    "'''\n",
    "get_table('energy').get_units()"
   ]
  },
  {
   "cell_type": "code",
   "execution_count": 55,
   "metadata": {},
   "outputs": [
    {
     "data": {
      "text/plain": [
       "[{'dest_unit': 'j', 'converted_value': 719999.99999424},\n",
       " {'dest_unit': 'hph', 'converted_value': 0.2682044216834544}]"
      ]
     },
     "execution_count": 55,
     "metadata": {},
     "output_type": "execute_result"
    }
   ],
   "source": [
    "convert_units('energy', 200, 'wh', ['j', 'hph'])"
   ]
  },
  {
   "cell_type": "code",
   "execution_count": 56,
   "metadata": {},
   "outputs": [
    {
     "data": {
      "text/plain": [
       "[{'dest_unit': 'h', 'converted_value': 24.0},\n",
       " {'dest_unit': 'm', 'converted_value': 1440.0}]"
      ]
     },
     "execution_count": 56,
     "metadata": {},
     "output_type": "execute_result"
    }
   ],
   "source": [
    "convert_units('time', 1, 'd', ['h', 'm'])"
   ]
  },
  {
   "cell_type": "code",
   "execution_count": null,
   "metadata": {},
   "outputs": [],
   "source": []
  }
 ],
 "metadata": {
  "gist": {
   "data": {
    "description": "Ch09/Untitled.ipynb",
    "public": false
   },
   "id": ""
  },
  "kernelspec": {
   "display_name": "Python 3",
   "language": "python",
   "name": "python3"
  },
  "language_info": {
   "codemirror_mode": {
    "name": "ipython",
    "version": 3
   },
   "file_extension": ".py",
   "mimetype": "text/x-python",
   "name": "python",
   "nbconvert_exporter": "python",
   "pygments_lexer": "ipython3",
   "version": "3.7.1"
  }
 },
 "nbformat": 4,
 "nbformat_minor": 2
}
