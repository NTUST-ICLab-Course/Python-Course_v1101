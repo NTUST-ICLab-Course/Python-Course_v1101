{
 "cells": [
  {
   "cell_type": "markdown",
   "metadata": {},
   "source": [
    "# Read me on \"Chapter 09: Creating Command-line Interfaces\"\n",
    "2020-11-14\n",
    "\n",
    "Content:\n",
    "1. UML diagram of the unitconver package\n",
    "2. setup.py and CLI.py for the entry point (and argParse module)\n",
    "3. UnitTable.py and the unit_tables directory (and lambda function)\n",
    "4. Converter.py (and importlib module)\n",
    "5. Putting all of them together!"
   ]
  },
  {
   "cell_type": "markdown",
   "metadata": {},
   "source": [
    "## 幾個重要的概念：\n",
    "1. Chapter 05 用 os.argv[**]\n",
    "2. Chapter 09 用 **argparse** 的方法：提供 positional/optional argument，之後作相對應的處理，其中並包括預測的 -h 等 help 的選項\n",
    "3. **lambda function**: 同一名稱的 function 可透過一個「樣式」的調整參數，而有不同的面貌\n",
    "4. import **importlib**: 如何載入一個 py 檔的 module，然後執行，像是 instantiate 一個類別的物件。"
   ]
  },
  {
   "cell_type": "markdown",
   "metadata": {},
   "source": [
    "## 關於 command line interface (CLI) 有兩種寫法：\n",
    "1. Chapter 05 用 os.argv[**]\n",
    "2. **Chapter 09 用 argparse 的方法：將輸入資料塞入物件，並可提供 -h 等 help 的選項**\n",
    "\n",
    "### 先試一下在 shell 的環境下，可以執行哪些 CLI 的功能，然後再看這些功能是怎麼達成的。"
   ]
  },
  {
   "cell_type": "code",
   "execution_count": 1,
   "metadata": {},
   "outputs": [],
   "source": [
    "import os\n",
    "os.getcwd()"
   ]
  },
  {
   "cell_type": "code",
   "execution_count": 2,
   "metadata": {},
   "outputs": [],
   "source": [
    "import os\n",
    "course_directory = \"D:\\\\Google雲端硬碟\\\\GettingStartedWithPythonAndRaspberryPi-book_release\"\n",
    "chapter05_directory = course_directory + \"/Chapter09\""
   ]
  },
  {
   "cell_type": "code",
   "execution_count": 3,
   "metadata": {},
   "outputs": [],
   "source": [
    "os.chdir(chapter05_directory + \"/unitconverter\")"
   ]
  },
  {
   "cell_type": "code",
   "execution_count": 4,
   "metadata": {},
   "outputs": [
    {
     "name": "stdout",
     "output_type": "stream",
     "text": [
      "running install\n",
      "running bdist_egg\n",
      "running egg_info\n",
      "writing unitconverter.egg-info\\PKG-INFO\n",
      "writing dependency_links to unitconverter.egg-info\\dependency_links.txt\n",
      "writing entry points to unitconverter.egg-info\\entry_points.txt\n",
      "writing top-level names to unitconverter.egg-info\\top_level.txt\n",
      "reading manifest file 'unitconverter.egg-info\\SOURCES.txt'\n",
      "writing manifest file 'unitconverter.egg-info\\SOURCES.txt'\n",
      "installing library code to build\\bdist.win-amd64\\egg\n",
      "running install_lib\n",
      "running build_py\n",
      "creating build\\bdist.win-amd64\\egg\n",
      "copying build\\lib\\desktop.ini -> build\\bdist.win-amd64\\egg\n",
      "creating build\\bdist.win-amd64\\egg\\unitconverter\n",
      "copying build\\lib\\unitconverter\\CLI.py -> build\\bdist.win-amd64\\egg\\unitconverter\n",
      "copying build\\lib\\unitconverter\\Converter.py -> build\\bdist.win-amd64\\egg\\unitconverter\n",
      "copying build\\lib\\unitconverter\\desktop.ini -> build\\bdist.win-amd64\\egg\\unitconverter\n",
      "copying build\\lib\\unitconverter\\UnitTable.py -> build\\bdist.win-amd64\\egg\\unitconverter\n",
      "creating build\\bdist.win-amd64\\egg\\unitconverter\\unit_tables\n",
      "copying build\\lib\\unitconverter\\unit_tables\\angle.py -> build\\bdist.win-amd64\\egg\\unitconverter\\unit_tables\n",
      "copying build\\lib\\unitconverter\\unit_tables\\desktop.ini -> build\\bdist.win-amd64\\egg\\unitconverter\\unit_tables\n",
      "copying build\\lib\\unitconverter\\unit_tables\\energy.py -> build\\bdist.win-amd64\\egg\\unitconverter\\unit_tables\n",
      "copying build\\lib\\unitconverter\\unit_tables\\length.py -> build\\bdist.win-amd64\\egg\\unitconverter\\unit_tables\n",
      "copying build\\lib\\unitconverter\\unit_tables\\mass.py -> build\\bdist.win-amd64\\egg\\unitconverter\\unit_tables\n",
      "copying build\\lib\\unitconverter\\unit_tables\\speed.py -> build\\bdist.win-amd64\\egg\\unitconverter\\unit_tables\n",
      "copying build\\lib\\unitconverter\\unit_tables\\temperature.py -> build\\bdist.win-amd64\\egg\\unitconverter\\unit_tables\n",
      "copying build\\lib\\unitconverter\\unit_tables\\time.py -> build\\bdist.win-amd64\\egg\\unitconverter\\unit_tables\n",
      "copying build\\lib\\unitconverter\\unit_tables\\__init__.py -> build\\bdist.win-amd64\\egg\\unitconverter\\unit_tables\n",
      "copying build\\lib\\unitconverter\\__init__.py -> build\\bdist.win-amd64\\egg\\unitconverter\n",
      "byte-compiling build\\bdist.win-amd64\\egg\\unitconverter\\CLI.py to CLI.cpython-37.pyc\n",
      "byte-compiling build\\bdist.win-amd64\\egg\\unitconverter\\Converter.py to Converter.cpython-37.pyc\n",
      "byte-compiling build\\bdist.win-amd64\\egg\\unitconverter\\UnitTable.py to UnitTable.cpython-37.pyc\n",
      "byte-compiling build\\bdist.win-amd64\\egg\\unitconverter\\unit_tables\\angle.py to angle.cpython-37.pyc\n",
      "byte-compiling build\\bdist.win-amd64\\egg\\unitconverter\\unit_tables\\energy.py to energy.cpython-37.pyc\n",
      "byte-compiling build\\bdist.win-amd64\\egg\\unitconverter\\unit_tables\\length.py to length.cpython-37.pyc\n",
      "byte-compiling build\\bdist.win-amd64\\egg\\unitconverter\\unit_tables\\mass.py to mass.cpython-37.pyc\n",
      "byte-compiling build\\bdist.win-amd64\\egg\\unitconverter\\unit_tables\\speed.py to speed.cpython-37.pyc\n",
      "byte-compiling build\\bdist.win-amd64\\egg\\unitconverter\\unit_tables\\temperature.py to temperature.cpython-37.pyc\n",
      "byte-compiling build\\bdist.win-amd64\\egg\\unitconverter\\unit_tables\\time.py to time.cpython-37.pyc\n",
      "byte-compiling build\\bdist.win-amd64\\egg\\unitconverter\\unit_tables\\__init__.py to __init__.cpython-37.pyc\n",
      "byte-compiling build\\bdist.win-amd64\\egg\\unitconverter\\__init__.py to __init__.cpython-37.pyc\n",
      "creating build\\bdist.win-amd64\\egg\\EGG-INFO\n",
      "copying unitconverter.egg-info\\PKG-INFO -> build\\bdist.win-amd64\\egg\\EGG-INFO\n",
      "copying unitconverter.egg-info\\SOURCES.txt -> build\\bdist.win-amd64\\egg\\EGG-INFO\n",
      "copying unitconverter.egg-info\\dependency_links.txt -> build\\bdist.win-amd64\\egg\\EGG-INFO\n",
      "copying unitconverter.egg-info\\desktop.ini -> build\\bdist.win-amd64\\egg\\EGG-INFO\n",
      "copying unitconverter.egg-info\\entry_points.txt -> build\\bdist.win-amd64\\egg\\EGG-INFO\n",
      "copying unitconverter.egg-info\\not-zip-safe -> build\\bdist.win-amd64\\egg\\EGG-INFO\n",
      "copying unitconverter.egg-info\\top_level.txt -> build\\bdist.win-amd64\\egg\\EGG-INFO\n",
      "creating 'dist\\unitconverter-0.1.0-py3.7.egg' and adding 'build\\bdist.win-amd64\\egg' to it\n",
      "removing 'build\\bdist.win-amd64\\egg' (and everything under it)\n",
      "Processing unitconverter-0.1.0-py3.7.egg\n",
      "removing 'c:\\users\\public\\anaconda3\\lib\\site-packages\\unitconverter-0.1.0-py3.7.egg' (and everything under it)\n",
      "creating c:\\users\\public\\anaconda3\\lib\\site-packages\\unitconverter-0.1.0-py3.7.egg\n",
      "Extracting unitconverter-0.1.0-py3.7.egg to c:\\users\\public\\anaconda3\\lib\\site-packages\n",
      "unitconverter 0.1.0 is already the active version in easy-install.pth\n",
      "Installing unitconvert-script.py script to C:\\Users\\Public\\Anaconda3\\Scripts\n",
      "Installing unitconvert.exe script to C:\\Users\\Public\\Anaconda3\\Scripts\n",
      "\n",
      "Installed c:\\users\\public\\anaconda3\\lib\\site-packages\\unitconverter-0.1.0-py3.7.egg\n",
      "Processing dependencies for unitconverter==0.1.0\n",
      "Finished processing dependencies for unitconverter==0.1.0\n"
     ]
    }
   ],
   "source": [
    "'''\n",
    "先裝好 python setup.py install\n",
    "'''\n",
    "!python setup.py install"
   ]
  },
  {
   "cell_type": "code",
   "execution_count": 5,
   "metadata": {},
   "outputs": [
    {
     "name": "stderr",
     "output_type": "stream",
     "text": [
      "usage: unitconvert [-h] TABLE {list,convert} ...\n",
      "unitconvert: error: the following arguments are required: TABLE\n"
     ]
    }
   ],
   "source": [
    "! unitconvert"
   ]
  },
  {
   "cell_type": "code",
   "execution_count": 6,
   "metadata": {},
   "outputs": [
    {
     "name": "stdout",
     "output_type": "stream",
     "text": [
      "usage: unitconvert [-h] TABLE {list,convert} ...\n",
      "\n",
      "Tool for converting units\n",
      "\n",
      "positional arguments:\n",
      "  TABLE           Unit table to use in conversion\n",
      "  {list,convert}  operation to be performed\n",
      "\n",
      "optional arguments:\n",
      "  -h, --help      show this help message and exit\n"
     ]
    }
   ],
   "source": [
    "! unitconvert -h"
   ]
  },
  {
   "cell_type": "code",
   "execution_count": 7,
   "metadata": {},
   "outputs": [
    {
     "name": "stderr",
     "output_type": "stream",
     "text": [
      "Traceback (most recent call last):\n",
      "  File \"C:\\Users\\Public\\Anaconda3\\Scripts\\unitconvert-script.py\", line 33, in <module>\n",
      "    sys.exit(load_entry_point('unitconverter==0.1.0', 'console_scripts', 'unitconvert')())\n",
      "  File \"C:\\Users\\Public\\Anaconda3\\lib\\site-packages\\unitconverter-0.1.0-py3.7.egg\\unitconverter\\CLI.py\", line 113, in run_cli\n",
      "    if props.which == 'list':\n",
      "AttributeError: 'Namespace' object has no attribute 'which'\n"
     ]
    }
   ],
   "source": [
    "! unitconvert TABLE"
   ]
  },
  {
   "cell_type": "code",
   "execution_count": 8,
   "metadata": {},
   "outputs": [
    {
     "name": "stdout",
     "output_type": "stream",
     "text": [
      "usage: unitconvert [-h] TABLE {list,convert} ...\n",
      "\n",
      "Tool for converting units\n",
      "\n",
      "positional arguments:\n",
      "  TABLE           Unit table to use in conversion\n",
      "  {list,convert}  operation to be performed\n",
      "\n",
      "optional arguments:\n",
      "  -h, --help      show this help message and exit\n"
     ]
    }
   ],
   "source": [
    "! unitconvert -h energy"
   ]
  },
  {
   "cell_type": "code",
   "execution_count": 9,
   "metadata": {},
   "outputs": [
    {
     "name": "stderr",
     "output_type": "stream",
     "text": [
      "Traceback (most recent call last):\n",
      "  File \"C:\\Users\\Public\\Anaconda3\\Scripts\\unitconvert-script.py\", line 33, in <module>\n",
      "    sys.exit(load_entry_point('unitconverter==0.1.0', 'console_scripts', 'unitconvert')())\n",
      "  File \"C:\\Users\\Public\\Anaconda3\\lib\\site-packages\\unitconverter-0.1.0-py3.7.egg\\unitconverter\\CLI.py\", line 113, in run_cli\n",
      "    if props.which == 'list':\n",
      "AttributeError: 'Namespace' object has no attribute 'which'\n"
     ]
    }
   ],
   "source": [
    "! unitconvert energy"
   ]
  },
  {
   "cell_type": "code",
   "execution_count": 10,
   "metadata": {},
   "outputs": [
    {
     "name": "stdout",
     "output_type": "stream",
     "text": [
      "Unit table energy can convert between the units:\n",
      "wh\n",
      "btu\n",
      "j\n",
      "hph\n",
      "cal\n",
      "kcal\n",
      "ev\n"
     ]
    }
   ],
   "source": [
    "! unitconvert energy list"
   ]
  },
  {
   "cell_type": "code",
   "execution_count": 11,
   "metadata": {},
   "outputs": [
    {
     "name": "stdout",
     "output_type": "stream",
     "text": [
      "usage: unitconvert TABLE list [-h] [-m]\n",
      "\n",
      "optional arguments:\n",
      "  -h, --help    show this help message and exit\n",
      "  -m, --method  Also output the conversion method from the base unit\n"
     ]
    }
   ],
   "source": [
    "! unitconvert energy list -h"
   ]
  },
  {
   "cell_type": "code",
   "execution_count": 12,
   "metadata": {},
   "outputs": [
    {
     "name": "stdout",
     "output_type": "stream",
     "text": [
      "Unit table energy can convert between the units:\n",
      "cal (x * 0.23900573614)\n",
      "ev (x * 6241506480000000000.0)\n",
      "hph (x * 3.7250614123e-7)\n",
      "kcal (x * 0.00023884589663)\n",
      "wh (x * 0.00027777777778)\n",
      "btu (x * 0.00094781707775)\n",
      "j (base unit)\n"
     ]
    }
   ],
   "source": [
    "! unitconvert energy list -m"
   ]
  },
  {
   "cell_type": "code",
   "execution_count": 13,
   "metadata": {},
   "outputs": [
    {
     "name": "stderr",
     "output_type": "stream",
     "text": [
      "usage: unitconvert TABLE convert [-h] VALUE FROM TO [TO ...]\n",
      "unitconvert TABLE convert: error: the following arguments are required: VALUE, FROM, TO\n"
     ]
    }
   ],
   "source": [
    "! unitconvert energy convert"
   ]
  },
  {
   "cell_type": "code",
   "execution_count": 14,
   "metadata": {},
   "outputs": [
    {
     "name": "stdout",
     "output_type": "stream",
     "text": [
      "usage: unitconvert [-h] TABLE {list,convert} ...\n",
      "\n",
      "Tool for converting units\n",
      "\n",
      "positional arguments:\n",
      "  TABLE           Unit table to use in conversion\n",
      "  {list,convert}  operation to be performed\n",
      "\n",
      "optional arguments:\n",
      "  -h, --help      show this help message and exit\n"
     ]
    }
   ],
   "source": [
    "! unitconvert -h energy convert"
   ]
  },
  {
   "cell_type": "code",
   "execution_count": 15,
   "metadata": {},
   "outputs": [
    {
     "name": "stdout",
     "output_type": "stream",
     "text": [
      "usage: unitconvert TABLE convert [-h] VALUE FROM TO [TO ...]\n",
      "\n",
      "positional arguments:\n",
      "  VALUE       The value to convert\n",
      "  FROM        Unit to convert from\n",
      "  TO          Unit(s) to convert to\n",
      "\n",
      "optional arguments:\n",
      "  -h, --help  show this help message and exit\n"
     ]
    }
   ],
   "source": [
    "! unitconvert energy convert -h"
   ]
  },
  {
   "cell_type": "code",
   "execution_count": 16,
   "metadata": {},
   "outputs": [
    {
     "name": "stdout",
     "output_type": "stream",
     "text": [
      "1000.000000 j = 0.238846 kcal\n",
      "1000.000000 j = 0.277778 wh\n"
     ]
    }
   ],
   "source": [
    "! unitconvert energy convert 1000 j kcal wh"
   ]
  },
  {
   "cell_type": "code",
   "execution_count": 17,
   "metadata": {},
   "outputs": [
    {
     "name": "stdout",
     "output_type": "stream",
     "text": [
      "Unit table length can convert between the units:\n",
      "mil\n",
      "m\n",
      "cm\n",
      "in\n",
      "mm\n",
      "mi\n",
      "yd\n",
      "um\n",
      "ft\n"
     ]
    }
   ],
   "source": [
    "! unitconvert length list"
   ]
  },
  {
   "cell_type": "code",
   "execution_count": 18,
   "metadata": {},
   "outputs": [
    {
     "name": "stdout",
     "output_type": "stream",
     "text": [
      "1.000000 mi = 63359.994850 in\n",
      "1.000000 mi = 1759.981975 yd\n",
      "1.000000 mi = 5279.945926 ft\n",
      "1.000000 mi = 1609.347088 m\n"
     ]
    }
   ],
   "source": [
    "! unitconvert length convert 1 mi in yd ft m"
   ]
  },
  {
   "cell_type": "markdown",
   "metadata": {},
   "source": [
    "## 期末專題作成的 package 要有足夠的 --help，讓安裝 package 的使用者知道如何用你的套件"
   ]
  },
  {
   "cell_type": "markdown",
   "metadata": {},
   "source": [
    "Ⓞ 貨幣之間的轉換 (2019-11-04)\n",
    "要將多少的某貨幣換成另外的貨幣。\n",
    "必需要考量：\n",
    "1. 匯率是會變動的，所以要從網路上爬文得到最新的：\n",
    "2. 怎麼將爬文的匯率存入 to_base_units 以及 from_base_units？"
   ]
  }
 ],
 "metadata": {
  "gist": {
   "data": {
    "description": "Ch09/Untitled.ipynb",
    "public": false
   },
   "id": ""
  },
  "kernelspec": {
   "display_name": "Python 3",
   "language": "python",
   "name": "python3"
  },
  "language_info": {
   "codemirror_mode": {
    "name": "ipython",
    "version": 3
   },
   "file_extension": ".py",
   "mimetype": "text/x-python",
   "name": "python",
   "nbconvert_exporter": "python",
   "pygments_lexer": "ipython3",
   "version": "3.7.1"
  }
 },
 "nbformat": 4,
 "nbformat_minor": 2
}
