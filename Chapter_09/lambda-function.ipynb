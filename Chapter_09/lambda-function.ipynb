{
 "cells": [
  {
   "cell_type": "markdown",
   "metadata": {},
   "source": [
    "## Lambda function\n",
    "\n",
    "內容：\n",
    "1. lumbda 與 function 的差別\n",
    "2. 為什麼要用 lumbda\n",
    "3. 如何將 lambda 存在 dictionary 中，然後以 key 取出來 → 執行。"
   ]
  },
  {
   "cell_type": "markdown",
   "metadata": {},
   "source": [
    "## Python Tutorial for Beginners 47 - Lambda, filter, reduce and map\n",
    "https://www.youtube.com/watch?v=5bRDpzdcuf8"
   ]
  },
  {
   "cell_type": "code",
   "execution_count": 1,
   "metadata": {},
   "outputs": [],
   "source": [
    "'''\n",
    "一般我們定義 function 的方法\n",
    "'''\n",
    "def add(x, y):\n",
    "    return x + y"
   ]
  },
  {
   "cell_type": "code",
   "execution_count": 2,
   "metadata": {},
   "outputs": [
    {
     "data": {
      "text/plain": [
       "5"
      ]
     },
     "execution_count": 2,
     "metadata": {},
     "output_type": "execute_result"
    }
   ],
   "source": [
    "add(2, 3)"
   ]
  },
  {
   "cell_type": "code",
   "execution_count": 3,
   "metadata": {},
   "outputs": [
    {
     "data": {
      "text/plain": [
       "<function __main__.add(x, y)>"
      ]
     },
     "execution_count": 3,
     "metadata": {},
     "output_type": "execute_result"
    }
   ],
   "source": [
    "add"
   ]
  },
  {
   "cell_type": "code",
   "execution_count": 4,
   "metadata": {},
   "outputs": [
    {
     "data": {
      "text/plain": [
       "function"
      ]
     },
     "execution_count": 4,
     "metadata": {},
     "output_type": "execute_result"
    }
   ],
   "source": [
    "type(add)"
   ]
  },
  {
   "cell_type": "markdown",
   "metadata": {},
   "source": [
    "### 另外一種定義 function 的方法是透過 lambda function"
   ]
  },
  {
   "cell_type": "code",
   "execution_count": 5,
   "metadata": {},
   "outputs": [],
   "source": [
    "'''\n",
    "def add(x, y):\n",
    "    return x + y\n",
    "'''\n",
    "add = lambda x, y : x + y"
   ]
  },
  {
   "cell_type": "code",
   "execution_count": 6,
   "metadata": {},
   "outputs": [
    {
     "data": {
      "text/plain": [
       "function"
      ]
     },
     "execution_count": 6,
     "metadata": {},
     "output_type": "execute_result"
    }
   ],
   "source": [
    "type(add)"
   ]
  },
  {
   "cell_type": "code",
   "execution_count": 7,
   "metadata": {},
   "outputs": [
    {
     "data": {
      "text/plain": [
       "<function __main__.<lambda>(x, y)>"
      ]
     },
     "execution_count": 7,
     "metadata": {},
     "output_type": "execute_result"
    }
   ],
   "source": [
    "add"
   ]
  },
  {
   "cell_type": "code",
   "execution_count": 8,
   "metadata": {},
   "outputs": [
    {
     "name": "stdout",
     "output_type": "stream",
     "text": [
      "<function <lambda> at 0x000001F2AFDED2F0>\n"
     ]
    }
   ],
   "source": [
    "print(add)"
   ]
  },
  {
   "cell_type": "code",
   "execution_count": 9,
   "metadata": {},
   "outputs": [
    {
     "data": {
      "text/plain": [
       "5"
      ]
     },
     "execution_count": 9,
     "metadata": {},
     "output_type": "execute_result"
    }
   ],
   "source": [
    "# 如何使用 lambda function: 直接在後面加 (x, y)\n",
    "add(2, 3)"
   ]
  },
  {
   "cell_type": "markdown",
   "metadata": {},
   "source": [
    "### 除了存在一個變數裏，也可將對應不同狀況 (key) 的 lambda function (value) 放到 dictionary 裏面，之後，可以透過 key 提取出我們想要用的特定 lambda function。"
   ]
  },
  {
   "cell_type": "markdown",
   "metadata": {},
   "source": [
    "作法：\\\n",
    "將所有的 lambda function 存在一個 dictionary 中，其運算可能是 add, sub, 或是 pow\n",
    "```python:\n",
    "op['add'] = lambda x, y : x + y\n",
    "```"
   ]
  },
  {
   "cell_type": "code",
   "execution_count": 10,
   "metadata": {},
   "outputs": [],
   "source": [
    "op = {}"
   ]
  },
  {
   "cell_type": "code",
   "execution_count": 11,
   "metadata": {},
   "outputs": [
    {
     "data": {
      "text/plain": [
       "dict"
      ]
     },
     "execution_count": 11,
     "metadata": {},
     "output_type": "execute_result"
    }
   ],
   "source": [
    "type(op)"
   ]
  },
  {
   "cell_type": "code",
   "execution_count": 12,
   "metadata": {},
   "outputs": [],
   "source": [
    "op['sub'] = lambda x, y : x - y"
   ]
  },
  {
   "cell_type": "code",
   "execution_count": 13,
   "metadata": {},
   "outputs": [
    {
     "data": {
      "text/plain": [
       "{'sub': <function __main__.<lambda>(x, y)>}"
      ]
     },
     "execution_count": 13,
     "metadata": {},
     "output_type": "execute_result"
    }
   ],
   "source": [
    "op"
   ]
  },
  {
   "cell_type": "code",
   "execution_count": 14,
   "metadata": {},
   "outputs": [],
   "source": [
    "op['add'] = lambda x, y : x + y"
   ]
  },
  {
   "cell_type": "code",
   "execution_count": 15,
   "metadata": {},
   "outputs": [
    {
     "name": "stdout",
     "output_type": "stream",
     "text": [
      "{'sub': <function <lambda> at 0x000001F2AFDED0D0>, 'add': <function <lambda> at 0x000001F2AFDED268>}\n"
     ]
    }
   ],
   "source": [
    "print(op)"
   ]
  },
  {
   "cell_type": "code",
   "execution_count": 16,
   "metadata": {},
   "outputs": [
    {
     "data": {
      "text/plain": [
       "<function __main__.<lambda>(x, y)>"
      ]
     },
     "execution_count": 16,
     "metadata": {},
     "output_type": "execute_result"
    }
   ],
   "source": [
    "op['add']"
   ]
  },
  {
   "cell_type": "code",
   "execution_count": 17,
   "metadata": {},
   "outputs": [
    {
     "name": "stdout",
     "output_type": "stream",
     "text": [
      "<function <lambda> at 0x000001F2AFDED268>\n"
     ]
    }
   ],
   "source": [
    "print(op['add'])"
   ]
  },
  {
   "cell_type": "markdown",
   "metadata": {},
   "source": [
    "## 要執行的時候，在後面接上用 (…) 框起來的參數，即可執行。"
   ]
  },
  {
   "cell_type": "code",
   "execution_count": 18,
   "metadata": {},
   "outputs": [
    {
     "data": {
      "text/plain": [
       "5"
      ]
     },
     "execution_count": 18,
     "metadata": {},
     "output_type": "execute_result"
    }
   ],
   "source": [
    "op['add'](2, 3)"
   ]
  },
  {
   "cell_type": "code",
   "execution_count": 19,
   "metadata": {},
   "outputs": [
    {
     "data": {
      "text/plain": [
       "-1"
      ]
     },
     "execution_count": 19,
     "metadata": {},
     "output_type": "execute_result"
    }
   ],
   "source": [
    "op['sub'] (2, 3)"
   ]
  },
  {
   "cell_type": "code",
   "execution_count": 20,
   "metadata": {},
   "outputs": [
    {
     "data": {
      "text/plain": [
       "<function __main__.<lambda>(x, y)>"
      ]
     },
     "execution_count": 20,
     "metadata": {},
     "output_type": "execute_result"
    }
   ],
   "source": [
    "op['sub']"
   ]
  },
  {
   "cell_type": "code",
   "execution_count": 21,
   "metadata": {},
   "outputs": [],
   "source": [
    "op['pow'] = lambda x, y : pow(x, y)"
   ]
  },
  {
   "cell_type": "code",
   "execution_count": 22,
   "metadata": {},
   "outputs": [
    {
     "name": "stdout",
     "output_type": "stream",
     "text": [
      "{'sub': <function <lambda> at 0x000001F2AFDED0D0>, 'add': <function <lambda> at 0x000001F2AFDED268>, 'pow': <function <lambda> at 0x000001F2AFDED048>}\n"
     ]
    }
   ],
   "source": [
    "print(op)"
   ]
  },
  {
   "cell_type": "code",
   "execution_count": 23,
   "metadata": {},
   "outputs": [
    {
     "data": {
      "text/plain": [
       "1024"
      ]
     },
     "execution_count": 23,
     "metadata": {},
     "output_type": "execute_result"
    }
   ],
   "source": [
    "op['pow'](2, 10)"
   ]
  },
  {
   "cell_type": "markdown",
   "metadata": {},
   "source": [
    "## 使用 lambda function 的好處在哪？\n",
    "- 不需要對重複性，但又有一點不一樣的各種運算公式取不同的名字"
   ]
  },
  {
   "cell_type": "markdown",
   "metadata": {},
   "source": [
    "## 舉例：度量衡、貨幣、能量等不同單位間的轉換。\n",
    "針對某一種量的轉換，我們只要選定基礎單位 (BASE) 之後，其餘單位間的轉換，只要記住其相對於這個 BASE 的整價關係，就可以取得彼此之間的轉換關係。\n",
    "\n",
    "以兌換貨幣為例，在目前美金是老大的事實上，就選其當作轉換基礎 (BASE)，\n",
    "不同貨幣目兌換：將數量為 VALUE、單位為 FROM 的貨幣，轉換為 TO 的貨幣的作法，\n",
    "舉例來說，要將 100 塊 (value) 的台幣 (from) 換成日幣 (to)，\n",
    "過程是先換成等值約 3.5 元的美金 (base)，\n",
    "然後，再從這筆美金，換成等值的日幣。\n",
    "\n",
    "透過：\n",
    "- base: base_unit\n",
    "- FROM: to_base_unit\n",
    "- TO: from_base_unit\n",
    "即可取得任意不同單位間的轉換關係！\n",
    "\n",
    "## 同樣轉換的方法可適用於長度、能量等不同單位間的轉換。"
   ]
  },
  {
   "cell_type": "markdown",
   "metadata": {},
   "source": [
    "因為涉及不同度量衡要轉換的組合很多，如果每一種轉換都要取一個名字，實在是麻煩。\n",
    "乾脆只要記住：\n",
    "1. 是那一種 table，\n",
    "2. 那一個是基礎 (base) 的單元：\n",
    "3. source 要換成 BASE 的公式：\n",
    "4. 要從 base 換成指定的 to 的公式：\n",
    "\n",
    "### 先將反應對 base 轉換的 lambda function 放到 dictionary 裏面，之後，可以透過 key 提取出我們想要用的特定 lambda function (value)"
   ]
  },
  {
   "cell_type": "markdown",
   "metadata": {},
   "source": [
    "## 以下介紹比較花俏的 lambda function 寫法：就是當某一個 function 會按不同狀況而有所不同定義時\n",
    "\n",
    "回顧剛講的，FROM 到 TO 之間的轉換：\n",
    "- base: base_unit\n",
    "- FROM: to_base_unit\n",
    "- TO: from_base_unit"
   ]
  },
  {
   "cell_type": "code",
   "execution_count": 24,
   "metadata": {},
   "outputs": [],
   "source": [
    "to_base_unit = {}"
   ]
  },
  {
   "cell_type": "code",
   "execution_count": 25,
   "metadata": {},
   "outputs": [
    {
     "data": {
      "text/plain": [
       "dict"
      ]
     },
     "execution_count": 25,
     "metadata": {},
     "output_type": "execute_result"
    }
   ],
   "source": [
    "type(to_base_unit)"
   ]
  },
  {
   "cell_type": "code",
   "execution_count": 26,
   "metadata": {},
   "outputs": [],
   "source": [
    "from_base_unit = {}"
   ]
  },
  {
   "cell_type": "code",
   "execution_count": 27,
   "metadata": {},
   "outputs": [],
   "source": [
    "to_base_unit['ev'] = lambda x: x / 6241506480000000000.0"
   ]
  },
  {
   "cell_type": "code",
   "execution_count": 28,
   "metadata": {},
   "outputs": [
    {
     "data": {
      "text/plain": [
       "<function __main__.<lambda>(x)>"
      ]
     },
     "execution_count": 28,
     "metadata": {},
     "output_type": "execute_result"
    }
   ],
   "source": [
    "to_base_unit['ev']"
   ]
  },
  {
   "cell_type": "code",
   "execution_count": 29,
   "metadata": {},
   "outputs": [
    {
     "data": {
      "text/plain": [
       "1.6021772999905626e-16"
      ]
     },
     "execution_count": 29,
     "metadata": {},
     "output_type": "execute_result"
    }
   ],
   "source": [
    "to_base_unit['ev'](1000)"
   ]
  },
  {
   "cell_type": "code",
   "execution_count": 30,
   "metadata": {},
   "outputs": [],
   "source": [
    "to_base_unit['ev'] = lambda x: x / 6241506480000000000.0    \n",
    "\n",
    "        # Calorie (chemical)\n",
    "to_base_unit['cal'] = lambda x: x / 0.23900573614\n",
    "        \n",
    "        # Calorie (nutritional)\n",
    "to_base_unit['kcal'] = lambda x: x / 0.00023884589663    \n",
    "\n",
    "        # Horsepower hour\n",
    "to_base_unit['hph'] = lambda x: x / 3.7250614123e-7\n",
    "        \n",
    "        # Watt hour\n",
    "to_base_unit['wh'] = lambda x: x / 0.00027777777778        \n",
    "\n",
    "        # BTU\n",
    "to_base_unit['btu'] = lambda x: x / 0.00094781707775\n",
    "        "
   ]
  },
  {
   "cell_type": "code",
   "execution_count": 31,
   "metadata": {},
   "outputs": [
    {
     "data": {
      "text/plain": [
       "{'ev': <function __main__.<lambda>(x)>,\n",
       " 'cal': <function __main__.<lambda>(x)>,\n",
       " 'kcal': <function __main__.<lambda>(x)>,\n",
       " 'hph': <function __main__.<lambda>(x)>,\n",
       " 'wh': <function __main__.<lambda>(x)>,\n",
       " 'btu': <function __main__.<lambda>(x)>}"
      ]
     },
     "execution_count": 31,
     "metadata": {},
     "output_type": "execute_result"
    }
   ],
   "source": [
    "to_base_unit"
   ]
  },
  {
   "cell_type": "code",
   "execution_count": 32,
   "metadata": {},
   "outputs": [
    {
     "name": "stdout",
     "output_type": "stream",
     "text": [
      "{'ev': <function <lambda> at 0x000001F2AFDED510>, 'cal': <function <lambda> at 0x000001F2AFDED400>, 'kcal': <function <lambda> at 0x000001F2AFDED620>, 'hph': <function <lambda> at 0x000001F2AFDED6A8>, 'wh': <function <lambda> at 0x000001F2AFDED730>, 'btu': <function <lambda> at 0x000001F2AFDED7B8>}\n"
     ]
    }
   ],
   "source": [
    "print(to_base_unit)"
   ]
  },
  {
   "cell_type": "code",
   "execution_count": 33,
   "metadata": {},
   "outputs": [
    {
     "data": {
      "text/plain": [
       "105505.58999990544"
      ]
     },
     "execution_count": 33,
     "metadata": {},
     "output_type": "execute_result"
    }
   ],
   "source": [
    "x = 'btu'\n",
    "to_base_unit[x](100)"
   ]
  },
  {
   "cell_type": "code",
   "execution_count": 34,
   "metadata": {},
   "outputs": [
    {
     "data": {
      "text/plain": [
       "268451949.9995466"
      ]
     },
     "execution_count": 34,
     "metadata": {},
     "output_type": "execute_result"
    }
   ],
   "source": [
    "x = 'hph'\n",
    "to_base_unit[x](100)"
   ]
  },
  {
   "cell_type": "code",
   "execution_count": null,
   "metadata": {},
   "outputs": [],
   "source": []
  },
  {
   "cell_type": "code",
   "execution_count": 35,
   "metadata": {},
   "outputs": [],
   "source": [
    "from_base_unit['ev'] = lambda x: x * 6241506480000000000.0\n",
    "\n",
    "    # Calorie (chemical)\n",
    "from_base_unit['cal'] = lambda x: x * 0.23900573614\n",
    "\n",
    "        # Calorie (nutritional)\n",
    "from_base_unit['kcal'] = lambda x: x * 0.00023884589663\n",
    "\n",
    "        # Horsepower hour\n",
    "from_base_unit['hph'] = lambda x: x * 3.7250614123e-7\n",
    "\n",
    "        # Watt hour\n",
    "from_base_unit['wh'] = lambda x: x * 0.00027777777778\n",
    "\n",
    "        # BTU\n",
    "from_base_unit['btu'] = lambda x: x * 0.00094781707775\n"
   ]
  },
  {
   "cell_type": "code",
   "execution_count": 36,
   "metadata": {},
   "outputs": [
    {
     "data": {
      "text/plain": [
       "{'ev': <function __main__.<lambda>(x)>,\n",
       " 'cal': <function __main__.<lambda>(x)>,\n",
       " 'kcal': <function __main__.<lambda>(x)>,\n",
       " 'hph': <function __main__.<lambda>(x)>,\n",
       " 'wh': <function __main__.<lambda>(x)>,\n",
       " 'btu': <function __main__.<lambda>(x)>}"
      ]
     },
     "execution_count": 36,
     "metadata": {},
     "output_type": "execute_result"
    }
   ],
   "source": [
    "from_base_unit"
   ]
  },
  {
   "cell_type": "code",
   "execution_count": 37,
   "metadata": {},
   "outputs": [
    {
     "data": {
      "text/plain": [
       "341.2141479872703"
      ]
     },
     "execution_count": 37,
     "metadata": {},
     "output_type": "execute_result"
    }
   ],
   "source": [
    "'''\n",
    "VALUE FROM TO\n",
    "100 wh = ? btu\n",
    "'''\n",
    "from_base_unit['btu'](to_base_unit['wh'](100))"
   ]
  },
  {
   "cell_type": "code",
   "execution_count": 38,
   "metadata": {},
   "outputs": [
    {
     "data": {
      "text/plain": [
       "85.98452278611212"
      ]
     },
     "execution_count": 38,
     "metadata": {},
     "output_type": "execute_result"
    }
   ],
   "source": [
    "'''\n",
    "VALUE FROM TO\n",
    "100 wh = ? kcal\n",
    "'''\n",
    "from_base_unit['kcal'](to_base_unit['wh'](100))"
   ]
  },
  {
   "cell_type": "code",
   "execution_count": 39,
   "metadata": {},
   "outputs": [
    {
     "data": {
      "text/plain": [
       "100.0"
      ]
     },
     "execution_count": 39,
     "metadata": {},
     "output_type": "execute_result"
    }
   ],
   "source": [
    "'''\n",
    "VALUE FROM TO\n",
    "100 wh = ? wh\n",
    "'''\n",
    "from_base_unit['wh'](to_base_unit['wh'](100))"
   ]
  },
  {
   "cell_type": "code",
   "execution_count": null,
   "metadata": {},
   "outputs": [],
   "source": []
  }
 ],
 "metadata": {
  "kernelspec": {
   "display_name": "Python 3",
   "language": "python",
   "name": "python3"
  },
  "language_info": {
   "codemirror_mode": {
    "name": "ipython",
    "version": 3
   },
   "file_extension": ".py",
   "mimetype": "text/x-python",
   "name": "python",
   "nbconvert_exporter": "python",
   "pygments_lexer": "ipython3",
   "version": "3.7.1"
  }
 },
 "nbformat": 4,
 "nbformat_minor": 2
}
