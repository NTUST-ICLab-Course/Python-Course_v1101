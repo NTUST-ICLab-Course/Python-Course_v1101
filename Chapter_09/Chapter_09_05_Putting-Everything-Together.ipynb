{
 "cells": [
  {
   "cell_type": "markdown",
   "metadata": {},
   "source": [
    "# Chapter 09: -5- Putting everything together!\n",
    "2020-11-17\n",
    "\n",
    "Content:\n",
    "1. UML diagram of the unitconver package\n",
    "2. setup.py and CLI.py for the entry point (and argParse module)\n",
    "3. UnitTable.py and the unit_tables directory (and lambda function)\n",
    "4. Converter.py (and importlib module)\n",
    "5. Putting all of them together!"
   ]
  },
  {
   "cell_type": "markdown",
   "metadata": {},
   "source": [
    "## 幾個重要的概念：\n",
    "1. Chapter 05 用 **os.argv[**]**\n",
    "2. Chapter 09 用 **argparse** 的方法：提供 positional/optional argument，之後作相對應的處理，其中並包括提示的 -h 等相關參數的選項資訊\n",
    "3. **import importlib**: 如何 **run-time** 載入一個 py 檔的 module\n",
    "4. **getattr()** 如何 **run-time instatntiate** 一個指定類別的 object？從一個 module 中，取出其中定義的一個 class 的 type，然後利用在 **type 後馬上補上()** 就可 instantiate 一個相對應的物件\n",
    "5. **lambda function**: 同一名稱的 function 可透過 (key) 調整適應不同的狀況，舉例來說，像是 to_base_unit 的 source。我們可以將這些 lambda function 按 key 存入一個 dictionary，之後用 key 取得。在此之前，用前述取得物件的技術，先取得藏這 dictionary 的物件。\n",
    "4. **inspect module** 在我們執要環境中的 modules, classes, methods, functions,...等，一定都是從 code 來的，我們會想要知道其相對應的 code 為何？"
   ]
  },
  {
   "cell_type": "code",
   "execution_count": 1,
   "metadata": {},
   "outputs": [],
   "source": [
    "import os\n",
    "course_directory = 'D:\\\\Google雲端硬碟\\\\GettingStartedWithPythonAndRaspberryPi-book_release'\n",
    "os.chdir(course_directory + \"/Chapter09/unitconverter\")"
   ]
  },
  {
   "cell_type": "markdown",
   "metadata": {},
   "source": [
    "## -5- 現在全部放在一起，再看一遍"
   ]
  },
  {
   "cell_type": "code",
   "execution_count": 2,
   "metadata": {
    "ExecuteTime": {
     "end_time": "2018-05-26T14:32:19.902000Z",
     "start_time": "2018-05-26T14:32:19.898000Z"
    },
    "code_folding": []
   },
   "outputs": [],
   "source": [
    "# import required libraries\n",
    "import argparse\n",
    "import inspect\n",
    "from unitconverter.Converter import get_table, convert_units"
   ]
  },
  {
   "cell_type": "markdown",
   "metadata": {},
   "source": [
    "### 2.1 借助 python 內建的 setup 功能，可以方便地構建CLI環境。\n",
    "setup.py定義了以下內容：\n",
    "+ entry_points: 我們可以在CLI界面中輸入\"unitconvert\" 的指令來啟動這個程式\n",
    "+ packages: 需要包含進來的所有程式\n",
    "\n",
    "### 注意：setup.py 的程式無法在 jupyter 環境中執行"
   ]
  },
  {
   "cell_type": "code",
   "execution_count": null,
   "metadata": {
    "ExecuteTime": {
     "end_time": "2018-05-28T15:37:26.619000Z",
     "start_time": "2018-05-28T15:37:26.588000Z"
    },
    "code_folding": [
     2
    ]
   },
   "outputs": [],
   "source": [
    "'''\n",
    "以下是 setup.py 的內容\n",
    "\n",
    "在 ipython 裏執行會出錯，必須在 shell 中執行\n",
    "'''\n",
    "from setuptools import setup\n",
    "\n",
    "setup(\n",
    "    name='unitconverter',\n",
    "    version='0.1.0',\n",
    "    entry_points={\n",
    "        'console_scripts': ['unitconvert=unitconverter.CLI:run_cli'],\n",
    "    },  ## 這一行 entry_points 是新加的！ 以後就在 command line 打 unitconvert 即可\n",
    "    description='Command line tool for unit conversion',\n",
    "    classifiers=[\n",
    "        'Natural Language :: English',\n",
    "        'Programming Language :: Python :: 3.5',\n",
    "        'Programming Language :: Python :: 3.6',\n",
    "        'Programming Language :: Python :: 3.7',\n",
    "    ],\n",
    "    author='Dan Nixon',\n",
    "    packages=['unitconverter', 'unitconverter.unit_tables'],\n",
    "    include_package_data=True, #  to include any data files in package\n",
    "    zip_safe=False)\n"
   ]
  },
  {
   "cell_type": "markdown",
   "metadata": {},
   "source": [
    "我們可以使用 shell command 的提非號 ! \\\n",
    "而不需轉到 console，即可執行 \"python setup.py install\"，\\\n",
    "安裝完以後方可以啟用命令行工具"
   ]
  },
  {
   "cell_type": "code",
   "execution_count": 3,
   "metadata": {},
   "outputs": [
    {
     "name": "stdout",
     "output_type": "stream",
     "text": [
      "列出磁碟區 新增磁碟區 的資料夾 PATH\n",
      "磁碟區序號為 E422-9B08\n",
      "D:.\n",
      "├─build\n",
      "│  ├─bdist.win-amd64\n",
      "│  └─lib\n",
      "│      └─unitconverter\n",
      "│          └─unit_tables\n",
      "├─dist\n",
      "├─unitconverter\n",
      "│  ├─unit_tables\n",
      "│  │  └─__pycache__\n",
      "│  └─__pycache__\n",
      "├─unitconverter.egg-info\n",
      "└─__pycache__ (1)\n"
     ]
    }
   ],
   "source": [
    "!tree"
   ]
  },
  {
   "cell_type": "code",
   "execution_count": 4,
   "metadata": {
    "ExecuteTime": {
     "end_time": "2018-05-30T01:25:57.636000Z",
     "start_time": "2018-05-30T01:25:56.585000Z"
    }
   },
   "outputs": [
    {
     "name": "stdout",
     "output_type": "stream",
     "text": [
      "running install\n",
      "running bdist_egg\n",
      "running egg_info\n",
      "writing unitconverter.egg-info\\PKG-INFO\n",
      "writing dependency_links to unitconverter.egg-info\\dependency_links.txt\n",
      "writing entry points to unitconverter.egg-info\\entry_points.txt\n",
      "writing top-level names to unitconverter.egg-info\\top_level.txt\n",
      "reading manifest file 'unitconverter.egg-info\\SOURCES.txt'\n",
      "writing manifest file 'unitconverter.egg-info\\SOURCES.txt'\n",
      "installing library code to build\\bdist.win-amd64\\egg\n",
      "running install_lib\n",
      "running build_py\n",
      "creating build\\bdist.win-amd64\\egg\n",
      "copying build\\lib\\desktop.ini -> build\\bdist.win-amd64\\egg\n",
      "creating build\\bdist.win-amd64\\egg\\unitconverter\n",
      "copying build\\lib\\unitconverter\\CLI.py -> build\\bdist.win-amd64\\egg\\unitconverter\n",
      "copying build\\lib\\unitconverter\\Converter.py -> build\\bdist.win-amd64\\egg\\unitconverter\n",
      "copying build\\lib\\unitconverter\\desktop.ini -> build\\bdist.win-amd64\\egg\\unitconverter\n",
      "copying build\\lib\\unitconverter\\UnitTable.py -> build\\bdist.win-amd64\\egg\\unitconverter\n",
      "creating build\\bdist.win-amd64\\egg\\unitconverter\\unit_tables\n",
      "copying build\\lib\\unitconverter\\unit_tables\\angle.py -> build\\bdist.win-amd64\\egg\\unitconverter\\unit_tables\n",
      "copying build\\lib\\unitconverter\\unit_tables\\desktop.ini -> build\\bdist.win-amd64\\egg\\unitconverter\\unit_tables\n",
      "copying build\\lib\\unitconverter\\unit_tables\\energy.py -> build\\bdist.win-amd64\\egg\\unitconverter\\unit_tables\n",
      "copying build\\lib\\unitconverter\\unit_tables\\length.py -> build\\bdist.win-amd64\\egg\\unitconverter\\unit_tables\n",
      "copying build\\lib\\unitconverter\\unit_tables\\mass.py -> build\\bdist.win-amd64\\egg\\unitconverter\\unit_tables\n",
      "copying build\\lib\\unitconverter\\unit_tables\\speed.py -> build\\bdist.win-amd64\\egg\\unitconverter\\unit_tables\n",
      "copying build\\lib\\unitconverter\\unit_tables\\temperature.py -> build\\bdist.win-amd64\\egg\\unitconverter\\unit_tables\n",
      "copying build\\lib\\unitconverter\\unit_tables\\time.py -> build\\bdist.win-amd64\\egg\\unitconverter\\unit_tables\n",
      "copying build\\lib\\unitconverter\\unit_tables\\__init__.py -> build\\bdist.win-amd64\\egg\\unitconverter\\unit_tables\n",
      "copying build\\lib\\unitconverter\\__init__.py -> build\\bdist.win-amd64\\egg\\unitconverter\n",
      "byte-compiling build\\bdist.win-amd64\\egg\\unitconverter\\CLI.py to CLI.cpython-37.pyc\n",
      "byte-compiling build\\bdist.win-amd64\\egg\\unitconverter\\Converter.py to Converter.cpython-37.pyc\n",
      "byte-compiling build\\bdist.win-amd64\\egg\\unitconverter\\UnitTable.py to UnitTable.cpython-37.pyc\n",
      "byte-compiling build\\bdist.win-amd64\\egg\\unitconverter\\unit_tables\\angle.py to angle.cpython-37.pyc\n",
      "byte-compiling build\\bdist.win-amd64\\egg\\unitconverter\\unit_tables\\energy.py to energy.cpython-37.pyc\n",
      "byte-compiling build\\bdist.win-amd64\\egg\\unitconverter\\unit_tables\\length.py to length.cpython-37.pyc\n",
      "byte-compiling build\\bdist.win-amd64\\egg\\unitconverter\\unit_tables\\mass.py to mass.cpython-37.pyc\n",
      "byte-compiling build\\bdist.win-amd64\\egg\\unitconverter\\unit_tables\\speed.py to speed.cpython-37.pyc\n",
      "byte-compiling build\\bdist.win-amd64\\egg\\unitconverter\\unit_tables\\temperature.py to temperature.cpython-37.pyc\n",
      "byte-compiling build\\bdist.win-amd64\\egg\\unitconverter\\unit_tables\\time.py to time.cpython-37.pyc\n",
      "byte-compiling build\\bdist.win-amd64\\egg\\unitconverter\\unit_tables\\__init__.py to __init__.cpython-37.pyc\n",
      "byte-compiling build\\bdist.win-amd64\\egg\\unitconverter\\__init__.py to __init__.cpython-37.pyc\n",
      "creating build\\bdist.win-amd64\\egg\\EGG-INFO\n",
      "copying unitconverter.egg-info\\PKG-INFO -> build\\bdist.win-amd64\\egg\\EGG-INFO\n",
      "copying unitconverter.egg-info\\SOURCES.txt -> build\\bdist.win-amd64\\egg\\EGG-INFO\n",
      "copying unitconverter.egg-info\\dependency_links.txt -> build\\bdist.win-amd64\\egg\\EGG-INFO\n",
      "copying unitconverter.egg-info\\desktop.ini -> build\\bdist.win-amd64\\egg\\EGG-INFO\n",
      "copying unitconverter.egg-info\\entry_points.txt -> build\\bdist.win-amd64\\egg\\EGG-INFO\n",
      "copying unitconverter.egg-info\\not-zip-safe -> build\\bdist.win-amd64\\egg\\EGG-INFO\n",
      "copying unitconverter.egg-info\\top_level.txt -> build\\bdist.win-amd64\\egg\\EGG-INFO\n",
      "creating 'dist\\unitconverter-0.1.0-py3.7.egg' and adding 'build\\bdist.win-amd64\\egg' to it\n",
      "removing 'build\\bdist.win-amd64\\egg' (and everything under it)\n",
      "Processing unitconverter-0.1.0-py3.7.egg\n",
      "removing 'c:\\users\\public\\anaconda3\\lib\\site-packages\\unitconverter-0.1.0-py3.7.egg' (and everything under it)\n",
      "creating c:\\users\\public\\anaconda3\\lib\\site-packages\\unitconverter-0.1.0-py3.7.egg\n",
      "Extracting unitconverter-0.1.0-py3.7.egg to c:\\users\\public\\anaconda3\\lib\\site-packages\n",
      "unitconverter 0.1.0 is already the active version in easy-install.pth\n",
      "Installing unitconvert-script.py script to C:\\Users\\Public\\Anaconda3\\Scripts\n",
      "Installing unitconvert.exe script to C:\\Users\\Public\\Anaconda3\\Scripts\n",
      "\n",
      "Installed c:\\users\\public\\anaconda3\\lib\\site-packages\\unitconverter-0.1.0-py3.7.egg\n",
      "Processing dependencies for unitconverter==0.1.0\n",
      "Finished processing dependencies for unitconverter==0.1.0\n"
     ]
    }
   ],
   "source": [
    "! python setup.py install"
   ]
  },
  {
   "cell_type": "code",
   "execution_count": 7,
   "metadata": {},
   "outputs": [
    {
     "name": "stdout",
     "output_type": "stream",
     "text": [
      "usage: unitconvert [-h] TABLE {list,convert} ...\n",
      "\n",
      "Tool for converting units\n",
      "\n",
      "positional arguments:\n",
      "  TABLE           Unit table to use in conversion\n",
      "  {list,convert}  operation to be performed\n",
      "\n",
      "optional arguments:\n",
      "  -h, --help      show this help message and exit\n"
     ]
    }
   ],
   "source": [
    "! unitconvert -h"
   ]
  },
  {
   "cell_type": "code",
   "execution_count": 5,
   "metadata": {},
   "outputs": [
    {
     "name": "stdout",
     "output_type": "stream",
     "text": [
      "Unit table time can convert between the units:\n",
      "d (x / 86400.0)\n",
      "y (x / 3.15569e7)\n",
      "ns (x * 1000000000.0)\n",
      "s (base unit)\n",
      "h (x / 3600.0)\n",
      "m (x / 60.0)\n",
      "ms (x * 1000.0)\n",
      "us (x * 1000000.0)\n"
     ]
    }
   ],
   "source": [
    "! unitconvert time list -m"
   ]
  },
  {
   "cell_type": "code",
   "execution_count": 6,
   "metadata": {},
   "outputs": [
    {
     "name": "stdout",
     "output_type": "stream",
     "text": [
      "usage: unitconvert TABLE convert [-h] VALUE FROM TO [TO ...]\n",
      "\n",
      "positional arguments:\n",
      "  VALUE       The value to convert\n",
      "  FROM        Unit to convert from\n",
      "  TO          Unit(s) to convert to\n",
      "\n",
      "optional arguments:\n",
      "  -h, --help  show this help message and exit\n"
     ]
    }
   ],
   "source": [
    "! unitconvert time convert -h"
   ]
  },
  {
   "cell_type": "markdown",
   "metadata": {},
   "source": [
    "## 以下是本章的重頭戲，仔細說明 CLI.py 的內容\n",
    "\n",
    "**整個的重點就是怎麼 (解譯) command line 中讀進來的指令以及接在後面的各個 positional/optional arguments → propos**\n",
    "\n",
    "- parser.add_argument()\n",
    "- subparsers = parser.add_subparsers()\n",
    "- list_table_parser = subparsers.add_parser('list')\n",
    "- list_table_parser.set_defaults(which='list')\n",
    "- list_table_parser.add_argument()"
   ]
  },
  {
   "cell_type": "code",
   "execution_count": null,
   "metadata": {},
   "outputs": [],
   "source": [
    "'''\n",
    "以下內容是 CLI.py 內容\n",
    "'''\n",
    "import argparse\n",
    "import inspect\n",
    "from unitconverter.Converter import get_table, convert_units\n",
    "\n",
    "\n",
    "def run_cli(): # 這是在 setup.py 裏面加進 entry_ponts 的執行程式主體\n",
    "    parser = argparse.ArgumentParser(description='Tool for converting units')\n",
    "\n",
    "    parser.add_argument( # 第一個參數\n",
    "        'table',         # 存入物件的 attribute\n",
    "        metavar='TABLE',\n",
    "        action='store',\n",
    "        type=str,        # 資料型態\n",
    "        help='Unit table to use in conversion'\n",
    "    )\n",
    "\n",
    "    ## 接下來的參數可能是 {list, convert} 它們通稱 subparsers\n",
    "    \n",
    "    subparsers = parser.add_subparsers(help='operation to be performed')\n",
    "\n",
    "    list_table_parser = subparsers.add_parser('list')\n",
    "    list_table_parser.set_defaults(which='list')\n",
    "\n",
    "    list_table_parser.add_argument(\n",
    "        '-m', '--method',     # 多一個 help 的選項：如果有的話，設定為 TRUE，之後會用到\n",
    "        action='store_true',\n",
    "        help='Also output the conversion method from the base unit'\n",
    "    )\n",
    "\n",
    "    conversion_parser = subparsers.add_parser('convert')\n",
    "    conversion_parser.set_defaults(which='convert')\n",
    "\n",
    "    ## 之後，如果是要 conver 的話，後面還要有 VALUE FROM TO (+TO)\n",
    "    \n",
    "    ## 這些為 convert 修件下的 positional argument\n",
    "    ## positional 表示與出現的順序有關\n",
    "    \n",
    "    conversion_parser.add_argument(\n",
    "        'value',\n",
    "        metavar='VALUE',\n",
    "        type=float,\n",
    "        action='store',\n",
    "        help='The value to convert'\n",
    "    )\n",
    "\n",
    "    conversion_parser.add_argument(\n",
    "        'from_unit',\n",
    "        metavar='FROM',\n",
    "        action='store',\n",
    "        type=str,\n",
    "        help='Unit to convert from'\n",
    "    )\n",
    "\n",
    "    conversion_parser.add_argument(\n",
    "        'to_units',\n",
    "        metavar='TO',\n",
    "        action='store',\n",
    "        nargs='+', # 至少有一個\n",
    "        type=str,\n",
    "        help='Unit(s) to convert to'\n",
    "    )\n",
    "\n",
    "    ## 所有輸入的參數入列到 propos 裏\n",
    "    ## 在上面一共有看到 {which, method, value, from_unit, to_units }\n",
    "    props = parser.parse_args()\n",
    "\n",
    "    if props.which == 'list':\n",
    "        _run_unit_list(props)\n",
    "    elif props.which == 'convert':\n",
    "        _run_conversion(props)\n",
    "\n",
    "\n",
    "def _run_unit_list(props):\n",
    "    \"\"\"\n",
    "    Runs the command line interface for unit listing mode.\n",
    "\n",
    "    @param props Properties parsed by argparse\n",
    "    \"\"\"\n",
    "\n",
    "    table = get_table(props.table)\n",
    "    print('Unit table %s can convert between the units:' % props.table)\n",
    "    for unit in table.get_units():\n",
    "        if props.method:\n",
    "            if unit == table.base_unit:\n",
    "                formula = 'base unit'\n",
    "            else:\n",
    "                '''\n",
    "                還記得 lambda function 嗎？\n",
    "                        self.to_base_unit['ev']        = lambda x: x / 6241506480000000000.0\n",
    "                        self.from_base_unit['ev']      = lambda x: x * 6241506480000000000.0\n",
    "                '''                           \n",
    "                conversion = inspect.getsource(table.from_base_unit[unit])\n",
    "                formula = conversion[conversion.index(':')+1:conversion.index('\\n')].strip()\n",
    "            print('%s (%s)' % (unit, formula))\n",
    "        else:\n",
    "            print(unit)\n",
    "\n",
    "\n",
    "def _run_conversion(props):\n",
    "    \"\"\"\n",
    "    Runs the command line interface for unit conversion mode.\n",
    "\n",
    "    @param props Properties parsed by argparse\n",
    "    \"\"\"\n",
    "\n",
    "    results = convert_units(table_name=props.table,\n",
    "                            value=props.value,\n",
    "                            value_unit=props.from_unit,\n",
    "                            targets=props.to_units)\n",
    "\n",
    "    for result in results:\n",
    "        print('%f %s = %f %s' % (props.value, props.from_unit,\n",
    "                                 result['converted_value'],\n",
    "                                 result['dest_unit']))\n"
   ]
  },
  {
   "cell_type": "markdown",
   "metadata": {},
   "source": [
    "### 我們先看：對 \"unitconvert table list -- method\" 的處理方式"
   ]
  },
  {
   "cell_type": "code",
   "execution_count": 8,
   "metadata": {},
   "outputs": [
    {
     "name": "stdout",
     "output_type": "stream",
     "text": [
      "Unit table energy can convert between the units:\n",
      "ev (x * 6241506480000000000.0)\n",
      "btu (x * 0.00094781707775)\n",
      "kcal (x * 0.00023884589663)\n",
      "wh (x * 0.00027777777778)\n",
      "hph (x * 3.7250614123e-7)\n",
      "cal (x * 0.23900573614)\n",
      "j (base unit)\n"
     ]
    }
   ],
   "source": [
    "!unitconvert energy list -m"
   ]
  },
  {
   "cell_type": "code",
   "execution_count": 9,
   "metadata": {},
   "outputs": [
    {
     "data": {
      "text/plain": [
       "{'base_unit': 's',\n",
       " 'to_base_unit': {'m': <function unitconverter.unit_tables.time.time.__init__.<locals>.<lambda>(x)>,\n",
       "  'h': <function unitconverter.unit_tables.time.time.__init__.<locals>.<lambda>(x)>,\n",
       "  'd': <function unitconverter.unit_tables.time.time.__init__.<locals>.<lambda>(x)>,\n",
       "  'y': <function unitconverter.unit_tables.time.time.__init__.<locals>.<lambda>(x)>,\n",
       "  'ms': <function unitconverter.unit_tables.time.time.__init__.<locals>.<lambda>(x)>,\n",
       "  'us': <function unitconverter.unit_tables.time.time.__init__.<locals>.<lambda>(x)>,\n",
       "  'ns': <function unitconverter.unit_tables.time.time.__init__.<locals>.<lambda>(x)>},\n",
       " 'from_base_unit': {'m': <function unitconverter.unit_tables.time.time.__init__.<locals>.<lambda>(x)>,\n",
       "  'h': <function unitconverter.unit_tables.time.time.__init__.<locals>.<lambda>(x)>,\n",
       "  'd': <function unitconverter.unit_tables.time.time.__init__.<locals>.<lambda>(x)>,\n",
       "  'y': <function unitconverter.unit_tables.time.time.__init__.<locals>.<lambda>(x)>,\n",
       "  'ms': <function unitconverter.unit_tables.time.time.__init__.<locals>.<lambda>(x)>,\n",
       "  'us': <function unitconverter.unit_tables.time.time.__init__.<locals>.<lambda>(x)>,\n",
       "  'ns': <function unitconverter.unit_tables.time.time.__init__.<locals>.<lambda>(x)>}}"
      ]
     },
     "execution_count": 9,
     "metadata": {},
     "output_type": "execute_result"
    }
   ],
   "source": [
    "get_table(\"time\").__dict__"
   ]
  },
  {
   "cell_type": "code",
   "execution_count": 10,
   "metadata": {},
   "outputs": [
    {
     "data": {
      "text/plain": [
       "{'m': <function unitconverter.unit_tables.time.time.__init__.<locals>.<lambda>(x)>,\n",
       " 'h': <function unitconverter.unit_tables.time.time.__init__.<locals>.<lambda>(x)>,\n",
       " 'd': <function unitconverter.unit_tables.time.time.__init__.<locals>.<lambda>(x)>,\n",
       " 'y': <function unitconverter.unit_tables.time.time.__init__.<locals>.<lambda>(x)>,\n",
       " 'ms': <function unitconverter.unit_tables.time.time.__init__.<locals>.<lambda>(x)>,\n",
       " 'us': <function unitconverter.unit_tables.time.time.__init__.<locals>.<lambda>(x)>,\n",
       " 'ns': <function unitconverter.unit_tables.time.time.__init__.<locals>.<lambda>(x)>}"
      ]
     },
     "execution_count": 10,
     "metadata": {},
     "output_type": "execute_result"
    }
   ],
   "source": [
    "get_table(\"time\").from_base_unit"
   ]
  },
  {
   "cell_type": "code",
   "execution_count": 11,
   "metadata": {},
   "outputs": [
    {
     "data": {
      "text/plain": [
       "<function unitconverter.unit_tables.time.time.__init__.<locals>.<lambda>(x)>"
      ]
     },
     "execution_count": 11,
     "metadata": {},
     "output_type": "execute_result"
    }
   ],
   "source": [
    "'''\n",
    "time 這個物件的 from_base_unit['d'] 的這個變數，是一個 lambda function\n",
    "'''\n",
    "get_table(\"time\").from_base_unit['d']"
   ]
  },
  {
   "cell_type": "code",
   "execution_count": 12,
   "metadata": {},
   "outputs": [
    {
     "data": {
      "text/plain": [
       "\"        self.from_base_unit['d'] = lambda x: x / 86400.0\\n\""
      ]
     },
     "execution_count": 12,
     "metadata": {},
     "output_type": "execute_result"
    }
   ],
   "source": [
    "'''\n",
    "inspect 是用來將其原始的程式碼取出來\n",
    "'''\n",
    "import inspect\n",
    "conversion = inspect.getsource(get_table(\"time\").from_base_unit['d'])\n",
    "conversion"
   ]
  },
  {
   "cell_type": "code",
   "execution_count": 13,
   "metadata": {},
   "outputs": [],
   "source": [
    "'''\n",
    "以下是當選用 list 時的反應：\n",
    "'''\n",
    "def _run_unit_list(props):\n",
    "    \"\"\"\n",
    "    Runs the command line interface for unit listing mode.\n",
    "\n",
    "    @param props Properties parsed by argparse\n",
    "    \"\"\"\n",
    "\n",
    "    table = get_table(props.table)\n",
    "    print('Unit table %s can convert between the units:' % props.table)\n",
    "    for unit in table.get_units():\n",
    "        if props.method:\n",
    "            if unit == table.base_unit:\n",
    "                formula = 'base unit'\n",
    "            else:\n",
    "                conversion = inspect.getsource(table.from_base_unit[unit])\n",
    "                \"\"\"\n",
    "                self.from_base_unit['radian'] = lambda x: x * 0.0174532925\n",
    "                \"\"\"\n",
    "                formula = conversion[conversion.index(':') + 1:conversion.index('\\n')].strip() # 這是要將一開頭的 [lambda x:] 給去掉\n",
    "            print('%s (%s)' % (unit, formula))\n",
    "        else:\n",
    "            print(unit)\n"
   ]
  },
  {
   "cell_type": "code",
   "execution_count": 14,
   "metadata": {},
   "outputs": [
    {
     "data": {
      "text/plain": [
       "'x / 86400.0'"
      ]
     },
     "execution_count": 14,
     "metadata": {},
     "output_type": "execute_result"
    }
   ],
   "source": [
    "'''\n",
    "conversion 是一個字串，我們取出 \"lambda x: x / 86400.0\\n\" 中的 \"x / 86400.0\"\n",
    "'''\n",
    "formula = conversion[conversion.index(':')+1:conversion.index('\\n')].strip()\n",
    "formula"
   ]
  },
  {
   "cell_type": "code",
   "execution_count": 15,
   "metadata": {},
   "outputs": [
    {
     "name": "stdout",
     "output_type": "stream",
     "text": [
      "Unit table time can convert between the units:\n",
      "d (x / 86400.0)\n",
      "y (x / 3.15569e7)\n",
      "s (base unit)\n",
      "ms (x * 1000.0)\n",
      "m (x / 60.0)\n",
      "us (x * 1000000.0)\n",
      "h (x / 3600.0)\n",
      "ns (x * 1000000000.0)\n"
     ]
    }
   ],
   "source": [
    "! unitconvert time list -m"
   ]
  },
  {
   "cell_type": "code",
   "execution_count": 16,
   "metadata": {},
   "outputs": [
    {
     "data": {
      "text/plain": [
       "[{'dest_unit': 'm', 'converted_value': 1440.0},\n",
       " {'dest_unit': 's', 'converted_value': 86400.0}]"
      ]
     },
     "execution_count": 16,
     "metadata": {},
     "output_type": "execute_result"
    }
   ],
   "source": [
    "convert_units('time', 1, 'd', [\"m\", \"s\"])"
   ]
  },
  {
   "cell_type": "markdown",
   "metadata": {},
   "source": [
    "## 我們再看其他的幾個例子"
   ]
  },
  {
   "cell_type": "code",
   "execution_count": 17,
   "metadata": {},
   "outputs": [
    {
     "name": "stdout",
     "output_type": "stream",
     "text": [
      "Unit table energy can convert between the units:\n",
      "j\n",
      "ev\n",
      "kcal\n",
      "hph\n",
      "btu\n",
      "cal\n",
      "wh\n"
     ]
    }
   ],
   "source": [
    "!unitconvert energy list"
   ]
  },
  {
   "cell_type": "code",
   "execution_count": 18,
   "metadata": {},
   "outputs": [
    {
     "name": "stdout",
     "output_type": "stream",
     "text": [
      "Unit table energy can convert between the units:\n",
      "ev (x * 6241506480000000000.0)\n",
      "btu (x * 0.00094781707775)\n",
      "j (base unit)\n",
      "cal (x * 0.23900573614)\n",
      "hph (x * 3.7250614123e-7)\n",
      "wh (x * 0.00027777777778)\n",
      "kcal (x * 0.00023884589663)\n"
     ]
    }
   ],
   "source": [
    "!unitconvert energy list -m"
   ]
  },
  {
   "cell_type": "code",
   "execution_count": 19,
   "metadata": {},
   "outputs": [
    {
     "name": "stdout",
     "output_type": "stream",
     "text": [
      "2500.000000 kcal = 2501673.040151 cal\n",
      "2500.000000 kcal = 10466999.999890 j\n",
      "2500.000000 kcal = 65329848325475080695971840.000000 ev\n"
     ]
    }
   ],
   "source": [
    "! unitconvert energy convert 2500 kcal cal j ev"
   ]
  },
  {
   "cell_type": "markdown",
   "metadata": {},
   "source": [
    "## 2.2 主幹 parser \n",
    "\n",
    "1. 之前在 Chapter 05 中，有寫過 CLI.py 是用 argv[-] 來處理輸入的參數，\\\n",
    "還記得嗎？  for arg in sys.argv[1:]:\n",
    "\n",
    "2. 現在，用另外一種方式，先宣告一個 parser 用於儲存 table 的類別，\\\n",
    "之後所有的輸入都會進這個物件裏，而且，我們也可以準備一些類似 --help 等的資訊"
   ]
  },
  {
   "cell_type": "code",
   "execution_count": 20,
   "metadata": {
    "code_folding": []
   },
   "outputs": [
    {
     "data": {
      "text/plain": [
       "_StoreAction(option_strings=[], dest='table', nargs=None, const=None, default=None, type=<class 'str'>, choices=None, help='Unit table to use in conversion', metavar='TABLE')"
      ]
     },
     "execution_count": 20,
     "metadata": {},
     "output_type": "execute_result"
    }
   ],
   "source": [
    "'''\n",
    "這是 CLI.py 部份內容\n",
    "'''\n",
    "import argparse\n",
    "from unitconverter.Converter import get_table, convert_units\n",
    "import inspect ## 之後我們要將 lambda function 的指令讀出來用\n",
    "\n",
    "parser = argparse.ArgumentParser(description='Tool for converting units')\n",
    "\n",
    "parser.add_argument(\n",
    "    'table',\n",
    "    metavar='TABLE',\n",
    "    action='store',\n",
    "    type=str,\n",
    "    help='Unit table to use in conversion'\n",
    ")"
   ]
  },
  {
   "cell_type": "markdown",
   "metadata": {},
   "source": [
    "### 另外定義 list 和 convert 兩種功能，依靠關鍵字 \"list\" 和 \"convert\" 以在兩者之間切換"
   ]
  },
  {
   "cell_type": "code",
   "execution_count": 21,
   "metadata": {
    "ExecuteTime": {
     "end_time": "2018-05-29T16:18:41.563000Z",
     "start_time": "2018-05-29T16:18:41.493000Z"
    }
   },
   "outputs": [],
   "source": [
    "subparsers = parser.add_subparsers(help='operation to be performed')\n",
    "\n",
    "list_table_parser = subparsers.add_parser('list')\n",
    "list_table_parser.set_defaults(which='list')"
   ]
  },
  {
   "cell_type": "code",
   "execution_count": 22,
   "metadata": {
    "ExecuteTime": {
     "end_time": "2018-05-29T16:18:41.563000Z",
     "start_time": "2018-05-29T16:18:41.493000Z"
    }
   },
   "outputs": [],
   "source": [
    "conversion_parser = subparsers.add_parser('convert')\n",
    "conversion_parser.set_defaults(which='convert')"
   ]
  },
  {
   "cell_type": "markdown",
   "metadata": {},
   "source": [
    "## 變數props儲存用戶輸入的功能關鍵字，利用它來進行功能切換"
   ]
  },
  {
   "cell_type": "code",
   "execution_count": 23,
   "metadata": {},
   "outputs": [
    {
     "name": "stdout",
     "output_type": "stream",
     "text": [
      "usage: unitconvert [-h] TABLE {list,convert} ...\n",
      "\n",
      "Tool for converting units\n",
      "\n",
      "positional arguments:\n",
      "  TABLE           Unit table to use in conversion\n",
      "  {list,convert}  operation to be performed\n",
      "\n",
      "optional arguments:\n",
      "  -h, --help      show this help message and exit\n"
     ]
    }
   ],
   "source": [
    "!unitconvert -h"
   ]
  },
  {
   "cell_type": "code",
   "execution_count": 24,
   "metadata": {},
   "outputs": [
    {
     "name": "stderr",
     "output_type": "stream",
     "text": [
      "usage: ipykernel_launcher.py [-h] TABLE {list,convert} ...\n",
      "ipykernel_launcher.py: error: unrecognized arguments: -f\n"
     ]
    },
    {
     "ename": "SystemExit",
     "evalue": "2",
     "output_type": "error",
     "traceback": [
      "An exception has occurred, use %tb to see the full traceback.\n",
      "\u001b[1;31mSystemExit\u001b[0m\u001b[1;31m:\u001b[0m 2\n"
     ]
    },
    {
     "name": "stderr",
     "output_type": "stream",
     "text": [
      "C:\\Users\\Public\\Anaconda3\\lib\\site-packages\\IPython\\core\\interactiveshell.py:3425: UserWarning: To exit: use 'exit', 'quit', or Ctrl-D.\n",
      "  warn(\"To exit: use 'exit', 'quit', or Ctrl-D.\", stacklevel=1)\n"
     ]
    }
   ],
   "source": [
    "# 以下是 CLI.py 針對不同的 which 進行不相應的處理流程：\n",
    "# 在 jupyter notebook 中，不能單獨執行\n",
    "props = parser.parse_args()\n",
    "\n",
    "if props.which == 'list':\n",
    "    _run_unit_list(props)\n",
    "elif props.which == 'convert':\n",
    "    _run_conversion(props)"
   ]
  },
  {
   "cell_type": "markdown",
   "metadata": {},
   "source": [
    "### 2.3 list功能\n",
    "#### 對於list功能，新增一個argument -m，讓程式可以輸出不同單位之間的轉換關係"
   ]
  },
  {
   "cell_type": "code",
   "execution_count": 25,
   "metadata": {},
   "outputs": [
    {
     "name": "stdout",
     "output_type": "stream",
     "text": [
      "usage: unitconvert TABLE list [-h] [-m]\n",
      "\n",
      "optional arguments:\n",
      "  -h, --help    show this help message and exit\n",
      "  -m, --method  Also output the conversion method from the base unit\n"
     ]
    }
   ],
   "source": [
    "!unitconvert time list -h"
   ]
  },
  {
   "cell_type": "code",
   "execution_count": 26,
   "metadata": {},
   "outputs": [
    {
     "name": "stdout",
     "output_type": "stream",
     "text": [
      "Unit table time can convert between the units:\n",
      "y (x / 3.15569e7)\n",
      "d (x / 86400.0)\n",
      "s (base unit)\n",
      "h (x / 3600.0)\n",
      "ns (x * 1000000000.0)\n",
      "m (x / 60.0)\n",
      "ms (x * 1000.0)\n",
      "us (x * 1000000.0)\n"
     ]
    }
   ],
   "source": [
    "!unitconvert time list -m"
   ]
  },
  {
   "cell_type": "code",
   "execution_count": 27,
   "metadata": {
    "ExecuteTime": {
     "end_time": "2018-05-29T16:22:00.993000Z",
     "start_time": "2018-05-29T16:22:00.960000Z"
    },
    "code_folding": [
     0
    ]
   },
   "outputs": [
    {
     "data": {
      "text/plain": [
       "_StoreTrueAction(option_strings=['-m', '--method'], dest='method', nargs=0, const=True, default=False, type=None, choices=None, help='Also output the conversion method from the base unit', metavar=None)"
      ]
     },
     "execution_count": 27,
     "metadata": {},
     "output_type": "execute_result"
    }
   ],
   "source": [
    "list_table_parser.add_argument(\n",
    "        '-m', '--method',\n",
    "        action='store_true',\n",
    "        help='Also output the conversion method from the base unit'\n",
    "    )"
   ]
  },
  {
   "cell_type": "markdown",
   "metadata": {},
   "source": [
    "##### 查看 energy table 中所有的單位"
   ]
  },
  {
   "cell_type": "code",
   "execution_count": 29,
   "metadata": {
    "ExecuteTime": {
     "end_time": "2018-05-30T01:16:46.079000Z",
     "start_time": "2018-05-30T01:16:45.879000Z"
    }
   },
   "outputs": [
    {
     "name": "stdout",
     "output_type": "stream",
     "text": [
      "Unit table energy can convert between the units:\n",
      "kcal\n",
      "hph\n",
      "cal\n",
      "wh\n",
      "j\n",
      "btu\n",
      "ev\n"
     ]
    }
   ],
   "source": [
    "!unitconvert energy list"
   ]
  },
  {
   "cell_type": "markdown",
   "metadata": {},
   "source": [
    "##### 查看 energy table 中單位之間的轉換關係"
   ]
  },
  {
   "cell_type": "code",
   "execution_count": 30,
   "metadata": {
    "ExecuteTime": {
     "end_time": "2018-05-30T01:17:24.587000Z",
     "start_time": "2018-05-30T01:17:24.371000Z"
    }
   },
   "outputs": [
    {
     "name": "stdout",
     "output_type": "stream",
     "text": [
      "Unit table energy can convert between the units:\n",
      "j (base unit)\n",
      "wh (x * 0.00027777777778)\n",
      "hph (x * 3.7250614123e-7)\n",
      "btu (x * 0.00094781707775)\n",
      "ev (x * 6241506480000000000.0)\n",
      "kcal (x * 0.00023884589663)\n",
      "cal (x * 0.23900573614)\n"
     ]
    }
   ],
   "source": [
    "!unitconvert energy list -m"
   ]
  },
  {
   "cell_type": "markdown",
   "metadata": {},
   "source": [
    "## list功能本質上是依靠 \\_run\\_unit\\_list方法來實現的\n",
    "    *呼叫Converter.py中的get_table方法\n",
    "    *當沒有argument -m傳入時，props.method為False，此時僅輸出各單位名稱\n",
    "    *當有argument -m傳入時，props.method為True，此時輸出各個單位間的轉換關係"
   ]
  },
  {
   "cell_type": "code",
   "execution_count": 31,
   "metadata": {
    "ExecuteTime": {
     "end_time": "2018-05-29T16:26:15.259000Z",
     "start_time": "2018-05-29T16:26:15.242000Z"
    },
    "code_folding": [
     0
    ]
   },
   "outputs": [],
   "source": [
    "def _run_unit_list(props):\n",
    "    \"\"\"\n",
    "    Runs the command line interface for unit listing mode.\n",
    "\n",
    "    @param props Properties parsed by argparse\n",
    "    \"\"\"\n",
    "\n",
    "    table = get_table(props.table)\n",
    "    print('Unit table %s can convert between the units:')\n",
    "    for unit in table.get_units():\n",
    "        if props.method:\n",
    "            if unit == table.base_unit:\n",
    "                formula = 'base unit'\n",
    "            else:\n",
    "                conversion = inspect.getsource(table.from_base_unit[unit])\n",
    "                formula = conversion[conversion.index(':') + 1:conversion.index('\\n')].strip()\n",
    "            print('%s (%s)' % (unit, formula))\n",
    "        else:\n",
    "            print(nit)"
   ]
  },
  {
   "cell_type": "markdown",
   "metadata": {},
   "source": [
    "### 仔細看看\\_run\\_unit\\_list方法的實現細節"
   ]
  },
  {
   "cell_type": "code",
   "execution_count": 32,
   "metadata": {
    "ExecuteTime": {
     "end_time": "2018-05-30T01:35:36.365000Z",
     "start_time": "2018-05-30T01:35:36.359000Z"
    }
   },
   "outputs": [
    {
     "data": {
      "text/plain": [
       "<function unitconverter.unit_tables.energy.energy.__init__.<locals>.<lambda>(x)>"
      ]
     },
     "execution_count": 32,
     "metadata": {},
     "output_type": "execute_result"
    }
   ],
   "source": [
    "table = get_table('energy')\n",
    "unit = 'ev'\n",
    "table.from_base_unit[unit]"
   ]
  },
  {
   "cell_type": "code",
   "execution_count": 33,
   "metadata": {
    "ExecuteTime": {
     "end_time": "2018-05-30T01:35:37.429000Z",
     "start_time": "2018-05-30T01:35:37.422000Z"
    }
   },
   "outputs": [
    {
     "data": {
      "text/plain": [
       "\"        self.from_base_unit['ev'] = lambda x: x * 6241506480000000000.0\\n\""
      ]
     },
     "execution_count": 33,
     "metadata": {},
     "output_type": "execute_result"
    }
   ],
   "source": [
    "conversion = inspect.getsource(table.from_base_unit[unit])\n",
    "conversion"
   ]
  },
  {
   "cell_type": "code",
   "execution_count": 34,
   "metadata": {},
   "outputs": [
    {
     "data": {
      "text/plain": [
       "' x * 6241506480000000000.0'"
      ]
     },
     "execution_count": 34,
     "metadata": {},
     "output_type": "execute_result"
    }
   ],
   "source": [
    "conversion[conversion.index(':') + 1:conversion.index('\\n')]"
   ]
  },
  {
   "cell_type": "code",
   "execution_count": 35,
   "metadata": {},
   "outputs": [
    {
     "data": {
      "text/plain": [
       "'x * 6241506480000000000.0'"
      ]
     },
     "execution_count": 35,
     "metadata": {},
     "output_type": "execute_result"
    }
   ],
   "source": [
    "conversion[conversion.index(':') + 1:conversion.index('\\n')].strip()"
   ]
  },
  {
   "cell_type": "markdown",
   "metadata": {},
   "source": [
    "## 2.4 convert 功能\n",
    "### 對於 convert 功能，新增 positional arguments，用來儲存單位轉換中的相關數值"
   ]
  },
  {
   "cell_type": "code",
   "execution_count": 36,
   "metadata": {
    "code_folding": [
     0,
     8,
     16
    ]
   },
   "outputs": [
    {
     "data": {
      "text/plain": [
       "_StoreAction(option_strings=[], dest='to_units', nargs='+', const=None, default=None, type=<class 'str'>, choices=None, help='Unit(s) to convert to', metavar='TO')"
      ]
     },
     "execution_count": 36,
     "metadata": {},
     "output_type": "execute_result"
    }
   ],
   "source": [
    "conversion_parser.add_argument(\n",
    "    'value',\n",
    "    metavar='VALUE',\n",
    "    type=float,\n",
    "    action='store',\n",
    "    help='The value to convert'\n",
    ")\n",
    "\n",
    "conversion_parser.add_argument(\n",
    "    'from_unit',\n",
    "    metavar='FROM',\n",
    "    action='store',\n",
    "    type=str,\n",
    "    help='Unit to convert from'\n",
    ")\n",
    "\n",
    "conversion_parser.add_argument(\n",
    "    'to_units',\n",
    "    metavar='TO',\n",
    "    action='store',\n",
    "    nargs='+',\n",
    "    type=str,\n",
    "    help='Unit(s) to convert to'\n",
    ")"
   ]
  },
  {
   "cell_type": "markdown",
   "metadata": {},
   "source": [
    "### 查看幫助"
   ]
  },
  {
   "cell_type": "code",
   "execution_count": 37,
   "metadata": {
    "ExecuteTime": {
     "end_time": "2018-05-29T16:43:37.548000Z",
     "start_time": "2018-05-29T16:43:37.314000Z"
    }
   },
   "outputs": [
    {
     "name": "stdout",
     "output_type": "stream",
     "text": [
      "usage: unitconvert TABLE convert [-h] VALUE FROM TO [TO ...]\n",
      "\n",
      "positional arguments:\n",
      "  VALUE       The value to convert\n",
      "  FROM        Unit to convert from\n",
      "  TO          Unit(s) to convert to\n",
      "\n",
      "optional arguments:\n",
      "  -h, --help  show this help message and exit\n"
     ]
    }
   ],
   "source": [
    "!unitconvert energy convert -h"
   ]
  },
  {
   "cell_type": "markdown",
   "metadata": {},
   "source": [
    "##### 類似 convert_units('energy', 200, 'wh', ['j', 'hph']) 的用法，使用 CLI 進行單位轉換\n",
    "    注意順序"
   ]
  },
  {
   "cell_type": "code",
   "execution_count": 38,
   "metadata": {},
   "outputs": [
    {
     "name": "stdout",
     "output_type": "stream",
     "text": [
      "2500.000000 kcal = 2501673.040151 cal\n",
      "2500.000000 kcal = 10466999.999890 j\n",
      "2500.000000 kcal = 65329848325475080695971840.000000 ev\n"
     ]
    }
   ],
   "source": [
    "! unitconvert energy convert 2500 kcal cal j ev"
   ]
  },
  {
   "cell_type": "markdown",
   "metadata": {},
   "source": [
    "#### convert 功能本質上是依靠 \\_run_conversion 方法來實現的\n",
    "    *呼叫Converter.py中的convert_units方法"
   ]
  },
  {
   "cell_type": "code",
   "execution_count": 39,
   "metadata": {},
   "outputs": [],
   "source": [
    "def _run_conversion(props):\n",
    "    \"\"\"\n",
    "    Runs the command line interface for unit conversion mode.\n",
    "\n",
    "    @param props Properties parsed by argparse\n",
    "    \"\"\"\n",
    "\n",
    "    results = convert_units(table_name=props.table,\n",
    "                            value=props.value,\n",
    "                            value_unit=props.from_unit,\n",
    "                            targets=props.to_units)\n",
    "\n",
    "    for result in results:\n",
    "        print('%f %s = %f %s' % (props.value, props.from_unit,\n",
    "                                 result['converted_value'],\n",
    "                                 result['dest_unit']))"
   ]
  },
  {
   "cell_type": "code",
   "execution_count": 40,
   "metadata": {},
   "outputs": [
    {
     "data": {
      "text/plain": [
       "[{'dest_unit': 'cal', 'converted_value': 2501673.0401511528},\n",
       " {'dest_unit': 'j', 'converted_value': 10466999.999890264},\n",
       " {'dest_unit': 'ev', 'converted_value': 6.532984832547508e+25}]"
      ]
     },
     "execution_count": 40,
     "metadata": {},
     "output_type": "execute_result"
    }
   ],
   "source": [
    "convert_units(\"energy\", 2500, \"kcal\", [\"cal\", \"j\", \"ev\"])"
   ]
  },
  {
   "cell_type": "code",
   "execution_count": null,
   "metadata": {},
   "outputs": [],
   "source": []
  }
 ],
 "metadata": {
  "gist": {
   "data": {
    "description": "Ch09/Untitled.ipynb",
    "public": false
   },
   "id": ""
  },
  "kernelspec": {
   "display_name": "Python 3",
   "language": "python",
   "name": "python3"
  },
  "language_info": {
   "codemirror_mode": {
    "name": "ipython",
    "version": 3
   },
   "file_extension": ".py",
   "mimetype": "text/x-python",
   "name": "python",
   "nbconvert_exporter": "python",
   "pygments_lexer": "ipython3",
   "version": "3.7.1"
  }
 },
 "nbformat": 4,
 "nbformat_minor": 2
}
