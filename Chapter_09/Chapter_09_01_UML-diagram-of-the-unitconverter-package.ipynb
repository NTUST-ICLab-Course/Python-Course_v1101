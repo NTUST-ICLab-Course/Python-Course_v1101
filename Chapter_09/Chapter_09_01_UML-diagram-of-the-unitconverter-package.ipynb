{
 "cells": [
  {
   "cell_type": "markdown",
   "metadata": {},
   "source": [
    "# Chapter 09: -1- UML diagram of the unitconveter package\n",
    "2020-11-14\n",
    "\n",
    "Content:\n",
    "1. **UML diagram of the unitconver package**\n",
    "2. setup.py and CLI.py for the entry point (and argParse module)\n",
    "3. UnitTable.py and the unit_tables directory (and lambda function)\n",
    "4. Converter.py (and importlib module)\n",
    "5. Putting all of them together!"
   ]
  },
  {
   "cell_type": "code",
   "execution_count": 1,
   "metadata": {},
   "outputs": [],
   "source": [
    "import os\n",
    "course_directory = 'D:\\\\Google雲端硬碟\\\\GettingStartedWithPythonAndRaspberryPi-book_release'\n",
    "os.chdir(course_directory + \"/Chapter09\")"
   ]
  },
  {
   "cell_type": "code",
   "execution_count": 3,
   "metadata": {},
   "outputs": [
    {
     "name": "stdout",
     "output_type": "stream",
     "text": [
      "列出磁碟區 新增磁碟區 的資料夾 PATH\n",
      "磁碟區序號為 E422-9B08\n",
      "D:.\n",
      "├─.ipynb_checkpoints\n",
      "└─unitconverter\n",
      "    ├─build\n",
      "    │  ├─bdist.win-amd64\n",
      "    │  └─lib\n",
      "    │      └─unitconverter\n",
      "    │          └─unit_tables\n",
      "    ├─dist\n",
      "    ├─unitconverter\n",
      "    │  ├─unit_tables\n",
      "    │  │  └─__pycache__\n",
      "    │  └─__pycache__\n",
      "    ├─unitconverter.egg-info\n",
      "    └─__pycache__ (1)\n"
     ]
    }
   ],
   "source": [
    "'''\n",
    "先來看一下有那些檔案\n",
    "'''\n",
    "! tree"
   ]
  },
  {
   "cell_type": "code",
   "execution_count": 4,
   "metadata": {},
   "outputs": [
    {
     "name": "stdout",
     "output_type": "stream",
     "text": [
      "列出磁碟區 新增磁碟區 的資料夾 PATH\n",
      "磁碟區序號為 E422-9B08\n",
      "D:\\GOOGLE雲端硬碟\\GETTINGSTARTEDWITHPYTHONANDRASPBERRYPI-BOOK_RELEASE\\CHAPTER09\\UNITCONVERTER\n",
      "│  setup.py\n",
      "│  \n",
      "├─build\n",
      "│  ├─bdist.win-amd64\n",
      "│  └─lib\n",
      "│      └─unitconverter\n",
      "│          │  CLI.py\n",
      "│          │  Converter.py\n",
      "│          │  UnitTable.py\n",
      "│          │  __init__.py\n",
      "│          │  \n",
      "│          └─unit_tables\n",
      "│                  angle.py\n",
      "│                  energy.py\n",
      "│                  length.py\n",
      "│                  mass.py\n",
      "│                  speed.py\n",
      "│                  temperature.py\n",
      "│                  time.py\n",
      "│                  __init__.py\n",
      "│                  \n",
      "├─dist\n",
      "│      unitconverter-0.1.0-py3.7.egg\n",
      "│      \n",
      "├─unitconverter\n",
      "│  │  CLI.py\n",
      "│  │  Converter.py\n",
      "│  │  UnitTable.py\n",
      "│  │  __init__.py\n",
      "│  │  \n",
      "│  ├─unit_tables\n",
      "│  │  │  angle.py\n",
      "│  │  │  energy.py\n",
      "│  │  │  length.py\n",
      "│  │  │  mass.py\n",
      "│  │  │  speed.py\n",
      "│  │  │  temperature.py\n",
      "│  │  │  time.py\n",
      "│  │  │  __init__.py\n",
      "│  │  │  \n",
      "│  │  └─__pycache__\n",
      "│  │          energy.cpython-37.pyc\n",
      "│  │          time.cpython-37.pyc\n",
      "│  │          __init__.cpython-37.pyc\n",
      "│  │          \n",
      "│  └─__pycache__\n",
      "│          CLI.cpython-37.pyc\n",
      "│          Converter.cpython-37.pyc\n",
      "│          UnitTable.cpython-37.pyc\n",
      "│          __init__.cpython-37.pyc\n",
      "│          \n",
      "├─unitconverter.egg-info\n",
      "│      dependency_links.txt\n",
      "│      entry_points.txt\n",
      "│      not-zip-safe\n",
      "│      PKG-INFO\n",
      "│      SOURCES.txt\n",
      "│      top_level.txt\n",
      "│      \n",
      "└─__pycache__ (1)\n",
      "        fibOp.cpython-37.pyc\n",
      "        \n"
     ]
    }
   ],
   "source": [
    "'''\n",
    "我們找到 packaged directory，就是內含：setup.py \n",
    "還有 package 內包含 CLI.py 等所有 module \n",
    "'''\n",
    "!tree/F unitconverter"
   ]
  },
  {
   "cell_type": "code",
   "execution_count": 5,
   "metadata": {},
   "outputs": [],
   "source": [
    "# 先移到 package 最頂端的 SCM\n",
    "os.chdir(course_directory + \"/Chapter09/unitconverter\")"
   ]
  },
  {
   "cell_type": "code",
   "execution_count": 6,
   "metadata": {},
   "outputs": [
    {
     "name": "stdout",
     "output_type": "stream",
     "text": [
      " 磁碟區 D 中的磁碟是 新增磁碟區\n",
      " 磁碟區序號:  E422-9B08\n",
      "\n",
      " D:\\Google雲端硬碟\\GettingStartedWithPythonAndRaspberryPi-book_release\\Chapter09\\unitconverter\\unitconverter 的目錄\n",
      "\n",
      "2020/11/16  上午 07:49    <DIR>          .\n",
      "2020/11/16  上午 07:49    <DIR>          ..\n",
      "2020/11/14  下午 02:44             4,402 CLI.py\n",
      "2020/11/14  下午 05:51             1,459 Converter.py\n",
      "2019/11/04  上午 06:56             1,475 UnitTable.py\n",
      "2020/11/16  上午 07:49    <DIR>          unit_tables\n",
      "2019/05/20  上午 09:12                 0 __init__.py\n",
      "2020/11/16  上午 07:49    <DIR>          __pycache__\n",
      "               4 個檔案           7,336 位元組\n",
      "               4 個目錄  895,655,219,200 位元組可用\n"
     ]
    }
   ],
   "source": [
    "!dir unitconverter"
   ]
  },
  {
   "cell_type": "markdown",
   "metadata": {},
   "source": [
    "## 分析 SCM 層 unitconverter 目錄底下：\n",
    "1. 先看 setup.py 中與 CLI 相關的 entry_points 部份\n",
    "2. 再到第二層的 unitconverter 底下，看 CLI.py 裏面的內容，如何得到以上的執行效果\n",
    "3. **請參考課本 p225，中的 UML diagram，能夠更了解以下各 modules 間的關聯：**\n",
    "    + CLI.py, \n",
    "    + Converter.py, \n",
    "    + UnitTable.py\n",
    "    + unit_tables"
   ]
  },
  {
   "cell_type": "code",
   "execution_count": 7,
   "metadata": {},
   "outputs": [
    {
     "name": "stdout",
     "output_type": "stream",
     "text": [
      "from setuptools import setup\n",
      "\n",
      "setup(\n",
      "    name='unitconverter',\n",
      "    version='0.1.0',\n",
      "    entry_points={\n",
      "        'console_scripts': ['unitconvert=unitconverter.CLI:run_cli'],\n",
      "    },\n",
      "    description='Command line tool for unit conversion',\n",
      "    classifiers=[\n",
      "        'Natural Language :: English',\n",
      "        'Programming Language :: Python :: 3.5',\n",
      "        'Programming Language :: Python :: 3.6',\n",
      "        'Programming Language :: Python :: 3.7',\n",
      "    ],\n",
      "    author='Dan Nixon',\n",
      "    packages=['unitconverter', 'unitconverter.unit_tables'],\n",
      "    include_package_data=True,\n",
      "    zip_safe=False)\n"
     ]
    }
   ],
   "source": [
    "!more setup.py"
   ]
  },
  {
   "cell_type": "code",
   "execution_count": 8,
   "metadata": {},
   "outputs": [],
   "source": [
    "# 先移到 package 最頂端的 SCM\n",
    "os.chdir(course_directory + \"/Chapter09/unitconverter/unitconverter\")"
   ]
  },
  {
   "cell_type": "code",
   "execution_count": 9,
   "metadata": {},
   "outputs": [
    {
     "name": "stdout",
     "output_type": "stream",
     "text": [
      " 磁碟區 D 中的磁碟是 新增磁碟區\n",
      " 磁碟區序號:  E422-9B08\n",
      "\n",
      " D:\\Google雲端硬碟\\GettingStartedWithPythonAndRaspberryPi-book_release\\Chapter09\\unitconverter\\unitconverter 的目錄\n",
      "\n",
      "2020/11/16  上午 07:49    <DIR>          .\n",
      "2020/11/16  上午 07:49    <DIR>          ..\n",
      "2020/11/14  下午 02:44             4,402 CLI.py\n",
      "2020/11/14  下午 05:51             1,459 Converter.py\n",
      "2019/11/04  上午 06:56             1,475 UnitTable.py\n",
      "2020/11/16  上午 07:49    <DIR>          unit_tables\n",
      "2019/05/20  上午 09:12                 0 __init__.py\n",
      "2020/11/16  上午 07:49    <DIR>          __pycache__\n",
      "               4 個檔案           7,336 位元組\n",
      "               4 個目錄  895,655,219,200 位元組可用\n"
     ]
    }
   ],
   "source": [
    "! dir"
   ]
  },
  {
   "cell_type": "markdown",
   "metadata": {},
   "source": [
    "## unitconverter 的功能介紹\n",
    "\n",
    "這個 CLI 的程式是在 setup 之後，在 console 可以要說明性的 help，長得如下：\n",
    "\n",
    "```python:\n",
    "usage: unitconvert [-h] TABLE {list,convert} ...\n",
    "\n",
    "Tool for converting units\n",
    "\n",
    "positional arguments:\n",
    "  TABLE           Unit table to use in conversion\n",
    "  {list,convert}  operation to be performed\n",
    "\n",
    "optional arguments:\n",
    "  -h, --help      show this help message and exit\n",
    "```"
   ]
  },
  {
   "cell_type": "code",
   "execution_count": 10,
   "metadata": {},
   "outputs": [
    {
     "name": "stderr",
     "output_type": "stream",
     "text": [
      "usage: unitconvert [-h] TABLE {list,convert} ...\n",
      "unitconvert: error: the following arguments are required: TABLE\n"
     ]
    }
   ],
   "source": [
    "!unitconvert"
   ]
  },
  {
   "cell_type": "code",
   "execution_count": 11,
   "metadata": {},
   "outputs": [
    {
     "name": "stdout",
     "output_type": "stream",
     "text": [
      "usage: unitconvert [-h] TABLE {list,convert} ...\n",
      "\n",
      "Tool for converting units\n",
      "\n",
      "positional arguments:\n",
      "  TABLE           Unit table to use in conversion\n",
      "  {list,convert}  operation to be performed\n",
      "\n",
      "optional arguments:\n",
      "  -h, --help      show this help message and exit\n"
     ]
    }
   ],
   "source": [
    "!unitconvert -h"
   ]
  },
  {
   "cell_type": "code",
   "execution_count": null,
   "metadata": {
    "ExecuteTime": {
     "end_time": "2018-05-28T15:12:33.187000Z",
     "start_time": "2018-05-28T15:12:33.171000Z"
    }
   },
   "outputs": [],
   "source": [
    "'''\n",
    "以下是從 CLI.py 最上面看到的：\n",
    "\n",
    "之後就直接使用 get_table, convert_units，而不再提是從 Converter.py 中所定義的。\n",
    "這是講 from module import {class, function, variable} 的語法\n",
    "可以不用把 module 的 hierarchy 寫出來\n",
    "'''\n",
    "from unitconverter.Converter import get_table, convert_units"
   ]
  },
  {
   "cell_type": "markdown",
   "metadata": {},
   "source": [
    "### 在 Converter.py 中的兩個最重要的函式：\n",
    "1. get_table\n",
    "2. covert_units"
   ]
  },
  {
   "cell_type": "code",
   "execution_count": null,
   "metadata": {},
   "outputs": [],
   "source": [
    "os.chdir(course_directory + \"/Chapter09/unitconverter/unitconverter\")"
   ]
  },
  {
   "cell_type": "code",
   "execution_count": 12,
   "metadata": {},
   "outputs": [
    {
     "name": "stdout",
     "output_type": "stream",
     "text": [
      " 磁碟區 D 中的磁碟是 新增磁碟區\n",
      " 磁碟區序號:  E422-9B08\n",
      "\n",
      " D:\\Google雲端硬碟\\GettingStartedWithPythonAndRaspberryPi-book_release\\Chapter09\\unitconverter\\unitconverter\\unit_tables 的目錄\n",
      "\n",
      "2020/11/16  上午 07:49    <DIR>          .\n",
      "2020/11/16  上午 07:49    <DIR>          ..\n",
      "2019/05/20  上午 09:12               360 angle.py\n",
      "2019/05/20  上午 09:12             1,178 energy.py\n",
      "2019/05/20  上午 09:12             1,451 length.py\n",
      "2019/05/20  上午 09:12               911 mass.py\n",
      "2019/05/20  上午 09:12               936 speed.py\n",
      "2019/05/20  上午 09:12               522 temperature.py\n",
      "2019/05/20  上午 09:12             1,157 time.py\n",
      "2019/05/20  上午 09:12                 0 __init__.py\n",
      "2020/11/16  上午 07:49    <DIR>          __pycache__\n",
      "               8 個檔案           6,515 位元組\n",
      "               3 個目錄  895,655,219,200 位元組可用\n"
     ]
    }
   ],
   "source": [
    "'''\n",
    "這是目前所有可以轉換的 table\n",
    "'''\n",
    "! dir unit_tables"
   ]
  },
  {
   "cell_type": "code",
   "execution_count": 15,
   "metadata": {},
   "outputs": [
    {
     "name": "stdout",
     "output_type": "stream",
     "text": [
      "10.000000 j = 62415064800000000000.000000 ev\n",
      "10.000000 j = 0.002778 wh\n"
     ]
    }
   ],
   "source": [
    "!unitconvert energy convert 10 j kal ev wh"
   ]
  },
  {
   "cell_type": "code",
   "execution_count": null,
   "metadata": {},
   "outputs": [],
   "source": []
  }
 ],
 "metadata": {
  "gist": {
   "data": {
    "description": "Ch09/Untitled.ipynb",
    "public": false
   },
   "id": ""
  },
  "kernelspec": {
   "display_name": "Python 3",
   "language": "python",
   "name": "python3"
  },
  "language_info": {
   "codemirror_mode": {
    "name": "ipython",
    "version": 3
   },
   "file_extension": ".py",
   "mimetype": "text/x-python",
   "name": "python",
   "nbconvert_exporter": "python",
   "pygments_lexer": "ipython3",
   "version": "3.7.1"
  }
 },
 "nbformat": 4,
 "nbformat_minor": 2
}
