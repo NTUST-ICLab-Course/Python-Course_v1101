{
 "cells": [
  {
   "cell_type": "markdown",
   "metadata": {},
   "source": [
    "## argparse — Parser for command-line options, arguments and sub-commands¶\n",
    "\n",
    "2020-11-16"
   ]
  },
  {
   "cell_type": "markdown",
   "metadata": {},
   "source": [
    "## Argparse Tutorial\n",
    "先來看 tutorial，熟悉相關名詞：positional/optional argument\n",
    "https://docs.python.org/3/howto/argparse.html#id1"
   ]
  },
  {
   "cell_type": "markdown",
   "metadata": {},
   "source": [
    "## Python Tutorial - Argparse\n",
    "https://www.youtube.com/watch?v=cdblJqEUDNo"
   ]
  },
  {
   "cell_type": "code",
   "execution_count": null,
   "metadata": {},
   "outputs": [],
   "source": [
    "%%HTML\n",
    "<iframe width=\"560\" height=\"315\" src=\"https://www.youtube.com/embed/cdblJqEUDNo\" frameborder=\"0\" allow=\"accelerometer; autoplay; clipboard-write; encrypted-media; gyroscope; picture-in-picture\" allowfullscreen></iframe>"
   ]
  },
  {
   "cell_type": "markdown",
   "metadata": {},
   "source": [
    "## Python Advanced Tutorial 3 - Argparse\n",
    "https://www.youtube.com/watch?v=rnatu3xxVQE\n",
    "\n",
    "這是一個用來計算 Fibonacci(n) 公式的小程式，我們嘗試直接用 command-line-interface 直接計算。"
   ]
  },
  {
   "cell_type": "markdown",
   "metadata": {},
   "source": [
    "The codes are from:\n",
    "https://www.mediafire.com/folder/bqni81kibz1d9/Tutorial_3_-_Argparse"
   ]
  },
  {
   "cell_type": "markdown",
   "metadata": {},
   "source": [
    "我遇到兩個問題：\n",
    "1. argparse 是 command line interface，是要在 shell 下的指令才有效\n",
    "2. 網頁提供的 code 不能貼在 jupyter notebook上，因為不能製造 shell command 後的 argument 的動作\n",
    "\n",
    "我將 code 另外在 jupyter notebook 上以 text file 貼入，然後改名為 fib.py\n",
    "要執行的時候，用 magic command 的：!python fib.py 來試出 shell command line 的效果"
   ]
  },
  {
   "cell_type": "code",
   "execution_count": 16,
   "metadata": {},
   "outputs": [
    {
     "name": "stdout",
     "output_type": "stream",
     "text": [
      "usage: fib.py [-h] num\n",
      "\n",
      "positional arguments:\n",
      "  num         The Fibonacci number you wish to calculate.\n",
      "\n",
      "optional arguments:\n",
      "  -h, --help  show this help message and exit\n"
     ]
    }
   ],
   "source": [
    "!python fib.py --help"
   ]
  },
  {
   "cell_type": "code",
   "execution_count": 17,
   "metadata": {},
   "outputs": [
    {
     "name": "stdout",
     "output_type": "stream",
     "text": [
      "The 10th fib number is 55\n"
     ]
    }
   ],
   "source": [
    "!python fib.py 10"
   ]
  },
  {
   "cell_type": "markdown",
   "metadata": {},
   "source": [
    "## 直接去看 code：\n",
    "1. fib.py 以及 \n",
    "2. fibEx.py"
   ]
  },
  {
   "cell_type": "code",
   "execution_count": 18,
   "metadata": {},
   "outputs": [
    {
     "name": "stdout",
     "output_type": "stream",
     "text": [
      "usage: fib.py [-h] num\n",
      "\n",
      "positional arguments:\n",
      "  num         The Fibonacci number you wish to calculate.\n",
      "\n",
      "optional arguments:\n",
      "  -h, --help  show this help message and exit\n"
     ]
    }
   ],
   "source": [
    "!python fib.py -h"
   ]
  },
  {
   "cell_type": "code",
   "execution_count": 19,
   "metadata": {},
   "outputs": [
    {
     "name": "stdout",
     "output_type": "stream",
     "text": [
      "The 13th fib number is 233\n"
     ]
    }
   ],
   "source": [
    "!python fib.py 13"
   ]
  },
  {
   "cell_type": "markdown",
   "metadata": {},
   "source": [
    "### fibex.py\n",
    "```python:\n",
    "import argparse\n",
    "\n",
    "def fib(n):\n",
    "    a, b = 0, 1\n",
    "    for i in range(n):\n",
    "        a, b = b, a+b\n",
    "    return a\n",
    "\n",
    "def main():\n",
    "    parser = argparse.ArgumentParser()\n",
    "    group = parser.add_mutually_exclusive_group()\n",
    "    group.add_argument(\"-v\", \"--verbose\", action=\"store_true\")\n",
    "    group.add_argument(\"-q\", \"--quiet\", action=\"store_true\")\n",
    "    parser.add_argument(\"num\", help=\"The Fibonacci number you wish to calculate.\", type=int)\n",
    "    parser.add_argument(\"-o\", \"--output\", help=\"Output the result to a file\", action=\"store_true\")\n",
    "\n",
    "    args = parser.parse_args()\n",
    "    \n",
    "    result = fib(args.num)\n",
    "    if args.verbose:\n",
    "        print(\"The \" + str(args.num)+ \"th fib number is \" + str(result))\n",
    "    elif args.quiet:\n",
    "        print(result)\n",
    "    else:\n",
    "        print(\"Fib(\"+str(args.num)+\") = \" + str(result))\n",
    "\n",
    "    if args.output:\n",
    "        f = open(\"fibonacci.txt\",\"a\")\n",
    "        f.write(str(result) + '\\n')\n",
    "\n",
    "if __name__ == '__main__':\n",
    "    main()\n",
    "```"
   ]
  },
  {
   "cell_type": "code",
   "execution_count": 6,
   "metadata": {},
   "outputs": [
    {
     "name": "stdout",
     "output_type": "stream",
     "text": [
      "The 12th fib number is 144\n"
     ]
    }
   ],
   "source": [
    "!python fib.py 12 "
   ]
  },
  {
   "cell_type": "code",
   "execution_count": 20,
   "metadata": {},
   "outputs": [
    {
     "name": "stdout",
     "output_type": "stream",
     "text": [
      "usage: fibEx.py [-h] [-v | -q] [-o] num\n",
      "\n",
      "positional arguments:\n",
      "  num            The Fibonacci number you wish to calculate.\n",
      "\n",
      "optional arguments:\n",
      "  -h, --help     show this help message and exit\n",
      "  -v, --verbose\n",
      "  -q, --quiet\n",
      "  -o, --output   Output the result to a file\n"
     ]
    }
   ],
   "source": [
    "!python fibEx.py -h"
   ]
  },
  {
   "cell_type": "code",
   "execution_count": 21,
   "metadata": {},
   "outputs": [
    {
     "name": "stdout",
     "output_type": "stream",
     "text": [
      "144\n"
     ]
    }
   ],
   "source": [
    "!python fibEx.py 12 -q"
   ]
  },
  {
   "cell_type": "code",
   "execution_count": 22,
   "metadata": {},
   "outputs": [
    {
     "name": "stdout",
     "output_type": "stream",
     "text": [
      "The 12th fib number is 144\n"
     ]
    }
   ],
   "source": [
    "!python fibEx.py 12 -v"
   ]
  },
  {
   "cell_type": "code",
   "execution_count": 23,
   "metadata": {},
   "outputs": [
    {
     "name": "stderr",
     "output_type": "stream",
     "text": [
      "usage: fibEx.py [-h] [-v | -q] [-o] num\n",
      "fibEx.py: error: argument -q/--quiet: not allowed with argument -v/--verbose\n"
     ]
    }
   ],
   "source": [
    "!python fibEx.py 12 -vq"
   ]
  },
  {
   "cell_type": "code",
   "execution_count": 24,
   "metadata": {},
   "outputs": [
    {
     "name": "stdout",
     "output_type": "stream",
     "text": [
      "Fib(12) = 144\n"
     ]
    }
   ],
   "source": [
    "!python fibEx.py 12 -o"
   ]
  },
  {
   "cell_type": "code",
   "execution_count": 25,
   "metadata": {},
   "outputs": [
    {
     "name": "stdout",
     "output_type": "stream",
     "text": [
      "Fib(122) = 14028366653498915298923761\n"
     ]
    }
   ],
   "source": [
    "!python fibEx.py 122 --output"
   ]
  },
  {
   "cell_type": "markdown",
   "metadata": {},
   "source": [
    "## argparse — Parser for command-line options, arguments and sub-commands\n",
    "**更完整的 doc 請參考如下：**\n",
    "https://docs.python.org/3/library/argparse.html"
   ]
  },
  {
   "cell_type": "markdown",
   "metadata": {},
   "source": [
    "## Python Tutorial for Beginners 46 - Command Line Arguments in Python with argparse\n",
    "https://www.youtube.com/watch?v=QILBGC7TApM\n",
    "印度腔"
   ]
  },
  {
   "cell_type": "markdown",
   "metadata": {},
   "source": [
    "## Python Tutorial: \n",
    "```python:\n",
    "if __name__ == '__main__':\n",
    "    main()\n",
    "```\n",
    "\n",
    "https://www.youtube.com/watch?v=sugvnHA7ElY\n",
    "\n",
    "重點：假設有一個程式叫 first_module.pa\n",
    "1. 如果是直接由 python 中被執行，其 \\_\\_main\\_\\_ (變數) 的值就會是 \\_\\_main\\_\\_. \n",
    "2. 相對而言，如果，它是在其他的程式 (second_modlue) 中，以 import first_module 的形式引入，則 其 \\_\\_main\\_\\_ (變數) 的值就會是 first_module.\n",
    "\n",
    "按上面規則，if \\_\\_name\\_\\_ == '\\_\\_main\\_\\_' 講的白話就是，是否為直接執行本 module。\\\n",
    "等效的意思就是，當直接執行我的話，就"
   ]
  },
  {
   "cell_type": "code",
   "execution_count": 26,
   "metadata": {},
   "outputs": [],
   "source": [
    "import fib"
   ]
  },
  {
   "cell_type": "code",
   "execution_count": 27,
   "metadata": {},
   "outputs": [
    {
     "name": "stdout",
     "output_type": "stream",
     "text": [
      "fib\n"
     ]
    }
   ],
   "source": [
    "print(fib.__name__)"
   ]
  },
  {
   "cell_type": "code",
   "execution_count": 28,
   "metadata": {},
   "outputs": [
    {
     "data": {
      "text/plain": [
       "'__main__'"
      ]
     },
     "execution_count": 28,
     "metadata": {},
     "output_type": "execute_result"
    }
   ],
   "source": [
    "# 目前執行 jupyter notebook 這個主線程\n",
    "__name__"
   ]
  },
  {
   "cell_type": "code",
   "execution_count": null,
   "metadata": {},
   "outputs": [],
   "source": []
  }
 ],
 "metadata": {
  "kernelspec": {
   "display_name": "Python 3",
   "language": "python",
   "name": "python3"
  },
  "language_info": {
   "codemirror_mode": {
    "name": "ipython",
    "version": 3
   },
   "file_extension": ".py",
   "mimetype": "text/x-python",
   "name": "python",
   "nbconvert_exporter": "python",
   "pygments_lexer": "ipython3",
   "version": "3.7.1"
  }
 },
 "nbformat": 4,
 "nbformat_minor": 2
}
